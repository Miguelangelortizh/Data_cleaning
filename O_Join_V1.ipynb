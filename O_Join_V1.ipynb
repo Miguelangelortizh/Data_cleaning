{
 "metadata": {
  "language_info": {
   "codemirror_mode": {
    "name": "ipython",
    "version": 3
   },
   "file_extension": ".py",
   "mimetype": "text/x-python",
   "name": "python",
   "nbconvert_exporter": "python",
   "pygments_lexer": "ipython3",
   "version": "3.8.5"
  },
  "orig_nbformat": 2,
  "kernelspec": {
   "name": "python385jvsc74a57bd0b3ba2566441a7c06988d0923437866b63cedc61552a5af99d1f4fb67d367b25f",
   "display_name": "Python 3.8.5 64-bit ('base': conda)"
  }
 },
 "nbformat": 4,
 "nbformat_minor": 2,
 "cells": [
  {
   "cell_type": "code",
   "execution_count": 2,
   "metadata": {},
   "outputs": [],
   "source": [
    "#Cargamos los paquetes que vamos a necesitar\n",
    "import pandas as pd\n",
    "import numpy as np\n",
    "import pyreadstat\n",
    "import pyarrow.feather as feather\n",
    "pd.pandas.set_option('display.max_columns', None)"
   ]
  },
  {
   "cell_type": "code",
   "execution_count": 3,
   "metadata": {},
   "outputs": [
    {
     "output_type": "stream",
     "name": "stderr",
     "text": [
      "C:\\ProgramData\\Anaconda3\\lib\\site-packages\\IPython\\core\\interactiveshell.py:3146: DtypeWarning: Columns (55,56,181,183,184,185,186,215,216,217,221,222,223,225,226,227,228,229,230,231,232,234,235,236,250,251,252,253,254,255,256,258,269,270,271,272,273,274,275,276,277,278,279,280,281,282,283,284,285,286,338,340,341,343,344) have mixed types.Specify dtype option on import or set low_memory=False.\n  has_raised = await self.run_ast_nodes(code_ast.body, cell_name,\n"
     ]
    }
   ],
   "source": [
    "# Se carga el archivo tratado del FT005 que fue grabado como causaprestador\n",
    "df1 = pd.read_csv('C:/Users/Miguel Angel/OneDrive - Universidad EAFIT/Oscar_bases/dato.csv')"
   ]
  },
  {
   "cell_type": "code",
   "execution_count": 5,
   "metadata": {},
   "outputs": [],
   "source": [
    "# Se carga el archivo tratado del FT005 que fue grabado como causaprestador\n",
    "df2 = pd.read_csv('C:/Users/Miguel Angel/OneDrive - Universidad EAFIT/Oscar_bases/dato_b.csv')"
   ]
  },
  {
   "cell_type": "code",
   "execution_count": 11,
   "metadata": {},
   "outputs": [
    {
     "output_type": "stream",
     "name": "stdout",
     "text": [
      "El número de registros duplicados es:\n0\n"
     ]
    }
   ],
   "source": [
    "# Se comprueba que no haya duplicados \n",
    "duplicados_df2 = df2[df2.duplicated(['DIRECTORIO'], keep='last')]\n",
    "print(\"El número de registros duplicados es:\", duplicados_df2.DIRECTORIO.count(), sep='\\n')"
   ]
  },
  {
   "cell_type": "code",
   "execution_count": 12,
   "metadata": {},
   "outputs": [
    {
     "output_type": "stream",
     "name": "stdout",
     "text": [
      "El número de registros duplicados es:\n36271\n"
     ]
    }
   ],
   "source": [
    "# Se comprueba que no haya duplicados cuando se filtra por Nitproveedor. Para esto se cuenta el número de duplicados\n",
    "duplicados_df1 = df1[df1.duplicated(['DIRECTORIO'], keep='last')]\n",
    "print(\"El número de registros duplicados es:\", duplicados_df1.DIRECTORIO.count(), sep='\\n')"
   ]
  },
  {
   "cell_type": "code",
   "execution_count": 6,
   "metadata": {},
   "outputs": [
    {
     "output_type": "execute_result",
     "data": {
      "text/plain": [
       "Index(['DIRECTORIO', 'SECUENCIA_P', 'ORDEN', 'P1144S1', 'P1144S1A1',\n",
       "       'P1144S1A2', 'P1144S2', 'P1144S2A1', 'P1144S2A2', 'P1144S3',\n",
       "       ...\n",
       "       'P1121S3A2', 'P1121S3A3', 'P1120', 'P1120S1', 'P1120S2', 'P1120S3',\n",
       "       'P1120S4', 'P1120S5', 'P1120S6', 'P1120S7'],\n",
       "      dtype='object', length=369)"
      ]
     },
     "metadata": {},
     "execution_count": 6
    }
   ],
   "source": [
    "df1.columns"
   ]
  },
  {
   "cell_type": "code",
   "execution_count": 7,
   "metadata": {},
   "outputs": [
    {
     "output_type": "execute_result",
     "data": {
      "text/plain": [
       "Index(['DIRECTORIO', 'FEX_C', 'REGION', 'DIA_REFERENCIA_2', 'clase', 'P424',\n",
       "       'P4030S1', 'P4030S1A1', 'P4030S5', 'P4030S3', 'P4030S4', 'P4030S4A1',\n",
       "       'P4030S2', 'P4020'],\n",
       "      dtype='object')"
      ]
     },
     "metadata": {},
     "execution_count": 7
    }
   ],
   "source": [
    "df2.columns"
   ]
  },
  {
   "cell_type": "code",
   "execution_count": null,
   "metadata": {},
   "outputs": [],
   "source": [
    "# # Se eliminan las columnas que no son de interés\r\n",
    "# FT003 = FT003.drop(['index'], axis=1)"
   ]
  },
  {
   "cell_type": "code",
   "execution_count": 8,
   "metadata": {},
   "outputs": [],
   "source": [
    "# Se unen las dos bases de datos para obtener la información de FT004 y FT003 en una sola base de datos\n",
    "df = pd.merge(df1, df2, how='left', left_on=['DIRECTORIO'], right_on=['DIRECTORIO'])"
   ]
  },
  {
   "cell_type": "code",
   "execution_count": 9,
   "metadata": {},
   "outputs": [],
   "source": [
    "# Para guardar la base de datos lista para ser tratada en formato Excel y CSV\n",
    "df.to_excel(r'C:/Users/Miguel Angel/OneDrive - Universidad EAFIT/Oscar_bases/datos_V2.xlsx', index = False)\n",
    "df.to_csv(r'C:/Users/Miguel Angel/OneDrive - Universidad EAFIT/Oscar_bases/datos_V2.csv', index = False, encoding='utf-8-sig')\n",
    "feather.write_feather(df, 'C:/Users/Miguel Angel/OneDrive - Universidad EAFIT/Oscar_bases/datos_V2.feather') # Esta línea guarda la base de datos en binario para optimizar el tiempo de cargay el espacio"
   ]
  },
  {
   "cell_type": "code",
   "execution_count": null,
   "metadata": {},
   "outputs": [],
   "source": []
  }
 ]
}