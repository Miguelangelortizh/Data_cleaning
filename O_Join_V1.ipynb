{
 "metadata": {
  "language_info": {
   "codemirror_mode": {
    "name": "ipython",
    "version": 3
   },
   "file_extension": ".py",
   "mimetype": "text/x-python",
   "name": "python",
   "nbconvert_exporter": "python",
   "pygments_lexer": "ipython3",
   "version": "3.8.5"
  },
  "orig_nbformat": 2,
  "kernelspec": {
   "name": "python385jvsc74a57bd0b3ba2566441a7c06988d0923437866b63cedc61552a5af99d1f4fb67d367b25f",
   "display_name": "Python 3.8.5 64-bit ('base': conda)"
  }
 },
 "nbformat": 4,
 "nbformat_minor": 2,
 "cells": [
  {
   "cell_type": "code",
   "execution_count": 1,
   "metadata": {},
   "outputs": [],
   "source": [
    "#Cargamos los paquetes que vamos a necesitar\n",
    "import pandas as pd\n",
    "import numpy as np\n",
    "import pyreadstat\n",
    "import pyarrow.feather as feather\n",
    "pd.pandas.set_option('display.max_columns', None)"
   ]
  },
  {
   "cell_type": "code",
   "execution_count": 2,
   "metadata": {},
   "outputs": [],
   "source": [
    "# Se carga el archivo tratado del FT005 que fue grabado como causaprestador\n",
    "df1 = pd.read_csv('C:/Users/Miguel Angel/OneDrive - Universidad EAFIT/Oscar_bases/CAPITULO I. USO DEL TIEMPO.txt', delimiter = \"\\t\")"
   ]
  },
  {
   "cell_type": "code",
   "execution_count": 3,
   "metadata": {},
   "outputs": [],
   "source": [
    "# Se carga el archivo tratado del FT005 que fue grabado como causaprestador\n",
    "df2 = pd.read_csv('C:/Users/Miguel Angel/OneDrive - Universidad EAFIT/Oscar_bases/CAPITULO B. CONDICIONES DE LA VIVIENDA.txt', delimiter = \"\\t\")"
   ]
  },
  {
   "cell_type": "code",
   "execution_count": 4,
   "metadata": {},
   "outputs": [
    {
     "output_type": "stream",
     "name": "stdout",
     "text": [
      "El número de registros duplicados es:\n0\n"
     ]
    }
   ],
   "source": [
    "# Se comprueba que no haya duplicados \n",
    "duplicados_df2 = df2[df2.duplicated(['DIRECTORIO'], keep='last')]\n",
    "print(\"El número de registros duplicados es:\", duplicados_df2.DIRECTORIO.count(), sep='\\n')"
   ]
  },
  {
   "cell_type": "code",
   "execution_count": 5,
   "metadata": {},
   "outputs": [
    {
     "output_type": "stream",
     "name": "stdout",
     "text": [
      "El número de registros duplicados es:\n81031\n"
     ]
    }
   ],
   "source": [
    "# Se comprueba que no haya duplicados cuando se filtra por Nitproveedor. Para esto se cuenta el número de duplicados\n",
    "duplicados_df1 = df1[df1.duplicated(['DIRECTORIO'], keep='last')]\n",
    "print(\"El número de registros duplicados es:\", duplicados_df1.DIRECTORIO.count(), sep='\\n')"
   ]
  },
  {
   "cell_type": "code",
   "execution_count": 6,
   "metadata": {},
   "outputs": [
    {
     "output_type": "execute_result",
     "data": {
      "text/plain": [
       "Index(['DIRECTORIO', 'SECUENCIA_P', 'ORDEN', 'P1144S1', 'P1144S1A1',\n",
       "       'P1144S1A2', 'P1144S2', 'P1144S2A1', 'P1144S2A2', 'P1144S3',\n",
       "       ...\n",
       "       'P1121S3A2', 'P1121S3A3', 'P1120', 'P1120S1', 'P1120S2', 'P1120S3',\n",
       "       'P1120S4', 'P1120S5', 'P1120S6', 'P1120S7'],\n",
       "      dtype='object', length=369)"
      ]
     },
     "metadata": {},
     "execution_count": 6
    }
   ],
   "source": [
    "df1.columns"
   ]
  },
  {
   "cell_type": "code",
   "execution_count": 7,
   "metadata": {},
   "outputs": [
    {
     "output_type": "execute_result",
     "data": {
      "text/plain": [
       "Index(['DIRECTORIO', 'FEX_C', 'REGION', 'DIA_REFERENCIA_2', 'clase', 'P424',\n",
       "       'P4030S1', 'P4030S1A1', 'P4030S5', 'P4030S3', 'P4030S4', 'P4030S4A1',\n",
       "       'P4030S2', 'P4020'],\n",
       "      dtype='object')"
      ]
     },
     "metadata": {},
     "execution_count": 7
    }
   ],
   "source": [
    "df2.columns"
   ]
  },
  {
   "cell_type": "code",
   "execution_count": 8,
   "metadata": {},
   "outputs": [],
   "source": [
    "# # Se eliminan las columnas que no son de interés\n",
    "# FT003 = FT003.drop(['index'], axis=1)"
   ]
  },
  {
   "cell_type": "code",
   "execution_count": 9,
   "metadata": {},
   "outputs": [],
   "source": [
    "# Se unen las dos bases de datos para obtener la información de FT004 y FT003 en una sola base de datos\n",
    "df = pd.merge(df1, df2, how='left', left_on=['DIRECTORIO'], right_on=['DIRECTORIO'])"
   ]
  },
  {
   "cell_type": "code",
   "execution_count": 11,
   "metadata": {},
   "outputs": [],
   "source": [
    "# df = pd.read_feather('C:/Users/Miguel Angel/OneDrive - Universidad EAFIT/Oscar_bases/datos_V2_feather')"
   ]
  },
  {
   "cell_type": "code",
   "execution_count": 10,
   "metadata": {},
   "outputs": [],
   "source": [
    "# Se carga el archivo tratado del FT005 que fue grabado como causaprestador\n",
    "df3  = pd.read_csv('C:/Users/Miguel Angel/OneDrive - Universidad EAFIT/Oscar_bases/CAPITULO H. FUERZA DE TRABAJO - Uso del tiempo e ingresos.txt', delimiter = \"\\t\")"
   ]
  },
  {
   "cell_type": "code",
   "execution_count": 12,
   "metadata": {},
   "outputs": [
    {
     "output_type": "stream",
     "name": "stdout",
     "text": [
      "El número de registros duplicados es:\n0\n"
     ]
    }
   ],
   "source": [
    "# Se comprueba que no haya duplicados cuando se filtra por Nitproveedor. Para esto se cuenta el número de duplicados\n",
    "duplicados_df3 = df3[df3.duplicated(['DIRECTORIO', 'SECUENCIA_P', 'ORDEN'], keep='last')]\n",
    "print(\"El número de registros duplicados es:\", duplicados_df3.DIRECTORIO.count(), sep='\\n')"
   ]
  },
  {
   "cell_type": "code",
   "execution_count": 16,
   "metadata": {},
   "outputs": [],
   "source": [
    "# Se unen las dos bases de datos para obtener la información de FT004 y FT003 en una sola base de datos\n",
    "df = pd.merge(df, df3, how='left', left_on=['DIRECTORIO', 'SECUENCIA_P', 'ORDEN'], right_on=['DIRECTORIO', 'SECUENCIA_P', 'ORDEN'])"
   ]
  },
  {
   "cell_type": "code",
   "execution_count": 17,
   "metadata": {},
   "outputs": [],
   "source": [
    "# Se carga el archivo tratado del FT005 que fue grabado como causaprestador\n",
    "df4  = pd.read_csv('C:/Users/Miguel Angel/OneDrive - Universidad EAFIT/Oscar_bases/CAPITULO_G_EDUCACION.txt', delimiter = \"\\t\")"
   ]
  },
  {
   "cell_type": "code",
   "execution_count": 20,
   "metadata": {},
   "outputs": [
    {
     "output_type": "stream",
     "name": "stdout",
     "text": [
      "El número de registros duplicados es:\n0\n"
     ]
    }
   ],
   "source": [
    "# Se comprueba que no haya duplicados \n",
    "duplicados_df4 = df4[df4.duplicated(['DIRECTORIO', 'SECUENCIA_P', 'ORDEN'], keep='last')]\n",
    "print(\"El número de registros duplicados es:\", duplicados_df4.DIRECTORIO.count(), sep='\\n')"
   ]
  },
  {
   "cell_type": "code",
   "execution_count": 22,
   "metadata": {},
   "outputs": [],
   "source": [
    "# Se unen las dos bases de datos para obtener la información de FT004 y FT003 en una sola base de datos\n",
    "df = pd.merge(df, df4, how='left', left_on=['DIRECTORIO', 'SECUENCIA_P', 'ORDEN'], right_on=['DIRECTORIO', 'SECUENCIA_P', 'ORDEN'])"
   ]
  },
  {
   "cell_type": "code",
   "execution_count": 23,
   "metadata": {},
   "outputs": [],
   "source": [
    "# Para guardar la base de datos lista para ser tratada en formato Excel y CSV\n",
    "df.to_excel(r'C:/Users/Miguel Angel/OneDrive - Universidad EAFIT/Oscar_bases/datos_V3.xlsx', index = False)\n",
    "df.to_csv(r'C:/Users/Miguel Angel/OneDrive - Universidad EAFIT/Oscar_bases/datos_V3.csv', index = False, encoding='utf-8-sig')\n",
    "feather.write_feather(df, 'C:/Users/Miguel Angel/OneDrive - Universidad EAFIT/Oscar_bases/datos_V3_feather') # Esta línea guarda la base de datos en binario para optimizar el tiempo de cargay el espacio"
   ]
  },
  {
   "cell_type": "code",
   "execution_count": null,
   "metadata": {},
   "outputs": [],
   "source": []
  }
 ]
}