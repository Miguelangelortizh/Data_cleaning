{
 "cells": [
  {
   "cell_type": "markdown",
   "metadata": {},
   "source": [
    "<h2>FT005</h2>\r\n",
    "<p> En este apartado se trata la base de datos FT005 </p>"
   ]
  },
  {
   "cell_type": "code",
   "execution_count": null,
   "metadata": {},
   "outputs": [],
   "source": [
    "#Cargamos los paquetes que vamos a necesitar\n",
    "import pandas as pd\n",
    "import numpy as np\n",
    "import pyreadstat\n",
    "import pyarrow.feather as feather"
   ]
  },
  {
   "cell_type": "code",
   "execution_count": null,
   "metadata": {},
   "outputs": [],
   "source": [
    "%%time\n",
    "# Se carga el FT005 completo desde el archivo .dta\n",
    "FT005_2020 = pd.read_stata('C:/Users/Miguel Angel/Documents/Supersalud/Pagos_EPS_Proveedores/Informe_Pagos/FT005 20202021.dta')"
   ]
  },
  {
   "cell_type": "code",
   "execution_count": null,
   "metadata": {},
   "outputs": [],
   "source": [
    "# Eliminamos los años que no nos interesa del FT007\n",
    "# Se encuentran las observaciones que cumplen las condiciones\n",
    "df_filtered = FT005_2020[\n",
    "    (FT005_2020['Año'] == '2021')\n",
    "    ].index"
   ]
  },
  {
   "cell_type": "code",
   "execution_count": null,
   "metadata": {},
   "outputs": [],
   "source": [
    "# Se eliminan las observaciones que cumplen las condiciones anteriore\n",
    "FT005_2020 = FT005_2020.drop(df_filtered)"
   ]
  },
  {
   "cell_type": "code",
   "execution_count": null,
   "metadata": {},
   "outputs": [],
   "source": [
    "%%time\n",
    "# Se carga el FT005 completo desde el archivo .dta\n",
    "FT005_2021 = pd.read_stata('C:/Users/Miguel Angel/Documents/Supersalud/Pagos_EPS_Proveedores/Informe_Pagos/FT005_202104.dta')"
   ]
  },
  {
   "cell_type": "code",
   "execution_count": null,
   "metadata": {},
   "outputs": [],
   "source": [
    "FT005_2021['Nit'] = FT005_2021['Nit'].str.replace(r'ï»¿', '')"
   ]
  },
  {
   "cell_type": "code",
   "execution_count": null,
   "metadata": {},
   "outputs": [],
   "source": [
    "# Se modifican los nombres de las columnas para posterimente pegar las bases de datos\n",
    "FT005_2021.rename(columns={'razonsocial': 'RazonSocial'}, inplace=True)"
   ]
  },
  {
   "cell_type": "code",
   "execution_count": null,
   "metadata": {},
   "outputs": [],
   "source": [
    "# Se eliminan las columnas que no son de interés\n",
    "FT005_2021 = FT005_2021.drop(['Id','IdGnMaestroArchivo'], axis=1)"
   ]
  },
  {
   "cell_type": "code",
   "execution_count": null,
   "metadata": {},
   "outputs": [],
   "source": []
  },
  {
   "cell_type": "code",
   "execution_count": null,
   "metadata": {},
   "outputs": [],
   "source": [
    "# Se concatenan la bases de datos para encontrar la base de datos final\n",
    "frames = [FT005_2021, FT005_2020]\n",
    "FT005 = pd.concat(frames, ignore_index=True)"
   ]
  },
  {
   "cell_type": "code",
   "execution_count": null,
   "metadata": {},
   "outputs": [],
   "source": [
    "FT005.columns"
   ]
  },
  {
   "cell_type": "code",
   "execution_count": null,
   "metadata": {},
   "outputs": [],
   "source": [
    "del [FT005_2021, FT005_2020, df_filtered, frames]"
   ]
  },
  {
   "cell_type": "code",
   "execution_count": null,
   "metadata": {},
   "outputs": [],
   "source": [
    "#Se transforman las variables a STR para mejorar su manipulación\n",
    "# FT005.Nit = FT005.Nit.astype(str)"
   ]
  },
  {
   "cell_type": "code",
   "execution_count": null,
   "metadata": {},
   "outputs": [],
   "source": [
    "#Se elije una sola EPS para hacer más fácil el análisis\n",
    "# FT005_V1 = FEBRERO.loc[FEBRERO['Nit'] == '805000427']"
   ]
  },
  {
   "cell_type": "code",
   "execution_count": null,
   "metadata": {},
   "outputs": [],
   "source": [
    "# Para guardar la base de datos ejemplo a tratar\n",
    "# FT005_V1.to_excel(r'FT005_V1.xlsx', index = False)"
   ]
  },
  {
   "cell_type": "code",
   "execution_count": null,
   "metadata": {},
   "outputs": [],
   "source": [
    "# Se elimina el FT005 full para liberar espacio en la memoria\n",
    "# del FT005"
   ]
  },
  {
   "cell_type": "code",
   "execution_count": null,
   "metadata": {},
   "outputs": [],
   "source": [
    "# Se carga la base de datos con una sola EPS para agilizar el código\n",
    "# FT005 = pd.read_excel('FT005_V1.xlsx', dtype={'Nit':object, 'Año': object, 'idProveedor':object, 'Periodo':object})"
   ]
  },
  {
   "cell_type": "code",
   "execution_count": null,
   "metadata": {},
   "outputs": [],
   "source": [
    "%%time\n",
    "# Se reemplazan los nombres de las columnas para facilitar el tratamiento\n",
    "\n",
    "FT005.rename(columns={'Nit': 'NIT_EPS', 'Año': 'Ano', 'Periodo': 'Mes', 'lineaNegocio': 'Linea','tipoIdProveedor': 'Tipoproveedor', 'idProveedor': 'Nitproveedor', 'codigoConcepto': 'Concepto', 'descripcionCyG': 'CyG', 'valorCausado': 'VCausado', 'valorPagado': 'VPagado'}, inplace=True)"
   ]
  },
  {
   "cell_type": "code",
   "execution_count": null,
   "metadata": {},
   "outputs": [],
   "source": [
    "# Se cuenta el número de duplicados para hacer la respectiva corrección del tipo id deudor\n",
    "df_razonsocial = FT005.groupby(['Nitproveedor', 'nombreProveedor']).size().reset_index().rename(columns={0:'Cuenta_FT05'})"
   ]
  },
  {
   "cell_type": "code",
   "execution_count": null,
   "metadata": {},
   "outputs": [],
   "source": [
    "# Para guardar la base de datos lista para ser tratada en formato Excel y CSV\n",
    "df_razonsocial.to_excel(r'C:/Users/Miguel Angel/Documents/Supersalud/Pagos_EPS_Proveedores/df_razonsocial_FT005_V2.xlsx', index = False)"
   ]
  },
  {
   "cell_type": "code",
   "execution_count": null,
   "metadata": {},
   "outputs": [],
   "source": [
    "#Se transforman las variables a STR para mejorar su manipulación\n",
    "FT005[['NIT_EPS', 'Nitproveedor', 'Tipoproveedor', 'Mes', 'Ano']] = FT005[['NIT_EPS', 'Nitproveedor', 'Tipoproveedor', 'Mes', 'Ano']].astype(str)"
   ]
  },
  {
   "cell_type": "code",
   "execution_count": null,
   "metadata": {},
   "outputs": [],
   "source": [
    "# Se filtra la línea de negocio de interés. En este caso corresponde a la línea 1\n",
    "FT005 = FT005.loc[FT005['Linea'] == 1]"
   ]
  },
  {
   "cell_type": "code",
   "execution_count": null,
   "metadata": {},
   "outputs": [],
   "source": [
    "# Para hacer la suma de Valor pagado y Valor causado por NIT EPS, tipo de proveedor, NIT proveedor y Mes de interés\n",
    "FT005 = FT005.groupby(['NIT_EPS', 'Tipoproveedor', 'Nitproveedor', 'Mes', 'Ano']).agg({'VPagado': 'sum','VCausado': 'sum'}).reset_index()"
   ]
  },
  {
   "cell_type": "code",
   "execution_count": null,
   "metadata": {},
   "outputs": [],
   "source": [
    "# Se comprueba que no haya duplicados cuando se filtra por NIT EPS, tipo de proveedor, NIT proveedor y Mes. Para esto se cuenta el número de duplicados\n",
    "duplicadosFT005 = FT005[FT005.duplicated(['NIT_EPS', 'Nitproveedor', 'Mes', 'Ano'], keep='last')]\n",
    "print(\"El número de registros duplicados es:\", duplicadosFT005.NIT_EPS.count(), sep='\\n')"
   ]
  },
  {
   "cell_type": "code",
   "execution_count": null,
   "metadata": {},
   "outputs": [],
   "source": [
    "# Se genera una nueva columna extrayendo el primer caracter del ID nitproveedor\n",
    "FT005['d1'] = FT005['Nitproveedor'].str[:1]"
   ]
  },
  {
   "cell_type": "code",
   "execution_count": null,
   "metadata": {},
   "outputs": [],
   "source": [
    "# Se genera una nueva columna con la cuenta del numero de componentes que tiene el ID nitproveedor\n",
    "FT005['largo'] = FT005.Nitproveedor.str.len()"
   ]
  },
  {
   "cell_type": "code",
   "execution_count": null,
   "metadata": {},
   "outputs": [],
   "source": [
    "# Se cuenta el número de duplicados para hacer la respectiva corrección del tipo id deudor\n",
    "df_tipoproveedor = FT005.groupby(['NIT_EPS', 'Nitproveedor', 'Mes', 'Ano']).size().reset_index().rename(columns={0:'d'})\n",
    "# df_tipoiddeudor.sort_values(by='d', ascending=False)"
   ]
  },
  {
   "cell_type": "code",
   "execution_count": null,
   "metadata": {},
   "outputs": [],
   "source": [
    "# Se crea la unión de del FT003 con la cuenta de repetidos según NIT EPS, NIT proveedor, mes y año\n",
    "FT005 = FT005.merge(df_tipoproveedor, left_on=['NIT_EPS', 'Nitproveedor', 'Mes', 'Ano'], right_on=['NIT_EPS', 'Nitproveedor', 'Mes', 'Ano'], how='left')"
   ]
  },
  {
   "cell_type": "code",
   "execution_count": null,
   "metadata": {},
   "outputs": [],
   "source": [
    "# Se limpia la clasificación por Tipo de Proveedor\n",
    "FT005['Tipoproveedor_corregido'] = FT005['Tipoproveedor'] # Se crea la columna con categoria NA como base\n",
    "# Condiciones\n",
    "FT005.loc[(FT005['Tipoproveedor_corregido'] == 'NA') &\n",
    "       (FT005['largo'] == 10) & # Para signar el tipo de proveedor CC\n",
    "       (FT005['d1'] == '1'), \n",
    "       'Tipoproveedor_corregido'] = 'CC' \n",
    "\n",
    "FT005.loc[(FT005['Tipoproveedor_corregido'] == 'NA') &\n",
    "       (FT005['largo'] == 9) & # Para signar el tipo de proveedor NI\n",
    "       ((FT005['d1'] == '7') |\n",
    "       (FT005['d1'] == '8') |\n",
    "       (FT005['d1'] == '9')),  \n",
    "       'Tipoproveedor_corregido'] = 'NI' \n",
    "\n",
    "FT005.loc[(FT005['Tipoproveedor_corregido'] == 'NA') &\n",
    "       (FT005['Tipoproveedor_corregido'] != 'NI'), # Para completar el tipo de proveedor CC\n",
    "       'Tipoproveedor_corregido'] = 'CC' \n",
    "\n",
    "FT005.loc[(FT005['Tipoproveedor_corregido'] == 'NA') &\n",
    "       (FT005['largo'] == 9), # Para completar el tipo de proveedor CC\n",
    "       'Tipoproveedor_corregido'] = 'CC' "
   ]
  },
  {
   "cell_type": "code",
   "execution_count": null,
   "metadata": {},
   "outputs": [],
   "source": [
    "# Se filtra el dataframe con las observaciones que cumplen las condiciones\n",
    "FT004_V2 = FT005[\n",
    "    (FT005['Tipoproveedor_corregido'] == 'NA')\n",
    "    ]"
   ]
  },
  {
   "cell_type": "code",
   "execution_count": null,
   "metadata": {},
   "outputs": [],
   "source": [
    "print(FT005.Tipoproveedor.value_counts())\n",
    "print(FT005.Tipoproveedor_corregido.value_counts())"
   ]
  },
  {
   "cell_type": "code",
   "execution_count": null,
   "metadata": {},
   "outputs": [],
   "source": [
    "print(FT005.Tipoproveedor.value_counts())\n",
    "print(FT005.Tipoproveedor_corregido.value_counts())"
   ]
  },
  {
   "cell_type": "code",
   "execution_count": null,
   "metadata": {},
   "outputs": [],
   "source": [
    "# # Se crea una lista de condiciones simultaneas para asignar el tipo de proveedor\n",
    "\n",
    "# condiciones = [\n",
    "#     (FT005_V2['largo'] == 10) & (FT005_V2['d1'] == '1'), # Para signar el tipo de proveedor CC\n",
    "#     (FT005_V2['largo'] == 9) & ((FT005_V2['d1'] == '7') | (FT005_V2['d1'] == '8') | (FT005_V2['d1'] == '9')), # Para signar el tipo de proveedor NI\n",
    "#     (FT005_V2['largo'] == 9)\n",
    "#     ]\n",
    "\n",
    "# # Se asignan los valores correspondientes a cada una de las condiciones de nuestra lista\n",
    "# valores = ['CC', 'NI', 'CC']\n",
    "\n",
    "# # Se crea una nueva columna para asignar los valores dadas las condiciones \n",
    "# FT005_V2['tipoproveedor_corregido'] = np.select(condiciones, valores)\n",
    "# FT005_V2.tipoproveedor_corregido = FT005_V2.tipoproveedor_corregido.astype(str)\n",
    "\n",
    "# # Se da un resumen de como se ve el en general la nueva variable corregida\n",
    "# print(FT005_V2.tipoproveedor.value_counts())\n",
    "# print(FT005_V2.tipoproveedor_corregido.value_counts())"
   ]
  },
  {
   "cell_type": "code",
   "execution_count": null,
   "metadata": {},
   "outputs": [],
   "source": [
    "# ESTA LINEA GENERA PROBLEMAS PORQUE CONVIERTE TODO EN CC Y UN NIT DEBE TENER SIEMPRE 9 DIGITOS MÁS 1 DIGITO DE VERIFICACION - PENSAR EN COMPLEMENTO PARA MEJORAR\n",
    "# FT005_V2.loc[(FT005_V2['tipoproveedor_corregido2'] != 'NI'), 'tipoproveedor_corregido2'] = 'CC' # Para completar el tipo de proveedor CC"
   ]
  },
  {
   "cell_type": "code",
   "execution_count": null,
   "metadata": {},
   "outputs": [],
   "source": [
    "# Para hacer la suma de Valor pagado y Valor causado por NIT EPS, tipo de proveedor corregido, NIT proveedor y Mes de interés\n",
    "FT005 = FT005.groupby(['NIT_EPS', 'Tipoproveedor_corregido', 'Nitproveedor', 'Mes', 'Ano']).agg({'VPagado': 'sum','VCausado': 'sum'}).reset_index()"
   ]
  },
  {
   "cell_type": "code",
   "execution_count": null,
   "metadata": {},
   "outputs": [],
   "source": [
    "# # Se carga la base de datos webgironoupc para pegarla con el FT005\n",
    "# webgironoupc = pd.read_excel('C:/Users/Miguel Angel/Documents/Supersalud/Pagos_EPS_Proveedores/GD_UPC_CC_PW_2020_ENEMAR2021_V2.xlsx', dtype={'NIT_EPS':object, 'Nitproveedor': object, 'Mes':object, 'Ano':object}) \n",
    "# # Se convierte la variable en mes y año\n",
    "# webgironoupc[['Ano', 'Mes']] = webgironoupc[['Ano', 'Mes']].astype(float).astype(int).astype(str)\n",
    "# # Se unen las dos bases de datos para obtener la información de webgironoupc (Giro Directo - No_UPC - Compra de Cartera) y FT005 en una sola base de datos\n",
    "# FT005_web= pd.merge(FT005_V3, webgironoupc, how='outer', left_on=['NIT_EPS', 'Nitproveedor', 'Mes', 'Ano'], right_on=['NIT_EPS', 'Nitproveedor', 'Mes', 'Ano'])"
   ]
  },
  {
   "cell_type": "code",
   "execution_count": null,
   "metadata": {},
   "outputs": [],
   "source": [
    "# Se eliminan la bases que no se necesitan para liberar espacio en la memoria# Se eliminan la bases que no se necesitan para liberar espacio en la memoria\n",
    "del [duplicadosFT005]"
   ]
  },
  {
   "cell_type": "code",
   "execution_count": null,
   "metadata": {},
   "outputs": [],
   "source": [
    "FT005.rename(columns={'Tipoproveedor_corregido': 'Tipoproveedor'}, inplace=True)"
   ]
  },
  {
   "cell_type": "code",
   "execution_count": null,
   "metadata": {},
   "outputs": [],
   "source": [
    "# Se convierte la variable en mes y año\n",
    "FT005[['Ano', 'Mes']] = FT005[['Ano', 'Mes']].astype(float).astype(int)\n",
    "# Se agrega la información por NIT_EPS, Nitproveedor, noID, Departamento, Ano, Mes para las variables VPagado, VCausado, PW, Giro, No_UPC, Compra_Cartera\n",
    "FT005 = FT005.groupby(['NIT_EPS', 'Tipoproveedor', 'Nitproveedor', 'Mes', 'Ano'])[['VPagado', 'VCausado']].sum().reset_index()"
   ]
  },
  {
   "cell_type": "code",
   "execution_count": null,
   "metadata": {},
   "outputs": [],
   "source": [
    "%%time\n",
    "# Se crea el rango de meses necesarios en cada mes\n",
    "fecha_ideal=range(1, 12 + 1)\n",
    "# Se rellena con ceros la información para los meses faltantes\n",
    "FT005 = FT005.set_index('Mes').groupby(['NIT_EPS', 'Tipoproveedor', 'Nitproveedor', 'Ano']).apply(lambda x: x.reindex(index=fecha_ideal, fill_value=0)).drop(['NIT_EPS', 'Tipoproveedor', 'Nitproveedor', 'Ano'], 1)"
   ]
  },
  {
   "cell_type": "code",
   "execution_count": null,
   "metadata": {},
   "outputs": [],
   "source": [
    "# FT005_EPS = FT005.groupby(['NIT_EPS', 'Mes', 'Ano']).agg({'VPagado':'sum', 'VCausado':'sum'}).reset_index()\n",
    "# #HASTA AQUI VAMOS BIEN"
   ]
  },
  {
   "cell_type": "code",
   "execution_count": null,
   "metadata": {},
   "outputs": [],
   "source": [
    "%%time\n",
    "# Se calcula la diferencia mensual para conocer el valor mensual de cada cuenta ya que por defecto vienen agregadas\n",
    "FT005_dif = FT005.groupby(['NIT_EPS', 'Nitproveedor', 'Tipoproveedor', 'Ano']).diff().fillna(0).reset_index()"
   ]
  },
  {
   "cell_type": "code",
   "execution_count": null,
   "metadata": {},
   "outputs": [],
   "source": [
    "FT005 = FT005.reset_index()"
   ]
  },
  {
   "cell_type": "code",
   "execution_count": null,
   "metadata": {},
   "outputs": [],
   "source": [
    "FT005_dif.loc[FT005_dif['Mes'] == 1] = FT005"
   ]
  },
  {
   "cell_type": "code",
   "execution_count": null,
   "metadata": {},
   "outputs": [],
   "source": [
    "# Se reemplazan los nombres de las columnas para facilitar el tratamiento\n",
    "FT005_dif.rename(columns={'VPagado': 'pagomes', 'VCausado': 'causmes'}, inplace=True)"
   ]
  },
  {
   "cell_type": "code",
   "execution_count": null,
   "metadata": {},
   "outputs": [],
   "source": [
    "FT005_EPS = FT005_dif.groupby(['NIT_EPS', 'Mes', 'Ano']).agg({'causmes':'sum', 'pagomes':'sum'}).reset_index()\n",
    "#HASTA AQUI VAMOS BIEN"
   ]
  },
  {
   "cell_type": "code",
   "execution_count": null,
   "metadata": {},
   "outputs": [],
   "source": [
    "# Se guarda un back up del FT005 antes de aplicar las diferencias\n",
    "# Para guardar la base de datos lista para ser tratada en formato Excel y CSV\n",
    "FT005_dif.to_csv(r'C:/Users/Miguel Angel/Documents/Supersalud/Pagos_EPS_Proveedores/FT005_dif_backup_2.csv', index = False, encoding='utf-8-sig')\n",
    "FT005.to_csv(r'C:/Users/Miguel Angel/Documents/Supersalud/Pagos_EPS_Proveedores/FT005_backup_2.csv', index = False, encoding='utf-8-sig')\n",
    "# feather\n",
    "feather.write_feather(FT005_dif, 'C:/Users/Miguel Angel/Documents/Supersalud/Pagos_EPS_Proveedores/FT005_dif_backup_feather_2')\n",
    "feather.write_feather(FT005, 'C:/Users/Miguel Angel/Documents/Supersalud/Pagos_EPS_Proveedores/FT005_backup_feather_2') # Esta línea guarda la base de datos en binario para optimizar el tiempo de cargay el espacio"
   ]
  },
  {
   "cell_type": "code",
   "execution_count": null,
   "metadata": {},
   "outputs": [],
   "source": []
  },
  {
   "cell_type": "code",
   "execution_count": null,
   "metadata": {},
   "outputs": [],
   "source": [
    "FT005 = FT005_dif"
   ]
  },
  {
   "cell_type": "code",
   "execution_count": null,
   "metadata": {},
   "outputs": [],
   "source": [
    "del [FT005_dif, fecha_ideal, FT005_EPS]"
   ]
  },
  {
   "cell_type": "code",
   "execution_count": null,
   "metadata": {},
   "outputs": [],
   "source": [
    "# Aquí se recupera el back up\n",
    "FT005 = pd.read_feather('C:/Users/Miguel Angel/Documents/Supersalud/Pagos_EPS_Proveedores/FT005_dif_backup_feather')"
   ]
  },
  {
   "cell_type": "code",
   "execution_count": null,
   "metadata": {},
   "outputs": [],
   "source": [
    "# Se carga la base de datos prestadores.dta para su posterior pega\n",
    "prestadores = pd.read_stata('C:/Users/Miguel Angel/Documents/Supersalud/Pagos_EPS_Proveedores/prestadores.dta')\n",
    "\n",
    "# Se carga la base de datos operadores.dta para su posterior pega\n",
    "operadores = pd.read_stata('C:/Users/Miguel Angel/Documents/Supersalud/Pagos_EPS_Proveedores/operadores.dta')"
   ]
  },
  {
   "cell_type": "code",
   "execution_count": null,
   "metadata": {},
   "outputs": [],
   "source": [
    "# Se unen las dos bases de datos para obtener la información de FT005 con webgironoupc (Giro Directo - No_UPC - Compra de Cartera) y prestadores\n",
    "FT005 = pd.merge(FT005, prestadores, how='left', left_on=['Nitproveedor'], right_on=['nitproveedor'])"
   ]
  },
  {
   "cell_type": "code",
   "execution_count": null,
   "metadata": {},
   "outputs": [],
   "source": [
    "# Se unen las dos bases de datos para obtener la información de FT005 con webgironoupc (Giro Directo - No_UPC - Compra de Cartera) y prestadores\n",
    "FT005 = pd.merge(FT005, operadores, how='left', left_on=['Nitproveedor'], right_on=['nitproveedor'])"
   ]
  },
  {
   "cell_type": "code",
   "execution_count": null,
   "metadata": {},
   "outputs": [],
   "source": [
    "# Se eliminan la bases que no se necesitan para liberar espacio en la memoria\n",
    "del [operadores, prestadores]"
   ]
  },
  {
   "cell_type": "code",
   "execution_count": null,
   "metadata": {},
   "outputs": [],
   "source": [
    "# Se crea la columna noID tomando como referencia la columna clpr_nombre\n",
    "FT005['noID'] = FT005['clpr_nombre']"
   ]
  },
  {
   "cell_type": "code",
   "execution_count": null,
   "metadata": {},
   "outputs": [],
   "source": [
    "# Para conocer las diferencias entre las correciones\n",
    "print(FT005.noID.value_counts(dropna=True))"
   ]
  },
  {
   "cell_type": "code",
   "execution_count": null,
   "metadata": {},
   "outputs": [],
   "source": [
    "# Se establecen las condiciones para establecer correctamente el noID\n",
    "\n",
    "FT005.loc[(FT005['NIT_EPS'] == FT005['Nitproveedor']), # Se reemplaza por EPS todo aquel proveedor que sea una EPS\n",
    "       'noID'] = 'EPS'\n",
    "\n",
    "FT005.loc[(FT005['Nitproveedor'] == '\"901037916\"') | # Se reemplazan los NIT de la nación\n",
    "       (FT005['Nitproveedor'] == \"900047282\") |\n",
    "       (FT005['Nitproveedor'] == \"899999014\") |\n",
    "       (FT005['Nitproveedor'] == \"900474727\") |\n",
    "       (FT005['Nitproveedor'] == \"900462447\"),  \n",
    "       'noID'] = 'Nacion' "
   ]
  },
  {
   "cell_type": "code",
   "execution_count": null,
   "metadata": {},
   "outputs": [],
   "source": [
    "# Para conocer las diferencias entre las correciones\n",
    "print(FT005.noID.value_counts(dropna=True))"
   ]
  },
  {
   "cell_type": "code",
   "execution_count": null,
   "metadata": {},
   "outputs": [],
   "source": [
    "FT005.loc[FT005['noID'].isnull(), 'noID'] = 'Otro' # Para rellenar los vacios con \"Otro\""
   ]
  },
  {
   "cell_type": "code",
   "execution_count": null,
   "metadata": {},
   "outputs": [],
   "source": [
    "# Para conocer las diferencias entre las correciones\n",
    "print(FT005.noID.value_counts(dropna=True))"
   ]
  },
  {
   "cell_type": "code",
   "execution_count": null,
   "metadata": {},
   "outputs": [],
   "source": [
    "FT005.loc[(FT005['clpr_nombre'] == 'IPS') & # Para corregir el IPS cuando Tipo es vacío, por IPS-OL-DM-GIM\n",
    "       (FT005['tipo'].notnull()), \n",
    "       'noID'] = 'IPS-OL-DM-GIM'"
   ]
  },
  {
   "cell_type": "code",
   "execution_count": null,
   "metadata": {},
   "outputs": [],
   "source": [
    "# Para conocer las diferencias entre las correciones\n",
    "print(FT005.noID.value_counts(dropna=True))"
   ]
  },
  {
   "cell_type": "code",
   "execution_count": null,
   "metadata": {},
   "outputs": [],
   "source": [
    "FT005.loc[(FT005['tipo'].notnull()) & # Para dejar el Tipo cuando se tiene OSD u Otro\n",
    "       ((FT005['noID'] == 'OSD') |\n",
    "       (FT005['noID'] == 'Otro')), \n",
    "       'noID'] = FT005['tipo']"
   ]
  },
  {
   "cell_type": "code",
   "execution_count": null,
   "metadata": {},
   "outputs": [],
   "source": [
    "# Para conocer las diferencias entre las correciones\n",
    "print(FT005.noID.value_counts(dropna=True))"
   ]
  },
  {
   "cell_type": "code",
   "execution_count": null,
   "metadata": {},
   "outputs": [],
   "source": [
    "FT005.loc[(FT005['noID'] == 'Otro') & # Para cambiar el noID por Persona Natural si en Tipo Proveedor se tiene CC y CE\n",
    "       ((FT005['Tipoproveedor'] == 'CC') |\n",
    "       (FT005['Tipoproveedor'] == 'CE')), \n",
    "       'noID'] = 'Persona Natural'"
   ]
  },
  {
   "cell_type": "code",
   "execution_count": null,
   "metadata": {},
   "outputs": [],
   "source": [
    "# Para conocer las diferencias entre las correciones\n",
    "print(FT005.noID.value_counts(dropna=True))"
   ]
  },
  {
   "cell_type": "code",
   "execution_count": null,
   "metadata": {},
   "outputs": [],
   "source": [
    "FT005.loc[(FT005['departamento'].isnull()) & # Para asignar \"Otro\" al departamento si está vacío y si es una IPS o IPS Pública\n",
    "       ((FT005['noID'] == 'IPS Pública') |\n",
    "       (FT005['noID'] == 'IPS')), \n",
    "       'departamento'] = 'Otro'"
   ]
  },
  {
   "cell_type": "code",
   "execution_count": null,
   "metadata": {},
   "outputs": [],
   "source": [
    "# Para conocer las diferencias entre las correciones\n",
    "print(FT005.noID.value_counts(dropna=True))"
   ]
  },
  {
   "cell_type": "code",
   "execution_count": null,
   "metadata": {},
   "outputs": [],
   "source": [
    "# FT005.loc[\n",
    "#        (FT005['noID'] == 'Persona Natural'), \n",
    "#        'Nitproveedor'] = '123456789'"
   ]
  },
  {
   "cell_type": "code",
   "execution_count": null,
   "metadata": {},
   "outputs": [],
   "source": [
    "# Aquí se agrega la base para poder pegar webgironoupc sin alterar la sumatoria por EPS. Después de esto se deben pegar las columnas departamento y noI"
   ]
  },
  {
   "cell_type": "code",
   "execution_count": null,
   "metadata": {},
   "outputs": [],
   "source": [
    "FT005.columns"
   ]
  },
  {
   "cell_type": "code",
   "execution_count": null,
   "metadata": {},
   "outputs": [],
   "source": [
    "# Para saber los duplicados que se tienen\n",
    "duplicadosFT005 = FT005[FT005.duplicated(['NIT_EPS', 'Nitproveedor', 'Mes', 'Ano'], keep='last')]"
   ]
  },
  {
   "cell_type": "code",
   "execution_count": null,
   "metadata": {},
   "outputs": [],
   "source": [
    "# Se filtra el dataframe con las observaciones que cumplen las condiciones\n",
    "FT005_2 = FT005[\n",
    "    (FT005['Nitproveedor'] == '176765')\n",
    "    ]"
   ]
  },
  {
   "cell_type": "code",
   "execution_count": null,
   "metadata": {},
   "outputs": [],
   "source": []
  },
  {
   "cell_type": "code",
   "execution_count": null,
   "metadata": {},
   "outputs": [],
   "source": [
    "FT005_EPS = FT005.groupby(['NIT_EPS', 'Nitproveedor', 'noID', 'Mes', 'Ano']).agg({'pagomes':'sum', 'causmes':'sum'}).reset_index() "
   ]
  },
  {
   "cell_type": "code",
   "execution_count": null,
   "metadata": {},
   "outputs": [],
   "source": []
  },
  {
   "cell_type": "code",
   "execution_count": null,
   "metadata": {},
   "outputs": [],
   "source": [
    "# Se guarda un back up del FT005 antes de aplicar las diferencias\n",
    "# Para guardar la base de datos lista para ser tratada en formato Excel y CSV\n",
    "FT005_EPS.to_csv(r'C:/Users/Miguel Angel/Documents/Supersalud/Pagos_EPS_Proveedores/FT005_conNOID_backup.csv', index = False, encoding='utf-8-sig')\n",
    "# feather\n",
    "feather.write_feather(FT005_EPS, 'C:/Users/Miguel Angel/Documents/Supersalud/Pagos_EPS_Proveedores/FT005_conNOID_backup_feather') # Esta línea guarda la base de datos en binario para optimizar el tiempo de cargay el espacio"
   ]
  },
  {
   "cell_type": "code",
   "execution_count": null,
   "metadata": {},
   "outputs": [],
   "source": []
  },
  {
   "cell_type": "code",
   "execution_count": null,
   "metadata": {},
   "outputs": [],
   "source": [
    "FT005_EPS = FT005.groupby(['NIT_EPS', 'Mes', 'Ano']).agg({'pagomes':'sum', 'causmes':'sum'}).reset_index() \n",
    "# HASTA AQUI VAMOS BIEN"
   ]
  },
  {
   "cell_type": "code",
   "execution_count": null,
   "metadata": {},
   "outputs": [],
   "source": [
    "# Se agrupa la información de interés\n",
    "FT005_V2 = FT005.groupby(['NIT_EPS', 'Nitproveedor', 'Ano', 'Mes']).agg({'pagomes':'sum', 'causmes':'sum'}).reset_index()"
   ]
  },
  {
   "cell_type": "code",
   "execution_count": null,
   "metadata": {},
   "outputs": [],
   "source": [
    "# Se carga la base de datos webgironoupc para pegarla con el FT005\n",
    "webgironoupc = pd.read_excel('C:/Users/Miguel Angel/Documents/Supersalud/Pagos_EPS_Proveedores/GD_UPC_CC_PW_2020_ENEABR2021_V2.xlsx', dtype={'NIT_EPS':object, 'Nitproveedor': object, 'Mes':object, 'Ano':object}) "
   ]
  },
  {
   "cell_type": "code",
   "execution_count": null,
   "metadata": {},
   "outputs": [],
   "source": [
    "# Se convierte la variable en mes y año\n",
    "webgironoupc[['Ano', 'Mes']] = webgironoupc[['Ano', 'Mes']].astype(float).astype(int).astype(str)\n",
    "FT005_V2[['Ano', 'Mes']] = FT005_V2[['Ano', 'Mes']].astype(float).astype(int).astype(str)"
   ]
  },
  {
   "cell_type": "code",
   "execution_count": null,
   "metadata": {},
   "outputs": [],
   "source": [
    "webgironoupc[['Nitproveedor']] = webgironoupc[['Nitproveedor']].astype(str)\n",
    "FT005_V2[['Nitproveedor']] = FT005_V2[['Nitproveedor']].astype(str)"
   ]
  },
  {
   "cell_type": "code",
   "execution_count": null,
   "metadata": {},
   "outputs": [],
   "source": [
    "webgironoupc = webgironoupc.groupby(['NIT_EPS', 'Nitproveedor', 'Ano', 'Mes']).agg({'Giro':'sum', 'No_UPC':'sum', 'Compra_Cartera':'sum', 'PW':'sum'}).reset_index()"
   ]
  },
  {
   "cell_type": "code",
   "execution_count": null,
   "metadata": {},
   "outputs": [],
   "source": [
    "webgironoupc[['Ano', 'Mes']] = webgironoupc[['Ano', 'Mes']].astype(float).astype(int).astype(str)\n",
    "webgironoupc[['Nitproveedor']] = webgironoupc[['Nitproveedor']].astype(str)"
   ]
  },
  {
   "cell_type": "code",
   "execution_count": null,
   "metadata": {},
   "outputs": [],
   "source": [
    "# Se unen las dos bases de datos para obtener la información de webgironoupc (Giro Directo - No_UPC - Compra de Cartera) y FT005 en una sola base de datos\n",
    "FT005_V2 = pd.merge(FT005_V2, webgironoupc, how='outer', left_on=['NIT_EPS', 'Nitproveedor', 'Mes', 'Ano'], right_on=['NIT_EPS', 'Nitproveedor', 'Mes', 'Ano'])"
   ]
  },
  {
   "cell_type": "code",
   "execution_count": null,
   "metadata": {},
   "outputs": [],
   "source": [
    "FT005_EPS = FT005_V2.groupby(['NIT_EPS', 'Mes', 'Ano']).agg({'pagomes':'sum', 'causmes':'sum', 'Giro':'sum', 'No_UPC':'sum', 'Compra_Cartera':'sum', 'PW':'sum'}).reset_index() \n",
    "# HASTA AQUI VAMOS BIEN"
   ]
  },
  {
   "cell_type": "code",
   "execution_count": null,
   "metadata": {},
   "outputs": [],
   "source": [
    "del [webgironoupc, FT005_EPS]"
   ]
  },
  {
   "cell_type": "code",
   "execution_count": null,
   "metadata": {},
   "outputs": [],
   "source": [
    "# Se eliminan las columnas que no se requieren en el merge\n",
    "FT005 = FT005.drop(['Tipoproveedor', 'nombre_prestador', 'nitproveedor_x', 'clpr_codigo',\n",
    "       'clpr_nombre', 'naju_nombre', 'pagomes', 'causmes', 'nitproveedor_y', 'razonsocial', 'tipo'], axis=1)"
   ]
  },
  {
   "cell_type": "code",
   "execution_count": null,
   "metadata": {},
   "outputs": [],
   "source": [
    "FT005[['NIT_EPS', 'Nitproveedor', 'Ano', 'Mes']] = FT005[['NIT_EPS', 'Nitproveedor', 'Ano', 'Mes']].astype(str)\n",
    "FT005_V2[['NIT_EPS', 'Nitproveedor', 'Ano', 'Mes']] = FT005_V2[['NIT_EPS', 'Nitproveedor', 'Ano', 'Mes']].astype(str)"
   ]
  },
  {
   "cell_type": "code",
   "execution_count": null,
   "metadata": {},
   "outputs": [],
   "source": []
  },
  {
   "cell_type": "code",
   "execution_count": null,
   "metadata": {},
   "outputs": [],
   "source": [
    "# Se procede a identificar aquellos Nitproveedor con noID priorizados según el tratamiento inicial del FT005\n",
    "duplicadosFT005 = FT005.drop_duplicates(['Nitproveedor', 'noID', 'departamento'], keep='first')"
   ]
  },
  {
   "cell_type": "code",
   "execution_count": null,
   "metadata": {},
   "outputs": [],
   "source": [
    "# Se toman los valores únicos del Nitproveedor priorizando aquellos que tienen como noID EPS o Persona Natural\n",
    "df_filtered = duplicadosFT005.sort_values('noID', ascending=False).drop_duplicates('Nitproveedor', keep='first')"
   ]
  },
  {
   "cell_type": "code",
   "execution_count": null,
   "metadata": {},
   "outputs": [],
   "source": [
    "# Se eliminan las columnas que no se requieren en el merge\n",
    "df_filtered = df_filtered.drop(['NIT_EPS', 'Ano', 'Mes'], axis=1)"
   ]
  },
  {
   "cell_type": "code",
   "execution_count": null,
   "metadata": {},
   "outputs": [],
   "source": [
    "# Se comprueba que no haya duplicados cuando se filtra por NIT EPS, tipo de deudor, NIT proveedor, Mes y Año. Para esto se cuenta el número de duplicados\n",
    "duplicadosFT005_V2 = duplicadosFT005[duplicadosFT005.duplicated(['Nitproveedor'], keep='last')]\n",
    "print(\"El número de registros duplicados es:\", duplicadosFT005_V2.Nitproveedor.count(), sep='\\n')"
   ]
  },
  {
   "cell_type": "code",
   "execution_count": null,
   "metadata": {},
   "outputs": [],
   "source": [
    "# Se unen las dos bases de datos para obtener las columnas de noID y Departamento\n",
    "FT005_V2 = pd.merge(FT005_V2, df_filtered, how='left', left_on=['Nitproveedor'], right_on=['Nitproveedor'])"
   ]
  },
  {
   "cell_type": "code",
   "execution_count": null,
   "metadata": {},
   "outputs": [],
   "source": [
    "# Guardar la base de datos de noID para posterior comparación\n",
    "df_filtered.to_excel(r'C:/Users/Miguel Angel/Documents/Supersalud/Pagos_EPS_Proveedores/noID_CausaPrestador_2020_2021_V2.xlsx', index = False)"
   ]
  },
  {
   "cell_type": "code",
   "execution_count": null,
   "metadata": {},
   "outputs": [],
   "source": [
    "del [FT005, duplicadosFT005, duplicadosFT005_V2]"
   ]
  },
  {
   "cell_type": "code",
   "execution_count": null,
   "metadata": {},
   "outputs": [],
   "source": [
    "# Para renombrar las columnas de interés\n",
    "FT005_V2.rename(columns={'NIT_EPS': 'nit_eps', 'Nitproveedor': 'nitproveedor', 'Departamento': 'departamento', 'Ano': 'ano', 'Mes': 'mes', 'PW': 'pw', 'Giro': 'giro', 'No_UPC': 'no_upc', 'Compra_Cartera': 'compra_cartera'}, inplace=True)"
   ]
  },
  {
   "cell_type": "code",
   "execution_count": null,
   "metadata": {},
   "outputs": [],
   "source": [
    "FT005 = FT005_V2.groupby(['nit_eps', 'mes', 'ano']).agg({'pagomes':'sum', 'causmes':'sum', 'giro':'sum', 'no_upc':'sum', 'compra_cartera':'sum', 'pw':'sum'}).reset_index()\n",
    "# HASTA AQUÍ VAMOS BIEN"
   ]
  },
  {
   "cell_type": "code",
   "execution_count": null,
   "metadata": {},
   "outputs": [],
   "source": [
    "# Hasta aquí no se ha podido hacer una correcta agregación del noID y departamento ya que cuando se agrega la información, las cuentas no cuadran"
   ]
  },
  {
   "cell_type": "code",
   "execution_count": null,
   "metadata": {},
   "outputs": [],
   "source": [
    "FT005_V2.columns"
   ]
  },
  {
   "cell_type": "code",
   "execution_count": null,
   "metadata": {},
   "outputs": [],
   "source": [
    "FT005_V3 = FT005_V2.groupby(['nit_eps', 'nitproveedor', 'ano', 'mes',]).agg({'pagomes':'sum', 'causmes':'sum', 'giro':'sum', 'no_upc':'sum', 'compra_cartera':'sum', 'pw':'sum'}).reset_index()"
   ]
  },
  {
   "cell_type": "code",
   "execution_count": null,
   "metadata": {},
   "outputs": [],
   "source": [
    "FT005 = FT005_V3.groupby(['nit_eps', 'mes', 'ano']).agg({'pagomes':'sum', 'causmes':'sum', 'giro':'sum', 'no_upc':'sum', 'compra_cartera':'sum', 'pw':'sum'}).reset_index()\n",
    "# HASTA AQUI VAMOS BIEN"
   ]
  },
  {
   "cell_type": "code",
   "execution_count": null,
   "metadata": {},
   "outputs": [],
   "source": [
    "FT005_V3[['nit_eps', 'mes', 'ano']] = FT005_V3[['nit_eps', 'mes', 'ano']].astype(str)"
   ]
  },
  {
   "cell_type": "code",
   "execution_count": null,
   "metadata": {},
   "outputs": [],
   "source": [
    "# Guardar la base de datos lista para ser tratada en formato Excel y CSV\n",
    "# FT005.to_excel(r'C:/Users/Miguel Angel/Documents/Supersalud/Pagos_EPS_Proveedores/CausaPrestador_2020_2021.xlsx', index = False)\n",
    "FT005_V3.to_csv(r'C:/Users/Miguel Angel/Documents/Supersalud/Pagos_EPS_Proveedores/CausaPrestador_2020_2021_V2.csv', index = False, encoding='utf-8-sig')"
   ]
  },
  {
   "cell_type": "code",
   "execution_count": null,
   "metadata": {},
   "outputs": [],
   "source": [
    "# Se eliminan la bases que no se necesitan para liberar espacio en la memoria\n",
    "del [BACKUP, df_filtered, FT005_V2, FT005_V3]"
   ]
  }
 ],
 "metadata": {
  "interpreter": {
   "hash": "b3ba2566441a7c06988d0923437866b63cedc61552a5af99d1f4fb67d367b25f"
  },
  "kernelspec": {
   "display_name": "Python 3.8.5 64-bit ('base': conda)",
   "name": "python3"
  },
  "language_info": {
   "name": "python",
   "version": ""
  }
 },
 "nbformat": 4,
 "nbformat_minor": 4
}