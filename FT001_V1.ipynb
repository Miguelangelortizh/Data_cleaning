{
 "cells": [
  {
   "cell_type": "markdown",
   "metadata": {},
   "source": [
    "<h2>FT001 - Extracción ingresos y pasivos </h2>\r\n",
    "<p> En este apartado se trata la base de datos FT001 </p>"
   ]
  },
  {
   "cell_type": "code",
   "execution_count": 1,
   "metadata": {},
   "outputs": [],
   "source": [
    "#Cargamos los paquetes que vamos a necesitar\n",
    "import pandas as pd\n",
    "import numpy as np\n",
    "import pyreadstat\n",
    "pd.pandas.set_option('display.max_columns', None)"
   ]
  },
  {
   "cell_type": "code",
   "execution_count": 12,
   "metadata": {},
   "outputs": [],
   "source": [
    "# Se carga el FT001 completo desde el archivo .csv\r\n",
    "FT001 = pd.read_csv('C:/Users/Miguel Angel/OneDrive - Supersalud/Supersalud/Bases_FT/BD_actualizadas/FT001_1219_0521.csv', dtype={'Nit':object, 'Año': object, 'Periodo': object, 'Fecha': object})"
   ]
  },
  {
   "cell_type": "code",
   "execution_count": 15,
   "metadata": {},
   "outputs": [],
   "source": [
    "# Se reemplazan los nombres de las columnas para facilitar el tratamiento\n",
    "FT001.rename(columns={'Nit': 'nit_eps', 'Año': 'ano', 'Periodo': 'mes', 'codigoConcepto': 'codigo','claseConcepto': 'clase'}, inplace=True)"
   ]
  },
  {
   "cell_type": "code",
   "execution_count": 16,
   "metadata": {},
   "outputs": [],
   "source": [
    "# Para hacer la suma de Valor por NIT EPS, Código del concepto, Mes y Año\n",
    "FT001 = FT001.groupby(['nit_eps', 'codigo', 'ano', 'mes']).agg({'valor': 'sum'}).reset_index()"
   ]
  },
  {
   "cell_type": "code",
   "execution_count": 17,
   "metadata": {},
   "outputs": [],
   "source": [
    "#Se transforman las variables a STR para mejorar su manipulación\n",
    "FT001[['codigo']] = FT001[['codigo']].astype(float).astype(int).astype(str)"
   ]
  },
  {
   "cell_type": "code",
   "execution_count": 18,
   "metadata": {},
   "outputs": [],
   "source": [
    "# Se genera una nueva columna con la cuenta del numero de componentes que tiene el ID nitproveedor\n",
    "FT001['Lcod'] = FT001.codigo.str.len()"
   ]
  },
  {
   "cell_type": "code",
   "execution_count": 19,
   "metadata": {},
   "outputs": [],
   "source": [
    "# Se limpia la clasificación por Tipo de deudor\n",
    "FT001['tipo']= 'NA' # Se crea la columna con categoria UPC como base\n",
    "\n",
    "# Se establecen las condiciones para establecer correctamente el UPC\n",
    "\n",
    "FT001.loc[(FT001['codigo'] == \"410201\") |\n",
    "       (FT001['codigo'] == \"410202\") |\n",
    "       (FT001['codigo'] == \"410203\") |\n",
    "       (FT001['codigo'] == \"410207\") |\n",
    "       (FT001['codigo'] == \"431101\") |\n",
    "       (FT001['codigo'] == \"431102\") |\n",
    "       (FT001['codigo'] == \"431106\") |\n",
    "       (FT001['codigo'] == \"431122\") |\n",
    "       (FT001['codigo'] == \"431120\"),  \n",
    "       'tipo'] = 'UPC' \n",
    "\n",
    "FT001.loc[(FT001['codigo'] == '431103') | # | Regimen contributivo\n",
    "       (FT001['codigo'] == \"431104\") | #Regimen contributivo\n",
    "       (FT001['codigo'] == \"431107\") | #Regimen ubsidiado publico\n",
    "       (FT001['codigo'] == \"41020801\") | #410208-41020801\n",
    "       (FT001['codigo'] == \"410209\"),  \n",
    "       'tipo'] = 'CMCOP' \n",
    "\n",
    "FT001.loc[(FT001['codigo'] == '410227'),  \n",
    "       'tipo'] = 'PMAX' \n",
    "\n",
    "FT001.loc[(FT001['codigo'] == '410230'),  \n",
    "       'tipo'] = 'EnfH'\n",
    "\n",
    "FT001.loc[(FT001['codigo'] == '1105') |\n",
    "       (FT001['codigo'] == \"110101\") |\n",
    "       (FT001['codigo'] == \"110102\") |\n",
    "       (FT001['codigo'] == \"110103\") |\n",
    "       (FT001['codigo'] == \"110109\"),  \n",
    "       'tipo'] = 'Efectivo' "
   ]
  },
  {
   "cell_type": "code",
   "execution_count": 20,
   "metadata": {},
   "outputs": [],
   "source": [
    "# Para hacer la suma de Valor por NIT EPS, tipo, Mes y Año\n",
    "FT001 = FT001.groupby(['nit_eps', 'tipo', 'mes', 'ano']).agg({'valor': 'sum'}).reset_index()"
   ]
  },
  {
   "cell_type": "code",
   "execution_count": 21,
   "metadata": {},
   "outputs": [
    {
     "name": "stdout",
     "output_type": "stream",
     "text": [
      "Wall time: 375 ms\n"
     ]
    }
   ],
   "source": [
    "%%time\r\n",
    "# Se crea el rango de meses necesarios en cada mes\r\n",
    "fecha_ideal=range(1, 12 + 1)\r\n",
    "# Se rellena con ceros la información para los meses faltantes\r\n",
    "FT001 = FT001.set_index('mes').groupby(['nit_eps', 'tipo', 'ano']).apply(lambda x: x.reindex(index=fecha_ideal, fill_value=0)).drop(['nit_eps', 'tipo', 'ano'], 1)"
   ]
  },
  {
   "cell_type": "code",
   "execution_count": 22,
   "metadata": {},
   "outputs": [],
   "source": [
    "# Se desagrupa la información\n",
    "FT001 = FT001.reset_index()"
   ]
  },
  {
   "cell_type": "code",
   "execution_count": 23,
   "metadata": {},
   "outputs": [],
   "source": [
    "#Se transforman las variables a INT para mejorar su manipulación\n",
    "FT001[['ano']] = FT001[['ano']].astype(float).astype(int)"
   ]
  },
  {
   "cell_type": "code",
   "execution_count": 24,
   "metadata": {},
   "outputs": [],
   "source": [
    "# Se encuentran las observaciones que cumplen las condiciones\n",
    "df_filtered = FT001[\n",
    "    (FT001['ano'] == 2019) & (FT001['mes'] == 1) |\n",
    "    (FT001['ano'] == 2019) & (FT001['mes'] == 2) |\n",
    "    (FT001['ano'] == 2019) & (FT001['mes'] == 3) |\n",
    "    (FT001['ano'] == 2019) & (FT001['mes'] == 4) |\n",
    "    (FT001['ano'] == 2019) & (FT001['mes'] == 5) |\n",
    "    (FT001['ano'] == 2019) & (FT001['mes'] == 6) |\n",
    "    (FT001['ano'] == 2019) & (FT001['mes'] == 7) |\n",
    "    (FT001['ano'] == 2019) & (FT001['mes'] == 8) |\n",
    "    (FT001['ano'] == 2019) & (FT001['mes'] == 9) |\n",
    "    (FT001['ano'] == 2019) & (FT001['mes'] == 10) |\n",
    "    (FT001['ano'] == 2019) & (FT001['mes'] == 11)\n",
    "    ].index"
   ]
  },
  {
   "cell_type": "code",
   "execution_count": 25,
   "metadata": {},
   "outputs": [],
   "source": [
    "# Se eliminan las observaciones que cumplen las condiciones anteriore\n",
    "FT001 = FT001.drop(df_filtered)"
   ]
  },
  {
   "cell_type": "code",
   "execution_count": 26,
   "metadata": {},
   "outputs": [],
   "source": [
    "# Se establece el index adecuado para realizar la resta del valor. En este caso, se realiza la resta periodo a periodo (t+1 - t) el valor reportado en el FT001 para cada NIT EPS, tipo de deudor mes y año\r\n",
    "FT001 = FT001.set_index(['nit_eps', 'tipo', 'mes', 'ano'])"
   ]
  },
  {
   "cell_type": "code",
   "execution_count": 27,
   "metadata": {},
   "outputs": [],
   "source": [
    "# Se calcula la diferencia mensual (respetando las carcateristicas del index anteriomente establecido) para conocer el valor mensual de cada cuenta ya que por defecto vienen agregadas\r\n",
    "FT001_dif = FT001.diff().fillna(0)"
   ]
  },
  {
   "cell_type": "code",
   "execution_count": 28,
   "metadata": {},
   "outputs": [],
   "source": [
    "# Se desagrupa la informacion\n",
    "FT001_dif = FT001_dif.reset_index()\n",
    "FT001 = FT001.reset_index()"
   ]
  },
  {
   "cell_type": "code",
   "execution_count": 29,
   "metadata": {},
   "outputs": [],
   "source": [
    "# Se reemplazan los valores para los meses de enero\n",
    "FT001_dif.loc[FT001_dif['mes'] == 1] = FT001"
   ]
  },
  {
   "cell_type": "code",
   "execution_count": 30,
   "metadata": {},
   "outputs": [],
   "source": [
    "# Se reemplazan los nombres de las columnas para facilitar el tratamiento\n",
    "FT001_dif.rename(columns={'valor': 'Dvalormes'}, inplace=True)"
   ]
  },
  {
   "cell_type": "code",
   "execution_count": 31,
   "metadata": {},
   "outputs": [],
   "source": [
    "# Se encuentran las observaciones que cumplen las condiciones (se eliminan las observaciones de 2019)\r\n",
    "df_filtered = FT001_dif[\r\n",
    "    (FT001_dif['ano'] == 2019)\r\n",
    "    ].index"
   ]
  },
  {
   "cell_type": "code",
   "execution_count": 32,
   "metadata": {},
   "outputs": [],
   "source": [
    "# Se eliminan las observaciones que cumplen las condiciones anteriores (se eliminan las observaciones de 2019)\r\n",
    "FT001_dif = FT001_dif.drop(df_filtered)"
   ]
  },
  {
   "cell_type": "code",
   "execution_count": 33,
   "metadata": {},
   "outputs": [],
   "source": [
    "# Para convertir el tipo como columna para la base de datos con la diferencia de un periodo\r\n",
    "FT001_dif = FT001_dif.pivot(index=['nit_eps', 'mes', 'ano'], columns='tipo', values='Dvalormes').fillna(0).reset_index()"
   ]
  },
  {
   "cell_type": "code",
   "execution_count": 34,
   "metadata": {},
   "outputs": [],
   "source": [
    "# Para convertir el tipo como columna para la base de datos agregada\r\n",
    "FT001 = FT001.pivot(index=['nit_eps', 'mes', 'ano'], columns='tipo', values='valor').fillna(0).reset_index()"
   ]
  },
  {
   "cell_type": "code",
   "execution_count": 35,
   "metadata": {},
   "outputs": [],
   "source": [
    "# Se eliminan las columnas que no son de interés\n",
    "FT001 = FT001.drop(['CMCOP', 'EnfH', 'NA', 'PMAX', 'UPC'], axis=1)"
   ]
  },
  {
   "cell_type": "code",
   "execution_count": 36,
   "metadata": {},
   "outputs": [],
   "source": [
    "# Se reemplazan los nombres de las columnas para facilitar el tratamiento\n",
    "FT001.rename(columns={'Efectivo': 'valorEfectivo'}, inplace=True)"
   ]
  },
  {
   "cell_type": "code",
   "execution_count": 37,
   "metadata": {},
   "outputs": [],
   "source": [
    "# Se unen las dos bases de datos para obtener la información en conjunto de la diferencia y el valor de Efectivo\n",
    "FT001_dif = pd.merge(FT001_dif, FT001, how='left', left_on=['nit_eps', 'ano', 'mes'], right_on=['nit_eps', 'ano', 'mes'])"
   ]
  },
  {
   "cell_type": "code",
   "execution_count": 38,
   "metadata": {},
   "outputs": [],
   "source": [
    "# Se reemplazan los nombres de las columnas para facilitar el tratamiento\n",
    "FT001_dif.rename(columns={'Efectivo': 'DEfectivo', 'CMCOP': 'DCMCOPmes', 'PMAX': 'DPMAXmes', 'UPC': 'DUPCmes'}, inplace=True)"
   ]
  },
  {
   "cell_type": "code",
   "execution_count": 39,
   "metadata": {},
   "outputs": [],
   "source": [
    "# Para guardar la base de datos lista para ser tratada en formato Excel y CSV\r\n",
    "FT001_dif.to_excel(r'C:/Users/Miguel Angel/Documents/Supersalud/Pagos_EPS_Proveedores/ingresosyefectivo_2020_2021_V2.xlsx', index = False)\r\n",
    "FT001_dif.to_csv(r'C:/Users/Miguel Angel/Documents/Supersalud/Pagos_EPS_Proveedores/ingresosyefectivo_2020_2021_V2.csv', index = False, encoding='utf-8-sig')"
   ]
  },
  {
   "cell_type": "code",
   "execution_count": 40,
   "metadata": {},
   "outputs": [],
   "source": [
    "# Se eliminan la bases que no se necesitan para liberar espacio en la memoria\n",
    "del [FT001_dif, FT001, df_filtered, fecha_ideal]"
   ]
  }
 ],
 "metadata": {
  "interpreter": {
   "hash": "b3ba2566441a7c06988d0923437866b63cedc61552a5af99d1f4fb67d367b25f"
  },
  "kernelspec": {
   "display_name": "Python 3.8.5 64-bit ('base': conda)",
   "name": "python3"
  },
  "language_info": {
   "codemirror_mode": {
    "name": "ipython",
    "version": 3
   },
   "file_extension": ".py",
   "mimetype": "text/x-python",
   "name": "python",
   "nbconvert_exporter": "python",
   "pygments_lexer": "ipython3",
   "version": "3.8.5"
  }
 },
 "nbformat": 4,
 "nbformat_minor": 4
}