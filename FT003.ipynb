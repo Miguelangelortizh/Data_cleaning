{
 "cells": [
  {
   "cell_type": "markdown",
   "metadata": {},
   "source": [
    "<h2>FT003</h2>\r\n",
    "<p> En este apartado se trata la base de datos FT003 </p>"
   ]
  },
  {
   "cell_type": "code",
   "execution_count": null,
   "metadata": {},
   "outputs": [],
   "source": [
    "#Cargamos los paquetes que vamos a necesitar\n",
    "import pandas as pd\n",
    "import numpy as np\n",
    "import pyreadstat\n",
    "pd.pandas.set_option('display.max_columns', None)"
   ]
  },
  {
   "cell_type": "code",
   "execution_count": null,
   "metadata": {},
   "outputs": [],
   "source": [
    "# Se carga el FT003 para 2020 y 2021 completo desde el archivo .dta\n",
    "FT003_2021_2021 = pd.read_stata('C:/Users/Miguel Angel/Documents/Supersalud/Pagos_EPS_Proveedores/Informe_Pagos/FT003 20202021.dta')"
   ]
  },
  {
   "cell_type": "code",
   "execution_count": null,
   "metadata": {},
   "outputs": [],
   "source": [
    "# Se carga el FT003 para diciembre de 2019 desde el archivo .dta\n",
    "FT003_2019 = pd.read_stata('C:/Users/Miguel Angel/Documents/Supersalud/Pagos_EPS_Proveedores/Informe_Pagos/FT003 122019.dta')"
   ]
  },
  {
   "cell_type": "code",
   "execution_count": null,
   "metadata": {},
   "outputs": [],
   "source": [
    "# Se concatenan la bases de datos \n",
    "frames = [FT003_2021_2021, FT003_2019]\n",
    "FT003 = pd.concat(frames, ignore_index=True)"
   ]
  },
  {
   "cell_type": "code",
   "execution_count": null,
   "metadata": {},
   "outputs": [],
   "source": [
    "# Se eliminan la bases que no se necesitan para liberar espacio en la memoria\n",
    "del [FT003_2021_2021, FT003_2019, frames]"
   ]
  },
  {
   "cell_type": "code",
   "execution_count": null,
   "metadata": {},
   "outputs": [],
   "source": [
    "# Se reemplazan los nombres de las columnas para facilitar el tratamiento\n",
    "FT003.rename(columns={'Nit': 'nit_eps', 'Año': 'ano', 'Periodo': 'mes', 'lineaNegocio': 'linea','tipoIdDeudor': 'tipoiddeudor', 'idDeudor': 'nitproveedor', 'conceptoDeudores': 'concepto', 'tipoDeuda': 'tipodeuda', 'medicionPosterior': 'medicion', 'cxcPendientesRadicar': 'cxcsinradicar','cxcNoVencidas': 'cxcnovencidas', 'cxcMora30Dias': 'cxc30', 'cxcMora60Dias': 'cxc60', 'cxcMora90Dias': 'cxc90','cxcMora180Dias': 'cxc180', 'cxcMora360Dias': 'cxc360', 'cxcMoraMayor360Dias': 'cxcmayor360'}, inplace=True)"
   ]
  },
  {
   "cell_type": "code",
   "execution_count": null,
   "metadata": {},
   "outputs": [],
   "source": [
    "# Se transforman los datos para su correcta identificación\n",
    "FT003[['nit_eps', 'RazonSocial', 'ano', 'mes', 'linea', 'tipoiddeudor',\n",
    "       'nitproveedor', 'dvDeudor', 'nombreDeudor', 'codigoMunicipio',\n",
    "       'concepto', 'tipodeuda', 'medicion']] = FT003[['nit_eps', 'RazonSocial', 'ano', 'mes', 'linea', 'tipoiddeudor',\n",
    "       'nitproveedor', 'dvDeudor', 'nombreDeudor', 'codigoMunicipio',\n",
    "       'concepto', 'tipodeuda', 'medicion']].astype(str)\n",
    "\n",
    "FT003[['cxcsinradicar', 'cxcnovencidas',\n",
    "       'valorMercado', 'cxc30', 'cxc60', 'cxc90', 'cxc180', 'cxc360',\n",
    "       'cxcmayor360', 'deterioro30Dias', 'deterioro60Dias', 'deterioro90Dias',\n",
    "       'deterioro180Dias', 'deterioro360Dias', 'deterioroMayor360Dias',\n",
    "       'ajuste', 'saldo']] = FT003[['cxcsinradicar', 'cxcnovencidas',\n",
    "       'valorMercado', 'cxc30', 'cxc60', 'cxc90', 'cxc180', 'cxc360',\n",
    "       'cxcmayor360', 'deterioro30Dias', 'deterioro60Dias', 'deterioro90Dias',\n",
    "       'deterioro180Dias', 'deterioro360Dias', 'deterioroMayor360Dias',\n",
    "       'ajuste', 'saldo']].astype(float)"
   ]
  },
  {
   "cell_type": "code",
   "execution_count": null,
   "metadata": {},
   "outputs": [],
   "source": [
    "# Se filtra la línea de negocio de interés. En este caso corresponde a la línea 1\n",
    "FT003 = FT003.loc[FT003['linea'] == '1']"
   ]
  },
  {
   "cell_type": "code",
   "execution_count": null,
   "metadata": {},
   "outputs": [],
   "source": [
    "FT003.columns"
   ]
  },
  {
   "cell_type": "code",
   "execution_count": null,
   "metadata": {},
   "outputs": [],
   "source": [
    "# Se cuenta el número de duplicados para hacer la respectiva corrección del tipo id deudor\n",
    "df_deudor = FT003.groupby(['nitproveedor', 'nombreDeudor']).size().reset_index().rename(columns={0:'Conteo_FT03'})"
   ]
  },
  {
   "cell_type": "code",
   "execution_count": null,
   "metadata": {},
   "outputs": [],
   "source": [
    "# Para guardar la base de datos lista para ser tratada en formato Excel y CSV\n",
    "df_deudor.to_excel(r'C:/Users/Miguel Angel/Documents/Supersalud/Pagos_EPS_Proveedores/df_deudor_FT003_V2.xlsx', index = False)"
   ]
  },
  {
   "cell_type": "code",
   "execution_count": null,
   "metadata": {},
   "outputs": [],
   "source": []
  },
  {
   "cell_type": "code",
   "execution_count": null,
   "metadata": {},
   "outputs": [],
   "source": [
    "# Se crea la columna Cuentas por Cobrar (CXC) sumando las columnas cxcsinradicar, cxcnovencidas, cxc30, cxc60, cxc90, cxc180, cxc360 y cxcmayor360\n",
    "CXC = FT003['cxcsinradicar'] + FT003['cxcnovencidas'] + FT003['cxc30'] + FT003['cxc60'] + FT003['cxc90'] + FT003['cxc180'] + FT003['cxc360'] + FT003['cxcmayor360']\n",
    "FT003['CXC'] = CXC"
   ]
  },
  {
   "cell_type": "code",
   "execution_count": null,
   "metadata": {},
   "outputs": [],
   "source": [
    "# Para hacer la suma de CXC por NIT EPS, tipo de proveedor, NIT proveedor, Mes y Año\n",
    "FT003 = FT003.groupby(['nit_eps', 'tipoiddeudor', 'nitproveedor', 'mes', 'ano']).agg({'CXC': 'sum'}).reset_index()"
   ]
  },
  {
   "cell_type": "code",
   "execution_count": null,
   "metadata": {},
   "outputs": [],
   "source": [
    "# Se comprueba que no haya duplicados cuando se filtra por NIT EPS, tipo de deudor, NIT proveedor, Mes y Año. Para esto se cuenta el número de duplicados\n",
    "duplicadosFT003 = FT003[FT003.duplicated(['nit_eps', 'tipoiddeudor', 'nitproveedor', 'mes', 'ano'], keep='last')]\n",
    "print(\"El número de registros duplicados es:\", duplicadosFT003.nit_eps.count(), sep='\\n')"
   ]
  },
  {
   "cell_type": "code",
   "execution_count": null,
   "metadata": {},
   "outputs": [],
   "source": [
    "# Se genera una nueva columna extrayendo el primer caracter del ID nitproveedor\n",
    "FT003['d1'] = FT003['nitproveedor'].str[:1]"
   ]
  },
  {
   "cell_type": "code",
   "execution_count": null,
   "metadata": {},
   "outputs": [],
   "source": [
    "# Se genera una nueva columna con la cuenta del numero de componentes que tiene el ID nitproveedor\n",
    "FT003['largo'] = FT003.nitproveedor.str.len()"
   ]
  },
  {
   "cell_type": "code",
   "execution_count": null,
   "metadata": {},
   "outputs": [],
   "source": [
    "# Se cuenta el número de duplicados para hacer la respectiva corrección del tipo id deudor\n",
    "df_tipoiddeudor = FT003.groupby(['nit_eps', 'nitproveedor', 'mes', 'ano']).size().reset_index().rename(columns={0:'d'})\n",
    "# df_tipoiddeudor.sort_values(by='d', ascending=False)"
   ]
  },
  {
   "cell_type": "code",
   "execution_count": null,
   "metadata": {},
   "outputs": [],
   "source": [
    "# Se crea la unión de del FT003 con la cuenta de repetidos según NIT EPS, NIT proveedor, mes y año\n",
    "FT003 = FT003.merge(df_tipoiddeudor, left_on=['nit_eps', 'nitproveedor', 'mes', 'ano'], right_on=['nit_eps', 'nitproveedor', 'mes', 'ano'], how='left')"
   ]
  },
  {
   "cell_type": "code",
   "execution_count": null,
   "metadata": {},
   "outputs": [],
   "source": [
    "# Se limpia la clasificación por Tipo de deudor\n",
    "FT003['tipoiddeudor_corregido'] = FT003['tipoiddeudor'] # Se crea la columna con categoria NA como base\n",
    "# Condiciones\n",
    "FT003.loc[\n",
    "       (FT003['tipoiddeudor_corregido'] == 'NA') &\n",
    "       (FT003['largo'] == 10) & # Para signar el tipo de deudor CC\n",
    "       (FT003['d1'] == '1'), \n",
    "       'tipoiddeudor_corregido'] = 'CC' \n",
    "\n",
    "FT003.loc[\n",
    "       (FT003['tipoiddeudor_corregido'] == 'NA') &\n",
    "       (FT003['largo'] == 9) & # Para signar el tipo de deudor NI\n",
    "       ((FT003['d1'] == '7') |\n",
    "       (FT003['d1'] == '8') |\n",
    "       (FT003['d1'] == '9')),  \n",
    "       'tipoiddeudor_corregido'] = 'NI' \n",
    "\n",
    "FT003.loc[\n",
    "       (FT003['tipoiddeudor_corregido'] == 'NA') &\n",
    "       (FT003['tipoiddeudor_corregido'] != 'NI'), # Para completar el tipo de deudor CC\n",
    "       'tipoiddeudor_corregido'] = 'CC' \n",
    "\n",
    "FT003.loc[\n",
    "       (FT003['tipoiddeudor_corregido'] == 'NA') &\n",
    "       (FT003['largo'] != 9), # Para completar el tipo de deudor CC\n",
    "       'tipoiddeudor_corregido'] = 'CC' "
   ]
  },
  {
   "cell_type": "code",
   "execution_count": null,
   "metadata": {},
   "outputs": [],
   "source": []
  },
  {
   "cell_type": "code",
   "execution_count": null,
   "metadata": {},
   "outputs": [],
   "source": []
  },
  {
   "cell_type": "code",
   "execution_count": null,
   "metadata": {},
   "outputs": [],
   "source": []
  },
  {
   "cell_type": "code",
   "execution_count": null,
   "metadata": {},
   "outputs": [],
   "source": [
    "# Para conocer las diferencias entre las correciones\n",
    "print(FT003.tipoiddeudor.value_counts(dropna=True))\n",
    "print(FT003.tipoiddeudor_corregido.value_counts())"
   ]
  },
  {
   "cell_type": "code",
   "execution_count": null,
   "metadata": {},
   "outputs": [],
   "source": [
    "# Para hacer la suma de CXC por NIT EPS, tipo de deudor corregido, NIT proveedor, Mes y Año\n",
    "FT003 = FT003.groupby(['nit_eps', 'tipoiddeudor', 'nitproveedor', 'mes', 'ano']).agg({'CXC': 'sum'}).reset_index()"
   ]
  },
  {
   "cell_type": "code",
   "execution_count": null,
   "metadata": {},
   "outputs": [],
   "source": [
    "FT003[['ano', 'mes']] = FT003[['ano', 'mes']].astype(int)"
   ]
  },
  {
   "cell_type": "code",
   "execution_count": null,
   "metadata": {},
   "outputs": [],
   "source": [
    "# Se crea el rango de meses necesarios en cada mes\n",
    "fecha_ideal=range(1, 12 + 1)\n",
    "# Se rellena con ceros la información para los meses faltantes\n",
    "FT003 = FT003.set_index('mes').groupby(['nit_eps', 'tipoiddeudor', 'nitproveedor', 'ano']).apply(lambda x: x.reindex(index=fecha_ideal, fill_value=0)).drop(['nit_eps', 'tipoiddeudor', 'nitproveedor', 'ano'], 1).reset_index()"
   ]
  },
  {
   "cell_type": "code",
   "execution_count": null,
   "metadata": {},
   "outputs": [],
   "source": [
    "\n",
    "# Se encuentran las observaciones que cumplen las condiciones\n",
    "df_filtered = FT003[\n",
    "    (FT003['ano'] == 2019) & (FT003['mes'] == 1) |\n",
    "    (FT003['ano'] == 2019) & (FT003['mes'] == 2) |\n",
    "    (FT003['ano'] == 2019) & (FT003['mes'] == 3) |\n",
    "    (FT003['ano'] == 2019) & (FT003['mes'] == 4) |\n",
    "    (FT003['ano'] == 2019) & (FT003['mes'] == 5) |\n",
    "    (FT003['ano'] == 2019) & (FT003['mes'] == 6) |\n",
    "    (FT003['ano'] == 2019) & (FT003['mes'] == 7) |\n",
    "    (FT003['ano'] == 2019) & (FT003['mes'] == 8) |\n",
    "    (FT003['ano'] == 2019) & (FT003['mes'] == 9) |\n",
    "    (FT003['ano'] == 2019) & (FT003['mes'] == 10) |\n",
    "    (FT003['ano'] == 2019) & (FT003['mes'] == 11)\n",
    "    ].index\n",
    "\n",
    "# Se eliminan las observaciones que cumplen las condiciones anteriore\n",
    "FT003 = FT003.drop(df_filtered)"
   ]
  },
  {
   "cell_type": "code",
   "execution_count": null,
   "metadata": {},
   "outputs": [],
   "source": [
    "# Se completan los años y los meses para las observaciones que no presentaron ninguna observación en un año de interés. Por ejemplo, a aquellos sujetos que reportaron cifras en 2019, pero no en 2020, se les completa el año 2020 para poder calcular la diferencia entre diciembre de 2019 y enero de 2020\n",
    "# Se convierte la variable en mes y año\n",
    "FT003[['ano', 'mes']] = FT003[['ano', 'mes']].astype(float)\n",
    "FT003['periodo'] = pd.to_datetime(FT003.ano*10000 + FT003.mes*100 + 1, format='%Y%m%d')\n",
    "fecha_ideal = pd.date_range('12-01-2019','05-01-2021',freq='M')"
   ]
  },
  {
   "cell_type": "code",
   "execution_count": null,
   "metadata": {},
   "outputs": [],
   "source": [
    "FT003_dif = FT003.groupby(['nit_eps', 'tipoiddeudor', 'nitproveedor', pd.Grouper(key='periodo', freq='M')])[['CXC']].sum().reset_index()"
   ]
  },
  {
   "cell_type": "code",
   "execution_count": null,
   "metadata": {},
   "outputs": [],
   "source": [
    "FT003_dif = FT003_dif.set_index('periodo').groupby(['nit_eps', 'tipoiddeudor', 'nitproveedor']).apply(lambda x: x.reindex(index=fecha_ideal, fill_value=0)).drop(['nit_eps', 'tipoiddeudor', 'nitproveedor'], 1).reset_index()"
   ]
  },
  {
   "cell_type": "code",
   "execution_count": null,
   "metadata": {},
   "outputs": [],
   "source": [
    "# Se reemplazan los nombres de las columnas para facilitar el tratamiento\n",
    "FT003_dif.rename(columns={'level_3': 'periodo'}, inplace=True)"
   ]
  },
  {
   "cell_type": "code",
   "execution_count": null,
   "metadata": {},
   "outputs": [],
   "source": [
    "FT003_dif = FT003_dif.set_index(['nit_eps', 'nitproveedor', 'tipoiddeudor', 'periodo'])"
   ]
  },
  {
   "cell_type": "code",
   "execution_count": null,
   "metadata": {},
   "outputs": [],
   "source": [
    "# Se calcula la diferencia mensual para conocer el valor mensual de cada cuenta ya que por defecto vienen agregadas\n",
    "FT003_dif = FT003_dif.diff().fillna(0).reset_index()"
   ]
  },
  {
   "cell_type": "code",
   "execution_count": null,
   "metadata": {},
   "outputs": [],
   "source": [
    "# Se reemplazan los nombres de las columnas para facilitar el tratamiento\n",
    "FT003_dif.rename(columns={'CXC': 'DCXCmes'}, inplace=True)\n",
    "\n",
    "#  Se extrae el mes y el año para porterior left join con el agregado\n",
    "FT003_dif['ano'] = FT003_dif['periodo'].dt.year\n",
    "FT003_dif['mes'] = FT003_dif['periodo'].dt.month\n",
    "\n",
    "#Se transforman las variables a STR para mejorar su manipulación\n",
    "FT003[['ano', 'mes']] = FT003[['ano', 'mes']].astype(int)\n",
    "\n",
    "# Se eliminan las columnas que no son de interés\n",
    "FT003 = FT003.drop(['periodo'], axis=1)\n",
    "FT003_dif = FT003_dif.drop(['periodo'], axis=1)"
   ]
  },
  {
   "cell_type": "code",
   "execution_count": null,
   "metadata": {},
   "outputs": [],
   "source": [
    "# Se unen las dos bases de datos para obtener la información de webgironoupc (Giro Directo - No_UPC - Compra de Cartera) y FT005 en una sola base de datos. Desagregando el valor de VCausado y el VPagado para cada mes\n",
    "FT003 = pd.merge(FT003_dif, FT003, how='left', left_on=['nit_eps', 'tipoiddeudor', 'nitproveedor', 'mes', 'ano'], right_on=['nit_eps', 'tipoiddeudor', 'nitproveedor', 'mes', 'ano'])"
   ]
  },
  {
   "cell_type": "code",
   "execution_count": null,
   "metadata": {},
   "outputs": [],
   "source": [
    "# Se encuentran las observaciones que cumplen las condiciones\n",
    "df_filtered = FT003[\n",
    "    (FT003['ano'] == 2019)\n",
    "    ].index\n",
    "\n",
    "# Se eliminan las observaciones que cumplen las condiciones anteriore\n",
    "FT003 = FT003.drop(df_filtered)"
   ]
  },
  {
   "cell_type": "code",
   "execution_count": null,
   "metadata": {},
   "outputs": [],
   "source": [
    "# Se carga la base de datos prestadores.dta para su posterior pega\n",
    "prestadores = pd.read_stata('C:/Users/Miguel Angel/Documents/Supersalud/Pagos_EPS_Proveedores/prestadores.dta')"
   ]
  },
  {
   "cell_type": "code",
   "execution_count": null,
   "metadata": {},
   "outputs": [],
   "source": [
    "# Se comprueba que no haya duplicados cuando se filtra por Nitproveedor. Para esto se cuenta el número de duplicados\n",
    "duplicados_prestadores = prestadores[prestadores.duplicated(['nitproveedor'], keep='last')]\n",
    "print(\"El número de registros duplicados es:\", duplicados_prestadores.nitproveedor.count(), sep='\\n')"
   ]
  },
  {
   "cell_type": "code",
   "execution_count": null,
   "metadata": {},
   "outputs": [],
   "source": [
    "# Se unen las dos bases de datos para obtener la información de FT005 con webgironoupc (Giro Directo - No_UPC - Compra de Cartera) y prestadores\n",
    "FT003_pres= pd.merge(FT003, prestadores, how='left', left_on=['nitproveedor'], right_on=['nitproveedor'])"
   ]
  },
  {
   "cell_type": "code",
   "execution_count": null,
   "metadata": {},
   "outputs": [],
   "source": [
    "# Se carga la base de datos operadores.dta para su posterior pega\n",
    "operadores = pd.read_stata('C:/Users/Miguel Angel/Documents/Supersalud/Pagos_EPS_Proveedores/operadores.dta')"
   ]
  },
  {
   "cell_type": "code",
   "execution_count": null,
   "metadata": {},
   "outputs": [],
   "source": [
    "# Se comprueba que no haya duplicados cuando se filtra por Nitproveedor. Para esto se cuenta el número de duplicados\n",
    "duplicados_operadores = operadores[operadores.duplicated(['nitproveedor'], keep='last')]\n",
    "print(\"El número de registros duplicados es:\", duplicados_operadores.nitproveedor.count(), sep='\\n')"
   ]
  },
  {
   "cell_type": "code",
   "execution_count": null,
   "metadata": {},
   "outputs": [],
   "source": [
    "# Se unen las dos bases de datos para obtener la información de FT005 con webgironoupc (Giro Directo - No_UPC - Compra de Cartera) y prestadores\n",
    "FT003_pres_ope= pd.merge(FT003_pres, operadores, how='left', left_on=['nitproveedor'], right_on=['nitproveedor'])"
   ]
  },
  {
   "cell_type": "code",
   "execution_count": null,
   "metadata": {},
   "outputs": [],
   "source": [
    "# Se reemplazan los nombres de las columnas para facilitar el tratamiento\n",
    "FT003_pres_ope.rename(columns={'tipoiddeudor_corregido': 'tipoiddeudor'}, inplace=True)"
   ]
  },
  {
   "cell_type": "code",
   "execution_count": null,
   "metadata": {},
   "outputs": [],
   "source": [
    "# Se eliminan la bases que no se necesitan para liberar espacio en la memoria\n",
    "del [FT003, FT003_pres, operadores, duplicados_operadores, prestadores, duplicados_prestadores, duplicadosFT003, CXC]"
   ]
  },
  {
   "cell_type": "code",
   "execution_count": null,
   "metadata": {},
   "outputs": [],
   "source": [
    "# Se crea la columna noID tomando como referencia la columna clpr_nombre\n",
    "FT003_pres_ope['noID'] = FT003_pres_ope['clpr_nombre'] "
   ]
  },
  {
   "cell_type": "code",
   "execution_count": null,
   "metadata": {},
   "outputs": [],
   "source": [
    "# Se establecen las condiciones para establecer correctamente el noID\n",
    "\n",
    "FT003_pres_ope.loc[(FT003_pres_ope['nit_eps'] == FT003_pres_ope['nitproveedor']), # Se reemplaza por EPS todo aquel proveedor que sea una EPS\n",
    "       'noID'] = 'EPS'\n",
    "\n",
    "FT003_pres_ope.loc[(FT003_pres_ope['nitproveedor'] == '\"901037916\"') | # Se reemplazan los NIT de la nación\n",
    "       (FT003_pres_ope['nitproveedor'] == \"900047282\") |\n",
    "       (FT003_pres_ope['nitproveedor'] == \"899999014\") |\n",
    "       (FT003_pres_ope['nitproveedor'] == \"900474727\") |\n",
    "       (FT003_pres_ope['nitproveedor'] == \"900462447\"),  \n",
    "       'noID'] = 'Nacion' \n",
    "\n",
    "FT003_pres_ope.loc[FT003_pres_ope['noID'].isnull(), 'noID'] = 'Otro' # Para rellenar los vacios con \"Otro\"\n",
    "\n",
    "FT003_pres_ope.loc[(FT003_pres_ope['clpr_nombre'] == 'IPS') & # Para corregir el IPS cuando Tipo es vacío, por IPS-OL-DM-GIM\n",
    "       (FT003_pres_ope['tipo'].notnull()), \n",
    "       'noID'] = 'IPS-OL-DM-GIM'\n",
    "\n",
    "FT003_pres_ope.loc[(FT003_pres_ope['tipo'].notnull()) & # Para dejar el Tipo cuando se tiene OSD u Otro\n",
    "       ((FT003_pres_ope['noID'] == 'OSD') |\n",
    "       (FT003_pres_ope['noID'] == 'Otro')), \n",
    "       'noID'] = FT003_pres_ope['tipo']\n",
    "\n",
    "FT003_pres_ope.loc[(FT003_pres_ope['noID'] == 'Otro') & # Para cambiar el noID por Persona Natural si en Tipo Proveedor se tiene CC y CE\n",
    "       ((FT003_pres_ope['tipoiddeudor'] == 'CC') |\n",
    "       (FT003_pres_ope['tipoiddeudor'] == 'CE')), \n",
    "       'noID'] = 'Persona Natural'\n",
    "\n",
    "FT003_pres_ope.loc[(FT003_pres_ope['departamento'].isnull()) & # Para asignar \"Otro\" al departamento si está vacío y si es una IPS o IPS Pública\n",
    "       ((FT003_pres_ope['noID'] == 'IPS Pública') |\n",
    "       (FT003_pres_ope['noID'] == 'IPS')), \n",
    "       'departamento'] = 'Otro'"
   ]
  },
  {
   "cell_type": "code",
   "execution_count": null,
   "metadata": {},
   "outputs": [],
   "source": [
    "# Se convierte la variable en mes y año\n",
    "FT003_pres_ope[['ano', 'mes']] = FT003_pres_ope[['ano', 'mes']].astype(float).astype(int)"
   ]
  },
  {
   "cell_type": "code",
   "execution_count": null,
   "metadata": {},
   "outputs": [],
   "source": [
    "# Se agrega la información por NIT_EPS, Nitproveedor, noID, Departamento, Ano, Mes para las variables VPagado, VCausado, PW, Giro, No_UPC, Compra_Cartera\n",
    "FT003_pres_ope = FT003_pres_ope.groupby(['nit_eps', 'nitproveedor', 'noID','mes', 'ano']).agg({'CXC':'sum', 'DCXCmes':'sum'}).reset_index()"
   ]
  },
  {
   "cell_type": "code",
   "execution_count": null,
   "metadata": {},
   "outputs": [],
   "source": [
    "# Para guardar la base de datos lista para ser tratada en formato Excel y CSV\n",
    "\n",
    "# Para guardar la base de datos lista para ser tratada en formato Excel y CSV\n",
    "# FT003_pres_ope.to_excel(r'C:/Users/Miguel Angel/Documents/Supersalud/Pagos_EPS_Proveedores/cxcprestador_2020_2021.xlsx', index = False)\n",
    "FT003_pres_ope.to_csv(r'C:/Users/Miguel Angel/Documents/Supersalud/Pagos_EPS_Proveedores/cxcprestador_2020_2021.csv', index = False, encoding='utf-8-sig')"
   ]
  },
  {
   "cell_type": "code",
   "execution_count": null,
   "metadata": {},
   "outputs": [],
   "source": [
    "# Se eliminan la bases que no se necesitan para liberar espacio en la memoria\n",
    "del [FT003_pres_ope, FT003_dif, df_filtered, fecha_ideal]"
   ]
  }
 ],
 "metadata": {
  "interpreter": {
   "hash": "b3ba2566441a7c06988d0923437866b63cedc61552a5af99d1f4fb67d367b25f"
  },
  "kernelspec": {
   "display_name": "Python 3.8.5 64-bit ('base': conda)",
   "name": "python3"
  },
  "language_info": {
   "name": "python",
   "version": ""
  }
 },
 "nbformat": 4,
 "nbformat_minor": 4
}