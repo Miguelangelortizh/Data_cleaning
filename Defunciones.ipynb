{
 "cells": [
  {
   "cell_type": "code",
   "execution_count": 1,
   "metadata": {},
   "outputs": [],
   "source": [
    "#Cargamos los paquetes que vamos a necesitar\n",
    "import pandas as pd\n",
    "import numpy as np\n",
    "from pandas_profiling import ProfileReport\n",
    "\n",
    "# Visualisation\n",
    "import matplotlib.pyplot as plt\n",
    "import seaborn as sns\n",
    "import plotly.express as px\n",
    "import plotly.graph_objects as go"
   ]
  },
  {
   "cell_type": "markdown",
   "metadata": {},
   "source": [
    "<h1>Defunciones Fetales</h1>"
   ]
  },
  {
   "cell_type": "code",
   "execution_count": 2,
   "metadata": {},
   "outputs": [],
   "source": [
    "# Para leer los datos descargados desde el Dane\n",
    "\n",
    "df2010 = pd.read_excel('C://Users/ortiz/Documents/Cursos/SIC_2020/Defunciones_Fetales/2010.xls', sheet_name='76', header=11)\n",
    "df2011 = pd.read_excel('C://Users/ortiz/Documents/Cursos/SIC_2020/Defunciones_Fetales/2011.xls', sheet_name='76', header=11)\n",
    "df2012 = pd.read_excel('C://Users/ortiz/Documents/Cursos/SIC_2020/Defunciones_Fetales/2012.xls', sheet_name='76', header=11)\n",
    "df2013 = pd.read_excel('C://Users/ortiz/Documents/Cursos/SIC_2020/Defunciones_Fetales/2013.xls', sheet_name='76', header=11)\n",
    "df2014 = pd.read_excel('C://Users/ortiz/Documents/Cursos/SIC_2020/Defunciones_Fetales/2014.xls', sheet_name='76', header=11)\n",
    "df2015 = pd.read_excel('C://Users/ortiz/Documents/Cursos/SIC_2020/Defunciones_Fetales/2015.xls', sheet_name='76', header=11)\n",
    "df2016 = pd.read_excel('C://Users/ortiz/Documents/Cursos/SIC_2020/Defunciones_Fetales/2016.xls', sheet_name='76', header=11)\n",
    "df2017 = pd.read_excel('C://Users/ortiz/Documents/Cursos/SIC_2020/Defunciones_Fetales/2017.xls', sheet_name='76', header=13)\n",
    "df2018 = pd.read_excel('C://Users/ortiz/Documents/Cursos/SIC_2020/Defunciones_Fetales/2018.xls', sheet_name='76', header=12)\n",
    "df2019 = pd.read_excel('C://Users/ortiz/Documents/Cursos/SIC_2020/Defunciones_Fetales/2019.xls', sheet_name='76', header=12)\n",
    "df2020 = pd.read_excel('C://Users/ortiz/Documents/Cursos/SIC_2020/Defunciones_Fetales/2020.xls', sheet_name='76', header=12)\n"
   ]
  },
  {
   "cell_type": "code",
   "execution_count": 3,
   "metadata": {},
   "outputs": [],
   "source": [
    "# Para renombrar las columnas de interés\n",
    "\n",
    "df2010.rename(columns={'Unnamed: 0': 'Municipio', 'Unnamed: 1': 'Indicador', 'Unnamed: 2': 'Total'}, inplace=True)\n",
    "df2011.rename(columns={'Unnamed: 0': 'Municipio', 'Unnamed: 1': 'Indicador', 'Unnamed: 2': 'Total'}, inplace=True)\n",
    "df2012.rename(columns={'Unnamed: 0': 'Municipio', 'Unnamed: 1': 'Indicador', 'Unnamed: 2': 'Total'}, inplace=True)\n",
    "df2013.rename(columns={'Unnamed: 0': 'Municipio', 'Unnamed: 1': 'Indicador', 'Unnamed: 2': 'Total'}, inplace=True)\n",
    "df2014.rename(columns={'Unnamed: 0': 'Municipio', 'Unnamed: 1': 'Indicador', 'Unnamed: 2': 'Total'}, inplace=True)\n",
    "df2015.rename(columns={'Unnamed: 0': 'Municipio', 'Unnamed: 1': 'Indicador', 'Unnamed: 2': 'Total'}, inplace=True)\n",
    "df2016.rename(columns={'Unnamed: 0': 'Municipio', 'Unnamed: 1': 'Indicador', 'Unnamed: 2': 'Total'}, inplace=True)\n",
    "df2017.rename(columns={'Unnamed: 0': 'Municipio', 'Unnamed: 1': 'Indicador', 'Unnamed: 2': 'Total'}, inplace=True)\n",
    "df2018.rename(columns={'Unnamed: 0': 'Municipio', 'Unnamed: 1': 'Indicador', 'Unnamed: 2': 'Total'}, inplace=True)\n",
    "df2019.rename(columns={'Unnamed: 0': 'Municipio', 'Unnamed: 1': 'Indicador', 'Unnamed: 2': 'Total'}, inplace=True)\n",
    "df2020.rename(columns={'Unnamed: 0': 'Municipio', 'Unnamed: 1': 'Indicador', 'Unnamed: 2': 'Total'}, inplace=True)"
   ]
  },
  {
   "cell_type": "code",
   "execution_count": 4,
   "metadata": {},
   "outputs": [],
   "source": [
    "# Para agregar la columna de año y posteriormente concatenar las bases\n",
    "\n",
    "df2010['Año']='2010'\n",
    "df2011['Año']='2011'\n",
    "df2012['Año']='2012'\n",
    "df2013['Año']='2013'\n",
    "df2014['Año']='2014'\n",
    "df2015['Año']='2015'\n",
    "df2016['Año']='2016'\n",
    "df2017['Año']='2017'\n",
    "df2018['Año']='2018'\n",
    "df2019['Año']='2019'\n",
    "df2020['Año']='2020'"
   ]
  },
  {
   "cell_type": "code",
   "execution_count": 5,
   "metadata": {},
   "outputs": [],
   "source": [
    "# Para seleccionar los valores totales de cada municipio para el periodo de interés\n",
    "\n",
    "df2010=df2010.loc[df2010['Indicador'] == 'Total']\n",
    "df2011=df2011.loc[df2011['Indicador'] == 'Total']\n",
    "df2012=df2012.loc[df2012['Indicador'] == 'Total']\n",
    "df2013=df2013.loc[df2013['Indicador'] == 'Total']\n",
    "df2014=df2014.loc[df2014['Indicador'] == 'Total']\n",
    "df2015=df2015.loc[df2015['Indicador'] == 'Total']\n",
    "df2016=df2016.loc[df2016['Indicador'] == 'Total']\n",
    "df2017=df2017.loc[df2017['Indicador'] == 'Total']\n",
    "df2018=df2018.loc[df2018['Indicador'] == 'Total']\n",
    "df2019=df2019.loc[df2019['Indicador'] == 'Total']\n",
    "df2020=df2020.loc[df2020['Indicador'] == 'Total']"
   ]
  },
  {
   "cell_type": "code",
   "execution_count": 6,
   "metadata": {},
   "outputs": [],
   "source": [
    "# Se limpian los nombres de los municipios y se dejan aparte los códigos de los mismo\n",
    "\n",
    "df2010[['Codigo_Municipio','Municipio']] = df2010.Municipio.str.split(' ',n=1,expand=True)\n",
    "df2011[['Codigo_Municipio','Municipio']] = df2011.Municipio.str.split(' ',n=1,expand=True)\n",
    "df2012[['Codigo_Municipio','Municipio']] = df2012.Municipio.str.split(' ',n=1,expand=True)\n",
    "df2013[['Codigo_Municipio','Municipio']] = df2013.Municipio.str.split(' ',n=1,expand=True)\n",
    "df2014[['Codigo_Municipio','Municipio']] = df2014.Municipio.str.split(' ',n=1,expand=True)\n",
    "df2015[['Codigo_Municipio','Municipio']] = df2015.Municipio.str.split(' ',n=1,expand=True)\n",
    "df2016[['Codigo_Municipio','Municipio']] = df2016.Municipio.str.split(' ',n=1,expand=True)\n",
    "df2017[['Codigo_Municipio','Municipio']] = df2017.Municipio.str.split(' ',n=1,expand=True)\n",
    "df2018[['Codigo_Municipio','Municipio']] = df2018.Municipio.str.split(' ',n=1,expand=True)\n",
    "df2019[['Codigo_Municipio','Municipio']] = df2019.Municipio.str.split(' ',n=1,expand=True)\n",
    "df2020[['Codigo_Municipio','Municipio']] = df2020.Municipio.str.split(' ',n=1,expand=True)"
   ]
  },
  {
   "cell_type": "code",
   "execution_count": 7,
   "metadata": {},
   "outputs": [],
   "source": [
    "# Para rellenar el primer mising value que corresponde al nombre del departamento Valle del Cauca\n",
    "\n",
    "df2010=df2010.fillna(value='Valle del Cauca', limit=1)\n",
    "df2011=df2011.fillna(value='Valle del Cauca', limit=1)\n",
    "df2012=df2012.fillna(value='Valle del Cauca', limit=1)\n",
    "df2013=df2013.fillna(value='Valle del Cauca', limit=1)\n",
    "df2014=df2014.fillna(value='Valle del Cauca', limit=1)\n",
    "df2015=df2015.fillna(value='Valle del Cauca', limit=1)\n",
    "df2016=df2016.fillna(value='Valle del Cauca', limit=1)\n",
    "df2017=df2017.fillna(value='Valle del Cauca', limit=1)\n",
    "df2018=df2018.fillna(value='Valle del Cauca', limit=1)\n",
    "df2019=df2019.fillna(value='Valle del Cauca', limit=1)\n",
    "df2020=df2020.fillna(value='Valle del Cauca', limit=1)"
   ]
  },
  {
   "cell_type": "code",
   "execution_count": 8,
   "metadata": {},
   "outputs": [],
   "source": [
    "# Se concatenan la bases de datos \n",
    "frames = [df2010, df2011, df2012, df2013, df2014, df2015, df2016, df2017, df2018, df2019, df2020,]\n",
    "Defunciones_fetales = pd.concat(frames, ignore_index=True)"
   ]
  },
  {
   "cell_type": "code",
   "execution_count": 9,
   "metadata": {},
   "outputs": [
    {
     "data": {
      "text/plain": [
       "array(['Valle del Cauca', 'Cali', 'Alcalá', 'Andalucía', 'Ansermanuevo',\n",
       "       'Bolívar', 'Buenaventura', 'Guadalajara de Buga', 'Bugalagrande',\n",
       "       'Caicedonia', 'Calima', 'Candelaria', 'Cartago', 'Dagua',\n",
       "       'El Águila', 'El Cairo', 'El Cerrito', 'El Dovio', 'Florida',\n",
       "       'Ginebra', 'Guacarí', 'Jamundí', 'La Cumbre', 'La Unión',\n",
       "       'La Victoria', 'Obando', 'Palmira', 'Pradera', 'Restrepo',\n",
       "       'Riofrío', 'Roldanillo', 'San Pedro', 'Sevilla', 'Toro',\n",
       "       'Trujillo', 'Tuluá', 'Ulloa', 'Vijes', 'Yotoco', 'Yumbo', 'Zarzal',\n",
       "       'Sin Información', 'Argelia', 'Versalles'], dtype=object)"
      ]
     },
     "execution_count": 9,
     "metadata": {},
     "output_type": "execute_result"
    }
   ],
   "source": [
    "Defunciones_fetales['Municipio'].unique()"
   ]
  },
  {
   "cell_type": "code",
   "execution_count": 10,
   "metadata": {},
   "outputs": [],
   "source": [
    "# Se procede a crear el filtro para seleccionar las filas que cumplen la condición de interés en las filas. En este caso se seleccionan los municipios de interés para la jurisdicción de la Cámara de Comercio de Cali\n",
    "filter1 = Defunciones_fetales[\"Municipio\"].isin(['Cali', 'Yumbo', 'Jamundí', 'Dagua', 'La Cumbre', 'Vijes']) \n",
    "  \n",
    "# Se crea la base de datos que cumpla las condiciones dadas\n",
    "Defunciones_fetales=Defunciones_fetales[filter1]"
   ]
  },
  {
   "cell_type": "code",
   "execution_count": 11,
   "metadata": {},
   "outputs": [
    {
     "data": {
      "text/plain": [
       "Municipio\n",
       "Cali         11\n",
       "Dagua        10\n",
       "Jamundí      11\n",
       "La Cumbre     7\n",
       "Vijes         7\n",
       "Yumbo        11\n",
       "Name: Total, dtype: int64"
      ]
     },
     "execution_count": 11,
     "metadata": {},
     "output_type": "execute_result"
    }
   ],
   "source": [
    "# Se cuentan las observaciones (años) que tiene cada municipio\n",
    "\n",
    "Defunciones_fetales.groupby('Municipio')['Total'].nunique()"
   ]
  },
  {
   "cell_type": "code",
   "execution_count": 12,
   "metadata": {},
   "outputs": [
    {
     "data": {
      "application/vnd.plotly.v1+json": {
       "config": {
        "plotlyServerURL": "https://plot.ly"
       },
       "data": [
        {
         "alignmentgroup": "True",
         "hovertemplate": "Año=2010<br>Municipio=%{x}<br>Total=%{y}<extra></extra>",
         "legendgroup": "2010",
         "marker": {
          "color": "rgb(36, 86, 104)"
         },
         "name": "2010",
         "offsetgroup": "2010",
         "orientation": "v",
         "showlegend": true,
         "textposition": "auto",
         "type": "bar",
         "x": [
          "Cali",
          "Dagua",
          "Jamundí",
          "La Cumbre",
          "Vijes",
          "Yumbo"
         ],
         "xaxis": "x",
         "y": [
          546,
          13,
          22,
          2,
          2,
          16
         ],
         "yaxis": "y"
        },
        {
         "alignmentgroup": "True",
         "hovertemplate": "Año=2011<br>Municipio=%{x}<br>Total=%{y}<extra></extra>",
         "legendgroup": "2011",
         "marker": {
          "color": "rgb(15, 114, 121)"
         },
         "name": "2011",
         "offsetgroup": "2011",
         "orientation": "v",
         "showlegend": true,
         "textposition": "auto",
         "type": "bar",
         "x": [
          "Cali",
          "Dagua",
          "Jamundí",
          "La Cumbre",
          "Vijes",
          "Yumbo"
         ],
         "xaxis": "x",
         "y": [
          728,
          11,
          32,
          2,
          3,
          36
         ],
         "yaxis": "y"
        },
        {
         "alignmentgroup": "True",
         "hovertemplate": "Año=2012<br>Municipio=%{x}<br>Total=%{y}<extra></extra>",
         "legendgroup": "2012",
         "marker": {
          "color": "rgb(13, 143, 129)"
         },
         "name": "2012",
         "offsetgroup": "2012",
         "orientation": "v",
         "showlegend": true,
         "textposition": "auto",
         "type": "bar",
         "x": [
          "Cali",
          "Dagua",
          "Jamundí",
          "La Cumbre",
          "Vijes",
          "Yumbo"
         ],
         "xaxis": "x",
         "y": [
          1659,
          10,
          37,
          1,
          3,
          47
         ],
         "yaxis": "y"
        },
        {
         "alignmentgroup": "True",
         "hovertemplate": "Año=2013<br>Municipio=%{x}<br>Total=%{y}<extra></extra>",
         "legendgroup": "2013",
         "marker": {
          "color": "rgb(57, 171, 126)"
         },
         "name": "2013",
         "offsetgroup": "2013",
         "orientation": "v",
         "showlegend": true,
         "textposition": "auto",
         "type": "bar",
         "x": [
          "Cali",
          "Dagua",
          "Jamundí",
          "La Cumbre",
          "Vijes",
          "Yumbo"
         ],
         "xaxis": "x",
         "y": [
          3222,
          33,
          120,
          7,
          4,
          82
         ],
         "yaxis": "y"
        },
        {
         "alignmentgroup": "True",
         "hovertemplate": "Año=2014<br>Municipio=%{x}<br>Total=%{y}<extra></extra>",
         "legendgroup": "2014",
         "marker": {
          "color": "rgb(110, 197, 116)"
         },
         "name": "2014",
         "offsetgroup": "2014",
         "orientation": "v",
         "showlegend": true,
         "textposition": "auto",
         "type": "bar",
         "x": [
          "Cali",
          "Dagua",
          "Jamundí",
          "La Cumbre",
          "Vijes",
          "Yumbo"
         ],
         "xaxis": "x",
         "y": [
          3617,
          47,
          119,
          12,
          11,
          133
         ],
         "yaxis": "y"
        },
        {
         "alignmentgroup": "True",
         "hovertemplate": "Año=2015<br>Municipio=%{x}<br>Total=%{y}<extra></extra>",
         "legendgroup": "2015",
         "marker": {
          "color": "rgb(169, 220, 103)"
         },
         "name": "2015",
         "offsetgroup": "2015",
         "orientation": "v",
         "showlegend": true,
         "textposition": "auto",
         "type": "bar",
         "x": [
          "Cali",
          "Dagua",
          "Jamundí",
          "La Cumbre",
          "Vijes",
          "Yumbo"
         ],
         "xaxis": "x",
         "y": [
          3379,
          39,
          118,
          11,
          8,
          107
         ],
         "yaxis": "y"
        },
        {
         "alignmentgroup": "True",
         "hovertemplate": "Año=2016<br>Municipio=%{x}<br>Total=%{y}<extra></extra>",
         "legendgroup": "2016",
         "marker": {
          "color": "rgb(237, 239, 93)"
         },
         "name": "2016",
         "offsetgroup": "2016",
         "orientation": "v",
         "showlegend": true,
         "textposition": "auto",
         "type": "bar",
         "x": [
          "Cali",
          "Dagua",
          "Jamundí",
          "La Cumbre",
          "Vijes",
          "Yumbo"
         ],
         "xaxis": "x",
         "y": [
          3022,
          40,
          137,
          11,
          12,
          88
         ],
         "yaxis": "y"
        },
        {
         "alignmentgroup": "True",
         "hovertemplate": "Año=2017<br>Municipio=%{x}<br>Total=%{y}<extra></extra>",
         "legendgroup": "2017",
         "marker": {
          "color": "rgb(36, 86, 104)"
         },
         "name": "2017",
         "offsetgroup": "2017",
         "orientation": "v",
         "showlegend": true,
         "textposition": "auto",
         "type": "bar",
         "x": [
          "Cali",
          "Dagua",
          "Jamundí",
          "La Cumbre",
          "Vijes",
          "Yumbo"
         ],
         "xaxis": "x",
         "y": [
          2392,
          25,
          95,
          6,
          11,
          69
         ],
         "yaxis": "y"
        },
        {
         "alignmentgroup": "True",
         "hovertemplate": "Año=2018<br>Municipio=%{x}<br>Total=%{y}<extra></extra>",
         "legendgroup": "2018",
         "marker": {
          "color": "rgb(15, 114, 121)"
         },
         "name": "2018",
         "offsetgroup": "2018",
         "orientation": "v",
         "showlegend": true,
         "textposition": "auto",
         "type": "bar",
         "x": [
          "Cali",
          "Dagua",
          "Jamundí",
          "La Cumbre",
          "Vijes",
          "Yumbo"
         ],
         "xaxis": "x",
         "y": [
          2280,
          39,
          135,
          7,
          8,
          95
         ],
         "yaxis": "y"
        },
        {
         "alignmentgroup": "True",
         "hovertemplate": "Año=2019<br>Municipio=%{x}<br>Total=%{y}<extra></extra>",
         "legendgroup": "2019",
         "marker": {
          "color": "rgb(13, 143, 129)"
         },
         "name": "2019",
         "offsetgroup": "2019",
         "orientation": "v",
         "showlegend": true,
         "textposition": "auto",
         "type": "bar",
         "x": [
          "Cali",
          "Dagua",
          "Jamundí",
          "La Cumbre",
          "Vijes",
          "Yumbo"
         ],
         "xaxis": "x",
         "y": [
          2087,
          19,
          140,
          3,
          6,
          91
         ],
         "yaxis": "y"
        },
        {
         "alignmentgroup": "True",
         "hovertemplate": "Año=2020<br>Municipio=%{x}<br>Total=%{y}<extra></extra>",
         "legendgroup": "2020",
         "marker": {
          "color": "rgb(57, 171, 126)"
         },
         "name": "2020",
         "offsetgroup": "2020",
         "orientation": "v",
         "showlegend": true,
         "textposition": "auto",
         "type": "bar",
         "x": [
          "Cali",
          "Dagua",
          "Jamundí",
          "Vijes",
          "Yumbo"
         ],
         "xaxis": "x",
         "y": [
          476,
          7,
          25,
          2,
          21
         ],
         "yaxis": "y"
        }
       ],
       "layout": {
        "barmode": "group",
        "legend": {
         "title": {
          "text": "Año"
         },
         "tracegroupgap": 0
        },
        "template": {
         "data": {
          "bar": [
           {
            "error_x": {
             "color": "#2a3f5f"
            },
            "error_y": {
             "color": "#2a3f5f"
            },
            "marker": {
             "line": {
              "color": "#E5ECF6",
              "width": 0.5
             }
            },
            "type": "bar"
           }
          ],
          "barpolar": [
           {
            "marker": {
             "line": {
              "color": "#E5ECF6",
              "width": 0.5
             }
            },
            "type": "barpolar"
           }
          ],
          "carpet": [
           {
            "aaxis": {
             "endlinecolor": "#2a3f5f",
             "gridcolor": "white",
             "linecolor": "white",
             "minorgridcolor": "white",
             "startlinecolor": "#2a3f5f"
            },
            "baxis": {
             "endlinecolor": "#2a3f5f",
             "gridcolor": "white",
             "linecolor": "white",
             "minorgridcolor": "white",
             "startlinecolor": "#2a3f5f"
            },
            "type": "carpet"
           }
          ],
          "choropleth": [
           {
            "colorbar": {
             "outlinewidth": 0,
             "ticks": ""
            },
            "type": "choropleth"
           }
          ],
          "contour": [
           {
            "colorbar": {
             "outlinewidth": 0,
             "ticks": ""
            },
            "colorscale": [
             [
              0,
              "#0d0887"
             ],
             [
              0.1111111111111111,
              "#46039f"
             ],
             [
              0.2222222222222222,
              "#7201a8"
             ],
             [
              0.3333333333333333,
              "#9c179e"
             ],
             [
              0.4444444444444444,
              "#bd3786"
             ],
             [
              0.5555555555555556,
              "#d8576b"
             ],
             [
              0.6666666666666666,
              "#ed7953"
             ],
             [
              0.7777777777777778,
              "#fb9f3a"
             ],
             [
              0.8888888888888888,
              "#fdca26"
             ],
             [
              1,
              "#f0f921"
             ]
            ],
            "type": "contour"
           }
          ],
          "contourcarpet": [
           {
            "colorbar": {
             "outlinewidth": 0,
             "ticks": ""
            },
            "type": "contourcarpet"
           }
          ],
          "heatmap": [
           {
            "colorbar": {
             "outlinewidth": 0,
             "ticks": ""
            },
            "colorscale": [
             [
              0,
              "#0d0887"
             ],
             [
              0.1111111111111111,
              "#46039f"
             ],
             [
              0.2222222222222222,
              "#7201a8"
             ],
             [
              0.3333333333333333,
              "#9c179e"
             ],
             [
              0.4444444444444444,
              "#bd3786"
             ],
             [
              0.5555555555555556,
              "#d8576b"
             ],
             [
              0.6666666666666666,
              "#ed7953"
             ],
             [
              0.7777777777777778,
              "#fb9f3a"
             ],
             [
              0.8888888888888888,
              "#fdca26"
             ],
             [
              1,
              "#f0f921"
             ]
            ],
            "type": "heatmap"
           }
          ],
          "heatmapgl": [
           {
            "colorbar": {
             "outlinewidth": 0,
             "ticks": ""
            },
            "colorscale": [
             [
              0,
              "#0d0887"
             ],
             [
              0.1111111111111111,
              "#46039f"
             ],
             [
              0.2222222222222222,
              "#7201a8"
             ],
             [
              0.3333333333333333,
              "#9c179e"
             ],
             [
              0.4444444444444444,
              "#bd3786"
             ],
             [
              0.5555555555555556,
              "#d8576b"
             ],
             [
              0.6666666666666666,
              "#ed7953"
             ],
             [
              0.7777777777777778,
              "#fb9f3a"
             ],
             [
              0.8888888888888888,
              "#fdca26"
             ],
             [
              1,
              "#f0f921"
             ]
            ],
            "type": "heatmapgl"
           }
          ],
          "histogram": [
           {
            "marker": {
             "colorbar": {
              "outlinewidth": 0,
              "ticks": ""
             }
            },
            "type": "histogram"
           }
          ],
          "histogram2d": [
           {
            "colorbar": {
             "outlinewidth": 0,
             "ticks": ""
            },
            "colorscale": [
             [
              0,
              "#0d0887"
             ],
             [
              0.1111111111111111,
              "#46039f"
             ],
             [
              0.2222222222222222,
              "#7201a8"
             ],
             [
              0.3333333333333333,
              "#9c179e"
             ],
             [
              0.4444444444444444,
              "#bd3786"
             ],
             [
              0.5555555555555556,
              "#d8576b"
             ],
             [
              0.6666666666666666,
              "#ed7953"
             ],
             [
              0.7777777777777778,
              "#fb9f3a"
             ],
             [
              0.8888888888888888,
              "#fdca26"
             ],
             [
              1,
              "#f0f921"
             ]
            ],
            "type": "histogram2d"
           }
          ],
          "histogram2dcontour": [
           {
            "colorbar": {
             "outlinewidth": 0,
             "ticks": ""
            },
            "colorscale": [
             [
              0,
              "#0d0887"
             ],
             [
              0.1111111111111111,
              "#46039f"
             ],
             [
              0.2222222222222222,
              "#7201a8"
             ],
             [
              0.3333333333333333,
              "#9c179e"
             ],
             [
              0.4444444444444444,
              "#bd3786"
             ],
             [
              0.5555555555555556,
              "#d8576b"
             ],
             [
              0.6666666666666666,
              "#ed7953"
             ],
             [
              0.7777777777777778,
              "#fb9f3a"
             ],
             [
              0.8888888888888888,
              "#fdca26"
             ],
             [
              1,
              "#f0f921"
             ]
            ],
            "type": "histogram2dcontour"
           }
          ],
          "mesh3d": [
           {
            "colorbar": {
             "outlinewidth": 0,
             "ticks": ""
            },
            "type": "mesh3d"
           }
          ],
          "parcoords": [
           {
            "line": {
             "colorbar": {
              "outlinewidth": 0,
              "ticks": ""
             }
            },
            "type": "parcoords"
           }
          ],
          "pie": [
           {
            "automargin": true,
            "type": "pie"
           }
          ],
          "scatter": [
           {
            "marker": {
             "colorbar": {
              "outlinewidth": 0,
              "ticks": ""
             }
            },
            "type": "scatter"
           }
          ],
          "scatter3d": [
           {
            "line": {
             "colorbar": {
              "outlinewidth": 0,
              "ticks": ""
             }
            },
            "marker": {
             "colorbar": {
              "outlinewidth": 0,
              "ticks": ""
             }
            },
            "type": "scatter3d"
           }
          ],
          "scattercarpet": [
           {
            "marker": {
             "colorbar": {
              "outlinewidth": 0,
              "ticks": ""
             }
            },
            "type": "scattercarpet"
           }
          ],
          "scattergeo": [
           {
            "marker": {
             "colorbar": {
              "outlinewidth": 0,
              "ticks": ""
             }
            },
            "type": "scattergeo"
           }
          ],
          "scattergl": [
           {
            "marker": {
             "colorbar": {
              "outlinewidth": 0,
              "ticks": ""
             }
            },
            "type": "scattergl"
           }
          ],
          "scattermapbox": [
           {
            "marker": {
             "colorbar": {
              "outlinewidth": 0,
              "ticks": ""
             }
            },
            "type": "scattermapbox"
           }
          ],
          "scatterpolar": [
           {
            "marker": {
             "colorbar": {
              "outlinewidth": 0,
              "ticks": ""
             }
            },
            "type": "scatterpolar"
           }
          ],
          "scatterpolargl": [
           {
            "marker": {
             "colorbar": {
              "outlinewidth": 0,
              "ticks": ""
             }
            },
            "type": "scatterpolargl"
           }
          ],
          "scatterternary": [
           {
            "marker": {
             "colorbar": {
              "outlinewidth": 0,
              "ticks": ""
             }
            },
            "type": "scatterternary"
           }
          ],
          "surface": [
           {
            "colorbar": {
             "outlinewidth": 0,
             "ticks": ""
            },
            "colorscale": [
             [
              0,
              "#0d0887"
             ],
             [
              0.1111111111111111,
              "#46039f"
             ],
             [
              0.2222222222222222,
              "#7201a8"
             ],
             [
              0.3333333333333333,
              "#9c179e"
             ],
             [
              0.4444444444444444,
              "#bd3786"
             ],
             [
              0.5555555555555556,
              "#d8576b"
             ],
             [
              0.6666666666666666,
              "#ed7953"
             ],
             [
              0.7777777777777778,
              "#fb9f3a"
             ],
             [
              0.8888888888888888,
              "#fdca26"
             ],
             [
              1,
              "#f0f921"
             ]
            ],
            "type": "surface"
           }
          ],
          "table": [
           {
            "cells": {
             "fill": {
              "color": "#EBF0F8"
             },
             "line": {
              "color": "white"
             }
            },
            "header": {
             "fill": {
              "color": "#C8D4E3"
             },
             "line": {
              "color": "white"
             }
            },
            "type": "table"
           }
          ]
         },
         "layout": {
          "annotationdefaults": {
           "arrowcolor": "#2a3f5f",
           "arrowhead": 0,
           "arrowwidth": 1
          },
          "coloraxis": {
           "colorbar": {
            "outlinewidth": 0,
            "ticks": ""
           }
          },
          "colorscale": {
           "diverging": [
            [
             0,
             "#8e0152"
            ],
            [
             0.1,
             "#c51b7d"
            ],
            [
             0.2,
             "#de77ae"
            ],
            [
             0.3,
             "#f1b6da"
            ],
            [
             0.4,
             "#fde0ef"
            ],
            [
             0.5,
             "#f7f7f7"
            ],
            [
             0.6,
             "#e6f5d0"
            ],
            [
             0.7,
             "#b8e186"
            ],
            [
             0.8,
             "#7fbc41"
            ],
            [
             0.9,
             "#4d9221"
            ],
            [
             1,
             "#276419"
            ]
           ],
           "sequential": [
            [
             0,
             "#0d0887"
            ],
            [
             0.1111111111111111,
             "#46039f"
            ],
            [
             0.2222222222222222,
             "#7201a8"
            ],
            [
             0.3333333333333333,
             "#9c179e"
            ],
            [
             0.4444444444444444,
             "#bd3786"
            ],
            [
             0.5555555555555556,
             "#d8576b"
            ],
            [
             0.6666666666666666,
             "#ed7953"
            ],
            [
             0.7777777777777778,
             "#fb9f3a"
            ],
            [
             0.8888888888888888,
             "#fdca26"
            ],
            [
             1,
             "#f0f921"
            ]
           ],
           "sequentialminus": [
            [
             0,
             "#0d0887"
            ],
            [
             0.1111111111111111,
             "#46039f"
            ],
            [
             0.2222222222222222,
             "#7201a8"
            ],
            [
             0.3333333333333333,
             "#9c179e"
            ],
            [
             0.4444444444444444,
             "#bd3786"
            ],
            [
             0.5555555555555556,
             "#d8576b"
            ],
            [
             0.6666666666666666,
             "#ed7953"
            ],
            [
             0.7777777777777778,
             "#fb9f3a"
            ],
            [
             0.8888888888888888,
             "#fdca26"
            ],
            [
             1,
             "#f0f921"
            ]
           ]
          },
          "colorway": [
           "#636efa",
           "#EF553B",
           "#00cc96",
           "#ab63fa",
           "#FFA15A",
           "#19d3f3",
           "#FF6692",
           "#B6E880",
           "#FF97FF",
           "#FECB52"
          ],
          "font": {
           "color": "#2a3f5f"
          },
          "geo": {
           "bgcolor": "white",
           "lakecolor": "white",
           "landcolor": "#E5ECF6",
           "showlakes": true,
           "showland": true,
           "subunitcolor": "white"
          },
          "hoverlabel": {
           "align": "left"
          },
          "hovermode": "closest",
          "mapbox": {
           "style": "light"
          },
          "paper_bgcolor": "white",
          "plot_bgcolor": "#E5ECF6",
          "polar": {
           "angularaxis": {
            "gridcolor": "white",
            "linecolor": "white",
            "ticks": ""
           },
           "bgcolor": "#E5ECF6",
           "radialaxis": {
            "gridcolor": "white",
            "linecolor": "white",
            "ticks": ""
           }
          },
          "scene": {
           "xaxis": {
            "backgroundcolor": "#E5ECF6",
            "gridcolor": "white",
            "gridwidth": 2,
            "linecolor": "white",
            "showbackground": true,
            "ticks": "",
            "zerolinecolor": "white"
           },
           "yaxis": {
            "backgroundcolor": "#E5ECF6",
            "gridcolor": "white",
            "gridwidth": 2,
            "linecolor": "white",
            "showbackground": true,
            "ticks": "",
            "zerolinecolor": "white"
           },
           "zaxis": {
            "backgroundcolor": "#E5ECF6",
            "gridcolor": "white",
            "gridwidth": 2,
            "linecolor": "white",
            "showbackground": true,
            "ticks": "",
            "zerolinecolor": "white"
           }
          },
          "shapedefaults": {
           "line": {
            "color": "#2a3f5f"
           }
          },
          "ternary": {
           "aaxis": {
            "gridcolor": "white",
            "linecolor": "white",
            "ticks": ""
           },
           "baxis": {
            "gridcolor": "white",
            "linecolor": "white",
            "ticks": ""
           },
           "bgcolor": "#E5ECF6",
           "caxis": {
            "gridcolor": "white",
            "linecolor": "white",
            "ticks": ""
           }
          },
          "title": {
           "x": 0.05
          },
          "xaxis": {
           "automargin": true,
           "gridcolor": "white",
           "linecolor": "white",
           "ticks": "",
           "title": {
            "standoff": 15
           },
           "zerolinecolor": "white",
           "zerolinewidth": 2
          },
          "yaxis": {
           "automargin": true,
           "gridcolor": "white",
           "linecolor": "white",
           "ticks": "",
           "title": {
            "standoff": 15
           },
           "zerolinecolor": "white",
           "zerolinewidth": 2
          }
         }
        },
        "title": {
         "text": "Número de defunciones fetales 2010-2020"
        },
        "xaxis": {
         "anchor": "y",
         "domain": [
          0,
          1
         ],
         "title": {
          "text": "Municipio"
         }
        },
        "yaxis": {
         "anchor": "x",
         "domain": [
          0,
          1
         ],
         "title": {
          "text": "Total"
         }
        }
       }
      }
     },
     "metadata": {},
     "output_type": "display_data"
    },
    {
     "data": {
      "application/vnd.plotly.v1+json": {
       "config": {
        "plotlyServerURL": "https://plot.ly"
       },
       "data": [
        {
         "alignmentgroup": "True",
         "hovertemplate": "Año=2010<br>Municipio=%{x}<br>Hombres=%{y}<extra></extra>",
         "legendgroup": "2010",
         "marker": {
          "color": "rgb(36, 86, 104)"
         },
         "name": "2010",
         "offsetgroup": "2010",
         "orientation": "v",
         "showlegend": true,
         "textposition": "auto",
         "type": "bar",
         "x": [
          "Cali",
          "Dagua",
          "Jamundí",
          "La Cumbre",
          "Vijes",
          "Yumbo"
         ],
         "xaxis": "x",
         "y": [
          221,
          6,
          11,
          2,
          1,
          5
         ],
         "yaxis": "y"
        },
        {
         "alignmentgroup": "True",
         "hovertemplate": "Año=2011<br>Municipio=%{x}<br>Hombres=%{y}<extra></extra>",
         "legendgroup": "2011",
         "marker": {
          "color": "rgb(15, 114, 121)"
         },
         "name": "2011",
         "offsetgroup": "2011",
         "orientation": "v",
         "showlegend": true,
         "textposition": "auto",
         "type": "bar",
         "x": [
          "Cali",
          "Dagua",
          "Jamundí",
          "La Cumbre",
          "Vijes",
          "Yumbo"
         ],
         "xaxis": "x",
         "y": [
          231,
          8,
          10,
          1,
          1,
          4
         ],
         "yaxis": "y"
        },
        {
         "alignmentgroup": "True",
         "hovertemplate": "Año=2012<br>Municipio=%{x}<br>Hombres=%{y}<extra></extra>",
         "legendgroup": "2012",
         "marker": {
          "color": "rgb(13, 143, 129)"
         },
         "name": "2012",
         "offsetgroup": "2012",
         "orientation": "v",
         "showlegend": true,
         "textposition": "auto",
         "type": "bar",
         "x": [
          "Cali",
          "Dagua",
          "Jamundí",
          "La Cumbre",
          "Vijes",
          "Yumbo"
         ],
         "xaxis": "x",
         "y": [
          300,
          4,
          7,
          1,
          2,
          9
         ],
         "yaxis": "y"
        },
        {
         "alignmentgroup": "True",
         "hovertemplate": "Año=2013<br>Municipio=%{x}<br>Hombres=%{y}<extra></extra>",
         "legendgroup": "2013",
         "marker": {
          "color": "rgb(57, 171, 126)"
         },
         "name": "2013",
         "offsetgroup": "2013",
         "orientation": "v",
         "showlegend": true,
         "textposition": "auto",
         "type": "bar",
         "x": [
          "Cali",
          "Dagua",
          "Jamundí",
          "La Cumbre",
          "Vijes",
          "Yumbo"
         ],
         "xaxis": "x",
         "y": [
          257,
          4,
          9,
          1,
          0,
          10
         ],
         "yaxis": "y"
        },
        {
         "alignmentgroup": "True",
         "hovertemplate": "Año=2014<br>Municipio=%{x}<br>Hombres=%{y}<extra></extra>",
         "legendgroup": "2014",
         "marker": {
          "color": "rgb(110, 197, 116)"
         },
         "name": "2014",
         "offsetgroup": "2014",
         "orientation": "v",
         "showlegend": true,
         "textposition": "auto",
         "type": "bar",
         "x": [
          "Cali",
          "Dagua",
          "Jamundí",
          "La Cumbre",
          "Vijes",
          "Yumbo"
         ],
         "xaxis": "x",
         "y": [
          274,
          6,
          12,
          0,
          1,
          12
         ],
         "yaxis": "y"
        },
        {
         "alignmentgroup": "True",
         "hovertemplate": "Año=2015<br>Municipio=%{x}<br>Hombres=%{y}<extra></extra>",
         "legendgroup": "2015",
         "marker": {
          "color": "rgb(169, 220, 103)"
         },
         "name": "2015",
         "offsetgroup": "2015",
         "orientation": "v",
         "showlegend": true,
         "textposition": "auto",
         "type": "bar",
         "x": [
          "Cali",
          "Dagua",
          "Jamundí",
          "La Cumbre",
          "Vijes",
          "Yumbo"
         ],
         "xaxis": "x",
         "y": [
          305,
          5,
          12,
          0,
          1,
          11
         ],
         "yaxis": "y"
        },
        {
         "alignmentgroup": "True",
         "hovertemplate": "Año=2016<br>Municipio=%{x}<br>Hombres=%{y}<extra></extra>",
         "legendgroup": "2016",
         "marker": {
          "color": "rgb(237, 239, 93)"
         },
         "name": "2016",
         "offsetgroup": "2016",
         "orientation": "v",
         "showlegend": true,
         "textposition": "auto",
         "type": "bar",
         "x": [
          "Cali",
          "Dagua",
          "Jamundí",
          "La Cumbre",
          "Vijes",
          "Yumbo"
         ],
         "xaxis": "x",
         "y": [
          245,
          9,
          11,
          2,
          1,
          10
         ],
         "yaxis": "y"
        },
        {
         "alignmentgroup": "True",
         "hovertemplate": "Año=2017<br>Municipio=%{x}<br>Hombres=%{y}<extra></extra>",
         "legendgroup": "2017",
         "marker": {
          "color": "rgb(36, 86, 104)"
         },
         "name": "2017",
         "offsetgroup": "2017",
         "orientation": "v",
         "showlegend": true,
         "textposition": "auto",
         "type": "bar",
         "x": [
          "Cali",
          "Dagua",
          "Jamundí",
          "La Cumbre",
          "Vijes",
          "Yumbo"
         ],
         "xaxis": "x",
         "y": [
          197,
          3,
          8,
          1,
          4,
          6
         ],
         "yaxis": "y"
        },
        {
         "alignmentgroup": "True",
         "hovertemplate": "Año=2018<br>Municipio=%{x}<br>Hombres=%{y}<extra></extra>",
         "legendgroup": "2018",
         "marker": {
          "color": "rgb(15, 114, 121)"
         },
         "name": "2018",
         "offsetgroup": "2018",
         "orientation": "v",
         "showlegend": true,
         "textposition": "auto",
         "type": "bar",
         "x": [
          "Cali",
          "Dagua",
          "Jamundí",
          "La Cumbre",
          "Vijes",
          "Yumbo"
         ],
         "xaxis": "x",
         "y": [
          189,
          2,
          6,
          1,
          0,
          8
         ],
         "yaxis": "y"
        },
        {
         "alignmentgroup": "True",
         "hovertemplate": "Año=2019<br>Municipio=%{x}<br>Hombres=%{y}<extra></extra>",
         "legendgroup": "2019",
         "marker": {
          "color": "rgb(13, 143, 129)"
         },
         "name": "2019",
         "offsetgroup": "2019",
         "orientation": "v",
         "showlegend": true,
         "textposition": "auto",
         "type": "bar",
         "x": [
          "Cali",
          "Dagua",
          "Jamundí",
          "La Cumbre",
          "Vijes",
          "Yumbo"
         ],
         "xaxis": "x",
         "y": [
          183,
          1,
          10,
          0,
          2,
          8
         ],
         "yaxis": "y"
        },
        {
         "alignmentgroup": "True",
         "hovertemplate": "Año=2020<br>Municipio=%{x}<br>Hombres=%{y}<extra></extra>",
         "legendgroup": "2020",
         "marker": {
          "color": "rgb(57, 171, 126)"
         },
         "name": "2020",
         "offsetgroup": "2020",
         "orientation": "v",
         "showlegend": true,
         "textposition": "auto",
         "type": "bar",
         "x": [
          "Cali",
          "Dagua",
          "Jamundí",
          "Vijes",
          "Yumbo"
         ],
         "xaxis": "x",
         "y": [
          36,
          0,
          0,
          1,
          4
         ],
         "yaxis": "y"
        }
       ],
       "layout": {
        "barmode": "group",
        "legend": {
         "title": {
          "text": "Año"
         },
         "tracegroupgap": 0
        },
        "template": {
         "data": {
          "bar": [
           {
            "error_x": {
             "color": "#2a3f5f"
            },
            "error_y": {
             "color": "#2a3f5f"
            },
            "marker": {
             "line": {
              "color": "#E5ECF6",
              "width": 0.5
             }
            },
            "type": "bar"
           }
          ],
          "barpolar": [
           {
            "marker": {
             "line": {
              "color": "#E5ECF6",
              "width": 0.5
             }
            },
            "type": "barpolar"
           }
          ],
          "carpet": [
           {
            "aaxis": {
             "endlinecolor": "#2a3f5f",
             "gridcolor": "white",
             "linecolor": "white",
             "minorgridcolor": "white",
             "startlinecolor": "#2a3f5f"
            },
            "baxis": {
             "endlinecolor": "#2a3f5f",
             "gridcolor": "white",
             "linecolor": "white",
             "minorgridcolor": "white",
             "startlinecolor": "#2a3f5f"
            },
            "type": "carpet"
           }
          ],
          "choropleth": [
           {
            "colorbar": {
             "outlinewidth": 0,
             "ticks": ""
            },
            "type": "choropleth"
           }
          ],
          "contour": [
           {
            "colorbar": {
             "outlinewidth": 0,
             "ticks": ""
            },
            "colorscale": [
             [
              0,
              "#0d0887"
             ],
             [
              0.1111111111111111,
              "#46039f"
             ],
             [
              0.2222222222222222,
              "#7201a8"
             ],
             [
              0.3333333333333333,
              "#9c179e"
             ],
             [
              0.4444444444444444,
              "#bd3786"
             ],
             [
              0.5555555555555556,
              "#d8576b"
             ],
             [
              0.6666666666666666,
              "#ed7953"
             ],
             [
              0.7777777777777778,
              "#fb9f3a"
             ],
             [
              0.8888888888888888,
              "#fdca26"
             ],
             [
              1,
              "#f0f921"
             ]
            ],
            "type": "contour"
           }
          ],
          "contourcarpet": [
           {
            "colorbar": {
             "outlinewidth": 0,
             "ticks": ""
            },
            "type": "contourcarpet"
           }
          ],
          "heatmap": [
           {
            "colorbar": {
             "outlinewidth": 0,
             "ticks": ""
            },
            "colorscale": [
             [
              0,
              "#0d0887"
             ],
             [
              0.1111111111111111,
              "#46039f"
             ],
             [
              0.2222222222222222,
              "#7201a8"
             ],
             [
              0.3333333333333333,
              "#9c179e"
             ],
             [
              0.4444444444444444,
              "#bd3786"
             ],
             [
              0.5555555555555556,
              "#d8576b"
             ],
             [
              0.6666666666666666,
              "#ed7953"
             ],
             [
              0.7777777777777778,
              "#fb9f3a"
             ],
             [
              0.8888888888888888,
              "#fdca26"
             ],
             [
              1,
              "#f0f921"
             ]
            ],
            "type": "heatmap"
           }
          ],
          "heatmapgl": [
           {
            "colorbar": {
             "outlinewidth": 0,
             "ticks": ""
            },
            "colorscale": [
             [
              0,
              "#0d0887"
             ],
             [
              0.1111111111111111,
              "#46039f"
             ],
             [
              0.2222222222222222,
              "#7201a8"
             ],
             [
              0.3333333333333333,
              "#9c179e"
             ],
             [
              0.4444444444444444,
              "#bd3786"
             ],
             [
              0.5555555555555556,
              "#d8576b"
             ],
             [
              0.6666666666666666,
              "#ed7953"
             ],
             [
              0.7777777777777778,
              "#fb9f3a"
             ],
             [
              0.8888888888888888,
              "#fdca26"
             ],
             [
              1,
              "#f0f921"
             ]
            ],
            "type": "heatmapgl"
           }
          ],
          "histogram": [
           {
            "marker": {
             "colorbar": {
              "outlinewidth": 0,
              "ticks": ""
             }
            },
            "type": "histogram"
           }
          ],
          "histogram2d": [
           {
            "colorbar": {
             "outlinewidth": 0,
             "ticks": ""
            },
            "colorscale": [
             [
              0,
              "#0d0887"
             ],
             [
              0.1111111111111111,
              "#46039f"
             ],
             [
              0.2222222222222222,
              "#7201a8"
             ],
             [
              0.3333333333333333,
              "#9c179e"
             ],
             [
              0.4444444444444444,
              "#bd3786"
             ],
             [
              0.5555555555555556,
              "#d8576b"
             ],
             [
              0.6666666666666666,
              "#ed7953"
             ],
             [
              0.7777777777777778,
              "#fb9f3a"
             ],
             [
              0.8888888888888888,
              "#fdca26"
             ],
             [
              1,
              "#f0f921"
             ]
            ],
            "type": "histogram2d"
           }
          ],
          "histogram2dcontour": [
           {
            "colorbar": {
             "outlinewidth": 0,
             "ticks": ""
            },
            "colorscale": [
             [
              0,
              "#0d0887"
             ],
             [
              0.1111111111111111,
              "#46039f"
             ],
             [
              0.2222222222222222,
              "#7201a8"
             ],
             [
              0.3333333333333333,
              "#9c179e"
             ],
             [
              0.4444444444444444,
              "#bd3786"
             ],
             [
              0.5555555555555556,
              "#d8576b"
             ],
             [
              0.6666666666666666,
              "#ed7953"
             ],
             [
              0.7777777777777778,
              "#fb9f3a"
             ],
             [
              0.8888888888888888,
              "#fdca26"
             ],
             [
              1,
              "#f0f921"
             ]
            ],
            "type": "histogram2dcontour"
           }
          ],
          "mesh3d": [
           {
            "colorbar": {
             "outlinewidth": 0,
             "ticks": ""
            },
            "type": "mesh3d"
           }
          ],
          "parcoords": [
           {
            "line": {
             "colorbar": {
              "outlinewidth": 0,
              "ticks": ""
             }
            },
            "type": "parcoords"
           }
          ],
          "pie": [
           {
            "automargin": true,
            "type": "pie"
           }
          ],
          "scatter": [
           {
            "marker": {
             "colorbar": {
              "outlinewidth": 0,
              "ticks": ""
             }
            },
            "type": "scatter"
           }
          ],
          "scatter3d": [
           {
            "line": {
             "colorbar": {
              "outlinewidth": 0,
              "ticks": ""
             }
            },
            "marker": {
             "colorbar": {
              "outlinewidth": 0,
              "ticks": ""
             }
            },
            "type": "scatter3d"
           }
          ],
          "scattercarpet": [
           {
            "marker": {
             "colorbar": {
              "outlinewidth": 0,
              "ticks": ""
             }
            },
            "type": "scattercarpet"
           }
          ],
          "scattergeo": [
           {
            "marker": {
             "colorbar": {
              "outlinewidth": 0,
              "ticks": ""
             }
            },
            "type": "scattergeo"
           }
          ],
          "scattergl": [
           {
            "marker": {
             "colorbar": {
              "outlinewidth": 0,
              "ticks": ""
             }
            },
            "type": "scattergl"
           }
          ],
          "scattermapbox": [
           {
            "marker": {
             "colorbar": {
              "outlinewidth": 0,
              "ticks": ""
             }
            },
            "type": "scattermapbox"
           }
          ],
          "scatterpolar": [
           {
            "marker": {
             "colorbar": {
              "outlinewidth": 0,
              "ticks": ""
             }
            },
            "type": "scatterpolar"
           }
          ],
          "scatterpolargl": [
           {
            "marker": {
             "colorbar": {
              "outlinewidth": 0,
              "ticks": ""
             }
            },
            "type": "scatterpolargl"
           }
          ],
          "scatterternary": [
           {
            "marker": {
             "colorbar": {
              "outlinewidth": 0,
              "ticks": ""
             }
            },
            "type": "scatterternary"
           }
          ],
          "surface": [
           {
            "colorbar": {
             "outlinewidth": 0,
             "ticks": ""
            },
            "colorscale": [
             [
              0,
              "#0d0887"
             ],
             [
              0.1111111111111111,
              "#46039f"
             ],
             [
              0.2222222222222222,
              "#7201a8"
             ],
             [
              0.3333333333333333,
              "#9c179e"
             ],
             [
              0.4444444444444444,
              "#bd3786"
             ],
             [
              0.5555555555555556,
              "#d8576b"
             ],
             [
              0.6666666666666666,
              "#ed7953"
             ],
             [
              0.7777777777777778,
              "#fb9f3a"
             ],
             [
              0.8888888888888888,
              "#fdca26"
             ],
             [
              1,
              "#f0f921"
             ]
            ],
            "type": "surface"
           }
          ],
          "table": [
           {
            "cells": {
             "fill": {
              "color": "#EBF0F8"
             },
             "line": {
              "color": "white"
             }
            },
            "header": {
             "fill": {
              "color": "#C8D4E3"
             },
             "line": {
              "color": "white"
             }
            },
            "type": "table"
           }
          ]
         },
         "layout": {
          "annotationdefaults": {
           "arrowcolor": "#2a3f5f",
           "arrowhead": 0,
           "arrowwidth": 1
          },
          "coloraxis": {
           "colorbar": {
            "outlinewidth": 0,
            "ticks": ""
           }
          },
          "colorscale": {
           "diverging": [
            [
             0,
             "#8e0152"
            ],
            [
             0.1,
             "#c51b7d"
            ],
            [
             0.2,
             "#de77ae"
            ],
            [
             0.3,
             "#f1b6da"
            ],
            [
             0.4,
             "#fde0ef"
            ],
            [
             0.5,
             "#f7f7f7"
            ],
            [
             0.6,
             "#e6f5d0"
            ],
            [
             0.7,
             "#b8e186"
            ],
            [
             0.8,
             "#7fbc41"
            ],
            [
             0.9,
             "#4d9221"
            ],
            [
             1,
             "#276419"
            ]
           ],
           "sequential": [
            [
             0,
             "#0d0887"
            ],
            [
             0.1111111111111111,
             "#46039f"
            ],
            [
             0.2222222222222222,
             "#7201a8"
            ],
            [
             0.3333333333333333,
             "#9c179e"
            ],
            [
             0.4444444444444444,
             "#bd3786"
            ],
            [
             0.5555555555555556,
             "#d8576b"
            ],
            [
             0.6666666666666666,
             "#ed7953"
            ],
            [
             0.7777777777777778,
             "#fb9f3a"
            ],
            [
             0.8888888888888888,
             "#fdca26"
            ],
            [
             1,
             "#f0f921"
            ]
           ],
           "sequentialminus": [
            [
             0,
             "#0d0887"
            ],
            [
             0.1111111111111111,
             "#46039f"
            ],
            [
             0.2222222222222222,
             "#7201a8"
            ],
            [
             0.3333333333333333,
             "#9c179e"
            ],
            [
             0.4444444444444444,
             "#bd3786"
            ],
            [
             0.5555555555555556,
             "#d8576b"
            ],
            [
             0.6666666666666666,
             "#ed7953"
            ],
            [
             0.7777777777777778,
             "#fb9f3a"
            ],
            [
             0.8888888888888888,
             "#fdca26"
            ],
            [
             1,
             "#f0f921"
            ]
           ]
          },
          "colorway": [
           "#636efa",
           "#EF553B",
           "#00cc96",
           "#ab63fa",
           "#FFA15A",
           "#19d3f3",
           "#FF6692",
           "#B6E880",
           "#FF97FF",
           "#FECB52"
          ],
          "font": {
           "color": "#2a3f5f"
          },
          "geo": {
           "bgcolor": "white",
           "lakecolor": "white",
           "landcolor": "#E5ECF6",
           "showlakes": true,
           "showland": true,
           "subunitcolor": "white"
          },
          "hoverlabel": {
           "align": "left"
          },
          "hovermode": "closest",
          "mapbox": {
           "style": "light"
          },
          "paper_bgcolor": "white",
          "plot_bgcolor": "#E5ECF6",
          "polar": {
           "angularaxis": {
            "gridcolor": "white",
            "linecolor": "white",
            "ticks": ""
           },
           "bgcolor": "#E5ECF6",
           "radialaxis": {
            "gridcolor": "white",
            "linecolor": "white",
            "ticks": ""
           }
          },
          "scene": {
           "xaxis": {
            "backgroundcolor": "#E5ECF6",
            "gridcolor": "white",
            "gridwidth": 2,
            "linecolor": "white",
            "showbackground": true,
            "ticks": "",
            "zerolinecolor": "white"
           },
           "yaxis": {
            "backgroundcolor": "#E5ECF6",
            "gridcolor": "white",
            "gridwidth": 2,
            "linecolor": "white",
            "showbackground": true,
            "ticks": "",
            "zerolinecolor": "white"
           },
           "zaxis": {
            "backgroundcolor": "#E5ECF6",
            "gridcolor": "white",
            "gridwidth": 2,
            "linecolor": "white",
            "showbackground": true,
            "ticks": "",
            "zerolinecolor": "white"
           }
          },
          "shapedefaults": {
           "line": {
            "color": "#2a3f5f"
           }
          },
          "ternary": {
           "aaxis": {
            "gridcolor": "white",
            "linecolor": "white",
            "ticks": ""
           },
           "baxis": {
            "gridcolor": "white",
            "linecolor": "white",
            "ticks": ""
           },
           "bgcolor": "#E5ECF6",
           "caxis": {
            "gridcolor": "white",
            "linecolor": "white",
            "ticks": ""
           }
          },
          "title": {
           "x": 0.05
          },
          "xaxis": {
           "automargin": true,
           "gridcolor": "white",
           "linecolor": "white",
           "ticks": "",
           "title": {
            "standoff": 15
           },
           "zerolinecolor": "white",
           "zerolinewidth": 2
          },
          "yaxis": {
           "automargin": true,
           "gridcolor": "white",
           "linecolor": "white",
           "ticks": "",
           "title": {
            "standoff": 15
           },
           "zerolinecolor": "white",
           "zerolinewidth": 2
          }
         }
        },
        "title": {
         "text": "Número de defunciones fetales (hombres) 2010-2020"
        },
        "xaxis": {
         "anchor": "y",
         "domain": [
          0,
          1
         ],
         "title": {
          "text": "Municipio"
         }
        },
        "yaxis": {
         "anchor": "x",
         "domain": [
          0,
          1
         ],
         "title": {
          "text": "Hombres"
         }
        }
       }
      }
     },
     "metadata": {},
     "output_type": "display_data"
    },
    {
     "data": {
      "application/vnd.plotly.v1+json": {
       "config": {
        "plotlyServerURL": "https://plot.ly"
       },
       "data": [
        {
         "alignmentgroup": "True",
         "hovertemplate": "Año=2010<br>Municipio=%{x}<br>Mujeres=%{y}<extra></extra>",
         "legendgroup": "2010",
         "marker": {
          "color": "rgb(36, 86, 104)"
         },
         "name": "2010",
         "offsetgroup": "2010",
         "orientation": "v",
         "showlegend": true,
         "textposition": "auto",
         "type": "bar",
         "x": [
          "Cali",
          "Dagua",
          "Jamundí",
          "La Cumbre",
          "Vijes",
          "Yumbo"
         ],
         "xaxis": "x",
         "y": [
          171,
          5,
          6,
          0,
          0,
          9
         ],
         "yaxis": "y"
        },
        {
         "alignmentgroup": "True",
         "hovertemplate": "Año=2011<br>Municipio=%{x}<br>Mujeres=%{y}<extra></extra>",
         "legendgroup": "2011",
         "marker": {
          "color": "rgb(15, 114, 121)"
         },
         "name": "2011",
         "offsetgroup": "2011",
         "orientation": "v",
         "showlegend": true,
         "textposition": "auto",
         "type": "bar",
         "x": [
          "Cali",
          "Dagua",
          "Jamundí",
          "La Cumbre",
          "Vijes",
          "Yumbo"
         ],
         "xaxis": "x",
         "y": [
          166,
          2,
          14,
          1,
          1,
          8
         ],
         "yaxis": "y"
        },
        {
         "alignmentgroup": "True",
         "hovertemplate": "Año=2012<br>Municipio=%{x}<br>Mujeres=%{y}<extra></extra>",
         "legendgroup": "2012",
         "marker": {
          "color": "rgb(13, 143, 129)"
         },
         "name": "2012",
         "offsetgroup": "2012",
         "orientation": "v",
         "showlegend": true,
         "textposition": "auto",
         "type": "bar",
         "x": [
          "Cali",
          "Dagua",
          "Jamundí",
          "La Cumbre",
          "Vijes",
          "Yumbo"
         ],
         "xaxis": "x",
         "y": [
          184,
          0,
          12,
          0,
          0,
          3
         ],
         "yaxis": "y"
        },
        {
         "alignmentgroup": "True",
         "hovertemplate": "Año=2013<br>Municipio=%{x}<br>Mujeres=%{y}<extra></extra>",
         "legendgroup": "2013",
         "marker": {
          "color": "rgb(57, 171, 126)"
         },
         "name": "2013",
         "offsetgroup": "2013",
         "orientation": "v",
         "showlegend": true,
         "textposition": "auto",
         "type": "bar",
         "x": [
          "Cali",
          "Dagua",
          "Jamundí",
          "La Cumbre",
          "Vijes",
          "Yumbo"
         ],
         "xaxis": "x",
         "y": [
          179,
          2,
          5,
          0,
          0,
          7
         ],
         "yaxis": "y"
        },
        {
         "alignmentgroup": "True",
         "hovertemplate": "Año=2014<br>Municipio=%{x}<br>Mujeres=%{y}<extra></extra>",
         "legendgroup": "2014",
         "marker": {
          "color": "rgb(110, 197, 116)"
         },
         "name": "2014",
         "offsetgroup": "2014",
         "orientation": "v",
         "showlegend": true,
         "textposition": "auto",
         "type": "bar",
         "x": [
          "Cali",
          "Dagua",
          "Jamundí",
          "La Cumbre",
          "Vijes",
          "Yumbo"
         ],
         "xaxis": "x",
         "y": [
          182,
          2,
          8,
          3,
          0,
          5
         ],
         "yaxis": "y"
        },
        {
         "alignmentgroup": "True",
         "hovertemplate": "Año=2015<br>Municipio=%{x}<br>Mujeres=%{y}<extra></extra>",
         "legendgroup": "2015",
         "marker": {
          "color": "rgb(169, 220, 103)"
         },
         "name": "2015",
         "offsetgroup": "2015",
         "orientation": "v",
         "showlegend": true,
         "textposition": "auto",
         "type": "bar",
         "x": [
          "Cali",
          "Dagua",
          "Jamundí",
          "La Cumbre",
          "Vijes",
          "Yumbo"
         ],
         "xaxis": "x",
         "y": [
          172,
          3,
          7,
          1,
          0,
          8
         ],
         "yaxis": "y"
        },
        {
         "alignmentgroup": "True",
         "hovertemplate": "Año=2016<br>Municipio=%{x}<br>Mujeres=%{y}<extra></extra>",
         "legendgroup": "2016",
         "marker": {
          "color": "rgb(237, 239, 93)"
         },
         "name": "2016",
         "offsetgroup": "2016",
         "orientation": "v",
         "showlegend": true,
         "textposition": "auto",
         "type": "bar",
         "x": [
          "Cali",
          "Dagua",
          "Jamundí",
          "La Cumbre",
          "Vijes",
          "Yumbo"
         ],
         "xaxis": "x",
         "y": [
          188,
          1,
          15,
          2,
          0,
          5
         ],
         "yaxis": "y"
        },
        {
         "alignmentgroup": "True",
         "hovertemplate": "Año=2017<br>Municipio=%{x}<br>Mujeres=%{y}<extra></extra>",
         "legendgroup": "2017",
         "marker": {
          "color": "rgb(36, 86, 104)"
         },
         "name": "2017",
         "offsetgroup": "2017",
         "orientation": "v",
         "showlegend": true,
         "textposition": "auto",
         "type": "bar",
         "x": [
          "Cali",
          "Dagua",
          "Jamundí",
          "La Cumbre",
          "Vijes",
          "Yumbo"
         ],
         "xaxis": "x",
         "y": [
          123,
          1,
          7,
          0,
          0,
          3
         ],
         "yaxis": "y"
        },
        {
         "alignmentgroup": "True",
         "hovertemplate": "Año=2018<br>Municipio=%{x}<br>Mujeres=%{y}<extra></extra>",
         "legendgroup": "2018",
         "marker": {
          "color": "rgb(15, 114, 121)"
         },
         "name": "2018",
         "offsetgroup": "2018",
         "orientation": "v",
         "showlegend": true,
         "textposition": "auto",
         "type": "bar",
         "x": [
          "Cali",
          "Dagua",
          "Jamundí",
          "La Cumbre",
          "Vijes",
          "Yumbo"
         ],
         "xaxis": "x",
         "y": [
          141,
          4,
          11,
          1,
          0,
          5
         ],
         "yaxis": "y"
        },
        {
         "alignmentgroup": "True",
         "hovertemplate": "Año=2019<br>Municipio=%{x}<br>Mujeres=%{y}<extra></extra>",
         "legendgroup": "2019",
         "marker": {
          "color": "rgb(13, 143, 129)"
         },
         "name": "2019",
         "offsetgroup": "2019",
         "orientation": "v",
         "showlegend": true,
         "textposition": "auto",
         "type": "bar",
         "x": [
          "Cali",
          "Dagua",
          "Jamundí",
          "La Cumbre",
          "Vijes",
          "Yumbo"
         ],
         "xaxis": "x",
         "y": [
          123,
          2,
          5,
          0,
          0,
          4
         ],
         "yaxis": "y"
        },
        {
         "alignmentgroup": "True",
         "hovertemplate": "Año=2020<br>Municipio=%{x}<br>Mujeres=%{y}<extra></extra>",
         "legendgroup": "2020",
         "marker": {
          "color": "rgb(57, 171, 126)"
         },
         "name": "2020",
         "offsetgroup": "2020",
         "orientation": "v",
         "showlegend": true,
         "textposition": "auto",
         "type": "bar",
         "x": [
          "Cali",
          "Dagua",
          "Jamundí",
          "Vijes",
          "Yumbo"
         ],
         "xaxis": "x",
         "y": [
          32,
          1,
          1,
          0,
          1
         ],
         "yaxis": "y"
        }
       ],
       "layout": {
        "barmode": "group",
        "legend": {
         "title": {
          "text": "Año"
         },
         "tracegroupgap": 0
        },
        "template": {
         "data": {
          "bar": [
           {
            "error_x": {
             "color": "#2a3f5f"
            },
            "error_y": {
             "color": "#2a3f5f"
            },
            "marker": {
             "line": {
              "color": "#E5ECF6",
              "width": 0.5
             }
            },
            "type": "bar"
           }
          ],
          "barpolar": [
           {
            "marker": {
             "line": {
              "color": "#E5ECF6",
              "width": 0.5
             }
            },
            "type": "barpolar"
           }
          ],
          "carpet": [
           {
            "aaxis": {
             "endlinecolor": "#2a3f5f",
             "gridcolor": "white",
             "linecolor": "white",
             "minorgridcolor": "white",
             "startlinecolor": "#2a3f5f"
            },
            "baxis": {
             "endlinecolor": "#2a3f5f",
             "gridcolor": "white",
             "linecolor": "white",
             "minorgridcolor": "white",
             "startlinecolor": "#2a3f5f"
            },
            "type": "carpet"
           }
          ],
          "choropleth": [
           {
            "colorbar": {
             "outlinewidth": 0,
             "ticks": ""
            },
            "type": "choropleth"
           }
          ],
          "contour": [
           {
            "colorbar": {
             "outlinewidth": 0,
             "ticks": ""
            },
            "colorscale": [
             [
              0,
              "#0d0887"
             ],
             [
              0.1111111111111111,
              "#46039f"
             ],
             [
              0.2222222222222222,
              "#7201a8"
             ],
             [
              0.3333333333333333,
              "#9c179e"
             ],
             [
              0.4444444444444444,
              "#bd3786"
             ],
             [
              0.5555555555555556,
              "#d8576b"
             ],
             [
              0.6666666666666666,
              "#ed7953"
             ],
             [
              0.7777777777777778,
              "#fb9f3a"
             ],
             [
              0.8888888888888888,
              "#fdca26"
             ],
             [
              1,
              "#f0f921"
             ]
            ],
            "type": "contour"
           }
          ],
          "contourcarpet": [
           {
            "colorbar": {
             "outlinewidth": 0,
             "ticks": ""
            },
            "type": "contourcarpet"
           }
          ],
          "heatmap": [
           {
            "colorbar": {
             "outlinewidth": 0,
             "ticks": ""
            },
            "colorscale": [
             [
              0,
              "#0d0887"
             ],
             [
              0.1111111111111111,
              "#46039f"
             ],
             [
              0.2222222222222222,
              "#7201a8"
             ],
             [
              0.3333333333333333,
              "#9c179e"
             ],
             [
              0.4444444444444444,
              "#bd3786"
             ],
             [
              0.5555555555555556,
              "#d8576b"
             ],
             [
              0.6666666666666666,
              "#ed7953"
             ],
             [
              0.7777777777777778,
              "#fb9f3a"
             ],
             [
              0.8888888888888888,
              "#fdca26"
             ],
             [
              1,
              "#f0f921"
             ]
            ],
            "type": "heatmap"
           }
          ],
          "heatmapgl": [
           {
            "colorbar": {
             "outlinewidth": 0,
             "ticks": ""
            },
            "colorscale": [
             [
              0,
              "#0d0887"
             ],
             [
              0.1111111111111111,
              "#46039f"
             ],
             [
              0.2222222222222222,
              "#7201a8"
             ],
             [
              0.3333333333333333,
              "#9c179e"
             ],
             [
              0.4444444444444444,
              "#bd3786"
             ],
             [
              0.5555555555555556,
              "#d8576b"
             ],
             [
              0.6666666666666666,
              "#ed7953"
             ],
             [
              0.7777777777777778,
              "#fb9f3a"
             ],
             [
              0.8888888888888888,
              "#fdca26"
             ],
             [
              1,
              "#f0f921"
             ]
            ],
            "type": "heatmapgl"
           }
          ],
          "histogram": [
           {
            "marker": {
             "colorbar": {
              "outlinewidth": 0,
              "ticks": ""
             }
            },
            "type": "histogram"
           }
          ],
          "histogram2d": [
           {
            "colorbar": {
             "outlinewidth": 0,
             "ticks": ""
            },
            "colorscale": [
             [
              0,
              "#0d0887"
             ],
             [
              0.1111111111111111,
              "#46039f"
             ],
             [
              0.2222222222222222,
              "#7201a8"
             ],
             [
              0.3333333333333333,
              "#9c179e"
             ],
             [
              0.4444444444444444,
              "#bd3786"
             ],
             [
              0.5555555555555556,
              "#d8576b"
             ],
             [
              0.6666666666666666,
              "#ed7953"
             ],
             [
              0.7777777777777778,
              "#fb9f3a"
             ],
             [
              0.8888888888888888,
              "#fdca26"
             ],
             [
              1,
              "#f0f921"
             ]
            ],
            "type": "histogram2d"
           }
          ],
          "histogram2dcontour": [
           {
            "colorbar": {
             "outlinewidth": 0,
             "ticks": ""
            },
            "colorscale": [
             [
              0,
              "#0d0887"
             ],
             [
              0.1111111111111111,
              "#46039f"
             ],
             [
              0.2222222222222222,
              "#7201a8"
             ],
             [
              0.3333333333333333,
              "#9c179e"
             ],
             [
              0.4444444444444444,
              "#bd3786"
             ],
             [
              0.5555555555555556,
              "#d8576b"
             ],
             [
              0.6666666666666666,
              "#ed7953"
             ],
             [
              0.7777777777777778,
              "#fb9f3a"
             ],
             [
              0.8888888888888888,
              "#fdca26"
             ],
             [
              1,
              "#f0f921"
             ]
            ],
            "type": "histogram2dcontour"
           }
          ],
          "mesh3d": [
           {
            "colorbar": {
             "outlinewidth": 0,
             "ticks": ""
            },
            "type": "mesh3d"
           }
          ],
          "parcoords": [
           {
            "line": {
             "colorbar": {
              "outlinewidth": 0,
              "ticks": ""
             }
            },
            "type": "parcoords"
           }
          ],
          "pie": [
           {
            "automargin": true,
            "type": "pie"
           }
          ],
          "scatter": [
           {
            "marker": {
             "colorbar": {
              "outlinewidth": 0,
              "ticks": ""
             }
            },
            "type": "scatter"
           }
          ],
          "scatter3d": [
           {
            "line": {
             "colorbar": {
              "outlinewidth": 0,
              "ticks": ""
             }
            },
            "marker": {
             "colorbar": {
              "outlinewidth": 0,
              "ticks": ""
             }
            },
            "type": "scatter3d"
           }
          ],
          "scattercarpet": [
           {
            "marker": {
             "colorbar": {
              "outlinewidth": 0,
              "ticks": ""
             }
            },
            "type": "scattercarpet"
           }
          ],
          "scattergeo": [
           {
            "marker": {
             "colorbar": {
              "outlinewidth": 0,
              "ticks": ""
             }
            },
            "type": "scattergeo"
           }
          ],
          "scattergl": [
           {
            "marker": {
             "colorbar": {
              "outlinewidth": 0,
              "ticks": ""
             }
            },
            "type": "scattergl"
           }
          ],
          "scattermapbox": [
           {
            "marker": {
             "colorbar": {
              "outlinewidth": 0,
              "ticks": ""
             }
            },
            "type": "scattermapbox"
           }
          ],
          "scatterpolar": [
           {
            "marker": {
             "colorbar": {
              "outlinewidth": 0,
              "ticks": ""
             }
            },
            "type": "scatterpolar"
           }
          ],
          "scatterpolargl": [
           {
            "marker": {
             "colorbar": {
              "outlinewidth": 0,
              "ticks": ""
             }
            },
            "type": "scatterpolargl"
           }
          ],
          "scatterternary": [
           {
            "marker": {
             "colorbar": {
              "outlinewidth": 0,
              "ticks": ""
             }
            },
            "type": "scatterternary"
           }
          ],
          "surface": [
           {
            "colorbar": {
             "outlinewidth": 0,
             "ticks": ""
            },
            "colorscale": [
             [
              0,
              "#0d0887"
             ],
             [
              0.1111111111111111,
              "#46039f"
             ],
             [
              0.2222222222222222,
              "#7201a8"
             ],
             [
              0.3333333333333333,
              "#9c179e"
             ],
             [
              0.4444444444444444,
              "#bd3786"
             ],
             [
              0.5555555555555556,
              "#d8576b"
             ],
             [
              0.6666666666666666,
              "#ed7953"
             ],
             [
              0.7777777777777778,
              "#fb9f3a"
             ],
             [
              0.8888888888888888,
              "#fdca26"
             ],
             [
              1,
              "#f0f921"
             ]
            ],
            "type": "surface"
           }
          ],
          "table": [
           {
            "cells": {
             "fill": {
              "color": "#EBF0F8"
             },
             "line": {
              "color": "white"
             }
            },
            "header": {
             "fill": {
              "color": "#C8D4E3"
             },
             "line": {
              "color": "white"
             }
            },
            "type": "table"
           }
          ]
         },
         "layout": {
          "annotationdefaults": {
           "arrowcolor": "#2a3f5f",
           "arrowhead": 0,
           "arrowwidth": 1
          },
          "coloraxis": {
           "colorbar": {
            "outlinewidth": 0,
            "ticks": ""
           }
          },
          "colorscale": {
           "diverging": [
            [
             0,
             "#8e0152"
            ],
            [
             0.1,
             "#c51b7d"
            ],
            [
             0.2,
             "#de77ae"
            ],
            [
             0.3,
             "#f1b6da"
            ],
            [
             0.4,
             "#fde0ef"
            ],
            [
             0.5,
             "#f7f7f7"
            ],
            [
             0.6,
             "#e6f5d0"
            ],
            [
             0.7,
             "#b8e186"
            ],
            [
             0.8,
             "#7fbc41"
            ],
            [
             0.9,
             "#4d9221"
            ],
            [
             1,
             "#276419"
            ]
           ],
           "sequential": [
            [
             0,
             "#0d0887"
            ],
            [
             0.1111111111111111,
             "#46039f"
            ],
            [
             0.2222222222222222,
             "#7201a8"
            ],
            [
             0.3333333333333333,
             "#9c179e"
            ],
            [
             0.4444444444444444,
             "#bd3786"
            ],
            [
             0.5555555555555556,
             "#d8576b"
            ],
            [
             0.6666666666666666,
             "#ed7953"
            ],
            [
             0.7777777777777778,
             "#fb9f3a"
            ],
            [
             0.8888888888888888,
             "#fdca26"
            ],
            [
             1,
             "#f0f921"
            ]
           ],
           "sequentialminus": [
            [
             0,
             "#0d0887"
            ],
            [
             0.1111111111111111,
             "#46039f"
            ],
            [
             0.2222222222222222,
             "#7201a8"
            ],
            [
             0.3333333333333333,
             "#9c179e"
            ],
            [
             0.4444444444444444,
             "#bd3786"
            ],
            [
             0.5555555555555556,
             "#d8576b"
            ],
            [
             0.6666666666666666,
             "#ed7953"
            ],
            [
             0.7777777777777778,
             "#fb9f3a"
            ],
            [
             0.8888888888888888,
             "#fdca26"
            ],
            [
             1,
             "#f0f921"
            ]
           ]
          },
          "colorway": [
           "#636efa",
           "#EF553B",
           "#00cc96",
           "#ab63fa",
           "#FFA15A",
           "#19d3f3",
           "#FF6692",
           "#B6E880",
           "#FF97FF",
           "#FECB52"
          ],
          "font": {
           "color": "#2a3f5f"
          },
          "geo": {
           "bgcolor": "white",
           "lakecolor": "white",
           "landcolor": "#E5ECF6",
           "showlakes": true,
           "showland": true,
           "subunitcolor": "white"
          },
          "hoverlabel": {
           "align": "left"
          },
          "hovermode": "closest",
          "mapbox": {
           "style": "light"
          },
          "paper_bgcolor": "white",
          "plot_bgcolor": "#E5ECF6",
          "polar": {
           "angularaxis": {
            "gridcolor": "white",
            "linecolor": "white",
            "ticks": ""
           },
           "bgcolor": "#E5ECF6",
           "radialaxis": {
            "gridcolor": "white",
            "linecolor": "white",
            "ticks": ""
           }
          },
          "scene": {
           "xaxis": {
            "backgroundcolor": "#E5ECF6",
            "gridcolor": "white",
            "gridwidth": 2,
            "linecolor": "white",
            "showbackground": true,
            "ticks": "",
            "zerolinecolor": "white"
           },
           "yaxis": {
            "backgroundcolor": "#E5ECF6",
            "gridcolor": "white",
            "gridwidth": 2,
            "linecolor": "white",
            "showbackground": true,
            "ticks": "",
            "zerolinecolor": "white"
           },
           "zaxis": {
            "backgroundcolor": "#E5ECF6",
            "gridcolor": "white",
            "gridwidth": 2,
            "linecolor": "white",
            "showbackground": true,
            "ticks": "",
            "zerolinecolor": "white"
           }
          },
          "shapedefaults": {
           "line": {
            "color": "#2a3f5f"
           }
          },
          "ternary": {
           "aaxis": {
            "gridcolor": "white",
            "linecolor": "white",
            "ticks": ""
           },
           "baxis": {
            "gridcolor": "white",
            "linecolor": "white",
            "ticks": ""
           },
           "bgcolor": "#E5ECF6",
           "caxis": {
            "gridcolor": "white",
            "linecolor": "white",
            "ticks": ""
           }
          },
          "title": {
           "x": 0.05
          },
          "xaxis": {
           "automargin": true,
           "gridcolor": "white",
           "linecolor": "white",
           "ticks": "",
           "title": {
            "standoff": 15
           },
           "zerolinecolor": "white",
           "zerolinewidth": 2
          },
          "yaxis": {
           "automargin": true,
           "gridcolor": "white",
           "linecolor": "white",
           "ticks": "",
           "title": {
            "standoff": 15
           },
           "zerolinecolor": "white",
           "zerolinewidth": 2
          }
         }
        },
        "title": {
         "text": "Número de defunciones fetales (mujeres) 2010-2020"
        },
        "xaxis": {
         "anchor": "y",
         "domain": [
          0,
          1
         ],
         "title": {
          "text": "Municipio"
         }
        },
        "yaxis": {
         "anchor": "x",
         "domain": [
          0,
          1
         ],
         "title": {
          "text": "Mujeres"
         }
        }
       }
      }
     },
     "metadata": {},
     "output_type": "display_data"
    },
    {
     "data": {
      "application/vnd.plotly.v1+json": {
       "config": {
        "plotlyServerURL": "https://plot.ly"
       },
       "data": [
        {
         "alignmentgroup": "True",
         "hovertemplate": "Año=2010<br>Municipio=%{x}<br>Indeterminado=%{y}<extra></extra>",
         "legendgroup": "2010",
         "marker": {
          "color": "rgb(36, 86, 104)"
         },
         "name": "2010",
         "offsetgroup": "2010",
         "orientation": "v",
         "showlegend": true,
         "textposition": "auto",
         "type": "bar",
         "x": [
          "Cali",
          "Dagua",
          "Jamundí",
          "La Cumbre",
          "Vijes",
          "Yumbo"
         ],
         "xaxis": "x",
         "y": [
          154,
          2,
          5,
          0,
          1,
          2
         ],
         "yaxis": "y"
        },
        {
         "alignmentgroup": "True",
         "hovertemplate": "Año=2011<br>Municipio=%{x}<br>Indeterminado=%{y}<extra></extra>",
         "legendgroup": "2011",
         "marker": {
          "color": "rgb(15, 114, 121)"
         },
         "name": "2011",
         "offsetgroup": "2011",
         "orientation": "v",
         "showlegend": true,
         "textposition": "auto",
         "type": "bar",
         "x": [
          "Cali",
          "Dagua",
          "Jamundí",
          "La Cumbre",
          "Vijes",
          "Yumbo"
         ],
         "xaxis": "x",
         "y": [
          331,
          1,
          8,
          0,
          1,
          24
         ],
         "yaxis": "y"
        },
        {
         "alignmentgroup": "True",
         "hovertemplate": "Año=2012<br>Municipio=%{x}<br>Indeterminado=%{y}<extra></extra>",
         "legendgroup": "2012",
         "marker": {
          "color": "rgb(13, 143, 129)"
         },
         "name": "2012",
         "offsetgroup": "2012",
         "orientation": "v",
         "showlegend": true,
         "textposition": "auto",
         "type": "bar",
         "x": [
          "Cali",
          "Dagua",
          "Jamundí",
          "La Cumbre",
          "Vijes",
          "Yumbo"
         ],
         "xaxis": "x",
         "y": [
          1175,
          6,
          18,
          0,
          1,
          35
         ],
         "yaxis": "y"
        },
        {
         "alignmentgroup": "True",
         "hovertemplate": "Año=2013<br>Municipio=%{x}<br>Indeterminado=%{y}<extra></extra>",
         "legendgroup": "2013",
         "marker": {
          "color": "rgb(57, 171, 126)"
         },
         "name": "2013",
         "offsetgroup": "2013",
         "orientation": "v",
         "showlegend": true,
         "textposition": "auto",
         "type": "bar",
         "x": [
          "Cali",
          "Dagua",
          "Jamundí",
          "La Cumbre",
          "Vijes",
          "Yumbo"
         ],
         "xaxis": "x",
         "y": [
          2786,
          27,
          106,
          6,
          4,
          65
         ],
         "yaxis": "y"
        },
        {
         "alignmentgroup": "True",
         "hovertemplate": "Año=2014<br>Municipio=%{x}<br>Indeterminado=%{y}<extra></extra>",
         "legendgroup": "2014",
         "marker": {
          "color": "rgb(110, 197, 116)"
         },
         "name": "2014",
         "offsetgroup": "2014",
         "orientation": "v",
         "showlegend": true,
         "textposition": "auto",
         "type": "bar",
         "x": [
          "Cali",
          "Dagua",
          "Jamundí",
          "La Cumbre",
          "Vijes",
          "Yumbo"
         ],
         "xaxis": "x",
         "y": [
          3161,
          39,
          99,
          9,
          10,
          116
         ],
         "yaxis": "y"
        },
        {
         "alignmentgroup": "True",
         "hovertemplate": "Año=2015<br>Municipio=%{x}<br>Indeterminado=%{y}<extra></extra>",
         "legendgroup": "2015",
         "marker": {
          "color": "rgb(169, 220, 103)"
         },
         "name": "2015",
         "offsetgroup": "2015",
         "orientation": "v",
         "showlegend": true,
         "textposition": "auto",
         "type": "bar",
         "x": [
          "Cali",
          "Dagua",
          "Jamundí",
          "La Cumbre",
          "Vijes",
          "Yumbo"
         ],
         "xaxis": "x",
         "y": [
          2902,
          31,
          99,
          10,
          7,
          88
         ],
         "yaxis": "y"
        },
        {
         "alignmentgroup": "True",
         "hovertemplate": "Año=2016<br>Municipio=%{x}<br>Indeterminado=%{y}<extra></extra>",
         "legendgroup": "2016",
         "marker": {
          "color": "rgb(237, 239, 93)"
         },
         "name": "2016",
         "offsetgroup": "2016",
         "orientation": "v",
         "showlegend": true,
         "textposition": "auto",
         "type": "bar",
         "x": [
          "Cali",
          "Dagua",
          "Jamundí",
          "La Cumbre",
          "Vijes",
          "Yumbo"
         ],
         "xaxis": "x",
         "y": [
          2589,
          30,
          111,
          7,
          11,
          73
         ],
         "yaxis": "y"
        },
        {
         "alignmentgroup": "True",
         "hovertemplate": "Año=2017<br>Municipio=%{x}<br>Indeterminado=%{y}<extra></extra>",
         "legendgroup": "2017",
         "marker": {
          "color": "rgb(36, 86, 104)"
         },
         "name": "2017",
         "offsetgroup": "2017",
         "orientation": "v",
         "showlegend": true,
         "textposition": "auto",
         "type": "bar",
         "x": [
          "Cali",
          "Dagua",
          "Jamundí",
          "La Cumbre",
          "Vijes",
          "Yumbo"
         ],
         "xaxis": "x",
         "y": [
          2072,
          21,
          80,
          5,
          7,
          60
         ],
         "yaxis": "y"
        },
        {
         "alignmentgroup": "True",
         "hovertemplate": "Año=2018<br>Municipio=%{x}<br>Indeterminado=%{y}<extra></extra>",
         "legendgroup": "2018",
         "marker": {
          "color": "rgb(15, 114, 121)"
         },
         "name": "2018",
         "offsetgroup": "2018",
         "orientation": "v",
         "showlegend": true,
         "textposition": "auto",
         "type": "bar",
         "x": [
          "Cali",
          "Dagua",
          "Jamundí",
          "La Cumbre",
          "Vijes",
          "Yumbo"
         ],
         "xaxis": "x",
         "y": [
          1950,
          33,
          118,
          5,
          8,
          82
         ],
         "yaxis": "y"
        },
        {
         "alignmentgroup": "True",
         "hovertemplate": "Año=2019<br>Municipio=%{x}<br>Indeterminado=%{y}<extra></extra>",
         "legendgroup": "2019",
         "marker": {
          "color": "rgb(13, 143, 129)"
         },
         "name": "2019",
         "offsetgroup": "2019",
         "orientation": "v",
         "showlegend": true,
         "textposition": "auto",
         "type": "bar",
         "x": [
          "Cali",
          "Dagua",
          "Jamundí",
          "La Cumbre",
          "Vijes",
          "Yumbo"
         ],
         "xaxis": "x",
         "y": [
          1781,
          16,
          125,
          3,
          4,
          79
         ],
         "yaxis": "y"
        },
        {
         "alignmentgroup": "True",
         "hovertemplate": "Año=2020<br>Municipio=%{x}<br>Indeterminado=%{y}<extra></extra>",
         "legendgroup": "2020",
         "marker": {
          "color": "rgb(57, 171, 126)"
         },
         "name": "2020",
         "offsetgroup": "2020",
         "orientation": "v",
         "showlegend": true,
         "textposition": "auto",
         "type": "bar",
         "x": [
          "Cali",
          "Dagua",
          "Jamundí",
          "Vijes",
          "Yumbo"
         ],
         "xaxis": "x",
         "y": [
          408,
          6,
          24,
          1,
          16
         ],
         "yaxis": "y"
        }
       ],
       "layout": {
        "barmode": "group",
        "legend": {
         "title": {
          "text": "Año"
         },
         "tracegroupgap": 0
        },
        "template": {
         "data": {
          "bar": [
           {
            "error_x": {
             "color": "#2a3f5f"
            },
            "error_y": {
             "color": "#2a3f5f"
            },
            "marker": {
             "line": {
              "color": "#E5ECF6",
              "width": 0.5
             }
            },
            "type": "bar"
           }
          ],
          "barpolar": [
           {
            "marker": {
             "line": {
              "color": "#E5ECF6",
              "width": 0.5
             }
            },
            "type": "barpolar"
           }
          ],
          "carpet": [
           {
            "aaxis": {
             "endlinecolor": "#2a3f5f",
             "gridcolor": "white",
             "linecolor": "white",
             "minorgridcolor": "white",
             "startlinecolor": "#2a3f5f"
            },
            "baxis": {
             "endlinecolor": "#2a3f5f",
             "gridcolor": "white",
             "linecolor": "white",
             "minorgridcolor": "white",
             "startlinecolor": "#2a3f5f"
            },
            "type": "carpet"
           }
          ],
          "choropleth": [
           {
            "colorbar": {
             "outlinewidth": 0,
             "ticks": ""
            },
            "type": "choropleth"
           }
          ],
          "contour": [
           {
            "colorbar": {
             "outlinewidth": 0,
             "ticks": ""
            },
            "colorscale": [
             [
              0,
              "#0d0887"
             ],
             [
              0.1111111111111111,
              "#46039f"
             ],
             [
              0.2222222222222222,
              "#7201a8"
             ],
             [
              0.3333333333333333,
              "#9c179e"
             ],
             [
              0.4444444444444444,
              "#bd3786"
             ],
             [
              0.5555555555555556,
              "#d8576b"
             ],
             [
              0.6666666666666666,
              "#ed7953"
             ],
             [
              0.7777777777777778,
              "#fb9f3a"
             ],
             [
              0.8888888888888888,
              "#fdca26"
             ],
             [
              1,
              "#f0f921"
             ]
            ],
            "type": "contour"
           }
          ],
          "contourcarpet": [
           {
            "colorbar": {
             "outlinewidth": 0,
             "ticks": ""
            },
            "type": "contourcarpet"
           }
          ],
          "heatmap": [
           {
            "colorbar": {
             "outlinewidth": 0,
             "ticks": ""
            },
            "colorscale": [
             [
              0,
              "#0d0887"
             ],
             [
              0.1111111111111111,
              "#46039f"
             ],
             [
              0.2222222222222222,
              "#7201a8"
             ],
             [
              0.3333333333333333,
              "#9c179e"
             ],
             [
              0.4444444444444444,
              "#bd3786"
             ],
             [
              0.5555555555555556,
              "#d8576b"
             ],
             [
              0.6666666666666666,
              "#ed7953"
             ],
             [
              0.7777777777777778,
              "#fb9f3a"
             ],
             [
              0.8888888888888888,
              "#fdca26"
             ],
             [
              1,
              "#f0f921"
             ]
            ],
            "type": "heatmap"
           }
          ],
          "heatmapgl": [
           {
            "colorbar": {
             "outlinewidth": 0,
             "ticks": ""
            },
            "colorscale": [
             [
              0,
              "#0d0887"
             ],
             [
              0.1111111111111111,
              "#46039f"
             ],
             [
              0.2222222222222222,
              "#7201a8"
             ],
             [
              0.3333333333333333,
              "#9c179e"
             ],
             [
              0.4444444444444444,
              "#bd3786"
             ],
             [
              0.5555555555555556,
              "#d8576b"
             ],
             [
              0.6666666666666666,
              "#ed7953"
             ],
             [
              0.7777777777777778,
              "#fb9f3a"
             ],
             [
              0.8888888888888888,
              "#fdca26"
             ],
             [
              1,
              "#f0f921"
             ]
            ],
            "type": "heatmapgl"
           }
          ],
          "histogram": [
           {
            "marker": {
             "colorbar": {
              "outlinewidth": 0,
              "ticks": ""
             }
            },
            "type": "histogram"
           }
          ],
          "histogram2d": [
           {
            "colorbar": {
             "outlinewidth": 0,
             "ticks": ""
            },
            "colorscale": [
             [
              0,
              "#0d0887"
             ],
             [
              0.1111111111111111,
              "#46039f"
             ],
             [
              0.2222222222222222,
              "#7201a8"
             ],
             [
              0.3333333333333333,
              "#9c179e"
             ],
             [
              0.4444444444444444,
              "#bd3786"
             ],
             [
              0.5555555555555556,
              "#d8576b"
             ],
             [
              0.6666666666666666,
              "#ed7953"
             ],
             [
              0.7777777777777778,
              "#fb9f3a"
             ],
             [
              0.8888888888888888,
              "#fdca26"
             ],
             [
              1,
              "#f0f921"
             ]
            ],
            "type": "histogram2d"
           }
          ],
          "histogram2dcontour": [
           {
            "colorbar": {
             "outlinewidth": 0,
             "ticks": ""
            },
            "colorscale": [
             [
              0,
              "#0d0887"
             ],
             [
              0.1111111111111111,
              "#46039f"
             ],
             [
              0.2222222222222222,
              "#7201a8"
             ],
             [
              0.3333333333333333,
              "#9c179e"
             ],
             [
              0.4444444444444444,
              "#bd3786"
             ],
             [
              0.5555555555555556,
              "#d8576b"
             ],
             [
              0.6666666666666666,
              "#ed7953"
             ],
             [
              0.7777777777777778,
              "#fb9f3a"
             ],
             [
              0.8888888888888888,
              "#fdca26"
             ],
             [
              1,
              "#f0f921"
             ]
            ],
            "type": "histogram2dcontour"
           }
          ],
          "mesh3d": [
           {
            "colorbar": {
             "outlinewidth": 0,
             "ticks": ""
            },
            "type": "mesh3d"
           }
          ],
          "parcoords": [
           {
            "line": {
             "colorbar": {
              "outlinewidth": 0,
              "ticks": ""
             }
            },
            "type": "parcoords"
           }
          ],
          "pie": [
           {
            "automargin": true,
            "type": "pie"
           }
          ],
          "scatter": [
           {
            "marker": {
             "colorbar": {
              "outlinewidth": 0,
              "ticks": ""
             }
            },
            "type": "scatter"
           }
          ],
          "scatter3d": [
           {
            "line": {
             "colorbar": {
              "outlinewidth": 0,
              "ticks": ""
             }
            },
            "marker": {
             "colorbar": {
              "outlinewidth": 0,
              "ticks": ""
             }
            },
            "type": "scatter3d"
           }
          ],
          "scattercarpet": [
           {
            "marker": {
             "colorbar": {
              "outlinewidth": 0,
              "ticks": ""
             }
            },
            "type": "scattercarpet"
           }
          ],
          "scattergeo": [
           {
            "marker": {
             "colorbar": {
              "outlinewidth": 0,
              "ticks": ""
             }
            },
            "type": "scattergeo"
           }
          ],
          "scattergl": [
           {
            "marker": {
             "colorbar": {
              "outlinewidth": 0,
              "ticks": ""
             }
            },
            "type": "scattergl"
           }
          ],
          "scattermapbox": [
           {
            "marker": {
             "colorbar": {
              "outlinewidth": 0,
              "ticks": ""
             }
            },
            "type": "scattermapbox"
           }
          ],
          "scatterpolar": [
           {
            "marker": {
             "colorbar": {
              "outlinewidth": 0,
              "ticks": ""
             }
            },
            "type": "scatterpolar"
           }
          ],
          "scatterpolargl": [
           {
            "marker": {
             "colorbar": {
              "outlinewidth": 0,
              "ticks": ""
             }
            },
            "type": "scatterpolargl"
           }
          ],
          "scatterternary": [
           {
            "marker": {
             "colorbar": {
              "outlinewidth": 0,
              "ticks": ""
             }
            },
            "type": "scatterternary"
           }
          ],
          "surface": [
           {
            "colorbar": {
             "outlinewidth": 0,
             "ticks": ""
            },
            "colorscale": [
             [
              0,
              "#0d0887"
             ],
             [
              0.1111111111111111,
              "#46039f"
             ],
             [
              0.2222222222222222,
              "#7201a8"
             ],
             [
              0.3333333333333333,
              "#9c179e"
             ],
             [
              0.4444444444444444,
              "#bd3786"
             ],
             [
              0.5555555555555556,
              "#d8576b"
             ],
             [
              0.6666666666666666,
              "#ed7953"
             ],
             [
              0.7777777777777778,
              "#fb9f3a"
             ],
             [
              0.8888888888888888,
              "#fdca26"
             ],
             [
              1,
              "#f0f921"
             ]
            ],
            "type": "surface"
           }
          ],
          "table": [
           {
            "cells": {
             "fill": {
              "color": "#EBF0F8"
             },
             "line": {
              "color": "white"
             }
            },
            "header": {
             "fill": {
              "color": "#C8D4E3"
             },
             "line": {
              "color": "white"
             }
            },
            "type": "table"
           }
          ]
         },
         "layout": {
          "annotationdefaults": {
           "arrowcolor": "#2a3f5f",
           "arrowhead": 0,
           "arrowwidth": 1
          },
          "coloraxis": {
           "colorbar": {
            "outlinewidth": 0,
            "ticks": ""
           }
          },
          "colorscale": {
           "diverging": [
            [
             0,
             "#8e0152"
            ],
            [
             0.1,
             "#c51b7d"
            ],
            [
             0.2,
             "#de77ae"
            ],
            [
             0.3,
             "#f1b6da"
            ],
            [
             0.4,
             "#fde0ef"
            ],
            [
             0.5,
             "#f7f7f7"
            ],
            [
             0.6,
             "#e6f5d0"
            ],
            [
             0.7,
             "#b8e186"
            ],
            [
             0.8,
             "#7fbc41"
            ],
            [
             0.9,
             "#4d9221"
            ],
            [
             1,
             "#276419"
            ]
           ],
           "sequential": [
            [
             0,
             "#0d0887"
            ],
            [
             0.1111111111111111,
             "#46039f"
            ],
            [
             0.2222222222222222,
             "#7201a8"
            ],
            [
             0.3333333333333333,
             "#9c179e"
            ],
            [
             0.4444444444444444,
             "#bd3786"
            ],
            [
             0.5555555555555556,
             "#d8576b"
            ],
            [
             0.6666666666666666,
             "#ed7953"
            ],
            [
             0.7777777777777778,
             "#fb9f3a"
            ],
            [
             0.8888888888888888,
             "#fdca26"
            ],
            [
             1,
             "#f0f921"
            ]
           ],
           "sequentialminus": [
            [
             0,
             "#0d0887"
            ],
            [
             0.1111111111111111,
             "#46039f"
            ],
            [
             0.2222222222222222,
             "#7201a8"
            ],
            [
             0.3333333333333333,
             "#9c179e"
            ],
            [
             0.4444444444444444,
             "#bd3786"
            ],
            [
             0.5555555555555556,
             "#d8576b"
            ],
            [
             0.6666666666666666,
             "#ed7953"
            ],
            [
             0.7777777777777778,
             "#fb9f3a"
            ],
            [
             0.8888888888888888,
             "#fdca26"
            ],
            [
             1,
             "#f0f921"
            ]
           ]
          },
          "colorway": [
           "#636efa",
           "#EF553B",
           "#00cc96",
           "#ab63fa",
           "#FFA15A",
           "#19d3f3",
           "#FF6692",
           "#B6E880",
           "#FF97FF",
           "#FECB52"
          ],
          "font": {
           "color": "#2a3f5f"
          },
          "geo": {
           "bgcolor": "white",
           "lakecolor": "white",
           "landcolor": "#E5ECF6",
           "showlakes": true,
           "showland": true,
           "subunitcolor": "white"
          },
          "hoverlabel": {
           "align": "left"
          },
          "hovermode": "closest",
          "mapbox": {
           "style": "light"
          },
          "paper_bgcolor": "white",
          "plot_bgcolor": "#E5ECF6",
          "polar": {
           "angularaxis": {
            "gridcolor": "white",
            "linecolor": "white",
            "ticks": ""
           },
           "bgcolor": "#E5ECF6",
           "radialaxis": {
            "gridcolor": "white",
            "linecolor": "white",
            "ticks": ""
           }
          },
          "scene": {
           "xaxis": {
            "backgroundcolor": "#E5ECF6",
            "gridcolor": "white",
            "gridwidth": 2,
            "linecolor": "white",
            "showbackground": true,
            "ticks": "",
            "zerolinecolor": "white"
           },
           "yaxis": {
            "backgroundcolor": "#E5ECF6",
            "gridcolor": "white",
            "gridwidth": 2,
            "linecolor": "white",
            "showbackground": true,
            "ticks": "",
            "zerolinecolor": "white"
           },
           "zaxis": {
            "backgroundcolor": "#E5ECF6",
            "gridcolor": "white",
            "gridwidth": 2,
            "linecolor": "white",
            "showbackground": true,
            "ticks": "",
            "zerolinecolor": "white"
           }
          },
          "shapedefaults": {
           "line": {
            "color": "#2a3f5f"
           }
          },
          "ternary": {
           "aaxis": {
            "gridcolor": "white",
            "linecolor": "white",
            "ticks": ""
           },
           "baxis": {
            "gridcolor": "white",
            "linecolor": "white",
            "ticks": ""
           },
           "bgcolor": "#E5ECF6",
           "caxis": {
            "gridcolor": "white",
            "linecolor": "white",
            "ticks": ""
           }
          },
          "title": {
           "x": 0.05
          },
          "xaxis": {
           "automargin": true,
           "gridcolor": "white",
           "linecolor": "white",
           "ticks": "",
           "title": {
            "standoff": 15
           },
           "zerolinecolor": "white",
           "zerolinewidth": 2
          },
          "yaxis": {
           "automargin": true,
           "gridcolor": "white",
           "linecolor": "white",
           "ticks": "",
           "title": {
            "standoff": 15
           },
           "zerolinecolor": "white",
           "zerolinewidth": 2
          }
         }
        },
        "title": {
         "text": "Número de defunciones fetales (indeterminado) 2010-2020"
        },
        "xaxis": {
         "anchor": "y",
         "domain": [
          0,
          1
         ],
         "title": {
          "text": "Municipio"
         }
        },
        "yaxis": {
         "anchor": "x",
         "domain": [
          0,
          1
         ],
         "title": {
          "text": "Indeterminado"
         }
        }
       }
      }
     },
     "metadata": {},
     "output_type": "display_data"
    }
   ],
   "source": [
    "# Se procede a graficar las distribuciones por municipio del número de defunciones fetales 2010-2020\n",
    "fig = px.bar(Defunciones_fetales, x=\"Municipio\", y=\"Total\", color=\"Año\", barmode=\"group\", color_discrete_sequence=px.colors.sequential.Aggrnyl, title=\"Número de defunciones fetales 2010-2020\") \n",
    "fig2 = px.bar(Defunciones_fetales, x=\"Municipio\", y=\"Hombres\", color=\"Año\", barmode=\"group\", color_discrete_sequence=px.colors.sequential.Aggrnyl, title=\"Número de defunciones fetales (hombres) 2010-2020\") \n",
    "fig3 = px.bar(Defunciones_fetales, x=\"Municipio\", y=\"Mujeres\", color=\"Año\", barmode=\"group\", color_discrete_sequence=px.colors.sequential.Aggrnyl, title=\"Número de defunciones fetales (mujeres) 2010-2020\") \n",
    "fig4 = px.bar(Defunciones_fetales, x=\"Municipio\", y=\"Indeterminado\", color=\"Año\", barmode=\"group\", color_discrete_sequence=px.colors.sequential.Aggrnyl, title=\"Número de defunciones fetales (indeterminado) 2010-2020\") \n",
    "\n",
    "fig.show()\n",
    "fig2.show()\n",
    "fig3.show()\n",
    "fig4.show()"
   ]
  },
  {
   "cell_type": "code",
   "execution_count": 55,
   "metadata": {},
   "outputs": [],
   "source": [
    "# Para guardar la base de datos lista para ser tratada en formato Excel\n",
    "\n",
    "#Defunciones_fetales.to_excel(r'Defunciones_fetalesVF.xlsx', index = False)"
   ]
  },
  {
   "cell_type": "markdown",
   "metadata": {},
   "source": [
    "<p> Aquí comienza el cálculo de descriptivas para introducir en el texto </p>"
   ]
  },
  {
   "cell_type": "code",
   "execution_count": 13,
   "metadata": {},
   "outputs": [],
   "source": [
    "# Se utiliza el año para crear la variable datetime y hacer los cálculos correspondientes\n",
    "Defunciones_fetales['Año'] = pd.to_datetime(Defunciones_fetales['Año']).dt.year"
   ]
  },
  {
   "cell_type": "code",
   "execution_count": 14,
   "metadata": {},
   "outputs": [
    {
     "data": {
      "text/html": [
       "<div>\n",
       "<style scoped>\n",
       "    .dataframe tbody tr th:only-of-type {\n",
       "        vertical-align: middle;\n",
       "    }\n",
       "\n",
       "    .dataframe tbody tr th {\n",
       "        vertical-align: top;\n",
       "    }\n",
       "\n",
       "    .dataframe thead th {\n",
       "        text-align: right;\n",
       "    }\n",
       "</style>\n",
       "<table border=\"1\" class=\"dataframe\">\n",
       "  <thead>\n",
       "    <tr style=\"text-align: right;\">\n",
       "      <th></th>\n",
       "      <th>Municipio</th>\n",
       "      <th>Indicador</th>\n",
       "      <th>Total</th>\n",
       "      <th>Hombres</th>\n",
       "      <th>Mujeres</th>\n",
       "      <th>Indeterminado</th>\n",
       "      <th>Año</th>\n",
       "      <th>Codigo_Municipio</th>\n",
       "      <th>id_unique</th>\n",
       "    </tr>\n",
       "  </thead>\n",
       "  <tbody>\n",
       "    <tr>\n",
       "      <th>1</th>\n",
       "      <td>Cali</td>\n",
       "      <td>Total</td>\n",
       "      <td>546.0</td>\n",
       "      <td>221.0</td>\n",
       "      <td>171.0</td>\n",
       "      <td>154.0</td>\n",
       "      <td>2010</td>\n",
       "      <td>76001</td>\n",
       "      <td>2010_Cali</td>\n",
       "    </tr>\n",
       "    <tr>\n",
       "      <th>13</th>\n",
       "      <td>Dagua</td>\n",
       "      <td>Total</td>\n",
       "      <td>13.0</td>\n",
       "      <td>6.0</td>\n",
       "      <td>5.0</td>\n",
       "      <td>2.0</td>\n",
       "      <td>2010</td>\n",
       "      <td>76233</td>\n",
       "      <td>2010_Dagua</td>\n",
       "    </tr>\n",
       "    <tr>\n",
       "      <th>21</th>\n",
       "      <td>Jamundí</td>\n",
       "      <td>Total</td>\n",
       "      <td>22.0</td>\n",
       "      <td>11.0</td>\n",
       "      <td>6.0</td>\n",
       "      <td>5.0</td>\n",
       "      <td>2010</td>\n",
       "      <td>76364</td>\n",
       "      <td>2010_Jamundí</td>\n",
       "    </tr>\n",
       "    <tr>\n",
       "      <th>22</th>\n",
       "      <td>La Cumbre</td>\n",
       "      <td>Total</td>\n",
       "      <td>2.0</td>\n",
       "      <td>2.0</td>\n",
       "      <td>0.0</td>\n",
       "      <td>0.0</td>\n",
       "      <td>2010</td>\n",
       "      <td>76377</td>\n",
       "      <td>2010_La Cumbre</td>\n",
       "    </tr>\n",
       "    <tr>\n",
       "      <th>37</th>\n",
       "      <td>Vijes</td>\n",
       "      <td>Total</td>\n",
       "      <td>2.0</td>\n",
       "      <td>1.0</td>\n",
       "      <td>0.0</td>\n",
       "      <td>1.0</td>\n",
       "      <td>2010</td>\n",
       "      <td>76869</td>\n",
       "      <td>2010_Vijes</td>\n",
       "    </tr>\n",
       "  </tbody>\n",
       "</table>\n",
       "</div>"
      ],
      "text/plain": [
       "    Municipio Indicador  Total  Hombres  Mujeres  Indeterminado   Año  \\\n",
       "1        Cali     Total  546.0    221.0    171.0          154.0  2010   \n",
       "13      Dagua     Total   13.0      6.0      5.0            2.0  2010   \n",
       "21    Jamundí     Total   22.0     11.0      6.0            5.0  2010   \n",
       "22  La Cumbre     Total    2.0      2.0      0.0            0.0  2010   \n",
       "37      Vijes     Total    2.0      1.0      0.0            1.0  2010   \n",
       "\n",
       "   Codigo_Municipio       id_unique  \n",
       "1             76001       2010_Cali  \n",
       "13            76233      2010_Dagua  \n",
       "21            76364    2010_Jamundí  \n",
       "22            76377  2010_La Cumbre  \n",
       "37            76869      2010_Vijes  "
      ]
     },
     "execution_count": 14,
     "metadata": {},
     "output_type": "execute_result"
    }
   ],
   "source": [
    "# Se crea un identificador único para hacer facilitar la unión de las bases después de los cálculos\n",
    "Defunciones_fetales['id_unique'] = Defunciones_fetales.apply(lambda x: '_'.join([str(x['Año']), str(x['Municipio'])]), axis=1)\n",
    "Defunciones_fetales.head()"
   ]
  },
  {
   "cell_type": "code",
   "execution_count": 15,
   "metadata": {},
   "outputs": [],
   "source": [
    "# Se crea una copia del dataframe para excluir el 2020 y realizar los cálculos de interés\n",
    "Defunciones_fetales2=Defunciones_fetales.copy()\n",
    "\n",
    "# Se elimnan las observaciones correspondientes para 2020\n",
    "Defunciones_fetales2.drop(Defunciones_fetales2[Defunciones_fetales2['Año'] == '2020'].index, inplace = True)"
   ]
  },
  {
   "cell_type": "code",
   "execution_count": 16,
   "metadata": {},
   "outputs": [
    {
     "data": {
      "text/html": [
       "<div>\n",
       "<style scoped>\n",
       "    .dataframe tbody tr th:only-of-type {\n",
       "        vertical-align: middle;\n",
       "    }\n",
       "\n",
       "    .dataframe tbody tr th {\n",
       "        vertical-align: top;\n",
       "    }\n",
       "\n",
       "    .dataframe thead th {\n",
       "        text-align: right;\n",
       "    }\n",
       "</style>\n",
       "<table border=\"1\" class=\"dataframe\">\n",
       "  <thead>\n",
       "    <tr style=\"text-align: right;\">\n",
       "      <th></th>\n",
       "      <th>Municipio</th>\n",
       "      <th>Promedio_total</th>\n",
       "      <th>Promedio_Hombres</th>\n",
       "      <th>Promedio_Mujeres</th>\n",
       "      <th>Promedio_Indeterminado</th>\n",
       "      <th>Año</th>\n",
       "    </tr>\n",
       "  </thead>\n",
       "  <tbody>\n",
       "    <tr>\n",
       "      <th>0</th>\n",
       "      <td>Cali</td>\n",
       "      <td>2128.000000</td>\n",
       "      <td>221.636364</td>\n",
       "      <td>151.000000</td>\n",
       "      <td>1755.363636</td>\n",
       "      <td>2015.0</td>\n",
       "    </tr>\n",
       "    <tr>\n",
       "      <th>1</th>\n",
       "      <td>Dagua</td>\n",
       "      <td>25.727273</td>\n",
       "      <td>4.363636</td>\n",
       "      <td>2.090909</td>\n",
       "      <td>19.272727</td>\n",
       "      <td>2015.0</td>\n",
       "    </tr>\n",
       "    <tr>\n",
       "      <th>2</th>\n",
       "      <td>Jamundí</td>\n",
       "      <td>89.090909</td>\n",
       "      <td>8.727273</td>\n",
       "      <td>8.272727</td>\n",
       "      <td>72.090909</td>\n",
       "      <td>2015.0</td>\n",
       "    </tr>\n",
       "    <tr>\n",
       "      <th>3</th>\n",
       "      <td>La Cumbre</td>\n",
       "      <td>6.200000</td>\n",
       "      <td>0.900000</td>\n",
       "      <td>0.800000</td>\n",
       "      <td>4.500000</td>\n",
       "      <td>2014.5</td>\n",
       "    </tr>\n",
       "    <tr>\n",
       "      <th>4</th>\n",
       "      <td>Vijes</td>\n",
       "      <td>6.363636</td>\n",
       "      <td>1.272727</td>\n",
       "      <td>0.090909</td>\n",
       "      <td>5.000000</td>\n",
       "      <td>2015.0</td>\n",
       "    </tr>\n",
       "  </tbody>\n",
       "</table>\n",
       "</div>"
      ],
      "text/plain": [
       "   Municipio  Promedio_total  Promedio_Hombres  Promedio_Mujeres  \\\n",
       "0       Cali     2128.000000        221.636364        151.000000   \n",
       "1      Dagua       25.727273          4.363636          2.090909   \n",
       "2    Jamundí       89.090909          8.727273          8.272727   \n",
       "3  La Cumbre        6.200000          0.900000          0.800000   \n",
       "4      Vijes        6.363636          1.272727          0.090909   \n",
       "\n",
       "   Promedio_Indeterminado     Año  \n",
       "0             1755.363636  2015.0  \n",
       "1               19.272727  2015.0  \n",
       "2               72.090909  2015.0  \n",
       "3                4.500000  2014.5  \n",
       "4                5.000000  2015.0  "
      ]
     },
     "execution_count": 16,
     "metadata": {},
     "output_type": "execute_result"
    }
   ],
   "source": [
    "# Se calcula el promedio según el año y el municipio\n",
    "Prom_def_fetales=Defunciones_fetales2.groupby(['Municipio'],as_index=False).mean()\n",
    "\n",
    "# Se crea un identificador único para hacer facilitar la unión de las bases después de los cálculos\n",
    "# Prom_def_fetales['id_unique'] = Prom_def_fetales.apply(lambda x: '_'.join([str(x['year']), str(x['Municipio'])]), axis=1)\n",
    "\n",
    "# Se renombran las columnas para mejorar el unión de las bases y facilitar su interpretación\n",
    "Prom_def_fetales.rename(columns={'Total':'Promedio_total',\n",
    "                          'Hombres':'Promedio_Hombres',\n",
    "                          'Mujeres':'Promedio_Mujeres',\n",
    "                          'Indeterminado': 'Promedio_Indeterminado',\n",
    "                          }, \n",
    "                 inplace=True)\n",
    "Prom_def_fetales.drop(['Año'], axis=1)\n",
    "Prom_def_fetales.head()"
   ]
  },
  {
   "cell_type": "code",
   "execution_count": 17,
   "metadata": {},
   "outputs": [
    {
     "data": {
      "text/html": [
       "<div>\n",
       "<style scoped>\n",
       "    .dataframe tbody tr th:only-of-type {\n",
       "        vertical-align: middle;\n",
       "    }\n",
       "\n",
       "    .dataframe tbody tr th {\n",
       "        vertical-align: top;\n",
       "    }\n",
       "\n",
       "    .dataframe thead th {\n",
       "        text-align: right;\n",
       "    }\n",
       "</style>\n",
       "<table border=\"1\" class=\"dataframe\">\n",
       "  <thead>\n",
       "    <tr style=\"text-align: right;\">\n",
       "      <th></th>\n",
       "      <th>Municipio</th>\n",
       "      <th>Indicador</th>\n",
       "      <th>Total</th>\n",
       "      <th>Hombres</th>\n",
       "      <th>Mujeres</th>\n",
       "      <th>Indeterminado</th>\n",
       "      <th>Año_x</th>\n",
       "      <th>Codigo_Municipio</th>\n",
       "      <th>id_unique</th>\n",
       "      <th>Promedio_total</th>\n",
       "      <th>Promedio_Hombres</th>\n",
       "      <th>Promedio_Mujeres</th>\n",
       "      <th>Promedio_Indeterminado</th>\n",
       "      <th>Año_y</th>\n",
       "    </tr>\n",
       "  </thead>\n",
       "  <tbody>\n",
       "    <tr>\n",
       "      <th>0</th>\n",
       "      <td>Cali</td>\n",
       "      <td>Total</td>\n",
       "      <td>546.0</td>\n",
       "      <td>221.0</td>\n",
       "      <td>171.0</td>\n",
       "      <td>154.0</td>\n",
       "      <td>2010</td>\n",
       "      <td>76001</td>\n",
       "      <td>2010_Cali</td>\n",
       "      <td>2128.0</td>\n",
       "      <td>221.636364</td>\n",
       "      <td>151.0</td>\n",
       "      <td>1755.363636</td>\n",
       "      <td>2015.0</td>\n",
       "    </tr>\n",
       "    <tr>\n",
       "      <th>1</th>\n",
       "      <td>Cali</td>\n",
       "      <td>Total</td>\n",
       "      <td>728.0</td>\n",
       "      <td>231.0</td>\n",
       "      <td>166.0</td>\n",
       "      <td>331.0</td>\n",
       "      <td>2011</td>\n",
       "      <td>76001</td>\n",
       "      <td>2011_Cali</td>\n",
       "      <td>2128.0</td>\n",
       "      <td>221.636364</td>\n",
       "      <td>151.0</td>\n",
       "      <td>1755.363636</td>\n",
       "      <td>2015.0</td>\n",
       "    </tr>\n",
       "    <tr>\n",
       "      <th>2</th>\n",
       "      <td>Cali</td>\n",
       "      <td>Total</td>\n",
       "      <td>1659.0</td>\n",
       "      <td>300.0</td>\n",
       "      <td>184.0</td>\n",
       "      <td>1175.0</td>\n",
       "      <td>2012</td>\n",
       "      <td>76001</td>\n",
       "      <td>2012_Cali</td>\n",
       "      <td>2128.0</td>\n",
       "      <td>221.636364</td>\n",
       "      <td>151.0</td>\n",
       "      <td>1755.363636</td>\n",
       "      <td>2015.0</td>\n",
       "    </tr>\n",
       "    <tr>\n",
       "      <th>3</th>\n",
       "      <td>Cali</td>\n",
       "      <td>Total</td>\n",
       "      <td>3222.0</td>\n",
       "      <td>257.0</td>\n",
       "      <td>179.0</td>\n",
       "      <td>2786.0</td>\n",
       "      <td>2013</td>\n",
       "      <td>76001</td>\n",
       "      <td>2013_Cali</td>\n",
       "      <td>2128.0</td>\n",
       "      <td>221.636364</td>\n",
       "      <td>151.0</td>\n",
       "      <td>1755.363636</td>\n",
       "      <td>2015.0</td>\n",
       "    </tr>\n",
       "    <tr>\n",
       "      <th>4</th>\n",
       "      <td>Cali</td>\n",
       "      <td>Total</td>\n",
       "      <td>3617.0</td>\n",
       "      <td>274.0</td>\n",
       "      <td>182.0</td>\n",
       "      <td>3161.0</td>\n",
       "      <td>2014</td>\n",
       "      <td>76001</td>\n",
       "      <td>2014_Cali</td>\n",
       "      <td>2128.0</td>\n",
       "      <td>221.636364</td>\n",
       "      <td>151.0</td>\n",
       "      <td>1755.363636</td>\n",
       "      <td>2015.0</td>\n",
       "    </tr>\n",
       "  </tbody>\n",
       "</table>\n",
       "</div>"
      ],
      "text/plain": [
       "  Municipio Indicador   Total  Hombres  Mujeres  Indeterminado  Año_x  \\\n",
       "0      Cali     Total   546.0    221.0    171.0          154.0   2010   \n",
       "1      Cali     Total   728.0    231.0    166.0          331.0   2011   \n",
       "2      Cali     Total  1659.0    300.0    184.0         1175.0   2012   \n",
       "3      Cali     Total  3222.0    257.0    179.0         2786.0   2013   \n",
       "4      Cali     Total  3617.0    274.0    182.0         3161.0   2014   \n",
       "\n",
       "  Codigo_Municipio  id_unique  Promedio_total  Promedio_Hombres  \\\n",
       "0            76001  2010_Cali          2128.0        221.636364   \n",
       "1            76001  2011_Cali          2128.0        221.636364   \n",
       "2            76001  2012_Cali          2128.0        221.636364   \n",
       "3            76001  2013_Cali          2128.0        221.636364   \n",
       "4            76001  2014_Cali          2128.0        221.636364   \n",
       "\n",
       "   Promedio_Mujeres  Promedio_Indeterminado   Año_y  \n",
       "0             151.0             1755.363636  2015.0  \n",
       "1             151.0             1755.363636  2015.0  \n",
       "2             151.0             1755.363636  2015.0  \n",
       "3             151.0             1755.363636  2015.0  \n",
       "4             151.0             1755.363636  2015.0  "
      ]
     },
     "execution_count": 17,
     "metadata": {},
     "output_type": "execute_result"
    }
   ],
   "source": [
    "# Se unen las bases de datos para obtener la los cáculos de las variables descriptivas\n",
    "Defunciones_fetales = pd.merge(Defunciones_fetales,Prom_def_fetales, on=['Municipio', 'Municipio'])\n",
    "Defunciones_fetales.head()"
   ]
  },
  {
   "cell_type": "code",
   "execution_count": 18,
   "metadata": {},
   "outputs": [],
   "source": [
    "# Se hacen los calculos de las variaciones simples\n",
    "Defunciones_fetales['Var_2010_2019'] = Defunciones_fetales.groupby(['Municipio'])['Total'].pct_change(periods=8)\n",
    "Defunciones_fetales['Var_anual'] = Defunciones_fetales.groupby(['Municipio'])['Total'].pct_change(periods=1)"
   ]
  },
  {
   "cell_type": "code",
   "execution_count": 43,
   "metadata": {},
   "outputs": [
    {
     "data": {
      "text/html": [
       "<div>\n",
       "<style scoped>\n",
       "    .dataframe tbody tr th:only-of-type {\n",
       "        vertical-align: middle;\n",
       "    }\n",
       "\n",
       "    .dataframe tbody tr th {\n",
       "        vertical-align: top;\n",
       "    }\n",
       "\n",
       "    .dataframe thead th {\n",
       "        text-align: right;\n",
       "    }\n",
       "</style>\n",
       "<table border=\"1\" class=\"dataframe\">\n",
       "  <thead>\n",
       "    <tr style=\"text-align: right;\">\n",
       "      <th></th>\n",
       "      <th></th>\n",
       "      <th>Indicador</th>\n",
       "      <th>Total</th>\n",
       "      <th>Hombres</th>\n",
       "      <th>Mujeres</th>\n",
       "      <th>Indeterminado</th>\n",
       "      <th>Codigo_Municipio</th>\n",
       "      <th>id_unique</th>\n",
       "      <th>Promedio_total</th>\n",
       "      <th>Promedio_Hombres</th>\n",
       "      <th>Promedio_Mujeres</th>\n",
       "      <th>Promedio_Indeterminado</th>\n",
       "      <th>Año_y</th>\n",
       "      <th>Var_2010_2019</th>\n",
       "      <th>Var_anual</th>\n",
       "      <th>cagr</th>\n",
       "    </tr>\n",
       "    <tr>\n",
       "      <th>Municipio</th>\n",
       "      <th>Año_x</th>\n",
       "      <th></th>\n",
       "      <th></th>\n",
       "      <th></th>\n",
       "      <th></th>\n",
       "      <th></th>\n",
       "      <th></th>\n",
       "      <th></th>\n",
       "      <th></th>\n",
       "      <th></th>\n",
       "      <th></th>\n",
       "      <th></th>\n",
       "      <th></th>\n",
       "      <th></th>\n",
       "      <th></th>\n",
       "      <th></th>\n",
       "    </tr>\n",
       "  </thead>\n",
       "  <tbody>\n",
       "    <tr>\n",
       "      <th rowspan=\"5\" valign=\"top\">Cali</th>\n",
       "      <th>2010</th>\n",
       "      <td>Total</td>\n",
       "      <td>546.0</td>\n",
       "      <td>221.0</td>\n",
       "      <td>171.0</td>\n",
       "      <td>154.0</td>\n",
       "      <td>76001</td>\n",
       "      <td>2010_Cali</td>\n",
       "      <td>2128.0</td>\n",
       "      <td>221.636364</td>\n",
       "      <td>151.0</td>\n",
       "      <td>1755.363636</td>\n",
       "      <td>2015.0</td>\n",
       "      <td>NaN</td>\n",
       "      <td>NaN</td>\n",
       "      <td>NaN</td>\n",
       "    </tr>\n",
       "    <tr>\n",
       "      <th>2011</th>\n",
       "      <td>Total</td>\n",
       "      <td>728.0</td>\n",
       "      <td>231.0</td>\n",
       "      <td>166.0</td>\n",
       "      <td>331.0</td>\n",
       "      <td>76001</td>\n",
       "      <td>2011_Cali</td>\n",
       "      <td>2128.0</td>\n",
       "      <td>221.636364</td>\n",
       "      <td>151.0</td>\n",
       "      <td>1755.363636</td>\n",
       "      <td>2015.0</td>\n",
       "      <td>NaN</td>\n",
       "      <td>0.333333</td>\n",
       "      <td>NaN</td>\n",
       "    </tr>\n",
       "    <tr>\n",
       "      <th>2012</th>\n",
       "      <td>Total</td>\n",
       "      <td>1659.0</td>\n",
       "      <td>300.0</td>\n",
       "      <td>184.0</td>\n",
       "      <td>1175.0</td>\n",
       "      <td>76001</td>\n",
       "      <td>2012_Cali</td>\n",
       "      <td>2128.0</td>\n",
       "      <td>221.636364</td>\n",
       "      <td>151.0</td>\n",
       "      <td>1755.363636</td>\n",
       "      <td>2015.0</td>\n",
       "      <td>NaN</td>\n",
       "      <td>1.278846</td>\n",
       "      <td>NaN</td>\n",
       "    </tr>\n",
       "    <tr>\n",
       "      <th>2013</th>\n",
       "      <td>Total</td>\n",
       "      <td>3222.0</td>\n",
       "      <td>257.0</td>\n",
       "      <td>179.0</td>\n",
       "      <td>2786.0</td>\n",
       "      <td>76001</td>\n",
       "      <td>2013_Cali</td>\n",
       "      <td>2128.0</td>\n",
       "      <td>221.636364</td>\n",
       "      <td>151.0</td>\n",
       "      <td>1755.363636</td>\n",
       "      <td>2015.0</td>\n",
       "      <td>NaN</td>\n",
       "      <td>0.942134</td>\n",
       "      <td>NaN</td>\n",
       "    </tr>\n",
       "    <tr>\n",
       "      <th>2014</th>\n",
       "      <td>Total</td>\n",
       "      <td>3617.0</td>\n",
       "      <td>274.0</td>\n",
       "      <td>182.0</td>\n",
       "      <td>3161.0</td>\n",
       "      <td>76001</td>\n",
       "      <td>2014_Cali</td>\n",
       "      <td>2128.0</td>\n",
       "      <td>221.636364</td>\n",
       "      <td>151.0</td>\n",
       "      <td>1755.363636</td>\n",
       "      <td>2015.0</td>\n",
       "      <td>NaN</td>\n",
       "      <td>0.122595</td>\n",
       "      <td>NaN</td>\n",
       "    </tr>\n",
       "  </tbody>\n",
       "</table>\n",
       "</div>"
      ],
      "text/plain": [
       "                Indicador   Total  Hombres  Mujeres  Indeterminado  \\\n",
       "Municipio Año_x                                                      \n",
       "Cali      2010      Total   546.0    221.0    171.0          154.0   \n",
       "          2011      Total   728.0    231.0    166.0          331.0   \n",
       "          2012      Total  1659.0    300.0    184.0         1175.0   \n",
       "          2013      Total  3222.0    257.0    179.0         2786.0   \n",
       "          2014      Total  3617.0    274.0    182.0         3161.0   \n",
       "\n",
       "                Codigo_Municipio  id_unique  Promedio_total  Promedio_Hombres  \\\n",
       "Municipio Año_x                                                                 \n",
       "Cali      2010             76001  2010_Cali          2128.0        221.636364   \n",
       "          2011             76001  2011_Cali          2128.0        221.636364   \n",
       "          2012             76001  2012_Cali          2128.0        221.636364   \n",
       "          2013             76001  2013_Cali          2128.0        221.636364   \n",
       "          2014             76001  2014_Cali          2128.0        221.636364   \n",
       "\n",
       "                 Promedio_Mujeres  Promedio_Indeterminado   Año_y  \\\n",
       "Municipio Año_x                                                     \n",
       "Cali      2010              151.0             1755.363636  2015.0   \n",
       "          2011              151.0             1755.363636  2015.0   \n",
       "          2012              151.0             1755.363636  2015.0   \n",
       "          2013              151.0             1755.363636  2015.0   \n",
       "          2014              151.0             1755.363636  2015.0   \n",
       "\n",
       "                 Var_2010_2019  Var_anual  cagr  \n",
       "Municipio Año_x                                  \n",
       "Cali      2010             NaN        NaN   NaN  \n",
       "          2011             NaN   0.333333   NaN  \n",
       "          2012             NaN   1.278846   NaN  \n",
       "          2013             NaN   0.942134   NaN  \n",
       "          2014             NaN   0.122595   NaN  "
      ]
     },
     "execution_count": 43,
     "metadata": {},
     "output_type": "execute_result"
    }
   ],
   "source": [
    "# Para calcular la tasa de crecimiento compuesto (Compound Annual Growth Rates, also known as CAGR)\n",
    "# Primero se estabelcen los indices de interés para controlar en este caso por municipio y por año\n",
    "Defunciones_fetales=Defunciones_fetales.set_index([\"Municipio\", \"Año_x\"])\n",
    "\n",
    "# Se establecen los periodos para el cálculo de la tasa (año final - año incial). En este caso partimos desde 2010 hasta 2019 -> 2019-2010=9\n",
    "cagr_period = 9\n",
    "\n",
    "# Se define la función de CAGR \n",
    "Defunciones_fetales[\"cagr\"] = Defunciones_fetales.Total.groupby(\"Municipio\").apply(lambda x, period: ((x.pct_change(period) + 1) ** (1/period)) - 1, cagr_period)\n",
    "Defunciones_fetales.head()"
   ]
  },
  {
   "cell_type": "code",
   "execution_count": 44,
   "metadata": {},
   "outputs": [],
   "source": [
    "# Se resetea el indice para que queden las variables de interés al guardar el archivo en formato Excel\n",
    "Defunciones_fetales=Defunciones_fetales.reset_index()"
   ]
  },
  {
   "cell_type": "code",
   "execution_count": 45,
   "metadata": {},
   "outputs": [],
   "source": [
    "# Para guardar la base de datos lista para ser tratada en formato Excel\n",
    "\n",
    "Defunciones_fetales.to_excel(r'Defunciones_fetalesVF_EST.xlsx', index = False)"
   ]
  },
  {
   "cell_type": "markdown",
   "metadata": {},
   "source": [
    "<h1>Defunciones No Fetales</h1>"
   ]
  },
  {
   "cell_type": "code",
   "execution_count": 26,
   "metadata": {},
   "outputs": [],
   "source": [
    "# Para leer los datos descargados desde el Dane\n",
    "\n",
    "df2010 = pd.read_excel('C://Users/ortiz/Documents/Cursos/SIC_2020/Defunciones_NoFetales/2010.xls', sheet_name='76', header=12, usecols=\"A:F\")\n",
    "df2011 = pd.read_excel('C://Users/ortiz/Documents/Cursos/SIC_2020/Defunciones_NoFetales/2011.xls', sheet_name='76', header=12, usecols=\"A:F\")\n",
    "df2012 = pd.read_excel('C://Users/ortiz/Documents/Cursos/SIC_2020/Defunciones_NoFetales/2012.xls', sheet_name='76', header=12, usecols=\"A:F\")\n",
    "df2013 = pd.read_excel('C://Users/ortiz/Documents/Cursos/SIC_2020/Defunciones_NoFetales/2013.xls', sheet_name='76', header=12, usecols=\"A:F\")\n",
    "df2014 = pd.read_excel('C://Users/ortiz/Documents/Cursos/SIC_2020/Defunciones_NoFetales/2014.xls', sheet_name='76', header=12, usecols=\"A:F\")\n",
    "df2015 = pd.read_excel('C://Users/ortiz/Documents/Cursos/SIC_2020/Defunciones_NoFetales/2015.xls', sheet_name='76', header=12, usecols=\"A:F\")\n",
    "df2016 = pd.read_excel('C://Users/ortiz/Documents/Cursos/SIC_2020/Defunciones_NoFetales/2016.xls', sheet_name='76', header=12, usecols=\"A:F\")\n",
    "df2017 = pd.read_excel('C://Users/ortiz/Documents/Cursos/SIC_2020/Defunciones_NoFetales/2017.xls', sheet_name='76', header=14, usecols=\"A:F\")\n",
    "df2018 = pd.read_excel('C://Users/ortiz/Documents/Cursos/SIC_2020/Defunciones_NoFetales/2018.xls', sheet_name='76', header=13, usecols=\"A:F\")\n",
    "df2019 = pd.read_excel('C://Users/ortiz/Documents/Cursos/SIC_2020/Defunciones_NoFetales/2019.xls', sheet_name='76', header=12, usecols=\"A:F\")\n",
    "df2020 = pd.read_excel('C://Users/ortiz/Documents/Cursos/SIC_2020/Defunciones_NoFetales/2020.xls', sheet_name='76', header=12, usecols=\"A:F\")"
   ]
  },
  {
   "cell_type": "code",
   "execution_count": 27,
   "metadata": {},
   "outputs": [],
   "source": [
    "# Para renombrar las columnas de interés\n",
    "\n",
    "df2010.rename(columns={'Unnamed: 0': 'Municipio', 'Unnamed: 1': 'Indicador', 'Unnamed: 2': 'Total'}, inplace=True)\n",
    "df2011.rename(columns={'Unnamed: 0': 'Municipio', 'Unnamed: 1': 'Indicador', 'Unnamed: 2': 'Total'}, inplace=True)\n",
    "df2012.rename(columns={'Unnamed: 0': 'Municipio', 'Unnamed: 1': 'Indicador', 'Unnamed: 2': 'Total'}, inplace=True)\n",
    "df2013.rename(columns={'Unnamed: 0': 'Municipio', 'Unnamed: 1': 'Indicador', 'Unnamed: 2': 'Total'}, inplace=True)\n",
    "df2014.rename(columns={'Unnamed: 0': 'Municipio', 'Unnamed: 1': 'Indicador', 'Unnamed: 2': 'Total'}, inplace=True)\n",
    "df2015.rename(columns={'Unnamed: 0': 'Municipio', 'Unnamed: 1': 'Indicador', 'Unnamed: 2': 'Total'}, inplace=True)\n",
    "df2016.rename(columns={'Unnamed: 0': 'Municipio', 'Unnamed: 1': 'Indicador', 'Unnamed: 2': 'Total'}, inplace=True)\n",
    "df2017.rename(columns={'Unnamed: 0': 'Municipio', 'Unnamed: 1': 'Indicador', 'Unnamed: 2': 'Total'}, inplace=True)\n",
    "df2018.rename(columns={'Unnamed: 0': 'Municipio', 'Unnamed: 1': 'Indicador', 'Unnamed: 2': 'Total'}, inplace=True)\n",
    "df2019.rename(columns={'Unnamed: 0': 'Municipio', 'Unnamed: 1': 'Indicador', 'Unnamed: 2': 'Total'}, inplace=True)\n",
    "df2020.rename(columns={'Unnamed: 0': 'Municipio', 'Unnamed: 1': 'Indicador', 'Unnamed: 2': 'Total'}, inplace=True)"
   ]
  },
  {
   "cell_type": "code",
   "execution_count": 28,
   "metadata": {},
   "outputs": [],
   "source": [
    "# Para agregar la columna de año y posteriormente concatenar las bases\n",
    "\n",
    "df2010['Año']='2010'\n",
    "df2011['Año']='2011'\n",
    "df2012['Año']='2012'\n",
    "df2013['Año']='2013'\n",
    "df2014['Año']='2014'\n",
    "df2015['Año']='2015'\n",
    "df2016['Año']='2016'\n",
    "df2017['Año']='2017'\n",
    "df2018['Año']='2018'\n",
    "df2019['Año']='2019'\n",
    "df2020['Año']='2020-II'"
   ]
  },
  {
   "cell_type": "code",
   "execution_count": 29,
   "metadata": {},
   "outputs": [],
   "source": [
    "# Para seleccionar los valores totales de cada municipio para el periodo de interés\n",
    "\n",
    "df2010=df2010.loc[df2010['Indicador'] == 'TOTAL']\n",
    "df2011=df2011.loc[df2011['Indicador'] == 'TOTAL']\n",
    "df2012=df2012.loc[df2012['Indicador'] == 'TOTAL']\n",
    "df2013=df2013.loc[df2013['Indicador'] == 'TOTAL']\n",
    "df2014=df2014.loc[df2014['Indicador'] == 'TOTAL']\n",
    "df2015=df2015.loc[df2015['Indicador'] == 'TOTAL']\n",
    "df2016=df2016.loc[df2016['Indicador'] == 'TOTAL']\n",
    "df2017=df2017.loc[df2017['Indicador'] == 'TOTAL']\n",
    "df2018=df2018.loc[df2018['Indicador'] == 'TOTAL']\n",
    "df2019=df2019.loc[df2019['Indicador'] == 'TOTAL']\n",
    "df2020=df2020.loc[df2020['Indicador'] == 'TOTAL']"
   ]
  },
  {
   "cell_type": "code",
   "execution_count": 30,
   "metadata": {},
   "outputs": [],
   "source": [
    "# Se limpian los nombres de los municipios y se dejan aparte los códigos de los mismo\n",
    "\n",
    "df2010[['Codigo_Municipio','Municipio']] = df2010.Municipio.str.split(' ',n=1,expand=True)\n",
    "df2011[['Codigo_Municipio','Municipio']] = df2011.Municipio.str.split(' ',n=1,expand=True)\n",
    "df2012[['Codigo_Municipio','Municipio']] = df2012.Municipio.str.split(' ',n=1,expand=True)\n",
    "df2013[['Codigo_Municipio','Municipio']] = df2013.Municipio.str.split(' ',n=1,expand=True)\n",
    "df2014[['Codigo_Municipio','Municipio']] = df2014.Municipio.str.split(' ',n=1,expand=True)\n",
    "df2015[['Codigo_Municipio','Municipio']] = df2015.Municipio.str.split(' ',n=1,expand=True)\n",
    "df2016[['Codigo_Municipio','Municipio']] = df2016.Municipio.str.split(' ',n=1,expand=True)\n",
    "df2017[['Codigo_Municipio','Municipio']] = df2017.Municipio.str.split(' ',n=1,expand=True)\n",
    "df2018[['Codigo_Municipio','Municipio']] = df2018.Municipio.str.split(' ',n=1,expand=True)\n",
    "df2019[['Codigo_Municipio','Municipio']] = df2019.Municipio.str.split(' ',n=1,expand=True)\n",
    "df2020[['Codigo_Municipio','Municipio']] = df2020.Municipio.str.split(' ',n=1,expand=True)"
   ]
  },
  {
   "cell_type": "code",
   "execution_count": 31,
   "metadata": {},
   "outputs": [],
   "source": [
    "# Para rellenar el primer mising value que corresponde al nombre del departamento Valle del Cauca\n",
    "\n",
    "df2010=df2010.fillna(value='Valle del Cauca', limit=1)\n",
    "df2011=df2011.fillna(value='Valle del Cauca', limit=1)\n",
    "df2012=df2012.fillna(value='Valle del Cauca', limit=1)\n",
    "df2013=df2013.fillna(value='Valle del Cauca', limit=1)\n",
    "df2014=df2014.fillna(value='Valle del Cauca', limit=1)\n",
    "df2015=df2015.fillna(value='Valle del Cauca', limit=1)\n",
    "df2016=df2016.fillna(value='Valle del Cauca', limit=1)\n",
    "df2017=df2017.fillna(value='Valle del Cauca', limit=1)\n",
    "df2018=df2018.fillna(value='Valle del Cauca', limit=1)\n",
    "df2019=df2019.fillna(value='Valle del Cauca', limit=1)\n",
    "df2020=df2020.fillna(value='Valle del Cauca', limit=1)"
   ]
  },
  {
   "cell_type": "code",
   "execution_count": 46,
   "metadata": {},
   "outputs": [],
   "source": [
    "# Se concatenan la bases de datos \n",
    "frames = [df2010, df2011, df2012, df2013, df2014, df2015, df2016, df2017, df2018, df2019, df2020,]\n",
    "Defunciones_Nofetales = pd.concat(frames)"
   ]
  },
  {
   "cell_type": "code",
   "execution_count": 47,
   "metadata": {},
   "outputs": [
    {
     "data": {
      "text/plain": [
       "array(['Valle del Cauca', 'CALI', 'ALCALµ', 'ANDALUCÖA', 'ANSERMANUEVO',\n",
       "       'ARGELIA', 'BOLÖVAR', 'BUENAVENTURA', 'GUADALAJARA DE BUGA',\n",
       "       'BUGALAGRANDE', 'CAICEDONIA', 'CALIMA', 'CANDELARIA', 'CARTAGO',\n",
       "       'DAGUA', 'EL µGUILA', 'EL CAIRO', 'EL CERRITO', 'EL DOVIO',\n",
       "       'FLORIDA', 'GINEBRA', 'GUACARÖ', 'JAMUNDÖ', 'LA CUMBRE',\n",
       "       'LA UNIàN', 'LA VICTORIA', 'OBANDO', 'PALMIRA', 'PRADERA',\n",
       "       'RESTREPO', 'RIOFRÖO', 'ROLDANILLO', 'SAN PEDRO', 'SEVILLA',\n",
       "       'TORO', 'TRUJILLO', 'TULUµ', 'ULLOA', 'VERSALLES', 'VIJES',\n",
       "       'YOTOCO', 'YUMBO', 'ZARZAL', 'Cali', 'Alcalá', 'Andalucía',\n",
       "       'Ansermanuevo', 'Argelia', 'Bolívar', 'Buenaventura',\n",
       "       'Guadalajara de Buga', 'Bugalagrande', 'Caicedonia', 'Calima',\n",
       "       'Candelaria', 'Cartago', 'Dagua', 'El Águila', 'El Cairo',\n",
       "       'El Cerrito', 'El Dovio', 'Florida', 'Ginebra', 'Guacarí',\n",
       "       'Jamundí', 'La Cumbre', 'La Unión', 'La Victoria', 'Obando',\n",
       "       'Palmira', 'Pradera', 'Restrepo', 'Riofrío', 'Roldanillo',\n",
       "       'San Pedro', 'Sevilla', 'Toro', 'Trujillo', 'Tuluá', 'Ulloa',\n",
       "       'Versalles', 'Vijes', 'Yotoco', 'Yumbo', 'Zarzal',\n",
       "       'Sin Información', 'Información'], dtype=object)"
      ]
     },
     "execution_count": 47,
     "metadata": {},
     "output_type": "execute_result"
    }
   ],
   "source": [
    "Defunciones_Nofetales['Municipio'].unique()"
   ]
  },
  {
   "cell_type": "code",
   "execution_count": 48,
   "metadata": {},
   "outputs": [],
   "source": [
    "# Se crea un diccionario para limpiar los nombres de los municipios e igualar el tratamiento\n",
    "# Municipios corregidos\n",
    "\n",
    "dict_Municipio = {\n",
    "\t'Municipio': [\t'ALCALµ',\t'Alcalá',\t'Andalucía',\t'ANDALUCÖA',\t'ANSERMANUEVO',\t'Argelia',\t'Bolívar',\t'BOLÖVAR',\t'BUENAVENTURA',\t'Buenaventura',\t'Bugalagrande',\t'CAICEDONIA',\t'Caicedonia',\t'CALI',\t'Cali',\t'CALIMA',\t'Calima',\t'CANDELARIA',\t'Cartago',\t'CARTAGO',\t'Dagua',\t'EL µGUILA',\t'El Águila',\t'EL CAIRO',\t'El Cairo',\t'EL CERRITO',\t'El Dovio',\t'EL DOVIO',\t'Florida',\t'GINEBRA',\t'Ginebra',\t'Guacarí',\t'GUACARÖ',\t'GUADALAJARA DE BUGA',\t'Información',\t'JAMUNDÖ',\t'La Cumbre',\t'LA CUMBRE',\t'La Unión',\t'LA VICTORIA',\t'La Victoria',\t'OBANDO',\t'Obando',\t'PALMIRA',\t'Pradera',\t'PRADERA',\t'Restrepo',\t'Riofrío',\t'RIOFRÖO',\t'ROLDANILLO',\t'Roldanillo',\t'SAN PEDRO',\t'Sevilla',\t'SEVILLA',\t'Toro',\t'TRUJILLO',\t'Trujillo',\t'TULUµ',\t'Tuluá',\t'ULLOA',\t'Ulloa',\t'VERSALLES',\t'Vijes',\t'VIJES',\t'Yotoco',\t'YUMBO',\t'Yumbo',\t'ZARZAL',\t'Zarzal',\t'Ansermanuevo',\t'ARGELIA',\t'BUGALAGRANDE',\t'Candelaria',\t'DAGUA',\t'El Cerrito',\t'FLORIDA',\t'Guadalajara de Buga',\t'Jamundí',\t'LA UNIàN',\t'Palmira',\t'RESTREPO',\t'San Pedro',\t'Sin Información',\t'TORO',\t'Valle del Cauca',\t'Versalles',\t'YOTOCO'],\n",
    "\n",
    "\t'Municipio_corr': [\t'Alcalá',\t'Alcalá',\t'Andalucía',\t'Andalucía',\t'Ansermanuevo',\t'Argelia',\t'Bolívar',\t'Bolívar',\t'Buenaventura',\t'Buenaventura',\t'Bugalagrande',\t'Caicedonia',\t'Caicedonia',\t'Cali',\t'Cali',\t'Calima',\t'Calima',\t'Candelaria',\t'Cartago',\t'Cartago',\t'Dagua',\t'El Águila',\t'El Águila',\t'El Cairo',\t'El Cairo',\t'El Cerrito',\t'El Dovio',\t'El Dovio',\t'Florida',\t'Ginebra',\t'Ginebra',\t'Guacarí',\t'Guacarí',\t'Guadalajara de Buga',\t'Sin Información',\t'Jamundí',\t'La Cumbre',\t'La Cumbre',\t'La Unión',\t'La Victoria',\t'La Victoria',\t'Obando',\t'Obando',\t'Palmira',\t'Pradera',\t'Palmira',\t'Restrepo',\t'Riofrío',\t'Riofrío',\t'Roldanillo',\t'Roldanillo',\t'San Pedro',\t'Sevilla',\t'Sevilla',\t'Toro',\t'Trujillo',\t'Trujillo',\t'Tuluá',\t'Tuluá',\t'Ulloa',\t'Ulloa',\t'Versalles',\t'Vijes',\t'Vijes',\t'Yotoco',\t'Yumbo',\t'Yumbo',\t'Zarzal',\t'Zarzal',\t'Ansermanuevo',\t'Argelia',\t'Bugalagrande',\t'Candelaria',\t'Dagua',\t'El Cerrito',\t'Florida',\t'Guadalajara de Buga',\t'Jamundí',\t'La Unión',\t'Palmira',\t'Restrepo',\t'San Pedro',\t'Sin Información',\t'Toro',\t'Valle del Cauca',\t'Versalles',\t'Yotoco'],\n",
    "        }"
   ]
  },
  {
   "cell_type": "code",
   "execution_count": 49,
   "metadata": {},
   "outputs": [],
   "source": [
    "# Se crea el dataframe con el diccionario de datos referente a los Municipios para el posterior cruce de información\n",
    "\n",
    "df_Municipio = pd.DataFrame(dict_Municipio, columns = [\"Municipio\", \"Municipio_corr\"])"
   ]
  },
  {
   "cell_type": "code",
   "execution_count": 50,
   "metadata": {},
   "outputs": [],
   "source": [
    "# Se unen las dos bases de datos para obtener la información de PN y PJ corregidos\n",
    "\n",
    "Defunciones_Nofetales = pd.merge(Defunciones_Nofetales,df_Municipio, on=['Municipio', 'Municipio'])"
   ]
  },
  {
   "cell_type": "code",
   "execution_count": 51,
   "metadata": {},
   "outputs": [
    {
     "data": {
      "text/plain": [
       "array(['Valle del Cauca', 'Cali', 'Alcalá', 'Andalucía', 'Ansermanuevo',\n",
       "       'Argelia', 'Bolívar', 'Buenaventura', 'Guadalajara de Buga',\n",
       "       'Bugalagrande', 'Caicedonia', 'Calima', 'Candelaria', 'Cartago',\n",
       "       'Dagua', 'El Águila', 'El Cairo', 'El Cerrito', 'El Dovio',\n",
       "       'Florida', 'Ginebra', 'Guacarí', 'Jamundí', 'La Cumbre',\n",
       "       'La Unión', 'La Victoria', 'Obando', 'Palmira', 'Restrepo',\n",
       "       'Riofrío', 'Roldanillo', 'San Pedro', 'Sevilla', 'Toro',\n",
       "       'Trujillo', 'Tuluá', 'Ulloa', 'Versalles', 'Vijes', 'Yotoco',\n",
       "       'Yumbo', 'Zarzal', 'Pradera', 'Sin Información'], dtype=object)"
      ]
     },
     "execution_count": 51,
     "metadata": {},
     "output_type": "execute_result"
    }
   ],
   "source": [
    "Defunciones_Nofetales['Municipio_corr'].unique()"
   ]
  },
  {
   "cell_type": "code",
   "execution_count": 52,
   "metadata": {},
   "outputs": [],
   "source": [
    "# Se procede a crear el filtro para seleccionar las filas que cumplen la condición de interés en las filas. En este caso se seleccionan los municipios de interés para la jurisdicción de la Cámara de Comercio de Cali\n",
    "\n",
    "filter1 = Defunciones_Nofetales[\"Municipio_corr\"].isin(['Cali', 'Yumbo', 'Jamundí', 'Dagua', 'La Cumbre', 'Vijes']) \n",
    "  \n",
    "# Se crea la base de datos que cumpla las condiciones dadas\n",
    "Defunciones_Nofetales=Defunciones_Nofetales[filter1]"
   ]
  },
  {
   "cell_type": "code",
   "execution_count": 13,
   "metadata": {},
   "outputs": [
    {
     "ename": "NameError",
     "evalue": "name 'Defunciones_Nofetales' is not defined",
     "output_type": "error",
     "traceback": [
      "\u001b[1;31m---------------------------------------------------------------------------\u001b[0m",
      "\u001b[1;31mNameError\u001b[0m                                 Traceback (most recent call last)",
      "\u001b[1;32m<ipython-input-13-45792a097778>\u001b[0m in \u001b[0;36m<module>\u001b[1;34m\u001b[0m\n\u001b[1;32m----> 1\u001b[1;33m \u001b[0mDefunciones_Nofetales\u001b[0m\u001b[1;33m.\u001b[0m\u001b[0mgroupby\u001b[0m\u001b[1;33m(\u001b[0m\u001b[1;34m'Municipio'\u001b[0m\u001b[1;33m)\u001b[0m\u001b[1;33m[\u001b[0m\u001b[1;34m'Total'\u001b[0m\u001b[1;33m]\u001b[0m\u001b[1;33m.\u001b[0m\u001b[0mnunique\u001b[0m\u001b[1;33m(\u001b[0m\u001b[1;33m)\u001b[0m\u001b[1;33m\u001b[0m\u001b[1;33m\u001b[0m\u001b[0m\n\u001b[0m",
      "\u001b[1;31mNameError\u001b[0m: name 'Defunciones_Nofetales' is not defined"
     ]
    }
   ],
   "source": [
    "# Se cuentan las observaciones (años) que tiene cada municipio\n",
    "\n",
    "Defunciones_Nofetales.groupby('Municipio')['Total'].nunique()"
   ]
  },
  {
   "cell_type": "code",
   "execution_count": 66,
   "metadata": {},
   "outputs": [
    {
     "data": {
      "application/vnd.plotly.v1+json": {
       "config": {
        "plotlyServerURL": "https://plot.ly"
       },
       "data": [
        {
         "alignmentgroup": "True",
         "hovertemplate": "Año=2010<br>Municipio_corr=%{x}<br>Total=%{y}<extra></extra>",
         "legendgroup": "2010",
         "marker": {
          "color": "#f0f921"
         },
         "name": "2010",
         "offsetgroup": "2010",
         "orientation": "v",
         "showlegend": true,
         "textposition": "auto",
         "type": "bar",
         "x": [
          "Cali",
          "Dagua",
          "Jamundí",
          "La Cumbre",
          "Vijes",
          "Yumbo"
         ],
         "xaxis": "x",
         "y": [
          15756,
          135,
          322,
          43,
          29,
          276
         ],
         "yaxis": "y"
        },
        {
         "alignmentgroup": "True",
         "hovertemplate": "Año=2011<br>Municipio_corr=%{x}<br>Total=%{y}<extra></extra>",
         "legendgroup": "2011",
         "marker": {
          "color": "#fdca26"
         },
         "name": "2011",
         "offsetgroup": "2011",
         "orientation": "v",
         "showlegend": true,
         "textposition": "auto",
         "type": "bar",
         "x": [
          "Cali",
          "Dagua",
          "Jamundí",
          "La Cumbre",
          "Vijes",
          "Yumbo"
         ],
         "xaxis": "x",
         "y": [
          15933,
          121,
          319,
          37,
          23,
          268
         ],
         "yaxis": "y"
        },
        {
         "alignmentgroup": "True",
         "hovertemplate": "Año=2012<br>Municipio_corr=%{x}<br>Total=%{y}<extra></extra>",
         "legendgroup": "2012",
         "marker": {
          "color": "#fb9f3a"
         },
         "name": "2012",
         "offsetgroup": "2012",
         "orientation": "v",
         "showlegend": true,
         "textposition": "auto",
         "type": "bar",
         "x": [
          "Cali",
          "Dagua",
          "Jamundí",
          "La Cumbre",
          "Vijes",
          "Yumbo"
         ],
         "xaxis": "x",
         "y": [
          16074,
          121,
          326,
          37,
          35,
          223
         ],
         "yaxis": "y"
        },
        {
         "alignmentgroup": "True",
         "hovertemplate": "Año=2013<br>Municipio_corr=%{x}<br>Total=%{y}<extra></extra>",
         "legendgroup": "2013",
         "marker": {
          "color": "#ed7953"
         },
         "name": "2013",
         "offsetgroup": "2013",
         "orientation": "v",
         "showlegend": true,
         "textposition": "auto",
         "type": "bar",
         "x": [
          "Cali",
          "Dagua",
          "Jamundí",
          "La Cumbre",
          "Vijes",
          "Yumbo"
         ],
         "xaxis": "x",
         "y": [
          16646,
          119,
          294,
          31,
          30,
          260
         ],
         "yaxis": "y"
        },
        {
         "alignmentgroup": "True",
         "hovertemplate": "Año=2014<br>Municipio_corr=%{x}<br>Total=%{y}<extra></extra>",
         "legendgroup": "2014",
         "marker": {
          "color": "#d8576b"
         },
         "name": "2014",
         "offsetgroup": "2014",
         "orientation": "v",
         "showlegend": true,
         "textposition": "auto",
         "type": "bar",
         "x": [
          "Cali",
          "Dagua",
          "Jamundí",
          "La Cumbre",
          "Vijes",
          "Yumbo"
         ],
         "xaxis": "x",
         "y": [
          16419,
          104,
          288,
          33,
          23,
          234
         ],
         "yaxis": "y"
        },
        {
         "alignmentgroup": "True",
         "hovertemplate": "Año=2015<br>Municipio_corr=%{x}<br>Total=%{y}<extra></extra>",
         "legendgroup": "2015",
         "marker": {
          "color": "#bd3786"
         },
         "name": "2015",
         "offsetgroup": "2015",
         "orientation": "v",
         "showlegend": true,
         "textposition": "auto",
         "type": "bar",
         "x": [
          "Cali",
          "Dagua",
          "Jamundí",
          "La Cumbre",
          "Vijes",
          "Yumbo"
         ],
         "xaxis": "x",
         "y": [
          17546,
          133,
          316,
          39,
          38,
          273
         ],
         "yaxis": "y"
        },
        {
         "alignmentgroup": "True",
         "hovertemplate": "Año=2016<br>Municipio_corr=%{x}<br>Total=%{y}<extra></extra>",
         "legendgroup": "2016",
         "marker": {
          "color": "#9c179e"
         },
         "name": "2016",
         "offsetgroup": "2016",
         "orientation": "v",
         "showlegend": true,
         "textposition": "auto",
         "type": "bar",
         "x": [
          "Cali",
          "Dagua",
          "Jamundí",
          "La Cumbre",
          "Vijes",
          "Yumbo"
         ],
         "xaxis": "x",
         "y": [
          17571,
          126,
          296,
          37,
          32,
          262
         ],
         "yaxis": "y"
        },
        {
         "alignmentgroup": "True",
         "hovertemplate": "Año=2017<br>Municipio_corr=%{x}<br>Total=%{y}<extra></extra>",
         "legendgroup": "2017",
         "marker": {
          "color": "#7201a8"
         },
         "name": "2017",
         "offsetgroup": "2017",
         "orientation": "v",
         "showlegend": true,
         "textposition": "auto",
         "type": "bar",
         "x": [
          "Cali",
          "Dagua",
          "Jamundí",
          "La Cumbre",
          "Vijes",
          "Yumbo"
         ],
         "xaxis": "x",
         "y": [
          17672,
          160,
          323,
          52,
          26,
          266
         ],
         "yaxis": "y"
        },
        {
         "alignmentgroup": "True",
         "hovertemplate": "Año=2018<br>Municipio_corr=%{x}<br>Total=%{y}<extra></extra>",
         "legendgroup": "2018",
         "marker": {
          "color": "#46039f"
         },
         "name": "2018",
         "offsetgroup": "2018",
         "orientation": "v",
         "showlegend": true,
         "textposition": "auto",
         "type": "bar",
         "x": [
          "Cali",
          "Dagua",
          "Jamundí",
          "La Cumbre",
          "Vijes",
          "Yumbo"
         ],
         "xaxis": "x",
         "y": [
          17918,
          126,
          364,
          31,
          23,
          290
         ],
         "yaxis": "y"
        },
        {
         "alignmentgroup": "True",
         "hovertemplate": "Año=2019<br>Municipio_corr=%{x}<br>Total=%{y}<extra></extra>",
         "legendgroup": "2019",
         "marker": {
          "color": "#0d0887"
         },
         "name": "2019",
         "offsetgroup": "2019",
         "orientation": "v",
         "showlegend": true,
         "textposition": "auto",
         "type": "bar",
         "x": [
          "Cali",
          "Dagua",
          "Jamundí",
          "La Cumbre",
          "Vijes",
          "Yumbo"
         ],
         "xaxis": "x",
         "y": [
          14366,
          202,
          771,
          74,
          55,
          542
         ],
         "yaxis": "y"
        },
        {
         "alignmentgroup": "True",
         "hovertemplate": "Año=2020<br>Municipio_corr=%{x}<br>Total=%{y}<extra></extra>",
         "legendgroup": "2020",
         "marker": {
          "color": "#f0f921"
         },
         "name": "2020",
         "offsetgroup": "2020",
         "orientation": "v",
         "showlegend": true,
         "textposition": "auto",
         "type": "bar",
         "x": [
          "Cali",
          "Dagua",
          "Jamundí",
          "La Cumbre",
          "Vijes",
          "Yumbo"
         ],
         "xaxis": "x",
         "y": [
          9087,
          124,
          412,
          43,
          44,
          308
         ],
         "yaxis": "y"
        }
       ],
       "layout": {
        "barmode": "group",
        "legend": {
         "title": {
          "text": "Año"
         },
         "tracegroupgap": 0
        },
        "template": {
         "data": {
          "bar": [
           {
            "error_x": {
             "color": "#2a3f5f"
            },
            "error_y": {
             "color": "#2a3f5f"
            },
            "marker": {
             "line": {
              "color": "#E5ECF6",
              "width": 0.5
             }
            },
            "type": "bar"
           }
          ],
          "barpolar": [
           {
            "marker": {
             "line": {
              "color": "#E5ECF6",
              "width": 0.5
             }
            },
            "type": "barpolar"
           }
          ],
          "carpet": [
           {
            "aaxis": {
             "endlinecolor": "#2a3f5f",
             "gridcolor": "white",
             "linecolor": "white",
             "minorgridcolor": "white",
             "startlinecolor": "#2a3f5f"
            },
            "baxis": {
             "endlinecolor": "#2a3f5f",
             "gridcolor": "white",
             "linecolor": "white",
             "minorgridcolor": "white",
             "startlinecolor": "#2a3f5f"
            },
            "type": "carpet"
           }
          ],
          "choropleth": [
           {
            "colorbar": {
             "outlinewidth": 0,
             "ticks": ""
            },
            "type": "choropleth"
           }
          ],
          "contour": [
           {
            "colorbar": {
             "outlinewidth": 0,
             "ticks": ""
            },
            "colorscale": [
             [
              0,
              "#0d0887"
             ],
             [
              0.1111111111111111,
              "#46039f"
             ],
             [
              0.2222222222222222,
              "#7201a8"
             ],
             [
              0.3333333333333333,
              "#9c179e"
             ],
             [
              0.4444444444444444,
              "#bd3786"
             ],
             [
              0.5555555555555556,
              "#d8576b"
             ],
             [
              0.6666666666666666,
              "#ed7953"
             ],
             [
              0.7777777777777778,
              "#fb9f3a"
             ],
             [
              0.8888888888888888,
              "#fdca26"
             ],
             [
              1,
              "#f0f921"
             ]
            ],
            "type": "contour"
           }
          ],
          "contourcarpet": [
           {
            "colorbar": {
             "outlinewidth": 0,
             "ticks": ""
            },
            "type": "contourcarpet"
           }
          ],
          "heatmap": [
           {
            "colorbar": {
             "outlinewidth": 0,
             "ticks": ""
            },
            "colorscale": [
             [
              0,
              "#0d0887"
             ],
             [
              0.1111111111111111,
              "#46039f"
             ],
             [
              0.2222222222222222,
              "#7201a8"
             ],
             [
              0.3333333333333333,
              "#9c179e"
             ],
             [
              0.4444444444444444,
              "#bd3786"
             ],
             [
              0.5555555555555556,
              "#d8576b"
             ],
             [
              0.6666666666666666,
              "#ed7953"
             ],
             [
              0.7777777777777778,
              "#fb9f3a"
             ],
             [
              0.8888888888888888,
              "#fdca26"
             ],
             [
              1,
              "#f0f921"
             ]
            ],
            "type": "heatmap"
           }
          ],
          "heatmapgl": [
           {
            "colorbar": {
             "outlinewidth": 0,
             "ticks": ""
            },
            "colorscale": [
             [
              0,
              "#0d0887"
             ],
             [
              0.1111111111111111,
              "#46039f"
             ],
             [
              0.2222222222222222,
              "#7201a8"
             ],
             [
              0.3333333333333333,
              "#9c179e"
             ],
             [
              0.4444444444444444,
              "#bd3786"
             ],
             [
              0.5555555555555556,
              "#d8576b"
             ],
             [
              0.6666666666666666,
              "#ed7953"
             ],
             [
              0.7777777777777778,
              "#fb9f3a"
             ],
             [
              0.8888888888888888,
              "#fdca26"
             ],
             [
              1,
              "#f0f921"
             ]
            ],
            "type": "heatmapgl"
           }
          ],
          "histogram": [
           {
            "marker": {
             "colorbar": {
              "outlinewidth": 0,
              "ticks": ""
             }
            },
            "type": "histogram"
           }
          ],
          "histogram2d": [
           {
            "colorbar": {
             "outlinewidth": 0,
             "ticks": ""
            },
            "colorscale": [
             [
              0,
              "#0d0887"
             ],
             [
              0.1111111111111111,
              "#46039f"
             ],
             [
              0.2222222222222222,
              "#7201a8"
             ],
             [
              0.3333333333333333,
              "#9c179e"
             ],
             [
              0.4444444444444444,
              "#bd3786"
             ],
             [
              0.5555555555555556,
              "#d8576b"
             ],
             [
              0.6666666666666666,
              "#ed7953"
             ],
             [
              0.7777777777777778,
              "#fb9f3a"
             ],
             [
              0.8888888888888888,
              "#fdca26"
             ],
             [
              1,
              "#f0f921"
             ]
            ],
            "type": "histogram2d"
           }
          ],
          "histogram2dcontour": [
           {
            "colorbar": {
             "outlinewidth": 0,
             "ticks": ""
            },
            "colorscale": [
             [
              0,
              "#0d0887"
             ],
             [
              0.1111111111111111,
              "#46039f"
             ],
             [
              0.2222222222222222,
              "#7201a8"
             ],
             [
              0.3333333333333333,
              "#9c179e"
             ],
             [
              0.4444444444444444,
              "#bd3786"
             ],
             [
              0.5555555555555556,
              "#d8576b"
             ],
             [
              0.6666666666666666,
              "#ed7953"
             ],
             [
              0.7777777777777778,
              "#fb9f3a"
             ],
             [
              0.8888888888888888,
              "#fdca26"
             ],
             [
              1,
              "#f0f921"
             ]
            ],
            "type": "histogram2dcontour"
           }
          ],
          "mesh3d": [
           {
            "colorbar": {
             "outlinewidth": 0,
             "ticks": ""
            },
            "type": "mesh3d"
           }
          ],
          "parcoords": [
           {
            "line": {
             "colorbar": {
              "outlinewidth": 0,
              "ticks": ""
             }
            },
            "type": "parcoords"
           }
          ],
          "pie": [
           {
            "automargin": true,
            "type": "pie"
           }
          ],
          "scatter": [
           {
            "marker": {
             "colorbar": {
              "outlinewidth": 0,
              "ticks": ""
             }
            },
            "type": "scatter"
           }
          ],
          "scatter3d": [
           {
            "line": {
             "colorbar": {
              "outlinewidth": 0,
              "ticks": ""
             }
            },
            "marker": {
             "colorbar": {
              "outlinewidth": 0,
              "ticks": ""
             }
            },
            "type": "scatter3d"
           }
          ],
          "scattercarpet": [
           {
            "marker": {
             "colorbar": {
              "outlinewidth": 0,
              "ticks": ""
             }
            },
            "type": "scattercarpet"
           }
          ],
          "scattergeo": [
           {
            "marker": {
             "colorbar": {
              "outlinewidth": 0,
              "ticks": ""
             }
            },
            "type": "scattergeo"
           }
          ],
          "scattergl": [
           {
            "marker": {
             "colorbar": {
              "outlinewidth": 0,
              "ticks": ""
             }
            },
            "type": "scattergl"
           }
          ],
          "scattermapbox": [
           {
            "marker": {
             "colorbar": {
              "outlinewidth": 0,
              "ticks": ""
             }
            },
            "type": "scattermapbox"
           }
          ],
          "scatterpolar": [
           {
            "marker": {
             "colorbar": {
              "outlinewidth": 0,
              "ticks": ""
             }
            },
            "type": "scatterpolar"
           }
          ],
          "scatterpolargl": [
           {
            "marker": {
             "colorbar": {
              "outlinewidth": 0,
              "ticks": ""
             }
            },
            "type": "scatterpolargl"
           }
          ],
          "scatterternary": [
           {
            "marker": {
             "colorbar": {
              "outlinewidth": 0,
              "ticks": ""
             }
            },
            "type": "scatterternary"
           }
          ],
          "surface": [
           {
            "colorbar": {
             "outlinewidth": 0,
             "ticks": ""
            },
            "colorscale": [
             [
              0,
              "#0d0887"
             ],
             [
              0.1111111111111111,
              "#46039f"
             ],
             [
              0.2222222222222222,
              "#7201a8"
             ],
             [
              0.3333333333333333,
              "#9c179e"
             ],
             [
              0.4444444444444444,
              "#bd3786"
             ],
             [
              0.5555555555555556,
              "#d8576b"
             ],
             [
              0.6666666666666666,
              "#ed7953"
             ],
             [
              0.7777777777777778,
              "#fb9f3a"
             ],
             [
              0.8888888888888888,
              "#fdca26"
             ],
             [
              1,
              "#f0f921"
             ]
            ],
            "type": "surface"
           }
          ],
          "table": [
           {
            "cells": {
             "fill": {
              "color": "#EBF0F8"
             },
             "line": {
              "color": "white"
             }
            },
            "header": {
             "fill": {
              "color": "#C8D4E3"
             },
             "line": {
              "color": "white"
             }
            },
            "type": "table"
           }
          ]
         },
         "layout": {
          "annotationdefaults": {
           "arrowcolor": "#2a3f5f",
           "arrowhead": 0,
           "arrowwidth": 1
          },
          "coloraxis": {
           "colorbar": {
            "outlinewidth": 0,
            "ticks": ""
           }
          },
          "colorscale": {
           "diverging": [
            [
             0,
             "#8e0152"
            ],
            [
             0.1,
             "#c51b7d"
            ],
            [
             0.2,
             "#de77ae"
            ],
            [
             0.3,
             "#f1b6da"
            ],
            [
             0.4,
             "#fde0ef"
            ],
            [
             0.5,
             "#f7f7f7"
            ],
            [
             0.6,
             "#e6f5d0"
            ],
            [
             0.7,
             "#b8e186"
            ],
            [
             0.8,
             "#7fbc41"
            ],
            [
             0.9,
             "#4d9221"
            ],
            [
             1,
             "#276419"
            ]
           ],
           "sequential": [
            [
             0,
             "#0d0887"
            ],
            [
             0.1111111111111111,
             "#46039f"
            ],
            [
             0.2222222222222222,
             "#7201a8"
            ],
            [
             0.3333333333333333,
             "#9c179e"
            ],
            [
             0.4444444444444444,
             "#bd3786"
            ],
            [
             0.5555555555555556,
             "#d8576b"
            ],
            [
             0.6666666666666666,
             "#ed7953"
            ],
            [
             0.7777777777777778,
             "#fb9f3a"
            ],
            [
             0.8888888888888888,
             "#fdca26"
            ],
            [
             1,
             "#f0f921"
            ]
           ],
           "sequentialminus": [
            [
             0,
             "#0d0887"
            ],
            [
             0.1111111111111111,
             "#46039f"
            ],
            [
             0.2222222222222222,
             "#7201a8"
            ],
            [
             0.3333333333333333,
             "#9c179e"
            ],
            [
             0.4444444444444444,
             "#bd3786"
            ],
            [
             0.5555555555555556,
             "#d8576b"
            ],
            [
             0.6666666666666666,
             "#ed7953"
            ],
            [
             0.7777777777777778,
             "#fb9f3a"
            ],
            [
             0.8888888888888888,
             "#fdca26"
            ],
            [
             1,
             "#f0f921"
            ]
           ]
          },
          "colorway": [
           "#636efa",
           "#EF553B",
           "#00cc96",
           "#ab63fa",
           "#FFA15A",
           "#19d3f3",
           "#FF6692",
           "#B6E880",
           "#FF97FF",
           "#FECB52"
          ],
          "font": {
           "color": "#2a3f5f"
          },
          "geo": {
           "bgcolor": "white",
           "lakecolor": "white",
           "landcolor": "#E5ECF6",
           "showlakes": true,
           "showland": true,
           "subunitcolor": "white"
          },
          "hoverlabel": {
           "align": "left"
          },
          "hovermode": "closest",
          "mapbox": {
           "style": "light"
          },
          "paper_bgcolor": "white",
          "plot_bgcolor": "#E5ECF6",
          "polar": {
           "angularaxis": {
            "gridcolor": "white",
            "linecolor": "white",
            "ticks": ""
           },
           "bgcolor": "#E5ECF6",
           "radialaxis": {
            "gridcolor": "white",
            "linecolor": "white",
            "ticks": ""
           }
          },
          "scene": {
           "xaxis": {
            "backgroundcolor": "#E5ECF6",
            "gridcolor": "white",
            "gridwidth": 2,
            "linecolor": "white",
            "showbackground": true,
            "ticks": "",
            "zerolinecolor": "white"
           },
           "yaxis": {
            "backgroundcolor": "#E5ECF6",
            "gridcolor": "white",
            "gridwidth": 2,
            "linecolor": "white",
            "showbackground": true,
            "ticks": "",
            "zerolinecolor": "white"
           },
           "zaxis": {
            "backgroundcolor": "#E5ECF6",
            "gridcolor": "white",
            "gridwidth": 2,
            "linecolor": "white",
            "showbackground": true,
            "ticks": "",
            "zerolinecolor": "white"
           }
          },
          "shapedefaults": {
           "line": {
            "color": "#2a3f5f"
           }
          },
          "ternary": {
           "aaxis": {
            "gridcolor": "white",
            "linecolor": "white",
            "ticks": ""
           },
           "baxis": {
            "gridcolor": "white",
            "linecolor": "white",
            "ticks": ""
           },
           "bgcolor": "#E5ECF6",
           "caxis": {
            "gridcolor": "white",
            "linecolor": "white",
            "ticks": ""
           }
          },
          "title": {
           "x": 0.05
          },
          "xaxis": {
           "automargin": true,
           "gridcolor": "white",
           "linecolor": "white",
           "ticks": "",
           "title": {
            "standoff": 15
           },
           "zerolinecolor": "white",
           "zerolinewidth": 2
          },
          "yaxis": {
           "automargin": true,
           "gridcolor": "white",
           "linecolor": "white",
           "ticks": "",
           "title": {
            "standoff": 15
           },
           "zerolinecolor": "white",
           "zerolinewidth": 2
          }
         }
        },
        "title": {
         "text": "Número de Defunciones No Fetales 2010-2020"
        },
        "xaxis": {
         "anchor": "y",
         "domain": [
          0,
          1
         ],
         "title": {
          "text": "Municipio_corr"
         }
        },
        "yaxis": {
         "anchor": "x",
         "domain": [
          0,
          1
         ],
         "title": {
          "text": "Total"
         }
        }
       }
      }
     },
     "metadata": {},
     "output_type": "display_data"
    },
    {
     "data": {
      "application/vnd.plotly.v1+json": {
       "config": {
        "plotlyServerURL": "https://plot.ly"
       },
       "data": [
        {
         "alignmentgroup": "True",
         "hovertemplate": "Año=2010<br>Municipio_corr=%{x}<br>Hombres=%{y}<extra></extra>",
         "legendgroup": "2010",
         "marker": {
          "color": "#f0f921"
         },
         "name": "2010",
         "offsetgroup": "2010",
         "orientation": "v",
         "showlegend": true,
         "textposition": "auto",
         "type": "bar",
         "x": [
          "Cali",
          "Dagua",
          "Jamundí",
          "La Cumbre",
          "Vijes",
          "Yumbo"
         ],
         "xaxis": "x",
         "y": [
          8949,
          96,
          217,
          31,
          21,
          187
         ],
         "yaxis": "y"
        },
        {
         "alignmentgroup": "True",
         "hovertemplate": "Año=2011<br>Municipio_corr=%{x}<br>Hombres=%{y}<extra></extra>",
         "legendgroup": "2011",
         "marker": {
          "color": "#fdca26"
         },
         "name": "2011",
         "offsetgroup": "2011",
         "orientation": "v",
         "showlegend": true,
         "textposition": "auto",
         "type": "bar",
         "x": [
          "Cali",
          "Dagua",
          "Jamundí",
          "La Cumbre",
          "Vijes",
          "Yumbo"
         ],
         "xaxis": "x",
         "y": [
          9130,
          87,
          215,
          18,
          13,
          192
         ],
         "yaxis": "y"
        },
        {
         "alignmentgroup": "True",
         "hovertemplate": "Año=2012<br>Municipio_corr=%{x}<br>Hombres=%{y}<extra></extra>",
         "legendgroup": "2012",
         "marker": {
          "color": "#fb9f3a"
         },
         "name": "2012",
         "offsetgroup": "2012",
         "orientation": "v",
         "showlegend": true,
         "textposition": "auto",
         "type": "bar",
         "x": [
          "Cali",
          "Dagua",
          "Jamundí",
          "La Cumbre",
          "Vijes",
          "Yumbo"
         ],
         "xaxis": "x",
         "y": [
          9158,
          71,
          220,
          25,
          22,
          152
         ],
         "yaxis": "y"
        },
        {
         "alignmentgroup": "True",
         "hovertemplate": "Año=2013<br>Municipio_corr=%{x}<br>Hombres=%{y}<extra></extra>",
         "legendgroup": "2013",
         "marker": {
          "color": "#ed7953"
         },
         "name": "2013",
         "offsetgroup": "2013",
         "orientation": "v",
         "showlegend": true,
         "textposition": "auto",
         "type": "bar",
         "x": [
          "Cali",
          "Dagua",
          "Jamundí",
          "La Cumbre",
          "Vijes",
          "Yumbo"
         ],
         "xaxis": "x",
         "y": [
          9312,
          76,
          196,
          18,
          18,
          169
         ],
         "yaxis": "y"
        },
        {
         "alignmentgroup": "True",
         "hovertemplate": "Año=2014<br>Municipio_corr=%{x}<br>Hombres=%{y}<extra></extra>",
         "legendgroup": "2014",
         "marker": {
          "color": "#d8576b"
         },
         "name": "2014",
         "offsetgroup": "2014",
         "orientation": "v",
         "showlegend": true,
         "textposition": "auto",
         "type": "bar",
         "x": [
          "Cali",
          "Dagua",
          "Jamundí",
          "La Cumbre",
          "Vijes",
          "Yumbo"
         ],
         "xaxis": "x",
         "y": [
          8984,
          66,
          197,
          18,
          13,
          156
         ],
         "yaxis": "y"
        },
        {
         "alignmentgroup": "True",
         "hovertemplate": "Año=2015<br>Municipio_corr=%{x}<br>Hombres=%{y}<extra></extra>",
         "legendgroup": "2015",
         "marker": {
          "color": "#bd3786"
         },
         "name": "2015",
         "offsetgroup": "2015",
         "orientation": "v",
         "showlegend": true,
         "textposition": "auto",
         "type": "bar",
         "x": [
          "Cali",
          "Dagua",
          "Jamundí",
          "La Cumbre",
          "Vijes",
          "Yumbo"
         ],
         "xaxis": "x",
         "y": [
          9435,
          95,
          209,
          20,
          19,
          174
         ],
         "yaxis": "y"
        },
        {
         "alignmentgroup": "True",
         "hovertemplate": "Año=2016<br>Municipio_corr=%{x}<br>Hombres=%{y}<extra></extra>",
         "legendgroup": "2016",
         "marker": {
          "color": "#9c179e"
         },
         "name": "2016",
         "offsetgroup": "2016",
         "orientation": "v",
         "showlegend": true,
         "textposition": "auto",
         "type": "bar",
         "x": [
          "Cali",
          "Dagua",
          "Jamundí",
          "La Cumbre",
          "Vijes",
          "Yumbo"
         ],
         "xaxis": "x",
         "y": [
          9592,
          84,
          187,
          17,
          16,
          196
         ],
         "yaxis": "y"
        },
        {
         "alignmentgroup": "True",
         "hovertemplate": "Año=2017<br>Municipio_corr=%{x}<br>Hombres=%{y}<extra></extra>",
         "legendgroup": "2017",
         "marker": {
          "color": "#7201a8"
         },
         "name": "2017",
         "offsetgroup": "2017",
         "orientation": "v",
         "showlegend": true,
         "textposition": "auto",
         "type": "bar",
         "x": [
          "Cali",
          "Dagua",
          "Jamundí",
          "La Cumbre",
          "Vijes",
          "Yumbo"
         ],
         "xaxis": "x",
         "y": [
          9520,
          115,
          221,
          31,
          16,
          166
         ],
         "yaxis": "y"
        },
        {
         "alignmentgroup": "True",
         "hovertemplate": "Año=2018<br>Municipio_corr=%{x}<br>Hombres=%{y}<extra></extra>",
         "legendgroup": "2018",
         "marker": {
          "color": "#46039f"
         },
         "name": "2018",
         "offsetgroup": "2018",
         "orientation": "v",
         "showlegend": true,
         "textposition": "auto",
         "type": "bar",
         "x": [
          "Cali",
          "Dagua",
          "Jamundí",
          "La Cumbre",
          "Vijes",
          "Yumbo"
         ],
         "xaxis": "x",
         "y": [
          9619,
          82,
          255,
          22,
          13,
          182
         ],
         "yaxis": "y"
        },
        {
         "alignmentgroup": "True",
         "hovertemplate": "Año=2019<br>Municipio_corr=%{x}<br>Hombres=%{y}<extra></extra>",
         "legendgroup": "2019",
         "marker": {
          "color": "#0d0887"
         },
         "name": "2019",
         "offsetgroup": "2019",
         "orientation": "v",
         "showlegend": true,
         "textposition": "auto",
         "type": "bar",
         "x": [
          "Cali",
          "Dagua",
          "Jamundí",
          "La Cumbre",
          "Vijes",
          "Yumbo"
         ],
         "xaxis": "x",
         "y": [
          7777,
          124,
          438,
          40,
          31,
          321
         ],
         "yaxis": "y"
        },
        {
         "alignmentgroup": "True",
         "hovertemplate": "Año=2020<br>Municipio_corr=%{x}<br>Hombres=%{y}<extra></extra>",
         "legendgroup": "2020",
         "marker": {
          "color": "#f0f921"
         },
         "name": "2020",
         "offsetgroup": "2020",
         "orientation": "v",
         "showlegend": true,
         "textposition": "auto",
         "type": "bar",
         "x": [
          "Cali",
          "Dagua",
          "Jamundí",
          "La Cumbre",
          "Vijes",
          "Yumbo"
         ],
         "xaxis": "x",
         "y": [
          5070,
          77,
          246,
          25,
          28,
          181
         ],
         "yaxis": "y"
        }
       ],
       "layout": {
        "barmode": "group",
        "legend": {
         "title": {
          "text": "Año"
         },
         "tracegroupgap": 0
        },
        "template": {
         "data": {
          "bar": [
           {
            "error_x": {
             "color": "#2a3f5f"
            },
            "error_y": {
             "color": "#2a3f5f"
            },
            "marker": {
             "line": {
              "color": "#E5ECF6",
              "width": 0.5
             }
            },
            "type": "bar"
           }
          ],
          "barpolar": [
           {
            "marker": {
             "line": {
              "color": "#E5ECF6",
              "width": 0.5
             }
            },
            "type": "barpolar"
           }
          ],
          "carpet": [
           {
            "aaxis": {
             "endlinecolor": "#2a3f5f",
             "gridcolor": "white",
             "linecolor": "white",
             "minorgridcolor": "white",
             "startlinecolor": "#2a3f5f"
            },
            "baxis": {
             "endlinecolor": "#2a3f5f",
             "gridcolor": "white",
             "linecolor": "white",
             "minorgridcolor": "white",
             "startlinecolor": "#2a3f5f"
            },
            "type": "carpet"
           }
          ],
          "choropleth": [
           {
            "colorbar": {
             "outlinewidth": 0,
             "ticks": ""
            },
            "type": "choropleth"
           }
          ],
          "contour": [
           {
            "colorbar": {
             "outlinewidth": 0,
             "ticks": ""
            },
            "colorscale": [
             [
              0,
              "#0d0887"
             ],
             [
              0.1111111111111111,
              "#46039f"
             ],
             [
              0.2222222222222222,
              "#7201a8"
             ],
             [
              0.3333333333333333,
              "#9c179e"
             ],
             [
              0.4444444444444444,
              "#bd3786"
             ],
             [
              0.5555555555555556,
              "#d8576b"
             ],
             [
              0.6666666666666666,
              "#ed7953"
             ],
             [
              0.7777777777777778,
              "#fb9f3a"
             ],
             [
              0.8888888888888888,
              "#fdca26"
             ],
             [
              1,
              "#f0f921"
             ]
            ],
            "type": "contour"
           }
          ],
          "contourcarpet": [
           {
            "colorbar": {
             "outlinewidth": 0,
             "ticks": ""
            },
            "type": "contourcarpet"
           }
          ],
          "heatmap": [
           {
            "colorbar": {
             "outlinewidth": 0,
             "ticks": ""
            },
            "colorscale": [
             [
              0,
              "#0d0887"
             ],
             [
              0.1111111111111111,
              "#46039f"
             ],
             [
              0.2222222222222222,
              "#7201a8"
             ],
             [
              0.3333333333333333,
              "#9c179e"
             ],
             [
              0.4444444444444444,
              "#bd3786"
             ],
             [
              0.5555555555555556,
              "#d8576b"
             ],
             [
              0.6666666666666666,
              "#ed7953"
             ],
             [
              0.7777777777777778,
              "#fb9f3a"
             ],
             [
              0.8888888888888888,
              "#fdca26"
             ],
             [
              1,
              "#f0f921"
             ]
            ],
            "type": "heatmap"
           }
          ],
          "heatmapgl": [
           {
            "colorbar": {
             "outlinewidth": 0,
             "ticks": ""
            },
            "colorscale": [
             [
              0,
              "#0d0887"
             ],
             [
              0.1111111111111111,
              "#46039f"
             ],
             [
              0.2222222222222222,
              "#7201a8"
             ],
             [
              0.3333333333333333,
              "#9c179e"
             ],
             [
              0.4444444444444444,
              "#bd3786"
             ],
             [
              0.5555555555555556,
              "#d8576b"
             ],
             [
              0.6666666666666666,
              "#ed7953"
             ],
             [
              0.7777777777777778,
              "#fb9f3a"
             ],
             [
              0.8888888888888888,
              "#fdca26"
             ],
             [
              1,
              "#f0f921"
             ]
            ],
            "type": "heatmapgl"
           }
          ],
          "histogram": [
           {
            "marker": {
             "colorbar": {
              "outlinewidth": 0,
              "ticks": ""
             }
            },
            "type": "histogram"
           }
          ],
          "histogram2d": [
           {
            "colorbar": {
             "outlinewidth": 0,
             "ticks": ""
            },
            "colorscale": [
             [
              0,
              "#0d0887"
             ],
             [
              0.1111111111111111,
              "#46039f"
             ],
             [
              0.2222222222222222,
              "#7201a8"
             ],
             [
              0.3333333333333333,
              "#9c179e"
             ],
             [
              0.4444444444444444,
              "#bd3786"
             ],
             [
              0.5555555555555556,
              "#d8576b"
             ],
             [
              0.6666666666666666,
              "#ed7953"
             ],
             [
              0.7777777777777778,
              "#fb9f3a"
             ],
             [
              0.8888888888888888,
              "#fdca26"
             ],
             [
              1,
              "#f0f921"
             ]
            ],
            "type": "histogram2d"
           }
          ],
          "histogram2dcontour": [
           {
            "colorbar": {
             "outlinewidth": 0,
             "ticks": ""
            },
            "colorscale": [
             [
              0,
              "#0d0887"
             ],
             [
              0.1111111111111111,
              "#46039f"
             ],
             [
              0.2222222222222222,
              "#7201a8"
             ],
             [
              0.3333333333333333,
              "#9c179e"
             ],
             [
              0.4444444444444444,
              "#bd3786"
             ],
             [
              0.5555555555555556,
              "#d8576b"
             ],
             [
              0.6666666666666666,
              "#ed7953"
             ],
             [
              0.7777777777777778,
              "#fb9f3a"
             ],
             [
              0.8888888888888888,
              "#fdca26"
             ],
             [
              1,
              "#f0f921"
             ]
            ],
            "type": "histogram2dcontour"
           }
          ],
          "mesh3d": [
           {
            "colorbar": {
             "outlinewidth": 0,
             "ticks": ""
            },
            "type": "mesh3d"
           }
          ],
          "parcoords": [
           {
            "line": {
             "colorbar": {
              "outlinewidth": 0,
              "ticks": ""
             }
            },
            "type": "parcoords"
           }
          ],
          "pie": [
           {
            "automargin": true,
            "type": "pie"
           }
          ],
          "scatter": [
           {
            "marker": {
             "colorbar": {
              "outlinewidth": 0,
              "ticks": ""
             }
            },
            "type": "scatter"
           }
          ],
          "scatter3d": [
           {
            "line": {
             "colorbar": {
              "outlinewidth": 0,
              "ticks": ""
             }
            },
            "marker": {
             "colorbar": {
              "outlinewidth": 0,
              "ticks": ""
             }
            },
            "type": "scatter3d"
           }
          ],
          "scattercarpet": [
           {
            "marker": {
             "colorbar": {
              "outlinewidth": 0,
              "ticks": ""
             }
            },
            "type": "scattercarpet"
           }
          ],
          "scattergeo": [
           {
            "marker": {
             "colorbar": {
              "outlinewidth": 0,
              "ticks": ""
             }
            },
            "type": "scattergeo"
           }
          ],
          "scattergl": [
           {
            "marker": {
             "colorbar": {
              "outlinewidth": 0,
              "ticks": ""
             }
            },
            "type": "scattergl"
           }
          ],
          "scattermapbox": [
           {
            "marker": {
             "colorbar": {
              "outlinewidth": 0,
              "ticks": ""
             }
            },
            "type": "scattermapbox"
           }
          ],
          "scatterpolar": [
           {
            "marker": {
             "colorbar": {
              "outlinewidth": 0,
              "ticks": ""
             }
            },
            "type": "scatterpolar"
           }
          ],
          "scatterpolargl": [
           {
            "marker": {
             "colorbar": {
              "outlinewidth": 0,
              "ticks": ""
             }
            },
            "type": "scatterpolargl"
           }
          ],
          "scatterternary": [
           {
            "marker": {
             "colorbar": {
              "outlinewidth": 0,
              "ticks": ""
             }
            },
            "type": "scatterternary"
           }
          ],
          "surface": [
           {
            "colorbar": {
             "outlinewidth": 0,
             "ticks": ""
            },
            "colorscale": [
             [
              0,
              "#0d0887"
             ],
             [
              0.1111111111111111,
              "#46039f"
             ],
             [
              0.2222222222222222,
              "#7201a8"
             ],
             [
              0.3333333333333333,
              "#9c179e"
             ],
             [
              0.4444444444444444,
              "#bd3786"
             ],
             [
              0.5555555555555556,
              "#d8576b"
             ],
             [
              0.6666666666666666,
              "#ed7953"
             ],
             [
              0.7777777777777778,
              "#fb9f3a"
             ],
             [
              0.8888888888888888,
              "#fdca26"
             ],
             [
              1,
              "#f0f921"
             ]
            ],
            "type": "surface"
           }
          ],
          "table": [
           {
            "cells": {
             "fill": {
              "color": "#EBF0F8"
             },
             "line": {
              "color": "white"
             }
            },
            "header": {
             "fill": {
              "color": "#C8D4E3"
             },
             "line": {
              "color": "white"
             }
            },
            "type": "table"
           }
          ]
         },
         "layout": {
          "annotationdefaults": {
           "arrowcolor": "#2a3f5f",
           "arrowhead": 0,
           "arrowwidth": 1
          },
          "coloraxis": {
           "colorbar": {
            "outlinewidth": 0,
            "ticks": ""
           }
          },
          "colorscale": {
           "diverging": [
            [
             0,
             "#8e0152"
            ],
            [
             0.1,
             "#c51b7d"
            ],
            [
             0.2,
             "#de77ae"
            ],
            [
             0.3,
             "#f1b6da"
            ],
            [
             0.4,
             "#fde0ef"
            ],
            [
             0.5,
             "#f7f7f7"
            ],
            [
             0.6,
             "#e6f5d0"
            ],
            [
             0.7,
             "#b8e186"
            ],
            [
             0.8,
             "#7fbc41"
            ],
            [
             0.9,
             "#4d9221"
            ],
            [
             1,
             "#276419"
            ]
           ],
           "sequential": [
            [
             0,
             "#0d0887"
            ],
            [
             0.1111111111111111,
             "#46039f"
            ],
            [
             0.2222222222222222,
             "#7201a8"
            ],
            [
             0.3333333333333333,
             "#9c179e"
            ],
            [
             0.4444444444444444,
             "#bd3786"
            ],
            [
             0.5555555555555556,
             "#d8576b"
            ],
            [
             0.6666666666666666,
             "#ed7953"
            ],
            [
             0.7777777777777778,
             "#fb9f3a"
            ],
            [
             0.8888888888888888,
             "#fdca26"
            ],
            [
             1,
             "#f0f921"
            ]
           ],
           "sequentialminus": [
            [
             0,
             "#0d0887"
            ],
            [
             0.1111111111111111,
             "#46039f"
            ],
            [
             0.2222222222222222,
             "#7201a8"
            ],
            [
             0.3333333333333333,
             "#9c179e"
            ],
            [
             0.4444444444444444,
             "#bd3786"
            ],
            [
             0.5555555555555556,
             "#d8576b"
            ],
            [
             0.6666666666666666,
             "#ed7953"
            ],
            [
             0.7777777777777778,
             "#fb9f3a"
            ],
            [
             0.8888888888888888,
             "#fdca26"
            ],
            [
             1,
             "#f0f921"
            ]
           ]
          },
          "colorway": [
           "#636efa",
           "#EF553B",
           "#00cc96",
           "#ab63fa",
           "#FFA15A",
           "#19d3f3",
           "#FF6692",
           "#B6E880",
           "#FF97FF",
           "#FECB52"
          ],
          "font": {
           "color": "#2a3f5f"
          },
          "geo": {
           "bgcolor": "white",
           "lakecolor": "white",
           "landcolor": "#E5ECF6",
           "showlakes": true,
           "showland": true,
           "subunitcolor": "white"
          },
          "hoverlabel": {
           "align": "left"
          },
          "hovermode": "closest",
          "mapbox": {
           "style": "light"
          },
          "paper_bgcolor": "white",
          "plot_bgcolor": "#E5ECF6",
          "polar": {
           "angularaxis": {
            "gridcolor": "white",
            "linecolor": "white",
            "ticks": ""
           },
           "bgcolor": "#E5ECF6",
           "radialaxis": {
            "gridcolor": "white",
            "linecolor": "white",
            "ticks": ""
           }
          },
          "scene": {
           "xaxis": {
            "backgroundcolor": "#E5ECF6",
            "gridcolor": "white",
            "gridwidth": 2,
            "linecolor": "white",
            "showbackground": true,
            "ticks": "",
            "zerolinecolor": "white"
           },
           "yaxis": {
            "backgroundcolor": "#E5ECF6",
            "gridcolor": "white",
            "gridwidth": 2,
            "linecolor": "white",
            "showbackground": true,
            "ticks": "",
            "zerolinecolor": "white"
           },
           "zaxis": {
            "backgroundcolor": "#E5ECF6",
            "gridcolor": "white",
            "gridwidth": 2,
            "linecolor": "white",
            "showbackground": true,
            "ticks": "",
            "zerolinecolor": "white"
           }
          },
          "shapedefaults": {
           "line": {
            "color": "#2a3f5f"
           }
          },
          "ternary": {
           "aaxis": {
            "gridcolor": "white",
            "linecolor": "white",
            "ticks": ""
           },
           "baxis": {
            "gridcolor": "white",
            "linecolor": "white",
            "ticks": ""
           },
           "bgcolor": "#E5ECF6",
           "caxis": {
            "gridcolor": "white",
            "linecolor": "white",
            "ticks": ""
           }
          },
          "title": {
           "x": 0.05
          },
          "xaxis": {
           "automargin": true,
           "gridcolor": "white",
           "linecolor": "white",
           "ticks": "",
           "title": {
            "standoff": 15
           },
           "zerolinecolor": "white",
           "zerolinewidth": 2
          },
          "yaxis": {
           "automargin": true,
           "gridcolor": "white",
           "linecolor": "white",
           "ticks": "",
           "title": {
            "standoff": 15
           },
           "zerolinecolor": "white",
           "zerolinewidth": 2
          }
         }
        },
        "title": {
         "text": "Número de Defunciones No Fetales (hombres) 2010-2020"
        },
        "xaxis": {
         "anchor": "y",
         "domain": [
          0,
          1
         ],
         "title": {
          "text": "Municipio_corr"
         }
        },
        "yaxis": {
         "anchor": "x",
         "domain": [
          0,
          1
         ],
         "title": {
          "text": "Hombres"
         }
        }
       }
      }
     },
     "metadata": {},
     "output_type": "display_data"
    },
    {
     "data": {
      "application/vnd.plotly.v1+json": {
       "config": {
        "plotlyServerURL": "https://plot.ly"
       },
       "data": [
        {
         "alignmentgroup": "True",
         "hovertemplate": "Año=2010<br>Municipio_corr=%{x}<br>Mujeres=%{y}<extra></extra>",
         "legendgroup": "2010",
         "marker": {
          "color": "#f0f921"
         },
         "name": "2010",
         "offsetgroup": "2010",
         "orientation": "v",
         "showlegend": true,
         "textposition": "auto",
         "type": "bar",
         "x": [
          "Cali",
          "Dagua",
          "Jamundí",
          "La Cumbre",
          "Vijes",
          "Yumbo"
         ],
         "xaxis": "x",
         "y": [
          6807,
          39,
          105,
          12,
          8,
          89
         ],
         "yaxis": "y"
        },
        {
         "alignmentgroup": "True",
         "hovertemplate": "Año=2011<br>Municipio_corr=%{x}<br>Mujeres=%{y}<extra></extra>",
         "legendgroup": "2011",
         "marker": {
          "color": "#fdca26"
         },
         "name": "2011",
         "offsetgroup": "2011",
         "orientation": "v",
         "showlegend": true,
         "textposition": "auto",
         "type": "bar",
         "x": [
          "Cali",
          "Dagua",
          "Jamundí",
          "La Cumbre",
          "Vijes",
          "Yumbo"
         ],
         "xaxis": "x",
         "y": [
          6800,
          34,
          103,
          19,
          10,
          76
         ],
         "yaxis": "y"
        },
        {
         "alignmentgroup": "True",
         "hovertemplate": "Año=2012<br>Municipio_corr=%{x}<br>Mujeres=%{y}<extra></extra>",
         "legendgroup": "2012",
         "marker": {
          "color": "#fb9f3a"
         },
         "name": "2012",
         "offsetgroup": "2012",
         "orientation": "v",
         "showlegend": true,
         "textposition": "auto",
         "type": "bar",
         "x": [
          "Cali",
          "Dagua",
          "Jamundí",
          "La Cumbre",
          "Vijes",
          "Yumbo"
         ],
         "xaxis": "x",
         "y": [
          6912,
          50,
          106,
          12,
          13,
          71
         ],
         "yaxis": "y"
        },
        {
         "alignmentgroup": "True",
         "hovertemplate": "Año=2013<br>Municipio_corr=%{x}<br>Mujeres=%{y}<extra></extra>",
         "legendgroup": "2013",
         "marker": {
          "color": "#ed7953"
         },
         "name": "2013",
         "offsetgroup": "2013",
         "orientation": "v",
         "showlegend": true,
         "textposition": "auto",
         "type": "bar",
         "x": [
          "Cali",
          "Dagua",
          "Jamundí",
          "La Cumbre",
          "Vijes",
          "Yumbo"
         ],
         "xaxis": "x",
         "y": [
          7334,
          43,
          98,
          13,
          12,
          91
         ],
         "yaxis": "y"
        },
        {
         "alignmentgroup": "True",
         "hovertemplate": "Año=2014<br>Municipio_corr=%{x}<br>Mujeres=%{y}<extra></extra>",
         "legendgroup": "2014",
         "marker": {
          "color": "#d8576b"
         },
         "name": "2014",
         "offsetgroup": "2014",
         "orientation": "v",
         "showlegend": true,
         "textposition": "auto",
         "type": "bar",
         "x": [
          "Cali",
          "Dagua",
          "Jamundí",
          "La Cumbre",
          "Vijes",
          "Yumbo"
         ],
         "xaxis": "x",
         "y": [
          7434,
          38,
          91,
          15,
          10,
          78
         ],
         "yaxis": "y"
        },
        {
         "alignmentgroup": "True",
         "hovertemplate": "Año=2015<br>Municipio_corr=%{x}<br>Mujeres=%{y}<extra></extra>",
         "legendgroup": "2015",
         "marker": {
          "color": "#bd3786"
         },
         "name": "2015",
         "offsetgroup": "2015",
         "orientation": "v",
         "showlegend": true,
         "textposition": "auto",
         "type": "bar",
         "x": [
          "Cali",
          "Dagua",
          "Jamundí",
          "La Cumbre",
          "Vijes",
          "Yumbo"
         ],
         "xaxis": "x",
         "y": [
          8111,
          38,
          107,
          19,
          19,
          99
         ],
         "yaxis": "y"
        },
        {
         "alignmentgroup": "True",
         "hovertemplate": "Año=2016<br>Municipio_corr=%{x}<br>Mujeres=%{y}<extra></extra>",
         "legendgroup": "2016",
         "marker": {
          "color": "#9c179e"
         },
         "name": "2016",
         "offsetgroup": "2016",
         "orientation": "v",
         "showlegend": true,
         "textposition": "auto",
         "type": "bar",
         "x": [
          "Cali",
          "Dagua",
          "Jamundí",
          "La Cumbre",
          "Vijes",
          "Yumbo"
         ],
         "xaxis": "x",
         "y": [
          7977,
          42,
          109,
          20,
          16,
          66
         ],
         "yaxis": "y"
        },
        {
         "alignmentgroup": "True",
         "hovertemplate": "Año=2017<br>Municipio_corr=%{x}<br>Mujeres=%{y}<extra></extra>",
         "legendgroup": "2017",
         "marker": {
          "color": "#7201a8"
         },
         "name": "2017",
         "offsetgroup": "2017",
         "orientation": "v",
         "showlegend": true,
         "textposition": "auto",
         "type": "bar",
         "x": [
          "Cali",
          "Dagua",
          "Jamundí",
          "La Cumbre",
          "Vijes",
          "Yumbo"
         ],
         "xaxis": "x",
         "y": [
          8151,
          45,
          102,
          21,
          10,
          100
         ],
         "yaxis": "y"
        },
        {
         "alignmentgroup": "True",
         "hovertemplate": "Año=2018<br>Municipio_corr=%{x}<br>Mujeres=%{y}<extra></extra>",
         "legendgroup": "2018",
         "marker": {
          "color": "#46039f"
         },
         "name": "2018",
         "offsetgroup": "2018",
         "orientation": "v",
         "showlegend": true,
         "textposition": "auto",
         "type": "bar",
         "x": [
          "Cali",
          "Dagua",
          "Jamundí",
          "La Cumbre",
          "Vijes",
          "Yumbo"
         ],
         "xaxis": "x",
         "y": [
          8297,
          44,
          108,
          9,
          10,
          108
         ],
         "yaxis": "y"
        },
        {
         "alignmentgroup": "True",
         "hovertemplate": "Año=2019<br>Municipio_corr=%{x}<br>Mujeres=%{y}<extra></extra>",
         "legendgroup": "2019",
         "marker": {
          "color": "#0d0887"
         },
         "name": "2019",
         "offsetgroup": "2019",
         "orientation": "v",
         "showlegend": true,
         "textposition": "auto",
         "type": "bar",
         "x": [
          "Cali",
          "Dagua",
          "Jamundí",
          "La Cumbre",
          "Vijes",
          "Yumbo"
         ],
         "xaxis": "x",
         "y": [
          6589,
          78,
          333,
          34,
          24,
          221
         ],
         "yaxis": "y"
        },
        {
         "alignmentgroup": "True",
         "hovertemplate": "Año=2020<br>Municipio_corr=%{x}<br>Mujeres=%{y}<extra></extra>",
         "legendgroup": "2020",
         "marker": {
          "color": "#f0f921"
         },
         "name": "2020",
         "offsetgroup": "2020",
         "orientation": "v",
         "showlegend": true,
         "textposition": "auto",
         "type": "bar",
         "x": [
          "Cali",
          "Dagua",
          "Jamundí",
          "La Cumbre",
          "Vijes",
          "Yumbo"
         ],
         "xaxis": "x",
         "y": [
          4017,
          47,
          166,
          18,
          16,
          127
         ],
         "yaxis": "y"
        }
       ],
       "layout": {
        "barmode": "group",
        "legend": {
         "title": {
          "text": "Año"
         },
         "tracegroupgap": 0
        },
        "template": {
         "data": {
          "bar": [
           {
            "error_x": {
             "color": "#2a3f5f"
            },
            "error_y": {
             "color": "#2a3f5f"
            },
            "marker": {
             "line": {
              "color": "#E5ECF6",
              "width": 0.5
             }
            },
            "type": "bar"
           }
          ],
          "barpolar": [
           {
            "marker": {
             "line": {
              "color": "#E5ECF6",
              "width": 0.5
             }
            },
            "type": "barpolar"
           }
          ],
          "carpet": [
           {
            "aaxis": {
             "endlinecolor": "#2a3f5f",
             "gridcolor": "white",
             "linecolor": "white",
             "minorgridcolor": "white",
             "startlinecolor": "#2a3f5f"
            },
            "baxis": {
             "endlinecolor": "#2a3f5f",
             "gridcolor": "white",
             "linecolor": "white",
             "minorgridcolor": "white",
             "startlinecolor": "#2a3f5f"
            },
            "type": "carpet"
           }
          ],
          "choropleth": [
           {
            "colorbar": {
             "outlinewidth": 0,
             "ticks": ""
            },
            "type": "choropleth"
           }
          ],
          "contour": [
           {
            "colorbar": {
             "outlinewidth": 0,
             "ticks": ""
            },
            "colorscale": [
             [
              0,
              "#0d0887"
             ],
             [
              0.1111111111111111,
              "#46039f"
             ],
             [
              0.2222222222222222,
              "#7201a8"
             ],
             [
              0.3333333333333333,
              "#9c179e"
             ],
             [
              0.4444444444444444,
              "#bd3786"
             ],
             [
              0.5555555555555556,
              "#d8576b"
             ],
             [
              0.6666666666666666,
              "#ed7953"
             ],
             [
              0.7777777777777778,
              "#fb9f3a"
             ],
             [
              0.8888888888888888,
              "#fdca26"
             ],
             [
              1,
              "#f0f921"
             ]
            ],
            "type": "contour"
           }
          ],
          "contourcarpet": [
           {
            "colorbar": {
             "outlinewidth": 0,
             "ticks": ""
            },
            "type": "contourcarpet"
           }
          ],
          "heatmap": [
           {
            "colorbar": {
             "outlinewidth": 0,
             "ticks": ""
            },
            "colorscale": [
             [
              0,
              "#0d0887"
             ],
             [
              0.1111111111111111,
              "#46039f"
             ],
             [
              0.2222222222222222,
              "#7201a8"
             ],
             [
              0.3333333333333333,
              "#9c179e"
             ],
             [
              0.4444444444444444,
              "#bd3786"
             ],
             [
              0.5555555555555556,
              "#d8576b"
             ],
             [
              0.6666666666666666,
              "#ed7953"
             ],
             [
              0.7777777777777778,
              "#fb9f3a"
             ],
             [
              0.8888888888888888,
              "#fdca26"
             ],
             [
              1,
              "#f0f921"
             ]
            ],
            "type": "heatmap"
           }
          ],
          "heatmapgl": [
           {
            "colorbar": {
             "outlinewidth": 0,
             "ticks": ""
            },
            "colorscale": [
             [
              0,
              "#0d0887"
             ],
             [
              0.1111111111111111,
              "#46039f"
             ],
             [
              0.2222222222222222,
              "#7201a8"
             ],
             [
              0.3333333333333333,
              "#9c179e"
             ],
             [
              0.4444444444444444,
              "#bd3786"
             ],
             [
              0.5555555555555556,
              "#d8576b"
             ],
             [
              0.6666666666666666,
              "#ed7953"
             ],
             [
              0.7777777777777778,
              "#fb9f3a"
             ],
             [
              0.8888888888888888,
              "#fdca26"
             ],
             [
              1,
              "#f0f921"
             ]
            ],
            "type": "heatmapgl"
           }
          ],
          "histogram": [
           {
            "marker": {
             "colorbar": {
              "outlinewidth": 0,
              "ticks": ""
             }
            },
            "type": "histogram"
           }
          ],
          "histogram2d": [
           {
            "colorbar": {
             "outlinewidth": 0,
             "ticks": ""
            },
            "colorscale": [
             [
              0,
              "#0d0887"
             ],
             [
              0.1111111111111111,
              "#46039f"
             ],
             [
              0.2222222222222222,
              "#7201a8"
             ],
             [
              0.3333333333333333,
              "#9c179e"
             ],
             [
              0.4444444444444444,
              "#bd3786"
             ],
             [
              0.5555555555555556,
              "#d8576b"
             ],
             [
              0.6666666666666666,
              "#ed7953"
             ],
             [
              0.7777777777777778,
              "#fb9f3a"
             ],
             [
              0.8888888888888888,
              "#fdca26"
             ],
             [
              1,
              "#f0f921"
             ]
            ],
            "type": "histogram2d"
           }
          ],
          "histogram2dcontour": [
           {
            "colorbar": {
             "outlinewidth": 0,
             "ticks": ""
            },
            "colorscale": [
             [
              0,
              "#0d0887"
             ],
             [
              0.1111111111111111,
              "#46039f"
             ],
             [
              0.2222222222222222,
              "#7201a8"
             ],
             [
              0.3333333333333333,
              "#9c179e"
             ],
             [
              0.4444444444444444,
              "#bd3786"
             ],
             [
              0.5555555555555556,
              "#d8576b"
             ],
             [
              0.6666666666666666,
              "#ed7953"
             ],
             [
              0.7777777777777778,
              "#fb9f3a"
             ],
             [
              0.8888888888888888,
              "#fdca26"
             ],
             [
              1,
              "#f0f921"
             ]
            ],
            "type": "histogram2dcontour"
           }
          ],
          "mesh3d": [
           {
            "colorbar": {
             "outlinewidth": 0,
             "ticks": ""
            },
            "type": "mesh3d"
           }
          ],
          "parcoords": [
           {
            "line": {
             "colorbar": {
              "outlinewidth": 0,
              "ticks": ""
             }
            },
            "type": "parcoords"
           }
          ],
          "pie": [
           {
            "automargin": true,
            "type": "pie"
           }
          ],
          "scatter": [
           {
            "marker": {
             "colorbar": {
              "outlinewidth": 0,
              "ticks": ""
             }
            },
            "type": "scatter"
           }
          ],
          "scatter3d": [
           {
            "line": {
             "colorbar": {
              "outlinewidth": 0,
              "ticks": ""
             }
            },
            "marker": {
             "colorbar": {
              "outlinewidth": 0,
              "ticks": ""
             }
            },
            "type": "scatter3d"
           }
          ],
          "scattercarpet": [
           {
            "marker": {
             "colorbar": {
              "outlinewidth": 0,
              "ticks": ""
             }
            },
            "type": "scattercarpet"
           }
          ],
          "scattergeo": [
           {
            "marker": {
             "colorbar": {
              "outlinewidth": 0,
              "ticks": ""
             }
            },
            "type": "scattergeo"
           }
          ],
          "scattergl": [
           {
            "marker": {
             "colorbar": {
              "outlinewidth": 0,
              "ticks": ""
             }
            },
            "type": "scattergl"
           }
          ],
          "scattermapbox": [
           {
            "marker": {
             "colorbar": {
              "outlinewidth": 0,
              "ticks": ""
             }
            },
            "type": "scattermapbox"
           }
          ],
          "scatterpolar": [
           {
            "marker": {
             "colorbar": {
              "outlinewidth": 0,
              "ticks": ""
             }
            },
            "type": "scatterpolar"
           }
          ],
          "scatterpolargl": [
           {
            "marker": {
             "colorbar": {
              "outlinewidth": 0,
              "ticks": ""
             }
            },
            "type": "scatterpolargl"
           }
          ],
          "scatterternary": [
           {
            "marker": {
             "colorbar": {
              "outlinewidth": 0,
              "ticks": ""
             }
            },
            "type": "scatterternary"
           }
          ],
          "surface": [
           {
            "colorbar": {
             "outlinewidth": 0,
             "ticks": ""
            },
            "colorscale": [
             [
              0,
              "#0d0887"
             ],
             [
              0.1111111111111111,
              "#46039f"
             ],
             [
              0.2222222222222222,
              "#7201a8"
             ],
             [
              0.3333333333333333,
              "#9c179e"
             ],
             [
              0.4444444444444444,
              "#bd3786"
             ],
             [
              0.5555555555555556,
              "#d8576b"
             ],
             [
              0.6666666666666666,
              "#ed7953"
             ],
             [
              0.7777777777777778,
              "#fb9f3a"
             ],
             [
              0.8888888888888888,
              "#fdca26"
             ],
             [
              1,
              "#f0f921"
             ]
            ],
            "type": "surface"
           }
          ],
          "table": [
           {
            "cells": {
             "fill": {
              "color": "#EBF0F8"
             },
             "line": {
              "color": "white"
             }
            },
            "header": {
             "fill": {
              "color": "#C8D4E3"
             },
             "line": {
              "color": "white"
             }
            },
            "type": "table"
           }
          ]
         },
         "layout": {
          "annotationdefaults": {
           "arrowcolor": "#2a3f5f",
           "arrowhead": 0,
           "arrowwidth": 1
          },
          "coloraxis": {
           "colorbar": {
            "outlinewidth": 0,
            "ticks": ""
           }
          },
          "colorscale": {
           "diverging": [
            [
             0,
             "#8e0152"
            ],
            [
             0.1,
             "#c51b7d"
            ],
            [
             0.2,
             "#de77ae"
            ],
            [
             0.3,
             "#f1b6da"
            ],
            [
             0.4,
             "#fde0ef"
            ],
            [
             0.5,
             "#f7f7f7"
            ],
            [
             0.6,
             "#e6f5d0"
            ],
            [
             0.7,
             "#b8e186"
            ],
            [
             0.8,
             "#7fbc41"
            ],
            [
             0.9,
             "#4d9221"
            ],
            [
             1,
             "#276419"
            ]
           ],
           "sequential": [
            [
             0,
             "#0d0887"
            ],
            [
             0.1111111111111111,
             "#46039f"
            ],
            [
             0.2222222222222222,
             "#7201a8"
            ],
            [
             0.3333333333333333,
             "#9c179e"
            ],
            [
             0.4444444444444444,
             "#bd3786"
            ],
            [
             0.5555555555555556,
             "#d8576b"
            ],
            [
             0.6666666666666666,
             "#ed7953"
            ],
            [
             0.7777777777777778,
             "#fb9f3a"
            ],
            [
             0.8888888888888888,
             "#fdca26"
            ],
            [
             1,
             "#f0f921"
            ]
           ],
           "sequentialminus": [
            [
             0,
             "#0d0887"
            ],
            [
             0.1111111111111111,
             "#46039f"
            ],
            [
             0.2222222222222222,
             "#7201a8"
            ],
            [
             0.3333333333333333,
             "#9c179e"
            ],
            [
             0.4444444444444444,
             "#bd3786"
            ],
            [
             0.5555555555555556,
             "#d8576b"
            ],
            [
             0.6666666666666666,
             "#ed7953"
            ],
            [
             0.7777777777777778,
             "#fb9f3a"
            ],
            [
             0.8888888888888888,
             "#fdca26"
            ],
            [
             1,
             "#f0f921"
            ]
           ]
          },
          "colorway": [
           "#636efa",
           "#EF553B",
           "#00cc96",
           "#ab63fa",
           "#FFA15A",
           "#19d3f3",
           "#FF6692",
           "#B6E880",
           "#FF97FF",
           "#FECB52"
          ],
          "font": {
           "color": "#2a3f5f"
          },
          "geo": {
           "bgcolor": "white",
           "lakecolor": "white",
           "landcolor": "#E5ECF6",
           "showlakes": true,
           "showland": true,
           "subunitcolor": "white"
          },
          "hoverlabel": {
           "align": "left"
          },
          "hovermode": "closest",
          "mapbox": {
           "style": "light"
          },
          "paper_bgcolor": "white",
          "plot_bgcolor": "#E5ECF6",
          "polar": {
           "angularaxis": {
            "gridcolor": "white",
            "linecolor": "white",
            "ticks": ""
           },
           "bgcolor": "#E5ECF6",
           "radialaxis": {
            "gridcolor": "white",
            "linecolor": "white",
            "ticks": ""
           }
          },
          "scene": {
           "xaxis": {
            "backgroundcolor": "#E5ECF6",
            "gridcolor": "white",
            "gridwidth": 2,
            "linecolor": "white",
            "showbackground": true,
            "ticks": "",
            "zerolinecolor": "white"
           },
           "yaxis": {
            "backgroundcolor": "#E5ECF6",
            "gridcolor": "white",
            "gridwidth": 2,
            "linecolor": "white",
            "showbackground": true,
            "ticks": "",
            "zerolinecolor": "white"
           },
           "zaxis": {
            "backgroundcolor": "#E5ECF6",
            "gridcolor": "white",
            "gridwidth": 2,
            "linecolor": "white",
            "showbackground": true,
            "ticks": "",
            "zerolinecolor": "white"
           }
          },
          "shapedefaults": {
           "line": {
            "color": "#2a3f5f"
           }
          },
          "ternary": {
           "aaxis": {
            "gridcolor": "white",
            "linecolor": "white",
            "ticks": ""
           },
           "baxis": {
            "gridcolor": "white",
            "linecolor": "white",
            "ticks": ""
           },
           "bgcolor": "#E5ECF6",
           "caxis": {
            "gridcolor": "white",
            "linecolor": "white",
            "ticks": ""
           }
          },
          "title": {
           "x": 0.05
          },
          "xaxis": {
           "automargin": true,
           "gridcolor": "white",
           "linecolor": "white",
           "ticks": "",
           "title": {
            "standoff": 15
           },
           "zerolinecolor": "white",
           "zerolinewidth": 2
          },
          "yaxis": {
           "automargin": true,
           "gridcolor": "white",
           "linecolor": "white",
           "ticks": "",
           "title": {
            "standoff": 15
           },
           "zerolinecolor": "white",
           "zerolinewidth": 2
          }
         }
        },
        "title": {
         "text": "Número de Defunciones No Fetales (mujeres) 2010-2020"
        },
        "xaxis": {
         "anchor": "y",
         "domain": [
          0,
          1
         ],
         "title": {
          "text": "Municipio_corr"
         }
        },
        "yaxis": {
         "anchor": "x",
         "domain": [
          0,
          1
         ],
         "title": {
          "text": "Mujeres"
         }
        }
       }
      }
     },
     "metadata": {},
     "output_type": "display_data"
    },
    {
     "data": {
      "application/vnd.plotly.v1+json": {
       "config": {
        "plotlyServerURL": "https://plot.ly"
       },
       "data": [
        {
         "alignmentgroup": "True",
         "hovertemplate": "Año=2010<br>Municipio_corr=%{x}<br>Indeterminado=%{y}<extra></extra>",
         "legendgroup": "2010",
         "marker": {
          "color": "#f0f921"
         },
         "name": "2010",
         "offsetgroup": "2010",
         "orientation": "v",
         "showlegend": true,
         "textposition": "auto",
         "type": "bar",
         "x": [
          "Cali",
          "Dagua",
          "Jamundí",
          "La Cumbre",
          "Vijes",
          "Yumbo"
         ],
         "xaxis": "x",
         "y": [
          0,
          0,
          0,
          0,
          0,
          0
         ],
         "yaxis": "y"
        },
        {
         "alignmentgroup": "True",
         "hovertemplate": "Año=2011<br>Municipio_corr=%{x}<br>Indeterminado=%{y}<extra></extra>",
         "legendgroup": "2011",
         "marker": {
          "color": "#fdca26"
         },
         "name": "2011",
         "offsetgroup": "2011",
         "orientation": "v",
         "showlegend": true,
         "textposition": "auto",
         "type": "bar",
         "x": [
          "Cali",
          "Dagua",
          "Jamundí",
          "La Cumbre",
          "Vijes",
          "Yumbo"
         ],
         "xaxis": "x",
         "y": [
          3,
          0,
          1,
          0,
          0,
          0
         ],
         "yaxis": "y"
        },
        {
         "alignmentgroup": "True",
         "hovertemplate": "Año=2012<br>Municipio_corr=%{x}<br>Indeterminado=%{y}<extra></extra>",
         "legendgroup": "2012",
         "marker": {
          "color": "#fb9f3a"
         },
         "name": "2012",
         "offsetgroup": "2012",
         "orientation": "v",
         "showlegend": true,
         "textposition": "auto",
         "type": "bar",
         "x": [
          "Cali",
          "Dagua",
          "Jamundí",
          "La Cumbre",
          "Vijes",
          "Yumbo"
         ],
         "xaxis": "x",
         "y": [
          4,
          0,
          0,
          0,
          0,
          0
         ],
         "yaxis": "y"
        },
        {
         "alignmentgroup": "True",
         "hovertemplate": "Año=2013<br>Municipio_corr=%{x}<br>Indeterminado=%{y}<extra></extra>",
         "legendgroup": "2013",
         "marker": {
          "color": "#ed7953"
         },
         "name": "2013",
         "offsetgroup": "2013",
         "orientation": "v",
         "showlegend": true,
         "textposition": "auto",
         "type": "bar",
         "x": [
          "Cali",
          "Dagua",
          "Jamundí",
          "La Cumbre",
          "Vijes",
          "Yumbo"
         ],
         "xaxis": "x",
         "y": [
          0,
          0,
          0,
          0,
          0,
          0
         ],
         "yaxis": "y"
        },
        {
         "alignmentgroup": "True",
         "hovertemplate": "Año=2014<br>Municipio_corr=%{x}<br>Indeterminado=%{y}<extra></extra>",
         "legendgroup": "2014",
         "marker": {
          "color": "#d8576b"
         },
         "name": "2014",
         "offsetgroup": "2014",
         "orientation": "v",
         "showlegend": true,
         "textposition": "auto",
         "type": "bar",
         "x": [
          "Cali",
          "Dagua",
          "Jamundí",
          "La Cumbre",
          "Vijes",
          "Yumbo"
         ],
         "xaxis": "x",
         "y": [
          1,
          0,
          0,
          0,
          0,
          0
         ],
         "yaxis": "y"
        },
        {
         "alignmentgroup": "True",
         "hovertemplate": "Año=2015<br>Municipio_corr=%{x}<br>Indeterminado=%{y}<extra></extra>",
         "legendgroup": "2015",
         "marker": {
          "color": "#bd3786"
         },
         "name": "2015",
         "offsetgroup": "2015",
         "orientation": "v",
         "showlegend": true,
         "textposition": "auto",
         "type": "bar",
         "x": [
          "Cali",
          "Dagua",
          "Jamundí",
          "La Cumbre",
          "Vijes",
          "Yumbo"
         ],
         "xaxis": "x",
         "y": [
          0,
          0,
          0,
          0,
          0,
          0
         ],
         "yaxis": "y"
        },
        {
         "alignmentgroup": "True",
         "hovertemplate": "Año=2016<br>Municipio_corr=%{x}<br>Indeterminado=%{y}<extra></extra>",
         "legendgroup": "2016",
         "marker": {
          "color": "#9c179e"
         },
         "name": "2016",
         "offsetgroup": "2016",
         "orientation": "v",
         "showlegend": true,
         "textposition": "auto",
         "type": "bar",
         "x": [
          "Cali",
          "Dagua",
          "Jamundí",
          "La Cumbre",
          "Vijes",
          "Yumbo"
         ],
         "xaxis": "x",
         "y": [
          2,
          0,
          0,
          0,
          0,
          0
         ],
         "yaxis": "y"
        },
        {
         "alignmentgroup": "True",
         "hovertemplate": "Año=2017<br>Municipio_corr=%{x}<br>Indeterminado=%{y}<extra></extra>",
         "legendgroup": "2017",
         "marker": {
          "color": "#7201a8"
         },
         "name": "2017",
         "offsetgroup": "2017",
         "orientation": "v",
         "showlegend": true,
         "textposition": "auto",
         "type": "bar",
         "x": [
          "Cali",
          "Dagua",
          "Jamundí",
          "La Cumbre",
          "Vijes",
          "Yumbo"
         ],
         "xaxis": "x",
         "y": [
          1,
          0,
          0,
          0,
          0,
          0
         ],
         "yaxis": "y"
        },
        {
         "alignmentgroup": "True",
         "hovertemplate": "Año=2018<br>Municipio_corr=%{x}<br>Indeterminado=%{y}<extra></extra>",
         "legendgroup": "2018",
         "marker": {
          "color": "#46039f"
         },
         "name": "2018",
         "offsetgroup": "2018",
         "orientation": "v",
         "showlegend": true,
         "textposition": "auto",
         "type": "bar",
         "x": [
          "Cali",
          "Dagua",
          "Jamundí",
          "La Cumbre",
          "Vijes",
          "Yumbo"
         ],
         "xaxis": "x",
         "y": [
          2,
          0,
          1,
          0,
          0,
          0
         ],
         "yaxis": "y"
        },
        {
         "alignmentgroup": "True",
         "hovertemplate": "Año=2019<br>Municipio_corr=%{x}<br>Indeterminado=%{y}<extra></extra>",
         "legendgroup": "2019",
         "marker": {
          "color": "#0d0887"
         },
         "name": "2019",
         "offsetgroup": "2019",
         "orientation": "v",
         "showlegend": true,
         "textposition": "auto",
         "type": "bar",
         "x": [
          "Cali",
          "Dagua",
          "Jamundí",
          "La Cumbre",
          "Vijes",
          "Yumbo"
         ],
         "xaxis": "x",
         "y": [
          0,
          0,
          0,
          0,
          0,
          0
         ],
         "yaxis": "y"
        },
        {
         "alignmentgroup": "True",
         "hovertemplate": "Año=2020<br>Municipio_corr=%{x}<br>Indeterminado=%{y}<extra></extra>",
         "legendgroup": "2020",
         "marker": {
          "color": "#f0f921"
         },
         "name": "2020",
         "offsetgroup": "2020",
         "orientation": "v",
         "showlegend": true,
         "textposition": "auto",
         "type": "bar",
         "x": [
          "Cali",
          "Dagua",
          "Jamundí",
          "La Cumbre",
          "Vijes",
          "Yumbo"
         ],
         "xaxis": "x",
         "y": [
          0,
          0,
          0,
          0,
          0,
          0
         ],
         "yaxis": "y"
        }
       ],
       "layout": {
        "barmode": "group",
        "legend": {
         "title": {
          "text": "Año"
         },
         "tracegroupgap": 0
        },
        "template": {
         "data": {
          "bar": [
           {
            "error_x": {
             "color": "#2a3f5f"
            },
            "error_y": {
             "color": "#2a3f5f"
            },
            "marker": {
             "line": {
              "color": "#E5ECF6",
              "width": 0.5
             }
            },
            "type": "bar"
           }
          ],
          "barpolar": [
           {
            "marker": {
             "line": {
              "color": "#E5ECF6",
              "width": 0.5
             }
            },
            "type": "barpolar"
           }
          ],
          "carpet": [
           {
            "aaxis": {
             "endlinecolor": "#2a3f5f",
             "gridcolor": "white",
             "linecolor": "white",
             "minorgridcolor": "white",
             "startlinecolor": "#2a3f5f"
            },
            "baxis": {
             "endlinecolor": "#2a3f5f",
             "gridcolor": "white",
             "linecolor": "white",
             "minorgridcolor": "white",
             "startlinecolor": "#2a3f5f"
            },
            "type": "carpet"
           }
          ],
          "choropleth": [
           {
            "colorbar": {
             "outlinewidth": 0,
             "ticks": ""
            },
            "type": "choropleth"
           }
          ],
          "contour": [
           {
            "colorbar": {
             "outlinewidth": 0,
             "ticks": ""
            },
            "colorscale": [
             [
              0,
              "#0d0887"
             ],
             [
              0.1111111111111111,
              "#46039f"
             ],
             [
              0.2222222222222222,
              "#7201a8"
             ],
             [
              0.3333333333333333,
              "#9c179e"
             ],
             [
              0.4444444444444444,
              "#bd3786"
             ],
             [
              0.5555555555555556,
              "#d8576b"
             ],
             [
              0.6666666666666666,
              "#ed7953"
             ],
             [
              0.7777777777777778,
              "#fb9f3a"
             ],
             [
              0.8888888888888888,
              "#fdca26"
             ],
             [
              1,
              "#f0f921"
             ]
            ],
            "type": "contour"
           }
          ],
          "contourcarpet": [
           {
            "colorbar": {
             "outlinewidth": 0,
             "ticks": ""
            },
            "type": "contourcarpet"
           }
          ],
          "heatmap": [
           {
            "colorbar": {
             "outlinewidth": 0,
             "ticks": ""
            },
            "colorscale": [
             [
              0,
              "#0d0887"
             ],
             [
              0.1111111111111111,
              "#46039f"
             ],
             [
              0.2222222222222222,
              "#7201a8"
             ],
             [
              0.3333333333333333,
              "#9c179e"
             ],
             [
              0.4444444444444444,
              "#bd3786"
             ],
             [
              0.5555555555555556,
              "#d8576b"
             ],
             [
              0.6666666666666666,
              "#ed7953"
             ],
             [
              0.7777777777777778,
              "#fb9f3a"
             ],
             [
              0.8888888888888888,
              "#fdca26"
             ],
             [
              1,
              "#f0f921"
             ]
            ],
            "type": "heatmap"
           }
          ],
          "heatmapgl": [
           {
            "colorbar": {
             "outlinewidth": 0,
             "ticks": ""
            },
            "colorscale": [
             [
              0,
              "#0d0887"
             ],
             [
              0.1111111111111111,
              "#46039f"
             ],
             [
              0.2222222222222222,
              "#7201a8"
             ],
             [
              0.3333333333333333,
              "#9c179e"
             ],
             [
              0.4444444444444444,
              "#bd3786"
             ],
             [
              0.5555555555555556,
              "#d8576b"
             ],
             [
              0.6666666666666666,
              "#ed7953"
             ],
             [
              0.7777777777777778,
              "#fb9f3a"
             ],
             [
              0.8888888888888888,
              "#fdca26"
             ],
             [
              1,
              "#f0f921"
             ]
            ],
            "type": "heatmapgl"
           }
          ],
          "histogram": [
           {
            "marker": {
             "colorbar": {
              "outlinewidth": 0,
              "ticks": ""
             }
            },
            "type": "histogram"
           }
          ],
          "histogram2d": [
           {
            "colorbar": {
             "outlinewidth": 0,
             "ticks": ""
            },
            "colorscale": [
             [
              0,
              "#0d0887"
             ],
             [
              0.1111111111111111,
              "#46039f"
             ],
             [
              0.2222222222222222,
              "#7201a8"
             ],
             [
              0.3333333333333333,
              "#9c179e"
             ],
             [
              0.4444444444444444,
              "#bd3786"
             ],
             [
              0.5555555555555556,
              "#d8576b"
             ],
             [
              0.6666666666666666,
              "#ed7953"
             ],
             [
              0.7777777777777778,
              "#fb9f3a"
             ],
             [
              0.8888888888888888,
              "#fdca26"
             ],
             [
              1,
              "#f0f921"
             ]
            ],
            "type": "histogram2d"
           }
          ],
          "histogram2dcontour": [
           {
            "colorbar": {
             "outlinewidth": 0,
             "ticks": ""
            },
            "colorscale": [
             [
              0,
              "#0d0887"
             ],
             [
              0.1111111111111111,
              "#46039f"
             ],
             [
              0.2222222222222222,
              "#7201a8"
             ],
             [
              0.3333333333333333,
              "#9c179e"
             ],
             [
              0.4444444444444444,
              "#bd3786"
             ],
             [
              0.5555555555555556,
              "#d8576b"
             ],
             [
              0.6666666666666666,
              "#ed7953"
             ],
             [
              0.7777777777777778,
              "#fb9f3a"
             ],
             [
              0.8888888888888888,
              "#fdca26"
             ],
             [
              1,
              "#f0f921"
             ]
            ],
            "type": "histogram2dcontour"
           }
          ],
          "mesh3d": [
           {
            "colorbar": {
             "outlinewidth": 0,
             "ticks": ""
            },
            "type": "mesh3d"
           }
          ],
          "parcoords": [
           {
            "line": {
             "colorbar": {
              "outlinewidth": 0,
              "ticks": ""
             }
            },
            "type": "parcoords"
           }
          ],
          "pie": [
           {
            "automargin": true,
            "type": "pie"
           }
          ],
          "scatter": [
           {
            "marker": {
             "colorbar": {
              "outlinewidth": 0,
              "ticks": ""
             }
            },
            "type": "scatter"
           }
          ],
          "scatter3d": [
           {
            "line": {
             "colorbar": {
              "outlinewidth": 0,
              "ticks": ""
             }
            },
            "marker": {
             "colorbar": {
              "outlinewidth": 0,
              "ticks": ""
             }
            },
            "type": "scatter3d"
           }
          ],
          "scattercarpet": [
           {
            "marker": {
             "colorbar": {
              "outlinewidth": 0,
              "ticks": ""
             }
            },
            "type": "scattercarpet"
           }
          ],
          "scattergeo": [
           {
            "marker": {
             "colorbar": {
              "outlinewidth": 0,
              "ticks": ""
             }
            },
            "type": "scattergeo"
           }
          ],
          "scattergl": [
           {
            "marker": {
             "colorbar": {
              "outlinewidth": 0,
              "ticks": ""
             }
            },
            "type": "scattergl"
           }
          ],
          "scattermapbox": [
           {
            "marker": {
             "colorbar": {
              "outlinewidth": 0,
              "ticks": ""
             }
            },
            "type": "scattermapbox"
           }
          ],
          "scatterpolar": [
           {
            "marker": {
             "colorbar": {
              "outlinewidth": 0,
              "ticks": ""
             }
            },
            "type": "scatterpolar"
           }
          ],
          "scatterpolargl": [
           {
            "marker": {
             "colorbar": {
              "outlinewidth": 0,
              "ticks": ""
             }
            },
            "type": "scatterpolargl"
           }
          ],
          "scatterternary": [
           {
            "marker": {
             "colorbar": {
              "outlinewidth": 0,
              "ticks": ""
             }
            },
            "type": "scatterternary"
           }
          ],
          "surface": [
           {
            "colorbar": {
             "outlinewidth": 0,
             "ticks": ""
            },
            "colorscale": [
             [
              0,
              "#0d0887"
             ],
             [
              0.1111111111111111,
              "#46039f"
             ],
             [
              0.2222222222222222,
              "#7201a8"
             ],
             [
              0.3333333333333333,
              "#9c179e"
             ],
             [
              0.4444444444444444,
              "#bd3786"
             ],
             [
              0.5555555555555556,
              "#d8576b"
             ],
             [
              0.6666666666666666,
              "#ed7953"
             ],
             [
              0.7777777777777778,
              "#fb9f3a"
             ],
             [
              0.8888888888888888,
              "#fdca26"
             ],
             [
              1,
              "#f0f921"
             ]
            ],
            "type": "surface"
           }
          ],
          "table": [
           {
            "cells": {
             "fill": {
              "color": "#EBF0F8"
             },
             "line": {
              "color": "white"
             }
            },
            "header": {
             "fill": {
              "color": "#C8D4E3"
             },
             "line": {
              "color": "white"
             }
            },
            "type": "table"
           }
          ]
         },
         "layout": {
          "annotationdefaults": {
           "arrowcolor": "#2a3f5f",
           "arrowhead": 0,
           "arrowwidth": 1
          },
          "coloraxis": {
           "colorbar": {
            "outlinewidth": 0,
            "ticks": ""
           }
          },
          "colorscale": {
           "diverging": [
            [
             0,
             "#8e0152"
            ],
            [
             0.1,
             "#c51b7d"
            ],
            [
             0.2,
             "#de77ae"
            ],
            [
             0.3,
             "#f1b6da"
            ],
            [
             0.4,
             "#fde0ef"
            ],
            [
             0.5,
             "#f7f7f7"
            ],
            [
             0.6,
             "#e6f5d0"
            ],
            [
             0.7,
             "#b8e186"
            ],
            [
             0.8,
             "#7fbc41"
            ],
            [
             0.9,
             "#4d9221"
            ],
            [
             1,
             "#276419"
            ]
           ],
           "sequential": [
            [
             0,
             "#0d0887"
            ],
            [
             0.1111111111111111,
             "#46039f"
            ],
            [
             0.2222222222222222,
             "#7201a8"
            ],
            [
             0.3333333333333333,
             "#9c179e"
            ],
            [
             0.4444444444444444,
             "#bd3786"
            ],
            [
             0.5555555555555556,
             "#d8576b"
            ],
            [
             0.6666666666666666,
             "#ed7953"
            ],
            [
             0.7777777777777778,
             "#fb9f3a"
            ],
            [
             0.8888888888888888,
             "#fdca26"
            ],
            [
             1,
             "#f0f921"
            ]
           ],
           "sequentialminus": [
            [
             0,
             "#0d0887"
            ],
            [
             0.1111111111111111,
             "#46039f"
            ],
            [
             0.2222222222222222,
             "#7201a8"
            ],
            [
             0.3333333333333333,
             "#9c179e"
            ],
            [
             0.4444444444444444,
             "#bd3786"
            ],
            [
             0.5555555555555556,
             "#d8576b"
            ],
            [
             0.6666666666666666,
             "#ed7953"
            ],
            [
             0.7777777777777778,
             "#fb9f3a"
            ],
            [
             0.8888888888888888,
             "#fdca26"
            ],
            [
             1,
             "#f0f921"
            ]
           ]
          },
          "colorway": [
           "#636efa",
           "#EF553B",
           "#00cc96",
           "#ab63fa",
           "#FFA15A",
           "#19d3f3",
           "#FF6692",
           "#B6E880",
           "#FF97FF",
           "#FECB52"
          ],
          "font": {
           "color": "#2a3f5f"
          },
          "geo": {
           "bgcolor": "white",
           "lakecolor": "white",
           "landcolor": "#E5ECF6",
           "showlakes": true,
           "showland": true,
           "subunitcolor": "white"
          },
          "hoverlabel": {
           "align": "left"
          },
          "hovermode": "closest",
          "mapbox": {
           "style": "light"
          },
          "paper_bgcolor": "white",
          "plot_bgcolor": "#E5ECF6",
          "polar": {
           "angularaxis": {
            "gridcolor": "white",
            "linecolor": "white",
            "ticks": ""
           },
           "bgcolor": "#E5ECF6",
           "radialaxis": {
            "gridcolor": "white",
            "linecolor": "white",
            "ticks": ""
           }
          },
          "scene": {
           "xaxis": {
            "backgroundcolor": "#E5ECF6",
            "gridcolor": "white",
            "gridwidth": 2,
            "linecolor": "white",
            "showbackground": true,
            "ticks": "",
            "zerolinecolor": "white"
           },
           "yaxis": {
            "backgroundcolor": "#E5ECF6",
            "gridcolor": "white",
            "gridwidth": 2,
            "linecolor": "white",
            "showbackground": true,
            "ticks": "",
            "zerolinecolor": "white"
           },
           "zaxis": {
            "backgroundcolor": "#E5ECF6",
            "gridcolor": "white",
            "gridwidth": 2,
            "linecolor": "white",
            "showbackground": true,
            "ticks": "",
            "zerolinecolor": "white"
           }
          },
          "shapedefaults": {
           "line": {
            "color": "#2a3f5f"
           }
          },
          "ternary": {
           "aaxis": {
            "gridcolor": "white",
            "linecolor": "white",
            "ticks": ""
           },
           "baxis": {
            "gridcolor": "white",
            "linecolor": "white",
            "ticks": ""
           },
           "bgcolor": "#E5ECF6",
           "caxis": {
            "gridcolor": "white",
            "linecolor": "white",
            "ticks": ""
           }
          },
          "title": {
           "x": 0.05
          },
          "xaxis": {
           "automargin": true,
           "gridcolor": "white",
           "linecolor": "white",
           "ticks": "",
           "title": {
            "standoff": 15
           },
           "zerolinecolor": "white",
           "zerolinewidth": 2
          },
          "yaxis": {
           "automargin": true,
           "gridcolor": "white",
           "linecolor": "white",
           "ticks": "",
           "title": {
            "standoff": 15
           },
           "zerolinecolor": "white",
           "zerolinewidth": 2
          }
         }
        },
        "title": {
         "text": "Número de Defunciones No Fetales (indeterminado) 2010-2020"
        },
        "xaxis": {
         "anchor": "y",
         "domain": [
          0,
          1
         ],
         "title": {
          "text": "Municipio_corr"
         }
        },
        "yaxis": {
         "anchor": "x",
         "domain": [
          0,
          1
         ],
         "title": {
          "text": "Indeterminado"
         }
        }
       }
      }
     },
     "metadata": {},
     "output_type": "display_data"
    }
   ],
   "source": [
    "# Se procede a graficar las distribuciones por municipio del número de defunciones fetales 2010-2020\n",
    "\n",
    "fig = px.bar(Defunciones_Nofetales, x=\"Municipio_corr\", y=\"Total\", color=\"Año\", barmode=\"group\", color_discrete_sequence=px.colors.sequential.Plasma_r, title=\"Número de Defunciones No Fetales 2010-2020\") \n",
    "fig2 = px.bar(Defunciones_Nofetales, x=\"Municipio_corr\", y=\"Hombres\", color=\"Año\", barmode=\"group\", color_discrete_sequence=px.colors.sequential.Plasma_r, title=\"Número de Defunciones No Fetales (hombres) 2010-2020\") \n",
    "fig3 = px.bar(Defunciones_Nofetales, x=\"Municipio_corr\", y=\"Mujeres\", color=\"Año\", barmode=\"group\", color_discrete_sequence=px.colors.sequential.Plasma_r, title=\"Número de Defunciones No Fetales (mujeres) 2010-2020\") \n",
    "fig4 = px.bar(Defunciones_Nofetales, x=\"Municipio_corr\", y=\"Indeterminado\", color=\"Año\", barmode=\"group\", color_discrete_sequence=px.colors.sequential.Plasma_r, title=\"Número de Defunciones No Fetales (indeterminado) 2010-2020\") \n",
    "\n",
    "fig.show()\n",
    "fig2.show()\n",
    "fig3.show()\n",
    "fig4.show()"
   ]
  },
  {
   "cell_type": "code",
   "execution_count": null,
   "metadata": {},
   "outputs": [],
   "source": [
    "# Para guardar la base de datos lista para ser tratada en formato Excel\n",
    "\n",
    "Defunciones_Nofetales.to_excel(r'Defunciones_NofetalesVF.xlsx', index = False)"
   ]
  },
  {
   "cell_type": "markdown",
   "metadata": {},
   "source": [
    "<h1>Nacimientos</h1>"
   ]
  },
  {
   "cell_type": "code",
   "execution_count": 2,
   "metadata": {},
   "outputs": [],
   "source": [
    "# Para leer los datos descargados desde el Dane\n",
    "\n",
    "df2010 = pd.read_excel('C://Users/ortiz/Documents/Cursos/SIC_2020/Nacimientos/2010.xls', sheet_name='76', header=11, usecols=\"A:D\")\n",
    "df2011 = pd.read_excel('C://Users/ortiz/Documents/Cursos/SIC_2020/Nacimientos/2011.xls', sheet_name='76', header=11, usecols=\"A:D\")\n",
    "df2012 = pd.read_excel('C://Users/ortiz/Documents/Cursos/SIC_2020/Nacimientos/2012.xls', sheet_name='76', header=11, usecols=\"A:D\")\n",
    "df2013 = pd.read_excel('C://Users/ortiz/Documents/Cursos/SIC_2020/Nacimientos/2013.xls', sheet_name='76', header=11, usecols=\"A:D\")\n",
    "df2014 = pd.read_excel('C://Users/ortiz/Documents/Cursos/SIC_2020/Nacimientos/2014.xls', sheet_name='76', header=11, usecols=\"A:D\")\n",
    "df2015 = pd.read_excel('C://Users/ortiz/Documents/Cursos/SIC_2020/Nacimientos/2015.xls', sheet_name='76', header=11, usecols=\"A:D\")\n",
    "df2016 = pd.read_excel('C://Users/ortiz/Documents/Cursos/SIC_2020/Nacimientos/2016.xls', sheet_name='76', header=11, usecols=\"A:D\")\n",
    "df2017 = pd.read_excel('C://Users/ortiz/Documents/Cursos/SIC_2020/Nacimientos/2017.xls', sheet_name='76', header=13, usecols=\"A:D\")\n",
    "df2018 = pd.read_excel('C://Users/ortiz/Documents/Cursos/SIC_2020/Nacimientos/2018.xls', sheet_name='76', header=12, usecols=\"A:D\")\n",
    "df2019 = pd.read_excel('C://Users/ortiz/Documents/Cursos/SIC_2020/Nacimientos/2019.xls', sheet_name='76', header=12, usecols=\"A:D\")\n",
    "df2020 = pd.read_excel('C://Users/ortiz/Documents/Cursos/SIC_2020/Nacimientos/2020.xls', sheet_name='76', header=12, usecols=\"A:D\")"
   ]
  },
  {
   "cell_type": "code",
   "execution_count": 3,
   "metadata": {},
   "outputs": [],
   "source": [
    "# Se elimnan las útlima filas que no contienen información\n",
    "\n",
    "df2010.drop(df2010.tail(4).index,inplace=True) # drop last n rows\n",
    "df2011.drop(df2011.tail(4).index,inplace=True) # drop last 2 rows\n",
    "df2012.drop(df2012.tail(4).index,inplace=True) # drop last 2 rows\n",
    "df2013.drop(df2013.tail(4).index,inplace=True) # drop last 2 rows\n",
    "df2014.drop(df2014.tail(2).index,inplace=True) # drop last 2 rows\n",
    "df2015.drop(df2015.tail(2).index,inplace=True) # drop last 2 rows\n",
    "df2016.drop(df2016.tail(2).index,inplace=True) # drop last 2 rows\n",
    "df2017.drop(df2017.tail(2).index,inplace=True) # drop last 2 rows\n",
    "df2018.drop(df2018.tail(2).index,inplace=True) # drop last 2 rows\n",
    "df2019.drop(df2019.tail(2).index,inplace=True) # drop last 2 rows\n",
    "df2020.drop(df2020.tail(2).index,inplace=True) # drop last 2 rows"
   ]
  },
  {
   "cell_type": "code",
   "execution_count": 4,
   "metadata": {},
   "outputs": [],
   "source": [
    "# Para renombrar las columnas de interés\n",
    "\n",
    "df2010.rename(columns={'Unnamed: 0': 'Municipio', 'Unnamed: 1': 'Total'}, inplace=True)\n",
    "df2011.rename(columns={'Unnamed: 0': 'Municipio', 'Unnamed: 1': 'Total'}, inplace=True)\n",
    "df2012.rename(columns={'Unnamed: 0': 'Municipio', 'Unnamed: 1': 'Total'}, inplace=True)\n",
    "df2013.rename(columns={'Unnamed: 0': 'Municipio', 'Unnamed: 1': 'Total'}, inplace=True)\n",
    "df2014.rename(columns={'Unnamed: 0': 'Municipio', 'Unnamed: 1': 'Total'}, inplace=True)\n",
    "df2015.rename(columns={'Unnamed: 0': 'Municipio', 'Unnamed: 1': 'Total'}, inplace=True)\n",
    "df2016.rename(columns={'Unnamed: 0': 'Municipio', 'Unnamed: 1': 'Total'}, inplace=True)\n",
    "df2017.rename(columns={'Unnamed: 0': 'Municipio', 'Unnamed: 1': 'Total'}, inplace=True)\n",
    "df2018.rename(columns={'Unnamed: 0': 'Municipio', 'Unnamed: 1': 'Total'}, inplace=True)\n",
    "df2019.rename(columns={'Unnamed: 0': 'Municipio', 'Unnamed: 1': 'Total'}, inplace=True)\n",
    "df2020.rename(columns={'Unnamed: 0': 'Municipio', 'Unnamed: 1': 'Total'}, inplace=True)"
   ]
  },
  {
   "cell_type": "code",
   "execution_count": 5,
   "metadata": {},
   "outputs": [],
   "source": [
    "# Para agregar la columna de año y posteriormente concatenar las bases\n",
    "\n",
    "df2010['Año']='2010'\n",
    "df2011['Año']='2011'\n",
    "df2012['Año']='2012'\n",
    "df2013['Año']='2013'\n",
    "df2014['Año']='2014'\n",
    "df2015['Año']='2015'\n",
    "df2016['Año']='2016'\n",
    "df2017['Año']='2017'\n",
    "df2018['Año']='2018'\n",
    "df2019['Año']='2019'\n",
    "df2020['Año']='2020-II'"
   ]
  },
  {
   "cell_type": "code",
   "execution_count": 6,
   "metadata": {},
   "outputs": [],
   "source": [
    "# Se limpian los nombres de los municipios y se dejan aparte los códigos de los mismo\n",
    "\n",
    "df2010[['Codigo_Municipio','Municipio']] = df2010.Municipio.str.split(' ',n=1,expand=True)\n",
    "df2011[['Codigo_Municipio','Municipio']] = df2011.Municipio.str.split(' ',n=1,expand=True)\n",
    "df2012[['Codigo_Municipio','Municipio']] = df2012.Municipio.str.split(' ',n=1,expand=True)\n",
    "df2013[['Codigo_Municipio','Municipio']] = df2013.Municipio.str.split(' ',n=1,expand=True)\n",
    "df2014[['Codigo_Municipio','Municipio']] = df2014.Municipio.str.split(' ',n=1,expand=True)\n",
    "df2015[['Codigo_Municipio','Municipio']] = df2015.Municipio.str.split(' ',n=1,expand=True)\n",
    "df2016[['Codigo_Municipio','Municipio']] = df2016.Municipio.str.split(' ',n=1,expand=True)\n",
    "df2017[['Codigo_Municipio','Municipio']] = df2017.Municipio.str.split(' ',n=1,expand=True)\n",
    "df2018[['Codigo_Municipio','Municipio']] = df2018.Municipio.str.split(' ',n=1,expand=True)\n",
    "df2019[['Codigo_Municipio','Municipio']] = df2019.Municipio.str.split(' ',n=1,expand=True)\n",
    "df2020[['Codigo_Municipio','Municipio']] = df2020.Municipio.str.split(' ',n=1,expand=True)"
   ]
  },
  {
   "cell_type": "code",
   "execution_count": 7,
   "metadata": {},
   "outputs": [],
   "source": [
    "# Para rellenar el primer mising value que corresponde al nombre del departamento Valle del Cauca\n",
    "\n",
    "df2010=df2010.fillna(value='Valle del Cauca', limit=1)\n",
    "df2011=df2011.fillna(value='Valle del Cauca', limit=1)\n",
    "df2012=df2012.fillna(value='Valle del Cauca', limit=1)\n",
    "df2013=df2013.fillna(value='Valle del Cauca', limit=1)\n",
    "df2014=df2014.fillna(value='Valle del Cauca', limit=1)\n",
    "df2015=df2015.fillna(value='Valle del Cauca', limit=1)\n",
    "df2016=df2016.fillna(value='Valle del Cauca', limit=1)\n",
    "df2017=df2017.fillna(value='Valle del Cauca', limit=1)\n",
    "df2018=df2018.fillna(value='Valle del Cauca', limit=1)\n",
    "df2019=df2019.fillna(value='Valle del Cauca', limit=1)\n",
    "df2020=df2020.fillna(value='Valle del Cauca', limit=1)"
   ]
  },
  {
   "cell_type": "code",
   "execution_count": 8,
   "metadata": {},
   "outputs": [],
   "source": [
    "# Se concatenan la bases de datos \n",
    "\n",
    "frames = [df2010, df2011, df2012, df2013, df2014, df2015, df2016, df2017, df2018, df2019, df2020,]\n",
    "Nacimientos = pd.concat(frames)"
   ]
  },
  {
   "cell_type": "code",
   "execution_count": 9,
   "metadata": {},
   "outputs": [
    {
     "data": {
      "text/plain": [
       "array(['Valle del Cauca', 'Cali', 'Alcalá', 'Andalucía', 'Ansermanuevo',\n",
       "       'Argelia', 'Bolívar', 'Buenaventura', 'Guadalajara de Buga',\n",
       "       'Bugalagrande', 'Caicedonia', 'Calima', 'Candelaria', 'Cartago',\n",
       "       'Dagua', 'El Águila', 'El Cairo', 'El Cerrito', 'El Dovio',\n",
       "       'Florida', 'Ginebra', 'Guacarí', 'Jamundí', 'La Cumbre',\n",
       "       'La Unión', 'La Victoria', 'Obando', 'Palmira', 'Pradera',\n",
       "       'Restrepo', 'Riofrío', 'Roldanillo', 'San Pedro', 'Sevilla',\n",
       "       'Toro', 'Trujillo', 'Tuluá', 'Ulloa', 'Versalles', 'Vijes',\n",
       "       'Yotoco', 'Yumbo', 'Zarzal', 'Sin Información', 'Información'],\n",
       "      dtype=object)"
      ]
     },
     "execution_count": 9,
     "metadata": {},
     "output_type": "execute_result"
    }
   ],
   "source": [
    "Nacimientos['Municipio'].unique()"
   ]
  },
  {
   "cell_type": "code",
   "execution_count": 16,
   "metadata": {},
   "outputs": [],
   "source": [
    "# Se procede a crear el filtro para seleccionar las filas que cumplen la condición de interés en las filas. En este caso se seleccionan los municipios de interés para la jurisdicción de la Cámara de Comercio de Cali\n",
    "filter1 = Nacimientos[\"Municipio\"].isin(['Cali', 'Yumbo', 'Jamundí', 'Dagua', 'La Cumbre', 'Vijes']) \n",
    "  \n",
    "# Se crea la base de datos que cumpla las condiciones dadas\n",
    "Nacimientos=Nacimientos[filter1]"
   ]
  },
  {
   "cell_type": "code",
   "execution_count": 17,
   "metadata": {},
   "outputs": [
    {
     "data": {
      "text/plain": [
       "Municipio\n",
       "Cali         11\n",
       "Dagua        10\n",
       "Jamundí      11\n",
       "La Cumbre    10\n",
       "Vijes        10\n",
       "Yumbo        11\n",
       "Name: Total, dtype: int64"
      ]
     },
     "execution_count": 17,
     "metadata": {},
     "output_type": "execute_result"
    }
   ],
   "source": [
    "Nacimientos.groupby('Municipio')['Total'].nunique()"
   ]
  },
  {
   "cell_type": "code",
   "execution_count": 18,
   "metadata": {},
   "outputs": [
    {
     "data": {
      "application/vnd.plotly.v1+json": {
       "config": {
        "plotlyServerURL": "https://plot.ly"
       },
       "data": [
        {
         "alignmentgroup": "True",
         "hovertemplate": "Año=2010<br>Municipio=%{x}<br>Total=%{y}<extra></extra>",
         "legendgroup": "2010",
         "marker": {
          "color": "rgb(103,0,31)"
         },
         "name": "2010",
         "offsetgroup": "2010",
         "orientation": "v",
         "showlegend": true,
         "textposition": "auto",
         "type": "bar",
         "x": [
          "Cali",
          "Dagua",
          "Jamundí",
          "La Cumbre",
          "Vijes",
          "Yumbo"
         ],
         "xaxis": "x",
         "y": [
          28296,
          458,
          1263,
          138,
          89,
          1215
         ],
         "yaxis": "y"
        },
        {
         "alignmentgroup": "True",
         "hovertemplate": "Año=2011<br>Municipio=%{x}<br>Total=%{y}<extra></extra>",
         "legendgroup": "2011",
         "marker": {
          "color": "rgb(178,24,43)"
         },
         "name": "2011",
         "offsetgroup": "2011",
         "orientation": "v",
         "showlegend": true,
         "textposition": "auto",
         "type": "bar",
         "x": [
          "Cali",
          "Dagua",
          "Jamundí",
          "La Cumbre",
          "Vijes",
          "Yumbo"
         ],
         "xaxis": "x",
         "y": [
          29496,
          461,
          1230,
          115,
          97,
          1057
         ],
         "yaxis": "y"
        },
        {
         "alignmentgroup": "True",
         "hovertemplate": "Año=2012<br>Municipio=%{x}<br>Total=%{y}<extra></extra>",
         "legendgroup": "2012",
         "marker": {
          "color": "rgb(214,96,77)"
         },
         "name": "2012",
         "offsetgroup": "2012",
         "orientation": "v",
         "showlegend": true,
         "textposition": "auto",
         "type": "bar",
         "x": [
          "Cali",
          "Dagua",
          "Jamundí",
          "La Cumbre",
          "Vijes",
          "Yumbo"
         ],
         "xaxis": "x",
         "y": [
          29080,
          459,
          1318,
          109,
          105,
          1100
         ],
         "yaxis": "y"
        },
        {
         "alignmentgroup": "True",
         "hovertemplate": "Año=2013<br>Municipio=%{x}<br>Total=%{y}<extra></extra>",
         "legendgroup": "2013",
         "marker": {
          "color": "rgb(244,165,130)"
         },
         "name": "2013",
         "offsetgroup": "2013",
         "orientation": "v",
         "showlegend": true,
         "textposition": "auto",
         "type": "bar",
         "x": [
          "Cali",
          "Dagua",
          "Jamundí",
          "La Cumbre",
          "Vijes",
          "Yumbo"
         ],
         "xaxis": "x",
         "y": [
          27496,
          470,
          1332,
          118,
          130,
          1161
         ],
         "yaxis": "y"
        },
        {
         "alignmentgroup": "True",
         "hovertemplate": "Año=2014<br>Municipio=%{x}<br>Total=%{y}<extra></extra>",
         "legendgroup": "2014",
         "marker": {
          "color": "rgb(253,219,199)"
         },
         "name": "2014",
         "offsetgroup": "2014",
         "orientation": "v",
         "showlegend": true,
         "textposition": "auto",
         "type": "bar",
         "x": [
          "Cali",
          "Dagua",
          "Jamundí",
          "La Cumbre",
          "Vijes",
          "Yumbo"
         ],
         "xaxis": "x",
         "y": [
          27750,
          440,
          1343,
          100,
          100,
          1119
         ],
         "yaxis": "y"
        },
        {
         "alignmentgroup": "True",
         "hovertemplate": "Año=2015<br>Municipio=%{x}<br>Total=%{y}<extra></extra>",
         "legendgroup": "2015",
         "marker": {
          "color": "rgb(247,247,247)"
         },
         "name": "2015",
         "offsetgroup": "2015",
         "orientation": "v",
         "showlegend": true,
         "textposition": "auto",
         "type": "bar",
         "x": [
          "Cali",
          "Dagua",
          "Jamundí",
          "La Cumbre",
          "Vijes",
          "Yumbo"
         ],
         "xaxis": "x",
         "y": [
          27318,
          427,
          1371,
          115,
          85,
          1116
         ],
         "yaxis": "y"
        },
        {
         "alignmentgroup": "True",
         "hovertemplate": "Año=2016<br>Municipio=%{x}<br>Total=%{y}<extra></extra>",
         "legendgroup": "2016",
         "marker": {
          "color": "rgb(209,229,240)"
         },
         "name": "2016",
         "offsetgroup": "2016",
         "orientation": "v",
         "showlegend": true,
         "textposition": "auto",
         "type": "bar",
         "x": [
          "Cali",
          "Dagua",
          "Jamundí",
          "La Cumbre",
          "Vijes",
          "Yumbo"
         ],
         "xaxis": "x",
         "y": [
          26180,
          454,
          1415,
          137,
          100,
          1122
         ],
         "yaxis": "y"
        },
        {
         "alignmentgroup": "True",
         "hovertemplate": "Año=2017<br>Municipio=%{x}<br>Total=%{y}<extra></extra>",
         "legendgroup": "2017",
         "marker": {
          "color": "rgb(146,197,222)"
         },
         "name": "2017",
         "offsetgroup": "2017",
         "orientation": "v",
         "showlegend": true,
         "textposition": "auto",
         "type": "bar",
         "x": [
          "Cali",
          "Dagua",
          "Jamundí",
          "La Cumbre",
          "Vijes",
          "Yumbo"
         ],
         "xaxis": "x",
         "y": [
          26573,
          458,
          1511,
          108,
          114,
          1077
         ],
         "yaxis": "y"
        },
        {
         "alignmentgroup": "True",
         "hovertemplate": "Año=2018<br>Municipio=%{x}<br>Total=%{y}<extra></extra>",
         "legendgroup": "2018",
         "marker": {
          "color": "rgb(67,147,195)"
         },
         "name": "2018",
         "offsetgroup": "2018",
         "orientation": "v",
         "showlegend": true,
         "textposition": "auto",
         "type": "bar",
         "x": [
          "Cali",
          "Dagua",
          "Jamundí",
          "La Cumbre",
          "Vijes",
          "Yumbo"
         ],
         "xaxis": "x",
         "y": [
          24877,
          408,
          1619,
          87,
          95,
          1099
         ],
         "yaxis": "y"
        },
        {
         "alignmentgroup": "True",
         "hovertemplate": "Año=2019<br>Municipio=%{x}<br>Total=%{y}<extra></extra>",
         "legendgroup": "2019",
         "marker": {
          "color": "rgb(33,102,172)"
         },
         "name": "2019",
         "offsetgroup": "2019",
         "orientation": "v",
         "showlegend": true,
         "textposition": "auto",
         "type": "bar",
         "x": [
          "Cali",
          "Dagua",
          "Jamundí",
          "La Cumbre",
          "Vijes",
          "Yumbo"
         ],
         "xaxis": "x",
         "y": [
          23832,
          376,
          1736,
          103,
          107,
          1086
         ],
         "yaxis": "y"
        },
        {
         "alignmentgroup": "True",
         "hovertemplate": "Año=2020-II<br>Municipio=%{x}<br>Total=%{y}<extra></extra>",
         "legendgroup": "2020-II",
         "marker": {
          "color": "rgb(5,48,97)"
         },
         "name": "2020-II",
         "offsetgroup": "2020-II",
         "orientation": "v",
         "showlegend": true,
         "textposition": "auto",
         "type": "bar",
         "x": [
          "Cali",
          "Dagua",
          "Jamundí",
          "La Cumbre",
          "Vijes",
          "Yumbo"
         ],
         "xaxis": "x",
         "y": [
          5748,
          90,
          434,
          26,
          36,
          293
         ],
         "yaxis": "y"
        }
       ],
       "layout": {
        "barmode": "group",
        "legend": {
         "title": {
          "text": "Año"
         },
         "tracegroupgap": 0
        },
        "template": {
         "data": {
          "bar": [
           {
            "error_x": {
             "color": "#2a3f5f"
            },
            "error_y": {
             "color": "#2a3f5f"
            },
            "marker": {
             "line": {
              "color": "#E5ECF6",
              "width": 0.5
             }
            },
            "type": "bar"
           }
          ],
          "barpolar": [
           {
            "marker": {
             "line": {
              "color": "#E5ECF6",
              "width": 0.5
             }
            },
            "type": "barpolar"
           }
          ],
          "carpet": [
           {
            "aaxis": {
             "endlinecolor": "#2a3f5f",
             "gridcolor": "white",
             "linecolor": "white",
             "minorgridcolor": "white",
             "startlinecolor": "#2a3f5f"
            },
            "baxis": {
             "endlinecolor": "#2a3f5f",
             "gridcolor": "white",
             "linecolor": "white",
             "minorgridcolor": "white",
             "startlinecolor": "#2a3f5f"
            },
            "type": "carpet"
           }
          ],
          "choropleth": [
           {
            "colorbar": {
             "outlinewidth": 0,
             "ticks": ""
            },
            "type": "choropleth"
           }
          ],
          "contour": [
           {
            "colorbar": {
             "outlinewidth": 0,
             "ticks": ""
            },
            "colorscale": [
             [
              0,
              "#0d0887"
             ],
             [
              0.1111111111111111,
              "#46039f"
             ],
             [
              0.2222222222222222,
              "#7201a8"
             ],
             [
              0.3333333333333333,
              "#9c179e"
             ],
             [
              0.4444444444444444,
              "#bd3786"
             ],
             [
              0.5555555555555556,
              "#d8576b"
             ],
             [
              0.6666666666666666,
              "#ed7953"
             ],
             [
              0.7777777777777778,
              "#fb9f3a"
             ],
             [
              0.8888888888888888,
              "#fdca26"
             ],
             [
              1,
              "#f0f921"
             ]
            ],
            "type": "contour"
           }
          ],
          "contourcarpet": [
           {
            "colorbar": {
             "outlinewidth": 0,
             "ticks": ""
            },
            "type": "contourcarpet"
           }
          ],
          "heatmap": [
           {
            "colorbar": {
             "outlinewidth": 0,
             "ticks": ""
            },
            "colorscale": [
             [
              0,
              "#0d0887"
             ],
             [
              0.1111111111111111,
              "#46039f"
             ],
             [
              0.2222222222222222,
              "#7201a8"
             ],
             [
              0.3333333333333333,
              "#9c179e"
             ],
             [
              0.4444444444444444,
              "#bd3786"
             ],
             [
              0.5555555555555556,
              "#d8576b"
             ],
             [
              0.6666666666666666,
              "#ed7953"
             ],
             [
              0.7777777777777778,
              "#fb9f3a"
             ],
             [
              0.8888888888888888,
              "#fdca26"
             ],
             [
              1,
              "#f0f921"
             ]
            ],
            "type": "heatmap"
           }
          ],
          "heatmapgl": [
           {
            "colorbar": {
             "outlinewidth": 0,
             "ticks": ""
            },
            "colorscale": [
             [
              0,
              "#0d0887"
             ],
             [
              0.1111111111111111,
              "#46039f"
             ],
             [
              0.2222222222222222,
              "#7201a8"
             ],
             [
              0.3333333333333333,
              "#9c179e"
             ],
             [
              0.4444444444444444,
              "#bd3786"
             ],
             [
              0.5555555555555556,
              "#d8576b"
             ],
             [
              0.6666666666666666,
              "#ed7953"
             ],
             [
              0.7777777777777778,
              "#fb9f3a"
             ],
             [
              0.8888888888888888,
              "#fdca26"
             ],
             [
              1,
              "#f0f921"
             ]
            ],
            "type": "heatmapgl"
           }
          ],
          "histogram": [
           {
            "marker": {
             "colorbar": {
              "outlinewidth": 0,
              "ticks": ""
             }
            },
            "type": "histogram"
           }
          ],
          "histogram2d": [
           {
            "colorbar": {
             "outlinewidth": 0,
             "ticks": ""
            },
            "colorscale": [
             [
              0,
              "#0d0887"
             ],
             [
              0.1111111111111111,
              "#46039f"
             ],
             [
              0.2222222222222222,
              "#7201a8"
             ],
             [
              0.3333333333333333,
              "#9c179e"
             ],
             [
              0.4444444444444444,
              "#bd3786"
             ],
             [
              0.5555555555555556,
              "#d8576b"
             ],
             [
              0.6666666666666666,
              "#ed7953"
             ],
             [
              0.7777777777777778,
              "#fb9f3a"
             ],
             [
              0.8888888888888888,
              "#fdca26"
             ],
             [
              1,
              "#f0f921"
             ]
            ],
            "type": "histogram2d"
           }
          ],
          "histogram2dcontour": [
           {
            "colorbar": {
             "outlinewidth": 0,
             "ticks": ""
            },
            "colorscale": [
             [
              0,
              "#0d0887"
             ],
             [
              0.1111111111111111,
              "#46039f"
             ],
             [
              0.2222222222222222,
              "#7201a8"
             ],
             [
              0.3333333333333333,
              "#9c179e"
             ],
             [
              0.4444444444444444,
              "#bd3786"
             ],
             [
              0.5555555555555556,
              "#d8576b"
             ],
             [
              0.6666666666666666,
              "#ed7953"
             ],
             [
              0.7777777777777778,
              "#fb9f3a"
             ],
             [
              0.8888888888888888,
              "#fdca26"
             ],
             [
              1,
              "#f0f921"
             ]
            ],
            "type": "histogram2dcontour"
           }
          ],
          "mesh3d": [
           {
            "colorbar": {
             "outlinewidth": 0,
             "ticks": ""
            },
            "type": "mesh3d"
           }
          ],
          "parcoords": [
           {
            "line": {
             "colorbar": {
              "outlinewidth": 0,
              "ticks": ""
             }
            },
            "type": "parcoords"
           }
          ],
          "pie": [
           {
            "automargin": true,
            "type": "pie"
           }
          ],
          "scatter": [
           {
            "marker": {
             "colorbar": {
              "outlinewidth": 0,
              "ticks": ""
             }
            },
            "type": "scatter"
           }
          ],
          "scatter3d": [
           {
            "line": {
             "colorbar": {
              "outlinewidth": 0,
              "ticks": ""
             }
            },
            "marker": {
             "colorbar": {
              "outlinewidth": 0,
              "ticks": ""
             }
            },
            "type": "scatter3d"
           }
          ],
          "scattercarpet": [
           {
            "marker": {
             "colorbar": {
              "outlinewidth": 0,
              "ticks": ""
             }
            },
            "type": "scattercarpet"
           }
          ],
          "scattergeo": [
           {
            "marker": {
             "colorbar": {
              "outlinewidth": 0,
              "ticks": ""
             }
            },
            "type": "scattergeo"
           }
          ],
          "scattergl": [
           {
            "marker": {
             "colorbar": {
              "outlinewidth": 0,
              "ticks": ""
             }
            },
            "type": "scattergl"
           }
          ],
          "scattermapbox": [
           {
            "marker": {
             "colorbar": {
              "outlinewidth": 0,
              "ticks": ""
             }
            },
            "type": "scattermapbox"
           }
          ],
          "scatterpolar": [
           {
            "marker": {
             "colorbar": {
              "outlinewidth": 0,
              "ticks": ""
             }
            },
            "type": "scatterpolar"
           }
          ],
          "scatterpolargl": [
           {
            "marker": {
             "colorbar": {
              "outlinewidth": 0,
              "ticks": ""
             }
            },
            "type": "scatterpolargl"
           }
          ],
          "scatterternary": [
           {
            "marker": {
             "colorbar": {
              "outlinewidth": 0,
              "ticks": ""
             }
            },
            "type": "scatterternary"
           }
          ],
          "surface": [
           {
            "colorbar": {
             "outlinewidth": 0,
             "ticks": ""
            },
            "colorscale": [
             [
              0,
              "#0d0887"
             ],
             [
              0.1111111111111111,
              "#46039f"
             ],
             [
              0.2222222222222222,
              "#7201a8"
             ],
             [
              0.3333333333333333,
              "#9c179e"
             ],
             [
              0.4444444444444444,
              "#bd3786"
             ],
             [
              0.5555555555555556,
              "#d8576b"
             ],
             [
              0.6666666666666666,
              "#ed7953"
             ],
             [
              0.7777777777777778,
              "#fb9f3a"
             ],
             [
              0.8888888888888888,
              "#fdca26"
             ],
             [
              1,
              "#f0f921"
             ]
            ],
            "type": "surface"
           }
          ],
          "table": [
           {
            "cells": {
             "fill": {
              "color": "#EBF0F8"
             },
             "line": {
              "color": "white"
             }
            },
            "header": {
             "fill": {
              "color": "#C8D4E3"
             },
             "line": {
              "color": "white"
             }
            },
            "type": "table"
           }
          ]
         },
         "layout": {
          "annotationdefaults": {
           "arrowcolor": "#2a3f5f",
           "arrowhead": 0,
           "arrowwidth": 1
          },
          "coloraxis": {
           "colorbar": {
            "outlinewidth": 0,
            "ticks": ""
           }
          },
          "colorscale": {
           "diverging": [
            [
             0,
             "#8e0152"
            ],
            [
             0.1,
             "#c51b7d"
            ],
            [
             0.2,
             "#de77ae"
            ],
            [
             0.3,
             "#f1b6da"
            ],
            [
             0.4,
             "#fde0ef"
            ],
            [
             0.5,
             "#f7f7f7"
            ],
            [
             0.6,
             "#e6f5d0"
            ],
            [
             0.7,
             "#b8e186"
            ],
            [
             0.8,
             "#7fbc41"
            ],
            [
             0.9,
             "#4d9221"
            ],
            [
             1,
             "#276419"
            ]
           ],
           "sequential": [
            [
             0,
             "#0d0887"
            ],
            [
             0.1111111111111111,
             "#46039f"
            ],
            [
             0.2222222222222222,
             "#7201a8"
            ],
            [
             0.3333333333333333,
             "#9c179e"
            ],
            [
             0.4444444444444444,
             "#bd3786"
            ],
            [
             0.5555555555555556,
             "#d8576b"
            ],
            [
             0.6666666666666666,
             "#ed7953"
            ],
            [
             0.7777777777777778,
             "#fb9f3a"
            ],
            [
             0.8888888888888888,
             "#fdca26"
            ],
            [
             1,
             "#f0f921"
            ]
           ],
           "sequentialminus": [
            [
             0,
             "#0d0887"
            ],
            [
             0.1111111111111111,
             "#46039f"
            ],
            [
             0.2222222222222222,
             "#7201a8"
            ],
            [
             0.3333333333333333,
             "#9c179e"
            ],
            [
             0.4444444444444444,
             "#bd3786"
            ],
            [
             0.5555555555555556,
             "#d8576b"
            ],
            [
             0.6666666666666666,
             "#ed7953"
            ],
            [
             0.7777777777777778,
             "#fb9f3a"
            ],
            [
             0.8888888888888888,
             "#fdca26"
            ],
            [
             1,
             "#f0f921"
            ]
           ]
          },
          "colorway": [
           "#636efa",
           "#EF553B",
           "#00cc96",
           "#ab63fa",
           "#FFA15A",
           "#19d3f3",
           "#FF6692",
           "#B6E880",
           "#FF97FF",
           "#FECB52"
          ],
          "font": {
           "color": "#2a3f5f"
          },
          "geo": {
           "bgcolor": "white",
           "lakecolor": "white",
           "landcolor": "#E5ECF6",
           "showlakes": true,
           "showland": true,
           "subunitcolor": "white"
          },
          "hoverlabel": {
           "align": "left"
          },
          "hovermode": "closest",
          "mapbox": {
           "style": "light"
          },
          "paper_bgcolor": "white",
          "plot_bgcolor": "#E5ECF6",
          "polar": {
           "angularaxis": {
            "gridcolor": "white",
            "linecolor": "white",
            "ticks": ""
           },
           "bgcolor": "#E5ECF6",
           "radialaxis": {
            "gridcolor": "white",
            "linecolor": "white",
            "ticks": ""
           }
          },
          "scene": {
           "xaxis": {
            "backgroundcolor": "#E5ECF6",
            "gridcolor": "white",
            "gridwidth": 2,
            "linecolor": "white",
            "showbackground": true,
            "ticks": "",
            "zerolinecolor": "white"
           },
           "yaxis": {
            "backgroundcolor": "#E5ECF6",
            "gridcolor": "white",
            "gridwidth": 2,
            "linecolor": "white",
            "showbackground": true,
            "ticks": "",
            "zerolinecolor": "white"
           },
           "zaxis": {
            "backgroundcolor": "#E5ECF6",
            "gridcolor": "white",
            "gridwidth": 2,
            "linecolor": "white",
            "showbackground": true,
            "ticks": "",
            "zerolinecolor": "white"
           }
          },
          "shapedefaults": {
           "line": {
            "color": "#2a3f5f"
           }
          },
          "ternary": {
           "aaxis": {
            "gridcolor": "white",
            "linecolor": "white",
            "ticks": ""
           },
           "baxis": {
            "gridcolor": "white",
            "linecolor": "white",
            "ticks": ""
           },
           "bgcolor": "#E5ECF6",
           "caxis": {
            "gridcolor": "white",
            "linecolor": "white",
            "ticks": ""
           }
          },
          "title": {
           "x": 0.05
          },
          "xaxis": {
           "automargin": true,
           "gridcolor": "white",
           "linecolor": "white",
           "ticks": "",
           "title": {
            "standoff": 15
           },
           "zerolinecolor": "white",
           "zerolinewidth": 2
          },
          "yaxis": {
           "automargin": true,
           "gridcolor": "white",
           "linecolor": "white",
           "ticks": "",
           "title": {
            "standoff": 15
           },
           "zerolinecolor": "white",
           "zerolinewidth": 2
          }
         }
        },
        "title": {
         "text": "Número de Nacimientos 2010-2020"
        },
        "xaxis": {
         "anchor": "y",
         "domain": [
          0,
          1
         ],
         "title": {
          "text": "Municipio"
         }
        },
        "yaxis": {
         "anchor": "x",
         "domain": [
          0,
          1
         ],
         "title": {
          "text": "Total"
         }
        }
       }
      }
     },
     "metadata": {},
     "output_type": "display_data"
    },
    {
     "data": {
      "application/vnd.plotly.v1+json": {
       "config": {
        "plotlyServerURL": "https://plot.ly"
       },
       "data": [
        {
         "alignmentgroup": "True",
         "hovertemplate": "Año=2010<br>Municipio=%{x}<br>Hombres=%{y}<extra></extra>",
         "legendgroup": "2010",
         "marker": {
          "color": "rgb(103,0,31)"
         },
         "name": "2010",
         "offsetgroup": "2010",
         "orientation": "v",
         "showlegend": true,
         "textposition": "auto",
         "type": "bar",
         "x": [
          "Cali",
          "Dagua",
          "Jamundí",
          "La Cumbre",
          "Vijes",
          "Yumbo"
         ],
         "xaxis": "x",
         "y": [
          14689,
          222,
          672,
          67,
          45,
          642
         ],
         "yaxis": "y"
        },
        {
         "alignmentgroup": "True",
         "hovertemplate": "Año=2011<br>Municipio=%{x}<br>Hombres=%{y}<extra></extra>",
         "legendgroup": "2011",
         "marker": {
          "color": "rgb(178,24,43)"
         },
         "name": "2011",
         "offsetgroup": "2011",
         "orientation": "v",
         "showlegend": true,
         "textposition": "auto",
         "type": "bar",
         "x": [
          "Cali",
          "Dagua",
          "Jamundí",
          "La Cumbre",
          "Vijes",
          "Yumbo"
         ],
         "xaxis": "x",
         "y": [
          15150,
          241,
          610,
          65,
          55,
          528
         ],
         "yaxis": "y"
        },
        {
         "alignmentgroup": "True",
         "hovertemplate": "Año=2012<br>Municipio=%{x}<br>Hombres=%{y}<extra></extra>",
         "legendgroup": "2012",
         "marker": {
          "color": "rgb(214,96,77)"
         },
         "name": "2012",
         "offsetgroup": "2012",
         "orientation": "v",
         "showlegend": true,
         "textposition": "auto",
         "type": "bar",
         "x": [
          "Cali",
          "Dagua",
          "Jamundí",
          "La Cumbre",
          "Vijes",
          "Yumbo"
         ],
         "xaxis": "x",
         "y": [
          15062,
          225,
          649,
          54,
          49,
          583
         ],
         "yaxis": "y"
        },
        {
         "alignmentgroup": "True",
         "hovertemplate": "Año=2013<br>Municipio=%{x}<br>Hombres=%{y}<extra></extra>",
         "legendgroup": "2013",
         "marker": {
          "color": "rgb(244,165,130)"
         },
         "name": "2013",
         "offsetgroup": "2013",
         "orientation": "v",
         "showlegend": true,
         "textposition": "auto",
         "type": "bar",
         "x": [
          "Cali",
          "Dagua",
          "Jamundí",
          "La Cumbre",
          "Vijes",
          "Yumbo"
         ],
         "xaxis": "x",
         "y": [
          14009,
          240,
          674,
          63,
          61,
          580
         ],
         "yaxis": "y"
        },
        {
         "alignmentgroup": "True",
         "hovertemplate": "Año=2014<br>Municipio=%{x}<br>Hombres=%{y}<extra></extra>",
         "legendgroup": "2014",
         "marker": {
          "color": "rgb(253,219,199)"
         },
         "name": "2014",
         "offsetgroup": "2014",
         "orientation": "v",
         "showlegend": true,
         "textposition": "auto",
         "type": "bar",
         "x": [
          "Cali",
          "Dagua",
          "Jamundí",
          "La Cumbre",
          "Vijes",
          "Yumbo"
         ],
         "xaxis": "x",
         "y": [
          14229,
          233,
          706,
          47,
          51,
          576
         ],
         "yaxis": "y"
        },
        {
         "alignmentgroup": "True",
         "hovertemplate": "Año=2015<br>Municipio=%{x}<br>Hombres=%{y}<extra></extra>",
         "legendgroup": "2015",
         "marker": {
          "color": "rgb(247,247,247)"
         },
         "name": "2015",
         "offsetgroup": "2015",
         "orientation": "v",
         "showlegend": true,
         "textposition": "auto",
         "type": "bar",
         "x": [
          "Cali",
          "Dagua",
          "Jamundí",
          "La Cumbre",
          "Vijes",
          "Yumbo"
         ],
         "xaxis": "x",
         "y": [
          14042,
          223,
          724,
          61,
          40,
          618
         ],
         "yaxis": "y"
        },
        {
         "alignmentgroup": "True",
         "hovertemplate": "Año=2016<br>Municipio=%{x}<br>Hombres=%{y}<extra></extra>",
         "legendgroup": "2016",
         "marker": {
          "color": "rgb(209,229,240)"
         },
         "name": "2016",
         "offsetgroup": "2016",
         "orientation": "v",
         "showlegend": true,
         "textposition": "auto",
         "type": "bar",
         "x": [
          "Cali",
          "Dagua",
          "Jamundí",
          "La Cumbre",
          "Vijes",
          "Yumbo"
         ],
         "xaxis": "x",
         "y": [
          13505,
          236,
          740,
          75,
          56,
          570
         ],
         "yaxis": "y"
        },
        {
         "alignmentgroup": "True",
         "hovertemplate": "Año=2017<br>Municipio=%{x}<br>Hombres=%{y}<extra></extra>",
         "legendgroup": "2017",
         "marker": {
          "color": "rgb(146,197,222)"
         },
         "name": "2017",
         "offsetgroup": "2017",
         "orientation": "v",
         "showlegend": true,
         "textposition": "auto",
         "type": "bar",
         "x": [
          "Cali",
          "Dagua",
          "Jamundí",
          "La Cumbre",
          "Vijes",
          "Yumbo"
         ],
         "xaxis": "x",
         "y": [
          13713,
          232,
          776,
          55,
          71,
          552
         ],
         "yaxis": "y"
        },
        {
         "alignmentgroup": "True",
         "hovertemplate": "Año=2018<br>Municipio=%{x}<br>Hombres=%{y}<extra></extra>",
         "legendgroup": "2018",
         "marker": {
          "color": "rgb(67,147,195)"
         },
         "name": "2018",
         "offsetgroup": "2018",
         "orientation": "v",
         "showlegend": true,
         "textposition": "auto",
         "type": "bar",
         "x": [
          "Cali",
          "Dagua",
          "Jamundí",
          "La Cumbre",
          "Vijes",
          "Yumbo"
         ],
         "xaxis": "x",
         "y": [
          12660,
          219,
          834,
          48,
          53,
          557
         ],
         "yaxis": "y"
        },
        {
         "alignmentgroup": "True",
         "hovertemplate": "Año=2019<br>Municipio=%{x}<br>Hombres=%{y}<extra></extra>",
         "legendgroup": "2019",
         "marker": {
          "color": "rgb(33,102,172)"
         },
         "name": "2019",
         "offsetgroup": "2019",
         "orientation": "v",
         "showlegend": true,
         "textposition": "auto",
         "type": "bar",
         "x": [
          "Cali",
          "Dagua",
          "Jamundí",
          "La Cumbre",
          "Vijes",
          "Yumbo"
         ],
         "xaxis": "x",
         "y": [
          12249,
          196,
          863,
          59,
          56,
          583
         ],
         "yaxis": "y"
        },
        {
         "alignmentgroup": "True",
         "hovertemplate": "Año=2020-II<br>Municipio=%{x}<br>Hombres=%{y}<extra></extra>",
         "legendgroup": "2020-II",
         "marker": {
          "color": "rgb(5,48,97)"
         },
         "name": "2020-II",
         "offsetgroup": "2020-II",
         "orientation": "v",
         "showlegend": true,
         "textposition": "auto",
         "type": "bar",
         "x": [
          "Cali",
          "Dagua",
          "Jamundí",
          "La Cumbre",
          "Vijes",
          "Yumbo"
         ],
         "xaxis": "x",
         "y": [
          2924,
          46,
          214,
          14,
          18,
          148
         ],
         "yaxis": "y"
        }
       ],
       "layout": {
        "barmode": "group",
        "legend": {
         "title": {
          "text": "Año"
         },
         "tracegroupgap": 0
        },
        "template": {
         "data": {
          "bar": [
           {
            "error_x": {
             "color": "#2a3f5f"
            },
            "error_y": {
             "color": "#2a3f5f"
            },
            "marker": {
             "line": {
              "color": "#E5ECF6",
              "width": 0.5
             }
            },
            "type": "bar"
           }
          ],
          "barpolar": [
           {
            "marker": {
             "line": {
              "color": "#E5ECF6",
              "width": 0.5
             }
            },
            "type": "barpolar"
           }
          ],
          "carpet": [
           {
            "aaxis": {
             "endlinecolor": "#2a3f5f",
             "gridcolor": "white",
             "linecolor": "white",
             "minorgridcolor": "white",
             "startlinecolor": "#2a3f5f"
            },
            "baxis": {
             "endlinecolor": "#2a3f5f",
             "gridcolor": "white",
             "linecolor": "white",
             "minorgridcolor": "white",
             "startlinecolor": "#2a3f5f"
            },
            "type": "carpet"
           }
          ],
          "choropleth": [
           {
            "colorbar": {
             "outlinewidth": 0,
             "ticks": ""
            },
            "type": "choropleth"
           }
          ],
          "contour": [
           {
            "colorbar": {
             "outlinewidth": 0,
             "ticks": ""
            },
            "colorscale": [
             [
              0,
              "#0d0887"
             ],
             [
              0.1111111111111111,
              "#46039f"
             ],
             [
              0.2222222222222222,
              "#7201a8"
             ],
             [
              0.3333333333333333,
              "#9c179e"
             ],
             [
              0.4444444444444444,
              "#bd3786"
             ],
             [
              0.5555555555555556,
              "#d8576b"
             ],
             [
              0.6666666666666666,
              "#ed7953"
             ],
             [
              0.7777777777777778,
              "#fb9f3a"
             ],
             [
              0.8888888888888888,
              "#fdca26"
             ],
             [
              1,
              "#f0f921"
             ]
            ],
            "type": "contour"
           }
          ],
          "contourcarpet": [
           {
            "colorbar": {
             "outlinewidth": 0,
             "ticks": ""
            },
            "type": "contourcarpet"
           }
          ],
          "heatmap": [
           {
            "colorbar": {
             "outlinewidth": 0,
             "ticks": ""
            },
            "colorscale": [
             [
              0,
              "#0d0887"
             ],
             [
              0.1111111111111111,
              "#46039f"
             ],
             [
              0.2222222222222222,
              "#7201a8"
             ],
             [
              0.3333333333333333,
              "#9c179e"
             ],
             [
              0.4444444444444444,
              "#bd3786"
             ],
             [
              0.5555555555555556,
              "#d8576b"
             ],
             [
              0.6666666666666666,
              "#ed7953"
             ],
             [
              0.7777777777777778,
              "#fb9f3a"
             ],
             [
              0.8888888888888888,
              "#fdca26"
             ],
             [
              1,
              "#f0f921"
             ]
            ],
            "type": "heatmap"
           }
          ],
          "heatmapgl": [
           {
            "colorbar": {
             "outlinewidth": 0,
             "ticks": ""
            },
            "colorscale": [
             [
              0,
              "#0d0887"
             ],
             [
              0.1111111111111111,
              "#46039f"
             ],
             [
              0.2222222222222222,
              "#7201a8"
             ],
             [
              0.3333333333333333,
              "#9c179e"
             ],
             [
              0.4444444444444444,
              "#bd3786"
             ],
             [
              0.5555555555555556,
              "#d8576b"
             ],
             [
              0.6666666666666666,
              "#ed7953"
             ],
             [
              0.7777777777777778,
              "#fb9f3a"
             ],
             [
              0.8888888888888888,
              "#fdca26"
             ],
             [
              1,
              "#f0f921"
             ]
            ],
            "type": "heatmapgl"
           }
          ],
          "histogram": [
           {
            "marker": {
             "colorbar": {
              "outlinewidth": 0,
              "ticks": ""
             }
            },
            "type": "histogram"
           }
          ],
          "histogram2d": [
           {
            "colorbar": {
             "outlinewidth": 0,
             "ticks": ""
            },
            "colorscale": [
             [
              0,
              "#0d0887"
             ],
             [
              0.1111111111111111,
              "#46039f"
             ],
             [
              0.2222222222222222,
              "#7201a8"
             ],
             [
              0.3333333333333333,
              "#9c179e"
             ],
             [
              0.4444444444444444,
              "#bd3786"
             ],
             [
              0.5555555555555556,
              "#d8576b"
             ],
             [
              0.6666666666666666,
              "#ed7953"
             ],
             [
              0.7777777777777778,
              "#fb9f3a"
             ],
             [
              0.8888888888888888,
              "#fdca26"
             ],
             [
              1,
              "#f0f921"
             ]
            ],
            "type": "histogram2d"
           }
          ],
          "histogram2dcontour": [
           {
            "colorbar": {
             "outlinewidth": 0,
             "ticks": ""
            },
            "colorscale": [
             [
              0,
              "#0d0887"
             ],
             [
              0.1111111111111111,
              "#46039f"
             ],
             [
              0.2222222222222222,
              "#7201a8"
             ],
             [
              0.3333333333333333,
              "#9c179e"
             ],
             [
              0.4444444444444444,
              "#bd3786"
             ],
             [
              0.5555555555555556,
              "#d8576b"
             ],
             [
              0.6666666666666666,
              "#ed7953"
             ],
             [
              0.7777777777777778,
              "#fb9f3a"
             ],
             [
              0.8888888888888888,
              "#fdca26"
             ],
             [
              1,
              "#f0f921"
             ]
            ],
            "type": "histogram2dcontour"
           }
          ],
          "mesh3d": [
           {
            "colorbar": {
             "outlinewidth": 0,
             "ticks": ""
            },
            "type": "mesh3d"
           }
          ],
          "parcoords": [
           {
            "line": {
             "colorbar": {
              "outlinewidth": 0,
              "ticks": ""
             }
            },
            "type": "parcoords"
           }
          ],
          "pie": [
           {
            "automargin": true,
            "type": "pie"
           }
          ],
          "scatter": [
           {
            "marker": {
             "colorbar": {
              "outlinewidth": 0,
              "ticks": ""
             }
            },
            "type": "scatter"
           }
          ],
          "scatter3d": [
           {
            "line": {
             "colorbar": {
              "outlinewidth": 0,
              "ticks": ""
             }
            },
            "marker": {
             "colorbar": {
              "outlinewidth": 0,
              "ticks": ""
             }
            },
            "type": "scatter3d"
           }
          ],
          "scattercarpet": [
           {
            "marker": {
             "colorbar": {
              "outlinewidth": 0,
              "ticks": ""
             }
            },
            "type": "scattercarpet"
           }
          ],
          "scattergeo": [
           {
            "marker": {
             "colorbar": {
              "outlinewidth": 0,
              "ticks": ""
             }
            },
            "type": "scattergeo"
           }
          ],
          "scattergl": [
           {
            "marker": {
             "colorbar": {
              "outlinewidth": 0,
              "ticks": ""
             }
            },
            "type": "scattergl"
           }
          ],
          "scattermapbox": [
           {
            "marker": {
             "colorbar": {
              "outlinewidth": 0,
              "ticks": ""
             }
            },
            "type": "scattermapbox"
           }
          ],
          "scatterpolar": [
           {
            "marker": {
             "colorbar": {
              "outlinewidth": 0,
              "ticks": ""
             }
            },
            "type": "scatterpolar"
           }
          ],
          "scatterpolargl": [
           {
            "marker": {
             "colorbar": {
              "outlinewidth": 0,
              "ticks": ""
             }
            },
            "type": "scatterpolargl"
           }
          ],
          "scatterternary": [
           {
            "marker": {
             "colorbar": {
              "outlinewidth": 0,
              "ticks": ""
             }
            },
            "type": "scatterternary"
           }
          ],
          "surface": [
           {
            "colorbar": {
             "outlinewidth": 0,
             "ticks": ""
            },
            "colorscale": [
             [
              0,
              "#0d0887"
             ],
             [
              0.1111111111111111,
              "#46039f"
             ],
             [
              0.2222222222222222,
              "#7201a8"
             ],
             [
              0.3333333333333333,
              "#9c179e"
             ],
             [
              0.4444444444444444,
              "#bd3786"
             ],
             [
              0.5555555555555556,
              "#d8576b"
             ],
             [
              0.6666666666666666,
              "#ed7953"
             ],
             [
              0.7777777777777778,
              "#fb9f3a"
             ],
             [
              0.8888888888888888,
              "#fdca26"
             ],
             [
              1,
              "#f0f921"
             ]
            ],
            "type": "surface"
           }
          ],
          "table": [
           {
            "cells": {
             "fill": {
              "color": "#EBF0F8"
             },
             "line": {
              "color": "white"
             }
            },
            "header": {
             "fill": {
              "color": "#C8D4E3"
             },
             "line": {
              "color": "white"
             }
            },
            "type": "table"
           }
          ]
         },
         "layout": {
          "annotationdefaults": {
           "arrowcolor": "#2a3f5f",
           "arrowhead": 0,
           "arrowwidth": 1
          },
          "coloraxis": {
           "colorbar": {
            "outlinewidth": 0,
            "ticks": ""
           }
          },
          "colorscale": {
           "diverging": [
            [
             0,
             "#8e0152"
            ],
            [
             0.1,
             "#c51b7d"
            ],
            [
             0.2,
             "#de77ae"
            ],
            [
             0.3,
             "#f1b6da"
            ],
            [
             0.4,
             "#fde0ef"
            ],
            [
             0.5,
             "#f7f7f7"
            ],
            [
             0.6,
             "#e6f5d0"
            ],
            [
             0.7,
             "#b8e186"
            ],
            [
             0.8,
             "#7fbc41"
            ],
            [
             0.9,
             "#4d9221"
            ],
            [
             1,
             "#276419"
            ]
           ],
           "sequential": [
            [
             0,
             "#0d0887"
            ],
            [
             0.1111111111111111,
             "#46039f"
            ],
            [
             0.2222222222222222,
             "#7201a8"
            ],
            [
             0.3333333333333333,
             "#9c179e"
            ],
            [
             0.4444444444444444,
             "#bd3786"
            ],
            [
             0.5555555555555556,
             "#d8576b"
            ],
            [
             0.6666666666666666,
             "#ed7953"
            ],
            [
             0.7777777777777778,
             "#fb9f3a"
            ],
            [
             0.8888888888888888,
             "#fdca26"
            ],
            [
             1,
             "#f0f921"
            ]
           ],
           "sequentialminus": [
            [
             0,
             "#0d0887"
            ],
            [
             0.1111111111111111,
             "#46039f"
            ],
            [
             0.2222222222222222,
             "#7201a8"
            ],
            [
             0.3333333333333333,
             "#9c179e"
            ],
            [
             0.4444444444444444,
             "#bd3786"
            ],
            [
             0.5555555555555556,
             "#d8576b"
            ],
            [
             0.6666666666666666,
             "#ed7953"
            ],
            [
             0.7777777777777778,
             "#fb9f3a"
            ],
            [
             0.8888888888888888,
             "#fdca26"
            ],
            [
             1,
             "#f0f921"
            ]
           ]
          },
          "colorway": [
           "#636efa",
           "#EF553B",
           "#00cc96",
           "#ab63fa",
           "#FFA15A",
           "#19d3f3",
           "#FF6692",
           "#B6E880",
           "#FF97FF",
           "#FECB52"
          ],
          "font": {
           "color": "#2a3f5f"
          },
          "geo": {
           "bgcolor": "white",
           "lakecolor": "white",
           "landcolor": "#E5ECF6",
           "showlakes": true,
           "showland": true,
           "subunitcolor": "white"
          },
          "hoverlabel": {
           "align": "left"
          },
          "hovermode": "closest",
          "mapbox": {
           "style": "light"
          },
          "paper_bgcolor": "white",
          "plot_bgcolor": "#E5ECF6",
          "polar": {
           "angularaxis": {
            "gridcolor": "white",
            "linecolor": "white",
            "ticks": ""
           },
           "bgcolor": "#E5ECF6",
           "radialaxis": {
            "gridcolor": "white",
            "linecolor": "white",
            "ticks": ""
           }
          },
          "scene": {
           "xaxis": {
            "backgroundcolor": "#E5ECF6",
            "gridcolor": "white",
            "gridwidth": 2,
            "linecolor": "white",
            "showbackground": true,
            "ticks": "",
            "zerolinecolor": "white"
           },
           "yaxis": {
            "backgroundcolor": "#E5ECF6",
            "gridcolor": "white",
            "gridwidth": 2,
            "linecolor": "white",
            "showbackground": true,
            "ticks": "",
            "zerolinecolor": "white"
           },
           "zaxis": {
            "backgroundcolor": "#E5ECF6",
            "gridcolor": "white",
            "gridwidth": 2,
            "linecolor": "white",
            "showbackground": true,
            "ticks": "",
            "zerolinecolor": "white"
           }
          },
          "shapedefaults": {
           "line": {
            "color": "#2a3f5f"
           }
          },
          "ternary": {
           "aaxis": {
            "gridcolor": "white",
            "linecolor": "white",
            "ticks": ""
           },
           "baxis": {
            "gridcolor": "white",
            "linecolor": "white",
            "ticks": ""
           },
           "bgcolor": "#E5ECF6",
           "caxis": {
            "gridcolor": "white",
            "linecolor": "white",
            "ticks": ""
           }
          },
          "title": {
           "x": 0.05
          },
          "xaxis": {
           "automargin": true,
           "gridcolor": "white",
           "linecolor": "white",
           "ticks": "",
           "title": {
            "standoff": 15
           },
           "zerolinecolor": "white",
           "zerolinewidth": 2
          },
          "yaxis": {
           "automargin": true,
           "gridcolor": "white",
           "linecolor": "white",
           "ticks": "",
           "title": {
            "standoff": 15
           },
           "zerolinecolor": "white",
           "zerolinewidth": 2
          }
         }
        },
        "title": {
         "text": "Número de Nacimientos (hombres) 2010-2020"
        },
        "xaxis": {
         "anchor": "y",
         "domain": [
          0,
          1
         ],
         "title": {
          "text": "Municipio"
         }
        },
        "yaxis": {
         "anchor": "x",
         "domain": [
          0,
          1
         ],
         "title": {
          "text": "Hombres"
         }
        }
       }
      }
     },
     "metadata": {},
     "output_type": "display_data"
    },
    {
     "data": {
      "application/vnd.plotly.v1+json": {
       "config": {
        "plotlyServerURL": "https://plot.ly"
       },
       "data": [
        {
         "alignmentgroup": "True",
         "hovertemplate": "Año=2010<br>Municipio=%{x}<br>Mujeres=%{y}<extra></extra>",
         "legendgroup": "2010",
         "marker": {
          "color": "rgb(103,0,31)"
         },
         "name": "2010",
         "offsetgroup": "2010",
         "orientation": "v",
         "showlegend": true,
         "textposition": "auto",
         "type": "bar",
         "x": [
          "Cali",
          "Dagua",
          "Jamundí",
          "La Cumbre",
          "Vijes",
          "Yumbo"
         ],
         "xaxis": "x",
         "y": [
          13607,
          236,
          591,
          71,
          44,
          573
         ],
         "yaxis": "y"
        },
        {
         "alignmentgroup": "True",
         "hovertemplate": "Año=2011<br>Municipio=%{x}<br>Mujeres=%{y}<extra></extra>",
         "legendgroup": "2011",
         "marker": {
          "color": "rgb(178,24,43)"
         },
         "name": "2011",
         "offsetgroup": "2011",
         "orientation": "v",
         "showlegend": true,
         "textposition": "auto",
         "type": "bar",
         "x": [
          "Cali",
          "Dagua",
          "Jamundí",
          "La Cumbre",
          "Vijes",
          "Yumbo"
         ],
         "xaxis": "x",
         "y": [
          14346,
          220,
          620,
          50,
          42,
          529
         ],
         "yaxis": "y"
        },
        {
         "alignmentgroup": "True",
         "hovertemplate": "Año=2012<br>Municipio=%{x}<br>Mujeres=%{y}<extra></extra>",
         "legendgroup": "2012",
         "marker": {
          "color": "rgb(214,96,77)"
         },
         "name": "2012",
         "offsetgroup": "2012",
         "orientation": "v",
         "showlegend": true,
         "textposition": "auto",
         "type": "bar",
         "x": [
          "Cali",
          "Dagua",
          "Jamundí",
          "La Cumbre",
          "Vijes",
          "Yumbo"
         ],
         "xaxis": "x",
         "y": [
          14018,
          234,
          669,
          55,
          56,
          517
         ],
         "yaxis": "y"
        },
        {
         "alignmentgroup": "True",
         "hovertemplate": "Año=2013<br>Municipio=%{x}<br>Mujeres=%{y}<extra></extra>",
         "legendgroup": "2013",
         "marker": {
          "color": "rgb(244,165,130)"
         },
         "name": "2013",
         "offsetgroup": "2013",
         "orientation": "v",
         "showlegend": true,
         "textposition": "auto",
         "type": "bar",
         "x": [
          "Cali",
          "Dagua",
          "Jamundí",
          "La Cumbre",
          "Vijes",
          "Yumbo"
         ],
         "xaxis": "x",
         "y": [
          13487,
          230,
          658,
          55,
          69,
          581
         ],
         "yaxis": "y"
        },
        {
         "alignmentgroup": "True",
         "hovertemplate": "Año=2014<br>Municipio=%{x}<br>Mujeres=%{y}<extra></extra>",
         "legendgroup": "2014",
         "marker": {
          "color": "rgb(253,219,199)"
         },
         "name": "2014",
         "offsetgroup": "2014",
         "orientation": "v",
         "showlegend": true,
         "textposition": "auto",
         "type": "bar",
         "x": [
          "Cali",
          "Dagua",
          "Jamundí",
          "La Cumbre",
          "Vijes",
          "Yumbo"
         ],
         "xaxis": "x",
         "y": [
          13521,
          207,
          637,
          53,
          49,
          543
         ],
         "yaxis": "y"
        },
        {
         "alignmentgroup": "True",
         "hovertemplate": "Año=2015<br>Municipio=%{x}<br>Mujeres=%{y}<extra></extra>",
         "legendgroup": "2015",
         "marker": {
          "color": "rgb(247,247,247)"
         },
         "name": "2015",
         "offsetgroup": "2015",
         "orientation": "v",
         "showlegend": true,
         "textposition": "auto",
         "type": "bar",
         "x": [
          "Cali",
          "Dagua",
          "Jamundí",
          "La Cumbre",
          "Vijes",
          "Yumbo"
         ],
         "xaxis": "x",
         "y": [
          13276,
          204,
          647,
          54,
          45,
          498
         ],
         "yaxis": "y"
        },
        {
         "alignmentgroup": "True",
         "hovertemplate": "Año=2016<br>Municipio=%{x}<br>Mujeres=%{y}<extra></extra>",
         "legendgroup": "2016",
         "marker": {
          "color": "rgb(209,229,240)"
         },
         "name": "2016",
         "offsetgroup": "2016",
         "orientation": "v",
         "showlegend": true,
         "textposition": "auto",
         "type": "bar",
         "x": [
          "Cali",
          "Dagua",
          "Jamundí",
          "La Cumbre",
          "Vijes",
          "Yumbo"
         ],
         "xaxis": "x",
         "y": [
          12669,
          218,
          675,
          62,
          44,
          552
         ],
         "yaxis": "y"
        },
        {
         "alignmentgroup": "True",
         "hovertemplate": "Año=2017<br>Municipio=%{x}<br>Mujeres=%{y}<extra></extra>",
         "legendgroup": "2017",
         "marker": {
          "color": "rgb(146,197,222)"
         },
         "name": "2017",
         "offsetgroup": "2017",
         "orientation": "v",
         "showlegend": true,
         "textposition": "auto",
         "type": "bar",
         "x": [
          "Cali",
          "Dagua",
          "Jamundí",
          "La Cumbre",
          "Vijes",
          "Yumbo"
         ],
         "xaxis": "x",
         "y": [
          12860,
          226,
          735,
          53,
          43,
          525
         ],
         "yaxis": "y"
        },
        {
         "alignmentgroup": "True",
         "hovertemplate": "Año=2018<br>Municipio=%{x}<br>Mujeres=%{y}<extra></extra>",
         "legendgroup": "2018",
         "marker": {
          "color": "rgb(67,147,195)"
         },
         "name": "2018",
         "offsetgroup": "2018",
         "orientation": "v",
         "showlegend": true,
         "textposition": "auto",
         "type": "bar",
         "x": [
          "Cali",
          "Dagua",
          "Jamundí",
          "La Cumbre",
          "Vijes",
          "Yumbo"
         ],
         "xaxis": "x",
         "y": [
          12213,
          189,
          785,
          39,
          42,
          542
         ],
         "yaxis": "y"
        },
        {
         "alignmentgroup": "True",
         "hovertemplate": "Año=2019<br>Municipio=%{x}<br>Mujeres=%{y}<extra></extra>",
         "legendgroup": "2019",
         "marker": {
          "color": "rgb(33,102,172)"
         },
         "name": "2019",
         "offsetgroup": "2019",
         "orientation": "v",
         "showlegend": true,
         "textposition": "auto",
         "type": "bar",
         "x": [
          "Cali",
          "Dagua",
          "Jamundí",
          "La Cumbre",
          "Vijes",
          "Yumbo"
         ],
         "xaxis": "x",
         "y": [
          11581,
          180,
          873,
          44,
          51,
          503
         ],
         "yaxis": "y"
        },
        {
         "alignmentgroup": "True",
         "hovertemplate": "Año=2020-II<br>Municipio=%{x}<br>Mujeres=%{y}<extra></extra>",
         "legendgroup": "2020-II",
         "marker": {
          "color": "rgb(5,48,97)"
         },
         "name": "2020-II",
         "offsetgroup": "2020-II",
         "orientation": "v",
         "showlegend": true,
         "textposition": "auto",
         "type": "bar",
         "x": [
          "Cali",
          "Dagua",
          "Jamundí",
          "La Cumbre",
          "Vijes",
          "Yumbo"
         ],
         "xaxis": "x",
         "y": [
          2824,
          44,
          220,
          12,
          18,
          145
         ],
         "yaxis": "y"
        }
       ],
       "layout": {
        "barmode": "group",
        "legend": {
         "title": {
          "text": "Año"
         },
         "tracegroupgap": 0
        },
        "template": {
         "data": {
          "bar": [
           {
            "error_x": {
             "color": "#2a3f5f"
            },
            "error_y": {
             "color": "#2a3f5f"
            },
            "marker": {
             "line": {
              "color": "#E5ECF6",
              "width": 0.5
             }
            },
            "type": "bar"
           }
          ],
          "barpolar": [
           {
            "marker": {
             "line": {
              "color": "#E5ECF6",
              "width": 0.5
             }
            },
            "type": "barpolar"
           }
          ],
          "carpet": [
           {
            "aaxis": {
             "endlinecolor": "#2a3f5f",
             "gridcolor": "white",
             "linecolor": "white",
             "minorgridcolor": "white",
             "startlinecolor": "#2a3f5f"
            },
            "baxis": {
             "endlinecolor": "#2a3f5f",
             "gridcolor": "white",
             "linecolor": "white",
             "minorgridcolor": "white",
             "startlinecolor": "#2a3f5f"
            },
            "type": "carpet"
           }
          ],
          "choropleth": [
           {
            "colorbar": {
             "outlinewidth": 0,
             "ticks": ""
            },
            "type": "choropleth"
           }
          ],
          "contour": [
           {
            "colorbar": {
             "outlinewidth": 0,
             "ticks": ""
            },
            "colorscale": [
             [
              0,
              "#0d0887"
             ],
             [
              0.1111111111111111,
              "#46039f"
             ],
             [
              0.2222222222222222,
              "#7201a8"
             ],
             [
              0.3333333333333333,
              "#9c179e"
             ],
             [
              0.4444444444444444,
              "#bd3786"
             ],
             [
              0.5555555555555556,
              "#d8576b"
             ],
             [
              0.6666666666666666,
              "#ed7953"
             ],
             [
              0.7777777777777778,
              "#fb9f3a"
             ],
             [
              0.8888888888888888,
              "#fdca26"
             ],
             [
              1,
              "#f0f921"
             ]
            ],
            "type": "contour"
           }
          ],
          "contourcarpet": [
           {
            "colorbar": {
             "outlinewidth": 0,
             "ticks": ""
            },
            "type": "contourcarpet"
           }
          ],
          "heatmap": [
           {
            "colorbar": {
             "outlinewidth": 0,
             "ticks": ""
            },
            "colorscale": [
             [
              0,
              "#0d0887"
             ],
             [
              0.1111111111111111,
              "#46039f"
             ],
             [
              0.2222222222222222,
              "#7201a8"
             ],
             [
              0.3333333333333333,
              "#9c179e"
             ],
             [
              0.4444444444444444,
              "#bd3786"
             ],
             [
              0.5555555555555556,
              "#d8576b"
             ],
             [
              0.6666666666666666,
              "#ed7953"
             ],
             [
              0.7777777777777778,
              "#fb9f3a"
             ],
             [
              0.8888888888888888,
              "#fdca26"
             ],
             [
              1,
              "#f0f921"
             ]
            ],
            "type": "heatmap"
           }
          ],
          "heatmapgl": [
           {
            "colorbar": {
             "outlinewidth": 0,
             "ticks": ""
            },
            "colorscale": [
             [
              0,
              "#0d0887"
             ],
             [
              0.1111111111111111,
              "#46039f"
             ],
             [
              0.2222222222222222,
              "#7201a8"
             ],
             [
              0.3333333333333333,
              "#9c179e"
             ],
             [
              0.4444444444444444,
              "#bd3786"
             ],
             [
              0.5555555555555556,
              "#d8576b"
             ],
             [
              0.6666666666666666,
              "#ed7953"
             ],
             [
              0.7777777777777778,
              "#fb9f3a"
             ],
             [
              0.8888888888888888,
              "#fdca26"
             ],
             [
              1,
              "#f0f921"
             ]
            ],
            "type": "heatmapgl"
           }
          ],
          "histogram": [
           {
            "marker": {
             "colorbar": {
              "outlinewidth": 0,
              "ticks": ""
             }
            },
            "type": "histogram"
           }
          ],
          "histogram2d": [
           {
            "colorbar": {
             "outlinewidth": 0,
             "ticks": ""
            },
            "colorscale": [
             [
              0,
              "#0d0887"
             ],
             [
              0.1111111111111111,
              "#46039f"
             ],
             [
              0.2222222222222222,
              "#7201a8"
             ],
             [
              0.3333333333333333,
              "#9c179e"
             ],
             [
              0.4444444444444444,
              "#bd3786"
             ],
             [
              0.5555555555555556,
              "#d8576b"
             ],
             [
              0.6666666666666666,
              "#ed7953"
             ],
             [
              0.7777777777777778,
              "#fb9f3a"
             ],
             [
              0.8888888888888888,
              "#fdca26"
             ],
             [
              1,
              "#f0f921"
             ]
            ],
            "type": "histogram2d"
           }
          ],
          "histogram2dcontour": [
           {
            "colorbar": {
             "outlinewidth": 0,
             "ticks": ""
            },
            "colorscale": [
             [
              0,
              "#0d0887"
             ],
             [
              0.1111111111111111,
              "#46039f"
             ],
             [
              0.2222222222222222,
              "#7201a8"
             ],
             [
              0.3333333333333333,
              "#9c179e"
             ],
             [
              0.4444444444444444,
              "#bd3786"
             ],
             [
              0.5555555555555556,
              "#d8576b"
             ],
             [
              0.6666666666666666,
              "#ed7953"
             ],
             [
              0.7777777777777778,
              "#fb9f3a"
             ],
             [
              0.8888888888888888,
              "#fdca26"
             ],
             [
              1,
              "#f0f921"
             ]
            ],
            "type": "histogram2dcontour"
           }
          ],
          "mesh3d": [
           {
            "colorbar": {
             "outlinewidth": 0,
             "ticks": ""
            },
            "type": "mesh3d"
           }
          ],
          "parcoords": [
           {
            "line": {
             "colorbar": {
              "outlinewidth": 0,
              "ticks": ""
             }
            },
            "type": "parcoords"
           }
          ],
          "pie": [
           {
            "automargin": true,
            "type": "pie"
           }
          ],
          "scatter": [
           {
            "marker": {
             "colorbar": {
              "outlinewidth": 0,
              "ticks": ""
             }
            },
            "type": "scatter"
           }
          ],
          "scatter3d": [
           {
            "line": {
             "colorbar": {
              "outlinewidth": 0,
              "ticks": ""
             }
            },
            "marker": {
             "colorbar": {
              "outlinewidth": 0,
              "ticks": ""
             }
            },
            "type": "scatter3d"
           }
          ],
          "scattercarpet": [
           {
            "marker": {
             "colorbar": {
              "outlinewidth": 0,
              "ticks": ""
             }
            },
            "type": "scattercarpet"
           }
          ],
          "scattergeo": [
           {
            "marker": {
             "colorbar": {
              "outlinewidth": 0,
              "ticks": ""
             }
            },
            "type": "scattergeo"
           }
          ],
          "scattergl": [
           {
            "marker": {
             "colorbar": {
              "outlinewidth": 0,
              "ticks": ""
             }
            },
            "type": "scattergl"
           }
          ],
          "scattermapbox": [
           {
            "marker": {
             "colorbar": {
              "outlinewidth": 0,
              "ticks": ""
             }
            },
            "type": "scattermapbox"
           }
          ],
          "scatterpolar": [
           {
            "marker": {
             "colorbar": {
              "outlinewidth": 0,
              "ticks": ""
             }
            },
            "type": "scatterpolar"
           }
          ],
          "scatterpolargl": [
           {
            "marker": {
             "colorbar": {
              "outlinewidth": 0,
              "ticks": ""
             }
            },
            "type": "scatterpolargl"
           }
          ],
          "scatterternary": [
           {
            "marker": {
             "colorbar": {
              "outlinewidth": 0,
              "ticks": ""
             }
            },
            "type": "scatterternary"
           }
          ],
          "surface": [
           {
            "colorbar": {
             "outlinewidth": 0,
             "ticks": ""
            },
            "colorscale": [
             [
              0,
              "#0d0887"
             ],
             [
              0.1111111111111111,
              "#46039f"
             ],
             [
              0.2222222222222222,
              "#7201a8"
             ],
             [
              0.3333333333333333,
              "#9c179e"
             ],
             [
              0.4444444444444444,
              "#bd3786"
             ],
             [
              0.5555555555555556,
              "#d8576b"
             ],
             [
              0.6666666666666666,
              "#ed7953"
             ],
             [
              0.7777777777777778,
              "#fb9f3a"
             ],
             [
              0.8888888888888888,
              "#fdca26"
             ],
             [
              1,
              "#f0f921"
             ]
            ],
            "type": "surface"
           }
          ],
          "table": [
           {
            "cells": {
             "fill": {
              "color": "#EBF0F8"
             },
             "line": {
              "color": "white"
             }
            },
            "header": {
             "fill": {
              "color": "#C8D4E3"
             },
             "line": {
              "color": "white"
             }
            },
            "type": "table"
           }
          ]
         },
         "layout": {
          "annotationdefaults": {
           "arrowcolor": "#2a3f5f",
           "arrowhead": 0,
           "arrowwidth": 1
          },
          "coloraxis": {
           "colorbar": {
            "outlinewidth": 0,
            "ticks": ""
           }
          },
          "colorscale": {
           "diverging": [
            [
             0,
             "#8e0152"
            ],
            [
             0.1,
             "#c51b7d"
            ],
            [
             0.2,
             "#de77ae"
            ],
            [
             0.3,
             "#f1b6da"
            ],
            [
             0.4,
             "#fde0ef"
            ],
            [
             0.5,
             "#f7f7f7"
            ],
            [
             0.6,
             "#e6f5d0"
            ],
            [
             0.7,
             "#b8e186"
            ],
            [
             0.8,
             "#7fbc41"
            ],
            [
             0.9,
             "#4d9221"
            ],
            [
             1,
             "#276419"
            ]
           ],
           "sequential": [
            [
             0,
             "#0d0887"
            ],
            [
             0.1111111111111111,
             "#46039f"
            ],
            [
             0.2222222222222222,
             "#7201a8"
            ],
            [
             0.3333333333333333,
             "#9c179e"
            ],
            [
             0.4444444444444444,
             "#bd3786"
            ],
            [
             0.5555555555555556,
             "#d8576b"
            ],
            [
             0.6666666666666666,
             "#ed7953"
            ],
            [
             0.7777777777777778,
             "#fb9f3a"
            ],
            [
             0.8888888888888888,
             "#fdca26"
            ],
            [
             1,
             "#f0f921"
            ]
           ],
           "sequentialminus": [
            [
             0,
             "#0d0887"
            ],
            [
             0.1111111111111111,
             "#46039f"
            ],
            [
             0.2222222222222222,
             "#7201a8"
            ],
            [
             0.3333333333333333,
             "#9c179e"
            ],
            [
             0.4444444444444444,
             "#bd3786"
            ],
            [
             0.5555555555555556,
             "#d8576b"
            ],
            [
             0.6666666666666666,
             "#ed7953"
            ],
            [
             0.7777777777777778,
             "#fb9f3a"
            ],
            [
             0.8888888888888888,
             "#fdca26"
            ],
            [
             1,
             "#f0f921"
            ]
           ]
          },
          "colorway": [
           "#636efa",
           "#EF553B",
           "#00cc96",
           "#ab63fa",
           "#FFA15A",
           "#19d3f3",
           "#FF6692",
           "#B6E880",
           "#FF97FF",
           "#FECB52"
          ],
          "font": {
           "color": "#2a3f5f"
          },
          "geo": {
           "bgcolor": "white",
           "lakecolor": "white",
           "landcolor": "#E5ECF6",
           "showlakes": true,
           "showland": true,
           "subunitcolor": "white"
          },
          "hoverlabel": {
           "align": "left"
          },
          "hovermode": "closest",
          "mapbox": {
           "style": "light"
          },
          "paper_bgcolor": "white",
          "plot_bgcolor": "#E5ECF6",
          "polar": {
           "angularaxis": {
            "gridcolor": "white",
            "linecolor": "white",
            "ticks": ""
           },
           "bgcolor": "#E5ECF6",
           "radialaxis": {
            "gridcolor": "white",
            "linecolor": "white",
            "ticks": ""
           }
          },
          "scene": {
           "xaxis": {
            "backgroundcolor": "#E5ECF6",
            "gridcolor": "white",
            "gridwidth": 2,
            "linecolor": "white",
            "showbackground": true,
            "ticks": "",
            "zerolinecolor": "white"
           },
           "yaxis": {
            "backgroundcolor": "#E5ECF6",
            "gridcolor": "white",
            "gridwidth": 2,
            "linecolor": "white",
            "showbackground": true,
            "ticks": "",
            "zerolinecolor": "white"
           },
           "zaxis": {
            "backgroundcolor": "#E5ECF6",
            "gridcolor": "white",
            "gridwidth": 2,
            "linecolor": "white",
            "showbackground": true,
            "ticks": "",
            "zerolinecolor": "white"
           }
          },
          "shapedefaults": {
           "line": {
            "color": "#2a3f5f"
           }
          },
          "ternary": {
           "aaxis": {
            "gridcolor": "white",
            "linecolor": "white",
            "ticks": ""
           },
           "baxis": {
            "gridcolor": "white",
            "linecolor": "white",
            "ticks": ""
           },
           "bgcolor": "#E5ECF6",
           "caxis": {
            "gridcolor": "white",
            "linecolor": "white",
            "ticks": ""
           }
          },
          "title": {
           "x": 0.05
          },
          "xaxis": {
           "automargin": true,
           "gridcolor": "white",
           "linecolor": "white",
           "ticks": "",
           "title": {
            "standoff": 15
           },
           "zerolinecolor": "white",
           "zerolinewidth": 2
          },
          "yaxis": {
           "automargin": true,
           "gridcolor": "white",
           "linecolor": "white",
           "ticks": "",
           "title": {
            "standoff": 15
           },
           "zerolinecolor": "white",
           "zerolinewidth": 2
          }
         }
        },
        "title": {
         "text": "Número de Nacimientos (mujeres) 2010-2020"
        },
        "xaxis": {
         "anchor": "y",
         "domain": [
          0,
          1
         ],
         "title": {
          "text": "Municipio"
         }
        },
        "yaxis": {
         "anchor": "x",
         "domain": [
          0,
          1
         ],
         "title": {
          "text": "Mujeres"
         }
        }
       }
      }
     },
     "metadata": {},
     "output_type": "display_data"
    }
   ],
   "source": [
    "# Se procede a graficar las distribuciones por municipio del número de defunciones fetales 2010-2020\n",
    "\n",
    "fig = px.bar(Nacimientos, x=\"Municipio\", y=\"Total\", color=\"Año\", barmode=\"group\", color_discrete_sequence=px.colors.sequential.RdBu, title=\"Número de Nacimientos 2010-2020\") \n",
    "fig2 = px.bar(Nacimientos, x=\"Municipio\", y=\"Hombres\", color=\"Año\", barmode=\"group\", color_discrete_sequence=px.colors.sequential.RdBu, title=\"Número de Nacimientos (hombres) 2010-2020\") \n",
    "fig3 = px.bar(Nacimientos, x=\"Municipio\", y=\"Mujeres\", color=\"Año\", barmode=\"group\", color_discrete_sequence=px.colors.sequential.RdBu, title=\"Número de Nacimientos (mujeres) 2010-2020\") \n",
    "\n",
    "fig.show()\n",
    "fig2.show()\n",
    "fig3.show()"
   ]
  },
  {
   "cell_type": "code",
   "execution_count": 20,
   "metadata": {},
   "outputs": [],
   "source": [
    "# Para guardar la base de datos lista para ser tratada en formato Excel\n",
    "\n",
    "Nacimientos.to_excel(r'NacimientosVF.xlsx', index = False)"
   ]
  },
  {
   "cell_type": "code",
   "execution_count": null,
   "metadata": {},
   "outputs": [],
   "source": []
  }
 ],
 "metadata": {
  "kernelspec": {
   "display_name": "Python 3",
   "language": "python",
   "name": "python3"
  },
  "language_info": {
   "codemirror_mode": {
    "name": "ipython",
    "version": 3
   },
   "file_extension": ".py",
   "mimetype": "text/x-python",
   "name": "python",
   "nbconvert_exporter": "python",
   "pygments_lexer": "ipython3",
   "version": "3.8.3"
  }
 },
 "nbformat": 4,
 "nbformat_minor": 4
}
