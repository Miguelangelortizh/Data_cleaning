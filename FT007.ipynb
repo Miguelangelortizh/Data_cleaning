{
 "cells": [
  {
   "cell_type": "markdown",
   "metadata": {},
   "source": [
    "<h2>FT007 - Inversiones Titulo </h2>\n",
    "<p> En este apartado se trata la base de datos FT007 </p>"
   ]
  },
  {
   "cell_type": "code",
   "execution_count": null,
   "metadata": {},
   "outputs": [],
   "source": [
    "#Cargamos los paquetes que vamos a necesitar\n",
    "import pandas as pd\n",
    "import numpy as np\n",
    "import pyreadstat\n",
    "pd.pandas.set_option('display.max_columns', None)"
   ]
  },
  {
   "cell_type": "code",
   "execution_count": null,
   "metadata": {},
   "outputs": [],
   "source": [
    "# Se carga el FT005 completo desde el archivo .dta\n",
    "FT007 = pd.read_stata('C:/Users/Miguel Angel/Documents/Supersalud/Pagos_EPS_Proveedores/Informe_Pagos/FT007 20202021.dta')"
   ]
  },
  {
   "cell_type": "code",
   "execution_count": null,
   "metadata": {},
   "outputs": [],
   "source": [
    "# Se reemplazan los nombres de las columnas para facilitar el tratamiento\n",
    "FT007.rename(columns={'Nit': 'nit_eps', 'Año': 'ano', 'Periodo': 'mes', 'lineaNegocio': 'linea','fechaCompra': 'fechacompra', 'valorCompra': 'valorcompra'}, inplace=True)"
   ]
  },
  {
   "cell_type": "code",
   "execution_count": null,
   "metadata": {},
   "outputs": [],
   "source": [
    "# Se transforman los datos para su correcta identificación\n",
    "FT007[['nit_eps', 'RazonSocial', 'ano', 'mes', 'linea']] = FT007[['nit_eps', 'RazonSocial', 'ano', 'mes', 'linea']].astype(str)"
   ]
  },
  {
   "cell_type": "code",
   "execution_count": null,
   "metadata": {},
   "outputs": [],
   "source": [
    "# Se filtra la línea de negocio de interés. En este caso corresponde a la línea 1\n",
    "FT007 = FT007.loc[FT007['linea'] == '1']"
   ]
  },
  {
   "cell_type": "code",
   "execution_count": null,
   "metadata": {},
   "outputs": [],
   "source": [
    "# Se separa la fecha para facilitar el análisis\n",
    "FT007[['anocompra','mescompra','diacompra']] =  FT007.fechacompra.str.split('-', n=2, expand=True)"
   ]
  },
  {
   "cell_type": "code",
   "execution_count": null,
   "metadata": {},
   "outputs": [],
   "source": [
    "# Se homogeniza la fecha para posterior tratamiento\n",
    "FT007[['anocompra', 'mescompra']] = FT007[['anocompra', 'mescompra']].astype(float).astype(int).astype(str)"
   ]
  },
  {
   "cell_type": "code",
   "execution_count": null,
   "metadata": {},
   "outputs": [],
   "source": [
    "# Se encuentran las observaciones que cumplen las condiciones\n",
    "FT007 = FT007[\n",
    "    (FT007['anocompra'] == FT007['ano']) &\n",
    "    (FT007['mescompra'] == FT007['mes'])\n",
    "    ]"
   ]
  },
  {
   "cell_type": "code",
   "execution_count": null,
   "metadata": {},
   "outputs": [],
   "source": [
    "# Para hacer la suma de CXP por NIT EPS, tipo de acreedor corregido, NIT proveedor, Mes y Año\n",
    "FT007 = FT007.groupby(['nit_eps', 'anocompra' ,'mescompra']).agg({'valorcompra': 'sum'}).reset_index()"
   ]
  },
  {
   "cell_type": "code",
   "execution_count": null,
   "metadata": {},
   "outputs": [],
   "source": [
    "# Se reemplazan los nombres de las columnas para facilitar el tratamiento\n",
    "FT007.rename(columns={'anocompra': 'ano', 'mescompra': 'mes', 'valorcompra': 'comprames'}, inplace=True)"
   ]
  },
  {
   "cell_type": "code",
   "execution_count": null,
   "metadata": {},
   "outputs": [],
   "source": [
    "# Para guardar la base de datos lista para ser tratada en formato Excel y CSV\n",
    "\n",
    "FT007.to_excel(r'C:/Users/Miguel Angel/Documents/Supersalud/Pagos_EPS_Proveedores/compratitulos_2020_2021.xlsx', index = False)\n",
    "FT007.to_csv(r'C:/Users/Miguel Angel/Documents/Supersalud/Pagos_EPS_Proveedores/compratitulos_2020_2021.csv', index = False, encoding='utf-8-sig')"
   ]
  },
  {
   "cell_type": "code",
   "execution_count": null,
   "metadata": {},
   "outputs": [],
   "source": [
    "# Se eliminan la bases que no se necesitan para liberar espacio en la memoria\n",
    "del [FT007]"
   ]
  }
 ],
 "metadata": {
  "kernelspec": {
   "display_name": "Python 3",
   "language": "python",
   "name": "python3"
  },
  "language_info": {
   "codemirror_mode": {
    "name": "ipython",
    "version": 3
   },
   "file_extension": ".py",
   "mimetype": "text/x-python",
   "name": "python",
   "nbconvert_exporter": "python",
   "pygments_lexer": "ipython3",
   "version": "3.8.5"
  }
 },
 "nbformat": 4,
 "nbformat_minor": 4
}
