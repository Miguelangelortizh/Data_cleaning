{
 "cells": [
  {
   "cell_type": "markdown",
   "metadata": {},
   "source": [
    "<h2>FT004 - Cuentas por Pagar </h2>\r\n",
    "<p> En este apartado se trata la base de datos FT004 </p>"
   ]
  },
  {
   "cell_type": "code",
   "execution_count": null,
   "metadata": {},
   "outputs": [],
   "source": [
    "#Cargamos los paquetes que vamos a necesitar\n",
    "import pandas as pd\n",
    "import numpy as np\n",
    "import pyreadstat\n",
    "pd.pandas.set_option('display.max_columns', None)"
   ]
  },
  {
   "cell_type": "code",
   "execution_count": null,
   "metadata": {},
   "outputs": [],
   "source": [
    "# Se carga el FT005 completo desde el archivo .dta\n",
    "FT004_2021_2021 = pd.read_stata('C:/Users/Miguel Angel/Documents/Supersalud/Pagos_EPS_Proveedores/Informe_Pagos/FT004 20202021.dta')"
   ]
  },
  {
   "cell_type": "code",
   "execution_count": null,
   "metadata": {},
   "outputs": [],
   "source": [
    "# Se carga el FT004 para diciembre de 2019 desde el archivo .dta\n",
    "FT004_2019 = pd.read_stata('C:/Users/Miguel Angel/Documents/Supersalud/Pagos_EPS_Proveedores/Informe_Pagos/FT004 122019.dta')"
   ]
  },
  {
   "cell_type": "code",
   "execution_count": null,
   "metadata": {},
   "outputs": [],
   "source": [
    "# Se concatenan la bases de datos \n",
    "frames = [FT004_2021_2021, FT004_2019]\n",
    "FT004 = pd.concat(frames, ignore_index=True)"
   ]
  },
  {
   "cell_type": "code",
   "execution_count": null,
   "metadata": {},
   "outputs": [],
   "source": [
    "# Se eliminan la bases que no se necesitan para liberar espacio en la memoria\n",
    "del [FT004_2021_2021, FT004_2019, frames]"
   ]
  },
  {
   "cell_type": "code",
   "execution_count": null,
   "metadata": {},
   "outputs": [],
   "source": [
    "# Se reemplazan los nombres de las columnas para facilitar el tratamiento\n",
    "FT004.rename(columns={'Nit': 'nit_eps', 'Año': 'ano', 'Periodo': 'mes', 'lineaNegocio': 'linea','tipoIdAcreedor': 'tipoidacreedor', 'idAcreedor': 'nitproveedor', 'dvAcreedor': 'DVacreedor', 'conceptoAcreencia': 'concepto', 'cxpNoVencidas': 'cxpnovencidas', 'cxpMora30dias': 'cxp30','cxpMora60dias': 'cxp60', 'cxpMora90dias': 'cxp90', 'cxpMora180dias': 'cxp180', 'cxpMora360dias': 'cxp360','cxpMoraMayor360dias': 'cxpmayor360'}, inplace=True)"
   ]
  },
  {
   "cell_type": "code",
   "execution_count": null,
   "metadata": {},
   "outputs": [],
   "source": [
    "# Se transforman los datos para su correcta identificación\n",
    "FT004[['nit_eps', 'RazonSocial', 'ano', 'mes', 'linea', 'tipoidacreedor',\n",
    "       'nitproveedor', 'DVacreedor', 'nombreAcreedor', 'actividadAcreedor',\n",
    "       'concepto', 'medicionPosterior']] = FT004[['nit_eps', 'RazonSocial', 'ano', 'mes', 'linea', 'tipoidacreedor',\n",
    "       'nitproveedor', 'DVacreedor', 'nombreAcreedor', 'actividadAcreedor',\n",
    "       'concepto', 'medicionPosterior']].astype(str)\n",
    "\n",
    "FT004[['cxpnovencidas', 'cxp30', 'cxp60',\n",
    "       'cxp90', 'cxp180', 'cxp360', 'cxpmayor360', 'ajuste', 'saldo']] = FT004[['cxpnovencidas', 'cxp30', 'cxp60',\n",
    "       'cxp90', 'cxp180', 'cxp360', 'cxpmayor360', 'ajuste', 'saldo']].astype(float)"
   ]
  },
  {
   "cell_type": "code",
   "execution_count": null,
   "metadata": {},
   "outputs": [],
   "source": [
    "# Se filtra la línea de negocio de interés. En este caso corresponde a la línea 1\n",
    "FT004 = FT004.loc[FT004['linea'] == '1']"
   ]
  },
  {
   "cell_type": "code",
   "execution_count": null,
   "metadata": {},
   "outputs": [],
   "source": [
    "FT004.columns"
   ]
  },
  {
   "cell_type": "code",
   "execution_count": null,
   "metadata": {},
   "outputs": [],
   "source": [
    "# Se cuenta el número de duplicados para hacer la respectiva corrección del tipo id deudor\n",
    "df_acreedor = FT004.groupby(['nitproveedor', 'nombreAcreedor']).size().reset_index().rename(columns={0:'Conteo_FT04'})"
   ]
  },
  {
   "cell_type": "code",
   "execution_count": null,
   "metadata": {},
   "outputs": [],
   "source": [
    "# Para guardar la base de datos lista para ser tratada en formato Excel y CSV\n",
    "df_acreedor.to_excel(r'C:/Users/Miguel Angel/Documents/Supersalud/Pagos_EPS_Proveedores/df_acreedor_FT004_V2.xlsx', index = False)"
   ]
  },
  {
   "cell_type": "code",
   "execution_count": null,
   "metadata": {},
   "outputs": [],
   "source": []
  },
  {
   "cell_type": "code",
   "execution_count": null,
   "metadata": {},
   "outputs": [],
   "source": [
    "# Se crea la columna Cuentas por Pagar (CXP) sumando las columnas cxpnovencidas, cxp30, cxp60, cxp90, cxp180, cxp360 y cxpmayor360\n",
    "CXP = FT004['cxpnovencidas'] + FT004['cxp30'] + FT004['cxp60'] + FT004['cxp90'] + FT004['cxp180'] + FT004['cxp360'] + FT004['cxpmayor360']\n",
    "FT004['CXP'] = CXP"
   ]
  },
  {
   "cell_type": "code",
   "execution_count": null,
   "metadata": {},
   "outputs": [],
   "source": [
    "# Para hacer la suma de CXC por NIT EPS, tipo de proveedor, NIT proveedor, Mes y Año\n",
    "FT004 = FT004.groupby(['nit_eps', 'tipoidacreedor', 'nitproveedor', 'mes', 'ano']).agg({'CXP': 'sum'}).reset_index()"
   ]
  },
  {
   "cell_type": "code",
   "execution_count": null,
   "metadata": {},
   "outputs": [],
   "source": [
    "# Se comprueba que no haya duplicados cuando se filtra por NIT EPS, tipo de deudor, NIT proveedor, Mes y Año. Para esto se cuenta el número de duplicados\n",
    "duplicadosFT004 = FT004[FT004.duplicated(['nit_eps', 'tipoidacreedor', 'nitproveedor', 'mes', 'ano'], keep='last')]\n",
    "print(\"El número de registros duplicados es:\", duplicadosFT004.nit_eps.count(), sep='\\n')"
   ]
  },
  {
   "cell_type": "code",
   "execution_count": null,
   "metadata": {},
   "outputs": [],
   "source": [
    "# Se carga la base de datos cuenta2.dta para su posterior pega\n",
    "cuentas2 = pd.read_stata('C:/Users/Miguel Angel/Documents/Supersalud/Pagos_EPS_Proveedores/cuentas2.dta')"
   ]
  },
  {
   "cell_type": "code",
   "execution_count": null,
   "metadata": {},
   "outputs": [],
   "source": [
    "# Se tranforma el formato de las columnas del dataframe cuentas2\n",
    "cuentas2[['v2', 'nitproveedor']] = cuentas2[['v2', 'nitproveedor']].astype(str)"
   ]
  },
  {
   "cell_type": "code",
   "execution_count": null,
   "metadata": {},
   "outputs": [],
   "source": [
    "# Se comprueba que no haya duplicados cuando se filtra por Nitproveedor. Para esto se cuenta el número de duplicados\n",
    "duplicados_cuentas2 = cuentas2[cuentas2.duplicated(['nitproveedor'], keep='last')]\n",
    "print(\"El número de registros duplicados es:\", duplicados_cuentas2.nitproveedor.count(), sep='\\n')"
   ]
  },
  {
   "cell_type": "code",
   "execution_count": null,
   "metadata": {},
   "outputs": [],
   "source": [
    "# Se unen las dos bases de datos para obtener la información de FT004 con cuenta2\n",
    "FT004= pd.merge(FT004, cuentas2, how='left', left_on=['nitproveedor'], right_on=['nitproveedor'])"
   ]
  },
  {
   "cell_type": "code",
   "execution_count": null,
   "metadata": {},
   "outputs": [],
   "source": [
    "<p> Esto corresponde a la cuenta del pasivo cuanso se agregan las cuentas por pagar. Por tal motivo se elimna ya que no se pueden identificar los proveedores. </p>"
   ]
  },
  {
   "cell_type": "code",
   "execution_count": null,
   "metadata": {},
   "outputs": [],
   "source": [
    "# Se encuentran las observaciones que cumplen las condiciones\n",
    "df_filtered = FT004[(FT004['tipoidacreedor'] == 'OT') & (FT004['v2'] == 'cuenta')].index"
   ]
  },
  {
   "cell_type": "code",
   "execution_count": null,
   "metadata": {},
   "outputs": [],
   "source": [
    "# Se eliminan las observaciones que cumplen las condiciones anteriore\n",
    "FT004 = FT004.drop(df_filtered)"
   ]
  },
  {
   "cell_type": "code",
   "execution_count": null,
   "metadata": {},
   "outputs": [],
   "source": [
    "# Se genera una nueva columna extrayendo el primer caracter del ID nitproveedor\n",
    "FT004['d1'] = FT004['nitproveedor'].str[:1]"
   ]
  },
  {
   "cell_type": "code",
   "execution_count": null,
   "metadata": {},
   "outputs": [],
   "source": [
    "# Se genera una nueva columna con la cuenta del numero de componentes que tiene el ID nitproveedor\n",
    "FT004['largo'] = FT004.nitproveedor.str.len()"
   ]
  },
  {
   "cell_type": "code",
   "execution_count": null,
   "metadata": {},
   "outputs": [],
   "source": [
    "# Se limpia la clasificación por Tipo de acreedor\n",
    "FT004['tipoidacreedor_corregido'] = FT004['tipoidacreedor'] # Se crea la columna con categoria NA como base\n",
    "# Condiciones\n",
    "FT004.loc[\n",
    "       (FT004['tipoidacreedor_corregido'] == 'NA') &\n",
    "       (FT004['largo'] == 10) & # Para signar el tipo de acreedor CC\n",
    "       (FT004['d1'] == '1'), \n",
    "       'tipoidacreedor_corregido'] = 'CC' \n",
    "FT004.loc[(FT004['tipoidacreedor_corregido'] == 'NA') &\n",
    "       (FT004['largo'] == 9) & # Para signar el tipo de acreedor NI\n",
    "       ((FT004['d1'] == '7') |\n",
    "       (FT004['d1'] == '8') |\n",
    "       (FT004['d1'] == '9')),  \n",
    "       'tipoidacreedor_corregido'] = 'NI' \n",
    "FT004.loc[(FT004['tipoidacreedor_corregido'] == 'NA') &\n",
    "       (FT004['tipoidacreedor_corregido'] != 'NI'), # Para completar el tipo de acreedor CC\n",
    "       'tipoidacreedor_corregido'] = 'CC' "
   ]
  },
  {
   "cell_type": "code",
   "execution_count": null,
   "metadata": {},
   "outputs": [],
   "source": [
    "# Para conocer las diferencias entre las correciones\n",
    "print(FT004.tipoidacreedor.value_counts())\n",
    "print(FT004.tipoidacreedor_corregido.value_counts())"
   ]
  },
  {
   "cell_type": "code",
   "execution_count": null,
   "metadata": {},
   "outputs": [],
   "source": [
    "# Para hacer la suma de CXP por NIT EPS, tipo de acreedor corregido, NIT proveedor, Mes y Año\n",
    "FT004 = FT004.groupby(['nit_eps', 'tipoidacreedor_corregido', 'nitproveedor', 'mes', 'ano']).agg({'CXP': 'sum'}).reset_index()"
   ]
  },
  {
   "cell_type": "code",
   "execution_count": null,
   "metadata": {},
   "outputs": [],
   "source": [
    "# Se reemplazan los nombres de las columnas para facilitar el tratamiento\n",
    "FT004.rename(columns={'tipoidacreedor_corregido': 'tipoidacreedor'}, inplace=True)"
   ]
  },
  {
   "cell_type": "code",
   "execution_count": null,
   "metadata": {},
   "outputs": [],
   "source": [
    "FT004[['ano', 'mes']] = FT004[['ano', 'mes']].astype(int)"
   ]
  },
  {
   "cell_type": "code",
   "execution_count": null,
   "metadata": {},
   "outputs": [],
   "source": [
    "# Se crea el rango de meses necesarios en cada mes\n",
    "fecha_ideal=range(1, 12 + 1)\n",
    "# Se rellena con ceros la información para los meses faltantes\n",
    "FT004 = FT004.set_index('mes').groupby(['nit_eps', 'tipoidacreedor', 'nitproveedor', 'ano']).apply(lambda x: x.reindex(index=fecha_ideal, fill_value=0)).drop(['nit_eps', 'tipoidacreedor', 'nitproveedor', 'ano'], 1).reset_index()"
   ]
  },
  {
   "cell_type": "code",
   "execution_count": null,
   "metadata": {},
   "outputs": [],
   "source": [
    "# Se encuentran las observaciones que cumplen las condiciones\n",
    "df_filtered = FT004[\n",
    "    (FT004['ano'] == 2019) & (FT004['mes'] == 1) |\n",
    "    (FT004['ano'] == 2019) & (FT004['mes'] == 2) |\n",
    "    (FT004['ano'] == 2019) & (FT004['mes'] == 3) |\n",
    "    (FT004['ano'] == 2019) & (FT004['mes'] == 4) |\n",
    "    (FT004['ano'] == 2019) & (FT004['mes'] == 5) |\n",
    "    (FT004['ano'] == 2019) & (FT004['mes'] == 6) |\n",
    "    (FT004['ano'] == 2019) & (FT004['mes'] == 7) |\n",
    "    (FT004['ano'] == 2019) & (FT004['mes'] == 8) |\n",
    "    (FT004['ano'] == 2019) & (FT004['mes'] == 9) |\n",
    "    (FT004['ano'] == 2019) & (FT004['mes'] == 10) |\n",
    "    (FT004['ano'] == 2019) & (FT004['mes'] == 11)\n",
    "    ].index\n",
    "\n",
    "# Se eliminan las observaciones que cumplen las condiciones anteriore\n",
    "FT004 = FT004.drop(df_filtered)"
   ]
  },
  {
   "cell_type": "code",
   "execution_count": null,
   "metadata": {},
   "outputs": [],
   "source": [
    "del [CXP, cuentas2, df_filtered, duplicados_cuentas2, duplicadosFT004, fecha_ideal]"
   ]
  },
  {
   "cell_type": "code",
   "execution_count": null,
   "metadata": {},
   "outputs": [],
   "source": [
    "%%time\n",
    "# Se completan los años y los meses para las observaciones que no presentaron ninguna observación en un año de interés. Por ejemplo, a aquellos sujetos que reportaron cifras en 2019, pero no en 2020, se les completa el año 2020 para poder calcular la diferencia entre diciembre de 2019 y enero de 2020\n",
    "# Se convierte la variable en mes y año\n",
    "FT004[['ano', 'mes']] = FT004[['ano', 'mes']].astype(float)\n",
    "FT004['periodo'] = pd.to_datetime(FT004.ano*10000 + FT004.mes*100 + 1, format='%Y%m%d')\n",
    "fecha_ideal = pd.date_range('12-01-2019','05-01-2021',freq='M')"
   ]
  },
  {
   "cell_type": "code",
   "execution_count": null,
   "metadata": {},
   "outputs": [],
   "source": [
    "FT004_dif = FT004.groupby(['nit_eps', 'tipoidacreedor', 'nitproveedor', pd.Grouper(key='periodo', freq='M')])[['CXP']].sum().reset_index()"
   ]
  },
  {
   "cell_type": "code",
   "execution_count": null,
   "metadata": {},
   "outputs": [],
   "source": [
    "FT004_dif = FT004_dif.set_index('periodo').groupby(['nit_eps', 'tipoidacreedor', 'nitproveedor']).apply(lambda x: x.reindex(index=fecha_ideal, fill_value=0)).drop(['nit_eps', 'tipoidacreedor', 'nitproveedor'], 1).reset_index()"
   ]
  },
  {
   "cell_type": "code",
   "execution_count": null,
   "metadata": {},
   "outputs": [],
   "source": [
    "# Se reemplazan los nombres de las columnas para facilitar el tratamiento\n",
    "FT004_dif.rename(columns={'level_3': 'periodo'}, inplace=True)"
   ]
  },
  {
   "cell_type": "code",
   "execution_count": null,
   "metadata": {},
   "outputs": [],
   "source": [
    "FT004_dif = FT004_dif.set_index(['nit_eps', 'nitproveedor', 'tipoidacreedor', 'periodo'])"
   ]
  },
  {
   "cell_type": "code",
   "execution_count": null,
   "metadata": {},
   "outputs": [],
   "source": [
    "%%time\n",
    "# Se calcula la diferencia mensual para conocer el valor mensual de cada cuenta ya que por defecto vienen agregadas\n",
    "FT004_dif = FT004_dif.diff().fillna(0).reset_index()"
   ]
  },
  {
   "cell_type": "code",
   "execution_count": null,
   "metadata": {},
   "outputs": [],
   "source": [
    "# Se reemplazan los nombres de las columnas para facilitar el tratamiento\n",
    "FT004_dif.rename(columns={'CXP': 'DCXPmes'}, inplace=True)\n",
    "\n",
    "#  Se extrae el mes y el año para porterior left join con el agregado\n",
    "FT004_dif['ano'] = FT004_dif['periodo'].dt.year\n",
    "FT004_dif['mes'] = FT004_dif['periodo'].dt.month\n",
    "\n",
    "#Se transforman las variables a STR para mejorar su manipulación\n",
    "FT004[['ano', 'mes']] = FT004[['ano', 'mes']].astype(int)\n",
    "\n",
    "# Se eliminan las columnas que no son de interés\n",
    "FT004 = FT004.drop(['periodo'], axis=1)\n",
    "FT004_dif = FT004_dif.drop(['periodo'], axis=1)"
   ]
  },
  {
   "cell_type": "code",
   "execution_count": null,
   "metadata": {},
   "outputs": [],
   "source": [
    "# Se unen las dos bases de datos para obtener la información de webgironoupc (Giro Directo - No_UPC - Compra de Cartera) y FT005 en una sola base de datos. Desagregando el valor de VCausado y el VPagado para cada mes\n",
    "FT004 = pd.merge(FT004_dif, FT004, how='left', left_on=['nit_eps', 'tipoidacreedor', 'nitproveedor', 'mes', 'ano'], right_on=['nit_eps', 'tipoidacreedor', 'nitproveedor', 'mes', 'ano'])"
   ]
  },
  {
   "cell_type": "code",
   "execution_count": null,
   "metadata": {},
   "outputs": [],
   "source": [
    "# Se encuentran las observaciones que cumplen las condiciones\n",
    "df_filtered = FT004[\n",
    "    (FT004['ano'] == 2019)\n",
    "    ].index\n",
    "\n",
    "# Se eliminan las observaciones que cumplen las condiciones anteriore\n",
    "FT004 = FT004.drop(df_filtered)"
   ]
  },
  {
   "cell_type": "code",
   "execution_count": null,
   "metadata": {},
   "outputs": [],
   "source": [
    "# Se filtra el dataframe con las observaciones que cumplen las condiciones\n",
    "FT004_V2 = FT004[\n",
    "    (FT004['nitproveedor'] == '800015826')\n",
    "    ]"
   ]
  },
  {
   "cell_type": "code",
   "execution_count": null,
   "metadata": {},
   "outputs": [],
   "source": [
    "del [df_filtered, fecha_ideal]"
   ]
  },
  {
   "cell_type": "code",
   "execution_count": null,
   "metadata": {},
   "outputs": [],
   "source": [
    "# Se carga la base de datos prestadores.dta para su posterior pega\n",
    "prestadores = pd.read_stata('C:/Users/Miguel Angel/Documents/Supersalud/Pagos_EPS_Proveedores/prestadores.dta')"
   ]
  },
  {
   "cell_type": "code",
   "execution_count": null,
   "metadata": {},
   "outputs": [],
   "source": [
    "# Se comprueba que no haya duplicados cuando se filtra por Nitproveedor. Para esto se cuenta el número de duplicados\n",
    "duplicados_prestadores = prestadores[prestadores.duplicated(['nitproveedor'], keep='last')]\n",
    "print(\"El número de registros duplicados es:\", duplicados_prestadores.nitproveedor.count(), sep='\\n')"
   ]
  },
  {
   "cell_type": "code",
   "execution_count": null,
   "metadata": {},
   "outputs": [],
   "source": [
    "# Se unen las dos bases de datos para obtener la información de FT005 con webgironoupc (Giro Directo - No_UPC - Compra de Cartera) y prestadores\n",
    "FT004 = pd.merge(FT004, prestadores, how='left', left_on=['nitproveedor'], right_on=['nitproveedor'])"
   ]
  },
  {
   "cell_type": "code",
   "execution_count": null,
   "metadata": {},
   "outputs": [],
   "source": [
    "# Se carga la base de datos operadores.dta para su posterior pega\n",
    "operadores = pd.read_stata('C:/Users/Miguel Angel/Documents/Supersalud/Pagos_EPS_Proveedores/operadores.dta')"
   ]
  },
  {
   "cell_type": "code",
   "execution_count": null,
   "metadata": {},
   "outputs": [],
   "source": [
    "# Se comprueba que no haya duplicados cuando se filtra por Nitproveedor. Para esto se cuenta el número de duplicados\n",
    "duplicados_operadores = operadores[operadores.duplicated(['nitproveedor'], keep='last')]\n",
    "print(\"El número de registros duplicados es:\", duplicados_operadores.nitproveedor.count(), sep='\\n')"
   ]
  },
  {
   "cell_type": "code",
   "execution_count": null,
   "metadata": {},
   "outputs": [],
   "source": [
    "# Se unen las dos bases de datos para obtener la información de FT005 con webgironoupc (Giro Directo - No_UPC - Compra de Cartera) y prestadores\n",
    "FT004= pd.merge(FT004, operadores, how='left', left_on=['nitproveedor'], right_on=['nitproveedor'])"
   ]
  },
  {
   "cell_type": "code",
   "execution_count": null,
   "metadata": {},
   "outputs": [],
   "source": [
    "# Se filtra el dataframe con las observaciones que cumplen las condiciones\n",
    "FT004_V2 = FT004[\n",
    "    (FT004['nitproveedor'] == '800015826')\n",
    "    ]"
   ]
  },
  {
   "cell_type": "code",
   "execution_count": null,
   "metadata": {},
   "outputs": [],
   "source": [
    "# Se crea la columna noID tomando como referencia la columna clpr_nombre\n",
    "FT004['noID'] = FT004['clpr_nombre'] "
   ]
  },
  {
   "cell_type": "code",
   "execution_count": null,
   "metadata": {},
   "outputs": [],
   "source": [
    "# Se establecen las condiciones para establecer correctamente el noID\n",
    "\n",
    "FT004.loc[(FT004['nit_eps'] == FT004['nitproveedor']), # Se reemplaza por EPS todo aquel proveedor que sea una EPS\n",
    "       'noID'] = 'EPS'\n",
    "\n",
    "FT004.loc[(FT004['nitproveedor'] == '\"901037916\"') | # Se reemplazan los NIT de la nación\n",
    "       (FT004['nitproveedor'] == \"900047282\") |\n",
    "       (FT004['nitproveedor'] == \"899999014\") |\n",
    "       (FT004['nitproveedor'] == \"900474727\") |\n",
    "       (FT004['nitproveedor'] == \"900462447\"),  \n",
    "       'noID'] = 'Nacion' \n",
    "\n",
    "FT004.loc[FT004['noID'].isnull(), 'noID'] = 'Otro' # Para rellenar los vacios con \"Otro\"\n",
    "\n",
    "FT004.loc[(FT004['clpr_nombre'] == 'IPS') & # Para corregir el IPS cuando Tipo es vacío, por IPS-OL-DM-GIM\n",
    "       (FT004['tipo'].notnull()), \n",
    "       'noID'] = 'IPS-OL-DM-GIM'\n",
    "\n",
    "FT004.loc[(FT004['tipo'].notnull()) & # Para dejar el Tipo cuando se tiene OSD u Otro\n",
    "       ((FT004['noID'] == 'OSD') |\n",
    "       (FT004['noID'] == 'Otro')), \n",
    "       'noID'] = FT004['tipo']\n",
    "\n",
    "FT004.loc[(FT004['noID'] == 'Otro') & # Para cambiar el noID por Persona Natural si en Tipo Proveedor se tiene CC y CE\n",
    "       ((FT004['tipoidacreedor'] == 'CC') |\n",
    "       (FT004['tipoidacreedor'] == 'CE')), \n",
    "       'noID'] = 'Persona Natural'\n",
    "\n",
    "FT004.loc[(FT004['departamento'].isnull()) & # Para asignar \"Otro\" al departamento si está vacío y si es una IPS o IPS Pública\n",
    "       ((FT004['noID'] == 'IPS Pública') |\n",
    "       (FT004['noID'] == 'IPS')), \n",
    "       'departamento'] = 'Otro'"
   ]
  },
  {
   "cell_type": "code",
   "execution_count": null,
   "metadata": {},
   "outputs": [],
   "source": [
    "# Se convierte la variable en mes y año\n",
    "FT004[['ano', 'mes']] = FT004[['ano', 'mes']].astype(float).astype(int)"
   ]
  },
  {
   "cell_type": "code",
   "execution_count": null,
   "metadata": {},
   "outputs": [],
   "source": [
    "FT004.columns"
   ]
  },
  {
   "cell_type": "code",
   "execution_count": null,
   "metadata": {},
   "outputs": [],
   "source": [
    "# Se agrega la información por NIT_EPS, Nitproveedor, noID, Departamento, Ano, Mes para las variables VPagado, VCausado, PW, Giro, No_UPC, Compra_Cartera\n",
    "FT004 = FT004.groupby(['nit_eps', 'nitproveedor', 'noID','mes', 'ano']).agg({'CXP':'sum', 'DCXPmes':'sum'}).reset_index()"
   ]
  },
  {
   "cell_type": "code",
   "execution_count": null,
   "metadata": {},
   "outputs": [],
   "source": [
    "# Se filtra el dataframe con las observaciones que cumplen las condiciones\n",
    "FT004_V2 = FT004[\n",
    "    (FT004['nitproveedor'] == '800071599')\n",
    "    ]"
   ]
  },
  {
   "cell_type": "code",
   "execution_count": null,
   "metadata": {},
   "outputs": [],
   "source": [
    "# Para guardar la base de datos lista para ser tratada en formato Excel y CSV\n",
    "\n",
    "# FT004_V2.to_excel(r'C:/Users/Miguel Angel/Documents/Supersalud/Pagos_EPS_Proveedores/carteraprestador_2020_2021.xlsx', index = False)\n",
    "FT004.to_csv(r'C:/Users/Miguel Angel/Documents/Supersalud/Pagos_EPS_Proveedores/carteraprestador_2020_2021_V2.csv', index = False, encoding='utf-8-sig')"
   ]
  },
  {
   "cell_type": "code",
   "execution_count": null,
   "metadata": {},
   "outputs": [],
   "source": [
    "# Se eliminan la bases que no se necesitan para liberar espacio en la memoria\n",
    "del [FT004, FT004_V2, FT004_dif, operadores, prestadores]"
   ]
  }
 ],
 "metadata": {
  "interpreter": {
   "hash": "b3ba2566441a7c06988d0923437866b63cedc61552a5af99d1f4fb67d367b25f"
  },
  "kernelspec": {
   "display_name": "Python 3.8.5 64-bit ('base': conda)",
   "name": "python3"
  },
  "language_info": {
   "name": "python",
   "version": ""
  }
 },
 "nbformat": 4,
 "nbformat_minor": 4
}