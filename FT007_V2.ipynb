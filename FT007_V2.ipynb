{
 "cells": [
  {
   "cell_type": "markdown",
   "source": [
    "<h2>FT007 - Inversiones Titulo </h2>\n",
    "<p> En este apartado se trata la base de datos FT007 </p>"
   ],
   "metadata": {}
  },
  {
   "cell_type": "code",
   "execution_count": 1,
   "source": [
    "#Cargamos los paquetes que vamos a necesitar\r\n",
    "import pandas as pd\r\n",
    "import numpy as np\r\n",
    "import pyreadstat\r\n",
    "pd.pandas.set_option('display.max_columns', None)"
   ],
   "outputs": [],
   "metadata": {}
  },
  {
   "cell_type": "code",
   "execution_count": 2,
   "source": [
    "# Se carga el FT007 completo \r\n",
    "FT007 = pd.read_csv('C:/Users/Miguel Angel/OneDrive - Supersalud/Supersalud/Bases_FT/BD_actualizadas/2_Mas_reciente_25082021/FT007.csv', dtype={'Nit':object, 'Año': object, 'Periodo': object, 'Fecha': object}, encoding='latin-1')"
   ],
   "outputs": [],
   "metadata": {}
  },
  {
   "cell_type": "code",
   "execution_count": 3,
   "source": [
    "# Se genera una nueva columna extrayendo el mes y el año de la variable fecha\r\n",
    "FT007['ano'] = FT007['Fecha'].str[:4]\r\n",
    "FT007['mes'] = FT007['Fecha'].str[4:6]"
   ],
   "outputs": [],
   "metadata": {}
  },
  {
   "cell_type": "code",
   "execution_count": 4,
   "source": [
    "# Se reemplazan los nombres de las columnas para facilitar el tratamiento\r\n",
    "FT007.rename(columns={'Nit': 'nit_eps', 'lineaNegocio': 'linea','fechaCompra': 'fechacompra', 'valorCompra': 'valorcompra'}, inplace=True)"
   ],
   "outputs": [],
   "metadata": {}
  },
  {
   "cell_type": "code",
   "execution_count": 5,
   "source": [
    "# Se transforman los datos para su correcta identificación\r\n",
    "FT007[['nit_eps', 'RazonSocial', 'ano', 'mes', 'linea']] = FT007[['nit_eps', 'RazonSocial', 'ano', 'mes', 'linea']].astype(str)"
   ],
   "outputs": [],
   "metadata": {}
  },
  {
   "cell_type": "code",
   "execution_count": 6,
   "source": [
    "# Se filtra la línea de negocio de interés. En este caso corresponde a la línea 1\r\n",
    "FT007 = FT007.loc[FT007['linea'] == '1']"
   ],
   "outputs": [],
   "metadata": {}
  },
  {
   "cell_type": "code",
   "execution_count": 7,
   "source": [
    "# Se separa la fecha para facilitar el análisis\r\n",
    "FT007[['anocompra','mescompra','diacompra']] =  FT007.fechacompra.str.split('-', n=2, expand=True)"
   ],
   "outputs": [],
   "metadata": {}
  },
  {
   "cell_type": "code",
   "execution_count": 8,
   "source": [
    "# Se homogeniza la fecha para posterior tratamiento\r\n",
    "FT007[['anocompra', 'mescompra']] = FT007[['anocompra', 'mescompra']].astype(float).astype(int).astype(str)"
   ],
   "outputs": [],
   "metadata": {}
  },
  {
   "cell_type": "code",
   "execution_count": 9,
   "source": [
    "# Se encuentran las observaciones que cumplen las condiciones\r\n",
    "FT007 = FT007[\r\n",
    "    (FT007['anocompra'] == FT007['ano']) &\r\n",
    "    (FT007['mescompra'] == FT007['mes'])\r\n",
    "    ]"
   ],
   "outputs": [],
   "metadata": {}
  },
  {
   "cell_type": "code",
   "execution_count": 10,
   "source": [
    "# Para hacer la suma de CXP por NIT EPS, tipo de acreedor corregido, NIT proveedor, Mes y Año\r\n",
    "FT007 = FT007.groupby(['nit_eps', 'anocompra' ,'mescompra']).agg({'valorcompra': 'sum'}).reset_index()"
   ],
   "outputs": [],
   "metadata": {}
  },
  {
   "cell_type": "code",
   "execution_count": 11,
   "source": [
    "# Se reemplazan los nombres de las columnas para facilitar el tratamiento\r\n",
    "FT007.rename(columns={'anocompra': 'ano', 'mescompra': 'mes', 'valorcompra': 'comprames'}, inplace=True)"
   ],
   "outputs": [],
   "metadata": {}
  },
  {
   "cell_type": "code",
   "execution_count": 12,
   "source": [
    "# Para guardar la base de datos lista para ser tratada en formato Excel y CSV\r\n",
    "\r\n",
    "# FT007.to_excel(r'C:/Users/Miguel Angel/Documents/Supersalud/Pagos_EPS_Proveedores/compratitulos_2020_ene_may_2021.xlsx', index = False)\r\n",
    "FT007.to_csv(r'C:/Users/Miguel Angel/Documents/Supersalud/Pagos_EPS_Proveedores/compratitulos_2020_ene_jul_2021.csv', index = False, encoding='utf-8-sig')"
   ],
   "outputs": [],
   "metadata": {}
  },
  {
   "cell_type": "code",
   "execution_count": 13,
   "source": [
    "# Se eliminan la bases que no se necesitan para liberar espacio en la memoria\r\n",
    "del [FT007]"
   ],
   "outputs": [],
   "metadata": {}
  },
  {
   "cell_type": "code",
   "execution_count": null,
   "source": [],
   "outputs": [],
   "metadata": {}
  }
 ],
 "metadata": {
  "interpreter": {
   "hash": "b3ba2566441a7c06988d0923437866b63cedc61552a5af99d1f4fb67d367b25f"
  },
  "kernelspec": {
   "name": "python3",
   "display_name": "Python 3.8.5 64-bit ('base': conda)"
  },
  "language_info": {
   "codemirror_mode": {
    "name": "ipython",
    "version": 3
   },
   "file_extension": ".py",
   "mimetype": "text/x-python",
   "name": "python",
   "nbconvert_exporter": "python",
   "pygments_lexer": "ipython3",
   "version": "3.8.5"
  }
 },
 "nbformat": 4,
 "nbformat_minor": 4
}