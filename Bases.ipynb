#Cargamos los paquetes que vamos a necesitar
import pandas as pd
import numpy as np
from pandas_profiling import ProfileReport

# Visualisation
import matplotlib.pyplot as plt
import seaborn as sns
import plotly.express as px
import plotly.graph_objects as go