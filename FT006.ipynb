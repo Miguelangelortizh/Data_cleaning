{
 "cells": [
  {
   "cell_type": "markdown",
   "metadata": {},
   "source": [
    "<h2>FT006 - Inversiones Depositos a la vista </h2>\r\n",
    "<p> En este apartado se trata la base de datos FT006 </p>"
   ]
  },
  {
   "cell_type": "code",
   "execution_count": null,
   "metadata": {},
   "outputs": [],
   "source": [
    "#Cargamos los paquetes que vamos a necesitar\n",
    "import pandas as pd\n",
    "import numpy as np\n",
    "import pyreadstat\n",
    "pd.pandas.set_option('display.max_columns', None)"
   ]
  },
  {
   "cell_type": "code",
   "execution_count": null,
   "metadata": {},
   "outputs": [],
   "source": [
    "# Se carga el FT006 para 2020 y 2021 completo desde el archivo .dta\n",
    "FT006_2020_2021 = pd.read_stata('C:/Users/Miguel Angel/Documents/Supersalud/Pagos_EPS_Proveedores/Informe_Pagos/FT006 20202021.dta')"
   ]
  },
  {
   "cell_type": "code",
   "execution_count": null,
   "metadata": {},
   "outputs": [],
   "source": [
    "# Se carga el FT006 para para diciembre de 2019 desde el archivo .dta\n",
    "FT006_2019 = pd.read_stata('C:/Users/Miguel Angel/Documents/Supersalud/Pagos_EPS_Proveedores/Informe_Pagos/FT006 122019.dta')"
   ]
  },
  {
   "cell_type": "code",
   "execution_count": null,
   "metadata": {},
   "outputs": [],
   "source": [
    "# Se concatenan la bases de datos \n",
    "frames = [FT006_2020_2021, FT006_2019]\n",
    "FT006 = pd.concat(frames, ignore_index=True)"
   ]
  },
  {
   "cell_type": "code",
   "execution_count": null,
   "metadata": {},
   "outputs": [],
   "source": [
    "# Se eliminan la bases que no se necesitan para liberar espacio en la memoria\n",
    "del [FT006_2020_2021, FT006_2019, frames]"
   ]
  },
  {
   "cell_type": "code",
   "execution_count": null,
   "metadata": {},
   "outputs": [],
   "source": [
    "# Se reemplazan los nombres de las columnas para facilitar el tratamiento\n",
    "FT006.rename(columns={'Nit': 'nit_eps', 'Año': 'ano', 'Periodo': 'mes', 'lineaNegocio': 'linea','claseCuenta': 'clasecuenta', 'saldoExtracto': 'sextracto'}, inplace=True)"
   ]
  },
  {
   "cell_type": "code",
   "execution_count": null,
   "metadata": {},
   "outputs": [],
   "source": [
    "# Se transforman los datos para su correcta identificación\n",
    "FT006[['nit_eps', 'RazonSocial', 'ano', 'mes', 'linea']] = FT006[['nit_eps', 'RazonSocial', 'ano', 'mes', 'linea']].astype(str)"
   ]
  },
  {
   "cell_type": "code",
   "execution_count": null,
   "metadata": {},
   "outputs": [],
   "source": [
    "# Se filtra la línea de negocio de interés. En este caso corresponde a la línea 1\n",
    "FT006 = FT006.loc[FT006['linea'] == '1']"
   ]
  },
  {
   "cell_type": "code",
   "execution_count": null,
   "metadata": {},
   "outputs": [],
   "source": [
    "# Se reemplaza la clase de cuenta\n",
    "FT006.loc[(FT006['clasecuenta'] == 2), \n",
    "       'clasecuenta'] = 1 "
   ]
  },
  {
   "cell_type": "code",
   "execution_count": null,
   "metadata": {},
   "outputs": [],
   "source": [
    "# Se encuentran las observaciones que cumplen las condiciones. Se deben eliminar las observaciones con clase de cuenta 3\n",
    "df_filtered = FT006[\n",
    "    (FT006['clasecuenta'] == 3)\n",
    "    ].index"
   ]
  },
  {
   "cell_type": "code",
   "execution_count": null,
   "metadata": {},
   "outputs": [],
   "source": [
    "# Se eliminan las observaciones que cumplen las condiciones anteriore\n",
    "FT006 = FT006.drop(df_filtered)"
   ]
  },
  {
   "cell_type": "code",
   "execution_count": null,
   "metadata": {},
   "outputs": [],
   "source": [
    "# Se convierte la variable en mes y año\n",
    "FT006[['ano', 'mes']] = FT006[['ano', 'mes']].astype(float).astype(int)"
   ]
  },
  {
   "cell_type": "code",
   "execution_count": null,
   "metadata": {},
   "outputs": [],
   "source": [
    "# Para hacer la suma de sextracto por clase de cuenta, NIT EPS, NIT proveedor, Mes y Año\n",
    "FT006 = FT006.groupby(['nit_eps', 'mes', 'ano', 'clasecuenta']).agg({'sextracto': 'sum'}).reset_index()"
   ]
  },
  {
   "cell_type": "code",
   "execution_count": null,
   "metadata": {},
   "outputs": [],
   "source": [
    "# Para hacer la suma de sextracto por NIT EPS, NIT proveedor, Mes y Año\n",
    "FT006 = FT006.groupby(['nit_eps', 'ano', 'mes'])[['sextracto']].sum().reset_index()"
   ]
  },
  {
   "cell_type": "code",
   "execution_count": null,
   "metadata": {},
   "outputs": [],
   "source": [
    "# Se crea el rango de meses necesarios en cada mes\n",
    "fecha_ideal=range(1, 12 + 1)\n",
    "# Se rellena con ceros la información para los meses faltantes\n",
    "FT006 = FT006.set_index('mes').groupby(['nit_eps', 'ano']).apply(lambda x: x.reindex(index=fecha_ideal, fill_value=0)).drop(['nit_eps', 'ano'], 1)"
   ]
  },
  {
   "cell_type": "code",
   "execution_count": null,
   "metadata": {},
   "outputs": [],
   "source": [
    "# Se desagrupa la información para su posterior filtro pues no nos interesa la información para 2019\n",
    "FT006 = FT006.reset_index()"
   ]
  },
  {
   "cell_type": "code",
   "execution_count": null,
   "metadata": {},
   "outputs": [],
   "source": [
    "# Se encuentran las observaciones que cumplen las condiciones\n",
    "df_filtered = FT006[\n",
    "    (FT006['ano'] == 2019) & (FT006['mes'] == 1) |\n",
    "    (FT006['ano'] == 2019) & (FT006['mes'] == 2) |\n",
    "    (FT006['ano'] == 2019) & (FT006['mes'] == 3) |\n",
    "    (FT006['ano'] == 2019) & (FT006['mes'] == 4) |\n",
    "    (FT006['ano'] == 2019) & (FT006['mes'] == 5) |\n",
    "    (FT006['ano'] == 2019) & (FT006['mes'] == 6) |\n",
    "    (FT006['ano'] == 2019) & (FT006['mes'] == 7) |\n",
    "    (FT006['ano'] == 2019) & (FT006['mes'] == 8) |\n",
    "    (FT006['ano'] == 2019) & (FT006['mes'] == 9) |\n",
    "    (FT006['ano'] == 2019) & (FT006['mes'] == 10) |\n",
    "    (FT006['ano'] == 2019) & (FT006['mes'] == 11)\n",
    "    ].index"
   ]
  },
  {
   "cell_type": "code",
   "execution_count": null,
   "metadata": {},
   "outputs": [],
   "source": [
    "# Se eliminan las observaciones que cumplen las condiciones anteriore\n",
    "FT006 = FT006.drop(df_filtered)"
   ]
  },
  {
   "cell_type": "code",
   "execution_count": null,
   "metadata": {},
   "outputs": [],
   "source": [
    "# Se agrupa la información para calcular su respectiva diferencia mensual por CXP\n",
    "FT006 = FT006.set_index(['nit_eps', 'ano','mes'])"
   ]
  },
  {
   "cell_type": "code",
   "execution_count": null,
   "metadata": {},
   "outputs": [],
   "source": [
    "# Se calcula la diferencia mensual para conocer el valor mensual de cada cuenta ya que por defecto vienen agregadas\n",
    "FT006_dif = FT006.diff().fillna(0)"
   ]
  },
  {
   "cell_type": "code",
   "execution_count": null,
   "metadata": {},
   "outputs": [],
   "source": [
    "# Se desagregan las bases de datos para su posterior unión\n",
    "FT006_dif = FT006_dif.reset_index()\n",
    "FT006 = FT006.reset_index()"
   ]
  },
  {
   "cell_type": "code",
   "execution_count": null,
   "metadata": {},
   "outputs": [],
   "source": [
    "# Se reemplazan los nombres de las columnas para facilitar el tratamiento\n",
    "FT006_dif.rename(columns={'sextracto': 'DSaldo'}, inplace=True)"
   ]
  },
  {
   "cell_type": "code",
   "execution_count": null,
   "metadata": {},
   "outputs": [],
   "source": [
    "# Se encuentran las observaciones que cumplen las condiciones\n",
    "df_filtered = FT006_dif[\n",
    "    (FT006['ano'] == 2019)\n",
    "    ].index"
   ]
  },
  {
   "cell_type": "code",
   "execution_count": null,
   "metadata": {},
   "outputs": [],
   "source": [
    "# Se eliminan las observaciones que cumplen las condiciones anteriore\n",
    "FT006_dif = FT006_dif.drop(df_filtered)"
   ]
  },
  {
   "cell_type": "code",
   "execution_count": null,
   "metadata": {},
   "outputs": [],
   "source": [
    "# Para guardar la base de datos lista para ser tratada en formato Excel y CSV\n",
    "\n",
    "FT006_dif.to_excel(r'C:/Users/Miguel Angel/Documents/Supersalud/Pagos_EPS_Proveedores/DVFICEPS_2020_2021.xlsx', index = False)\n",
    "FT006_dif.to_csv(r'C:/Users/Miguel Angel/Documents/Supersalud/Pagos_EPS_Proveedores/DVFICEPS_2020_2021.csv', index = False, encoding='utf-8-sig')"
   ]
  },
  {
   "cell_type": "code",
   "execution_count": null,
   "metadata": {},
   "outputs": [],
   "source": [
    "# Se eliminan la bases que no se necesitan para liberar espacio en la memoria\n",
    "del [FT006, FT006_dif, df_filtered, fecha_ideal]"
   ]
  }
 ],
 "metadata": {
  "interpreter": {
   "hash": "b3ba2566441a7c06988d0923437866b63cedc61552a5af99d1f4fb67d367b25f"
  },
  "kernelspec": {
   "display_name": "Python 3.8.5 64-bit ('base': conda)",
   "name": "python3"
  },
  "language_info": {
   "name": "python",
   "version": ""
  }
 },
 "nbformat": 4,
 "nbformat_minor": 4
}