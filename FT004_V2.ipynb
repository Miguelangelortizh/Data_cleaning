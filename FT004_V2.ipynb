{
 "cells": [
  {
   "cell_type": "markdown",
   "source": [
    "<h2>FT004 - Cuentas por Pagar </h2>\r\n",
    "<p> En este apartado se trata la base de datos FT004 </p>"
   ],
   "metadata": {}
  },
  {
   "cell_type": "code",
   "execution_count": 1,
   "source": [
    "#Cargamos los paquetes que vamos a necesitar\r\n",
    "import pandas as pd\r\n",
    "import numpy as np\r\n",
    "import pyreadstat\r\n",
    "pd.pandas.set_option('display.max_columns', None)"
   ],
   "outputs": [],
   "metadata": {}
  },
  {
   "cell_type": "code",
   "execution_count": 2,
   "source": [
    "# # Se carga el FT005 completo desde el archivo .dta\r\n",
    "# FT004_2021_2021 = pd.read_stata('C:/Users/Miguel Angel/Documents/Supersalud/Pagos_EPS_Proveedores/Informe_Pagos/FT004 20202021.dta')\r\n",
    "# # Se carga el FT004 para diciembre de 2019 desde el archivo .dta\r\n",
    "# FT004_2019 = pd.read_stata('C:/Users/Miguel Angel/Documents/Supersalud/Pagos_EPS_Proveedores/Informe_Pagos/FT004 122019.dta')\r\n",
    "# # Se concatenan la bases de datos \r\n",
    "# frames = [FT004_2021_2021, FT004_2019]\r\n",
    "# FT004 = pd.concat(frames, ignore_index=True)\r\n",
    "# # Se eliminan la bases que no se necesitan para liberar espacio en la memoria\r\n",
    "# del [FT004_2021_2021, FT004_2019, frames]"
   ],
   "outputs": [],
   "metadata": {}
  },
  {
   "cell_type": "code",
   "execution_count": 3,
   "source": [
    "# Se carga el FT004 completo desde el archivo .csv\r\n",
    "FT004 = pd.read_csv('C:/Users/Miguel Angel/OneDrive - Supersalud/Supersalud/Bases_FT/BD_actualizadas/2_Mas_reciente_25082021/FT004.csv', dtype={'Nit':object, 'Año': object, 'Periodo': object, 'Fecha': object}, encoding='latin-1')"
   ],
   "outputs": [
    {
     "output_type": "stream",
     "name": "stderr",
     "text": [
      "C:\\ProgramData\\Anaconda3\\lib\\site-packages\\IPython\\core\\interactiveshell.py:3146: DtypeWarning: Columns (7,10) have mixed types.Specify dtype option on import or set low_memory=False.\n",
      "  has_raised = await self.run_ast_nodes(code_ast.body, cell_name,\n"
     ]
    }
   ],
   "metadata": {}
  },
  {
   "cell_type": "code",
   "execution_count": 4,
   "source": [
    "# Se genera una nueva columna extrayendo el mes y el año de la variable fecha\r\n",
    "FT004['ano'] = FT004['Fecha'].str[:4]\r\n",
    "FT004['mes'] = FT004['Fecha'].str[4:6]"
   ],
   "outputs": [],
   "metadata": {}
  },
  {
   "cell_type": "code",
   "execution_count": 5,
   "source": [
    "# Se reemplazan los nombres de las columnas para facilitar el tratamiento\r\n",
    "FT004.rename(columns={'Nit': 'nit_eps', 'lineaNegocio': 'linea','tipoIdAcreedor': 'tipoidacreedor', 'idAcreedor': 'nitproveedor', 'dvAcreedor': 'DVacreedor', 'conceptoAcreencia': 'concepto', 'cxpNoVencidas': 'cxpnovencidas', 'cxpMora30dias': 'cxp30','cxpMora60dias': 'cxp60', 'cxpMora90dias': 'cxp90', 'cxpMora180dias': 'cxp180', 'cxpMora360dias': 'cxp360','cxpMoraMayor360dias': 'cxpmayor360'}, inplace=True)"
   ],
   "outputs": [],
   "metadata": {}
  },
  {
   "cell_type": "code",
   "execution_count": 6,
   "source": [
    "# Se transforman los datos para su correcta identificación\r\n",
    "FT004[['nit_eps', 'RazonSocial', 'ano', 'mes', 'linea', 'tipoidacreedor',\r\n",
    "       'nitproveedor', 'DVacreedor', 'nombreAcreedor', 'actividadAcreedor',\r\n",
    "       'concepto', 'medicionPosterior']] = FT004[['nit_eps', 'RazonSocial', 'ano', 'mes', 'linea', 'tipoidacreedor',\r\n",
    "       'nitproveedor', 'DVacreedor', 'nombreAcreedor', 'actividadAcreedor',\r\n",
    "       'concepto', 'medicionPosterior']].astype(str)\r\n",
    "\r\n",
    "FT004[['cxpnovencidas', 'cxp30', 'cxp60',\r\n",
    "       'cxp90', 'cxp180', 'cxp360', 'cxpmayor360', 'ajuste', 'saldo']] = FT004[['cxpnovencidas', 'cxp30', 'cxp60',\r\n",
    "       'cxp90', 'cxp180', 'cxp360', 'cxpmayor360', 'ajuste', 'saldo']].astype(float)"
   ],
   "outputs": [],
   "metadata": {}
  },
  {
   "cell_type": "code",
   "execution_count": 7,
   "source": [
    "# Se filtra la línea de negocio de interés. En este caso corresponde a la línea 1\r\n",
    "FT004 = FT004.loc[FT004['linea'] == '1']"
   ],
   "outputs": [],
   "metadata": {}
  },
  {
   "cell_type": "code",
   "execution_count": 8,
   "source": [
    "# Se crea la columna Cuentas por Pagar (CXP) sumando las columnas cxpnovencidas, cxp30, cxp60, cxp90, cxp180, cxp360 y cxpmayor360\r\n",
    "CXP = FT004['cxpnovencidas'] + FT004['cxp30'] + FT004['cxp60'] + FT004['cxp90'] + FT004['cxp180'] + FT004['cxp360'] + FT004['cxpmayor360']\r\n",
    "FT004['CXP'] = CXP"
   ],
   "outputs": [],
   "metadata": {}
  },
  {
   "cell_type": "code",
   "execution_count": 9,
   "source": [
    "# Para hacer la suma de CXC por NIT EPS, tipo de proveedor, NIT proveedor, Mes y Año\r\n",
    "FT004 = FT004.groupby(['nit_eps', 'tipoidacreedor', 'nitproveedor', 'mes', 'ano']).agg({'CXP': 'sum'}).reset_index()"
   ],
   "outputs": [],
   "metadata": {}
  },
  {
   "cell_type": "code",
   "execution_count": 10,
   "source": [
    "# Se comprueba que no haya duplicados cuando se filtra por NIT EPS, tipo de deudor, NIT proveedor, Mes y Año. Para esto se cuenta el número de duplicados\r\n",
    "duplicadosFT004 = FT004[FT004.duplicated(['nit_eps', 'tipoidacreedor', 'nitproveedor', 'mes', 'ano'], keep='last')]\r\n",
    "print(\"El número de registros duplicados es:\", duplicadosFT004.nit_eps.count(), sep='\\n')"
   ],
   "outputs": [
    {
     "output_type": "stream",
     "name": "stdout",
     "text": [
      "El número de registros duplicados es:\n",
      "0\n"
     ]
    }
   ],
   "metadata": {}
  },
  {
   "cell_type": "code",
   "execution_count": 11,
   "source": [
    "# Se carga la base de datos cuenta2.dta para su posterior pega\r\n",
    "cuentas2 = pd.read_stata('C:/Users/Miguel Angel/Documents/Supersalud/Pagos_EPS_Proveedores/cuentas2.dta')"
   ],
   "outputs": [],
   "metadata": {}
  },
  {
   "cell_type": "code",
   "execution_count": 12,
   "source": [
    "# Se tranforma el formato de las columnas del dataframe cuentas2\r\n",
    "cuentas2[['v2', 'nitproveedor']] = cuentas2[['v2', 'nitproveedor']].astype(str)"
   ],
   "outputs": [],
   "metadata": {}
  },
  {
   "cell_type": "code",
   "execution_count": 13,
   "source": [
    "# Se comprueba que no haya duplicados cuando se filtra por Nitproveedor. Para esto se cuenta el número de duplicados\r\n",
    "duplicados_cuentas2 = cuentas2[cuentas2.duplicated(['nitproveedor'], keep='last')]\r\n",
    "print(\"El número de registros duplicados es:\", duplicados_cuentas2.nitproveedor.count(), sep='\\n')"
   ],
   "outputs": [
    {
     "output_type": "stream",
     "name": "stdout",
     "text": [
      "El número de registros duplicados es:\n",
      "0\n"
     ]
    }
   ],
   "metadata": {}
  },
  {
   "cell_type": "code",
   "execution_count": 14,
   "source": [
    "# Se unen las dos bases de datos para obtener la información de FT004 con cuenta2\r\n",
    "FT004= pd.merge(FT004, cuentas2, how='left', left_on=['nitproveedor'], right_on=['nitproveedor'])"
   ],
   "outputs": [],
   "metadata": {}
  },
  {
   "cell_type": "markdown",
   "source": [
    "<p> Esto corresponde a la cuenta del pasivo cuando se agregan las cuentas por pagar. Por tal motivo, se elimina ya que no se pueden identificar los proveedores. </p>"
   ],
   "metadata": {}
  },
  {
   "cell_type": "code",
   "execution_count": 15,
   "source": [
    "# Se encuentran las observaciones que cumplen las condiciones anteriores\r\n",
    "df_filtered = FT004[(FT004['tipoidacreedor'] == 'OT') & (FT004['v2'] == 'cuenta')].index"
   ],
   "outputs": [],
   "metadata": {}
  },
  {
   "cell_type": "code",
   "execution_count": 16,
   "source": [
    "# Se eliminan las observaciones que cumplen las condiciones anteriores\r\n",
    "FT004 = FT004.drop(df_filtered)"
   ],
   "outputs": [],
   "metadata": {}
  },
  {
   "cell_type": "code",
   "execution_count": 17,
   "source": [
    "# Para hacer la suma de CXP por NIT EPS, tipo de acreedor corregido, NIT proveedor, Mes y Año\r\n",
    "FT004 = FT004.groupby(['nit_eps', 'nitproveedor', 'mes', 'ano']).agg({'CXP': 'sum'}).reset_index()"
   ],
   "outputs": [],
   "metadata": {}
  },
  {
   "cell_type": "code",
   "execution_count": 18,
   "source": [
    "FT004.info()"
   ],
   "outputs": [
    {
     "output_type": "stream",
     "name": "stdout",
     "text": [
      "<class 'pandas.core.frame.DataFrame'>\n",
      "RangeIndex: 5898306 entries, 0 to 5898305\n",
      "Data columns (total 5 columns):\n",
      " #   Column        Dtype  \n",
      "---  ------        -----  \n",
      " 0   nit_eps       object \n",
      " 1   nitproveedor  object \n",
      " 2   mes           object \n",
      " 3   ano           object \n",
      " 4   CXP           float64\n",
      "dtypes: float64(1), object(4)\n",
      "memory usage: 225.0+ MB\n"
     ]
    }
   ],
   "metadata": {}
  },
  {
   "cell_type": "markdown",
   "source": [
    "<p> Desde aquí se guarda la base de datos con fechas máximas por proveedor </p>"
   ],
   "metadata": {}
  },
  {
   "cell_type": "code",
   "execution_count": 19,
   "source": [
    "# Se filtra el dataframe con las observaciones que cumplen las condiciones\r\n",
    "FT004_FECHA = FT004[\r\n",
    "    (FT004['ano'] == '2021')\r\n",
    "    ]"
   ],
   "outputs": [],
   "metadata": {}
  },
  {
   "cell_type": "code",
   "execution_count": 20,
   "source": [
    "# Se transforman las columnas de mes y año para su correcta identificación\r\n",
    "FT004[['ano', 'mes']] = FT004[['ano', 'mes']].astype(int)"
   ],
   "outputs": [],
   "metadata": {}
  },
  {
   "cell_type": "code",
   "execution_count": 21,
   "source": [
    "del [CXP, cuentas2, df_filtered, duplicados_cuentas2, duplicadosFT004]"
   ],
   "outputs": [],
   "metadata": {}
  },
  {
   "cell_type": "code",
   "execution_count": 22,
   "source": [
    "# Se procede a eliminar los duplicados dejando el último movimiento registrado. Esto se debe ya que se busca trabajar con el último dato disponible\r\n",
    "FT004_FECHA = FT004_FECHA.sort_values(['ano', 'mes']).drop_duplicates('nitproveedor', keep='last')"
   ],
   "outputs": [],
   "metadata": {}
  },
  {
   "cell_type": "code",
   "execution_count": 23,
   "source": [
    "# Para guardar la base de datos lista para ser tratada en formato CSV\r\n",
    "FT004_FECHA.to_excel(r'C:/Users/Miguel Angel/OneDrive - Supersalud/Supersalud/Jul 6 Pagos WEB/Pagos WEB/EPS/2021/UNION_BASES/FT004_FECHA.xlsx', index = False)"
   ],
   "outputs": [],
   "metadata": {}
  },
  {
   "cell_type": "markdown",
   "source": [
    "<p> Hasta aquí se guarda la base de datos con fechas máximas por proveedor </p>"
   ],
   "metadata": {}
  },
  {
   "cell_type": "code",
   "execution_count": 24,
   "source": [
    "# Se crea el rango de meses necesarios en cada mes\r\n",
    "fecha_ideal=range(1, 12 + 1)\r\n",
    "# Se rellena con ceros la información para los meses faltantes\r\n",
    "FT004 = FT004.set_index('mes').groupby(['nit_eps', 'nitproveedor', 'ano']).apply(lambda x: x.reindex(index=fecha_ideal, fill_value=0)).drop(['nit_eps', 'nitproveedor', 'ano'], 1).reset_index()"
   ],
   "outputs": [],
   "metadata": {}
  },
  {
   "cell_type": "code",
   "execution_count": 25,
   "source": [
    "# Se encuentran las observaciones que cumplen las condiciones\r\n",
    "df_filtered = FT004[\r\n",
    "    (FT004['ano'] == 2019) & (FT004['mes'] == 1) |\r\n",
    "    (FT004['ano'] == 2019) & (FT004['mes'] == 2) |\r\n",
    "    (FT004['ano'] == 2019) & (FT004['mes'] == 3) |\r\n",
    "    (FT004['ano'] == 2019) & (FT004['mes'] == 4) |\r\n",
    "    (FT004['ano'] == 2019) & (FT004['mes'] == 5) |\r\n",
    "    (FT004['ano'] == 2019) & (FT004['mes'] == 6) |\r\n",
    "    (FT004['ano'] == 2019) & (FT004['mes'] == 7) |\r\n",
    "    (FT004['ano'] == 2019) & (FT004['mes'] == 8) |\r\n",
    "    (FT004['ano'] == 2019) & (FT004['mes'] == 9) |\r\n",
    "    (FT004['ano'] == 2019) & (FT004['mes'] == 10) |\r\n",
    "    (FT004['ano'] == 2019) & (FT004['mes'] == 11)\r\n",
    "    ].index\r\n",
    "\r\n",
    "# Se eliminan las observaciones que cumplen las condiciones anteriore\r\n",
    "FT004 = FT004.drop(df_filtered)"
   ],
   "outputs": [],
   "metadata": {}
  },
  {
   "cell_type": "code",
   "execution_count": 26,
   "source": [
    "# Se completan los años y los meses para las observaciones que no presentaron ninguna observación en un año de interés. Por ejemplo, a aquellos sujetos que reportaron cifras en 2019, pero no en 2020, se les completa el año 2020 para poder calcular la diferencia entre diciembre de 2019 y enero de 2020\r\n",
    "# Se convierte la variable en mes y año\r\n",
    "FT004[['ano', 'mes']] = FT004[['ano', 'mes']].astype(float)\r\n",
    "FT004['periodo'] = pd.to_datetime(FT004.ano*10000 + FT004.mes*100 + 1, format='%Y%m%d')\r\n",
    "fecha_ideal = pd.date_range('12-01-2019','07-01-2021',freq='M')"
   ],
   "outputs": [],
   "metadata": {}
  },
  {
   "cell_type": "code",
   "execution_count": 47,
   "source": [],
   "outputs": [],
   "metadata": {}
  },
  {
   "cell_type": "markdown",
   "source": [
    "<p> Desde aquí se filtra la base por la fecha máxima de reporte de la información </p>"
   ],
   "metadata": {}
  },
  {
   "cell_type": "code",
   "execution_count": 27,
   "source": [
    "# Se seleccionan las columnas requeridas antes del cruce para filtrar la información (se excluye el valor de CXC)\r\n",
    "FT004_FECHA = FT004_FECHA[['nit_eps', 'nitproveedor', 'mes', 'ano']]"
   ],
   "outputs": [],
   "metadata": {}
  },
  {
   "cell_type": "code",
   "execution_count": 28,
   "source": [
    "# Se modifican los nombres de las columnas para posterimente pegar las bases de datos\r\n",
    "FT004_FECHA.rename(columns={'mes': 'ULTIMO_MES_FT004', 'ano': 'ULTIMO_ANO_FT004'}, inplace=True)"
   ],
   "outputs": [],
   "metadata": {}
  },
  {
   "cell_type": "code",
   "execution_count": 31,
   "source": [
    "FT004.info()"
   ],
   "outputs": [
    {
     "output_type": "stream",
     "name": "stdout",
     "text": [
      "<class 'pandas.core.frame.DataFrame'>\n",
      "Int64Index: 12321524 entries, 0 to 12321523\n",
      "Data columns (total 8 columns):\n",
      " #   Column            Dtype         \n",
      "---  ------            -----         \n",
      " 0   nit_eps           object        \n",
      " 1   nitproveedor      object        \n",
      " 2   ano               float64       \n",
      " 3   mes               float64       \n",
      " 4   CXP               float64       \n",
      " 5   periodo           datetime64[ns]\n",
      " 6   ULTIMO_MES_FT004  object        \n",
      " 7   ULTIMO_ANO_FT004  object        \n",
      "dtypes: datetime64[ns](1), float64(3), object(4)\n",
      "memory usage: 846.1+ MB\n"
     ]
    }
   ],
   "metadata": {}
  },
  {
   "cell_type": "code",
   "execution_count": 34,
   "source": [
    "# Se crea una variable de control para filtrar por fecha del reporte\r\n",
    "FT004_FECHA[['ULTIMO_ANO_FT004', 'ULTIMO_MES_FT004']] = FT004_FECHA[['ULTIMO_ANO_FT004', 'ULTIMO_MES_FT004']].astype(float)\r\n",
    "FT004_FECHA['periodo_filtro'] = pd.to_datetime(FT004_FECHA.ULTIMO_ANO_FT004*10000 + FT004_FECHA.ULTIMO_MES_FT004*100 + 1, format='%Y%m%d')"
   ],
   "outputs": [],
   "metadata": {}
  },
  {
   "cell_type": "code",
   "execution_count": 29,
   "source": [
    "# Se unen las dos bases de datos para obtener la información de FT004_FT003_FT005 y prestadores\r\n",
    "FT004 = pd.merge(FT004, FT004_FECHA, how='left', left_on=['nit_eps', 'nitproveedor'], right_on=['nit_eps', 'nitproveedor'])"
   ],
   "outputs": [],
   "metadata": {}
  },
  {
   "cell_type": "code",
   "execution_count": 39,
   "source": [
    "FT004.columns"
   ],
   "outputs": [
    {
     "output_type": "execute_result",
     "data": {
      "text/plain": [
       "Index(['nit_eps', 'nitproveedor', 'ano', 'mes', 'CXP', 'periodo',\n",
       "       'ULTIMO_MES_FT004', 'ULTIMO_ANO_FT004', 'periodo_filtro'],\n",
       "      dtype='object')"
      ]
     },
     "metadata": {},
     "execution_count": 39
    }
   ],
   "metadata": {}
  },
  {
   "cell_type": "code",
   "execution_count": 36,
   "source": [
    "# Se seleccionan las columnas requeridas antes del cruce para filtrar la información (se excluye el valor de CXC)\r\n",
    "FECHA = FT004_FECHA[['nit_eps', 'nitproveedor', 'periodo_filtro']]"
   ],
   "outputs": [],
   "metadata": {}
  },
  {
   "cell_type": "code",
   "execution_count": 38,
   "source": [
    "# Se unen las dos bases de datos para obtener la información de FT004_FT003_FT005 y prestadores\r\n",
    "FT004 = pd.merge(FT004, FECHA, how='left', left_on=['nit_eps', 'nitproveedor'], right_on=['nit_eps', 'nitproveedor'])"
   ],
   "outputs": [],
   "metadata": {}
  },
  {
   "cell_type": "code",
   "execution_count": 41,
   "source": [
    "del [fecha_ideal, FECHA, df_filtered, FT004_FECHA]"
   ],
   "outputs": [],
   "metadata": {}
  },
  {
   "cell_type": "code",
   "execution_count": 40,
   "source": [
    "# Para guardar la base de datos lista para ser tratada en formato CSV\r\n",
    "FT004.to_csv(r'C:/Users/Miguel Angel/Documents/Supersalud/Pagos_EPS_Proveedores/FT004_sin_tratar.csv', index = False, encoding='utf-8-sig')"
   ],
   "outputs": [],
   "metadata": {}
  },
  {
   "cell_type": "markdown",
   "source": [
    "<p>Cjeck point</p>"
   ],
   "metadata": {}
  },
  {
   "cell_type": "code",
   "execution_count": 43,
   "source": [
    "# Se filtra el dataframe con las observaciones que cumplen las condiciones. La idea es eliminar aquellas observaciones que están por fuera de las fechas máximas de reporte de cada EPS, es decir, si una EPS reportó su información \r\n",
    "FT004 = FT004[\r\n",
    "    (FT004['periodo'] <= FT004['periodo_filtro'])\r\n",
    "    ]"
   ],
   "outputs": [],
   "metadata": {}
  },
  {
   "cell_type": "code",
   "execution_count": 48,
   "source": [
    "# Se agrupa la información según NIT EPS, NIT proveedor y periodo sumando el valor de CXP que corresponda a cada agrupación descrita\r\n",
    "FT004_dif = FT004.groupby(['nit_eps','nitproveedor', pd.Grouper(key='periodo', freq='M')])[['CXP']].sum().reset_index()"
   ],
   "outputs": [],
   "metadata": {}
  },
  {
   "cell_type": "code",
   "execution_count": 49,
   "source": [
    "fecha_ideal = pd.date_range('12-01-2019','07-01-2021',freq='M')"
   ],
   "outputs": [],
   "metadata": {}
  },
  {
   "cell_type": "code",
   "execution_count": 50,
   "source": [
    "# Se prepara el dataframe para calcular la diferencia periodo a periodo (t+1 - t) respetando la agregación anterior\r\n",
    "FT004_dif = FT004_dif.set_index('periodo').groupby(['nit_eps', 'nitproveedor']).apply(lambda x: x.reindex(index=fecha_ideal, fill_value=0)).drop(['nit_eps', 'nitproveedor'], 1).reset_index()"
   ],
   "outputs": [],
   "metadata": {}
  },
  {
   "cell_type": "code",
   "execution_count": null,
   "source": [
    "FT004_dif.info()"
   ],
   "outputs": [
    {
     "output_type": "stream",
     "name": "stdout",
     "text": [
      "<class 'pandas.core.frame.DataFrame'>\n",
      "RangeIndex: 13747089 entries, 0 to 13747088\n",
      "Data columns (total 4 columns):\n",
      " #   Column        Dtype         \n",
      "---  ------        -----         \n",
      " 0   nit_eps       object        \n",
      " 1   nitproveedor  object        \n",
      " 2   level_2       datetime64[ns]\n",
      " 3   CXP           float64       \n",
      "dtypes: datetime64[ns](1), float64(1), object(2)\n",
      "memory usage: 419.5+ MB\n"
     ]
    }
   ],
   "metadata": {}
  },
  {
   "cell_type": "code",
   "execution_count": 51,
   "source": [
    "# Se reemplazan los nombres de las columnas para facilitar el tratamiento\r\n",
    "FT004_dif.rename(columns={'level_2': 'periodo'}, inplace=True)"
   ],
   "outputs": [],
   "metadata": {}
  },
  {
   "cell_type": "code",
   "execution_count": 52,
   "source": [
    "# Se establece el index (identificación) como NIT EPS, NIT proveedor y el periodo para cada observación\r\n",
    "FT004_dif = FT004_dif.set_index(['nit_eps', 'nitproveedor', 'periodo'])"
   ],
   "outputs": [],
   "metadata": {}
  },
  {
   "cell_type": "code",
   "execution_count": 53,
   "source": [
    "# Se calcula la diferencia mensual para conocer el valor mensual de cada cuenta ya que por defecto vienen agregadas\r\n",
    "FT004_dif = FT004_dif.diff().fillna(0).reset_index()"
   ],
   "outputs": [],
   "metadata": {}
  },
  {
   "cell_type": "code",
   "execution_count": 54,
   "source": [
    "# Se reemplazan los nombres de las columnas para facilitar el tratamiento\r\n",
    "FT004_dif.rename(columns={'CXP': 'DCXPmes'}, inplace=True)\r\n",
    "\r\n",
    "#  Se extrae el mes y el año para porterior left join con el agregado\r\n",
    "FT004_dif['ano'] = FT004_dif['periodo'].dt.year\r\n",
    "FT004_dif['mes'] = FT004_dif['periodo'].dt.month\r\n",
    "\r\n",
    "#Se transforman las variables a STR para mejorar su manipulación\r\n",
    "FT004[['ano', 'mes']] = FT004[['ano', 'mes']].astype(int)\r\n",
    "\r\n",
    "# Se eliminan las columnas que no son de interés\r\n",
    "FT004 = FT004.drop(['periodo'], axis=1)\r\n",
    "FT004_dif = FT004_dif.drop(['periodo'], axis=1)"
   ],
   "outputs": [],
   "metadata": {}
  },
  {
   "cell_type": "code",
   "execution_count": 55,
   "source": [
    "# Se unen las dos bases de datos para obtener la información de webgironoupc (Giro Directo - No_UPC - Compra de Cartera) y FT005 en una sola base de datos. Desagregando el valor de VCausado y el VPagado para cada mes\r\n",
    "FT004 = pd.merge(FT004_dif, FT004, how='left', left_on=['nit_eps', 'nitproveedor', 'mes', 'ano'], right_on=['nit_eps', 'nitproveedor', 'mes', 'ano'])"
   ],
   "outputs": [],
   "metadata": {}
  },
  {
   "cell_type": "code",
   "execution_count": 56,
   "source": [
    "# Se encuentran las observaciones que cumplen las condiciones\r\n",
    "df_filtered = FT004[\r\n",
    "    (FT004['ano'] == 2019)\r\n",
    "    ].index\r\n",
    "\r\n",
    "# Se eliminan las observaciones que cumplen las condiciones anteriore\r\n",
    "FT004 = FT004.drop(df_filtered)"
   ],
   "outputs": [],
   "metadata": {}
  },
  {
   "cell_type": "code",
   "execution_count": 57,
   "source": [
    "# Se libera espacio de la memoria\r\n",
    "del [df_filtered, fecha_ideal, FT004_dif]"
   ],
   "outputs": [],
   "metadata": {}
  },
  {
   "cell_type": "code",
   "execution_count": 59,
   "source": [
    "# Se convierte la variable en mes y año\r\n",
    "FT004[['ano', 'mes']] = FT004[['ano', 'mes']].astype(float).astype(int)"
   ],
   "outputs": [],
   "metadata": {}
  },
  {
   "cell_type": "code",
   "execution_count": null,
   "source": [
    "# EL DF ES MI BACK UP"
   ],
   "outputs": [],
   "metadata": {}
  },
  {
   "cell_type": "code",
   "execution_count": 60,
   "source": [
    "# Se agrega la información por NIT_EPS, Nitproveedor, noID, Departamento, Ano, Mes para las variables VPagado, VCausado, PW, Giro, No_UPC, Compra_Cartera\r\n",
    "FT004 = FT004.groupby(['nit_eps', 'nitproveedor', 'mes', 'ano']).agg({'CXP':'sum', 'DCXPmes':'sum'}).reset_index()"
   ],
   "outputs": [],
   "metadata": {}
  },
  {
   "cell_type": "markdown",
   "source": [
    "<p> Desde aquí se filtra la base por la fecha máxima de reporte de la información </p>"
   ],
   "metadata": {}
  },
  {
   "cell_type": "code",
   "execution_count": 61,
   "source": [
    "# Se seleccionan las columnas requeridas antes del cruce para filtrar la información (se excluye el valor de CXC)\r\n",
    "FT004_FECHA = FT004_FECHA[['nit_eps', 'nitproveedor', 'mes', 'ano']]"
   ],
   "outputs": [
    {
     "output_type": "error",
     "ename": "NameError",
     "evalue": "name 'FT004_FECHA' is not defined",
     "traceback": [
      "\u001b[1;31m---------------------------------------------------------------------------\u001b[0m",
      "\u001b[1;31mNameError\u001b[0m                                 Traceback (most recent call last)",
      "\u001b[1;32m<ipython-input-61-5fd979b36f03>\u001b[0m in \u001b[0;36m<module>\u001b[1;34m\u001b[0m\n\u001b[0;32m      1\u001b[0m \u001b[1;31m# Se seleccionan las columnas requeridas antes del cruce para filtrar la información (se excluye el valor de CXC)\u001b[0m\u001b[1;33m\u001b[0m\u001b[1;33m\u001b[0m\u001b[1;33m\u001b[0m\u001b[0m\n\u001b[1;32m----> 2\u001b[1;33m \u001b[0mFT004_FECHA\u001b[0m \u001b[1;33m=\u001b[0m \u001b[0mFT004_FECHA\u001b[0m\u001b[1;33m[\u001b[0m\u001b[1;33m[\u001b[0m\u001b[1;34m'nit_eps'\u001b[0m\u001b[1;33m,\u001b[0m \u001b[1;34m'nitproveedor'\u001b[0m\u001b[1;33m,\u001b[0m \u001b[1;34m'mes'\u001b[0m\u001b[1;33m,\u001b[0m \u001b[1;34m'ano'\u001b[0m\u001b[1;33m]\u001b[0m\u001b[1;33m]\u001b[0m\u001b[1;33m\u001b[0m\u001b[1;33m\u001b[0m\u001b[0m\n\u001b[0m",
      "\u001b[1;31mNameError\u001b[0m: name 'FT004_FECHA' is not defined"
     ]
    }
   ],
   "metadata": {}
  },
  {
   "cell_type": "code",
   "execution_count": null,
   "source": [
    "FT004_FECHA.info()"
   ],
   "outputs": [
    {
     "output_type": "stream",
     "name": "stdout",
     "text": [
      "<class 'pandas.core.frame.DataFrame'>\n",
      "Int64Index: 323360 entries, 27 to 5898258\n",
      "Data columns (total 5 columns):\n",
      " #   Column        Non-Null Count   Dtype  \n",
      "---  ------        --------------   -----  \n",
      " 0   nit_eps       323360 non-null  object \n",
      " 1   nitproveedor  323360 non-null  object \n",
      " 2   mes           323360 non-null  object \n",
      " 3   ano           323360 non-null  object \n",
      " 4   CXP           323360 non-null  float64\n",
      "dtypes: float64(1), object(4)\n",
      "memory usage: 14.8+ MB\n"
     ]
    }
   ],
   "metadata": {}
  },
  {
   "cell_type": "code",
   "execution_count": null,
   "source": [
    "# Se modifican los nombres de las columnas para posterimente pegar las bases de datos\r\n",
    "FT004_FECHA.rename(columns={'mes': 'ULTIMO_MES_FT004', 'ano': 'ULTIMO_ANO_FT004'}, inplace=True)"
   ],
   "outputs": [],
   "metadata": {}
  },
  {
   "cell_type": "code",
   "execution_count": null,
   "source": [
    "# Se unen las dos bases de datos para obtener la información de FT004_FT003_FT005 y prestadores\r\n",
    "FT004 = pd.merge(FT004, FT004_FECHA, how='left', left_on=['nit_eps', 'nitproveedor'], right_on=['nit_eps', 'nitproveedor'])"
   ],
   "outputs": [],
   "metadata": {}
  },
  {
   "cell_type": "code",
   "execution_count": 62,
   "source": [
    "FT004.columns"
   ],
   "outputs": [
    {
     "output_type": "execute_result",
     "data": {
      "text/plain": [
       "Index(['nit_eps', 'nitproveedor', 'DCXPmes', 'ano', 'mes', 'CXP',\n",
       "       'ULTIMO_MES_FT004', 'ULTIMO_ANO_FT004', 'periodo_filtro'],\n",
       "      dtype='object')"
      ]
     },
     "metadata": {},
     "execution_count": 62
    }
   ],
   "metadata": {}
  },
  {
   "cell_type": "code",
   "execution_count": 63,
   "source": [
    "# Se crea una variable de control para filtrar por fecha del reporte\r\n",
    "FT004['periodo'] = pd.to_datetime(FT004.ano*10000 + FT004.mes*100 + 1, format='%Y%m%d')\r\n",
    "# FT004['periodo_filtro'] = pd.to_datetime(FT004.ULTIMO_ANO_FT004*10000 + FT004.ULTIMO_MES_FT004*100 + 1, format='%Y%m%d')"
   ],
   "outputs": [],
   "metadata": {}
  },
  {
   "cell_type": "code",
   "execution_count": 65,
   "source": [
    "# Se filtra el dataframe con las observaciones que cumplen las condiciones. La idea es eliminar aquellas observaciones que están por fuera de las fechas máximas de reporte de cada EPS, es decir, si una EPS reportó su información \r\n",
    "FT004 = FT004[\r\n",
    "    (FT004['periodo'] <= FT004['periodo_filtro'])\r\n",
    "    ]"
   ],
   "outputs": [],
   "metadata": {}
  },
  {
   "cell_type": "code",
   "execution_count": 66,
   "source": [
    "del [FT004_dif, df]"
   ],
   "outputs": [],
   "metadata": {}
  },
  {
   "cell_type": "code",
   "execution_count": 67,
   "source": [
    "# Para guardar la base de datos lista para ser tratada en formato Excel y CSV\r\n",
    "# FT004_V2.to_excel(r'C:/Users/Miguel Angel/Documents/Supersalud/Pagos_EPS_Proveedores/carteraprestador_2020_2021.xlsx', index = False)\r\n",
    "FT004.to_csv(r'C:/Users/Miguel Angel/Documents/Supersalud/Pagos_EPS_Proveedores/carteraprestador_2020_ene_jul_2021.csv', index = False, encoding='utf-8-sig')"
   ],
   "outputs": [],
   "metadata": {}
  },
  {
   "cell_type": "code",
   "execution_count": 40,
   "source": [
    "# Se eliminan la bases que no se necesitan para liberar espacio en la memoria\r\n",
    "del [FT004]"
   ],
   "outputs": [],
   "metadata": {}
  }
 ],
 "metadata": {
  "interpreter": {
   "hash": "b3ba2566441a7c06988d0923437866b63cedc61552a5af99d1f4fb67d367b25f"
  },
  "kernelspec": {
   "name": "python3",
   "display_name": "Python 3.8.5 64-bit ('base': conda)"
  },
  "language_info": {
   "codemirror_mode": {
    "name": "ipython",
    "version": 3
   },
   "file_extension": ".py",
   "mimetype": "text/x-python",
   "name": "python",
   "nbconvert_exporter": "python",
   "pygments_lexer": "ipython3",
   "version": "3.8.5"
  }
 },
 "nbformat": 4,
 "nbformat_minor": 4
}