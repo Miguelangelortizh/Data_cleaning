{
 "cells": [
  {
   "cell_type": "markdown",
   "source": [
    "<h2>FT003</h2>\r\n",
    "<p> En este apartado se trata la base de datos FT003 </p>"
   ],
   "metadata": {}
  },
  {
   "cell_type": "code",
   "execution_count": 2,
   "source": [
    "#Cargamos los paquetes que vamos a necesitar\r\n",
    "import pandas as pd\r\n",
    "import numpy as np\r\n",
    "import pyreadstat\r\n",
    "pd.pandas.set_option('display.max_columns', None)"
   ],
   "outputs": [],
   "metadata": {}
  },
  {
   "cell_type": "code",
   "execution_count": 3,
   "source": [
    "# # Se carga el FT003 para 2020 y 2021 completo desde el archivo .dta\r\n",
    "# FT003_2021_2021 = pd.read_stata('C:/Users/Miguel Angel/Documents/Supersalud/Pagos_EPS_Proveedores/Informe_Pagos/FT003 20202021.dta')\r\n",
    "# # Se carga el FT003 para diciembre de 2019 desde el archivo .dta\r\n",
    "# FT003_2019 = pd.read_stata('C:/Users/Miguel Angel/Documents/Supersalud/Pagos_EPS_Proveedores/Informe_Pagos/FT003 122019.dta')\r\n",
    "# # Se concatenan la bases de datos \r\n",
    "# frames = [FT003_2021_2021, FT003_2019]\r\n",
    "# FT003 = pd.concat(frames, ignore_index=True)\r\n",
    "# # Se eliminan la bases que no se necesitan para liberar espacio en la memoria\r\n",
    "# del [FT003_2021_2021, FT003_2019, frames]"
   ],
   "outputs": [],
   "metadata": {}
  },
  {
   "cell_type": "code",
   "execution_count": 4,
   "source": [
    "# Se carga el FT003 completo desde el archivo .csv\r\n",
    "FT003 = pd.read_csv('C:/Users/Miguel Angel/OneDrive - Supersalud/Supersalud/Bases_FT/BD_actualizadas/2_Mas_reciente_25082021/FT003.csv', dtype={'Nit':object, 'Año': object, 'Periodo': object, 'Fecha': object}, encoding='latin-1')"
   ],
   "outputs": [
    {
     "output_type": "stream",
     "name": "stderr",
     "text": [
      "C:\\ProgramData\\Anaconda3\\lib\\site-packages\\IPython\\core\\interactiveshell.py:3146: DtypeWarning: Columns (7) have mixed types.Specify dtype option on import or set low_memory=False.\n",
      "  has_raised = await self.run_ast_nodes(code_ast.body, cell_name,\n"
     ]
    }
   ],
   "metadata": {}
  },
  {
   "cell_type": "code",
   "execution_count": 5,
   "source": [
    "# Se genera una nueva columna extrayendo el mes y el año de la variable fecha\r\n",
    "FT003['ano'] = FT003['Fecha'].str[:4]\r\n",
    "FT003['mes'] = FT003['Fecha'].str[4:6]"
   ],
   "outputs": [],
   "metadata": {}
  },
  {
   "cell_type": "code",
   "execution_count": 6,
   "source": [
    "# Se reemplazan los nombres de las columnas para facilitar el tratamiento\r\n",
    "FT003.rename(columns={'Nit': 'nit_eps', 'lineaNegocio': 'linea','tipoIdDeudor': 'tipoiddeudor', 'idDeudor': 'nitproveedor', 'conceptoDeudores': 'concepto', 'tipoDeuda': 'tipodeuda', 'medicionPosterior': 'medicion', 'cxcPendientesRadicar': 'cxcsinradicar','cxcNoVencidas': 'cxcnovencidas', 'cxcMora30Dias': 'cxc30', 'cxcMora60Dias': 'cxc60', 'cxcMora90Dias': 'cxc90','cxcMora180Dias': 'cxc180', 'cxcMora360Dias': 'cxc360', 'cxcMoraMayor360Dias': 'cxcmayor360'}, inplace=True)"
   ],
   "outputs": [],
   "metadata": {}
  },
  {
   "cell_type": "code",
   "execution_count": 7,
   "source": [
    "# Se transforman los datos para su correcta identificación\r\n",
    "FT003[['nit_eps', 'RazonSocial', 'ano', 'mes', 'linea', 'tipoiddeudor',\r\n",
    "       'nitproveedor', 'dvDeudor', 'nombreDeudor', 'codigoMunicipio',\r\n",
    "       'concepto', 'tipodeuda', 'medicion']] = FT003[['nit_eps', 'RazonSocial', 'ano', 'mes', 'linea', 'tipoiddeudor',\r\n",
    "       'nitproveedor', 'dvDeudor', 'nombreDeudor', 'codigoMunicipio',\r\n",
    "       'concepto', 'tipodeuda', 'medicion']].astype(str)\r\n",
    "\r\n",
    "FT003[['cxcsinradicar', 'cxcnovencidas',\r\n",
    "       'valorMercado', 'cxc30', 'cxc60', 'cxc90', 'cxc180', 'cxc360',\r\n",
    "       'cxcmayor360', 'deterioro30Dias', 'deterioro60Dias', 'deterioro90Dias',\r\n",
    "       'deterioro180Dias', 'deterioro360Dias', 'deterioroMayor360Dias',\r\n",
    "       'ajuste', 'saldo']] = FT003[['cxcsinradicar', 'cxcnovencidas',\r\n",
    "       'valorMercado', 'cxc30', 'cxc60', 'cxc90', 'cxc180', 'cxc360',\r\n",
    "       'cxcmayor360', 'deterioro30Dias', 'deterioro60Dias', 'deterioro90Dias',\r\n",
    "       'deterioro180Dias', 'deterioro360Dias', 'deterioroMayor360Dias',\r\n",
    "       'ajuste', 'saldo']].astype(float)"
   ],
   "outputs": [],
   "metadata": {}
  },
  {
   "cell_type": "code",
   "execution_count": 8,
   "source": [
    "# Se filtra la línea de negocio de interés. En este caso corresponde a la línea 1\r\n",
    "FT003 = FT003.loc[FT003['linea'] == '1']"
   ],
   "outputs": [],
   "metadata": {}
  },
  {
   "cell_type": "code",
   "execution_count": 9,
   "source": [
    "# Se crea la columna Cuentas por Cobrar (CXC) sumando las columnas cxcsinradicar, cxcnovencidas, cxc30, cxc60, cxc90, cxc180, cxc360 y cxcmayor360\r\n",
    "CXC = FT003['cxcsinradicar'] + FT003['cxcnovencidas'] + FT003['cxc30'] + FT003['cxc60'] + FT003['cxc90'] + FT003['cxc180'] + FT003['cxc360'] + FT003['cxcmayor360']\r\n",
    "FT003['CXC'] = CXC"
   ],
   "outputs": [],
   "metadata": {}
  },
  {
   "cell_type": "code",
   "execution_count": 10,
   "source": [
    "# Para hacer la suma de CXC por NIT EPS, tipo de proveedor, NIT proveedor, Mes y Año\r\n",
    "FT003 = FT003.groupby(['nit_eps', 'nitproveedor', 'mes', 'ano']).agg({'CXC': 'sum'}).reset_index()"
   ],
   "outputs": [],
   "metadata": {}
  },
  {
   "cell_type": "code",
   "execution_count": 11,
   "source": [
    "FT003.info()"
   ],
   "outputs": [
    {
     "output_type": "stream",
     "name": "stdout",
     "text": [
      "<class 'pandas.core.frame.DataFrame'>\n",
      "RangeIndex: 874842 entries, 0 to 874841\n",
      "Data columns (total 5 columns):\n",
      " #   Column        Non-Null Count   Dtype  \n",
      "---  ------        --------------   -----  \n",
      " 0   nit_eps       874842 non-null  object \n",
      " 1   nitproveedor  874842 non-null  object \n",
      " 2   mes           874842 non-null  object \n",
      " 3   ano           874842 non-null  object \n",
      " 4   CXC           874842 non-null  float64\n",
      "dtypes: float64(1), object(4)\n",
      "memory usage: 33.4+ MB\n"
     ]
    }
   ],
   "metadata": {}
  },
  {
   "cell_type": "markdown",
   "source": [
    "<p> Desde aquí se guarda la base de datos con fechas máximas por proveedor </p>"
   ],
   "metadata": {}
  },
  {
   "cell_type": "code",
   "execution_count": 12,
   "source": [
    "# Se filtra el dataframe con las observaciones que cumplen las condiciones\r\n",
    "FT003_FECHA = FT003[\r\n",
    "    (FT003['ano'] == '2021')\r\n",
    "    ]"
   ],
   "outputs": [],
   "metadata": {}
  },
  {
   "cell_type": "code",
   "execution_count": 14,
   "source": [
    "# Se tranforma el formato de las columnas del dataframe \r\n",
    "FT003_FECHA[['ano', 'mes']] = FT003_FECHA[['ano', 'mes']].astype(int)"
   ],
   "outputs": [
    {
     "output_type": "stream",
     "name": "stdout",
     "text": [
      "<class 'pandas.core.frame.DataFrame'>\n",
      "Int64Index: 261128 entries, 2 to 874836\n",
      "Data columns (total 5 columns):\n",
      " #   Column        Non-Null Count   Dtype  \n",
      "---  ------        --------------   -----  \n",
      " 0   nit_eps       261128 non-null  object \n",
      " 1   nitproveedor  261128 non-null  object \n",
      " 2   mes           261128 non-null  int32  \n",
      " 3   ano           261128 non-null  int32  \n",
      " 4   CXC           261128 non-null  float64\n",
      "dtypes: float64(1), int32(2), object(2)\n",
      "memory usage: 10.0+ MB\n"
     ]
    },
    {
     "output_type": "stream",
     "name": "stderr",
     "text": [
      "C:\\ProgramData\\Anaconda3\\lib\\site-packages\\pandas\\core\\frame.py:3065: SettingWithCopyWarning: \n",
      "A value is trying to be set on a copy of a slice from a DataFrame.\n",
      "Try using .loc[row_indexer,col_indexer] = value instead\n",
      "\n",
      "See the caveats in the documentation: https://pandas.pydata.org/pandas-docs/stable/user_guide/indexing.html#returning-a-view-versus-a-copy\n",
      "  self[k1] = value[k2]\n"
     ]
    }
   ],
   "metadata": {}
  },
  {
   "cell_type": "code",
   "execution_count": 15,
   "source": [
    "# Se procede a eliminar los duplicados dejando el último movimiento registrado. Esto se debe ya que se busca trabajar con el último dato disponible\r\n",
    "FT003_FECHA = FT003_FECHA.sort_values(['ano', 'mes']).drop_duplicates('nitproveedor', keep='last')"
   ],
   "outputs": [],
   "metadata": {}
  },
  {
   "cell_type": "code",
   "execution_count": 19,
   "source": [
    "# Para guardar la base de datos lista para ser tratada en formato CSV\r\n",
    "FT003_FECHA.to_excel(r'C:/Users/Miguel Angel/OneDrive - Supersalud/Supersalud/Jul 6 Pagos WEB/Pagos WEB/EPS/2021/UNION_BASES/FT003_FECHA.xlsx', index = False)"
   ],
   "outputs": [],
   "metadata": {}
  },
  {
   "cell_type": "markdown",
   "source": [
    "<p> Hasta aquí se guarda la base de datos con fechas máximas por proveedor </p>"
   ],
   "metadata": {}
  },
  {
   "cell_type": "code",
   "execution_count": 20,
   "source": [
    "# Se comprueba que no haya duplicados cuando se filtra por NIT EPS, tipo de deudor, NIT proveedor, Mes y Año. Para esto se cuenta el número de duplicados\r\n",
    "duplicadosFT003 = FT003[FT003.duplicated(['nit_eps', 'nitproveedor', 'mes', 'ano'], keep='last')]\r\n",
    "print(\"El número de registros duplicados es:\", duplicadosFT003.nit_eps.count(), sep='\\n')"
   ],
   "outputs": [
    {
     "output_type": "stream",
     "name": "stdout",
     "text": [
      "El número de registros duplicados es:\n",
      "0\n"
     ]
    }
   ],
   "metadata": {}
  },
  {
   "cell_type": "code",
   "execution_count": 21,
   "source": [
    "# Para hacer la suma de CXC por NIT EPS, tipo de deudor corregido, NIT proveedor, Mes y Año\r\n",
    "FT003 = FT003.groupby(['nit_eps', 'nitproveedor', 'mes', 'ano']).agg({'CXC': 'sum'}).reset_index()"
   ],
   "outputs": [],
   "metadata": {}
  },
  {
   "cell_type": "code",
   "execution_count": 22,
   "source": [
    "# Se convierten las columnas de mes y año en int para mejorar su manipulación\r\n",
    "FT003[['ano', 'mes']] = FT003[['ano', 'mes']].astype(int)"
   ],
   "outputs": [],
   "metadata": {}
  },
  {
   "cell_type": "code",
   "execution_count": 23,
   "source": [
    "# Se libera memoria\r\n",
    "del [CXC, duplicadosFT003]"
   ],
   "outputs": [],
   "metadata": {}
  },
  {
   "cell_type": "code",
   "execution_count": 24,
   "source": [
    "# Se crea el rango de meses necesarios en cada mes\r\n",
    "fecha_ideal=range(1, 12 + 1)\r\n",
    "# Se rellena con ceros la información para los meses faltantes\r\n",
    "FT003 = FT003.set_index('mes').groupby(['nit_eps', 'nitproveedor', 'ano']).apply(lambda x: x.reindex(index=fecha_ideal, fill_value=0)).drop(['nit_eps', 'nitproveedor', 'ano'], 1).reset_index()"
   ],
   "outputs": [],
   "metadata": {}
  },
  {
   "cell_type": "code",
   "execution_count": 26,
   "source": [
    "# Se encuentran las observaciones que cumplen las condiciones\r\n",
    "df_filtered = FT003[\r\n",
    "    (FT003['ano'] == 2019) & (FT003['mes'] == 1) |\r\n",
    "    (FT003['ano'] == 2019) & (FT003['mes'] == 2) |\r\n",
    "    (FT003['ano'] == 2019) & (FT003['mes'] == 3) |\r\n",
    "    (FT003['ano'] == 2019) & (FT003['mes'] == 4) |\r\n",
    "    (FT003['ano'] == 2019) & (FT003['mes'] == 5) |\r\n",
    "    (FT003['ano'] == 2019) & (FT003['mes'] == 6) |\r\n",
    "    (FT003['ano'] == 2019) & (FT003['mes'] == 7) |\r\n",
    "    (FT003['ano'] == 2019) & (FT003['mes'] == 8) |\r\n",
    "    (FT003['ano'] == 2019) & (FT003['mes'] == 9) |\r\n",
    "    (FT003['ano'] == 2019) & (FT003['mes'] == 10) |\r\n",
    "    (FT003['ano'] == 2019) & (FT003['mes'] == 11)\r\n",
    "    ].index\r\n",
    "\r\n",
    "# Se eliminan las observaciones que cumplen las condiciones anteriore\r\n",
    "FT003 = FT003.drop(df_filtered)"
   ],
   "outputs": [],
   "metadata": {}
  },
  {
   "cell_type": "code",
   "execution_count": 27,
   "source": [
    "# Se completan los años y los meses para las observaciones que no presentaron ninguna observación en un año de interés. Por ejemplo, a aquellos sujetos que reportaron cifras en 2019, pero no en 2020, se les completa el año 2020 para poder calcular la diferencia entre diciembre de 2019 y enero de 2020\r\n",
    "# Se convierte la variable en mes y año - recordar que se debe modificar el rango de fecha con el cual se quiera trabajar, es decir, desde 12/01/2019 hasta 07/01/2021\r\n",
    "FT003[['ano', 'mes']] = FT003[['ano', 'mes']].astype(float)\r\n",
    "FT003['periodo'] = pd.to_datetime(FT003.ano*10000 + FT003.mes*100 + 1, format='%Y%m%d')\r\n",
    "fecha_ideal = pd.date_range('12-01-2019','07-01-2021',freq='M')"
   ],
   "outputs": [],
   "metadata": {}
  },
  {
   "cell_type": "code",
   "execution_count": 28,
   "source": [
    "# Se agrupa la información según NIT EPS, NIT proveedor y periodo sumando el valor de CXC que corresponda a cada agrupación descrita\r\n",
    "FT003_dif = FT003.groupby(['nit_eps', 'nitproveedor', pd.Grouper(key='periodo', freq='M')])[['CXC']].sum().reset_index()"
   ],
   "outputs": [],
   "metadata": {}
  },
  {
   "cell_type": "code",
   "execution_count": 29,
   "source": [
    "# Se prepara el dataframe para calcular la diferencia periodo a periodo (t+1 - t) respetando la agregación anterior\r\n",
    "FT003_dif = FT003_dif.set_index('periodo').groupby(['nit_eps', 'nitproveedor']).apply(lambda x: x.reindex(index=fecha_ideal, fill_value=0)).drop(['nit_eps', 'nitproveedor'], 1).reset_index()"
   ],
   "outputs": [],
   "metadata": {}
  },
  {
   "cell_type": "code",
   "execution_count": 30,
   "source": [
    "FT003_dif.info()"
   ],
   "outputs": [
    {
     "output_type": "stream",
     "name": "stdout",
     "text": [
      "<class 'pandas.core.frame.DataFrame'>\n",
      "RangeIndex: 2220359 entries, 0 to 2220358\n",
      "Data columns (total 4 columns):\n",
      " #   Column        Dtype         \n",
      "---  ------        -----         \n",
      " 0   nit_eps       object        \n",
      " 1   nitproveedor  object        \n",
      " 2   level_2       datetime64[ns]\n",
      " 3   CXC           float64       \n",
      "dtypes: datetime64[ns](1), float64(1), object(2)\n",
      "memory usage: 67.8+ MB\n"
     ]
    }
   ],
   "metadata": {}
  },
  {
   "cell_type": "code",
   "execution_count": 31,
   "source": [
    "# Se reemplazan los nombres de las columnas para facilitar el tratamiento\r\n",
    "FT003_dif.rename(columns={'level_2': 'periodo'}, inplace=True)"
   ],
   "outputs": [],
   "metadata": {}
  },
  {
   "cell_type": "code",
   "execution_count": 32,
   "source": [
    "# Se establece el index (identificación) como NIT EPS, NIT proveedor y el periodo para cada observación\r\n",
    "FT003_dif = FT003_dif.set_index(['nit_eps', 'nitproveedor', 'periodo'])"
   ],
   "outputs": [],
   "metadata": {}
  },
  {
   "cell_type": "code",
   "execution_count": 33,
   "source": [
    "# Se calcula la diferencia mensual para conocer el valor mensual de cada cuenta ya que por defecto vienen agregadas (t+1 - t) y se llenan los espacios vacíos con ceros\r\n",
    "FT003_dif = FT003_dif.diff().fillna(0).reset_index()"
   ],
   "outputs": [],
   "metadata": {}
  },
  {
   "cell_type": "code",
   "execution_count": 34,
   "source": [
    "# Se reemplazan los nombres de las columnas para facilitar el tratamiento\r\n",
    "FT003_dif.rename(columns={'CXC': 'DCXCmes'}, inplace=True)\r\n",
    "\r\n",
    "#  Se extrae el mes y el año para porterior left join con el agregado\r\n",
    "FT003_dif['ano'] = FT003_dif['periodo'].dt.year\r\n",
    "FT003_dif['mes'] = FT003_dif['periodo'].dt.month\r\n",
    "\r\n",
    "#Se transforman las variables a STR para mejorar su manipulación\r\n",
    "FT003[['ano', 'mes']] = FT003[['ano', 'mes']].astype(int)\r\n",
    "\r\n",
    "# Se eliminan las columnas que no son de interés\r\n",
    "FT003 = FT003.drop(['periodo'], axis=1)\r\n",
    "FT003_dif = FT003_dif.drop(['periodo'], axis=1)"
   ],
   "outputs": [],
   "metadata": {}
  },
  {
   "cell_type": "code",
   "execution_count": 35,
   "source": [
    "# Se unen las dos bases de datos para obtener la información de diferenciada mensualmente y agregada de las CXC en una sola base de datos. Se sobreescribe el FT003\r\n",
    "FT003 = pd.merge(FT003_dif, FT003, how='left', left_on=['nit_eps', 'nitproveedor', 'mes', 'ano'], right_on=['nit_eps', 'nitproveedor', 'mes', 'ano'])"
   ],
   "outputs": [],
   "metadata": {}
  },
  {
   "cell_type": "code",
   "execution_count": 36,
   "source": [
    "# Se encuentran las observaciones que cumplen las condiciones\r\n",
    "df_filtered = FT003[\r\n",
    "    (FT003['ano'] == 2019)\r\n",
    "    ].index\r\n",
    "\r\n",
    "# Se eliminan las observaciones que cumplen las condiciones anteriore\r\n",
    "FT003 = FT003.drop(df_filtered)"
   ],
   "outputs": [],
   "metadata": {}
  },
  {
   "cell_type": "code",
   "execution_count": 37,
   "source": [
    "# Se convierte la variable en mes y año\r\n",
    "FT003[['ano', 'mes']] = FT003[['ano', 'mes']].astype(float).astype(int)"
   ],
   "outputs": [],
   "metadata": {}
  },
  {
   "cell_type": "code",
   "execution_count": 38,
   "source": [
    "# Se agrega la información por NIT_EPS, Nitproveedor, noID, Departamento, Ano, Mes para las variables VPagado, VCausado, PW, Giro, No_UPC, Compra_Cartera\r\n",
    "FT003 = FT003.groupby(['nit_eps', 'nitproveedor', 'mes', 'ano']).agg({'CXC':'sum', 'DCXCmes':'sum'}).reset_index()"
   ],
   "outputs": [],
   "metadata": {}
  },
  {
   "cell_type": "markdown",
   "source": [
    "<p> Desde aquí se filtra la base por la fecha máxima de reporte de la información </p>"
   ],
   "metadata": {}
  },
  {
   "cell_type": "code",
   "execution_count": 39,
   "source": [
    "# Se seleccionan las columnas requeridas antes del cruce para filtrar la información (se excluye el valor de CXC)\r\n",
    "FT003_FECHA = FT003_FECHA[['nit_eps', 'nitproveedor', 'mes', 'ano']]"
   ],
   "outputs": [],
   "metadata": {}
  },
  {
   "cell_type": "code",
   "execution_count": 46,
   "source": [
    "FT003.info()"
   ],
   "outputs": [
    {
     "output_type": "stream",
     "name": "stdout",
     "text": [
      "<class 'pandas.core.frame.DataFrame'>\n",
      "Int64Index: 2103498 entries, 0 to 2103497\n",
      "Data columns (total 8 columns):\n",
      " #   Column            Dtype  \n",
      "---  ------            -----  \n",
      " 0   nit_eps           object \n",
      " 1   nitproveedor      object \n",
      " 2   mes               int64  \n",
      " 3   ano               int64  \n",
      " 4   CXC               float64\n",
      " 5   DCXCmes           float64\n",
      " 6   ULTIMO_MES_FT003  float64\n",
      " 7   ULTIMO_ANO_FT003  float64\n",
      "dtypes: float64(4), int64(2), object(2)\n",
      "memory usage: 144.4+ MB\n"
     ]
    }
   ],
   "metadata": {}
  },
  {
   "cell_type": "code",
   "execution_count": 41,
   "source": [
    "# Se modifican los nombres de las columnas para posterimente pegar las bases de datos\r\n",
    "FT003_FECHA.rename(columns={'mes': 'ULTIMO_MES_FT003', 'ano': 'ULTIMO_ANO_FT003'}, inplace=True)"
   ],
   "outputs": [],
   "metadata": {}
  },
  {
   "cell_type": "code",
   "execution_count": 43,
   "source": [
    "# Se unen las dos bases de datos para obtener la información de FT004_FT003_FT005 y prestadores\r\n",
    "FT003 = pd.merge(FT003, FT003_FECHA, how='left', left_on=['nit_eps', 'nitproveedor'], right_on=['nit_eps', 'nitproveedor'])"
   ],
   "outputs": [],
   "metadata": {}
  },
  {
   "cell_type": "code",
   "execution_count": 47,
   "source": [
    "# Se crea una variable de control para filtrar por fecha del reporte\r\n",
    "FT003['periodo'] = pd.to_datetime(FT003.ano*10000 + FT003.mes*100 + 1, format='%Y%m%d')\r\n",
    "FT003['periodo_filtro'] = pd.to_datetime(FT003.ULTIMO_ANO_FT003*10000 + FT003.ULTIMO_MES_FT003*100 + 1, format='%Y%m%d')"
   ],
   "outputs": [],
   "metadata": {}
  },
  {
   "cell_type": "code",
   "execution_count": 48,
   "source": [
    "# Se filtra el dataframe con las observaciones que cumplen las condiciones. La idea es eliminar aquellas observaciones que están por fuera de las fechas máximas de reporte de cada EPS, es decir, si una EPS reportó su información \r\n",
    "FT003 = FT003[\r\n",
    "    (FT003['periodo'] <= FT003['periodo_filtro'])\r\n",
    "    ]"
   ],
   "outputs": [],
   "metadata": {}
  },
  {
   "cell_type": "code",
   "execution_count": 51,
   "source": [
    "# Para guardar la base de datos lista para ser tratada en formato Excel y CSV\r\n",
    "# FT003_pres_ope.to_excel(r'C:/Users/Miguel Angel/Documents/Supersalud/Pagos_EPS_Proveedores/cxcprestador_2020_2021.xlsx', index = False)\r\n",
    "FT003.to_csv(r'C:/Users/Miguel Angel/Documents/Supersalud/Pagos_EPS_Proveedores/cxcprestador_2020_ene_jul_2021.csv', index = False, encoding='utf-8-sig')"
   ],
   "outputs": [],
   "metadata": {}
  },
  {
   "cell_type": "code",
   "execution_count": 52,
   "source": [
    "# Se eliminan la bases que no se necesitan para liberar espacio en la memoria\r\n",
    "del [FT003, FT003_FECHA, FT003_dif, df_filtered, fecha_ideal]"
   ],
   "outputs": [],
   "metadata": {}
  }
 ],
 "metadata": {
  "interpreter": {
   "hash": "b3ba2566441a7c06988d0923437866b63cedc61552a5af99d1f4fb67d367b25f"
  },
  "kernelspec": {
   "name": "python3",
   "display_name": "Python 3.8.5 64-bit ('base': conda)"
  },
  "language_info": {
   "codemirror_mode": {
    "name": "ipython",
    "version": 3
   },
   "file_extension": ".py",
   "mimetype": "text/x-python",
   "name": "python",
   "nbconvert_exporter": "python",
   "pygments_lexer": "ipython3",
   "version": "3.8.5"
  }
 },
 "nbformat": 4,
 "nbformat_minor": 4
}