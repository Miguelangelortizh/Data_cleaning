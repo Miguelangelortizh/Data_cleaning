{
 "cells": [
  {
   "cell_type": "markdown",
   "metadata": {},
   "source": [
    "<h2>Unión de todas las bases </h2>\n",
    "<p> En este apartado se tratan todas las bases para generar la unión de todas las bases</p>"
   ]
  },
  {
   "cell_type": "code",
   "execution_count": 1,
   "metadata": {},
   "outputs": [],
   "source": [
    "#Cargamos los paquetes que vamos a necesitar\n",
    "import pandas as pd\n",
    "import numpy as np\n",
    "import pyreadstat\n",
    "import pyarrow.feather as feather\n",
    "pd.pandas.set_option('display.max_columns', None)"
   ]
  },
  {
   "cell_type": "code",
   "execution_count": 2,
   "metadata": {},
   "outputs": [],
   "source": [
    "# Se carga el archivo tratado del FT004 que fue grabado como Cartera Prestador\r\n",
    "FT004 = pd.read_csv('C:/Users/Miguel Angel/Documents/Supersalud/Pagos_EPS_Proveedores/carteraprestador_2020_ene_mayo_2021.csv', encoding='utf-8-sig', dtype={'nit_eps':object, 'nitproveedor': object, 'ano': object, 'mes': object})\r\n"
   ]
  },
  {
   "cell_type": "code",
   "execution_count": 3,
   "metadata": {},
   "outputs": [],
   "source": [
    "# Para eliminar todos los espacios \n",
    "FT004['nit_eps'] = FT004['nit_eps'].str.replace(\" \", \"\")\n",
    "FT004['nitproveedor'] = FT004['nitproveedor'].str.replace(\" \", \"\")"
   ]
  },
  {
   "cell_type": "code",
   "execution_count": 4,
   "metadata": {},
   "outputs": [],
   "source": [
    "FT004 = FT004.groupby(['nit_eps', 'nitproveedor', 'ano', 'mes',]).agg({'CXP':'sum', 'DCXPmes':'sum'}).reset_index()"
   ]
  },
  {
   "cell_type": "code",
   "execution_count": 5,
   "metadata": {},
   "outputs": [],
   "source": [
    "# Se carga el archivo tratado del FT003 que fue grabado como cxcprestador\r\n",
    "FT003 = pd.read_csv('C:/Users/Miguel Angel/Documents/Supersalud/Pagos_EPS_Proveedores/cxcprestador_2020_ene_may_2021.csv', encoding='utf-8-sig', dtype={'nit_eps':object, 'nitproveedor': object, 'ano': object, 'mes': object})"
   ]
  },
  {
   "cell_type": "code",
   "execution_count": 6,
   "metadata": {},
   "outputs": [],
   "source": [
    "# Para eliminar todos los espacios \n",
    "FT003['nit_eps'] = FT003['nit_eps'].str.replace(\" \", \"\")\n",
    "FT003['nitproveedor'] = FT003['nitproveedor'].str.replace(\" \", \"\")"
   ]
  },
  {
   "cell_type": "code",
   "execution_count": 7,
   "metadata": {},
   "outputs": [],
   "source": [
    "FT003 = FT003.groupby(['nit_eps', 'nitproveedor', 'ano', 'mes',]).agg({'CXC':'sum', 'DCXCmes':'sum'}).reset_index()"
   ]
  },
  {
   "cell_type": "code",
   "execution_count": 8,
   "metadata": {},
   "outputs": [],
   "source": [
    "# Se unen las dos bases de datos para obtener la información de FT004 y FT003 en una sola base de datos\n",
    "FT004_FT003 = pd.merge(FT004, FT003, how='outer', left_on=['nit_eps', 'nitproveedor', 'ano', 'mes'], right_on=['nit_eps', 'nitproveedor', 'ano', 'mes'], indicator=True)"
   ]
  },
  {
   "cell_type": "code",
   "execution_count": 9,
   "metadata": {},
   "outputs": [],
   "source": [
    "# Se reemplazan los nombres de las columnas para facilitar el tratamiento\n",
    "FT004_FT003.rename(columns={'_merge': 'FT004_FT003'}, inplace=True)"
   ]
  },
  {
   "cell_type": "code",
   "execution_count": 11,
   "metadata": {},
   "outputs": [],
   "source": [
    "# Se carga el archivo tratado del FT005 que fue grabado como causaprestador\n",
    "FT005 = pd.read_csv('C:/Users/Miguel Angel/Documents/Supersalud/Pagos_EPS_Proveedores/CausaPrestador_2020_2021_V2.csv', encoding='utf-8-sig', dtype={'nit_eps':object, 'nitproveedor': object, 'noID': object, 'departamento': object, 'ano': object, 'mes': object})"
   ]
  },
  {
   "cell_type": "code",
   "execution_count": 12,
   "metadata": {},
   "outputs": [
    {
     "data": {
      "text/plain": [
       "Index(['nit_eps', 'nitproveedor', 'ano', 'mes', 'pagomes', 'causmes', 'giro',\n",
       "       'no_upc', 'compra_cartera', 'pw'],\n",
       "      dtype='object')"
      ]
     },
     "execution_count": 12,
     "metadata": {},
     "output_type": "execute_result"
    }
   ],
   "source": [
    "FT005.columns"
   ]
  },
  {
   "cell_type": "code",
   "execution_count": 13,
   "metadata": {},
   "outputs": [],
   "source": [
    "FT005 = FT005.groupby(['nit_eps', 'nitproveedor', 'ano', 'mes',]).agg({'pagomes':'sum', 'causmes':'sum', 'giro':'sum', 'no_upc':'sum', 'compra_cartera':'sum', 'pw':'sum'}).reset_index()"
   ]
  },
  {
   "cell_type": "code",
   "execution_count": 14,
   "metadata": {},
   "outputs": [],
   "source": [
    "# Se unen las dos bases de datos para obtener la información de FT004 y FT003 en una sola base de datos\n",
    "FT004_FT003_FT005 = pd.merge(FT004_FT003, FT005, how='outer', left_on=['nit_eps', 'nitproveedor', 'ano', 'mes'], right_on=['nit_eps', 'nitproveedor', 'ano', 'mes'], indicator=True)"
   ]
  },
  {
   "cell_type": "code",
   "execution_count": 15,
   "metadata": {},
   "outputs": [],
   "source": [
    "# Se eliminan los NIT EPS nulos\n",
    "FT004_FT003_FT005.dropna(subset=['nit_eps'], inplace=True)"
   ]
  },
  {
   "cell_type": "code",
   "execution_count": 16,
   "metadata": {},
   "outputs": [
    {
     "ename": "NameError",
     "evalue": "name 'FT004_V2' is not defined",
     "output_type": "error",
     "traceback": [
      "\u001b[1;31m---------------------------------------------------------------------------\u001b[0m",
      "\u001b[1;31mNameError\u001b[0m                                 Traceback (most recent call last)",
      "\u001b[1;32m<ipython-input-16-ee4a3863b625>\u001b[0m in \u001b[0;36m<module>\u001b[1;34m\u001b[0m\n\u001b[1;32m----> 1\u001b[1;33m \u001b[1;32mdel\u001b[0m \u001b[1;33m[\u001b[0m\u001b[0mFT003\u001b[0m\u001b[1;33m,\u001b[0m \u001b[0mFT004\u001b[0m\u001b[1;33m,\u001b[0m \u001b[0mFT004_FT003\u001b[0m\u001b[1;33m,\u001b[0m \u001b[0mFT005\u001b[0m\u001b[1;33m,\u001b[0m \u001b[0mFT004_V2\u001b[0m\u001b[1;33m]\u001b[0m\u001b[1;33m\u001b[0m\u001b[1;33m\u001b[0m\u001b[0m\n\u001b[0m",
      "\u001b[1;31mNameError\u001b[0m: name 'FT004_V2' is not defined"
     ]
    }
   ],
   "source": [
    "del [FT003, FT004, FT004_FT003, FT005]"
   ]
  },
  {
   "cell_type": "markdown",
   "metadata": {},
   "source": [
    "<p> La línea siguiente solo se debe ejecutar si se quiere desagregar los prestadores, pues se debe contar con la base de datos del sharepoint EAPB en formato .xlsx. Se debe tener en cuenta que esta desagregación puede afectar la columna noID y, por ende, los valores agregados para pagos y demás. </p>"
   ]
  },
  {
   "cell_type": "code",
   "execution_count": null,
   "metadata": {},
   "outputs": [],
   "source": [
    "# # Aquí se pegan las columnas de noID que corresponden al sharepoint de EAPB (la base de datos fue descargada previamente en formato .xlsx)\r\n",
    "# EPS = pd.read_excel('C:/Users/Miguel Angel/Documents/Supersalud/Pagos_EPS_Proveedores/Reg_EAPB.xlsx', dtype=str)\r\n",
    "# # Se unen las dos bases de datos para obtener la información de FT004, FT003, FT005 y la base de datos noID en una sola base de datos\r\n",
    "# FT004_FT003_FT005 = pd.merge(FT004_FT003_FT005, EPS, how='left', left_on=['nitproveedor'], right_on=['Nit'])\r\n",
    "# # Se elimina el dataframe auxiliar para identificar las EPS por el sharepoint EAPB\r\n",
    "# del [EPS]\r\n",
    "# # Para conocer cuantas observaciones se tienen por tipo de aseguradora\r\n",
    "# FT004_FT003_FT005.Reg_EAPB.value_counts()"
   ]
  },
  {
   "cell_type": "markdown",
   "metadata": {},
   "source": [
    "<p> # Se carga la base de datos prestadores.xls para su posterior pega (se debe saber que esta base de datos debe ser modificada cada que se pueda identificando aquellos casos que aparecen como Objeto Social Diferente (OSD), pero en realidad pertenecen a otra categoria de prestador (IF, GIM, DM, TEP, Operador, entre otros). Es decir, en la base de datos prestadores figuran como OSD pero en realidad son IF por su naturaleza. </p>"
   ]
  },
  {
   "cell_type": "code",
   "execution_count": 17,
   "metadata": {},
   "outputs": [],
   "source": [
    "# Se carga la base de datos prestadores.xls para su posterior pega (se debe saber que esta base de datos es modificada identificando aquellos casos que aparecen como Objeto Social Diferente (OSD), pero en realidad pertenecen a otra categoria de prestador (iF, GIM, DM, operador, entre otros). Es decir, en la base de datos prestadores figuran como OSD pero en realidad son IF por su naturaleza\r\n",
    "prestadores = pd.read_excel('C:/Users/Miguel Angel/Documents/Supersalud/Pagos_EPS_Proveedores/prestadores.xls', dtype=str)"
   ]
  },
  {
   "cell_type": "code",
   "execution_count": 18,
   "metadata": {},
   "outputs": [],
   "source": [
    "# Se eliminan las columnas que no son de interés\n",
    "prestadores = prestadores.drop(['clpr_codigo', 'naju_nombre'], axis=1)"
   ]
  },
  {
   "cell_type": "code",
   "execution_count": 19,
   "metadata": {},
   "outputs": [],
   "source": [
    "# Se unen las dos bases de datos para obtener la información de FT004_FT003_FT005 y prestadores\n",
    "FT004_FT003_FT005 = pd.merge(FT004_FT003_FT005, prestadores, how='left', left_on=['nitproveedor'], right_on=['nitproveedor'])"
   ]
  },
  {
   "cell_type": "code",
   "execution_count": 20,
   "metadata": {},
   "outputs": [],
   "source": [
    "# Se eilimina la base de datos auxiliar\r\n",
    "del [prestadores]"
   ]
  },
  {
   "cell_type": "code",
   "execution_count": 21,
   "metadata": {
    "scrolled": true
   },
   "outputs": [
    {
     "data": {
      "text/plain": [
       "Index(['nit_eps', 'nitproveedor', 'ano', 'mes', 'CXP', 'DCXPmes', 'CXC',\n",
       "       'DCXCmes', 'FT004_FT003', 'pagomes', 'causmes', 'giro', 'no_upc',\n",
       "       'compra_cartera', 'pw', '_merge', 'nombre_prestador', 'clpr_nombre',\n",
       "       'departamento', 'CONTROL'],\n",
       "      dtype='object')"
      ]
     },
     "execution_count": 21,
     "metadata": {},
     "output_type": "execute_result"
    }
   ],
   "source": [
    "# Se conocen las columnas del dataframe principal\r\n",
    "FT004_FT003_FT005.columns"
   ]
  },
  {
   "cell_type": "markdown",
   "metadata": {},
   "source": [
    "<p> La siguiente celda se debe ejecutar si se optó por utilizar la desagregación por aseguradora de la base de datos del sharepoint EAPB pues lo que hace es unir la clasificación que se tiene en dicha base con la de prestadores </p>"
   ]
  },
  {
   "cell_type": "code",
   "execution_count": null,
   "metadata": {},
   "outputs": [],
   "source": [
    "# # La siguiente celda se debe ejecutar si se optó por utilizar la desagregación por aseguradora de la base de datos del sharepoint EAPB pues lo que hace es unir la clasificación que se tiene en dicha base con la de prestadores. Además, se llena los vacios con \"nan\" para facilitar el tratamiento posterior del tipo noID.\r\n",
    "# noID = FT004_FT003_FT005['clpr_nombre'].astype(str).fillna('NA') + \"-\" + FT004_FT003_FT005['Reg_EAPB'].astype(str).fillna('NA')\r\n",
    "# # Se crea la columna noID respecto a concatenar las columnas Reg_EAPB y clpr_nombre\r\n",
    "# FT004_FT003_FT005['noID']=noID\r\n",
    "# # Se libera espacio de la memoria\r\n",
    "# del [noID]\r\n",
    "# # Aquí se quitan los nan-\r\n",
    "# FT004_FT003_FT005['noID'] = FT004_FT003_FT005['noID'].str.replace('nan-','')\r\n",
    "# # Aquí se quitan los -nan\r\n",
    "# FT004_FT003_FT005['noID'] = FT004_FT003_FT005['noID'].str.replace('-nan','')"
   ]
  },
  {
   "cell_type": "code",
   "execution_count": 22,
   "metadata": {},
   "outputs": [],
   "source": [
    "# Se crea la columna noID respecto a la columna clpr_nombre tomada de la base de datos prestadores.xls\r\n",
    "# RECORDAR QUE ESTA LINEA SE APLICA SOLO PARA LA AGREGACIÓN MAXIMA DE NOID (CUANDO NO SE TIENE EN CUENTA EL SHAREPOINT EAPB)\r\n",
    "FT004_FT003_FT005['noID']=FT004_FT003_FT005['clpr_nombre'].astype(str)"
   ]
  },
  {
   "cell_type": "code",
   "execution_count": 24,
   "metadata": {
    "scrolled": true
   },
   "outputs": [
    {
     "data": {
      "text/plain": [
       "nan                          16208105\n",
       "IPS                            727371\n",
       "IPS Pública                    492310\n",
       "Profesional Independiente      239777\n",
       "OSD                             87735\n",
       "TEP                             15986\n",
       "IF                               1506\n",
       "DM                                536\n",
       "Operador                          487\n",
       "Name: noID, dtype: int64"
      ]
     },
     "execution_count": 24,
     "metadata": {},
     "output_type": "execute_result"
    }
   ],
   "source": [
    "# Se conocen el número de observaciones por cada noID\r\n",
    "FT004_FT003_FT005.noID.value_counts()"
   ]
  },
  {
   "cell_type": "code",
   "execution_count": null,
   "metadata": {},
   "outputs": [],
   "source": [
    "#FT004_FT003_FT005.loc[FT004_FT003_FT005['noID'].isnull(), 'noID'] = FT004_FT003_FT005['clpr_nombre']  # Para rellenar los vacios con \"clpr_nombre\""
   ]
  },
  {
   "cell_type": "code",
   "execution_count": 25,
   "metadata": {},
   "outputs": [],
   "source": [
    "# Se carga la base de datos operadores.dta para su posterior pega\n",
    "operadores = pd.read_stata('C:/Users/Miguel Angel/Documents/Supersalud/Pagos_EPS_Proveedores/operadores.dta')"
   ]
  },
  {
   "cell_type": "code",
   "execution_count": 26,
   "metadata": {},
   "outputs": [],
   "source": [
    "# Se unen las dos bases de datos para obtener la información de FT005 con webgironoupc (Giro Directo - No_UPC - Compra de Cartera) y prestadores\n",
    "FT004_FT003_FT005= pd.merge(FT004_FT003_FT005, operadores, how='left', left_on=['nitproveedor'], right_on=['nitproveedor'])"
   ]
  },
  {
   "cell_type": "code",
   "execution_count": 27,
   "metadata": {},
   "outputs": [],
   "source": [
    "# Para corregir el IPS cuando Tipo es vacío, por IPS-OL-DM-GIM\n",
    "FT004_FT003_FT005.loc[(FT004_FT003_FT005['noID'] == 'IPS') & \n",
    "       (FT004_FT003_FT005['tipo'].notnull()), \n",
    "       'noID'] = 'IPS-OL-DM-GIM'"
   ]
  },
  {
   "cell_type": "code",
   "execution_count": 28,
   "metadata": {},
   "outputs": [],
   "source": [
    "# Se genera una nueva columna extrayendo el primer caracter del ID nitproveedor\n",
    "FT004_FT003_FT005['d1'] = FT004_FT003_FT005['nitproveedor'].str[:1]\n",
    "\n",
    "# Se genera una nueva columna con la cuenta del numero de componentes que tiene el ID nitproveedor\n",
    "FT004_FT003_FT005['largo'] = FT004_FT003_FT005.nitproveedor.str.len()"
   ]
  },
  {
   "cell_type": "code",
   "execution_count": 29,
   "metadata": {},
   "outputs": [],
   "source": [
    "# Se limpia la clasificación por Tipo de ID\r\n",
    "FT004_FT003_FT005['tipoid'] = 'NA' # Se crea la columna con categoria NA como base\r\n",
    "# Condiciones\r\n",
    "FT004_FT003_FT005.loc[\r\n",
    "       (FT004_FT003_FT005['tipoid'] == 'NA') &\r\n",
    "       (FT004_FT003_FT005['largo'] == 10) & # Para signar el tipo de acreedor CC\r\n",
    "       (FT004_FT003_FT005['d1'] == '1'), \r\n",
    "       'tipoid'] = 'CC' \r\n",
    "FT004_FT003_FT005.loc[(FT004_FT003_FT005['tipoid'] == 'NA') &\r\n",
    "       (FT004_FT003_FT005['largo'] == 9) & # Para signar el tipo de acreedor NI\r\n",
    "       ((FT004_FT003_FT005['d1'] == '7') |\r\n",
    "       (FT004_FT003_FT005['d1'] == '8') |\r\n",
    "       (FT004_FT003_FT005['d1'] == '9')),  \r\n",
    "       'tipoid'] = 'NI' \r\n",
    "FT004_FT003_FT005.loc[(FT004_FT003_FT005['tipoid'] == 'NA') &\r\n",
    "       (FT004_FT003_FT005['tipoid'] != 'NI'), # Para completar el tipo de acreedor CC\r\n",
    "       'tipoid'] = 'CC' "
   ]
  },
  {
   "cell_type": "markdown",
   "metadata": {},
   "source": [
    "<p> En las siguientes líneas se incluyen los noID que deben introducidos manualmente para generalizar la clasificación del proveedor </p>"
   ]
  },
  {
   "cell_type": "code",
   "execution_count": 30,
   "metadata": {},
   "outputs": [],
   "source": [
    "# Se reemplazan los NIT de la nación\n",
    "FT004_FT003_FT005.loc[(FT004_FT003_FT005['nitproveedor'] == \"901037916\") | \n",
    "       (FT004_FT003_FT005['nitproveedor'] == \"900047282\") |\n",
    "       (FT004_FT003_FT005['nitproveedor'] == \"899999014\") |\n",
    "       (FT004_FT003_FT005['nitproveedor'] == \"900474727\") |\n",
    "       (FT004_FT003_FT005['nitproveedor'] == \"900462447\"),  \n",
    "       'noID'] = 'Nacion'"
   ]
  },
  {
   "cell_type": "code",
   "execution_count": 31,
   "metadata": {},
   "outputs": [],
   "source": [
    "# Se rellenan los noID que sean \"nan\" con el Tipo si el Tipo no es vacío\r\n",
    "FT004_FT003_FT005.loc[(FT004_FT003_FT005['noID'] == \"nan\") & \r\n",
    "       (FT004_FT003_FT005['tipo'].notnull()), \r\n",
    "       'noID'] = FT004_FT003_FT005['tipo']"
   ]
  },
  {
   "cell_type": "code",
   "execution_count": 32,
   "metadata": {},
   "outputs": [],
   "source": [
    "# Para cambiar el noID por Persona Natural si en Tipo Proveedor se tiene CC y CE\r\n",
    "FT004_FT003_FT005.loc[(FT004_FT003_FT005['noID'] == 'nan') & \r\n",
    "       ((FT004_FT003_FT005['tipoid'] == 'CC') |\r\n",
    "       (FT004_FT003_FT005['tipoid'] == 'CE')), \r\n",
    "       'noID'] = 'Persona Natural'"
   ]
  },
  {
   "cell_type": "code",
   "execution_count": 34,
   "metadata": {},
   "outputs": [],
   "source": [
    "# Para cambiar el noID por Otro cuando es \"nan\"\r\n",
    "FT004_FT003_FT005.loc[FT004_FT003_FT005['noID'] == 'nan', 'noID'] = 'Otro'"
   ]
  },
  {
   "cell_type": "markdown",
   "metadata": {},
   "source": [
    "<p> Se reemplaza el noID de EPS por Otro. Este reemplazo se da ya que a veces las EPS se pagan a si mismas para cuadrar procesos administrativos y si se consideran estos pagos como a otro tercero se estaría incurriendo en problemas de contabilidad, por tal motivo, estos pagos se toman como pagos a Otro y no se incluye en las catergorias que se les dieron por separada gracias a la base de datos prestadores.xls </p>"
   ]
  },
  {
   "cell_type": "code",
   "execution_count": 35,
   "metadata": {},
   "outputs": [],
   "source": [
    "# Se reemplaza el noID de EPS por Otro. Este reemplazo se da ya que a veces las EPS se pagan a si mismas para cuadrar procesos administrativos y si se consideran estos pagos como a otro tercero se estaría incurriendo en problemas de contabilidad, por tal motivo, estos pagos se toman como pagos a Otro y no se incluye en las catergorias que se les dieron por separada gracias a la base de datos prestadores.xls\r\n",
    "FT004_FT003_FT005.loc[(FT004_FT003_FT005['nitproveedor'] == FT004_FT003_FT005['nit_eps']), \r\n",
    "       'noID'] = 'Otro'\r\n",
    "# Para facilitar la agregación y la privacidad de las personas naturales, el NIT proveedor se reemplaza por los valores 123456789\r\n",
    "FT004_FT003_FT005.loc[(FT004_FT003_FT005['noID'] == 'Persona Natural'), \r\n",
    "       'nitproveedor'] = '123456789'"
   ]
  },
  {
   "cell_type": "code",
   "execution_count": null,
   "metadata": {
    "scrolled": true
   },
   "outputs": [],
   "source": [
    "FT004_FT003_FT005.noID.value_counts()"
   ]
  },
  {
   "cell_type": "code",
   "execution_count": 33,
   "metadata": {},
   "outputs": [],
   "source": [
    "# Se crea un backup de la base en formato Feather\r\n",
    "feather.write_feather(FT004_FT003_FT005, 'C:/Users/Miguel Angel/Documents/Supersalud/Pagos_EPS_Proveedores/FT004_FT003_FT005_backup_feather_ene_may_2021') # Esta línea guarda la base de datos en binario \r\n",
    "\r\n",
    "# Aquí se recupera el back up\r\n",
    "#FT004_FT003_FT005 = pd.read_feather('C:/Users/Miguel Angel/Documents/Supersalud/Pagos_EPS_Proveedores/FT004_FT003_FT005_backup_feather_ene_may_2021')"
   ]
  },
  {
   "cell_type": "markdown",
   "metadata": {},
   "source": [
    "<p>--------------------------</p>"
   ]
  },
  {
   "cell_type": "code",
   "execution_count": 36,
   "metadata": {},
   "outputs": [],
   "source": [
    "# Se reemplazan los nombres de las columnas para facilitar el tratamiento\n",
    "FT004_FT003_FT005.rename(columns={'_merge': 'FT004_FT003_FT005'}, inplace=True)"
   ]
  },
  {
   "cell_type": "code",
   "execution_count": 37,
   "metadata": {},
   "outputs": [],
   "source": [
    "# Se carga el archivo analisis para facilitar el tratamiento de la información por EPS\r\n",
    "analisis = pd.read_stata('C:/Users/Miguel Angel/Documents/Supersalud/Pagos_EPS_Proveedores/analisis.dta')"
   ]
  },
  {
   "cell_type": "code",
   "execution_count": 38,
   "metadata": {},
   "outputs": [],
   "source": [
    "# Se reemplazan los nombres de las columnas para facilitar el tratamiento\n",
    "analisis.rename(columns={'nit': 'nit_eps'}, inplace=True)\n",
    "# Se convierte la variable en str para facilitar su manipulación\n",
    "analisis[['nit_eps', 'tipo']] = analisis[['nit_eps', 'tipo']].astype(str)"
   ]
  },
  {
   "cell_type": "code",
   "execution_count": 39,
   "metadata": {},
   "outputs": [],
   "source": [
    "# Se unen las dos bases de datos para obtener la información de FT004, FT003, FT005 y la base de datos Analisis en una sola base de datos\n",
    "FT004_FT003_FT005 = pd.merge(FT004_FT003_FT005, analisis, how='left', left_on=['nit_eps'], right_on=['nit_eps'])"
   ]
  },
  {
   "cell_type": "code",
   "execution_count": 40,
   "metadata": {
    "scrolled": true
   },
   "outputs": [],
   "source": [
    "# Se eliminan la bases que no se necesitan para liberar espacio en la memoria\r\n",
    "del [analisis]"
   ]
  },
  {
   "cell_type": "code",
   "execution_count": 42,
   "metadata": {},
   "outputs": [],
   "source": [
    "# Se encuentran las observaciones que cumplen las condiciones. Esta condición está basada en la base de datos analisis ya que se eliminan las observaciones que no aparecen en dicha base o nno tienen Tipo asignado en dicha base.\r\n",
    "df_filtered = FT004_FT003_FT005[\r\n",
    "    (FT004_FT003_FT005['tipo_y'].isnull())\r\n",
    "    ].index"
   ]
  },
  {
   "cell_type": "code",
   "execution_count": 43,
   "metadata": {},
   "outputs": [],
   "source": [
    "# Se eliminan las observaciones que cumplen las condiciones anteriore\n",
    "FT004_FT003_FT005 = FT004_FT003_FT005.drop(df_filtered)"
   ]
  },
  {
   "cell_type": "code",
   "execution_count": 44,
   "metadata": {},
   "outputs": [],
   "source": [
    "# Se especifica el tipo de variable que se tiene para facilitar el tratamiento de las variables\r\n",
    "FT004_FT003_FT005[['DCXPmes', 'DCXCmes', 'pw', 'giro', 'no_upc', 'compra_cartera', 'CXP', 'CXC', 'causmes', 'pagomes']] = FT004_FT003_FT005[['DCXPmes', 'DCXCmes', 'pw', 'giro', 'no_upc', 'compra_cartera', 'CXP', 'CXC', 'causmes', 'pagomes']].astype(float)"
   ]
  },
  {
   "cell_type": "code",
   "execution_count": 45,
   "metadata": {},
   "outputs": [],
   "source": [
    "# Se llenan con 0 los espacios vacíos de las variables de interés\n",
    "FT004_FT003_FT005[['DCXPmes', 'DCXCmes', 'pw', 'giro', 'no_upc', 'compra_cartera', 'CXP', 'CXC', 'causmes', 'pagomes']] = FT004_FT003_FT005[['DCXPmes', 'DCXCmes', 'pw', 'giro', 'no_upc', 'compra_cartera', 'CXP', 'CXC', 'causmes', 'pagomes']].fillna(value=0)"
   ]
  },
  {
   "cell_type": "markdown",
   "metadata": {},
   "source": [
    "<p> A partir de aquí se crea la columna PAGO. Es importante anotar que se utilizan diferentes objetos como auxiliares para optimizar el cálculo debido al volumen de la base de datos.</p>"
   ]
  },
  {
   "cell_type": "code",
   "execution_count": 46,
   "metadata": {},
   "outputs": [],
   "source": [
    "# Se crea la columna PAGO tomando como referencia la columna pagomes\r\n",
    "FT004_FT003_FT005['PAGO'] = FT004_FT003_FT005['pagomes'] "
   ]
  },
  {
   "cell_type": "code",
   "execution_count": 47,
   "metadata": {},
   "outputs": [],
   "source": [
    "# Se establecen las condiciones para establecer correctamente el PAGO\n",
    "FT004_FT003_FT005.loc[(FT004_FT003_FT005['tipo_y'] == 'web'),\n",
    "       'PAGO'] = FT004_FT003_FT005['pw']\n",
    "       \n",
    "FT004_FT003_FT005.loc[(FT004_FT003_FT005['tipo_y'] == 'giro'),\n",
    "       'PAGO'] = FT004_FT003_FT005['giro']"
   ]
  },
  {
   "cell_type": "code",
   "execution_count": 48,
   "metadata": {},
   "outputs": [],
   "source": [
    "# Objeto auxiliar\r\n",
    "webgiro = FT004_FT003_FT005['pw'] + FT004_FT003_FT005['giro']"
   ]
  },
  {
   "cell_type": "code",
   "execution_count": 49,
   "metadata": {},
   "outputs": [],
   "source": [
    "# Se crea la columna webgiro\r\n",
    "FT004_FT003_FT005['webgiro'] = webgiro"
   ]
  },
  {
   "cell_type": "code",
   "execution_count": 50,
   "metadata": {},
   "outputs": [],
   "source": [
    "# Objeto auxiliar\r\n",
    "FT004_FT003_FT005.loc[(FT004_FT003_FT005['tipo_y'] == 'webgiro'),\r\n",
    "       'PAGO'] = FT004_FT003_FT005['webgiro']"
   ]
  },
  {
   "cell_type": "code",
   "execution_count": 51,
   "metadata": {},
   "outputs": [],
   "source": [
    "# Objeto auxiliar\r\n",
    "SaldoCartera = FT004_FT003_FT005['CXP'] - FT004_FT003_FT005['CXC']"
   ]
  },
  {
   "cell_type": "code",
   "execution_count": 52,
   "metadata": {},
   "outputs": [],
   "source": [
    "# Se crea la columna Saldo Cartera\n",
    "FT004_FT003_FT005['SaldoCartera'] = SaldoCartera"
   ]
  },
  {
   "cell_type": "code",
   "execution_count": 53,
   "metadata": {},
   "outputs": [],
   "source": [
    "# Objeto auxiliar\r\n",
    "A = FT004_FT003_FT005['DCXPmes'] * (-1)"
   ]
  },
  {
   "cell_type": "code",
   "execution_count": 54,
   "metadata": {},
   "outputs": [],
   "source": [
    "# Se genera una columna auxiliar para cambiar el signo de DCXPmes\n",
    "FT004_FT003_FT005['A'] = A"
   ]
  },
  {
   "cell_type": "code",
   "execution_count": 55,
   "metadata": {},
   "outputs": [],
   "source": [
    "# Se genera una columna auxiliar para cambiar el valor de DCXPmes\n",
    "FT004_FT003_FT005['CALC'] = 0"
   ]
  },
  {
   "cell_type": "code",
   "execution_count": 56,
   "metadata": {},
   "outputs": [],
   "source": [
    "# Objeto auxiliar\r\n",
    "CALC = FT004_FT003_FT005['causmes'] + FT004_FT003_FT005['A'] + FT004_FT003_FT005['DCXCmes'] "
   ]
  },
  {
   "cell_type": "code",
   "execution_count": 57,
   "metadata": {},
   "outputs": [],
   "source": [
    "# Objeto auxiliar\r\n",
    "FT004_FT003_FT005['CALC_AUX'] = CALC"
   ]
  },
  {
   "cell_type": "code",
   "execution_count": 58,
   "metadata": {},
   "outputs": [],
   "source": [
    "# Objeto auxiliar\r\n",
    "FT004_FT003_FT005.loc[(FT004_FT003_FT005['DCXCmes'] >= 0),  \r\n",
    "       'CALC'] = FT004_FT003_FT005['CALC_AUX']"
   ]
  },
  {
   "cell_type": "code",
   "execution_count": 59,
   "metadata": {},
   "outputs": [],
   "source": [
    "# Se genera una columna auxiliar para cambiar el valor de causmes\n",
    "FT004_FT003_FT005['B'] = 0"
   ]
  },
  {
   "cell_type": "code",
   "execution_count": 60,
   "metadata": {},
   "outputs": [],
   "source": [
    "# Objeto auxiliar\r\n",
    "B = FT004_FT003_FT005['causmes'] + FT004_FT003_FT005['A']"
   ]
  },
  {
   "cell_type": "code",
   "execution_count": 61,
   "metadata": {},
   "outputs": [],
   "source": [
    "# Objeto auxiliar\r\n",
    "FT004_FT003_FT005['B_AUX'] = B"
   ]
  },
  {
   "cell_type": "code",
   "execution_count": 62,
   "metadata": {},
   "outputs": [],
   "source": [
    "# Objeto auxiliar\r\n",
    "FT004_FT003_FT005.loc[(FT004_FT003_FT005['DCXCmes'] < 0),  \r\n",
    "       'B'] = FT004_FT003_FT005['B_AUX'] "
   ]
  },
  {
   "cell_type": "code",
   "execution_count": 63,
   "metadata": {},
   "outputs": [],
   "source": [
    "# Se reemplaza la columna CALC si se cumplen las condiciones\n",
    "FT004_FT003_FT005.loc[(FT004_FT003_FT005['DCXCmes'] < 0),  \n",
    "       'CALC'] = FT004_FT003_FT005['B']"
   ]
  },
  {
   "cell_type": "code",
   "execution_count": 64,
   "metadata": {},
   "outputs": [],
   "source": [
    "# Se eliminan las columnas que no son de interés. Estas columnas fueron creadas como auxiliares. Estos objetos se crearon como auxiliares para los cálculos de interés\r\n",
    "FT004_FT003_FT005 = FT004_FT003_FT005.drop(['A', 'B', 'var4'], axis=1)"
   ]
  },
  {
   "cell_type": "code",
   "execution_count": 65,
   "metadata": {},
   "outputs": [],
   "source": [
    "# Se eliminan la bases que no se necesitan para liberar espacio en la memoria. Estos objetos se crearon como auxiliares para los cálculos de interés\r\n",
    "del [A, B, CALC, SaldoCartera, df_filtered, webgiro]"
   ]
  },
  {
   "cell_type": "code",
   "execution_count": 66,
   "metadata": {},
   "outputs": [],
   "source": [
    "# Se carga la base de datos RUES.dta para su posterior pega\n",
    "RUES = pd.read_stata('C:/Users/Miguel Angel/Documents/Supersalud/Pagos_EPS_Proveedores/RUES_V2.dta')"
   ]
  },
  {
   "cell_type": "code",
   "execution_count": 67,
   "metadata": {},
   "outputs": [],
   "source": [
    "# Se unen las dos bases de datos para obtener la información de FT004_FT003_FT005 y RUES\r\n",
    "FT004_FT003_FT005 = pd.merge(FT004_FT003_FT005, RUES, how='left', left_on=['nitproveedor'], right_on=['nitproveedor'])"
   ]
  },
  {
   "cell_type": "code",
   "execution_count": 68,
   "metadata": {},
   "outputs": [],
   "source": [
    "# Se elimina la base de datos auxiliar de RUES\r\n",
    "del [RUES]"
   ]
  },
  {
   "cell_type": "code",
   "execution_count": 69,
   "metadata": {},
   "outputs": [],
   "source": [
    "# Para rellenar los Nombres de los prestadores vacios con Razón Social\r\n",
    "FT004_FT003_FT005.loc[FT004_FT003_FT005['nombre_prestador'].notnull(), 'razónsocialonombre'] = FT004_FT003_FT005['nombre_prestador'] "
   ]
  },
  {
   "cell_type": "code",
   "execution_count": 70,
   "metadata": {
    "scrolled": true
   },
   "outputs": [],
   "source": [
    "# Se eliminan las columnas que no son de interés\n",
    "FT004_FT003_FT005 = FT004_FT003_FT005.drop(['nombre_prestador'], axis=1)"
   ]
  },
  {
   "cell_type": "code",
   "execution_count": 71,
   "metadata": {},
   "outputs": [],
   "source": [
    "# Se rellenan los departamentos con Otro cuando es nulo\r\n",
    "FT004_FT003_FT005.loc[(FT004_FT003_FT005['departamento'].isnull()), \r\n",
    "       'departamento'] = 'Otro'"
   ]
  },
  {
   "cell_type": "markdown",
   "metadata": {},
   "source": [
    "<p> Desde aquí se hace el tratamiento para la agregación por EPS. Es decir, con las siguientes líneas se crea la base de datos agregada por EPS. </p>"
   ]
  },
  {
   "cell_type": "code",
   "execution_count": 84,
   "metadata": {},
   "outputs": [],
   "source": [
    "# Aqui se guarda la base de datos agregada por EPS para las variables de interés \r\n",
    "FT004_FT003_FT005_EPS = FT004_FT003_FT005.groupby(['nit_eps', 'ano', 'mes', 'eps', 'tipo_y']).agg({'CXP':'sum', 'DCXPmes':'sum', 'CXC':'sum', 'DCXCmes':'sum', 'pw':'sum', 'giro':'sum', 'no_upc':'sum', 'compra_cartera':'sum', 'causmes':'sum', 'pagomes':'sum', 'PAGO':'sum', 'CALC':'sum','pagomes':'sum'}).reset_index()"
   ]
  },
  {
   "cell_type": "code",
   "execution_count": 85,
   "metadata": {},
   "outputs": [],
   "source": [
    "# Se carga el archivo tratado del FT006 que fue grabado como causaprestador\r\n",
    "FT006 = pd.read_csv('C:/Users/Miguel Angel/Documents/Supersalud/Pagos_EPS_Proveedores/DVFICEPS_2020_ene_may_2021.csv', encoding='utf-8-sig', dtype={'nit_eps':object, 'ano': object, 'mes': object})"
   ]
  },
  {
   "cell_type": "code",
   "execution_count": 86,
   "metadata": {},
   "outputs": [],
   "source": [
    "# Se reemplazan los nombres de las columnas para facilitar el tratamiento\r\n",
    "# FT006.rename(columns={'ï»¿nit_eps': 'nit_eps'}, inplace=True)\r\n",
    "# Se convierte la variable NIT EPS como str\r\n",
    "FT006[['nit_eps']] = FT006[['nit_eps']].astype(str)"
   ]
  },
  {
   "cell_type": "code",
   "execution_count": 87,
   "metadata": {},
   "outputs": [],
   "source": [
    "# Se unen las dos bases de datos para obtener la información de FT004, FT003, FT005 y FT006 en una sola base de datos\n",
    "FT004_FT003_FT005_FT006 = pd.merge(FT004_FT003_FT005_EPS, FT006, how='outer', left_on=['nit_eps', 'ano', 'mes'], right_on=['nit_eps', 'ano', 'mes'])"
   ]
  },
  {
   "cell_type": "code",
   "execution_count": 88,
   "metadata": {},
   "outputs": [
    {
     "ename": "NameError",
     "evalue": "name 'operadores' is not defined",
     "output_type": "error",
     "traceback": [
      "\u001b[1;31m---------------------------------------------------------------------------\u001b[0m",
      "\u001b[1;31mNameError\u001b[0m                                 Traceback (most recent call last)",
      "\u001b[1;32m<ipython-input-88-5a5aac9c88ea>\u001b[0m in \u001b[0;36m<module>\u001b[1;34m\u001b[0m\n\u001b[0;32m      1\u001b[0m \u001b[1;31m# Se eliminan la bases que no se necesitan para liberar espacio en la memoria\u001b[0m\u001b[1;33m\u001b[0m\u001b[1;33m\u001b[0m\u001b[1;33m\u001b[0m\u001b[0m\n\u001b[1;32m----> 2\u001b[1;33m \u001b[1;32mdel\u001b[0m \u001b[1;33m[\u001b[0m\u001b[0mFT006\u001b[0m\u001b[1;33m,\u001b[0m \u001b[0mFT004_FT003_FT005_EPS\u001b[0m\u001b[1;33m,\u001b[0m \u001b[0moperadores\u001b[0m\u001b[1;33m]\u001b[0m\u001b[1;33m\u001b[0m\u001b[1;33m\u001b[0m\u001b[0m\n\u001b[0m",
      "\u001b[1;31mNameError\u001b[0m: name 'operadores' is not defined"
     ]
    }
   ],
   "source": [
    "# Se eliminan la bases que no se necesitan para liberar espacio en la memoria\r\n",
    "del [FT006, FT004_FT003_FT005_EPS, operadores]"
   ]
  },
  {
   "cell_type": "code",
   "execution_count": 89,
   "metadata": {},
   "outputs": [],
   "source": [
    "# Se carga el archivo tratado del FT007 que fue grabado como causaprestador\r\n",
    "FT007 = pd.read_csv('C:/Users/Miguel Angel/Documents/Supersalud/Pagos_EPS_Proveedores/compratitulos_2020_ene_may_2021.csv', encoding='utf-8-sig', dtype={'nit_eps':object, 'ano': object, 'mes': object})"
   ]
  },
  {
   "cell_type": "code",
   "execution_count": 90,
   "metadata": {},
   "outputs": [],
   "source": [
    "# Eliminamos los años que no nos interesa del FT007\n",
    "# Se encuentran las observaciones que cumplen las condiciones\n",
    "df_filtered = FT007[\n",
    "    (FT007['ano'] != '2020') &\n",
    "    (FT007['ano'] != '2021')\n",
    "    ].index"
   ]
  },
  {
   "cell_type": "code",
   "execution_count": 91,
   "metadata": {},
   "outputs": [],
   "source": [
    "# Se eliminan las observaciones que cumplen las condiciones anteriore\n",
    "FT007 = FT007.drop(df_filtered)"
   ]
  },
  {
   "cell_type": "code",
   "execution_count": 92,
   "metadata": {},
   "outputs": [],
   "source": [
    "# Se convierte la variable en mes y año\n",
    "FT007[['ano', 'mes']] = FT007[['ano', 'mes']].astype(float).astype(int).astype(str)"
   ]
  },
  {
   "cell_type": "code",
   "execution_count": 93,
   "metadata": {},
   "outputs": [],
   "source": [
    "# Se unen las dos bases de datos para obtener la información de FT004, FT003, FT005, FT006 y FT007 en una sola base de datos\n",
    "FT004_FT003_FT005_FT006_FT007 = pd.merge(FT004_FT003_FT005_FT006, FT007, how='outer', left_on=['nit_eps', 'ano', 'mes'], right_on=['nit_eps', 'ano', 'mes'])"
   ]
  },
  {
   "cell_type": "code",
   "execution_count": 94,
   "metadata": {},
   "outputs": [],
   "source": [
    "# Se eliminan la bases que no se necesitan para liberar espacio en la memoria\n",
    "del [FT004_FT003_FT005_FT006, FT007, df_filtered]"
   ]
  },
  {
   "cell_type": "code",
   "execution_count": 95,
   "metadata": {},
   "outputs": [],
   "source": [
    "# Se carga el archivo tratado del FT007 que fue grabado como causaprestador\r\n",
    "FT001 = pd.read_csv('C:/Users/Miguel Angel/Documents/Supersalud/Pagos_EPS_Proveedores/ingresosyefectivo_2020_2021_V2.csv', encoding='utf-8-sig', dtype={'nit_eps':object, 'ano': object, 'mes': object})"
   ]
  },
  {
   "cell_type": "code",
   "execution_count": 96,
   "metadata": {},
   "outputs": [],
   "source": [
    "# Se unen las dos bases de datos para obtener la información de FT004, FT003, FT005, FT006 y FT007 en una sola base de datos\n",
    "FT00143567 = pd.merge(FT004_FT003_FT005_FT006_FT007, FT001, how='outer', left_on=['nit_eps', 'ano', 'mes'], right_on=['nit_eps', 'ano', 'mes'])"
   ]
  },
  {
   "cell_type": "code",
   "execution_count": 97,
   "metadata": {},
   "outputs": [],
   "source": [
    "# Se eliminan la bases que no se necesitan para liberar espacio en la memoria\n",
    "del [FT004_FT003_FT005_FT006_FT007, FT001]"
   ]
  },
  {
   "cell_type": "code",
   "execution_count": 98,
   "metadata": {},
   "outputs": [],
   "source": [
    "# Se convierten a float las varaibles relevantes\n",
    "FT00143567[['PAGO', 'DCXPmes', 'DCXCmes', 'pw', 'giro', 'no_upc', 'compra_cartera', 'CXP', 'CXC', 'causmes', 'pagomes', 'CALC', 'DSaldo', 'comprames', 'DCMCOPmes', 'DEfectivo', 'EnfH', 'NA', 'DPMAXmes', 'DUPCmes', 'valorEfectivo']] = FT00143567[['PAGO', 'DCXPmes', 'DCXCmes', 'pw', 'giro', 'no_upc', 'compra_cartera', 'CXP', 'CXC', 'causmes', 'pagomes', 'CALC', 'DSaldo', 'comprames', 'DCMCOPmes', 'DEfectivo', 'EnfH', 'NA', 'DPMAXmes', 'DUPCmes', 'valorEfectivo']].astype(float)"
   ]
  },
  {
   "cell_type": "code",
   "execution_count": 99,
   "metadata": {},
   "outputs": [],
   "source": [
    "# Se llenan con 0 los espacios vacíos de las variables de interés\n",
    "FT00143567[['PAGO', 'DCXPmes', 'DCXCmes', 'pw', 'giro', 'no_upc', 'compra_cartera', 'CXP', 'CXC', 'causmes', 'pagomes', 'CALC', 'DSaldo', 'comprames', 'DCMCOPmes', 'DEfectivo', 'EnfH', 'NA', 'DPMAXmes', 'DUPCmes', 'valorEfectivo']] = FT00143567[['PAGO', 'DCXPmes', 'DCXCmes', 'pw', 'giro', 'no_upc', 'compra_cartera', 'CXP', 'CXC', 'causmes', 'pagomes', 'CALC', 'DSaldo', 'comprames', 'DCMCOPmes', 'DEfectivo', 'EnfH', 'NA', 'DPMAXmes', 'DUPCmes', 'valorEfectivo']].fillna(value=0)"
   ]
  },
  {
   "cell_type": "code",
   "execution_count": 100,
   "metadata": {},
   "outputs": [],
   "source": [
    "# Auxiliar\r\n",
    "inversiones = FT00143567['DSaldo'] + FT00143567['comprames']"
   ]
  },
  {
   "cell_type": "code",
   "execution_count": 101,
   "metadata": {},
   "outputs": [],
   "source": [
    "# Se crea la columna inversiones sumando DSaldomes y comprames\n",
    "FT00143567['inversiones'] = inversiones"
   ]
  },
  {
   "cell_type": "code",
   "execution_count": 102,
   "metadata": {},
   "outputs": [],
   "source": [
    "# Se eliminan la bases que no se necesitan para liberar espacio en la memoria\n",
    "del [inversiones]"
   ]
  },
  {
   "cell_type": "code",
   "execution_count": 103,
   "metadata": {},
   "outputs": [],
   "source": [
    "# Aqui se guarda la base de datos agregada por ingresos y pagos de las EPS (Corresponde a la línea 692 del código en stata que guarda la información en la hoja EPS)\r\n",
    "FT00143567_EPS = FT00143567.groupby(['nit_eps', 'mes', 'ano', 'eps', 'tipo_y']).agg({'CXP':'sum', 'DCXPmes':'sum', 'CXC':'sum', 'DCXCmes':'sum', 'pw':'sum', 'giro':'sum', 'no_upc':'sum', 'compra_cartera':'sum', 'causmes':'sum', 'pagomes':'sum', 'PAGO':'sum', 'CALC':'sum', 'DSaldo':'sum', 'comprames':'sum', 'inversiones':'sum', 'DCMCOPmes':'sum','DEfectivo':'sum','EnfH':'sum','NA':'sum','DPMAXmes':'sum','DUPCmes':'sum', 'valorEfectivo':'sum'}).reset_index()"
   ]
  },
  {
   "cell_type": "code",
   "execution_count": 106,
   "metadata": {},
   "outputs": [],
   "source": [
    "# Se convierte la variable en mes y año\r\n",
    "FT00143567_EPS[['ano', 'mes']] = FT00143567_EPS[['ano', 'mes']].astype(int)"
   ]
  },
  {
   "cell_type": "code",
   "execution_count": 107,
   "metadata": {},
   "outputs": [],
   "source": [
    "# Se encuentran las observaciones que cumplen las condiciones para no tener en cuenta observaciones posteriores a las de los meses de interés\r\n",
    "df_filtered = FT00143567_EPS[\r\n",
    "    (FT00143567_EPS['ano'] == 2021) & (FT00143567_EPS['mes'] == 6) |\r\n",
    "    (FT00143567_EPS['ano'] == 2021) & (FT00143567_EPS['mes'] == 7) |\r\n",
    "    (FT00143567_EPS['ano'] == 2021) & (FT00143567_EPS['mes'] == 8) |\r\n",
    "    (FT00143567_EPS['ano'] == 2021) & (FT00143567_EPS['mes'] == 9) |\r\n",
    "    (FT00143567_EPS['ano'] == 2021) & (FT00143567_EPS['mes'] == 10) |\r\n",
    "    (FT00143567_EPS['ano'] == 2021) & (FT00143567_EPS['mes'] == 11) |\r\n",
    "    (FT00143567_EPS['ano'] == 2021) & (FT00143567_EPS['mes'] == 12)\r\n",
    "    ].index"
   ]
  },
  {
   "cell_type": "code",
   "execution_count": 108,
   "metadata": {},
   "outputs": [],
   "source": [
    "# Se eliminan las observaciones que cumplen las condiciones anteriore\r\n",
    "FT00143567_EPS = FT00143567_EPS.drop(df_filtered)"
   ]
  },
  {
   "cell_type": "code",
   "execution_count": 128,
   "metadata": {},
   "outputs": [],
   "source": [
    "# Se encuentran las observaciones que cumplen las condiciones para no tener en cuenta observaciones posteriores a las de los meses de interés\r\n",
    "df_filtered = FT00143567_EPS[\r\n",
    "    (FT00143567_EPS['ano'] == 2019)\r\n",
    "    ].index\r\n",
    "# Se eliminan las observaciones que cumplen las condiciones anteriore\r\n",
    "FT00143567_EPS = FT00143567_EPS.drop(df_filtered)"
   ]
  },
  {
   "cell_type": "code",
   "execution_count": 129,
   "metadata": {},
   "outputs": [
    {
     "data": {
      "text/plain": [
       "2020    444\n",
       "2021    183\n",
       "Name: ano, dtype: int64"
      ]
     },
     "execution_count": 129,
     "metadata": {},
     "output_type": "execute_result"
    }
   ],
   "source": [
    "FT00143567_EPS.ano.value_counts()"
   ]
  },
  {
   "cell_type": "code",
   "execution_count": 130,
   "metadata": {},
   "outputs": [],
   "source": [
    "# Para guardar la base de datos lista para ser tratada en formato Excel y CSV\r\n",
    "FT00143567_EPS.to_excel(r'C:/Users/Miguel Angel/Documents/Supersalud/Pagos_EPS_Proveedores/EPS_analisis_2020_enemay2021_V1.xlsx', index = False)\r\n",
    "# FT00143567_EPS.to_csv(r'C:/Users/Miguel Angel/Documents/Supersalud/Pagos_EPS_Proveedores/EPS_analisis_2020_2021.csv', index = False, encoding='utf-8-sig')\r\n",
    "# feather.write_feather(FT00143567_EPS, 'C:/Users/Miguel Angel/Documents/Supersalud/Pagos_EPS_Proveedores/EPS_analisis_2020_2021.feather') # Esta línea guarda la base de datos en binario para optimizar el tiempo de cargay el espacio"
   ]
  },
  {
   "cell_type": "code",
   "execution_count": 131,
   "metadata": {},
   "outputs": [],
   "source": [
    "# Para guardar la base de datos lista para ser tratada en formato Excel y CSV\r\n",
    "FT00143567_EPS.to_stata(r'C:/Users/Miguel Angel/Documents/Supersalud/Pagos_EPS_Proveedores/EPS_analisis_2020_enemay2021_V1.dta')"
   ]
  },
  {
   "cell_type": "markdown",
   "metadata": {},
   "source": [
    "#<p> Aquí se trata la base de datos Terceros. Es decir, con las siguientes líneas se crea la base de datos agregada por Tercero. </p>"
   ]
  },
  {
   "cell_type": "code",
   "execution_count": 111,
   "metadata": {},
   "outputs": [],
   "source": [
    "# Se convierten a float las varaibles relevantes\n",
    "FT004_FT003_FT005[['PAGO', 'DCXPmes', 'DCXCmes', 'pw', 'giro', 'no_upc', 'compra_cartera', 'CXP', 'CXC', 'causmes', 'pagomes', 'CALC']] = FT004_FT003_FT005[['PAGO', 'DCXPmes', 'DCXCmes', 'pw', 'giro', 'no_upc', 'compra_cartera', 'CXP', 'CXC', 'causmes', 'pagomes', 'CALC']].astype(float)"
   ]
  },
  {
   "cell_type": "code",
   "execution_count": 112,
   "metadata": {},
   "outputs": [],
   "source": [
    "# Se llenan con 0 los espacios vacíos de las variables de interés\n",
    "FT004_FT003_FT005[['PAGO', 'DCXPmes', 'DCXCmes', 'pw', 'giro', 'no_upc', 'compra_cartera', 'CXP', 'CXC', 'causmes', 'pagomes', 'CALC']] = FT004_FT003_FT005[['PAGO', 'DCXPmes', 'DCXCmes', 'pw', 'giro', 'no_upc', 'compra_cartera', 'CXP', 'CXC', 'causmes', 'pagomes', 'CALC']].fillna(value=0)"
   ]
  },
  {
   "cell_type": "code",
   "execution_count": 113,
   "metadata": {},
   "outputs": [],
   "source": [
    "# Se filtra el dataframe con las observaciones que cumplen las condiciones\n",
    "FT004_FT003_FT005 = FT004_FT003_FT005[\n",
    "    (FT004_FT003_FT005['PAGO'] != 0)|\n",
    "    (FT004_FT003_FT005['DCXPmes'] != 0)|\n",
    "    (FT004_FT003_FT005['DCXCmes'] != 0)|\n",
    "    (FT004_FT003_FT005['pw'] != 0)|\n",
    "    (FT004_FT003_FT005['giro'] != 0)|\n",
    "    (FT004_FT003_FT005['no_upc'] != 0)|\n",
    "    (FT004_FT003_FT005['compra_cartera'] != 0)\n",
    "    ]"
   ]
  },
  {
   "cell_type": "code",
   "execution_count": 114,
   "metadata": {},
   "outputs": [],
   "source": [
    "# Variable auxiliar\r\n",
    "A = FT004_FT003_FT005['noID'] + '-' + FT004_FT003_FT005['DESC_SECCIÓN']"
   ]
  },
  {
   "cell_type": "code",
   "execution_count": 115,
   "metadata": {
    "scrolled": false
   },
   "outputs": [
    {
     "name": "stderr",
     "output_type": "stream",
     "text": [
      "<ipython-input-115-b2a38305e7b9>:2: SettingWithCopyWarning: \n",
      "A value is trying to be set on a copy of a slice from a DataFrame.\n",
      "Try using .loc[row_indexer,col_indexer] = value instead\n",
      "\n",
      "See the caveats in the documentation: https://pandas.pydata.org/pandas-docs/stable/user_guide/indexing.html#returning-a-view-versus-a-copy\n",
      "  FT004_FT003_FT005['A'] = A\n"
     ]
    }
   ],
   "source": [
    "# Se crea la columna auxiliar para modificar el noID\n",
    "FT004_FT003_FT005['A'] = A"
   ]
  },
  {
   "cell_type": "code",
   "execution_count": 116,
   "metadata": {},
   "outputs": [
    {
     "name": "stderr",
     "output_type": "stream",
     "text": [
      "C:\\ProgramData\\Anaconda3\\lib\\site-packages\\pandas\\core\\indexing.py:1745: SettingWithCopyWarning: \n",
      "A value is trying to be set on a copy of a slice from a DataFrame.\n",
      "Try using .loc[row_indexer,col_indexer] = value instead\n",
      "\n",
      "See the caveats in the documentation: https://pandas.pydata.org/pandas-docs/stable/user_guide/indexing.html#returning-a-view-versus-a-copy\n",
      "  isetter(ilocs[0], value)\n"
     ]
    }
   ],
   "source": [
    "# Se reemplaza el noID si cumple las condiciones\n",
    "FT004_FT003_FT005.loc[(FT004_FT003_FT005['noID'] == 'Otro') &\n",
    "       (FT004_FT003_FT005['DESC_SECCIÓN'].notnull()), \n",
    "       'noID'] = FT004_FT003_FT005['A']"
   ]
  },
  {
   "cell_type": "code",
   "execution_count": 117,
   "metadata": {},
   "outputs": [
    {
     "name": "stderr",
     "output_type": "stream",
     "text": [
      "C:\\ProgramData\\Anaconda3\\lib\\site-packages\\pandas\\core\\indexing.py:1765: SettingWithCopyWarning: \n",
      "A value is trying to be set on a copy of a slice from a DataFrame.\n",
      "Try using .loc[row_indexer,col_indexer] = value instead\n",
      "\n",
      "See the caveats in the documentation: https://pandas.pydata.org/pandas-docs/stable/user_guide/indexing.html#returning-a-view-versus-a-copy\n",
      "  isetter(loc, value)\n"
     ]
    }
   ],
   "source": [
    "# Se reemplaza el noID si cumple las condiciones\n",
    "FT004_FT003_FT005.loc[(FT004_FT003_FT005['noID'] == FT004_FT003_FT005['A']) |\n",
    "       (FT004_FT003_FT005['noID'] == 'Otro'), \n",
    "       'nitproveedor'] = \"Otros proveedores\""
   ]
  },
  {
   "cell_type": "code",
   "execution_count": 118,
   "metadata": {},
   "outputs": [],
   "source": [
    "# Se reemplaza el noID si cumple las condiciones\n",
    "FT004_FT003_FT005.loc[(FT004_FT003_FT005['noID'] == FT004_FT003_FT005['A']) |\n",
    "       (FT004_FT003_FT005['noID'] == 'Otro'), \n",
    "       'razónsocialonombre'] = FT004_FT003_FT005['noID']"
   ]
  },
  {
   "cell_type": "code",
   "execution_count": 119,
   "metadata": {
    "scrolled": true
   },
   "outputs": [
    {
     "name": "stderr",
     "output_type": "stream",
     "text": [
      "C:\\ProgramData\\Anaconda3\\lib\\site-packages\\pandas\\core\\frame.py:3065: SettingWithCopyWarning: \n",
      "A value is trying to be set on a copy of a slice from a DataFrame.\n",
      "Try using .loc[row_indexer,col_indexer] = value instead\n",
      "\n",
      "See the caveats in the documentation: https://pandas.pydata.org/pandas-docs/stable/user_guide/indexing.html#returning-a-view-versus-a-copy\n",
      "  self[k1] = value[k2]\n"
     ]
    }
   ],
   "source": [
    "# Se transforman los datos para su correcta identificación\n",
    "FT004_FT003_FT005[['ano', 'mes']] = FT004_FT003_FT005[['ano', 'mes']].astype(int)"
   ]
  },
  {
   "cell_type": "code",
   "execution_count": 120,
   "metadata": {},
   "outputs": [],
   "source": [
    "# Se encuentran las observaciones que cumplen las condiciones para no tener en cuenta observaciones posteriores a las de los meses de interés\n",
    "df_filtered = FT004_FT003_FT005[\n",
    "    (FT004_FT003_FT005['ano'] == 2021) & (FT004_FT003_FT005['mes'] == 5) |\n",
    "    (FT004_FT003_FT005['ano'] == 2021) & (FT004_FT003_FT005['mes'] == 6) |\n",
    "    (FT004_FT003_FT005['ano'] == 2021) & (FT004_FT003_FT005['mes'] == 7) |\n",
    "    (FT004_FT003_FT005['ano'] == 2021) & (FT004_FT003_FT005['mes'] == 8) |\n",
    "    (FT004_FT003_FT005['ano'] == 2021) & (FT004_FT003_FT005['mes'] == 9) |\n",
    "    (FT004_FT003_FT005['ano'] == 2021) & (FT004_FT003_FT005['mes'] == 10) |\n",
    "    (FT004_FT003_FT005['ano'] == 2021) & (FT004_FT003_FT005['mes'] == 11) |\n",
    "    (FT004_FT003_FT005['ano'] == 2021) & (FT004_FT003_FT005['mes'] == 12)\n",
    "    ].index"
   ]
  },
  {
   "cell_type": "code",
   "execution_count": 121,
   "metadata": {},
   "outputs": [],
   "source": [
    "# Se eliminan las observaciones que cumplen las condiciones anteriore\n",
    "FT004_FT003_FT005 = FT004_FT003_FT005.drop(df_filtered)"
   ]
  },
  {
   "cell_type": "code",
   "execution_count": 122,
   "metadata": {},
   "outputs": [],
   "source": [
    "# Se transforman los datos para su correcta identificación\r\n",
    "FT004_FT003_FT005[['nit_eps', 'nitproveedor', 'noID', 'departamento', 'eps', 'tipo_y', 'razónsocialonombre']] = FT004_FT003_FT005[['nit_eps', 'nitproveedor', 'noID', 'departamento', 'eps', 'tipo_y', 'razónsocialonombre']].astype(str)"
   ]
  },
  {
   "cell_type": "code",
   "execution_count": 123,
   "metadata": {},
   "outputs": [],
   "source": [
    "# Se hace la agrupación requerida por Tercero sumando los valores de las variables de interés\r\n",
    "FT004_FT003_FT005_tercero = FT004_FT003_FT005.groupby(['nit_eps', 'nitproveedor', 'noID', 'departamento', 'eps', 'tipo_y', 'razónsocialonombre', 'mes', 'ano']).agg({'CXP':'sum', 'DCXPmes':'sum', 'CXC':'sum', 'DCXCmes':'sum', 'pw':'sum', 'giro':'sum', 'no_upc':'sum', 'compra_cartera':'sum', 'causmes':'sum', 'pagomes':'sum', 'PAGO':'sum', 'CALC':'sum'}).reset_index()"
   ]
  },
  {
   "cell_type": "code",
   "execution_count": 124,
   "metadata": {},
   "outputs": [],
   "source": [
    "# Se transforman los datos para su correcta identificación\r\n",
    "FT004_FT003_FT005_tercero[['nit_eps', 'nitproveedor', 'noID', 'departamento', 'eps', 'tipo_y', 'razónsocialonombre']] = FT004_FT003_FT005_tercero[['nit_eps', 'nitproveedor', 'noID', 'departamento', 'eps', 'tipo_y', 'razónsocialonombre']].astype(str)"
   ]
  },
  {
   "cell_type": "code",
   "execution_count": 132,
   "metadata": {},
   "outputs": [],
   "source": [
    "# Se encuentran las observaciones que cumplen las condiciones para no tener en cuenta observaciones posteriores a las de los meses de interés\r\n",
    "df_filtered = FT004_FT003_FT005_tercero[\r\n",
    "    (FT004_FT003_FT005_tercero['ano'] == 2019)\r\n",
    "    ].index\r\n",
    "# Se eliminan las observaciones que cumplen las condiciones anteriore\r\n",
    "FT004_FT003_FT005_tercero = FT004_FT003_FT005_tercero.drop(df_filtered)"
   ]
  },
  {
   "cell_type": "code",
   "execution_count": 134,
   "metadata": {},
   "outputs": [],
   "source": [
    "# Se crean los valores previos para asignar categorias\n",
    "difSNSWeb_control = (FT004_FT003_FT005_tercero['PAGO'] - FT004_FT003_FT005_tercero['pw'])\n",
    "difSNSadres_control = (FT004_FT003_FT005_tercero['PAGO'] - FT004_FT003_FT005_tercero['giro'] - FT004_FT003_FT005_tercero['no_upc'] - FT004_FT003_FT005_tercero['compra_cartera'])\n",
    "difSNScalc_control = (FT004_FT003_FT005_tercero['PAGO'] - FT004_FT003_FT005_tercero['CALC'])"
   ]
  },
  {
   "cell_type": "code",
   "execution_count": 135,
   "metadata": {},
   "outputs": [],
   "source": [
    "# Se crean columns de control para signar categorias\n",
    "# Se crea la columna noID tomando como referencia la columna clpr_nombre\n",
    "FT004_FT003_FT005_tercero['difSNSWeb_control'] = difSNSWeb_control\n",
    "FT004_FT003_FT005_tercero['difSNSadres_control'] = difSNSadres_control\n",
    "FT004_FT003_FT005_tercero['difSNScalc_control'] = difSNScalc_control"
   ]
  },
  {
   "cell_type": "code",
   "execution_count": 136,
   "metadata": {},
   "outputs": [],
   "source": [
    "# Se limpia la clasificación por diferencias entre Pago, pw, giro y Calc\n",
    "FT004_FT003_FT005_tercero['difSNSWeb'] = 'Igual'\n",
    "FT004_FT003_FT005_tercero['difSNSadres'] = 'Igual'\n",
    "FT004_FT003_FT005_tercero['difSNScalc'] = 'Igual'\n",
    "# Condiciones\n",
    "FT004_FT003_FT005_tercero.loc[(FT004_FT003_FT005_tercero['difSNSWeb_control'] > 0), \n",
    "       'difSNSWeb'] = 'Mayor' \n",
    "\n",
    "FT004_FT003_FT005_tercero.loc[(FT004_FT003_FT005_tercero['difSNSWeb_control'] < 0), \n",
    "       'difSNSWeb'] = 'Menor' \n",
    "\n",
    "\n",
    "FT004_FT003_FT005_tercero.loc[(FT004_FT003_FT005_tercero['difSNSadres_control'] > 0), \n",
    "       'difSNSWeb'] = 'Mayor' \n",
    "\n",
    "FT004_FT003_FT005_tercero.loc[(FT004_FT003_FT005_tercero['difSNSadres_control'] < 0), \n",
    "       'difSNSWeb'] = 'Menor' \n",
    "\n",
    "\n",
    "FT004_FT003_FT005_tercero.loc[(FT004_FT003_FT005_tercero['difSNScalc_control'] > 0), \n",
    "       'difSNSWeb'] = 'Mayor' \n",
    "\n",
    "FT004_FT003_FT005_tercero.loc[(FT004_FT003_FT005_tercero['difSNScalc_control'] < 0), \n",
    "       'difSNSWeb'] = 'Menor' "
   ]
  },
  {
   "cell_type": "code",
   "execution_count": 137,
   "metadata": {
    "scrolled": true
   },
   "outputs": [],
   "source": [
    "# Para guardar la base de datos lista para ser tratada en formato Excel y CSV\r\n",
    "FT004_FT003_FT005_tercero.to_excel(r'C:/Users/Miguel Angel/Documents/Supersalud/Pagos_EPS_Proveedores/Tercero_analisis_2020_enemay2021_V1.xlsx', index = False)\r\n",
    "# FT004_FT003_FT005_tercero.to_csv(r'C:/Users/Miguel Angel/Documents/Supersalud/Pagos_EPS_Proveedores/Tercero_analisis_2020_2021.csv', index = False, encoding='utf-8-sig')\r\n",
    "# feather.write_feather(FT004_FT003_FT005_tercero, 'C:/Users/Miguel Angel/Documents/Supersalud/Pagos_EPS_Proveedores/Tercero_analisis_2020_2021.feather') # Esta línea guarda la base de datos en binario para optimizar el tiempo de cargay el espacio"
   ]
  },
  {
   "cell_type": "code",
   "execution_count": 138,
   "metadata": {},
   "outputs": [
    {
     "name": "stderr",
     "output_type": "stream",
     "text": [
      "C:\\ProgramData\\Anaconda3\\lib\\site-packages\\pandas\\io\\stata.py:2398: InvalidColumnName: \n",
      "Not all pandas column names were valid Stata variable names.\n",
      "The following replacements have been made:\n",
      "\n",
      "    razónsocialonombre   ->   raz_nsocialonombre\n",
      "\n",
      "If this is not what you expect, please make sure you have Stata-compliant\n",
      "column names in your DataFrame (strings only, max 32 characters, only\n",
      "alphanumerics and underscores, no Stata reserved words)\n",
      "\n",
      "  warnings.warn(ws, InvalidColumnName)\n"
     ]
    }
   ],
   "source": [
    "# Para guardar la base de datos lista para ser tratada en formato Excel y CSV\r\n",
    "FT004_FT003_FT005_tercero.to_stata(r'C:/Users/Miguel Angel/Documents/Supersalud/Pagos_EPS_Proveedores/Tercero_analisis_2020_enemay2021_V1.dta')"
   ]
  },
  {
   "cell_type": "code",
   "execution_count": null,
   "metadata": {},
   "outputs": [],
   "source": [
    "# Se eliminan la bases que no se necesitan para liberar espacio en la memoria\n",
    "del [A, FT00143567, FT00143567_EPS, FT004_FT003_FT005 , FT004_FT003_FT005_EPS, FT004_FT003_FT005_tercero, df_filtered, difSNSWeb_control, difSNSadres_control ,difSNScalc_control]"
   ]
  },
  {
   "cell_type": "code",
   "execution_count": null,
   "metadata": {},
   "outputs": [],
   "source": []
  }
 ],
 "metadata": {
  "interpreter": {
   "hash": "b3ba2566441a7c06988d0923437866b63cedc61552a5af99d1f4fb67d367b25f"
  },
  "kernelspec": {
   "display_name": "Python 3.8.5 64-bit ('base': conda)",
   "name": "python3"
  },
  "language_info": {
   "codemirror_mode": {
    "name": "ipython",
    "version": 3
   },
   "file_extension": ".py",
   "mimetype": "text/x-python",
   "name": "python",
   "nbconvert_exporter": "python",
   "pygments_lexer": "ipython3",
   "version": "3.8.5"
  }
 },
 "nbformat": 4,
 "nbformat_minor": 4
}