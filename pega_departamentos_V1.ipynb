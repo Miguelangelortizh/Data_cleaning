{
 "metadata": {
  "language_info": {
   "codemirror_mode": {
    "name": "ipython",
    "version": 3
   },
   "file_extension": ".py",
   "mimetype": "text/x-python",
   "name": "python",
   "nbconvert_exporter": "python",
   "pygments_lexer": "ipython3",
   "version": "3.8.5"
  },
  "orig_nbformat": 2,
  "kernelspec": {
   "name": "python385jvsc74a57bd0b3ba2566441a7c06988d0923437866b63cedc61552a5af99d1f4fb67d367b25f",
   "display_name": "Python 3.8.5 64-bit ('base': conda)"
  }
 },
 "nbformat": 4,
 "nbformat_minor": 2,
 "cells": [
  {
   "cell_type": "code",
   "execution_count": null,
   "metadata": {},
   "outputs": [],
   "source": [
    "#Cargamos los paquetes que vamos a necesitar\n",
    "import pandas as pd\n",
    "import numpy as np\n",
    "import pyreadstat\n",
    "import pyarrow.feather as feather"
   ]
  },
  {
   "cell_type": "code",
   "execution_count": null,
   "metadata": {},
   "outputs": [],
   "source": [
    "# Para leer los datos descargados desde La Lupa ADRES aparatado Giro Directo - Regimen Subsidiado\n",
    "df_1=pd.read_excel('C:/Users/Miguel Angel/OneDrive - Supersalud/Archivos EPS/PuntoFinal ET/OneDrive_1_4-6-2021/1.Amazonas.xlsx')\n",
    "df_2=pd.read_excel('C:/Users/Miguel Angel/OneDrive - Supersalud/Archivos EPS/PuntoFinal ET/OneDrive_1_4-6-2021/2.Antioquia.xlsx')\n",
    "df_3=pd.read_excel('C:/Users/Miguel Angel/OneDrive - Supersalud/Archivos EPS/PuntoFinal ET/OneDrive_1_4-6-2021/3.Arauca.xlsx')\n",
    "df_4=pd.read_excel('C:/Users/Miguel Angel/OneDrive - Supersalud/Archivos EPS/PuntoFinal ET/OneDrive_1_4-6-2021/4.Atlantico.xlsx')\n",
    "df_5=pd.read_excel('C:/Users/Miguel Angel/OneDrive - Supersalud/Archivos EPS/PuntoFinal ET/OneDrive_1_4-6-2021/5.Barranquilla.xlsx')\n",
    "df_6=pd.read_excel('C:/Users/Miguel Angel/OneDrive - Supersalud/Archivos EPS/PuntoFinal ET/OneDrive_1_4-6-2021/6.Bogota.xlsx')\n",
    "df_7=pd.read_excel('C:/Users/Miguel Angel/OneDrive - Supersalud/Archivos EPS/PuntoFinal ET/OneDrive_1_4-6-2021/7.Bolivar.xlsx')\n",
    "df_8=pd.read_excel('C:/Users/Miguel Angel/OneDrive - Supersalud/Archivos EPS/PuntoFinal ET/OneDrive_1_4-6-2021/8.Boyaca.xlsx')\n",
    "df_9=pd.read_excel('C:/Users/Miguel Angel/OneDrive - Supersalud/Archivos EPS/PuntoFinal ET/OneDrive_1_4-6-2021/9.Buenaventura.xlsx')\n",
    "df_10=pd.read_excel('C:/Users/Miguel Angel/OneDrive - Supersalud/Archivos EPS/PuntoFinal ET/OneDrive_1_4-6-2021/10.Caldas.xlsx')\n",
    "df_11=pd.read_excel('C:/Users/Miguel Angel/OneDrive - Supersalud/Archivos EPS/PuntoFinal ET/OneDrive_1_4-6-2021/11.Caqueta.xlsx')\n",
    "df_12=pd.read_excel('C:/Users/Miguel Angel/OneDrive - Supersalud/Archivos EPS/PuntoFinal ET/OneDrive_1_4-6-2021/12.Cartagena.xlsx')\n",
    "df_13=pd.read_excel('C:/Users/Miguel Angel/OneDrive - Supersalud/Archivos EPS/PuntoFinal ET/OneDrive_1_4-6-2021/13.Casanare.xlsx')\n",
    "df_14=pd.read_excel('C:/Users/Miguel Angel/OneDrive - Supersalud/Archivos EPS/PuntoFinal ET/OneDrive_1_4-6-2021/14.Cauca.xlsx')\n",
    "df_15=pd.read_excel('C:/Users/Miguel Angel/OneDrive - Supersalud/Archivos EPS/PuntoFinal ET/OneDrive_1_4-6-2021/15.Cesar.xlsx')\n",
    "df_16=pd.read_excel('C:/Users/Miguel Angel/OneDrive - Supersalud/Archivos EPS/PuntoFinal ET/OneDrive_1_4-6-2021/16.Choco.xlsx')\n",
    "df_17=pd.read_excel('C:/Users/Miguel Angel/OneDrive - Supersalud/Archivos EPS/PuntoFinal ET/OneDrive_1_4-6-2021/17.Cordoba.xlsx')\n",
    "df_18=pd.read_excel('C:/Users/Miguel Angel/OneDrive - Supersalud/Archivos EPS/PuntoFinal ET/OneDrive_1_4-6-2021/18.Cundinamarca.xlsx')\n",
    "df_19=pd.read_excel('C:/Users/Miguel Angel/OneDrive - Supersalud/Archivos EPS/PuntoFinal ET/OneDrive_1_4-6-2021/19.Guainia.xlsx')\n",
    "df_20=pd.read_excel('C:/Users/Miguel Angel/OneDrive - Supersalud/Archivos EPS/PuntoFinal ET/OneDrive_1_4-6-2021/20.Guajira.xlsx')\n",
    "df_21=pd.read_excel('C:/Users/Miguel Angel/OneDrive - Supersalud/Archivos EPS/PuntoFinal ET/OneDrive_1_4-6-2021/21.Guaviare.xlsx')\n",
    "df_22=pd.read_excel('C:/Users/Miguel Angel/OneDrive - Supersalud/Archivos EPS/PuntoFinal ET/OneDrive_1_4-6-2021/22.Huila.xlsx')\n",
    "df_23=pd.read_excel('C:/Users/Miguel Angel/OneDrive - Supersalud/Archivos EPS/PuntoFinal ET/OneDrive_1_4-6-2021/23.Magdalena.xlsx')\n",
    "df_24=pd.read_excel('C:/Users/Miguel Angel/OneDrive - Supersalud/Archivos EPS/PuntoFinal ET/OneDrive_1_4-6-2021/24.Meta.xlsx')\n",
    "df_25=pd.read_excel('C:/Users/Miguel Angel/OneDrive - Supersalud/Archivos EPS/PuntoFinal ET/OneDrive_1_4-6-2021/25.Nariño.xlsx')\n",
    "df_26=pd.read_excel('C:/Users/Miguel Angel/OneDrive - Supersalud/Archivos EPS/PuntoFinal ET/OneDrive_1_4-6-2021/26.Norte_de_Santander.xlsx')\n",
    "df_27=pd.read_excel('C:/Users/Miguel Angel/OneDrive - Supersalud/Archivos EPS/PuntoFinal ET/OneDrive_1_4-6-2021/27.Putumayo.xlsx')\n",
    "df_28=pd.read_excel('C:/Users/Miguel Angel/OneDrive - Supersalud/Archivos EPS/PuntoFinal ET/OneDrive_1_4-6-2021/28.Quindio.xlsx')\n",
    "df_29=pd.read_excel('C:/Users/Miguel Angel/OneDrive - Supersalud/Archivos EPS/PuntoFinal ET/OneDrive_1_4-6-2021/29.Risaralda.xlsx')\n",
    "df_30=pd.read_excel('C:/Users/Miguel Angel/OneDrive - Supersalud/Archivos EPS/PuntoFinal ET/OneDrive_1_4-6-2021/30.San_Andres.xlsx')\n",
    "df_31=pd.read_excel('C:/Users/Miguel Angel/OneDrive - Supersalud/Archivos EPS/PuntoFinal ET/OneDrive_1_4-6-2021/31.Santa_Marta.xlsx')\n",
    "df_32=pd.read_excel('C:/Users/Miguel Angel/OneDrive - Supersalud/Archivos EPS/PuntoFinal ET/OneDrive_1_4-6-2021/32.Santander.xlsx')\n",
    "df_33=pd.read_excel('C:/Users/Miguel Angel/OneDrive - Supersalud/Archivos EPS/PuntoFinal ET/OneDrive_1_4-6-2021/33.Sucre.xlsx')\n",
    "df_34=pd.read_excel('C:/Users/Miguel Angel/OneDrive - Supersalud/Archivos EPS/PuntoFinal ET/OneDrive_1_4-6-2021/34.Tolima.xlsx')\n",
    "df_35=pd.read_excel('C:/Users/Miguel Angel/OneDrive - Supersalud/Archivos EPS/PuntoFinal ET/OneDrive_1_4-6-2021/35.Valle_del_Cauca.xlsx')\n",
    "df_36=pd.read_excel('C:/Users/Miguel Angel/OneDrive - Supersalud/Archivos EPS/PuntoFinal ET/OneDrive_1_4-6-2021/36.Vaupes.xlsx')\n",
    "df_37=pd.read_excel('C:/Users/Miguel Angel/OneDrive - Supersalud/Archivos EPS/PuntoFinal ET/OneDrive_1_4-6-2021/37.Vichada.xlsx')"
   ]
  },
  {
   "cell_type": "code",
   "execution_count": null,
   "metadata": {},
   "outputs": [],
   "source": [
    "# Se concatenan la bases de datos \n",
    "frames = [df_1, df_2, df_3, df_4, df_5, df_6, df_7, df_8, df_9, df_10, df_11, df_12, df_13, df_14, df_15, df_16, df_17, df_18, df_19, df_20, df_21, df_22, df_23, df_24, df_25, df_26, df_27, df_28, df_29, df_30, df_31, df_32, df_33, df_34, df_35, df_36, df_37]\n",
    "Departamentos = pd.concat(frames, ignore_index=True)"
   ]
  },
  {
   "cell_type": "code",
   "execution_count": null,
   "metadata": {},
   "outputs": [],
   "source": [
    "Departamentos.info()"
   ]
  },
  {
   "cell_type": "code",
   "execution_count": null,
   "metadata": {},
   "outputs": [],
   "source": [
    "# Para guardar la base de datos lista para ser tratada en formato Excel y CSV\n",
    "Departamentos.to_excel(r'C:/Users/Miguel Angel/OneDrive - Supersalud/Supersalud/Jun_4.xlsx', index = False)\n",
    "# Departamentos.to_csv(r'C:/Users/Miguel Angel/OneDrive - Supersalud/Supersalud/Jun_4/Departamentos_V1.csv', index = False, encoding='utf-8-sig')\n",
    "# feather.write_feather(Departamentos, 'C:/Users/Miguel Angel/OneDrive - Supersalud/Supersalud/Jun_4/Departamentos_V1_feather') # Esta línea guarda la base de datos en binario para optimizar el tiempo de cargay el espacio"
   ]
  },
  {
   "cell_type": "code",
   "execution_count": null,
   "metadata": {},
   "outputs": [],
   "source": []
  }
 ]
}