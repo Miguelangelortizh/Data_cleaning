{
 "metadata": {
  "language_info": {
   "codemirror_mode": {
    "name": "ipython",
    "version": 3
   },
   "file_extension": ".py",
   "mimetype": "text/x-python",
   "name": "python",
   "nbconvert_exporter": "python",
   "pygments_lexer": "ipython3",
   "version": "3.8.5"
  },
  "orig_nbformat": 2,
  "kernelspec": {
   "name": "python385jvsc74a57bd0b3ba2566441a7c06988d0923437866b63cedc61552a5af99d1f4fb67d367b25f",
   "display_name": "Python 3.8.5 64-bit ('base': conda)"
  }
 },
 "nbformat": 4,
 "nbformat_minor": 2,
 "cells": [
  {
   "cell_type": "code",
   "execution_count": 1,
   "metadata": {},
   "outputs": [],
   "source": [
    "#Cargamos los paquetes que vamos a necesitar\n",
    "import pandas as pd\n",
    "import numpy as np\n",
    "import pyreadstat"
   ]
  },
  {
   "source": [
    "<h1>Pagos</h1>"
   ],
   "cell_type": "markdown",
   "metadata": {}
  },
  {
   "source": [
    "<h2>Giros Directos - Regimen Subsidiado </h2>\n",
    "<p> En este apartado se trata la base de datos Giros Directos - Regimen Subsidiado </p>"
   ],
   "cell_type": "markdown",
   "metadata": {}
  },
  {
   "cell_type": "code",
   "execution_count": 2,
   "metadata": {},
   "outputs": [],
   "source": [
    "# Para leer los datos descargados desde La Lupa ADRES aparatado Giro Directo - Regimen Subsidiado\n",
    "ENERO = pd.read_excel('C:/Users/Miguel Angel/Documents/Supersalud/Pagos_EPS_Proveedores/GiroDirecto/2021/Subsidiado/ENERO.xlsx', sheet_name='GIRO DIRECTO', header=7)\n",
    "FEBRERO = pd.read_excel('C:/Users/Miguel Angel/Documents/Supersalud/Pagos_EPS_Proveedores/GiroDirecto/2021/Subsidiado/FEBRERO.xlsx', sheet_name='GIRO DIRECTO', header=7)\n",
    "# MARZO = pd.read_excel('C:/Users/Miguel Angel/Documents/Supersalud/Pagos_EPS_Proveedores/GiroDirecto/2020/Subsidiado/MARZO.xlsx', sheet_name='GIRO DIRECTO', header=7)\n",
    "# ABRIL = pd.read_excel('C:/Users/Miguel Angel/Documents/Supersalud/Pagos_EPS_Proveedores/GiroDirecto/2020/Subsidiado/ABRIL.xlsx', sheet_name='GIRO DIRECTO', header=7)\n",
    "# MAYO = pd.read_excel('C:/Users/Miguel Angel/Documents/Supersalud/Pagos_EPS_Proveedores/GiroDirecto/2020/Subsidiado/MAYO.xlsx', sheet_name='GIRO DIRECTO', header=7)\n",
    "# JUNIO = pd.read_excel('C:/Users/Miguel Angel/Documents/Supersalud/Pagos_EPS_Proveedores/GiroDirecto/2020/Subsidiado/JUNIO.xlsx', sheet_name='GIRO DIRECTO', header=7)\n",
    "# JULIO = pd.read_excel('C:/Users/Miguel Angel/Documents/Supersalud/Pagos_EPS_Proveedores/GiroDirecto/2020/Subsidiado/JULIO.xlsx', sheet_name='GIRO DIRECTO', header=7)\n",
    "# AGOSTO = pd.read_excel('C:/Users/Miguel Angel/Documents/Supersalud/Pagos_EPS_Proveedores/GiroDirecto/2020/Subsidiado/AGOSTO.xlsx', sheet_name='GIRO DIRECTO', header=7)\n",
    "# SEPTIEMBRE = pd.read_excel('C:/Users/Miguel Angel/Documents/Supersalud/Pagos_EPS_Proveedores/GiroDirecto/2020/Subsidiado/SEPTIEMBRE.xlsx', sheet_name='GIRO DIRECTO', header=7)\n",
    "# OCTUBRE = pd.read_excel('C:/Users/Miguel Angel/Documents/Supersalud/Pagos_EPS_Proveedores/GiroDirecto/2020/Subsidiado/OCTUBRE.xlsx', sheet_name='GIRO DIRECTO', header=7)\n",
    "# NOVIEMBRE = pd.read_excel('C:/Users/Miguel Angel/Documents/Supersalud/Pagos_EPS_Proveedores/GiroDirecto/2020/Subsidiado/NOVIEMBRE.xlsx', sheet_name='GIRO DIRECTO', header=7)\n",
    "# DICIEMBRE = pd.read_excel('C:/Users/Miguel Angel/Documents/Supersalud/Pagos_EPS_Proveedores/GiroDirecto/2020/Subsidiado/DICIEMBRE.xlsx', sheet_name='GIRO DIRECTO', header=7)"
   ]
  },
  {
   "cell_type": "code",
   "execution_count": 3,
   "metadata": {},
   "outputs": [
    {
     "output_type": "stream",
     "name": "stdout",
     "text": [
      "Index(['Código EPS', 'Nombre EPS', 'NIT', 'Razón Social',\n       'Valor Autorizado \\npor la EPS ($)', 'Valor Girado a IPS',\n       'Observación', 'Fecha proceso', 'Fecha Giro'],\n      dtype='object')\n"
     ]
    }
   ],
   "source": [
    "print(ENERO.columns)"
   ]
  },
  {
   "cell_type": "code",
   "execution_count": 4,
   "metadata": {},
   "outputs": [],
   "source": [
    "# Para homogenizar los nombres de las columnas y facilitar la pega posteriormente\n",
    "ENERO.rename(columns={'Valor Autorizado \\npor la EPS ($)': 'Valor Autorizado por EPS', 'Código_EPS': 'Código EPS', 'Valor Girado a IPS': 'Valor Girado IPS', 'Observación': 'observación'}, inplace=True)\n",
    "FEBRERO.rename(columns={'Valor Autorizado \\npor la EPS ($)': 'Valor Autorizado por EPS', 'Código_EPS': 'Código EPS', 'Valor Girado a IPS': 'Valor Girado IPS', 'Observación': 'observación'}, inplace=True)\n",
    "# MARZO.rename(columns={'Valor Autorizado \\npor la EPS ($)': 'Valor Autorizado por EPS', 'Código_EPS': 'Código EPS', 'Valor Girado a IPS': 'Valor Girado IPS', 'Observación': 'observación'}, inplace=True)\n",
    "# ABRIL.rename(columns={'Valor Autorizado \\npor la EPS ($)': 'Valor Autorizado por EPS', 'Código_EPS': 'Código EPS', 'Valor Girado a IPS': 'Valor Girado IPS', 'Observación': 'observación'}, inplace=True)\n",
    "# MAYO.rename(columns={'Valor Autorizado \\npor la EPS ($)': 'Valor Autorizado por EPS', 'Código_EPS': 'Código EPS', 'Valor Girado a IPS': 'Valor Girado IPS', 'Observación': 'observación'}, inplace=True)\n",
    "# JUNIO.rename(columns={'Valor Autorizado \\npor la EPS ($)': 'Valor Autorizado por EPS', 'Código_EPS': 'Código EPS', 'Valor Girado a IPS': 'Valor Girado IPS', 'Observación': 'observación'}, inplace=True)\n",
    "\n",
    "# JULIO.rename(columns={'Valor Autorizado \\npor la EPS ($)': 'Valor Autorizado por EPS', 'Código_EPS': 'Código EPS', 'Valor Girado a IPS': 'Valor Girado IPS', 'Observación': 'observación', 'Fecha proceso': 'Fecha proceso Giro Directo'}, inplace=True)\n",
    "# AGOSTO.rename(columns={'Valor Autorizado \\npor la EPS ($)': 'Valor Autorizado por EPS', 'Código_EPS': 'Código EPS', 'Valor Girado a IPS': 'Valor Girado IPS', 'Observación': 'observación', 'Fecha proceso': 'Fecha proceso Giro Directo'}, inplace=True)\n",
    "# SEPTIEMBRE.rename(columns={'Valor Autorizado \\npor la EPS ($)': 'Valor Autorizado por EPS', 'Código_EPS': 'Código EPS', 'Valor Girado a IPS': 'Valor Girado IPS', 'Observación': 'observación', 'Fecha proceso': 'Fecha proceso Giro Directo'}, inplace=True)\n",
    "# OCTUBRE.rename(columns={'Valor Autorizado \\npor la EPS ($)': 'Valor Autorizado por EPS', 'Código_EPS': 'Código EPS', 'Valor Girado a IPS': 'Valor Girado IPS', 'Observación': 'observación', 'Fecha proceso': 'Fecha proceso Giro Directo'}, inplace=True)\n",
    "# NOVIEMBRE.rename(columns={'Valor Autorizado \\npor la EPS ($)': 'Valor Autorizado por EPS', 'Código_EPS': 'Código EPS', 'Valor Girado a IPS': 'Valor Girado IPS', 'Observación': 'observación', 'Fecha proceso': 'Fecha proceso Giro Directo'}, inplace=True)\n",
    "# DICIEMBRE.rename(columns={'Valor Autorizado \\npor la EPS ($)': 'Valor Autorizado por EPS', 'Código_EPS': 'Código EPS', 'Valor Girado a IPS': 'Valor Girado IPS', 'Observación': 'observación', 'Fecha proceso': 'Fecha proceso Giro Directo', 'NIT': 'NIT IPS', 'Razón Social': 'Nombre IPS'}, inplace=True)"
   ]
  },
  {
   "cell_type": "code",
   "execution_count": 5,
   "metadata": {},
   "outputs": [],
   "source": [
    "# Para agregar la columna de mes y corroborar posteriormente al concatenar las bases\n",
    "ENERO['Mes']='1'\n",
    "FEBRERO['Mes']='2'\n",
    "# MARZO['Mes']='3'\n",
    "# ABRIL['Mes']='4'\n",
    "# MAYO['Mes']='5'\n",
    "# JUNIO['Mes']='6'\n",
    "# JULIO['Mes']='7'\n",
    "# AGOSTO['Mes']='8'\n",
    "# SEPTIEMBRE['Mes']='9'\n",
    "# OCTUBRE['Mes']='10'\n",
    "# NOVIEMBRE['Mes']='11'\n",
    "# DICIEMBRE['Mes']='12'"
   ]
  },
  {
   "cell_type": "code",
   "execution_count": 6,
   "metadata": {},
   "outputs": [],
   "source": [
    "# Para agregar la columna de año y corroborar posteriormente al concatenar las bases\n",
    "ENERO['Ano']='2021'\n",
    "FEBRERO['Ano']='2021'\n",
    "# MARZO['Ano']='2020'\n",
    "# ABRIL['Ano']='2020'\n",
    "# MAYO['Ano']='2020'\n",
    "# JUNIO['Ano']='2020'\n",
    "# JULIO['Ano']='2020'\n",
    "# AGOSTO['Ano']='2020'\n",
    "# SEPTIEMBRE['Ano']='2020'\n",
    "# OCTUBRE['Ano']='2020'\n",
    "# NOVIEMBRE['Ano']='2020'\n",
    "# DICIEMBRE['Ano']='2020'"
   ]
  },
  {
   "cell_type": "code",
   "execution_count": 7,
   "metadata": {},
   "outputs": [],
   "source": [
    "# Para agregar la columna de tipo de regimen y corroborar posteriormente al concatenar las bases\n",
    "ENERO['Regimen']='Subsidiado'\n",
    "FEBRERO['Regimen']='Subsidiado'\n",
    "# MARZO['Regimen']='Subsidiado'\n",
    "# ABRIL['Regimen']='Subsidiado'\n",
    "# MAYO['Regimen']='Subsidiado'\n",
    "# JUNIO['Regimen']='Subsidiado'\n",
    "# JULIO['Regimen']='Subsidiado'\n",
    "# AGOSTO['Regimen']='Subsidiado'\n",
    "# SEPTIEMBRE['Regimen']='Subsidiado'\n",
    "# OCTUBRE['Regimen']='Subsidiado'\n",
    "# NOVIEMBRE['Regimen']='Subsidiado'\n",
    "# DICIEMBRE['Regimen']='Subsidiado'"
   ]
  },
  {
   "cell_type": "code",
   "execution_count": 8,
   "metadata": {},
   "outputs": [],
   "source": [
    "# Se concatenan la bases de datos \n",
    "# frames = [ENERO, FEBRERO, MARZO, ABRIL, MAYO, JUNIO, JULIO, AGOSTO, SEPTIEMBRE, OCTUBRE, NOVIEMBRE, DICIEMBRE]\n",
    "frames = [ENERO, FEBRERO]\n",
    "GiroDirecto_Subsidiado = pd.concat(frames, ignore_index=True)"
   ]
  },
  {
   "source": [
    "<h2>Giros Directos - Regimen Contributivo </h2>\n",
    "<p> En este apartado se trata la base de datos Giros Directos - Regimen Contributivo </p>"
   ],
   "cell_type": "markdown",
   "metadata": {}
  },
  {
   "cell_type": "code",
   "execution_count": 9,
   "metadata": {},
   "outputs": [],
   "source": [
    "# Para leer los datos descargados desde La Lupa ADRES aparatado Giro Directo - Regimen Contributivo\n",
    "ENERO = pd.read_excel('C:/Users/Miguel Angel/Documents/Supersalud/Pagos_EPS_Proveedores/GiroDirecto/2021/Contributivo/ENERO.xlsx', sheet_name='GIRO DIRECTO', header=5)\n",
    "FEBRERO = pd.read_excel('C:/Users/Miguel Angel/Documents/Supersalud/Pagos_EPS_Proveedores/GiroDirecto/2021/Contributivo/FEBRERO.xlsx', sheet_name='GIRO DIRECTO', header=8)\n",
    "# MARZO = pd.read_excel('C:/Users/Miguel Angel/Documents/Supersalud/Pagos_EPS_Proveedores/GiroDirecto/2020/Contributivo/MARZO.xlsx', sheet_name='GIRO DIRECTO', header=9)\n",
    "# ABRIL = pd.read_excel('C:/Users/Miguel Angel/Documents/Supersalud/Pagos_EPS_Proveedores/GiroDirecto/2020/Contributivo/ABRIL.xlsx', sheet_name='GIRO DIRECTO', header=9)\n",
    "# MAYO = pd.read_excel('C:/Users/Miguel Angel/Documents/Supersalud/Pagos_EPS_Proveedores/GiroDirecto/2020/Contributivo/MAYO.xlsx', sheet_name='GIRO DIRECTO', header=9)\n",
    "# JUNIO = pd.read_excel('C:/Users/Miguel Angel/Documents/Supersalud/Pagos_EPS_Proveedores/GiroDirecto/2020/Contributivo/JUNIO.xlsx', sheet_name='GIRO DIRECTO', header=9)\n",
    "# JULIO = pd.read_excel('C:/Users/Miguel Angel/Documents/Supersalud/Pagos_EPS_Proveedores/GiroDirecto/2020/Contributivo/JULIO.xlsx', sheet_name='GIRO DIRECTO', header=8)\n",
    "# AGOSTO = pd.read_excel('C:/Users/Miguel Angel/Documents/Supersalud/Pagos_EPS_Proveedores/GiroDirecto/2020/Contributivo/AGOSTO.xlsx', sheet_name='GIRO DIRECTO', header=8)\n",
    "# SEPTIEMBRE = pd.read_excel('C:/Users/Miguel Angel/Documents/Supersalud/Pagos_EPS_Proveedores/GiroDirecto/2020/Contributivo/SEPTIEMBRE.xlsx', sheet_name='GIRO DIRECTO', header=8)\n",
    "# OCTUBRE = pd.read_excel('C:/Users/Miguel Angel/Documents/Supersalud/Pagos_EPS_Proveedores/GiroDirecto/2020/Contributivo/OCTUBRE.xlsx', sheet_name='GIRO DIRECTO', header=8)\n",
    "# NOVIEMBRE = pd.read_excel('C:/Users/Miguel Angel/Documents/Supersalud/Pagos_EPS_Proveedores/GiroDirecto/2020/Contributivo/NOVIEMBRE.xlsx', sheet_name='GIRO DIRECTO', header=8)\n",
    "# DICIEMBRE = pd.read_excel('C:/Users/Miguel Angel/Documents/Supersalud/Pagos_EPS_Proveedores/GiroDirecto/2020/Contributivo/DICIEMBRE.xlsx', sheet_name='GIRO DIRECTO', header=8)"
   ]
  },
  {
   "cell_type": "code",
   "execution_count": 10,
   "metadata": {},
   "outputs": [],
   "source": [
    "# Para homogenizar los nombres de las columnas y facilitar la pega posteriormente\n",
    "ENERO.rename(columns={'Código_EPS': 'Código EPS'}, inplace=True)\n",
    "FEBRERO.rename(columns={'Código_EPS': 'Código EPS'}, inplace=True)\n",
    "# MARZO.rename(columns={'Código_EPS': 'Código EPS'}, inplace=True)\n",
    "# ABRIL.rename(columns={'Código_EPS': 'Código EPS'}, inplace=True)\n",
    "# MAYO.rename(columns={'Código_EPS': 'Código EPS'}, inplace=True)"
   ]
  },
  {
   "cell_type": "code",
   "execution_count": 11,
   "metadata": {},
   "outputs": [],
   "source": [
    "# Para agregar la columna de mes y corroborar posteriormente al concatenar las bases\n",
    "ENERO['Mes']='1'\n",
    "FEBRERO['Mes']='2'\n",
    "# MARZO['Mes']='3'\n",
    "# ABRIL['Mes']='4'\n",
    "# MAYO['Mes']='5'\n",
    "# JUNIO['Mes']='6'\n",
    "# JULIO['Mes']='7'\n",
    "# AGOSTO['Mes']='8'\n",
    "# SEPTIEMBRE['Mes']='9'\n",
    "# OCTUBRE['Mes']='10'\n",
    "# NOVIEMBRE['Mes']='11'\n",
    "# DICIEMBRE['Mes']='12'"
   ]
  },
  {
   "cell_type": "code",
   "execution_count": 12,
   "metadata": {},
   "outputs": [],
   "source": [
    "# Para agregar la columna de año y corroborar posteriormente al concatenar las bases\n",
    "ENERO['Ano']='2021'\n",
    "FEBRERO['Ano']='2021'\n",
    "# MARZO['Ano']='2020'\n",
    "# ABRIL['Ano']='2020'\n",
    "# MAYO['Ano']='2020'\n",
    "# JUNIO['Ano']='2020'\n",
    "# JULIO['Ano']='2020'\n",
    "# AGOSTO['Ano']='2020'\n",
    "# SEPTIEMBRE['Ano']='2020'\n",
    "# OCTUBRE['Ano']='2020'\n",
    "# NOVIEMBRE['Ano']='2020'\n",
    "# DICIEMBRE['Ano']='2020'"
   ]
  },
  {
   "cell_type": "code",
   "execution_count": 13,
   "metadata": {},
   "outputs": [],
   "source": [
    "# Para agregar la columna de tipo de regimen y corroborar posteriormente al concatenar las bases\n",
    "ENERO['Regimen']='Contributivo'\n",
    "FEBRERO['Regimen']='Contributivo'\n",
    "# MARZO['Regimen']='Contributivo'\n",
    "# ABRIL['Regimen']='Contributivo'\n",
    "# MAYO['Regimen']='Contributivo'\n",
    "# JUNIO['Regimen']='Contributivo'\n",
    "# JULIO['Regimen']='Contributivo'\n",
    "# AGOSTO['Regimen']='Contributivo'\n",
    "# SEPTIEMBRE['Regimen']='Contributivo'\n",
    "# OCTUBRE['Regimen']='Contributivo'\n",
    "# NOVIEMBRE['Regimen']='Contributivo'\n",
    "# DICIEMBRE['Regimen']='Contributivo'"
   ]
  },
  {
   "cell_type": "code",
   "execution_count": 14,
   "metadata": {},
   "outputs": [],
   "source": [
    "# Se concatenan la bases de datos \n",
    "# frames = [ENERO, FEBRERO, MARZO, ABRIL, MAYO, JUNIO, JULIO, AGOSTO, SEPTIEMBRE, OCTUBRE, NOVIEMBRE, DICIEMBRE]\n",
    "frames = [ENERO, FEBRERO]\n",
    "GiroDirecto_Contributivo = pd.concat(frames, ignore_index=True)"
   ]
  },
  {
   "cell_type": "code",
   "execution_count": 15,
   "metadata": {},
   "outputs": [],
   "source": [
    "# Se eliminan las columnas que no son de interés para GiroDirecto_Contributivo\n",
    "GiroDirecto_Contributivo = GiroDirecto_Contributivo.drop(['Unnamed: 0', 'PROCESO'], axis=1)"
   ]
  },
  {
   "cell_type": "code",
   "execution_count": 16,
   "metadata": {},
   "outputs": [
    {
     "output_type": "stream",
     "name": "stdout",
     "text": [
      "Index(['Código EPS', 'Nombre EPS', 'NIT IPS', 'Nombre IPS',\n       'Valor Autorizado por EPS', 'Valor Girado IPS', 'observación',\n       'Fecha proceso Giro Directo', 'Fecha Giro', 'Mes', 'Ano', 'Regimen'],\n      dtype='object')\n"
     ]
    }
   ],
   "source": [
    "print(GiroDirecto_Contributivo.columns)"
   ]
  },
  {
   "cell_type": "code",
   "execution_count": 17,
   "metadata": {},
   "outputs": [
    {
     "output_type": "stream",
     "name": "stdout",
     "text": [
      "Index(['Código EPS', 'Nombre EPS', 'NIT', 'Razón Social',\n       'Valor Autorizado por EPS', 'Valor Girado IPS', 'observación',\n       'Fecha proceso', 'Fecha Giro', 'Mes', 'Ano', 'Regimen'],\n      dtype='object')\n"
     ]
    }
   ],
   "source": [
    "print(GiroDirecto_Subsidiado.columns)"
   ]
  },
  {
   "cell_type": "code",
   "execution_count": 18,
   "metadata": {},
   "outputs": [],
   "source": [
    "# Para renombrar las columnas de interés GiroDirecto_Subsidiado\n",
    "GiroDirecto_Subsidiado.rename(columns={'NIT': 'NIT IPS', 'Razón Social': 'Nombre IPS', 'Fecha proceso': 'Fecha proceso Giro Directo'}, inplace=True)"
   ]
  },
  {
   "cell_type": "code",
   "execution_count": 19,
   "metadata": {},
   "outputs": [],
   "source": [
    "# Se concatenan la bases de datos para encontrar la base de datos final\n",
    "frames = [GiroDirecto_Contributivo, GiroDirecto_Subsidiado]\n",
    "GiroDirecto = pd.concat(frames, ignore_index=True)"
   ]
  },
  {
   "cell_type": "code",
   "execution_count": 20,
   "metadata": {},
   "outputs": [],
   "source": [
    "# Para renombrar las columnas de interés\n",
    "GiroDirecto.rename(columns={'Código EPS': 'Codigo_EPS', 'Nombre EPS': 'Nombre_EPS', 'NIT IPS': 'Nitproveedor', 'Nombre IPS': 'Nombre_IPS', 'Valor Autorizado por la EPS ($)': 'Autorizado', 'Valor Girado IPS': 'Giro', 'Fecha Giro': 'Fecha_Giro'}, inplace=True)"
   ]
  },
  {
   "cell_type": "code",
   "execution_count": 21,
   "metadata": {},
   "outputs": [],
   "source": [
    "# Se elimina la fila Total de cada base de datos, la cual corresponde al total para cada tipo de Giro en cada mes \n",
    "# GiroDirecto = GiroDirecto.loc[GiroDirecto[\"Codigo_EPS\"] != \"TOTAL\"] --- OJO: utilizar cuando se quiere eliminar solo una observación\n",
    "GiroDirecto = GiroDirecto.dropna(subset=['Nombre_EPS'])"
   ]
  },
  {
   "cell_type": "code",
   "execution_count": 22,
   "metadata": {},
   "outputs": [],
   "source": [
    "# Se eliminan las columnas que no son de interés\n",
    "GiroDirecto = GiroDirecto.drop(['observación', 'Fecha proceso Giro Directo', 'Fecha_Giro'], axis=1)"
   ]
  },
  {
   "cell_type": "code",
   "execution_count": 23,
   "metadata": {},
   "outputs": [],
   "source": [
    "# Código EPS a NIT\n",
    "# Esta información está actualizada desde la fuente https://supersalud.sharepoint.com/OMSAR/Lists/Cdigos%20Entidades%20OMSAR/AllItems.aspx\n",
    "\n",
    "dict_EPS = {\n",
    "    'Codigo_EPS': ['EPS001',\t'EPS012',\t'EPS008',\t'EPS016',\t'EPS023',\t'EPS017',\t'EPS002',\t'EPS005',\t'EPS018',\t'EPS010',\t'EPS046',\t'EPS044',\t'EPS037',\t'EPS033',\t'ESS024',\t'ESS062',\t'ESS091',\t'ESS118',\t'EPSS45',\t'EPSS41',\t'EPSS33',\t'ESS076',\t'EPSI04',\t'EPSI03',\t'ESS207',\t'CCF055',\t'EPSS34',\t'EPS025',\t'CCF102',\t'CCF015',\t'CCF053',\t'CCF007',\t'CCF023',\t'EPS024',\t'CCF027',\t'CCF050',\t'CCF033',\t'ESS133',\t'EPS022',\t'EPSI01',\t'ESS002',\t'EPSI05',\t'EPSI06',\t'ESSC24',\t'ESSC62',\t'ESSC91',\t'ESSC18',\t'EPS045',\t'EPS041',\t'ESSC76',\t'EPSIC4',\t'EPSIC3',\t'ESSC07',\t'CCFC55',\t'EPSC34',\t'EPSC25',\t'CCFC20',\t'CCFC15',\t'CCFC53',\t'CCFC07',\t'CCFC23',\t'CCFC24',\t'CCFC27',\t'CCFC50',\t'CCFC33',\t'EPSC22',\t'EPSIC1',\t'ESSC02',\t'EPSIC5',\t'EPSIC6',\t'EPS040',\t'EPSS01',\t'EPSS12',\t'EPSS08',\t'EPSS16',\t'EPSS23',\t'EPSS17',\t'EPSS02',\t'EPSS05',\t'EPSS18',\t'EPSS10',\t'EPSS46',\t'EPSS44',\t'EPSS37',\t'CCF024',\t'EPS042',\t'EPSS42',\t'EPSS48',\t'EPSS40',\t'ESSC33',\n",
    "],\n",
    "\n",
    "        'NIT_EPS': ['830113831',\t'890303093',\t'860066942',\t'805000427',\t'830009783',\t'830003564',\t'800130907',\t'800251440',\t'805001157',\t'800088702',\t'900914254',\t'901097473',\t'900156264',\t'830074184',\t'900226715',\t'900935126',\t'901093846',\t'901021565',\t'901097473',\t'900156264',\t'830074184',\t'818000140',\t'839000495',\t'817001773',\t'806008394',\t'890102044',\t'900298372',\t'891856000',\t'891600091',\t'891080005',\t'860045904',\t'890480110',\t'892115006',\t'891180008',\t'891280008',\t'890500675',\t'892200015',\t'804002105',\t'899999107',\t'824001398',\t'811004055',\t'837000084',\t'809008362',\t'900226715',\t'900935126',\t'901093846',\t'901021565',\t'901097473',\t'900156264',\t'818000140',\t'839000495',\t'817001773',\t'806008394',\t'890102044',\t'900298372',\t'891856000',\t'891600091',\t'891080005',\t'860045904',\t'890480110',\t'892115006',\t'891180008',\t'891280008',\t'890500675',\t'892200015',\t'899999107',\t'824001398',\t'811004055',\t'837000084',\t'809008362',\t'900604350',\t'830113831',\t'890303093',\t'860066942',\t'805000427',\t'830009783',\t'830003564',\t'800130907',\t'800251440',\t'805001157',\t'800088702',\t'900914254',\t'901097473',\t'900156264',\t'891180008',\t'900226715',\t'900226715',\t'806008394',\t'900604350',\t'804002105',\n",
    "],\n",
    "        }"
   ]
  },
  {
   "cell_type": "code",
   "execution_count": 24,
   "metadata": {},
   "outputs": [],
   "source": [
    "# Se crea el dataframe con el diccionario de datos\n",
    "df_EPS = pd.DataFrame(dict_EPS, columns = [\"Codigo_EPS\", \"NIT_EPS\"])"
   ]
  },
  {
   "cell_type": "code",
   "execution_count": 25,
   "metadata": {},
   "outputs": [],
   "source": [
    "# Se unen las dos bases de datos para obtener la información de NIT EPS haciendo el llamado por Códgio EPS\n",
    "GiroDirecto.Codigo_EPS = GiroDirecto.Codigo_EPS.astype(str)\n",
    "df_EPS.Codigo_EPS = df_EPS.Codigo_EPS.astype(str)\n",
    "GiroDirecto = pd.merge(GiroDirecto,df_EPS, how='left', on=['Codigo_EPS', 'Codigo_EPS'])"
   ]
  },
  {
   "cell_type": "code",
   "execution_count": 26,
   "metadata": {},
   "outputs": [],
   "source": [
    "#Se transforman las variables a STR para mejorar su manipulación\n",
    "GiroDirecto.Nitproveedor = GiroDirecto.Nitproveedor.astype(str)\n",
    "GiroDirecto.Mes = GiroDirecto.Mes.astype(str)"
   ]
  },
  {
   "cell_type": "code",
   "execution_count": 27,
   "metadata": {},
   "outputs": [],
   "source": [
    "# Para hacer la suma de Giro por NIT EPS, NIT proveedor y Mes de interés\n",
    "GiroDirecto_2021 = GiroDirecto.groupby(['NIT_EPS','Nitproveedor','Mes','Ano']).agg({'Giro': 'sum'}).reset_index()"
   ]
  },
  {
   "cell_type": "code",
   "execution_count": 28,
   "metadata": {},
   "outputs": [],
   "source": [
    "# Para guardar la base de datos lista para ser tratada en formato Excel y CSV\n",
    "GiroDirecto_2021.to_excel(r'GiroDirecto_ENEMAR2021_V2.xlsx', index = False)\n",
    "GiroDirecto_2021.to_csv(r'GiroDirecto_ENEMAR2021_V2.csv', index = False, encoding='utf-8-sig')"
   ]
  },
  {
   "cell_type": "code",
   "execution_count": 35,
   "metadata": {},
   "outputs": [],
   "source": [
    "# Para concatenar la base de datos de 2021 y 2020\n",
    "GiroDirecto_2020 = pd.read_excel('C:/Users/Miguel Angel/Documents/Supersalud/Pagos_EPS_Proveedores/GiroDirecto/GiroDirecto_2020_V2.xlsx', dtype={'NIT_EPS':object, 'Nitproveedor': object, 'Mes':object, 'Ano':object})"
   ]
  },
  {
   "cell_type": "code",
   "execution_count": 40,
   "metadata": {},
   "outputs": [],
   "source": [
    "# Se concatenan la bases de datos para encontrar la base de datos final\n",
    "frames = [GiroDirecto_2021, GiroDirecto_2020]\n",
    "GiroDirecto_2020_2021 = pd.concat(frames, ignore_index=True)"
   ]
  },
  {
   "cell_type": "code",
   "execution_count": 41,
   "metadata": {},
   "outputs": [],
   "source": [
    "# Para guardar la base de datos lista para ser tratada en formato Excel y CSV\n",
    "GiroDirecto_2020_2021.to_excel(r'GiroDirecto_2020_ENEMAR2021_V2.xlsx', index = False)\n",
    "GiroDirecto_2020_2021.to_csv(r'GiroDirecto_2020_ENEMAR2021_V2.csv', index = False, encoding='utf-8-sig')"
   ]
  },
  {
   "source": [
    "<h2>No UPC</h2>\n",
    "<p> En este apartado se trata la base de datos No UPC</p>\n",
    "<p>Es necesario aclarar que en el archivo de FEBRERO de 2021 se cinluye la información para ENERO  de 2021. También se debe mencionar que para obtener los datos de MARRZO de 2021 se tuvo que concatenar las diferentes hojas correspondientes a pagos a IPS previamente al cargue de información en el .ipynb ya que en este archivo hubo una modificación en el reporte de la información y venía desagregada en hojas por tipo de pagos a IPS.</p>\n",
    "<p>Nota: se debe recordar que la información a agregar son los pagos a IPS así que se deben ignorar las hojas referentes a EPS</p"
   ],
   "cell_type": "markdown",
   "metadata": {}
  },
  {
   "cell_type": "code",
   "execution_count": 70,
   "metadata": {},
   "outputs": [],
   "source": [
    "# Para leer los datos descargados desde La Lupa ADRES aparatado Giro Directo - Regimen Subsidiado\n",
    "# ENERO = pd.read_excel('C:/Users/Miguel Angel/Documents/Supersalud/Pagos_EPS_Proveedores/Recursos_No_UPC/2021/ENERO.xlsx', sheet_name='PP0120 - IPS', header=7)\n",
    "FEBRERO = pd.read_excel('C:/Users/Miguel Angel/Documents/Supersalud/Pagos_EPS_Proveedores/Recursos_No_UPC/2021/FEBRERO.xlsx', sheet_name='PAQUETE SUB_S02_0620-0920 IPS', header=6)\n",
    "MARZO = pd.read_excel('C:/Users/Miguel Angel/Documents/Supersalud/Pagos_EPS_Proveedores/Recursos_No_UPC/2021/MARZO.xlsx', sheet_name='Hoja1')"
   ]
  },
  {
   "cell_type": "code",
   "execution_count": 71,
   "metadata": {},
   "outputs": [
    {
     "output_type": "stream",
     "name": "stdout",
     "text": [
      "Index(['Normativa', 'Paquete', 'Régimen', 'Tipo Recobro', 'NIT EPS',\n       'Nombre EPS que autorizó el giro', 'NIT IPS/Proveedor',\n       'Nombre IPS/Proveedor', 'Fecha Pago', 'Valor Girado',\n       'Valor Total a Descontar', 'Oservación'],\n      dtype='object')\n"
     ]
    }
   ],
   "source": [
    "print(FEBRERO.columns)"
   ]
  },
  {
   "cell_type": "code",
   "execution_count": 72,
   "metadata": {},
   "outputs": [
    {
     "output_type": "stream",
     "name": "stdout",
     "text": [
      "Index(['Normativa', 'Paquete', 'Régimen', 'Tipo Recobro', 'NIT EPS',\n       'Nombre EPS que autorizó el giro', 'NIT IPS/Proveedor',\n       'Nombre IPS/Proveedor', 'Fecha Pago', 'Valor Girado',\n       'Valor Total a Descontar', 'Oservación'],\n      dtype='object')\n"
     ]
    }
   ],
   "source": [
    "print(MARZO.columns)"
   ]
  },
  {
   "cell_type": "code",
   "execution_count": 73,
   "metadata": {},
   "outputs": [],
   "source": [
    "# Para homogenizar los nombres de las columnas y facilitar la pega posteriormente\n",
    "# En este caso los nombres de las variables son iguales así que no hay que homogenizar \n",
    "# ENERO.rename(columns={'Valor Autorizado \\npor la EPS ($)': 'Valor Autorizado por EPS', 'Código_EPS': 'Código EPS', 'Valor Girado a IPS': 'Valor Girado IPS', 'Observación': 'observación'}, inplace=True)\n",
    "# FEBRERO.rename(columns={'Valor Autorizado \\npor la EPS ($)': 'Valor Autorizado por EPS', 'Código_EPS': 'Código EPS', 'Valor Girado a IPS': 'Valor Girado IPS', 'Observación': 'observación'}, inplace=True)"
   ]
  },
  {
   "cell_type": "code",
   "execution_count": 74,
   "metadata": {},
   "outputs": [],
   "source": [
    "# Para agregar la columna de mes y corroborar posteriormente al concatenar las bases\n",
    "FEBRERO['Mes']='2'\n",
    "MARZO['Mes']='3'"
   ]
  },
  {
   "cell_type": "code",
   "execution_count": 75,
   "metadata": {},
   "outputs": [],
   "source": [
    "# Para agregar la columna de año y corroborar posteriormente al concatenar las bases\n",
    "# ENERO['Ano']='2020'\n",
    "FEBRERO['Ano']='2021'\n",
    "MARZO['Ano']='2021'"
   ]
  },
  {
   "cell_type": "code",
   "execution_count": 76,
   "metadata": {},
   "outputs": [],
   "source": [
    "# Se concatenan la bases de datos \n",
    "frames = [FEBRERO, MARZO]\n",
    "No_UPC = pd.concat(frames, ignore_index=True)"
   ]
  },
  {
   "cell_type": "code",
   "execution_count": 77,
   "metadata": {},
   "outputs": [
    {
     "output_type": "stream",
     "name": "stdout",
     "text": [
      "Index(['Normativa', 'Paquete', 'Régimen', 'Tipo Recobro', 'NIT EPS',\n       'Nombre EPS que autorizó el giro', 'NIT IPS/Proveedor',\n       'Nombre IPS/Proveedor', 'Fecha Pago', 'Valor Girado',\n       'Valor Total a Descontar', 'Oservación', 'Mes', 'Ano'],\n      dtype='object')\n"
     ]
    }
   ],
   "source": [
    "print(No_UPC.columns)"
   ]
  },
  {
   "cell_type": "code",
   "execution_count": 78,
   "metadata": {},
   "outputs": [],
   "source": [
    "# Se eliminan las columnas que no son de interés para GiroDirecto_Contributivo\n",
    "No_UPC = No_UPC.drop(['Normativa', 'Paquete', 'Régimen', 'Tipo Recobro', 'Nombre EPS que autorizó el giro','Nombre IPS/Proveedor', 'Fecha Pago', 'Valor Total a Descontar', 'Oservación'], axis=1)"
   ]
  },
  {
   "cell_type": "code",
   "execution_count": 79,
   "metadata": {},
   "outputs": [],
   "source": [
    "# Para renombrar las columnas de interés\n",
    "No_UPC.rename(columns={'NIT IPS/Proveedor': 'Nitproveedor', 'Valor Girado': 'No_UPC', 'NIT EPS': 'NIT_EPS'}, inplace=True)"
   ]
  },
  {
   "cell_type": "code",
   "execution_count": 91,
   "metadata": {},
   "outputs": [],
   "source": [
    "# Para hacer la suma de No_UPC por \n",
    "No_UPC_2021 = No_UPC.groupby(['NIT_EPS','Nitproveedor','Mes', 'Ano']).agg({'No_UPC': 'sum'}).reset_index()"
   ]
  },
  {
   "cell_type": "code",
   "execution_count": 92,
   "metadata": {},
   "outputs": [],
   "source": [
    "# Para guardar la base de datos lista para ser tratada en formato Excel y CSV\n",
    "No_UPC_2021.to_excel(r'No_UPC_ENEMAR2021.xlsx', index = False)\n",
    "No_UPC_2021.to_csv(r'No_UPC_ENEMAR2021.csv', index = False, encoding='utf-8-sig')"
   ]
  },
  {
   "cell_type": "code",
   "execution_count": 93,
   "metadata": {},
   "outputs": [],
   "source": [
    "# Para concatenar la base de datos de 2021 y 2020\n",
    "No_UPC_2020 = pd.read_excel('C:/Users/Miguel Angel/Documents/Supersalud/Pagos_EPS_Proveedores/Recursos_No_UPC/NoUPC_2020_V2.xlsx', dtype={'NIT_EPS':object, 'Nitproveedor': object, 'Mes':object, 'Ano':object})"
   ]
  },
  {
   "cell_type": "code",
   "execution_count": 96,
   "metadata": {},
   "outputs": [],
   "source": [
    "# Se concatenan la bases de datos para encontrar la base de datos final\n",
    "frames = [No_UPC_2021, No_UPC_2020]\n",
    "No_UPC_2020_2021 = pd.concat(frames, ignore_index=True)"
   ]
  },
  {
   "cell_type": "code",
   "execution_count": 98,
   "metadata": {},
   "outputs": [],
   "source": [
    "# Para guardar la base de datos lista para ser tratada en formato Excel y CSV\n",
    "No_UPC_2020_2021.to_excel(r'No_UPC_2020_ENEMAR2021_V2.xlsx', index = False)\n",
    "No_UPC_2020_2021.to_csv(r'No_UPC_2020_ENEMAR2021_V2.csv', index = False, encoding='utf-8-sig')"
   ]
  },
  {
   "source": [
    "<h2>Web - Giro - No UPC - PagoWeb</h2>\n",
    "<p> En este apartado se crea la base de datos Web - Giro - No UPC - PagoWeb </p>"
   ],
   "cell_type": "markdown",
   "metadata": {}
  },
  {
   "cell_type": "code",
   "execution_count": 1,
   "metadata": {},
   "outputs": [],
   "source": [
    "#Cargamos los paquetes que vamos a necesitar\n",
    "import pandas as pd\n",
    "import numpy as np\n",
    "import pyreadstat"
   ]
  },
  {
   "cell_type": "code",
   "execution_count": 2,
   "metadata": {},
   "outputs": [],
   "source": [
    "# Para concatenar la base de datos de 2021 y 2020. Primero se hace para NO UPC y Giro Directo\n",
    "No_UPC_2020_2021 = pd.read_excel('C:/Users/Miguel Angel/Documents/Supersalud/Pagos_EPS_Proveedores/Recursos_No_UPC/No_UPC_2020_ENEMAR2021_V2.xlsx', dtype={'NIT_EPS':object, 'Nitproveedor': object, 'Mes':object, 'Ano':object})\n",
    "GiroDirecto_2020_2021 = pd.read_excel('C:/Users/Miguel Angel/Documents/Supersalud/Pagos_EPS_Proveedores/GiroDirecto/GiroDirecto_2020_ENEMAR2021_V2.xlsx', dtype={'NIT_EPS':object, 'Nitproveedor': object, 'Mes':object, 'Ano':object})"
   ]
  },
  {
   "cell_type": "code",
   "execution_count": 3,
   "metadata": {},
   "outputs": [],
   "source": [
    "# Se unen las dos bases de datos para obtener la información de Giro Directo y No_UPC en una sola base de datos\n",
    "GD_UPC = pd.merge(GiroDirecto_2020_2021, No_UPC_2020_2021, how='outer', left_on=['NIT_EPS', 'Nitproveedor', 'Mes', 'Ano'], right_on=['NIT_EPS', 'Nitproveedor', 'Mes', 'Ano'])"
   ]
  },
  {
   "cell_type": "code",
   "execution_count": 4,
   "metadata": {},
   "outputs": [],
   "source": [
    "# Para concatenar la base de datos de 2021 y 2020\n",
    "CompraCartera2020 = pd.read_stata('C:/Users/Miguel Angel/Documents/Supersalud/Pagos_EPS_Proveedores/compracarteramayo.dta')"
   ]
  },
  {
   "cell_type": "code",
   "execution_count": 5,
   "metadata": {},
   "outputs": [],
   "source": [
    "#Se crea la variable año para la Compra de Cartera\n",
    "CompraCartera2020['Ano']='2020'"
   ]
  },
  {
   "cell_type": "code",
   "execution_count": 6,
   "metadata": {},
   "outputs": [],
   "source": [
    "# Se modifican los nombres de las columnas para posterimente pegar las bases de datos\n",
    "CompraCartera2020.rename(columns={'nit': 'NIT_EPS', 'nitproveedor': 'Nitproveedor', 'mes': 'Mes', 'compra': 'Compra_Cartera'}, inplace=True)"
   ]
  },
  {
   "cell_type": "code",
   "execution_count": 7,
   "metadata": {},
   "outputs": [],
   "source": [
    "#Se transforman las variables a STR para mejorar su manipulación\n",
    "CompraCartera2020[['NIT_EPS', 'Nitproveedor', 'Mes', 'Ano']] = CompraCartera2020[['NIT_EPS', 'Nitproveedor', 'Mes', 'Ano']].astype(str)"
   ]
  },
  {
   "cell_type": "code",
   "execution_count": 14,
   "metadata": {},
   "outputs": [],
   "source": [
    "# Se unen las dos bases de datos para obtener la información de Giro Directo - No_UPC y Compra de Cartera en una sola base de datos\n",
    "GD_UPC_CC= pd.merge(GD_UPC, CompraCartera2020, how='outer', left_on=['NIT_EPS', 'Nitproveedor', 'Mes', 'Ano'], right_on=['NIT_EPS', 'Nitproveedor', 'Mes', 'Ano'])"
   ]
  },
  {
   "cell_type": "code",
   "execution_count": 15,
   "metadata": {},
   "outputs": [],
   "source": [
    "# Para concatenar la base de datos de 2021 y 2020\n",
    "PagoWeb = pd.read_stata('C:/Users/Miguel Angel/Documents/Supersalud/Pagos_EPS_Proveedores/pagoweb.dta')"
   ]
  },
  {
   "cell_type": "code",
   "execution_count": 16,
   "metadata": {},
   "outputs": [],
   "source": [
    "#Se crea la variable año para la Compra de Cartera\n",
    "PagoWeb['Ano']='2020'"
   ]
  },
  {
   "cell_type": "code",
   "execution_count": 17,
   "metadata": {},
   "outputs": [],
   "source": [
    "# Se modifican los nombres de las columnas para posterimente pegar las bases de datos\n",
    "PagoWeb.rename(columns={'nit': 'NIT_EPS', 'nitproveedor': 'Nitproveedor', 'mes': 'Mes', 'pw': 'PW'}, inplace=True)"
   ]
  },
  {
   "cell_type": "code",
   "execution_count": 18,
   "metadata": {},
   "outputs": [],
   "source": [
    "# Se unen las dos bases de datos para obtener la información de Giro Directo - No_UPC y Compra de Cartera en una sola base de datos\n",
    "GD_UPC_CC_PW= pd.merge(GD_UPC_CC, PagoWeb, how='outer', left_on=['NIT_EPS', 'Nitproveedor', 'Mes', 'Ano'], right_on=['NIT_EPS', 'Nitproveedor', 'Mes', 'Ano'])"
   ]
  },
  {
   "cell_type": "code",
   "execution_count": 19,
   "metadata": {},
   "outputs": [],
   "source": [
    "# Para guardar la base de datos lista para ser tratada en formato Excel y CSV\n",
    "GD_UPC_CC_PW.to_excel(r'GD_UPC_CC_PW_2020_ENEMAR2021_V2.xlsx', index = False)\n",
    "GD_UPC_CC_PW.to_csv(r'GD_UPC_CC_PW_2020_ENEMAR2021_V2.csv', index = False, encoding='utf-8-sig')"
   ]
  },
  {
   "source": [
    "<h2>FT005</h2>\n",
    "<p> En este apartado se trata la base de datos FT005 </p>"
   ],
   "cell_type": "markdown",
   "metadata": {}
  },
  {
   "cell_type": "code",
   "execution_count": 1,
   "metadata": {},
   "outputs": [],
   "source": [
    "#Cargamos los paquetes que vamos a necesitar\n",
    "import pandas as pd\n",
    "import numpy as np\n",
    "import pyreadstat"
   ]
  },
  {
   "cell_type": "code",
   "execution_count": 2,
   "metadata": {},
   "outputs": [],
   "source": [
    "# Se carga el FT005 completo desde el archivo .dta\n",
    "# FT005 = pd.read_stata('C:/Users/Miguel Angel/Documents/Supersalud/Pagos_EPS_Proveedores/Informe_Pagos/FT005 20202021_cortado.dta')"
   ]
  },
  {
   "cell_type": "code",
   "execution_count": 3,
   "metadata": {},
   "outputs": [],
   "source": [
    "#Se transforman las variables a STR para mejorar su manipulación\n",
    "# FT005.Nit = FT005.Nit.astype(str)"
   ]
  },
  {
   "cell_type": "code",
   "execution_count": 4,
   "metadata": {},
   "outputs": [],
   "source": [
    "#Se elije una sola EPS para hacer más fácil el análisis\n",
    "# FT005_V1 = FEBRERO.loc[FEBRERO['Nit'] == '805000427']"
   ]
  },
  {
   "cell_type": "code",
   "execution_count": 5,
   "metadata": {},
   "outputs": [],
   "source": [
    "# Para guardar la base de datos ejemplo a tratar\n",
    "# FT005_V1.to_excel(r'FT005_V1.xlsx', index = False)"
   ]
  },
  {
   "cell_type": "code",
   "execution_count": 6,
   "metadata": {},
   "outputs": [],
   "source": [
    "# Se elimina el FT005 full para liberar espacio en la memoria\n",
    "# del FT005"
   ]
  },
  {
   "cell_type": "code",
   "execution_count": 10,
   "metadata": {},
   "outputs": [],
   "source": [
    "# Se carga la base de datos con una sola EPS para agilizar el código\n",
    "FT005_V1 = pd.read_excel('FT005_V1.xlsx', dtype={'Nit':object, 'Año': object, 'idProveedor':object, 'Periodo':object})"
   ]
  },
  {
   "cell_type": "code",
   "execution_count": 11,
   "metadata": {},
   "outputs": [],
   "source": [
    "# Se reemplazan los nombres de las columnas para facilitar el tratamiento\n",
    "FT005_V1.rename(columns={'Nit': 'NIT_EPS', 'Año': 'Ano', 'Periodo': 'Mes', 'lineaNegocio': 'Linea','tipoIdProveedor': 'Tipoproveedor', 'idProveedor': 'Nitproveedor', 'codigoConcepto': 'Concepto', 'descripcionCyG': 'CyG', 'valorCausado': 'VCausado', 'valorPagado': 'VPagado'}, inplace=True)"
   ]
  },
  {
   "cell_type": "code",
   "execution_count": 12,
   "metadata": {},
   "outputs": [],
   "source": [
    "#Se transforman las variables a STR para mejorar su manipulación\n",
    "FT005_V1[['NIT_EPS', 'Nitproveedor', 'Tipoproveedor', 'Mes', 'Ano']] = FT005_V1[['NIT_EPS', 'Nitproveedor', 'Tipoproveedor', 'Mes', 'Ano']].astype(str)"
   ]
  },
  {
   "cell_type": "code",
   "execution_count": 13,
   "metadata": {},
   "outputs": [],
   "source": [
    "# Se filtra la línea de negocio de interés. En este caso corresponde a la línea 1\n",
    "FT005_V1 = FT005_V1.loc[FT005_V1['Linea'] == 1]"
   ]
  },
  {
   "cell_type": "code",
   "execution_count": 14,
   "metadata": {},
   "outputs": [],
   "source": [
    "# Para hacer la suma de Valor pagado y Valor causado por NIT EPS, tipo de proveedor, NIT proveedor y Mes de interés\n",
    "FT005_V2 = FT005_V1.groupby(['NIT_EPS', 'Tipoproveedor', 'Nitproveedor', 'Mes', 'Ano']).agg({'VPagado': 'sum','VCausado': 'sum'}).reset_index()"
   ]
  },
  {
   "cell_type": "code",
   "execution_count": 15,
   "metadata": {},
   "outputs": [
    {
     "output_type": "stream",
     "name": "stdout",
     "text": [
      "El número de registros duplicados es:\n0\n"
     ]
    }
   ],
   "source": [
    "# Se comprueba que no haya duplicados cuando se filtra por NIT EPS, tipo de proveedor, NIT proveedor y Mes. Para esto se cuenta el número de duplicados\n",
    "duplicadosFT005_V2 = FT005_V2[FT005_V2.duplicated(['NIT_EPS', 'Nitproveedor', 'Mes', 'Ano'], keep='last')]\n",
    "print(\"El número de registros duplicados es:\", duplicadosFT005_V2.NIT_EPS.count(), sep='\\n')"
   ]
  },
  {
   "cell_type": "code",
   "execution_count": 16,
   "metadata": {},
   "outputs": [],
   "source": [
    "# Se genera una nueva columna extrayendo el primer caracter del ID nitproveedor\n",
    "FT005_V2['d1'] = FT005_V2['Nitproveedor'].str[:1]"
   ]
  },
  {
   "cell_type": "code",
   "execution_count": 17,
   "metadata": {},
   "outputs": [],
   "source": [
    "# Se genera una nueva columna con la cuenta del numero de componentes que tiene el ID nitproveedor\n",
    "FT005_V2['largo'] = FT005_V2.Nitproveedor.str.len()"
   ]
  },
  {
   "cell_type": "code",
   "execution_count": 18,
   "metadata": {},
   "outputs": [],
   "source": [
    "# Se limpia la clasificación por Tipo de Proveedor\n",
    "FT005_V2['Tipoproveedor_corregido'] = 'NA' # Se crea la columna con categoria NA como base\n",
    "# Condiciones\n",
    "FT005_V2.loc[(FT005_V2['largo'] == 10) & # Para signar el tipo de proveedor CC\n",
    "       (FT005_V2['d1'] == '1'), \n",
    "       'Tipoproveedor_corregido'] = 'CC' \n",
    "FT005_V2.loc[(FT005_V2['largo'] == 9) & # Para signar el tipo de proveedor NI\n",
    "       ((FT005_V2['d1'] == '7') |\n",
    "       (FT005_V2['d1'] == '8') |\n",
    "       (FT005_V2['d1'] == '9')),  \n",
    "       'Tipoproveedor_corregido'] = 'NI' \n",
    "FT005_V2.loc[(FT005_V2['Tipoproveedor_corregido'] != 'NI'), # Para completar el tipo de proveedor CC\n",
    "       'Tipoproveedor_corregido'] = 'CC' "
   ]
  },
  {
   "cell_type": "code",
   "execution_count": 19,
   "metadata": {},
   "outputs": [
    {
     "output_type": "stream",
     "name": "stdout",
     "text": [
      "NI    102699\nCC     94707\nName: Tipoproveedor, dtype: int64\nNI    102739\nCC     94667\nName: Tipoproveedor_corregido, dtype: int64\n"
     ]
    }
   ],
   "source": [
    "print(FT005_V2.Tipoproveedor.value_counts())\n",
    "print(FT005_V2.Tipoproveedor_corregido.value_counts())"
   ]
  },
  {
   "cell_type": "code",
   "execution_count": 20,
   "metadata": {},
   "outputs": [],
   "source": [
    "# # Se crea una lista de condiciones simultaneas para asignar el tipo de proveedor\n",
    "\n",
    "# condiciones = [\n",
    "#     (FT005_V2['largo'] == 10) & (FT005_V2['d1'] == '1'), # Para signar el tipo de proveedor CC\n",
    "#     (FT005_V2['largo'] == 9) & ((FT005_V2['d1'] == '7') | (FT005_V2['d1'] == '8') | (FT005_V2['d1'] == '9')), # Para signar el tipo de proveedor NI\n",
    "#     (FT005_V2['largo'] == 9)\n",
    "#     ]\n",
    "\n",
    "# # Se asignan los valores correspondientes a cada una de las condiciones de nuestra lista\n",
    "# valores = ['CC', 'NI', 'CC']\n",
    "\n",
    "# # Se crea una nueva columna para asignar los valores dadas las condiciones \n",
    "# FT005_V2['tipoproveedor_corregido'] = np.select(condiciones, valores)\n",
    "# FT005_V2.tipoproveedor_corregido = FT005_V2.tipoproveedor_corregido.astype(str)\n",
    "\n",
    "# # Se da un resumen de como se ve el en general la nueva variable corregida\n",
    "# print(FT005_V2.tipoproveedor.value_counts())\n",
    "# print(FT005_V2.tipoproveedor_corregido.value_counts())"
   ]
  },
  {
   "cell_type": "code",
   "execution_count": 21,
   "metadata": {},
   "outputs": [],
   "source": [
    "# ESTA LINEA GENERA PROBLEMAS PORQUE CONVIERTE TODO EN CC Y UN NIT DEBE TENER SIEMPRE 9 DIGITOS MÁS 1 DIGITO DE VERIFICACION - PENSAR EN COMPLEMENTO PARA MEJORAR\n",
    "# FT005_V2.loc[(FT005_V2['tipoproveedor_corregido2'] != 'NI'), 'tipoproveedor_corregido2'] = 'CC' # Para completar el tipo de proveedor CC"
   ]
  },
  {
   "cell_type": "code",
   "execution_count": 22,
   "metadata": {},
   "outputs": [],
   "source": [
    "# Para hacer la suma de Valor pagado y Valor causado por NIT EPS, tipo de proveedor corregido, NIT proveedor y Mes de interés\n",
    "FT005_V3 = FT005_V2.groupby(['NIT_EPS', 'Tipoproveedor_corregido', 'Nitproveedor', 'Mes', 'Ano']).agg({'VPagado': 'sum','VCausado': 'sum'}).reset_index()"
   ]
  },
  {
   "cell_type": "code",
   "execution_count": 23,
   "metadata": {},
   "outputs": [],
   "source": [
    "# Se carga la base de datos webgironoupc para pegarla con el FT005\n",
    "webgironoupc = pd.read_excel('C:/Users/Miguel Angel/Documents/Supersalud/Pagos_EPS_Proveedores/GD_UPC_CC_PW_2020_ENEMAR2021_V2.xlsx', dtype={'NIT_EPS':object, 'Nitproveedor': object, 'Mes':object, 'Ano':object}) "
   ]
  },
  {
   "cell_type": "code",
   "execution_count": 24,
   "metadata": {},
   "outputs": [],
   "source": [
    "# Se elimina la variable que no nos interesa para la posterior pega de base de datos\n",
    "# webgironoupc=webgironoupc.drop(columns=['indicator_column'])"
   ]
  },
  {
   "cell_type": "code",
   "execution_count": 25,
   "metadata": {},
   "outputs": [],
   "source": [
    "# Se unen las dos bases de datos para obtener la información de webgironoupc (Giro Directo - No_UPC - Compra de Cartera) y FT005 en una sola base de datos\n",
    "FT005_web= pd.merge(FT005_V3, webgironoupc, how='outer', left_on=['NIT_EPS', 'Nitproveedor', 'Mes', 'Ano'], right_on=['NIT_EPS', 'Nitproveedor', 'Mes', 'Ano'])"
   ]
  },
  {
   "cell_type": "code",
   "execution_count": 26,
   "metadata": {},
   "outputs": [],
   "source": [
    "# Se eliminan la bases que no se necesitan para liberar espacio en la memoria\n",
    "del [FT005_V1, FT005_V2, duplicadosFT005_V2, FT005_V3, webgironoupc]"
   ]
  },
  {
   "cell_type": "code",
   "execution_count": 27,
   "metadata": {},
   "outputs": [],
   "source": [
    "# Se carga la base de datos prestadores.dta para su posterior pega\n",
    "prestadores = pd.read_stata('C:/Users/Miguel Angel/Documents/Supersalud/Pagos_EPS_Proveedores/prestadores.dta')"
   ]
  },
  {
   "cell_type": "code",
   "execution_count": 28,
   "metadata": {},
   "outputs": [],
   "source": [
    "# Se reemplazan los nombres de las columnas para facilitar el tratamiento\n",
    "prestadores.rename(columns={'nitproveedor': 'Nitproveedor', 'departamento': 'Departamento'}, inplace=True)"
   ]
  },
  {
   "cell_type": "code",
   "execution_count": 29,
   "metadata": {},
   "outputs": [
    {
     "output_type": "stream",
     "name": "stdout",
     "text": [
      "El número de registros duplicados es:\n0\n"
     ]
    }
   ],
   "source": [
    "# Se comprueba que no haya duplicados cuando se filtra por Nitproveedor. Para esto se cuenta el número de duplicados\n",
    "duplicados_prestadores = prestadores[prestadores.duplicated(['Nitproveedor'], keep='last')]\n",
    "print(\"El número de registros duplicados es:\", duplicados_prestadores.Nitproveedor.count(), sep='\\n')"
   ]
  },
  {
   "cell_type": "code",
   "execution_count": 30,
   "metadata": {},
   "outputs": [],
   "source": [
    "# Se unen las dos bases de datos para obtener la información de FT005 con webgironoupc (Giro Directo - No_UPC - Compra de Cartera) y prestadores\n",
    "FT005_web_pres= pd.merge(FT005_web, prestadores, how='left', left_on=['Nitproveedor'], right_on=['Nitproveedor'])"
   ]
  },
  {
   "cell_type": "code",
   "execution_count": 31,
   "metadata": {},
   "outputs": [],
   "source": [
    "# Se carga la base de datos operadores.dta para su posterior pega\n",
    "operadores = pd.read_stata('C:/Users/Miguel Angel/Documents/Supersalud/Pagos_EPS_Proveedores/operadores.dta')"
   ]
  },
  {
   "cell_type": "code",
   "execution_count": 32,
   "metadata": {},
   "outputs": [],
   "source": [
    "# Se reemplazan los nombres de las columnas para facilitar el tratamiento\n",
    "operadores.rename(columns={'nitproveedor': 'Nitproveedor', 'razonsocial': 'Razonsocial'}, inplace=True)"
   ]
  },
  {
   "cell_type": "code",
   "execution_count": 33,
   "metadata": {},
   "outputs": [
    {
     "output_type": "stream",
     "name": "stdout",
     "text": [
      "El número de registros duplicados es:\n0\n"
     ]
    }
   ],
   "source": [
    "# Se comprueba que no haya duplicados cuando se filtra por Nitproveedor. Para esto se cuenta el número de duplicados\n",
    "duplicados_operadores = operadores[operadores.duplicated(['Nitproveedor'], keep='last')]\n",
    "print(\"El número de registros duplicados es:\", duplicados_operadores.Nitproveedor.count(), sep='\\n')"
   ]
  },
  {
   "cell_type": "code",
   "execution_count": 34,
   "metadata": {},
   "outputs": [],
   "source": [
    "# Se unen las dos bases de datos para obtener la información de FT005 con webgironoupc (Giro Directo - No_UPC - Compra de Cartera) y prestadores\n",
    "FT005_web_pres_ope= pd.merge(FT005_web_pres, operadores, how='left', left_on=['Nitproveedor'], right_on=['Nitproveedor'])"
   ]
  },
  {
   "cell_type": "code",
   "execution_count": 35,
   "metadata": {},
   "outputs": [],
   "source": [
    "# Se reemplazan los nombres de las columnas para facilitar el tratamiento\n",
    "FT005_web_pres_ope.rename(columns={'Tipoproveedor_corregido': 'Tipoproveedor'}, inplace=True)"
   ]
  },
  {
   "cell_type": "code",
   "execution_count": 36,
   "metadata": {},
   "outputs": [],
   "source": [
    "# Se eliminan la bases que no se necesitan para liberar espacio en la memoria\n",
    "del [FT005_web_pres, operadores, duplicados_operadores, prestadores, duplicados_prestadores, FT005_web]"
   ]
  },
  {
   "cell_type": "code",
   "execution_count": 37,
   "metadata": {},
   "outputs": [],
   "source": [
    "# Se crea la columna noID tomando como referencia la columna clpr_nombre\n",
    "FT005_web_pres_ope['noID'] = FT005_web_pres_ope['clpr_nombre'] "
   ]
  },
  {
   "cell_type": "code",
   "execution_count": 38,
   "metadata": {},
   "outputs": [],
   "source": [
    "# Se establecen las condiciones para establecer correctamente el noID\n",
    "\n",
    "FT005_web_pres_ope.loc[(FT005_web_pres_ope['NIT_EPS'] == FT005_web_pres_ope['Nitproveedor']), # Se reemplaza por EPS todo aquel proveedor que sea una EPS\n",
    "       'noID'] = 'EPS'\n",
    "\n",
    "FT005_web_pres_ope.loc[(FT005_web_pres_ope['Nitproveedor'] == '\"901037916\"') | # Se reemplazan los NIT de la nación\n",
    "       (FT005_web_pres_ope['Nitproveedor'] == \"900047282\") |\n",
    "       (FT005_web_pres_ope['Nitproveedor'] == \"899999014\") |\n",
    "       (FT005_web_pres_ope['Nitproveedor'] == \"900474727\") |\n",
    "       (FT005_web_pres_ope['Nitproveedor'] == \"900462447\"),  \n",
    "       'noID'] = 'Nacion' \n",
    "\n",
    "FT005_web_pres_ope.loc[FT005_web_pres_ope['noID'].isnull(), 'noID'] = 'Otro' # Para rellenar los vacios con \"Otro\"\n",
    "\n",
    "FT005_web_pres_ope.loc[(FT005_web_pres_ope['clpr_nombre'] == 'IPS') & # Para corregir el IPS cuando Tipo es vacío, por IPS-OL-DM-GIM\n",
    "       (FT005_web_pres_ope['tipo'].notnull()), \n",
    "       'noID'] = 'IPS-OL-DM-GIM'\n",
    "\n",
    "FT005_web_pres_ope.loc[(FT005_web_pres_ope['tipo'].notnull()) & # Para dejar el Tipo cuando se tiene OSD u Otro\n",
    "       ((FT005_web_pres_ope['noID'] == 'OSD') |\n",
    "       (FT005_web_pres_ope['noID'] == 'Otro')), \n",
    "       'noID'] = FT005_web_pres_ope['tipo']\n",
    "\n",
    "FT005_web_pres_ope.loc[(FT005_web_pres_ope['noID'] == 'Otro') & # Para cambiar el noID por Persona Natural si en Tipo Proveedor se tiene CC y CE\n",
    "       ((FT005_web_pres_ope['Tipoproveedor'] == 'CC') |\n",
    "       (FT005_web_pres_ope['Tipoproveedor'] == 'CE')), \n",
    "       'noID'] = 'Persona Natural'\n",
    "\n",
    "FT005_web_pres_ope.loc[(FT005_web_pres_ope['Departamento'].isnull()) & # Para asignar \"Otro\" al departamento si está vacío y si es una IPS o IPS Pública\n",
    "       ((FT005_web_pres_ope['noID'] == 'IPS Pública') |\n",
    "       (FT005_web_pres_ope['noID'] == 'IPS')), \n",
    "       'Departamento'] = 'Otro'"
   ]
  },
  {
   "cell_type": "code",
   "execution_count": 39,
   "metadata": {},
   "outputs": [],
   "source": [
    "# Se convierte la variable en mes y año\n",
    "FT005_web_pres_ope[['Ano', 'Mes']] = FT005_web_pres_ope[['Ano', 'Mes']].astype(float).astype(int)\n",
    "FT005_web_pres_ope = FT005_web_pres_ope.reset_index() "
   ]
  },
  {
   "cell_type": "code",
   "execution_count": 40,
   "metadata": {},
   "outputs": [],
   "source": [
    "# Se agrega la información por NIT_EPS, Nitproveedor, noID, Departamento, Ano, Mes para las variables VPagado, VCausado, PW, Giro, No_UPC, Compra_Cartera\n",
    "FT005_web_pres_ope = FT005_web_pres_ope.groupby(['NIT_EPS', 'Nitproveedor', 'noID', 'Departamento', 'Ano', 'Mes'])[['VPagado', 'VCausado', 'PW', 'Giro', 'No_UPC', 'Compra_Cartera']].sum().reset_index()"
   ]
  },
  {
   "cell_type": "code",
   "execution_count": 41,
   "metadata": {},
   "outputs": [],
   "source": [
    "# Se crea el rango de meses necesarios en cada mes\n",
    "fecha_ideal=range(1, 12 + 1)\n",
    "# Se rellena con ceros la información para los meses faltantes\n",
    "FT005_web_pres_ope = FT005_web_pres_ope.set_index('Mes').groupby(['NIT_EPS', 'Nitproveedor', 'noID', 'Departamento', 'Ano']).apply(lambda x: x.reindex(index=fecha_ideal, fill_value=0)).drop(['NIT_EPS', 'Nitproveedor', 'noID', 'Departamento', 'Ano'], 1)"
   ]
  },
  {
   "cell_type": "code",
   "execution_count": 42,
   "metadata": {},
   "outputs": [],
   "source": [
    "# Se calcula la diferencia mensual para conocer el valor mensual de cada cuenta ya que por defecto vienen agregadas\n",
    "FT005_web_pres_ope_dif = FT005_web_pres_ope.groupby(['NIT_EPS', 'Nitproveedor', 'noID', 'Departamento', 'Ano']).diff().fillna(0)\n"
   ]
  },
  {
   "cell_type": "code",
   "execution_count": 43,
   "metadata": {},
   "outputs": [],
   "source": [
    "FT005_web_pres_ope_dif = FT005_web_pres_ope_dif.reset_index()\n",
    "FT005_web_pres_ope = FT005_web_pres_ope.reset_index()"
   ]
  },
  {
   "cell_type": "code",
   "execution_count": 44,
   "metadata": {},
   "outputs": [],
   "source": [
    "FT005_web_pres_ope_dif.loc[FT005_web_pres_ope_dif['Mes'] == 1] = FT005_web_pres_ope"
   ]
  },
  {
   "cell_type": "code",
   "execution_count": 45,
   "metadata": {},
   "outputs": [],
   "source": [
    "# Se reemplazan los nombres de las columnas para facilitar el tratamiento\n",
    "FT005_web_pres_ope_dif.rename(columns={'VPagado': 'vpagado_mes', 'VCausado': 'vcausado_mes'}, inplace=True)"
   ]
  },
  {
   "cell_type": "code",
   "execution_count": 46,
   "metadata": {},
   "outputs": [],
   "source": [
    "# Se eliminan las columnas que no son de interés\n",
    "FT005_web_pres_ope_dif = FT005_web_pres_ope_dif.drop(['PW', 'Giro', 'No_UPC', 'Compra_Cartera'], axis=1)"
   ]
  },
  {
   "cell_type": "code",
   "execution_count": 47,
   "metadata": {},
   "outputs": [],
   "source": [
    "# Se unen las dos bases de datos para obtener la información de webgironoupc (Giro Directo - No_UPC - Compra de Cartera) y FT005 en una sola base de datos. Desagregando el valor de VCausado y el VPagado para cada mes\n",
    "FT005_web_pres_ope= pd.merge(FT005_web_pres_ope, FT005_web_pres_ope_dif, how='outer', left_on=['NIT_EPS', 'Nitproveedor', 'noID', 'Departamento', 'Ano', 'Mes'], right_on=['NIT_EPS', 'Nitproveedor', 'noID', 'Departamento', 'Ano', 'Mes'])"
   ]
  },
  {
   "cell_type": "code",
   "execution_count": 48,
   "metadata": {},
   "outputs": [
    {
     "output_type": "execute_result",
     "data": {
      "text/plain": [
       "     NIT_EPS Nitproveedor                       noID Departamento   Ano  Mes  \\\n",
       "0  800088702     10006332  Profesional Independiente    Risaralda  2020    1   \n",
       "1  800088702     10006332  Profesional Independiente    Risaralda  2020    2   \n",
       "\n",
       "   VPagado  VCausado   PW  Giro  No_UPC  Compra_Cartera  vpagado_mes  \\\n",
       "0      0.0       0.0  0.0   0.0     0.0             0.0          0.0   \n",
       "1      0.0       0.0  0.0   0.0     0.0             0.0          0.0   \n",
       "\n",
       "   vcausado_mes  \n",
       "0           0.0  \n",
       "1           0.0  "
      ],
      "text/html": "<div>\n<style scoped>\n    .dataframe tbody tr th:only-of-type {\n        vertical-align: middle;\n    }\n\n    .dataframe tbody tr th {\n        vertical-align: top;\n    }\n\n    .dataframe thead th {\n        text-align: right;\n    }\n</style>\n<table border=\"1\" class=\"dataframe\">\n  <thead>\n    <tr style=\"text-align: right;\">\n      <th></th>\n      <th>NIT_EPS</th>\n      <th>Nitproveedor</th>\n      <th>noID</th>\n      <th>Departamento</th>\n      <th>Ano</th>\n      <th>Mes</th>\n      <th>VPagado</th>\n      <th>VCausado</th>\n      <th>PW</th>\n      <th>Giro</th>\n      <th>No_UPC</th>\n      <th>Compra_Cartera</th>\n      <th>vpagado_mes</th>\n      <th>vcausado_mes</th>\n    </tr>\n  </thead>\n  <tbody>\n    <tr>\n      <th>0</th>\n      <td>800088702</td>\n      <td>10006332</td>\n      <td>Profesional Independiente</td>\n      <td>Risaralda</td>\n      <td>2020</td>\n      <td>1</td>\n      <td>0.0</td>\n      <td>0.0</td>\n      <td>0.0</td>\n      <td>0.0</td>\n      <td>0.0</td>\n      <td>0.0</td>\n      <td>0.0</td>\n      <td>0.0</td>\n    </tr>\n    <tr>\n      <th>1</th>\n      <td>800088702</td>\n      <td>10006332</td>\n      <td>Profesional Independiente</td>\n      <td>Risaralda</td>\n      <td>2020</td>\n      <td>2</td>\n      <td>0.0</td>\n      <td>0.0</td>\n      <td>0.0</td>\n      <td>0.0</td>\n      <td>0.0</td>\n      <td>0.0</td>\n      <td>0.0</td>\n      <td>0.0</td>\n    </tr>\n  </tbody>\n</table>\n</div>"
     },
     "metadata": {},
     "execution_count": 48
    }
   ],
   "source": [
    "FT005_web_pres_ope.head(2)"
   ]
  },
  {
   "cell_type": "code",
   "execution_count": 49,
   "metadata": {},
   "outputs": [],
   "source": [
    "# Para renombrar las columnas de interés\n",
    "FT005_web_pres_ope.rename(columns={'NIT_EPS': 'nit_eps', 'Nitproveedor': 'nitproveedor', 'Departamento': 'departamento', 'Ano': 'ano', 'Mes': 'mes', 'VPagado': 'vpagado', 'VCausado': 'vcausado', 'PW': 'pw', 'Giro': 'giro', 'No_UPC': 'no_upc', 'Compra_Cartera': 'compra_cartera'}, inplace=True)"
   ]
  },
  {
   "cell_type": "code",
   "execution_count": 51,
   "metadata": {},
   "outputs": [],
   "source": [
    "# Para guardar la base de datos lista para ser tratada en formato Excel y CSV\n",
    "FT005_web_pres_ope.to_excel(r'C:/Users/Miguel Angel/Documents/Supersalud/Pagos_EPS_Proveedores/CausaPrestador_2020_2021.xlsx', index = False)\n",
    "FT005_web_pres_ope.to_csv(r'C:/Users/Miguel Angel/Documents/Supersalud/Pagos_EPS_Proveedores/CausaPrestador_2020_2021.csv', index = False, encoding='utf-8-sig')"
   ]
  },
  {
   "source": [
    "<h2>FT003</h2>\n",
    "<p> En este apartado se trata la base de datos FT003 </p>"
   ],
   "cell_type": "markdown",
   "metadata": {}
  },
  {
   "cell_type": "code",
   "execution_count": 1,
   "metadata": {},
   "outputs": [],
   "source": [
    "#Cargamos los paquetes que vamos a necesitar\n",
    "import pandas as pd\n",
    "import numpy as np\n",
    "import pyreadstat"
   ]
  },
  {
   "cell_type": "code",
   "execution_count": 2,
   "metadata": {},
   "outputs": [
    {
     "output_type": "stream",
     "name": "stderr",
     "text": [
      "C:\\ProgramData\\Anaconda3\\lib\\site-packages\\pandas\\io\\stata.py:1433: UnicodeWarning: \nOne or more strings in the dta file could not be decoded using utf-8, and\nso the fallback encoding of latin-1 is being used.  This can happen when a file\nhas been incorrectly encoded by Stata or some other software. You should verify\nthe string values returned are correct.\n  warnings.warn(msg, UnicodeWarning)\n"
     ]
    }
   ],
   "source": [
    "# Se carga el FT003 para 2020 y 2021 completo desde el archivo .dta\n",
    "FT003_2021_2021 = pd.read_stata('C:/Users/Miguel Angel/Documents/Supersalud/Pagos_EPS_Proveedores/Informe_Pagos/FT003 20202021.dta')"
   ]
  },
  {
   "cell_type": "code",
   "execution_count": 3,
   "metadata": {},
   "outputs": [
    {
     "output_type": "stream",
     "name": "stderr",
     "text": [
      "C:\\ProgramData\\Anaconda3\\lib\\site-packages\\pandas\\io\\stata.py:1433: UnicodeWarning: \nOne or more strings in the dta file could not be decoded using utf-8, and\nso the fallback encoding of latin-1 is being used.  This can happen when a file\nhas been incorrectly encoded by Stata or some other software. You should verify\nthe string values returned are correct.\n  warnings.warn(msg, UnicodeWarning)\n"
     ]
    }
   ],
   "source": [
    "# Se carga el FT003 para diciembre de 2019 desde el archivo .dta\n",
    "FT003_2019 = pd.read_stata('C:/Users/Miguel Angel/Documents/Supersalud/Pagos_EPS_Proveedores/Informe_Pagos/FT003 122019.dta')"
   ]
  },
  {
   "cell_type": "code",
   "execution_count": 8,
   "metadata": {},
   "outputs": [],
   "source": [
    "# Se concatenan la bases de datos \n",
    "frames = [FT003_2021_2021, FT003_2019]\n",
    "FT003 = pd.concat(frames, ignore_index=True)"
   ]
  },
  {
   "cell_type": "code",
   "execution_count": 9,
   "metadata": {},
   "outputs": [],
   "source": [
    "# Se eliminan la bases que no se necesitan para liberar espacio en la memoria\n",
    "del [FT003_2021_2021, FT003_2019, frames]"
   ]
  },
  {
   "cell_type": "code",
   "execution_count": 10,
   "metadata": {},
   "outputs": [],
   "source": [
    "# Se reemplazan los nombres de las columnas para facilitar el tratamiento\n",
    "FT003.rename(columns={'Nit': 'nit_eps', 'Año': 'ano', 'Periodo': 'mes', 'lineaNegocio': 'linea','tipoIdDeudor': 'tipoiddeudor', 'idDeudor': 'nitproveedor', 'conceptoDeudores': 'concepto', 'tipoDeuda': 'tipodeuda', 'medicionPosterior': 'medicion', 'cxcPendientesRadicar': 'cxcsinradicar','cxcNoVencidas': 'cxcnovencidas', 'cxcMora30Dias': 'cxc30', 'cxcMora60Dias': 'cxc60', 'cxcMora90Dias': 'cxc90','cxcMora180Dias': 'cxc180', 'cxcMora360Dias': 'cxc360', 'cxcMoraMayor360Dias': 'cxcmayor360'}, inplace=True)"
   ]
  },
  {
   "cell_type": "code",
   "execution_count": 11,
   "metadata": {},
   "outputs": [],
   "source": [
    "pd.pandas.set_option('display.max_columns', None)"
   ]
  },
  {
   "cell_type": "code",
   "execution_count": 12,
   "metadata": {},
   "outputs": [],
   "source": [
    "# Se transforman los datos para su correcta identificación\n",
    "FT003[['nit_eps', 'RazonSocial', 'ano', 'mes', 'linea', 'tipoiddeudor',\n",
    "       'nitproveedor', 'dvDeudor', 'nombreDeudor', 'codigoMunicipio',\n",
    "       'concepto', 'tipodeuda', 'medicion']] = FT003[['nit_eps', 'RazonSocial', 'ano', 'mes', 'linea', 'tipoiddeudor',\n",
    "       'nitproveedor', 'dvDeudor', 'nombreDeudor', 'codigoMunicipio',\n",
    "       'concepto', 'tipodeuda', 'medicion']].astype(str)\n",
    "\n",
    "FT003[['cxcsinradicar', 'cxcnovencidas',\n",
    "       'valorMercado', 'cxc30', 'cxc60', 'cxc90', 'cxc180', 'cxc360',\n",
    "       'cxcmayor360', 'deterioro30Dias', 'deterioro60Dias', 'deterioro90Dias',\n",
    "       'deterioro180Dias', 'deterioro360Dias', 'deterioroMayor360Dias',\n",
    "       'ajuste', 'saldo']] = FT003[['cxcsinradicar', 'cxcnovencidas',\n",
    "       'valorMercado', 'cxc30', 'cxc60', 'cxc90', 'cxc180', 'cxc360',\n",
    "       'cxcmayor360', 'deterioro30Dias', 'deterioro60Dias', 'deterioro90Dias',\n",
    "       'deterioro180Dias', 'deterioro360Dias', 'deterioroMayor360Dias',\n",
    "       'ajuste', 'saldo']].astype(int)"
   ]
  },
  {
   "cell_type": "code",
   "execution_count": 13,
   "metadata": {},
   "outputs": [],
   "source": [
    "# Se filtra la línea de negocio de interés. En este caso corresponde a la línea 1\n",
    "FT003 = FT003.loc[FT003['linea'] == '1']"
   ]
  },
  {
   "cell_type": "code",
   "execution_count": 14,
   "metadata": {},
   "outputs": [
    {
     "output_type": "stream",
     "name": "stderr",
     "text": [
      "<ipython-input-14-3d6c51039d6d>:2: SettingWithCopyWarning: \nA value is trying to be set on a copy of a slice from a DataFrame.\nTry using .loc[row_indexer,col_indexer] = value instead\n\nSee the caveats in the documentation: https://pandas.pydata.org/pandas-docs/stable/user_guide/indexing.html#returning-a-view-versus-a-copy\n  FT003['CXC'] = FT003['cxcsinradicar'] + FT003['cxcnovencidas'] + FT003['cxc30'] + FT003['cxc60'] + FT003['cxc90'] + FT003['cxc180'] + FT003['cxc360'] + FT003['cxcmayor360']\n"
     ]
    }
   ],
   "source": [
    "# Se crea la columna Cuentas por Cobrar (CXC) sumando las columnas cxcsinradicar, cxcnovencidas, cxc30, cxc60, cxc90, cxc180, cxc360 y cxcmayor360\n",
    "FT003['CXC'] = FT003['cxcsinradicar'] + FT003['cxcnovencidas'] + FT003['cxc30'] + FT003['cxc60'] + FT003['cxc90'] + FT003['cxc180'] + FT003['cxc360'] + FT003['cxcmayor360']"
   ]
  },
  {
   "cell_type": "code",
   "execution_count": 15,
   "metadata": {},
   "outputs": [],
   "source": [
    "# Para hacer la suma de CXC por NIT EPS, tipo de proveedor, NIT proveedor, Mes y Año\n",
    "FT003 = FT003.groupby(['nit_eps', 'tipoiddeudor', 'nitproveedor', 'mes', 'ano']).agg({'CXC': 'sum'}).reset_index()"
   ]
  },
  {
   "cell_type": "code",
   "execution_count": 16,
   "metadata": {},
   "outputs": [
    {
     "output_type": "stream",
     "name": "stdout",
     "text": [
      "El número de registros duplicados es:\n0\n"
     ]
    }
   ],
   "source": [
    "# Se comprueba que no haya duplicados cuando se filtra por NIT EPS, tipo de deudor, NIT proveedor, Mes y Año. Para esto se cuenta el número de duplicados\n",
    "duplicadosFT003 = FT003[FT003.duplicated(['nit_eps', 'tipoiddeudor', 'nitproveedor', 'mes', 'ano'], keep='last')]\n",
    "print(\"El número de registros duplicados es:\", duplicadosFT003.nit_eps.count(), sep='\\n')"
   ]
  },
  {
   "cell_type": "code",
   "execution_count": 17,
   "metadata": {},
   "outputs": [],
   "source": [
    "# Se genera una nueva columna extrayendo el primer caracter del ID nitproveedor\n",
    "FT003['d1'] = FT003['nitproveedor'].str[:1]"
   ]
  },
  {
   "cell_type": "code",
   "execution_count": 18,
   "metadata": {},
   "outputs": [],
   "source": [
    "# Se genera una nueva columna con la cuenta del numero de componentes que tiene el ID nitproveedor\n",
    "FT003['largo'] = FT003.nitproveedor.str.len()"
   ]
  },
  {
   "cell_type": "code",
   "execution_count": 19,
   "metadata": {},
   "outputs": [],
   "source": [
    "# Se limpia la clasificación por Tipo de deudor\n",
    "FT003['tipoiddeudor_corregido'] = 'NA' # Se crea la columna con categoria NA como base\n",
    "# Condiciones\n",
    "FT003.loc[(FT003['largo'] == 10) & # Para signar el tipo de proveedor CC\n",
    "       (FT003['d1'] == '1'), \n",
    "       'tipoiddeudor_corregido'] = 'CC' \n",
    "FT003.loc[(FT003['largo'] == 9) & # Para signar el tipo de proveedor NI\n",
    "       ((FT003['d1'] == '7') |\n",
    "       (FT003['d1'] == '8') |\n",
    "       (FT003['d1'] == '9')),  \n",
    "       'tipoiddeudor_corregido'] = 'NI' \n",
    "FT003.loc[(FT003['tipoiddeudor_corregido'] != 'NI'), # Para completar el tipo de proveedor CC\n",
    "       'tipoiddeudor_corregido'] = 'CC' "
   ]
  },
  {
   "cell_type": "code",
   "execution_count": 20,
   "metadata": {},
   "outputs": [
    {
     "output_type": "stream",
     "name": "stdout",
     "text": [
      "NI    368304\nCC    220347\nOT      1220\nCE       292\nName: tipoiddeudor, dtype: int64\nNI    347085\nCC    243078\nName: tipoiddeudor_corregido, dtype: int64\n"
     ]
    }
   ],
   "source": [
    "# Para conocer las diferencias entre las correciones\n",
    "print(FT003.tipoiddeudor.value_counts())\n",
    "print(FT003.tipoiddeudor_corregido.value_counts())"
   ]
  },
  {
   "cell_type": "code",
   "execution_count": 21,
   "metadata": {},
   "outputs": [],
   "source": [
    "# Para hacer la suma de CXC por NIT EPS, tipo de deudor corregido, NIT proveedor, Mes y Año\n",
    "FT003 = FT003.groupby(['nit_eps', 'tipoiddeudor', 'nitproveedor', 'mes', 'ano']).agg({'CXC': 'sum'}).reset_index()"
   ]
  },
  {
   "cell_type": "code",
   "execution_count": 22,
   "metadata": {},
   "outputs": [],
   "source": [
    "# Se carga la base de datos prestadores.dta para su posterior pega\n",
    "prestadores = pd.read_stata('C:/Users/Miguel Angel/Documents/Supersalud/Pagos_EPS_Proveedores/prestadores.dta')"
   ]
  },
  {
   "cell_type": "code",
   "execution_count": 23,
   "metadata": {},
   "outputs": [
    {
     "output_type": "stream",
     "name": "stdout",
     "text": [
      "El número de registros duplicados es:\n0\n"
     ]
    }
   ],
   "source": [
    "# Se comprueba que no haya duplicados cuando se filtra por Nitproveedor. Para esto se cuenta el número de duplicados\n",
    "duplicados_prestadores = prestadores[prestadores.duplicated(['nitproveedor'], keep='last')]\n",
    "print(\"El número de registros duplicados es:\", duplicados_prestadores.nitproveedor.count(), sep='\\n')"
   ]
  },
  {
   "cell_type": "code",
   "execution_count": 24,
   "metadata": {},
   "outputs": [],
   "source": [
    "# Se unen las dos bases de datos para obtener la información de FT005 con webgironoupc (Giro Directo - No_UPC - Compra de Cartera) y prestadores\n",
    "FT003_pres= pd.merge(FT003, prestadores, how='left', left_on=['nitproveedor'], right_on=['nitproveedor'])"
   ]
  },
  {
   "cell_type": "code",
   "execution_count": 25,
   "metadata": {},
   "outputs": [],
   "source": [
    "# Se carga la base de datos operadores.dta para su posterior pega\n",
    "operadores = pd.read_stata('C:/Users/Miguel Angel/Documents/Supersalud/Pagos_EPS_Proveedores/operadores.dta')"
   ]
  },
  {
   "cell_type": "code",
   "execution_count": 26,
   "metadata": {},
   "outputs": [
    {
     "output_type": "stream",
     "name": "stdout",
     "text": [
      "El número de registros duplicados es:\n0\n"
     ]
    }
   ],
   "source": [
    "# Se comprueba que no haya duplicados cuando se filtra por Nitproveedor. Para esto se cuenta el número de duplicados\n",
    "duplicados_operadores = operadores[operadores.duplicated(['nitproveedor'], keep='last')]\n",
    "print(\"El número de registros duplicados es:\", duplicados_operadores.nitproveedor.count(), sep='\\n')"
   ]
  },
  {
   "cell_type": "code",
   "execution_count": 27,
   "metadata": {},
   "outputs": [],
   "source": [
    "# Se unen las dos bases de datos para obtener la información de FT005 con webgironoupc (Giro Directo - No_UPC - Compra de Cartera) y prestadores\n",
    "FT003_pres_ope= pd.merge(FT003_pres, operadores, how='left', left_on=['nitproveedor'], right_on=['nitproveedor'])"
   ]
  },
  {
   "cell_type": "code",
   "execution_count": 28,
   "metadata": {},
   "outputs": [],
   "source": [
    "# Se reemplazan los nombres de las columnas para facilitar el tratamiento\n",
    "FT003_pres_ope.rename(columns={'tipoiddeudor_corregido': 'tipoiddeudor'}, inplace=True)"
   ]
  },
  {
   "cell_type": "code",
   "execution_count": 29,
   "metadata": {},
   "outputs": [],
   "source": [
    "# Se eliminan la bases que no se necesitan para liberar espacio en la memoria\n",
    "del [FT003, FT003_pres, operadores, duplicados_operadores, prestadores, duplicados_prestadores, duplicadosFT003]"
   ]
  },
  {
   "cell_type": "code",
   "execution_count": 30,
   "metadata": {},
   "outputs": [
    {
     "output_type": "execute_result",
     "data": {
      "text/plain": [
       "Index(['nit_eps', 'tipoiddeudor', 'nitproveedor', 'mes', 'ano', 'CXC',\n",
       "       'nombre_prestador', 'clpr_codigo', 'clpr_nombre', 'naju_nombre',\n",
       "       'departamento', 'razonsocial', 'tipo'],\n",
       "      dtype='object')"
      ]
     },
     "metadata": {},
     "execution_count": 30
    }
   ],
   "source": [
    "FT003_pres_ope.columns"
   ]
  },
  {
   "cell_type": "code",
   "execution_count": 31,
   "metadata": {},
   "outputs": [],
   "source": [
    "# Se crea la columna noID tomando como referencia la columna clpr_nombre\n",
    "FT003_pres_ope['noID'] = FT003_pres_ope['clpr_nombre'] "
   ]
  },
  {
   "cell_type": "code",
   "execution_count": 32,
   "metadata": {},
   "outputs": [],
   "source": [
    "# Se establecen las condiciones para establecer correctamente el noID\n",
    "\n",
    "FT003_pres_ope.loc[(FT003_pres_ope['nit_eps'] == FT003_pres_ope['nitproveedor']), # Se reemplaza por EPS todo aquel proveedor que sea una EPS\n",
    "       'noID'] = 'EPS'\n",
    "\n",
    "FT003_pres_ope.loc[(FT003_pres_ope['nitproveedor'] == '\"901037916\"') | # Se reemplazan los NIT de la nación\n",
    "       (FT003_pres_ope['nitproveedor'] == \"900047282\") |\n",
    "       (FT003_pres_ope['nitproveedor'] == \"899999014\") |\n",
    "       (FT003_pres_ope['nitproveedor'] == \"900474727\") |\n",
    "       (FT003_pres_ope['nitproveedor'] == \"900462447\"),  \n",
    "       'noID'] = 'Nacion' \n",
    "\n",
    "FT003_pres_ope.loc[FT003_pres_ope['noID'].isnull(), 'noID'] = 'Otro' # Para rellenar los vacios con \"Otro\"\n",
    "\n",
    "FT003_pres_ope.loc[(FT003_pres_ope['clpr_nombre'] == 'IPS') & # Para corregir el IPS cuando Tipo es vacío, por IPS-OL-DM-GIM\n",
    "       (FT003_pres_ope['tipo'].notnull()), \n",
    "       'noID'] = 'IPS-OL-DM-GIM'\n",
    "\n",
    "FT003_pres_ope.loc[(FT003_pres_ope['tipo'].notnull()) & # Para dejar el Tipo cuando se tiene OSD u Otro\n",
    "       ((FT003_pres_ope['noID'] == 'OSD') |\n",
    "       (FT003_pres_ope['noID'] == 'Otro')), \n",
    "       'noID'] = FT003_pres_ope['tipo']\n",
    "\n",
    "FT003_pres_ope.loc[(FT003_pres_ope['noID'] == 'Otro') & # Para cambiar el noID por Persona Natural si en Tipo Proveedor se tiene CC y CE\n",
    "       ((FT003_pres_ope['tipoiddeudor'] == 'CC') |\n",
    "       (FT003_pres_ope['tipoiddeudor'] == 'CE')), \n",
    "       'noID'] = 'Persona Natural'\n",
    "\n",
    "FT003_pres_ope.loc[(FT003_pres_ope['departamento'].isnull()) & # Para asignar \"Otro\" al departamento si está vacío y si es una IPS o IPS Pública\n",
    "       ((FT003_pres_ope['noID'] == 'IPS Pública') |\n",
    "       (FT003_pres_ope['noID'] == 'IPS')), \n",
    "       'departamento'] = 'Otro'"
   ]
  },
  {
   "cell_type": "code",
   "execution_count": 33,
   "metadata": {},
   "outputs": [],
   "source": [
    "# Se convierte la variable en mes y año\n",
    "FT003_pres_ope[['ano', 'mes']] = FT003_pres_ope[['ano', 'mes']].astype(float).astype(int)"
   ]
  },
  {
   "cell_type": "code",
   "execution_count": 34,
   "metadata": {},
   "outputs": [],
   "source": [
    "# Se agrega la información por NIT_EPS, Nitproveedor, noID, Departamento, Ano, Mes para las variables VPagado, VCausado, PW, Giro, No_UPC, Compra_Cartera\n",
    "FT003_pres_ope = FT003_pres_ope.groupby(['nit_eps', 'nitproveedor', 'noID', 'departamento', 'ano', 'mes'])[['CXC']].sum().reset_index()"
   ]
  },
  {
   "cell_type": "code",
   "execution_count": 35,
   "metadata": {},
   "outputs": [],
   "source": [
    "# Se crea el rango de meses necesarios en cada mes\n",
    "fecha_ideal=range(1, 12 + 1)\n",
    "# Se rellena con ceros la información para los meses faltantes\n",
    "FT003_pres_ope = FT003_pres_ope.set_index('mes').groupby(['nit_eps', 'nitproveedor', 'noID', 'departamento', 'ano']).apply(lambda x: x.reindex(index=fecha_ideal, fill_value=0)).drop(['nit_eps', 'nitproveedor', 'noID', 'departamento', 'ano'], 1)"
   ]
  },
  {
   "cell_type": "code",
   "execution_count": 36,
   "metadata": {},
   "outputs": [],
   "source": [
    "FT003_pres_ope = FT003_pres_ope.reset_index()"
   ]
  },
  {
   "cell_type": "code",
   "execution_count": 37,
   "metadata": {},
   "outputs": [],
   "source": [
    "FT003_pres_ope = FT003_pres_ope.set_index(['ano','mes'])"
   ]
  },
  {
   "cell_type": "code",
   "execution_count": 38,
   "metadata": {},
   "outputs": [
    {
     "output_type": "error",
     "ename": "KeyboardInterrupt",
     "evalue": "",
     "traceback": [
      "\u001b[1;31m---------------------------------------------------------------------------\u001b[0m",
      "\u001b[1;31mKeyboardInterrupt\u001b[0m                         Traceback (most recent call last)",
      "\u001b[1;32m<ipython-input-38-7db22fb2fa05>\u001b[0m in \u001b[0;36m<module>\u001b[1;34m\u001b[0m\n\u001b[0;32m      1\u001b[0m \u001b[1;31m# Se calcula la diferencia mensual para conocer el valor mensual de cada cuenta ya que por defecto vienen agregadas\u001b[0m\u001b[1;33m\u001b[0m\u001b[1;33m\u001b[0m\u001b[1;33m\u001b[0m\u001b[0m\n\u001b[1;32m----> 2\u001b[1;33m \u001b[0mFT003_pres_ope_dif\u001b[0m \u001b[1;33m=\u001b[0m \u001b[0mFT003_pres_ope\u001b[0m\u001b[1;33m.\u001b[0m\u001b[0mgroupby\u001b[0m\u001b[1;33m(\u001b[0m\u001b[1;33m[\u001b[0m\u001b[1;34m'nit_eps'\u001b[0m\u001b[1;33m,\u001b[0m \u001b[1;34m'nitproveedor'\u001b[0m\u001b[1;33m,\u001b[0m \u001b[1;34m'noID'\u001b[0m\u001b[1;33m,\u001b[0m \u001b[1;34m'departamento'\u001b[0m\u001b[1;33m]\u001b[0m\u001b[1;33m)\u001b[0m\u001b[1;33m.\u001b[0m\u001b[0mdiff\u001b[0m\u001b[1;33m(\u001b[0m\u001b[1;33m)\u001b[0m\u001b[1;33m.\u001b[0m\u001b[0mfillna\u001b[0m\u001b[1;33m(\u001b[0m\u001b[1;36m0\u001b[0m\u001b[1;33m)\u001b[0m\u001b[1;33m\u001b[0m\u001b[1;33m\u001b[0m\u001b[0m\n\u001b[0m",
      "\u001b[1;32mC:\\ProgramData\\Anaconda3\\lib\\site-packages\\pandas\\core\\groupby\\groupby.py\u001b[0m in \u001b[0;36mwrapper\u001b[1;34m(*args, **kwargs)\u001b[0m\n\u001b[0;32m    766\u001b[0m \u001b[1;33m\u001b[0m\u001b[0m\n\u001b[0;32m    767\u001b[0m             \u001b[1;32mtry\u001b[0m\u001b[1;33m:\u001b[0m\u001b[1;33m\u001b[0m\u001b[1;33m\u001b[0m\u001b[0m\n\u001b[1;32m--> 768\u001b[1;33m                 \u001b[1;32mreturn\u001b[0m \u001b[0mself\u001b[0m\u001b[1;33m.\u001b[0m\u001b[0m_python_apply_general\u001b[0m\u001b[1;33m(\u001b[0m\u001b[0mcurried\u001b[0m\u001b[1;33m,\u001b[0m \u001b[0mself\u001b[0m\u001b[1;33m.\u001b[0m\u001b[0m_obj_with_exclusions\u001b[0m\u001b[1;33m)\u001b[0m\u001b[1;33m\u001b[0m\u001b[1;33m\u001b[0m\u001b[0m\n\u001b[0m\u001b[0;32m    769\u001b[0m             \u001b[1;32mexcept\u001b[0m \u001b[0mTypeError\u001b[0m \u001b[1;32mas\u001b[0m \u001b[0merr\u001b[0m\u001b[1;33m:\u001b[0m\u001b[1;33m\u001b[0m\u001b[1;33m\u001b[0m\u001b[0m\n\u001b[0;32m    770\u001b[0m                 if not re.search(\n",
      "\u001b[1;32mC:\\ProgramData\\Anaconda3\\lib\\site-packages\\pandas\\core\\groupby\\groupby.py\u001b[0m in \u001b[0;36m_python_apply_general\u001b[1;34m(self, f, data)\u001b[0m\n\u001b[0;32m    892\u001b[0m         \u001b[0mkeys\u001b[0m\u001b[1;33m,\u001b[0m \u001b[0mvalues\u001b[0m\u001b[1;33m,\u001b[0m \u001b[0mmutated\u001b[0m \u001b[1;33m=\u001b[0m \u001b[0mself\u001b[0m\u001b[1;33m.\u001b[0m\u001b[0mgrouper\u001b[0m\u001b[1;33m.\u001b[0m\u001b[0mapply\u001b[0m\u001b[1;33m(\u001b[0m\u001b[0mf\u001b[0m\u001b[1;33m,\u001b[0m \u001b[0mdata\u001b[0m\u001b[1;33m,\u001b[0m \u001b[0mself\u001b[0m\u001b[1;33m.\u001b[0m\u001b[0maxis\u001b[0m\u001b[1;33m)\u001b[0m\u001b[1;33m\u001b[0m\u001b[1;33m\u001b[0m\u001b[0m\n\u001b[0;32m    893\u001b[0m \u001b[1;33m\u001b[0m\u001b[0m\n\u001b[1;32m--> 894\u001b[1;33m         return self._wrap_applied_output(\n\u001b[0m\u001b[0;32m    895\u001b[0m             \u001b[0mkeys\u001b[0m\u001b[1;33m,\u001b[0m \u001b[0mvalues\u001b[0m\u001b[1;33m,\u001b[0m \u001b[0mnot_indexed_same\u001b[0m\u001b[1;33m=\u001b[0m\u001b[0mmutated\u001b[0m \u001b[1;32mor\u001b[0m \u001b[0mself\u001b[0m\u001b[1;33m.\u001b[0m\u001b[0mmutated\u001b[0m\u001b[1;33m\u001b[0m\u001b[1;33m\u001b[0m\u001b[0m\n\u001b[0;32m    896\u001b[0m         )\n",
      "\u001b[1;32mC:\\ProgramData\\Anaconda3\\lib\\site-packages\\pandas\\core\\groupby\\generic.py\u001b[0m in \u001b[0;36m_wrap_applied_output\u001b[1;34m(self, keys, values, not_indexed_same)\u001b[0m\n\u001b[0;32m   1230\u001b[0m             \u001b[1;32mreturn\u001b[0m \u001b[0mself\u001b[0m\u001b[1;33m.\u001b[0m\u001b[0mobj\u001b[0m\u001b[1;33m.\u001b[0m\u001b[0m_constructor\u001b[0m\u001b[1;33m(\u001b[0m\u001b[1;33m)\u001b[0m\u001b[1;33m\u001b[0m\u001b[1;33m\u001b[0m\u001b[0m\n\u001b[0;32m   1231\u001b[0m         \u001b[1;32melif\u001b[0m \u001b[0misinstance\u001b[0m\u001b[1;33m(\u001b[0m\u001b[0mfirst_not_none\u001b[0m\u001b[1;33m,\u001b[0m \u001b[0mDataFrame\u001b[0m\u001b[1;33m)\u001b[0m\u001b[1;33m:\u001b[0m\u001b[1;33m\u001b[0m\u001b[1;33m\u001b[0m\u001b[0m\n\u001b[1;32m-> 1232\u001b[1;33m             \u001b[1;32mreturn\u001b[0m \u001b[0mself\u001b[0m\u001b[1;33m.\u001b[0m\u001b[0m_concat_objects\u001b[0m\u001b[1;33m(\u001b[0m\u001b[0mkeys\u001b[0m\u001b[1;33m,\u001b[0m \u001b[0mvalues\u001b[0m\u001b[1;33m,\u001b[0m \u001b[0mnot_indexed_same\u001b[0m\u001b[1;33m=\u001b[0m\u001b[0mnot_indexed_same\u001b[0m\u001b[1;33m)\u001b[0m\u001b[1;33m\u001b[0m\u001b[1;33m\u001b[0m\u001b[0m\n\u001b[0m\u001b[0;32m   1233\u001b[0m         \u001b[1;32melse\u001b[0m\u001b[1;33m:\u001b[0m\u001b[1;33m\u001b[0m\u001b[1;33m\u001b[0m\u001b[0m\n\u001b[0;32m   1234\u001b[0m             \u001b[1;32mif\u001b[0m \u001b[0mlen\u001b[0m\u001b[1;33m(\u001b[0m\u001b[0mself\u001b[0m\u001b[1;33m.\u001b[0m\u001b[0mgrouper\u001b[0m\u001b[1;33m.\u001b[0m\u001b[0mgroupings\u001b[0m\u001b[1;33m)\u001b[0m \u001b[1;33m>\u001b[0m \u001b[1;36m1\u001b[0m\u001b[1;33m:\u001b[0m\u001b[1;33m\u001b[0m\u001b[1;33m\u001b[0m\u001b[0m\n",
      "\u001b[1;32mC:\\ProgramData\\Anaconda3\\lib\\site-packages\\pandas\\core\\groupby\\groupby.py\u001b[0m in \u001b[0;36m_concat_objects\u001b[1;34m(self, keys, values, not_indexed_same)\u001b[0m\n\u001b[0;32m   1127\u001b[0m             \u001b[1;31m# GH 14776, 30667\u001b[0m\u001b[1;33m\u001b[0m\u001b[1;33m\u001b[0m\u001b[1;33m\u001b[0m\u001b[0m\n\u001b[0;32m   1128\u001b[0m             \u001b[1;32mif\u001b[0m \u001b[0max\u001b[0m\u001b[1;33m.\u001b[0m\u001b[0mhas_duplicates\u001b[0m\u001b[1;33m:\u001b[0m\u001b[1;33m\u001b[0m\u001b[1;33m\u001b[0m\u001b[0m\n\u001b[1;32m-> 1129\u001b[1;33m                 \u001b[0mindexer\u001b[0m\u001b[1;33m,\u001b[0m \u001b[0m_\u001b[0m \u001b[1;33m=\u001b[0m \u001b[0mresult\u001b[0m\u001b[1;33m.\u001b[0m\u001b[0mindex\u001b[0m\u001b[1;33m.\u001b[0m\u001b[0mget_indexer_non_unique\u001b[0m\u001b[1;33m(\u001b[0m\u001b[0max\u001b[0m\u001b[1;33m.\u001b[0m\u001b[0mvalues\u001b[0m\u001b[1;33m)\u001b[0m\u001b[1;33m\u001b[0m\u001b[1;33m\u001b[0m\u001b[0m\n\u001b[0m\u001b[0;32m   1130\u001b[0m                 \u001b[0mindexer\u001b[0m \u001b[1;33m=\u001b[0m \u001b[0malgorithms\u001b[0m\u001b[1;33m.\u001b[0m\u001b[0munique1d\u001b[0m\u001b[1;33m(\u001b[0m\u001b[0mindexer\u001b[0m\u001b[1;33m)\u001b[0m\u001b[1;33m\u001b[0m\u001b[1;33m\u001b[0m\u001b[0m\n\u001b[0;32m   1131\u001b[0m                 \u001b[0mresult\u001b[0m \u001b[1;33m=\u001b[0m \u001b[0mresult\u001b[0m\u001b[1;33m.\u001b[0m\u001b[0mtake\u001b[0m\u001b[1;33m(\u001b[0m\u001b[0mindexer\u001b[0m\u001b[1;33m,\u001b[0m \u001b[0maxis\u001b[0m\u001b[1;33m=\u001b[0m\u001b[0mself\u001b[0m\u001b[1;33m.\u001b[0m\u001b[0maxis\u001b[0m\u001b[1;33m)\u001b[0m\u001b[1;33m\u001b[0m\u001b[1;33m\u001b[0m\u001b[0m\n",
      "\u001b[1;32mC:\\ProgramData\\Anaconda3\\lib\\site-packages\\pandas\\core\\indexes\\multi.py\u001b[0m in \u001b[0;36mget_indexer_non_unique\u001b[1;34m(self, target)\u001b[0m\n\u001b[0;32m   2471\u001b[0m     \u001b[1;33m@\u001b[0m\u001b[0mAppender\u001b[0m\u001b[1;33m(\u001b[0m\u001b[0m_index_shared_docs\u001b[0m\u001b[1;33m[\u001b[0m\u001b[1;34m\"get_indexer_non_unique\"\u001b[0m\u001b[1;33m]\u001b[0m \u001b[1;33m%\u001b[0m \u001b[0m_index_doc_kwargs\u001b[0m\u001b[1;33m)\u001b[0m\u001b[1;33m\u001b[0m\u001b[1;33m\u001b[0m\u001b[0m\n\u001b[0;32m   2472\u001b[0m     \u001b[1;32mdef\u001b[0m \u001b[0mget_indexer_non_unique\u001b[0m\u001b[1;33m(\u001b[0m\u001b[0mself\u001b[0m\u001b[1;33m,\u001b[0m \u001b[0mtarget\u001b[0m\u001b[1;33m)\u001b[0m\u001b[1;33m:\u001b[0m\u001b[1;33m\u001b[0m\u001b[1;33m\u001b[0m\u001b[0m\n\u001b[1;32m-> 2473\u001b[1;33m         \u001b[1;32mreturn\u001b[0m \u001b[0msuper\u001b[0m\u001b[1;33m(\u001b[0m\u001b[1;33m)\u001b[0m\u001b[1;33m.\u001b[0m\u001b[0mget_indexer_non_unique\u001b[0m\u001b[1;33m(\u001b[0m\u001b[0mtarget\u001b[0m\u001b[1;33m)\u001b[0m\u001b[1;33m\u001b[0m\u001b[1;33m\u001b[0m\u001b[0m\n\u001b[0m\u001b[0;32m   2474\u001b[0m \u001b[1;33m\u001b[0m\u001b[0m\n\u001b[0;32m   2475\u001b[0m     def get_slice_bound(\n",
      "\u001b[1;32mC:\\ProgramData\\Anaconda3\\lib\\site-packages\\pandas\\core\\indexes\\base.py\u001b[0m in \u001b[0;36mget_indexer_non_unique\u001b[1;34m(self, target)\u001b[0m\n\u001b[0;32m   4695\u001b[0m             \u001b[0mtgt_values\u001b[0m \u001b[1;33m=\u001b[0m \u001b[0mtarget\u001b[0m\u001b[1;33m.\u001b[0m\u001b[0m_get_engine_target\u001b[0m\u001b[1;33m(\u001b[0m\u001b[1;33m)\u001b[0m\u001b[1;33m\u001b[0m\u001b[1;33m\u001b[0m\u001b[0m\n\u001b[0;32m   4696\u001b[0m \u001b[1;33m\u001b[0m\u001b[0m\n\u001b[1;32m-> 4697\u001b[1;33m         \u001b[0mindexer\u001b[0m\u001b[1;33m,\u001b[0m \u001b[0mmissing\u001b[0m \u001b[1;33m=\u001b[0m \u001b[0mself\u001b[0m\u001b[1;33m.\u001b[0m\u001b[0m_engine\u001b[0m\u001b[1;33m.\u001b[0m\u001b[0mget_indexer_non_unique\u001b[0m\u001b[1;33m(\u001b[0m\u001b[0mtgt_values\u001b[0m\u001b[1;33m)\u001b[0m\u001b[1;33m\u001b[0m\u001b[1;33m\u001b[0m\u001b[0m\n\u001b[0m\u001b[0;32m   4698\u001b[0m         \u001b[1;32mreturn\u001b[0m \u001b[0mensure_platform_int\u001b[0m\u001b[1;33m(\u001b[0m\u001b[0mindexer\u001b[0m\u001b[1;33m)\u001b[0m\u001b[1;33m,\u001b[0m \u001b[0mmissing\u001b[0m\u001b[1;33m\u001b[0m\u001b[1;33m\u001b[0m\u001b[0m\n\u001b[0;32m   4699\u001b[0m \u001b[1;33m\u001b[0m\u001b[0m\n",
      "\u001b[1;32mpandas\\_libs\\index.pyx\u001b[0m in \u001b[0;36mpandas._libs.index.BaseMultiIndexCodesEngine.get_indexer_non_unique\u001b[1;34m()\u001b[0m\n",
      "\u001b[1;32mpandas\\_libs\\index.pyx\u001b[0m in \u001b[0;36mpandas._libs.index.IndexEngine.get_indexer_non_unique\u001b[1;34m()\u001b[0m\n",
      "\u001b[1;32m<__array_function__ internals>\u001b[0m in \u001b[0;36mresize\u001b[1;34m(*args, **kwargs)\u001b[0m\n",
      "\u001b[1;31mKeyboardInterrupt\u001b[0m: "
     ]
    }
   ],
   "source": [
    "# Se calcula la diferencia mensual para conocer el valor mensual de cada cuenta ya que por defecto vienen agregadas\n",
    "FT003_pres_ope_dif = FT003_pres_ope.groupby(['nit_eps', 'nitproveedor', 'noID', 'departamento']).diff().fillna(0)"
   ]
  },
  {
   "cell_type": "code",
   "execution_count": 30,
   "metadata": {},
   "outputs": [],
   "source": [
    "FT003_pres_ope_dif = FT003_pres_ope_dif.reset_index()\n",
    "FT003_pres_ope = FT003_pres_ope.reset_index()"
   ]
  },
  {
   "cell_type": "code",
   "execution_count": 31,
   "metadata": {},
   "outputs": [],
   "source": [
    "# Se reemplazan los nombres de las columnas para facilitar el tratamiento\n",
    "FT003_pres_ope_dif.rename(columns={'CXC': 'DCXCmes'}, inplace=True)"
   ]
  },
  {
   "cell_type": "code",
   "execution_count": 32,
   "metadata": {},
   "outputs": [],
   "source": [
    "# Se unen las dos bases de datos para obtener la información de webgironoupc (Giro Directo - No_UPC - Compra de Cartera) y FT005 en una sola base de datos. Desagregando el valor de VCausado y el VPagado para cada mes\n",
    "FT003_pres_ope= pd.merge(FT003_pres_ope, FT003_pres_ope_dif, how='outer', left_on=['nit_eps', 'nitproveedor', 'noID', 'departamento', 'ano', 'mes'], right_on=['nit_eps', 'nitproveedor', 'noID', 'departamento', 'ano', 'mes'])"
   ]
  },
  {
   "cell_type": "code",
   "execution_count": 33,
   "metadata": {},
   "outputs": [],
   "source": [
    "# Para guardar la base de datos lista para ser tratada en formato Excel y CSV\n",
    "\n",
    "# Para guardar la base de datos lista para ser tratada en formato Excel y CSV\n",
    "FT003_pres_ope.to_excel(r'C:/Users/Miguel Angel/Documents/Supersalud/Pagos_EPS_Proveedores/cxcprestador_2020_2021.xlsx', index = False)\n",
    "FT003_pres_ope.to_csv(r'C:/Users/Miguel Angel/Documents/Supersalud/Pagos_EPS_Proveedores/cxcprestador_2020_2021.csv', index = False, encoding='utf-8-sig')"
   ]
  },
  {
   "cell_type": "code",
   "execution_count": 68,
   "metadata": {},
   "outputs": [
    {
     "output_type": "execute_result",
     "data": {
      "text/plain": [
       "      nit_eps nitproveedor                       noID departamento   ano  mes  \\\n",
       "0   800088702   1000145114  Profesional Independiente    Antioquia  2020    1   \n",
       "1   800088702   1000145114  Profesional Independiente    Antioquia  2020    2   \n",
       "2   800088702   1000145114  Profesional Independiente    Antioquia  2020    3   \n",
       "3   800088702   1000145114  Profesional Independiente    Antioquia  2020    4   \n",
       "4   800088702   1000145114  Profesional Independiente    Antioquia  2020    5   \n",
       "5   800088702   1000145114  Profesional Independiente    Antioquia  2020    6   \n",
       "6   800088702   1000145114  Profesional Independiente    Antioquia  2020    7   \n",
       "7   800088702   1000145114  Profesional Independiente    Antioquia  2020    8   \n",
       "8   800088702   1000145114  Profesional Independiente    Antioquia  2020    9   \n",
       "9   800088702   1000145114  Profesional Independiente    Antioquia  2020   10   \n",
       "10  800088702   1000145114  Profesional Independiente    Antioquia  2020   11   \n",
       "11  800088702   1000145114  Profesional Independiente    Antioquia  2020   12   \n",
       "12  800088702     10010328  Profesional Independiente    Antioquia  2020    1   \n",
       "13  800088702     10010328  Profesional Independiente    Antioquia  2020    2   \n",
       "14  800088702     10010328  Profesional Independiente    Antioquia  2020    3   \n",
       "15  800088702     10010328  Profesional Independiente    Antioquia  2020    4   \n",
       "16  800088702     10010328  Profesional Independiente    Antioquia  2020    5   \n",
       "17  800088702     10010328  Profesional Independiente    Antioquia  2020    6   \n",
       "18  800088702     10010328  Profesional Independiente    Antioquia  2020    7   \n",
       "19  800088702     10010328  Profesional Independiente    Antioquia  2020    8   \n",
       "20  800088702     10010328  Profesional Independiente    Antioquia  2020    9   \n",
       "21  800088702     10010328  Profesional Independiente    Antioquia  2020   10   \n",
       "22  800088702     10010328  Profesional Independiente    Antioquia  2020   11   \n",
       "23  800088702     10010328  Profesional Independiente    Antioquia  2020   12   \n",
       "\n",
       "         CXC   DCXCmes  \n",
       "0        0.0       0.0  \n",
       "1   380966.0  380966.0  \n",
       "2        0.0 -380966.0  \n",
       "3        0.0       0.0  \n",
       "4        0.0       0.0  \n",
       "5        0.0       0.0  \n",
       "6        0.0       0.0  \n",
       "7        0.0       0.0  \n",
       "8        0.0       0.0  \n",
       "9        0.0       0.0  \n",
       "10       0.0       0.0  \n",
       "11       0.0       0.0  \n",
       "12  609565.0       0.0  \n",
       "13  609565.0       0.0  \n",
       "14  609565.0       0.0  \n",
       "15  609565.0       0.0  \n",
       "16  609565.0       0.0  \n",
       "17  609565.0       0.0  \n",
       "18  609565.0       0.0  \n",
       "19  609565.0       0.0  \n",
       "20       0.0 -609565.0  \n",
       "21       0.0       0.0  \n",
       "22       0.0       0.0  \n",
       "23       0.0       0.0  "
      ],
      "text/html": "<div>\n<style scoped>\n    .dataframe tbody tr th:only-of-type {\n        vertical-align: middle;\n    }\n\n    .dataframe tbody tr th {\n        vertical-align: top;\n    }\n\n    .dataframe thead th {\n        text-align: right;\n    }\n</style>\n<table border=\"1\" class=\"dataframe\">\n  <thead>\n    <tr style=\"text-align: right;\">\n      <th></th>\n      <th>nit_eps</th>\n      <th>nitproveedor</th>\n      <th>noID</th>\n      <th>departamento</th>\n      <th>ano</th>\n      <th>mes</th>\n      <th>CXC</th>\n      <th>DCXCmes</th>\n    </tr>\n  </thead>\n  <tbody>\n    <tr>\n      <th>0</th>\n      <td>800088702</td>\n      <td>1000145114</td>\n      <td>Profesional Independiente</td>\n      <td>Antioquia</td>\n      <td>2020</td>\n      <td>1</td>\n      <td>0.0</td>\n      <td>0.0</td>\n    </tr>\n    <tr>\n      <th>1</th>\n      <td>800088702</td>\n      <td>1000145114</td>\n      <td>Profesional Independiente</td>\n      <td>Antioquia</td>\n      <td>2020</td>\n      <td>2</td>\n      <td>380966.0</td>\n      <td>380966.0</td>\n    </tr>\n    <tr>\n      <th>2</th>\n      <td>800088702</td>\n      <td>1000145114</td>\n      <td>Profesional Independiente</td>\n      <td>Antioquia</td>\n      <td>2020</td>\n      <td>3</td>\n      <td>0.0</td>\n      <td>-380966.0</td>\n    </tr>\n    <tr>\n      <th>3</th>\n      <td>800088702</td>\n      <td>1000145114</td>\n      <td>Profesional Independiente</td>\n      <td>Antioquia</td>\n      <td>2020</td>\n      <td>4</td>\n      <td>0.0</td>\n      <td>0.0</td>\n    </tr>\n    <tr>\n      <th>4</th>\n      <td>800088702</td>\n      <td>1000145114</td>\n      <td>Profesional Independiente</td>\n      <td>Antioquia</td>\n      <td>2020</td>\n      <td>5</td>\n      <td>0.0</td>\n      <td>0.0</td>\n    </tr>\n    <tr>\n      <th>5</th>\n      <td>800088702</td>\n      <td>1000145114</td>\n      <td>Profesional Independiente</td>\n      <td>Antioquia</td>\n      <td>2020</td>\n      <td>6</td>\n      <td>0.0</td>\n      <td>0.0</td>\n    </tr>\n    <tr>\n      <th>6</th>\n      <td>800088702</td>\n      <td>1000145114</td>\n      <td>Profesional Independiente</td>\n      <td>Antioquia</td>\n      <td>2020</td>\n      <td>7</td>\n      <td>0.0</td>\n      <td>0.0</td>\n    </tr>\n    <tr>\n      <th>7</th>\n      <td>800088702</td>\n      <td>1000145114</td>\n      <td>Profesional Independiente</td>\n      <td>Antioquia</td>\n      <td>2020</td>\n      <td>8</td>\n      <td>0.0</td>\n      <td>0.0</td>\n    </tr>\n    <tr>\n      <th>8</th>\n      <td>800088702</td>\n      <td>1000145114</td>\n      <td>Profesional Independiente</td>\n      <td>Antioquia</td>\n      <td>2020</td>\n      <td>9</td>\n      <td>0.0</td>\n      <td>0.0</td>\n    </tr>\n    <tr>\n      <th>9</th>\n      <td>800088702</td>\n      <td>1000145114</td>\n      <td>Profesional Independiente</td>\n      <td>Antioquia</td>\n      <td>2020</td>\n      <td>10</td>\n      <td>0.0</td>\n      <td>0.0</td>\n    </tr>\n    <tr>\n      <th>10</th>\n      <td>800088702</td>\n      <td>1000145114</td>\n      <td>Profesional Independiente</td>\n      <td>Antioquia</td>\n      <td>2020</td>\n      <td>11</td>\n      <td>0.0</td>\n      <td>0.0</td>\n    </tr>\n    <tr>\n      <th>11</th>\n      <td>800088702</td>\n      <td>1000145114</td>\n      <td>Profesional Independiente</td>\n      <td>Antioquia</td>\n      <td>2020</td>\n      <td>12</td>\n      <td>0.0</td>\n      <td>0.0</td>\n    </tr>\n    <tr>\n      <th>12</th>\n      <td>800088702</td>\n      <td>10010328</td>\n      <td>Profesional Independiente</td>\n      <td>Antioquia</td>\n      <td>2020</td>\n      <td>1</td>\n      <td>609565.0</td>\n      <td>0.0</td>\n    </tr>\n    <tr>\n      <th>13</th>\n      <td>800088702</td>\n      <td>10010328</td>\n      <td>Profesional Independiente</td>\n      <td>Antioquia</td>\n      <td>2020</td>\n      <td>2</td>\n      <td>609565.0</td>\n      <td>0.0</td>\n    </tr>\n    <tr>\n      <th>14</th>\n      <td>800088702</td>\n      <td>10010328</td>\n      <td>Profesional Independiente</td>\n      <td>Antioquia</td>\n      <td>2020</td>\n      <td>3</td>\n      <td>609565.0</td>\n      <td>0.0</td>\n    </tr>\n    <tr>\n      <th>15</th>\n      <td>800088702</td>\n      <td>10010328</td>\n      <td>Profesional Independiente</td>\n      <td>Antioquia</td>\n      <td>2020</td>\n      <td>4</td>\n      <td>609565.0</td>\n      <td>0.0</td>\n    </tr>\n    <tr>\n      <th>16</th>\n      <td>800088702</td>\n      <td>10010328</td>\n      <td>Profesional Independiente</td>\n      <td>Antioquia</td>\n      <td>2020</td>\n      <td>5</td>\n      <td>609565.0</td>\n      <td>0.0</td>\n    </tr>\n    <tr>\n      <th>17</th>\n      <td>800088702</td>\n      <td>10010328</td>\n      <td>Profesional Independiente</td>\n      <td>Antioquia</td>\n      <td>2020</td>\n      <td>6</td>\n      <td>609565.0</td>\n      <td>0.0</td>\n    </tr>\n    <tr>\n      <th>18</th>\n      <td>800088702</td>\n      <td>10010328</td>\n      <td>Profesional Independiente</td>\n      <td>Antioquia</td>\n      <td>2020</td>\n      <td>7</td>\n      <td>609565.0</td>\n      <td>0.0</td>\n    </tr>\n    <tr>\n      <th>19</th>\n      <td>800088702</td>\n      <td>10010328</td>\n      <td>Profesional Independiente</td>\n      <td>Antioquia</td>\n      <td>2020</td>\n      <td>8</td>\n      <td>609565.0</td>\n      <td>0.0</td>\n    </tr>\n    <tr>\n      <th>20</th>\n      <td>800088702</td>\n      <td>10010328</td>\n      <td>Profesional Independiente</td>\n      <td>Antioquia</td>\n      <td>2020</td>\n      <td>9</td>\n      <td>0.0</td>\n      <td>-609565.0</td>\n    </tr>\n    <tr>\n      <th>21</th>\n      <td>800088702</td>\n      <td>10010328</td>\n      <td>Profesional Independiente</td>\n      <td>Antioquia</td>\n      <td>2020</td>\n      <td>10</td>\n      <td>0.0</td>\n      <td>0.0</td>\n    </tr>\n    <tr>\n      <th>22</th>\n      <td>800088702</td>\n      <td>10010328</td>\n      <td>Profesional Independiente</td>\n      <td>Antioquia</td>\n      <td>2020</td>\n      <td>11</td>\n      <td>0.0</td>\n      <td>0.0</td>\n    </tr>\n    <tr>\n      <th>23</th>\n      <td>800088702</td>\n      <td>10010328</td>\n      <td>Profesional Independiente</td>\n      <td>Antioquia</td>\n      <td>2020</td>\n      <td>12</td>\n      <td>0.0</td>\n      <td>0.0</td>\n    </tr>\n  </tbody>\n</table>\n</div>"
     },
     "metadata": {},
     "execution_count": 68
    }
   ],
   "source": [
    "FT003_pres_ope2.head(24)"
   ]
  },
  {
   "cell_type": "code",
   "execution_count": 63,
   "metadata": {},
   "outputs": [
    {
     "output_type": "execute_result",
     "data": {
      "text/plain": [
       "                                                                             CXC\n",
       "nit_eps   nitproveedor noID                      departamento ano  mes          \n",
       "800088702 1000145114   Profesional Independiente Antioquia    2020 1         0.0\n",
       "                                                                   2    380966.0\n",
       "                                                                   3         0.0\n",
       "                                                                   4         0.0\n",
       "                                                                   5         0.0\n",
       "                                                                   6         0.0\n",
       "                                                                   7         0.0\n",
       "                                                                   8         0.0\n",
       "                                                                   9         0.0\n",
       "                                                                   10        0.0\n",
       "                                                                   11        0.0\n",
       "                                                                   12        0.0\n",
       "          10010328     Profesional Independiente Antioquia    2020 1    609565.0\n",
       "                                                                   2    609565.0\n",
       "                                                                   3    609565.0\n",
       "                                                                   4    609565.0\n",
       "                                                                   5    609565.0\n",
       "                                                                   6    609565.0\n",
       "                                                                   7    609565.0\n",
       "                                                                   8    609565.0\n",
       "                                                                   9         0.0\n",
       "                                                                   10        0.0\n",
       "                                                                   11        0.0\n",
       "                                                                   12        0.0"
      ],
      "text/html": "<div>\n<style scoped>\n    .dataframe tbody tr th:only-of-type {\n        vertical-align: middle;\n    }\n\n    .dataframe tbody tr th {\n        vertical-align: top;\n    }\n\n    .dataframe thead th {\n        text-align: right;\n    }\n</style>\n<table border=\"1\" class=\"dataframe\">\n  <thead>\n    <tr style=\"text-align: right;\">\n      <th></th>\n      <th></th>\n      <th></th>\n      <th></th>\n      <th></th>\n      <th></th>\n      <th>CXC</th>\n    </tr>\n    <tr>\n      <th>nit_eps</th>\n      <th>nitproveedor</th>\n      <th>noID</th>\n      <th>departamento</th>\n      <th>ano</th>\n      <th>mes</th>\n      <th></th>\n    </tr>\n  </thead>\n  <tbody>\n    <tr>\n      <th rowspan=\"24\" valign=\"top\">800088702</th>\n      <th rowspan=\"12\" valign=\"top\">1000145114</th>\n      <th rowspan=\"12\" valign=\"top\">Profesional Independiente</th>\n      <th rowspan=\"12\" valign=\"top\">Antioquia</th>\n      <th rowspan=\"12\" valign=\"top\">2020</th>\n      <th>1</th>\n      <td>0.0</td>\n    </tr>\n    <tr>\n      <th>2</th>\n      <td>380966.0</td>\n    </tr>\n    <tr>\n      <th>3</th>\n      <td>0.0</td>\n    </tr>\n    <tr>\n      <th>4</th>\n      <td>0.0</td>\n    </tr>\n    <tr>\n      <th>5</th>\n      <td>0.0</td>\n    </tr>\n    <tr>\n      <th>6</th>\n      <td>0.0</td>\n    </tr>\n    <tr>\n      <th>7</th>\n      <td>0.0</td>\n    </tr>\n    <tr>\n      <th>8</th>\n      <td>0.0</td>\n    </tr>\n    <tr>\n      <th>9</th>\n      <td>0.0</td>\n    </tr>\n    <tr>\n      <th>10</th>\n      <td>0.0</td>\n    </tr>\n    <tr>\n      <th>11</th>\n      <td>0.0</td>\n    </tr>\n    <tr>\n      <th>12</th>\n      <td>0.0</td>\n    </tr>\n    <tr>\n      <th rowspan=\"12\" valign=\"top\">10010328</th>\n      <th rowspan=\"12\" valign=\"top\">Profesional Independiente</th>\n      <th rowspan=\"12\" valign=\"top\">Antioquia</th>\n      <th rowspan=\"12\" valign=\"top\">2020</th>\n      <th>1</th>\n      <td>609565.0</td>\n    </tr>\n    <tr>\n      <th>2</th>\n      <td>609565.0</td>\n    </tr>\n    <tr>\n      <th>3</th>\n      <td>609565.0</td>\n    </tr>\n    <tr>\n      <th>4</th>\n      <td>609565.0</td>\n    </tr>\n    <tr>\n      <th>5</th>\n      <td>609565.0</td>\n    </tr>\n    <tr>\n      <th>6</th>\n      <td>609565.0</td>\n    </tr>\n    <tr>\n      <th>7</th>\n      <td>609565.0</td>\n    </tr>\n    <tr>\n      <th>8</th>\n      <td>609565.0</td>\n    </tr>\n    <tr>\n      <th>9</th>\n      <td>0.0</td>\n    </tr>\n    <tr>\n      <th>10</th>\n      <td>0.0</td>\n    </tr>\n    <tr>\n      <th>11</th>\n      <td>0.0</td>\n    </tr>\n    <tr>\n      <th>12</th>\n      <td>0.0</td>\n    </tr>\n  </tbody>\n</table>\n</div>"
     },
     "metadata": {},
     "execution_count": 63
    }
   ],
   "source": [
    "FT003_pres_ope.head(24)"
   ]
  },
  {
   "cell_type": "code",
   "execution_count": 62,
   "metadata": {},
   "outputs": [
    {
     "output_type": "execute_result",
     "data": {
      "text/plain": [
       "                                                                             CXC\n",
       "nit_eps   nitproveedor noID                      departamento ano  mes          \n",
       "800088702 1000145114   Profesional Independiente Antioquia    2020 1         0.0\n",
       "                                                                   2    380966.0\n",
       "                                                                   3   -380966.0\n",
       "                                                                   4         0.0\n",
       "                                                                   5         0.0\n",
       "                                                                   6         0.0\n",
       "                                                                   7         0.0\n",
       "                                                                   8         0.0\n",
       "                                                                   9         0.0\n",
       "                                                                   10        0.0\n",
       "                                                                   11        0.0\n",
       "                                                                   12        0.0\n",
       "          10010328     Profesional Independiente Antioquia    2020 1         0.0\n",
       "                                                                   2         0.0\n",
       "                                                                   3         0.0\n",
       "                                                                   4         0.0\n",
       "                                                                   5         0.0\n",
       "                                                                   6         0.0\n",
       "                                                                   7         0.0\n",
       "                                                                   8         0.0\n",
       "                                                                   9   -609565.0\n",
       "                                                                   10        0.0\n",
       "                                                                   11        0.0\n",
       "                                                                   12        0.0"
      ],
      "text/html": "<div>\n<style scoped>\n    .dataframe tbody tr th:only-of-type {\n        vertical-align: middle;\n    }\n\n    .dataframe tbody tr th {\n        vertical-align: top;\n    }\n\n    .dataframe thead th {\n        text-align: right;\n    }\n</style>\n<table border=\"1\" class=\"dataframe\">\n  <thead>\n    <tr style=\"text-align: right;\">\n      <th></th>\n      <th></th>\n      <th></th>\n      <th></th>\n      <th></th>\n      <th></th>\n      <th>CXC</th>\n    </tr>\n    <tr>\n      <th>nit_eps</th>\n      <th>nitproveedor</th>\n      <th>noID</th>\n      <th>departamento</th>\n      <th>ano</th>\n      <th>mes</th>\n      <th></th>\n    </tr>\n  </thead>\n  <tbody>\n    <tr>\n      <th rowspan=\"24\" valign=\"top\">800088702</th>\n      <th rowspan=\"12\" valign=\"top\">1000145114</th>\n      <th rowspan=\"12\" valign=\"top\">Profesional Independiente</th>\n      <th rowspan=\"12\" valign=\"top\">Antioquia</th>\n      <th rowspan=\"12\" valign=\"top\">2020</th>\n      <th>1</th>\n      <td>0.0</td>\n    </tr>\n    <tr>\n      <th>2</th>\n      <td>380966.0</td>\n    </tr>\n    <tr>\n      <th>3</th>\n      <td>-380966.0</td>\n    </tr>\n    <tr>\n      <th>4</th>\n      <td>0.0</td>\n    </tr>\n    <tr>\n      <th>5</th>\n      <td>0.0</td>\n    </tr>\n    <tr>\n      <th>6</th>\n      <td>0.0</td>\n    </tr>\n    <tr>\n      <th>7</th>\n      <td>0.0</td>\n    </tr>\n    <tr>\n      <th>8</th>\n      <td>0.0</td>\n    </tr>\n    <tr>\n      <th>9</th>\n      <td>0.0</td>\n    </tr>\n    <tr>\n      <th>10</th>\n      <td>0.0</td>\n    </tr>\n    <tr>\n      <th>11</th>\n      <td>0.0</td>\n    </tr>\n    <tr>\n      <th>12</th>\n      <td>0.0</td>\n    </tr>\n    <tr>\n      <th rowspan=\"12\" valign=\"top\">10010328</th>\n      <th rowspan=\"12\" valign=\"top\">Profesional Independiente</th>\n      <th rowspan=\"12\" valign=\"top\">Antioquia</th>\n      <th rowspan=\"12\" valign=\"top\">2020</th>\n      <th>1</th>\n      <td>0.0</td>\n    </tr>\n    <tr>\n      <th>2</th>\n      <td>0.0</td>\n    </tr>\n    <tr>\n      <th>3</th>\n      <td>0.0</td>\n    </tr>\n    <tr>\n      <th>4</th>\n      <td>0.0</td>\n    </tr>\n    <tr>\n      <th>5</th>\n      <td>0.0</td>\n    </tr>\n    <tr>\n      <th>6</th>\n      <td>0.0</td>\n    </tr>\n    <tr>\n      <th>7</th>\n      <td>0.0</td>\n    </tr>\n    <tr>\n      <th>8</th>\n      <td>0.0</td>\n    </tr>\n    <tr>\n      <th>9</th>\n      <td>-609565.0</td>\n    </tr>\n    <tr>\n      <th>10</th>\n      <td>0.0</td>\n    </tr>\n    <tr>\n      <th>11</th>\n      <td>0.0</td>\n    </tr>\n    <tr>\n      <th>12</th>\n      <td>0.0</td>\n    </tr>\n  </tbody>\n</table>\n</div>"
     },
     "metadata": {},
     "execution_count": 62
    }
   ],
   "source": [
    "FT003_pres_ope_dif.head(24)"
   ]
  },
  {
   "cell_type": "code",
   "execution_count": null,
   "metadata": {},
   "outputs": [],
   "source": []
  },
  {
   "source": [
    "<h2>FT004 - Cuentas por Pagar </h2>\n",
    "<p> En este apartado se trata la base de datos FT004 </p>"
   ],
   "cell_type": "markdown",
   "metadata": {}
  },
  {
   "cell_type": "code",
   "execution_count": 1,
   "metadata": {},
   "outputs": [],
   "source": [
    "#Cargamos los paquetes que vamos a necesitar\n",
    "import pandas as pd\n",
    "import numpy as np\n",
    "import pyreadstat\n",
    "pd.pandas.set_option('display.max_columns', None)"
   ]
  },
  {
   "cell_type": "code",
   "execution_count": 2,
   "metadata": {},
   "outputs": [
    {
     "output_type": "stream",
     "name": "stderr",
     "text": [
      "C:\\ProgramData\\Anaconda3\\lib\\site-packages\\pandas\\io\\stata.py:1433: UnicodeWarning: \nOne or more strings in the dta file could not be decoded using utf-8, and\nso the fallback encoding of latin-1 is being used.  This can happen when a file\nhas been incorrectly encoded by Stata or some other software. You should verify\nthe string values returned are correct.\n  warnings.warn(msg, UnicodeWarning)\n"
     ]
    }
   ],
   "source": [
    "# Se carga el FT005 completo desde el archivo .dta\n",
    "FT004 = pd.read_stata('C:/Users/Miguel Angel/Documents/Supersalud/Pagos_EPS_Proveedores/Informe_Pagos/FT004 20202021.dta')"
   ]
  },
  {
   "cell_type": "code",
   "execution_count": 3,
   "metadata": {},
   "outputs": [],
   "source": [
    "# Se reemplazan los nombres de las columnas para facilitar el tratamiento\n",
    "FT004.rename(columns={'Nit': 'nit_eps', 'Año': 'ano', 'Periodo': 'mes', 'lineaNegocio': 'linea','tipoIdAcreedor': 'tipoidacreedor', 'idAcreedor': 'nitproveedor', 'dvAcreedor': 'DVacreedor', 'conceptoAcreencia': 'concepto', 'cxpNoVencidas': 'cxpnovencidas', 'cxpMora30dias': 'cxp30','cxpMora60dias': 'cxp60', 'cxpMora90dias': 'cxp90', 'cxpMora180dias': 'cxp180', 'cxpMora360dias': 'cxp360','cxpMoraMayor360dias': 'cxpmayor360'}, inplace=True)"
   ]
  },
  {
   "cell_type": "code",
   "execution_count": 4,
   "metadata": {},
   "outputs": [
    {
     "output_type": "execute_result",
     "data": {
      "text/plain": [
       "Index(['nit_eps', 'RazonSocial', 'ano', 'mes', 'linea', 'tipoidacreedor',\n",
       "       'nitproveedor', 'DVacreedor', 'nombreAcreedor', 'actividadAcreedor',\n",
       "       'concepto', 'medicionPosterior', 'cxpnovencidas', 'cxp30', 'cxp60',\n",
       "       'cxp90', 'cxp180', 'cxp360', 'cxpmayor360', 'ajuste', 'saldo'],\n",
       "      dtype='object')"
      ]
     },
     "metadata": {},
     "execution_count": 4
    }
   ],
   "source": [
    "FT004.columns"
   ]
  },
  {
   "cell_type": "code",
   "execution_count": 5,
   "metadata": {},
   "outputs": [
    {
     "output_type": "execute_result",
     "data": {
      "text/plain": [
       "     nit_eps                                     RazonSocial   ano  mes  \\\n",
       "0  817001773  ASOCIACIÓN INDÍGENA DEL CAUCA AIC EPS INDIGENA  2020    3   \n",
       "1  817001773  ASOCIACIÓN INDÍGENA DEL CAUCA AIC EPS INDIGENA  2020    3   \n",
       "\n",
       "   linea tipoidacreedor nitproveedor  DVacreedor  \\\n",
       "0      1             CC     34604920           0   \n",
       "1      1             CC   1059846606           0   \n",
       "\n",
       "                                      nombreAcreedor actividadAcreedor  \\\n",
       "0  BANGUERO OCAMPO SOFIA                         ...              8699   \n",
       "1  SALAZAR TALAGA MAYRA ALEJANDRA                ...              8699   \n",
       "\n",
       "   concepto  medicionPosterior  cxpnovencidas    cxp30  cxp60  cxp90  cxp180  \\\n",
       "0         4                  1            0.0  50300.0    0.0    0.0     0.0   \n",
       "1         4                  1            0.0  42500.0    0.0    0.0     0.0   \n",
       "\n",
       "   cxp360  cxpmayor360  ajuste     saldo  \n",
       "0     0.0     293100.0     0.0  343400.0  \n",
       "1     0.0          0.0     0.0   42500.0  "
      ],
      "text/html": "<div>\n<style scoped>\n    .dataframe tbody tr th:only-of-type {\n        vertical-align: middle;\n    }\n\n    .dataframe tbody tr th {\n        vertical-align: top;\n    }\n\n    .dataframe thead th {\n        text-align: right;\n    }\n</style>\n<table border=\"1\" class=\"dataframe\">\n  <thead>\n    <tr style=\"text-align: right;\">\n      <th></th>\n      <th>nit_eps</th>\n      <th>RazonSocial</th>\n      <th>ano</th>\n      <th>mes</th>\n      <th>linea</th>\n      <th>tipoidacreedor</th>\n      <th>nitproveedor</th>\n      <th>DVacreedor</th>\n      <th>nombreAcreedor</th>\n      <th>actividadAcreedor</th>\n      <th>concepto</th>\n      <th>medicionPosterior</th>\n      <th>cxpnovencidas</th>\n      <th>cxp30</th>\n      <th>cxp60</th>\n      <th>cxp90</th>\n      <th>cxp180</th>\n      <th>cxp360</th>\n      <th>cxpmayor360</th>\n      <th>ajuste</th>\n      <th>saldo</th>\n    </tr>\n  </thead>\n  <tbody>\n    <tr>\n      <th>0</th>\n      <td>817001773</td>\n      <td>ASOCIACIÓN INDÍGENA DEL CAUCA AIC EPS INDIGENA</td>\n      <td>2020</td>\n      <td>3</td>\n      <td>1</td>\n      <td>CC</td>\n      <td>34604920</td>\n      <td>0</td>\n      <td>BANGUERO OCAMPO SOFIA                         ...</td>\n      <td>8699</td>\n      <td>4</td>\n      <td>1</td>\n      <td>0.0</td>\n      <td>50300.0</td>\n      <td>0.0</td>\n      <td>0.0</td>\n      <td>0.0</td>\n      <td>0.0</td>\n      <td>293100.0</td>\n      <td>0.0</td>\n      <td>343400.0</td>\n    </tr>\n    <tr>\n      <th>1</th>\n      <td>817001773</td>\n      <td>ASOCIACIÓN INDÍGENA DEL CAUCA AIC EPS INDIGENA</td>\n      <td>2020</td>\n      <td>3</td>\n      <td>1</td>\n      <td>CC</td>\n      <td>1059846606</td>\n      <td>0</td>\n      <td>SALAZAR TALAGA MAYRA ALEJANDRA                ...</td>\n      <td>8699</td>\n      <td>4</td>\n      <td>1</td>\n      <td>0.0</td>\n      <td>42500.0</td>\n      <td>0.0</td>\n      <td>0.0</td>\n      <td>0.0</td>\n      <td>0.0</td>\n      <td>0.0</td>\n      <td>0.0</td>\n      <td>42500.0</td>\n    </tr>\n  </tbody>\n</table>\n</div>"
     },
     "metadata": {},
     "execution_count": 5
    }
   ],
   "source": [
    "FT004.head(2)"
   ]
  },
  {
   "cell_type": "code",
   "execution_count": 6,
   "metadata": {},
   "outputs": [],
   "source": [
    "# Se transforman los datos para su correcta identificación\n",
    "FT004[['nit_eps', 'RazonSocial', 'ano', 'mes', 'linea', 'tipoidacreedor',\n",
    "       'nitproveedor', 'DVacreedor', 'nombreAcreedor', 'actividadAcreedor',\n",
    "       'concepto', 'medicionPosterior']] = FT004[['nit_eps', 'RazonSocial', 'ano', 'mes', 'linea', 'tipoidacreedor',\n",
    "       'nitproveedor', 'DVacreedor', 'nombreAcreedor', 'actividadAcreedor',\n",
    "       'concepto', 'medicionPosterior']].astype(str)\n",
    "\n",
    "FT004[['cxpnovencidas', 'cxp30', 'cxp60',\n",
    "       'cxp90', 'cxp180', 'cxp360', 'cxpmayor360', 'ajuste', 'saldo']] = FT004[['cxpnovencidas', 'cxp30', 'cxp60',\n",
    "       'cxp90', 'cxp180', 'cxp360', 'cxpmayor360', 'ajuste', 'saldo']].astype(int)"
   ]
  },
  {
   "cell_type": "code",
   "execution_count": 7,
   "metadata": {},
   "outputs": [],
   "source": [
    "# Se filtra la línea de negocio de interés. En este caso corresponde a la línea 1\n",
    "FT004 = FT004.loc[FT004['linea'] == '1']"
   ]
  },
  {
   "cell_type": "code",
   "execution_count": 8,
   "metadata": {},
   "outputs": [],
   "source": [
    "# Se crea la columna Cuentas por Cobrar (CXP) sumando las columnas cxpnovencidas, cxp30, cxp60, cxp90, cxp180, cxp360 y cxpmayor360\n",
    "FT004['CXP'] = FT004['cxpnovencidas'] + FT004['cxp30'] + FT004['cxp60'] + FT004['cxp90'] + FT004['cxp180'] + FT004['cxp360'] + FT004['cxpmayor360']"
   ]
  },
  {
   "cell_type": "code",
   "execution_count": 9,
   "metadata": {},
   "outputs": [],
   "source": [
    "# Para hacer la suma de CXC por NIT EPS, tipo de proveedor, NIT proveedor, Mes y Año\n",
    "FT004 = FT004.groupby(['nit_eps', 'tipoidacreedor', 'nitproveedor', 'mes', 'ano']).agg({'CXP': 'sum'}).reset_index()"
   ]
  },
  {
   "cell_type": "code",
   "execution_count": 10,
   "metadata": {},
   "outputs": [
    {
     "output_type": "stream",
     "name": "stdout",
     "text": [
      "El número de registros duplicados es:\n0\n"
     ]
    }
   ],
   "source": [
    "# Se comprueba que no haya duplicados cuando se filtra por NIT EPS, tipo de deudor, NIT proveedor, Mes y Año. Para esto se cuenta el número de duplicados\n",
    "duplicadosFT004 = FT004[FT004.duplicated(['nit_eps', 'tipoidacreedor', 'nitproveedor', 'mes', 'ano'], keep='last')]\n",
    "print(\"El número de registros duplicados es:\", duplicadosFT004.nit_eps.count(), sep='\\n')"
   ]
  },
  {
   "cell_type": "code",
   "execution_count": 11,
   "metadata": {},
   "outputs": [],
   "source": [
    "# Se carga la base de datos cuenta2.dta para su posterior pega\n",
    "cuentas2 = pd.read_stata('C:/Users/Miguel Angel/Documents/Supersalud/Pagos_EPS_Proveedores/cuentas2.dta')"
   ]
  },
  {
   "cell_type": "code",
   "execution_count": 12,
   "metadata": {},
   "outputs": [
    {
     "output_type": "stream",
     "name": "stdout",
     "text": [
      "<class 'pandas.core.frame.DataFrame'>\nInt64Index: 47075 entries, 0 to 47074\nData columns (total 2 columns):\n #   Column        Non-Null Count  Dtype \n---  ------        --------------  ----- \n 0   nitproveedor  47075 non-null  object\n 1   v2            47075 non-null  object\ndtypes: object(2)\nmemory usage: 1.1+ MB\n"
     ]
    }
   ],
   "source": [
    "cuentas2.info()"
   ]
  },
  {
   "cell_type": "code",
   "execution_count": 13,
   "metadata": {},
   "outputs": [],
   "source": [
    "# Se tranforma el formato de las columnas del dataframe cuentas2\n",
    "cuentas2[['v2', 'nitproveedor']] = cuentas2[['v2', 'nitproveedor']].astype(str)"
   ]
  },
  {
   "cell_type": "code",
   "execution_count": 14,
   "metadata": {},
   "outputs": [
    {
     "output_type": "stream",
     "name": "stdout",
     "text": [
      "El número de registros duplicados es:\n0\n"
     ]
    }
   ],
   "source": [
    "# Se comprueba que no haya duplicados cuando se filtra por Nitproveedor. Para esto se cuenta el número de duplicados\n",
    "duplicados_cuentas2 = cuentas2[cuentas2.duplicated(['nitproveedor'], keep='last')]\n",
    "print(\"El número de registros duplicados es:\", duplicados_cuentas2.nitproveedor.count(), sep='\\n')"
   ]
  },
  {
   "cell_type": "code",
   "execution_count": 15,
   "metadata": {},
   "outputs": [],
   "source": [
    "# Se unen las dos bases de datos para obtener la información de FT004 con cuenta2\n",
    "FT004= pd.merge(FT004, cuentas2, how='left', left_on=['nitproveedor'], right_on=['nitproveedor'])"
   ]
  },
  {
   "cell_type": "code",
   "execution_count": 16,
   "metadata": {},
   "outputs": [
    {
     "output_type": "execute_result",
     "data": {
      "text/plain": [
       "cuenta    4960\n",
       "Name: v2, dtype: int64"
      ]
     },
     "metadata": {},
     "execution_count": 16
    }
   ],
   "source": [
    "FT004.v2.value_counts()"
   ]
  },
  {
   "source": [
    "<p> Esto corresponde a la cuenta del pasivo cuanso se agregan las cuentas por pagar. Por tal motivo se elimna ya que no se pueden identificar los proveedores. </p>"
   ],
   "cell_type": "markdown",
   "metadata": {}
  },
  {
   "cell_type": "code",
   "execution_count": 17,
   "metadata": {},
   "outputs": [],
   "source": [
    "# Se encuentran las observaciones que cumplen las condiciones\n",
    "df_filtered = FT004[(FT004['tipoidacreedor'] == 'OT') & (FT004['v2'] == 'cuenta')].index"
   ]
  },
  {
   "cell_type": "code",
   "execution_count": 81,
   "metadata": {},
   "outputs": [],
   "source": [
    "# Se crea una copia provisional de la base de datos\n",
    "\n",
    "FT004_V2=FT004"
   ]
  },
  {
   "cell_type": "code",
   "execution_count": 82,
   "metadata": {},
   "outputs": [],
   "source": [
    "# Se eliminan las observaciones que cumplen las condiciones anteriore\n",
    "FT004 = FT004.drop(df_filtered)"
   ]
  },
  {
   "cell_type": "code",
   "execution_count": 83,
   "metadata": {},
   "outputs": [],
   "source": [
    "# Se genera una nueva columna extrayendo el primer caracter del ID nitproveedor\n",
    "FT004['d1'] = FT004['nitproveedor'].str[:1]"
   ]
  },
  {
   "cell_type": "code",
   "execution_count": 84,
   "metadata": {},
   "outputs": [],
   "source": [
    "# Se genera una nueva columna con la cuenta del numero de componentes que tiene el ID nitproveedor\n",
    "FT004['largo'] = FT004.nitproveedor.str.len()"
   ]
  },
  {
   "cell_type": "code",
   "execution_count": 85,
   "metadata": {},
   "outputs": [],
   "source": [
    "# Se limpia la clasificación por Tipo de deudor\n",
    "FT004['tipoidacreedor_corregido'] = 'NA' # Se crea la columna con categoria NA como base\n",
    "# Condiciones\n",
    "FT004.loc[(FT004['largo'] == 10) & # Para signar el tipo de proveedor CC\n",
    "       (FT004['d1'] == '1'), \n",
    "       'tipoidacreedor_corregido'] = 'CC' \n",
    "FT004.loc[(FT004['largo'] == 9) & # Para signar el tipo de proveedor NI\n",
    "       ((FT004['d1'] == '7') |\n",
    "       (FT004['d1'] == '8') |\n",
    "       (FT004['d1'] == '9')),  \n",
    "       'tipoidacreedor_corregido'] = 'NI' \n",
    "FT004.loc[(FT004['tipoidacreedor_corregido'] != 'NI'), # Para completar el tipo de proveedor CC\n",
    "       'tipoidacreedor_corregido'] = 'CC' "
   ]
  },
  {
   "cell_type": "code",
   "execution_count": 86,
   "metadata": {},
   "outputs": [
    {
     "output_type": "stream",
     "name": "stdout",
     "text": [
      "NI    1462384\n",
      "CC    1290804\n",
      "OT       2830\n",
      "CE       2268\n",
      "Name: tipoidacreedor, dtype: int64\n",
      "NI    1416995\n",
      "CC    1341291\n",
      "Name: tipoidacreedor_corregido, dtype: int64\n"
     ]
    }
   ],
   "source": [
    "# Para conocer las diferencias entre las correciones\n",
    "print(FT004.tipoidacreedor.value_counts())\n",
    "print(FT004.tipoidacreedor_corregido.value_counts())"
   ]
  },
  {
   "cell_type": "code",
   "execution_count": 88,
   "metadata": {},
   "outputs": [],
   "source": [
    "# Para hacer la suma de CXP por NIT EPS, tipo de acreedor corregido, NIT proveedor, Mes y Año\n",
    "FT004 = FT004.groupby(['nit_eps', 'tipoidacreedor_corregido', 'nitproveedor', 'mes', 'ano']).agg({'CXP': 'sum'}).reset_index()"
   ]
  },
  {
   "cell_type": "code",
   "execution_count": 89,
   "metadata": {},
   "outputs": [],
   "source": [
    "# Se carga la base de datos prestadores.dta para su posterior pega\n",
    "prestadores = pd.read_stata('C:/Users/Miguel Angel/Documents/Supersalud/Pagos_EPS_Proveedores/prestadores.dta')"
   ]
  },
  {
   "cell_type": "code",
   "execution_count": 90,
   "metadata": {},
   "outputs": [
    {
     "output_type": "stream",
     "name": "stdout",
     "text": [
      "El número de registros duplicados es:\n0\n"
     ]
    }
   ],
   "source": [
    "# Se comprueba que no haya duplicados cuando se filtra por Nitproveedor. Para esto se cuenta el número de duplicados\n",
    "duplicados_prestadores = prestadores[prestadores.duplicated(['nitproveedor'], keep='last')]\n",
    "print(\"El número de registros duplicados es:\", duplicados_prestadores.nitproveedor.count(), sep='\\n')"
   ]
  },
  {
   "cell_type": "code",
   "execution_count": 92,
   "metadata": {},
   "outputs": [],
   "source": [
    "# Se unen las dos bases de datos para obtener la información de FT005 con webgironoupc (Giro Directo - No_UPC - Compra de Cartera) y prestadores\n",
    "FT004= pd.merge(FT004, prestadores, how='left', left_on=['nitproveedor'], right_on=['nitproveedor'])"
   ]
  },
  {
   "cell_type": "code",
   "execution_count": 93,
   "metadata": {},
   "outputs": [],
   "source": [
    "# Se carga la base de datos operadores.dta para su posterior pega\n",
    "operadores = pd.read_stata('C:/Users/Miguel Angel/Documents/Supersalud/Pagos_EPS_Proveedores/operadores.dta')"
   ]
  },
  {
   "cell_type": "code",
   "execution_count": 94,
   "metadata": {},
   "outputs": [
    {
     "output_type": "stream",
     "name": "stdout",
     "text": [
      "El número de registros duplicados es:\n0\n"
     ]
    }
   ],
   "source": [
    "# Se comprueba que no haya duplicados cuando se filtra por Nitproveedor. Para esto se cuenta el número de duplicados\n",
    "duplicados_operadores = operadores[operadores.duplicated(['nitproveedor'], keep='last')]\n",
    "print(\"El número de registros duplicados es:\", duplicados_operadores.nitproveedor.count(), sep='\\n')"
   ]
  },
  {
   "cell_type": "code",
   "execution_count": 96,
   "metadata": {},
   "outputs": [],
   "source": [
    "# Se unen las dos bases de datos para obtener la información de FT005 con webgironoupc (Giro Directo - No_UPC - Compra de Cartera) y prestadores\n",
    "FT004= pd.merge(FT004, operadores, how='left', left_on=['nitproveedor'], right_on=['nitproveedor'])"
   ]
  },
  {
   "cell_type": "code",
   "execution_count": 97,
   "metadata": {},
   "outputs": [],
   "source": [
    "# Se reemplazan los nombres de las columnas para facilitar el tratamiento\n",
    "FT004.rename(columns={'tipoidacreedor_corregido': 'tipoidacreedor'}, inplace=True)"
   ]
  },
  {
   "cell_type": "code",
   "execution_count": 98,
   "metadata": {},
   "outputs": [],
   "source": [
    "# Se crea la columna noID tomando como referencia la columna clpr_nombre\n",
    "FT004['noID'] = FT004['clpr_nombre'] "
   ]
  },
  {
   "cell_type": "code",
   "execution_count": 100,
   "metadata": {},
   "outputs": [],
   "source": [
    "# Se establecen las condiciones para establecer correctamente el noID\n",
    "\n",
    "FT004.loc[(FT004['nit_eps'] == FT004['nitproveedor']), # Se reemplaza por EPS todo aquel proveedor que sea una EPS\n",
    "       'noID'] = 'EPS'\n",
    "\n",
    "FT004.loc[(FT004['nitproveedor'] == '\"901037916\"') | # Se reemplazan los NIT de la nación\n",
    "       (FT004['nitproveedor'] == \"900047282\") |\n",
    "       (FT004['nitproveedor'] == \"899999014\") |\n",
    "       (FT004['nitproveedor'] == \"900474727\") |\n",
    "       (FT004['nitproveedor'] == \"900462447\"),  \n",
    "       'noID'] = 'Nacion' \n",
    "\n",
    "FT004.loc[FT004['noID'].isnull(), 'noID'] = 'Otro' # Para rellenar los vacios con \"Otro\"\n",
    "\n",
    "FT004.loc[(FT004['clpr_nombre'] == 'IPS') & # Para corregir el IPS cuando Tipo es vacío, por IPS-OL-DM-GIM\n",
    "       (FT004['tipo'].notnull()), \n",
    "       'noID'] = 'IPS-OL-DM-GIM'\n",
    "\n",
    "FT004.loc[(FT004['tipo'].notnull()) & # Para dejar el Tipo cuando se tiene OSD u Otro\n",
    "       ((FT004['noID'] == 'OSD') |\n",
    "       (FT004['noID'] == 'Otro')), \n",
    "       'noID'] = FT004['tipo']\n",
    "\n",
    "FT004.loc[(FT004['noID'] == 'Otro') & # Para cambiar el noID por Persona Natural si en Tipo Proveedor se tiene CC y CE\n",
    "       ((FT004['tipoidacreedor'] == 'CC') |\n",
    "       (FT004['tipoidacreedor'] == 'CE')), \n",
    "       'noID'] = 'Persona Natural'\n",
    "\n",
    "FT004.loc[(FT004['departamento'].isnull()) & # Para asignar \"Otro\" al departamento si está vacío y si es una IPS o IPS Pública\n",
    "       ((FT004['noID'] == 'IPS Pública') |\n",
    "       (FT004['noID'] == 'IPS')), \n",
    "       'departamento'] = 'Otro'"
   ]
  },
  {
   "cell_type": "code",
   "execution_count": 101,
   "metadata": {},
   "outputs": [],
   "source": [
    "# Se convierte la variable en mes y año\n",
    "FT004[['ano', 'mes']] = FT004[['ano', 'mes']].astype(float).astype(int)"
   ]
  },
  {
   "cell_type": "code",
   "execution_count": 103,
   "metadata": {},
   "outputs": [],
   "source": [
    "# Se agrega la información por NIT_EPS, Nitproveedor, noID, Departamento, Ano, Mes para las variables CXP\n",
    "FT004 = FT004.groupby(['nit_eps', 'nitproveedor', 'noID', 'departamento', 'ano', 'mes'])[['CXP']].sum().reset_index()"
   ]
  },
  {
   "cell_type": "code",
   "execution_count": 104,
   "metadata": {},
   "outputs": [],
   "source": [
    "# Se crea el rango de meses necesarios en cada mes\n",
    "fecha_ideal=range(1, 12 + 1)\n",
    "# Se rellena con ceros la información para los meses faltantes\n",
    "FT004 = FT004.set_index('mes').groupby(['nit_eps', 'nitproveedor', 'noID', 'departamento', 'ano']).apply(lambda x: x.reindex(index=fecha_ideal, fill_value=0)).drop(['nit_eps', 'nitproveedor', 'noID', 'departamento', 'ano'], 1)"
   ]
  },
  {
   "cell_type": "code",
   "execution_count": 105,
   "metadata": {},
   "outputs": [],
   "source": [
    "# Se calcula la diferencia mensual para conocer el valor mensual de cada cuenta ya que por defecto vienen agregadas\n",
    "FT004_dif = FT004.groupby(['nit_eps', 'nitproveedor', 'noID', 'departamento', 'ano']).diff().fillna(0)"
   ]
  },
  {
   "cell_type": "code",
   "execution_count": 106,
   "metadata": {},
   "outputs": [],
   "source": [
    "FT004_dif = FT004_dif.reset_index()\n",
    "FT004 = FT004.reset_index()"
   ]
  },
  {
   "cell_type": "code",
   "execution_count": 107,
   "metadata": {},
   "outputs": [],
   "source": [
    "# Se reemplazan los nombres de las columnas para facilitar el tratamiento\n",
    "FT004_dif.rename(columns={'CXP': 'DCXPmes'}, inplace=True)"
   ]
  },
  {
   "cell_type": "code",
   "execution_count": 108,
   "metadata": {},
   "outputs": [],
   "source": [
    "# Se unen las dos bases de datos para obtener la información de webgironoupc (Giro Directo - No_UPC - Compra de Cartera) y FT005 en una sola base de datos. Desagregando el valor de VCausado y el VPagado para cada mes\n",
    "FT004_V2= pd.merge(FT004, FT004_dif, how='outer', left_on=['nit_eps', 'nitproveedor', 'noID', 'departamento', 'ano', 'mes'], right_on=['nit_eps', 'nitproveedor', 'noID', 'departamento', 'ano', 'mes'])"
   ]
  },
  {
   "cell_type": "code",
   "execution_count": 109,
   "metadata": {},
   "outputs": [
    {
     "output_type": "execute_result",
     "data": {
      "text/plain": [
       "     nit_eps nitproveedor                       noID departamento   ano  mes  \\\n",
       "0  800088702     10006332  Profesional Independiente    Risaralda  2020    1   \n",
       "1  800088702     10006332  Profesional Independiente    Risaralda  2020    2   \n",
       "2  800088702     10006332  Profesional Independiente    Risaralda  2020    3   \n",
       "3  800088702     10006332  Profesional Independiente    Risaralda  2020    4   \n",
       "4  800088702     10006332  Profesional Independiente    Risaralda  2020    5   \n",
       "\n",
       "          CXP     DCXPmes  \n",
       "0   9637639.0         0.0  \n",
       "1  20110812.0  10473173.0  \n",
       "2     39087.0 -20071725.0  \n",
       "3   1953922.0   1914835.0  \n",
       "4         0.0  -1953922.0  "
      ],
      "text/html": "<div>\n<style scoped>\n    .dataframe tbody tr th:only-of-type {\n        vertical-align: middle;\n    }\n\n    .dataframe tbody tr th {\n        vertical-align: top;\n    }\n\n    .dataframe thead th {\n        text-align: right;\n    }\n</style>\n<table border=\"1\" class=\"dataframe\">\n  <thead>\n    <tr style=\"text-align: right;\">\n      <th></th>\n      <th>nit_eps</th>\n      <th>nitproveedor</th>\n      <th>noID</th>\n      <th>departamento</th>\n      <th>ano</th>\n      <th>mes</th>\n      <th>CXP</th>\n      <th>DCXPmes</th>\n    </tr>\n  </thead>\n  <tbody>\n    <tr>\n      <th>0</th>\n      <td>800088702</td>\n      <td>10006332</td>\n      <td>Profesional Independiente</td>\n      <td>Risaralda</td>\n      <td>2020</td>\n      <td>1</td>\n      <td>9637639.0</td>\n      <td>0.0</td>\n    </tr>\n    <tr>\n      <th>1</th>\n      <td>800088702</td>\n      <td>10006332</td>\n      <td>Profesional Independiente</td>\n      <td>Risaralda</td>\n      <td>2020</td>\n      <td>2</td>\n      <td>20110812.0</td>\n      <td>10473173.0</td>\n    </tr>\n    <tr>\n      <th>2</th>\n      <td>800088702</td>\n      <td>10006332</td>\n      <td>Profesional Independiente</td>\n      <td>Risaralda</td>\n      <td>2020</td>\n      <td>3</td>\n      <td>39087.0</td>\n      <td>-20071725.0</td>\n    </tr>\n    <tr>\n      <th>3</th>\n      <td>800088702</td>\n      <td>10006332</td>\n      <td>Profesional Independiente</td>\n      <td>Risaralda</td>\n      <td>2020</td>\n      <td>4</td>\n      <td>1953922.0</td>\n      <td>1914835.0</td>\n    </tr>\n    <tr>\n      <th>4</th>\n      <td>800088702</td>\n      <td>10006332</td>\n      <td>Profesional Independiente</td>\n      <td>Risaralda</td>\n      <td>2020</td>\n      <td>5</td>\n      <td>0.0</td>\n      <td>-1953922.0</td>\n    </tr>\n  </tbody>\n</table>\n</div>"
     },
     "metadata": {},
     "execution_count": 109
    }
   ],
   "source": [
    "FT004_V2.head()"
   ]
  },
  {
   "cell_type": "code",
   "execution_count": 110,
   "metadata": {},
   "outputs": [],
   "source": [
    "# Para guardar la base de datos lista para ser tratada en formato Excel y CSV\n",
    "\n",
    "FT004_V2.to_excel(r'C:/Users/Miguel Angel/Documents/Supersalud/Pagos_EPS_Proveedores/carteraprestador_2020_2021.xlsx', index = False)\n",
    "FT004_V2.to_csv(r'C:/Users/Miguel Angel/Documents/Supersalud/Pagos_EPS_Proveedores/carteraprestador_2020_2021.csv', index = False, encoding='utf-8-sig')"
   ]
  },
  {
   "cell_type": "code",
   "execution_count": null,
   "metadata": {},
   "outputs": [],
   "source": []
  }
 ]
}