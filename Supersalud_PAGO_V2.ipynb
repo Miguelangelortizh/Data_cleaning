{
 "metadata": {
  "language_info": {
   "codemirror_mode": {
    "name": "ipython",
    "version": 3
   },
   "file_extension": ".py",
   "mimetype": "text/x-python",
   "name": "python",
   "nbconvert_exporter": "python",
   "pygments_lexer": "ipython3",
   "version": "3.8.5"
  },
  "orig_nbformat": 2,
  "kernelspec": {
   "name": "python385jvsc74a57bd0b3ba2566441a7c06988d0923437866b63cedc61552a5af99d1f4fb67d367b25f",
   "display_name": "Python 3.8.5 64-bit ('base': conda)"
  }
 },
 "nbformat": 4,
 "nbformat_minor": 2,
 "cells": [
  {
   "cell_type": "code",
   "execution_count": null,
   "metadata": {},
   "outputs": [],
   "source": [
    "#Cargamos los paquetes que vamos a necesitar\n",
    "import pandas as pd\n",
    "import numpy as np\n",
    "import pyreadstat"
   ]
  },
  {
   "source": [
    "<h1>Pagos</h1>"
   ],
   "cell_type": "markdown",
   "metadata": {}
  },
  {
   "source": [
    "<h2>Giros Directos - Regimen Subsidiado </h2>\n",
    "<p> En este apartado se trata la base de datos Giros Directos - Regimen Subsidiado </p>"
   ],
   "cell_type": "markdown",
   "metadata": {}
  },
  {
   "cell_type": "code",
   "execution_count": null,
   "metadata": {},
   "outputs": [],
   "source": [
    "# Para leer los datos descargados desde La Lupa ADRES aparatado Giro Directo - Regimen Subsidiado\n",
    "ENERO = pd.read_excel('C:/Users/Miguel Angel/Documents/Supersalud/Pagos_EPS_Proveedores/GiroDirecto/2021/Subsidiado/ENERO.xlsx', sheet_name='GIRO DIRECTO', header=7)\n",
    "FEBRERO = pd.read_excel('C:/Users/Miguel Angel/Documents/Supersalud/Pagos_EPS_Proveedores/GiroDirecto/2021/Subsidiado/FEBRERO.xlsx', sheet_name='GIRO DIRECTO', header=7)\n",
    "# MARZO = pd.read_excel('C:/Users/Miguel Angel/Documents/Supersalud/Pagos_EPS_Proveedores/GiroDirecto/2020/Subsidiado/MARZO.xlsx', sheet_name='GIRO DIRECTO', header=7)\n",
    "# ABRIL = pd.read_excel('C:/Users/Miguel Angel/Documents/Supersalud/Pagos_EPS_Proveedores/GiroDirecto/2020/Subsidiado/ABRIL.xlsx', sheet_name='GIRO DIRECTO', header=7)\n",
    "# MAYO = pd.read_excel('C:/Users/Miguel Angel/Documents/Supersalud/Pagos_EPS_Proveedores/GiroDirecto/2020/Subsidiado/MAYO.xlsx', sheet_name='GIRO DIRECTO', header=7)\n",
    "# JUNIO = pd.read_excel('C:/Users/Miguel Angel/Documents/Supersalud/Pagos_EPS_Proveedores/GiroDirecto/2020/Subsidiado/JUNIO.xlsx', sheet_name='GIRO DIRECTO', header=7)\n",
    "# JULIO = pd.read_excel('C:/Users/Miguel Angel/Documents/Supersalud/Pagos_EPS_Proveedores/GiroDirecto/2020/Subsidiado/JULIO.xlsx', sheet_name='GIRO DIRECTO', header=7)\n",
    "# AGOSTO = pd.read_excel('C:/Users/Miguel Angel/Documents/Supersalud/Pagos_EPS_Proveedores/GiroDirecto/2020/Subsidiado/AGOSTO.xlsx', sheet_name='GIRO DIRECTO', header=7)\n",
    "# SEPTIEMBRE = pd.read_excel('C:/Users/Miguel Angel/Documents/Supersalud/Pagos_EPS_Proveedores/GiroDirecto/2020/Subsidiado/SEPTIEMBRE.xlsx', sheet_name='GIRO DIRECTO', header=7)\n",
    "# OCTUBRE = pd.read_excel('C:/Users/Miguel Angel/Documents/Supersalud/Pagos_EPS_Proveedores/GiroDirecto/2020/Subsidiado/OCTUBRE.xlsx', sheet_name='GIRO DIRECTO', header=7)\n",
    "# NOVIEMBRE = pd.read_excel('C:/Users/Miguel Angel/Documents/Supersalud/Pagos_EPS_Proveedores/GiroDirecto/2020/Subsidiado/NOVIEMBRE.xlsx', sheet_name='GIRO DIRECTO', header=7)\n",
    "# DICIEMBRE = pd.read_excel('C:/Users/Miguel Angel/Documents/Supersalud/Pagos_EPS_Proveedores/GiroDirecto/2020/Subsidiado/DICIEMBRE.xlsx', sheet_name='GIRO DIRECTO', header=7)"
   ]
  },
  {
   "cell_type": "code",
   "execution_count": null,
   "metadata": {},
   "outputs": [],
   "source": [
    "print(ENERO.columns)"
   ]
  },
  {
   "cell_type": "code",
   "execution_count": null,
   "metadata": {},
   "outputs": [],
   "source": [
    "# Para homogenizar los nombres de las columnas y facilitar la pega posteriormente\n",
    "ENERO.rename(columns={'Valor Autorizado \\npor la EPS ($)': 'Valor Autorizado por EPS', 'Código_EPS': 'Código EPS', 'Valor Girado a IPS': 'Valor Girado IPS', 'Observación': 'observación'}, inplace=True)\n",
    "FEBRERO.rename(columns={'Valor Autorizado \\npor la EPS ($)': 'Valor Autorizado por EPS', 'Código_EPS': 'Código EPS', 'Valor Girado a IPS': 'Valor Girado IPS', 'Observación': 'observación'}, inplace=True)\n",
    "# MARZO.rename(columns={'Valor Autorizado \\npor la EPS ($)': 'Valor Autorizado por EPS', 'Código_EPS': 'Código EPS', 'Valor Girado a IPS': 'Valor Girado IPS', 'Observación': 'observación'}, inplace=True)\n",
    "# ABRIL.rename(columns={'Valor Autorizado \\npor la EPS ($)': 'Valor Autorizado por EPS', 'Código_EPS': 'Código EPS', 'Valor Girado a IPS': 'Valor Girado IPS', 'Observación': 'observación'}, inplace=True)\n",
    "# MAYO.rename(columns={'Valor Autorizado \\npor la EPS ($)': 'Valor Autorizado por EPS', 'Código_EPS': 'Código EPS', 'Valor Girado a IPS': 'Valor Girado IPS', 'Observación': 'observación'}, inplace=True)\n",
    "# JUNIO.rename(columns={'Valor Autorizado \\npor la EPS ($)': 'Valor Autorizado por EPS', 'Código_EPS': 'Código EPS', 'Valor Girado a IPS': 'Valor Girado IPS', 'Observación': 'observación'}, inplace=True)\n",
    "\n",
    "# JULIO.rename(columns={'Valor Autorizado \\npor la EPS ($)': 'Valor Autorizado por EPS', 'Código_EPS': 'Código EPS', 'Valor Girado a IPS': 'Valor Girado IPS', 'Observación': 'observación', 'Fecha proceso': 'Fecha proceso Giro Directo'}, inplace=True)\n",
    "# AGOSTO.rename(columns={'Valor Autorizado \\npor la EPS ($)': 'Valor Autorizado por EPS', 'Código_EPS': 'Código EPS', 'Valor Girado a IPS': 'Valor Girado IPS', 'Observación': 'observación', 'Fecha proceso': 'Fecha proceso Giro Directo'}, inplace=True)\n",
    "# SEPTIEMBRE.rename(columns={'Valor Autorizado \\npor la EPS ($)': 'Valor Autorizado por EPS', 'Código_EPS': 'Código EPS', 'Valor Girado a IPS': 'Valor Girado IPS', 'Observación': 'observación', 'Fecha proceso': 'Fecha proceso Giro Directo'}, inplace=True)\n",
    "# OCTUBRE.rename(columns={'Valor Autorizado \\npor la EPS ($)': 'Valor Autorizado por EPS', 'Código_EPS': 'Código EPS', 'Valor Girado a IPS': 'Valor Girado IPS', 'Observación': 'observación', 'Fecha proceso': 'Fecha proceso Giro Directo'}, inplace=True)\n",
    "# NOVIEMBRE.rename(columns={'Valor Autorizado \\npor la EPS ($)': 'Valor Autorizado por EPS', 'Código_EPS': 'Código EPS', 'Valor Girado a IPS': 'Valor Girado IPS', 'Observación': 'observación', 'Fecha proceso': 'Fecha proceso Giro Directo'}, inplace=True)\n",
    "# DICIEMBRE.rename(columns={'Valor Autorizado \\npor la EPS ($)': 'Valor Autorizado por EPS', 'Código_EPS': 'Código EPS', 'Valor Girado a IPS': 'Valor Girado IPS', 'Observación': 'observación', 'Fecha proceso': 'Fecha proceso Giro Directo', 'NIT': 'NIT IPS', 'Razón Social': 'Nombre IPS'}, inplace=True)"
   ]
  },
  {
   "cell_type": "code",
   "execution_count": null,
   "metadata": {},
   "outputs": [],
   "source": [
    "# Para agregar la columna de mes y corroborar posteriormente al concatenar las bases\n",
    "ENERO['Mes']='1'\n",
    "FEBRERO['Mes']='2'\n",
    "# MARZO['Mes']='3'\n",
    "# ABRIL['Mes']='4'\n",
    "# MAYO['Mes']='5'\n",
    "# JUNIO['Mes']='6'\n",
    "# JULIO['Mes']='7'\n",
    "# AGOSTO['Mes']='8'\n",
    "# SEPTIEMBRE['Mes']='9'\n",
    "# OCTUBRE['Mes']='10'\n",
    "# NOVIEMBRE['Mes']='11'\n",
    "# DICIEMBRE['Mes']='12'"
   ]
  },
  {
   "cell_type": "code",
   "execution_count": null,
   "metadata": {},
   "outputs": [],
   "source": [
    "# Para agregar la columna de año y corroborar posteriormente al concatenar las bases\n",
    "ENERO['Ano']='2021'\n",
    "FEBRERO['Ano']='2021'\n",
    "# MARZO['Ano']='2020'\n",
    "# ABRIL['Ano']='2020'\n",
    "# MAYO['Ano']='2020'\n",
    "# JUNIO['Ano']='2020'\n",
    "# JULIO['Ano']='2020'\n",
    "# AGOSTO['Ano']='2020'\n",
    "# SEPTIEMBRE['Ano']='2020'\n",
    "# OCTUBRE['Ano']='2020'\n",
    "# NOVIEMBRE['Ano']='2020'\n",
    "# DICIEMBRE['Ano']='2020'"
   ]
  },
  {
   "cell_type": "code",
   "execution_count": null,
   "metadata": {},
   "outputs": [],
   "source": [
    "# Para agregar la columna de tipo de regimen y corroborar posteriormente al concatenar las bases\n",
    "ENERO['Regimen']='Subsidiado'\n",
    "FEBRERO['Regimen']='Subsidiado'\n",
    "# MARZO['Regimen']='Subsidiado'\n",
    "# ABRIL['Regimen']='Subsidiado'\n",
    "# MAYO['Regimen']='Subsidiado'\n",
    "# JUNIO['Regimen']='Subsidiado'\n",
    "# JULIO['Regimen']='Subsidiado'\n",
    "# AGOSTO['Regimen']='Subsidiado'\n",
    "# SEPTIEMBRE['Regimen']='Subsidiado'\n",
    "# OCTUBRE['Regimen']='Subsidiado'\n",
    "# NOVIEMBRE['Regimen']='Subsidiado'\n",
    "# DICIEMBRE['Regimen']='Subsidiado'"
   ]
  },
  {
   "cell_type": "code",
   "execution_count": null,
   "metadata": {},
   "outputs": [],
   "source": [
    "# Se concatenan la bases de datos \n",
    "# frames = [ENERO, FEBRERO, MARZO, ABRIL, MAYO, JUNIO, JULIO, AGOSTO, SEPTIEMBRE, OCTUBRE, NOVIEMBRE, DICIEMBRE]\n",
    "frames = [ENERO, FEBRERO]\n",
    "GiroDirecto_Subsidiado = pd.concat(frames, ignore_index=True)"
   ]
  },
  {
   "source": [
    "<h2>Giros Directos - Regimen Contributivo </h2>\n",
    "<p> En este apartado se trata la base de datos Giros Directos - Regimen Contributivo </p>"
   ],
   "cell_type": "markdown",
   "metadata": {}
  },
  {
   "cell_type": "code",
   "execution_count": null,
   "metadata": {},
   "outputs": [],
   "source": [
    "# Para leer los datos descargados desde La Lupa ADRES aparatado Giro Directo - Regimen Contributivo\n",
    "ENERO = pd.read_excel('C:/Users/Miguel Angel/Documents/Supersalud/Pagos_EPS_Proveedores/GiroDirecto/2021/Contributivo/ENERO.xlsx', sheet_name='GIRO DIRECTO', header=5)\n",
    "FEBRERO = pd.read_excel('C:/Users/Miguel Angel/Documents/Supersalud/Pagos_EPS_Proveedores/GiroDirecto/2021/Contributivo/FEBRERO.xlsx', sheet_name='GIRO DIRECTO', header=8)\n",
    "# MARZO = pd.read_excel('C:/Users/Miguel Angel/Documents/Supersalud/Pagos_EPS_Proveedores/GiroDirecto/2020/Contributivo/MARZO.xlsx', sheet_name='GIRO DIRECTO', header=9)\n",
    "# ABRIL = pd.read_excel('C:/Users/Miguel Angel/Documents/Supersalud/Pagos_EPS_Proveedores/GiroDirecto/2020/Contributivo/ABRIL.xlsx', sheet_name='GIRO DIRECTO', header=9)\n",
    "# MAYO = pd.read_excel('C:/Users/Miguel Angel/Documents/Supersalud/Pagos_EPS_Proveedores/GiroDirecto/2020/Contributivo/MAYO.xlsx', sheet_name='GIRO DIRECTO', header=9)\n",
    "# JUNIO = pd.read_excel('C:/Users/Miguel Angel/Documents/Supersalud/Pagos_EPS_Proveedores/GiroDirecto/2020/Contributivo/JUNIO.xlsx', sheet_name='GIRO DIRECTO', header=9)\n",
    "# JULIO = pd.read_excel('C:/Users/Miguel Angel/Documents/Supersalud/Pagos_EPS_Proveedores/GiroDirecto/2020/Contributivo/JULIO.xlsx', sheet_name='GIRO DIRECTO', header=8)\n",
    "# AGOSTO = pd.read_excel('C:/Users/Miguel Angel/Documents/Supersalud/Pagos_EPS_Proveedores/GiroDirecto/2020/Contributivo/AGOSTO.xlsx', sheet_name='GIRO DIRECTO', header=8)\n",
    "# SEPTIEMBRE = pd.read_excel('C:/Users/Miguel Angel/Documents/Supersalud/Pagos_EPS_Proveedores/GiroDirecto/2020/Contributivo/SEPTIEMBRE.xlsx', sheet_name='GIRO DIRECTO', header=8)\n",
    "# OCTUBRE = pd.read_excel('C:/Users/Miguel Angel/Documents/Supersalud/Pagos_EPS_Proveedores/GiroDirecto/2020/Contributivo/OCTUBRE.xlsx', sheet_name='GIRO DIRECTO', header=8)\n",
    "# NOVIEMBRE = pd.read_excel('C:/Users/Miguel Angel/Documents/Supersalud/Pagos_EPS_Proveedores/GiroDirecto/2020/Contributivo/NOVIEMBRE.xlsx', sheet_name='GIRO DIRECTO', header=8)\n",
    "# DICIEMBRE = pd.read_excel('C:/Users/Miguel Angel/Documents/Supersalud/Pagos_EPS_Proveedores/GiroDirecto/2020/Contributivo/DICIEMBRE.xlsx', sheet_name='GIRO DIRECTO', header=8)"
   ]
  },
  {
   "cell_type": "code",
   "execution_count": null,
   "metadata": {},
   "outputs": [],
   "source": [
    "# Para homogenizar los nombres de las columnas y facilitar la pega posteriormente\n",
    "ENERO.rename(columns={'Código_EPS': 'Código EPS'}, inplace=True)\n",
    "FEBRERO.rename(columns={'Código_EPS': 'Código EPS'}, inplace=True)\n",
    "# MARZO.rename(columns={'Código_EPS': 'Código EPS'}, inplace=True)\n",
    "# ABRIL.rename(columns={'Código_EPS': 'Código EPS'}, inplace=True)\n",
    "# MAYO.rename(columns={'Código_EPS': 'Código EPS'}, inplace=True)"
   ]
  },
  {
   "cell_type": "code",
   "execution_count": null,
   "metadata": {},
   "outputs": [],
   "source": [
    "# Para agregar la columna de mes y corroborar posteriormente al concatenar las bases\n",
    "ENERO['Mes']='1'\n",
    "FEBRERO['Mes']='2'\n",
    "# MARZO['Mes']='3'\n",
    "# ABRIL['Mes']='4'\n",
    "# MAYO['Mes']='5'\n",
    "# JUNIO['Mes']='6'\n",
    "# JULIO['Mes']='7'\n",
    "# AGOSTO['Mes']='8'\n",
    "# SEPTIEMBRE['Mes']='9'\n",
    "# OCTUBRE['Mes']='10'\n",
    "# NOVIEMBRE['Mes']='11'\n",
    "# DICIEMBRE['Mes']='12'"
   ]
  },
  {
   "cell_type": "code",
   "execution_count": null,
   "metadata": {},
   "outputs": [],
   "source": [
    "# Para agregar la columna de año y corroborar posteriormente al concatenar las bases\n",
    "ENERO['Ano']='2021'\n",
    "FEBRERO['Ano']='2021'\n",
    "# MARZO['Ano']='2020'\n",
    "# ABRIL['Ano']='2020'\n",
    "# MAYO['Ano']='2020'\n",
    "# JUNIO['Ano']='2020'\n",
    "# JULIO['Ano']='2020'\n",
    "# AGOSTO['Ano']='2020'\n",
    "# SEPTIEMBRE['Ano']='2020'\n",
    "# OCTUBRE['Ano']='2020'\n",
    "# NOVIEMBRE['Ano']='2020'\n",
    "# DICIEMBRE['Ano']='2020'"
   ]
  },
  {
   "cell_type": "code",
   "execution_count": null,
   "metadata": {},
   "outputs": [],
   "source": [
    "# Para agregar la columna de tipo de regimen y corroborar posteriormente al concatenar las bases\n",
    "ENERO['Regimen']='Contributivo'\n",
    "FEBRERO['Regimen']='Contributivo'\n",
    "# MARZO['Regimen']='Contributivo'\n",
    "# ABRIL['Regimen']='Contributivo'\n",
    "# MAYO['Regimen']='Contributivo'\n",
    "# JUNIO['Regimen']='Contributivo'\n",
    "# JULIO['Regimen']='Contributivo'\n",
    "# AGOSTO['Regimen']='Contributivo'\n",
    "# SEPTIEMBRE['Regimen']='Contributivo'\n",
    "# OCTUBRE['Regimen']='Contributivo'\n",
    "# NOVIEMBRE['Regimen']='Contributivo'\n",
    "# DICIEMBRE['Regimen']='Contributivo'"
   ]
  },
  {
   "cell_type": "code",
   "execution_count": null,
   "metadata": {},
   "outputs": [],
   "source": [
    "# Se concatenan la bases de datos \n",
    "# frames = [ENERO, FEBRERO, MARZO, ABRIL, MAYO, JUNIO, JULIO, AGOSTO, SEPTIEMBRE, OCTUBRE, NOVIEMBRE, DICIEMBRE]\n",
    "frames = [ENERO, FEBRERO]\n",
    "GiroDirecto_Contributivo = pd.concat(frames, ignore_index=True)"
   ]
  },
  {
   "cell_type": "code",
   "execution_count": null,
   "metadata": {},
   "outputs": [],
   "source": [
    "# Se eliminan las columnas que no son de interés para GiroDirecto_Contributivo\n",
    "GiroDirecto_Contributivo = GiroDirecto_Contributivo.drop(['Unnamed: 0', 'PROCESO'], axis=1)"
   ]
  },
  {
   "cell_type": "code",
   "execution_count": null,
   "metadata": {},
   "outputs": [],
   "source": [
    "print(GiroDirecto_Contributivo.columns)"
   ]
  },
  {
   "cell_type": "code",
   "execution_count": null,
   "metadata": {},
   "outputs": [],
   "source": [
    "print(GiroDirecto_Subsidiado.columns)"
   ]
  },
  {
   "cell_type": "code",
   "execution_count": null,
   "metadata": {},
   "outputs": [],
   "source": [
    "# Para renombrar las columnas de interés GiroDirecto_Subsidiado\n",
    "GiroDirecto_Subsidiado.rename(columns={'NIT': 'NIT IPS', 'Razón Social': 'Nombre IPS', 'Fecha proceso': 'Fecha proceso Giro Directo'}, inplace=True)"
   ]
  },
  {
   "cell_type": "code",
   "execution_count": null,
   "metadata": {},
   "outputs": [],
   "source": [
    "# Se concatenan la bases de datos para encontrar la base de datos final\n",
    "frames = [GiroDirecto_Contributivo, GiroDirecto_Subsidiado]\n",
    "GiroDirecto = pd.concat(frames, ignore_index=True)"
   ]
  },
  {
   "cell_type": "code",
   "execution_count": null,
   "metadata": {},
   "outputs": [],
   "source": [
    "# Para renombrar las columnas de interés\n",
    "GiroDirecto.rename(columns={'Código EPS': 'Codigo_EPS', 'Nombre EPS': 'Nombre_EPS', 'NIT IPS': 'Nitproveedor', 'Nombre IPS': 'Nombre_IPS', 'Valor Autorizado por la EPS ($)': 'Autorizado', 'Valor Girado IPS': 'Giro', 'Fecha Giro': 'Fecha_Giro'}, inplace=True)"
   ]
  },
  {
   "cell_type": "code",
   "execution_count": null,
   "metadata": {},
   "outputs": [],
   "source": [
    "# Se elimina la fila Total de cada base de datos, la cual corresponde al total para cada tipo de Giro en cada mes \n",
    "# GiroDirecto = GiroDirecto.loc[GiroDirecto[\"Codigo_EPS\"] != \"TOTAL\"] --- OJO: utilizar cuando se quiere eliminar solo una observación\n",
    "GiroDirecto = GiroDirecto.dropna(subset=['Nombre_EPS'])"
   ]
  },
  {
   "cell_type": "code",
   "execution_count": null,
   "metadata": {},
   "outputs": [],
   "source": [
    "# Se eliminan las columnas que no son de interés\n",
    "GiroDirecto = GiroDirecto.drop(['observación', 'Fecha proceso Giro Directo', 'Fecha_Giro'], axis=1)"
   ]
  },
  {
   "cell_type": "code",
   "execution_count": null,
   "metadata": {},
   "outputs": [],
   "source": [
    "# Código EPS a NIT\n",
    "# Esta información está actualizada desde la fuente https://supersalud.sharepoint.com/OMSAR/Lists/Cdigos%20Entidades%20OMSAR/AllItems.aspx\n",
    "\n",
    "dict_EPS = {\n",
    "    'Codigo_EPS': ['EPS001',\t'EPS012',\t'EPS008',\t'EPS016',\t'EPS023',\t'EPS017',\t'EPS002',\t'EPS005',\t'EPS018',\t'EPS010',\t'EPS046',\t'EPS044',\t'EPS037',\t'EPS033',\t'ESS024',\t'ESS062',\t'ESS091',\t'ESS118',\t'EPSS45',\t'EPSS41',\t'EPSS33',\t'ESS076',\t'EPSI04',\t'EPSI03',\t'ESS207',\t'CCF055',\t'EPSS34',\t'EPS025',\t'CCF102',\t'CCF015',\t'CCF053',\t'CCF007',\t'CCF023',\t'EPS024',\t'CCF027',\t'CCF050',\t'CCF033',\t'ESS133',\t'EPS022',\t'EPSI01',\t'ESS002',\t'EPSI05',\t'EPSI06',\t'ESSC24',\t'ESSC62',\t'ESSC91',\t'ESSC18',\t'EPS045',\t'EPS041',\t'ESSC76',\t'EPSIC4',\t'EPSIC3',\t'ESSC07',\t'CCFC55',\t'EPSC34',\t'EPSC25',\t'CCFC20',\t'CCFC15',\t'CCFC53',\t'CCFC07',\t'CCFC23',\t'CCFC24',\t'CCFC27',\t'CCFC50',\t'CCFC33',\t'EPSC22',\t'EPSIC1',\t'ESSC02',\t'EPSIC5',\t'EPSIC6',\t'EPS040',\t'EPSS01',\t'EPSS12',\t'EPSS08',\t'EPSS16',\t'EPSS23',\t'EPSS17',\t'EPSS02',\t'EPSS05',\t'EPSS18',\t'EPSS10',\t'EPSS46',\t'EPSS44',\t'EPSS37',\t'CCF024',\t'EPS042',\t'EPSS42',\t'EPSS48',\t'EPSS40',\t'ESSC33',\n",
    "],\n",
    "\n",
    "        'NIT_EPS': ['830113831',\t'890303093',\t'860066942',\t'805000427',\t'830009783',\t'830003564',\t'800130907',\t'800251440',\t'805001157',\t'800088702',\t'900914254',\t'901097473',\t'900156264',\t'830074184',\t'900226715',\t'900935126',\t'901093846',\t'901021565',\t'901097473',\t'900156264',\t'830074184',\t'818000140',\t'839000495',\t'817001773',\t'806008394',\t'890102044',\t'900298372',\t'891856000',\t'891600091',\t'891080005',\t'860045904',\t'890480110',\t'892115006',\t'891180008',\t'891280008',\t'890500675',\t'892200015',\t'804002105',\t'899999107',\t'824001398',\t'811004055',\t'837000084',\t'809008362',\t'900226715',\t'900935126',\t'901093846',\t'901021565',\t'901097473',\t'900156264',\t'818000140',\t'839000495',\t'817001773',\t'806008394',\t'890102044',\t'900298372',\t'891856000',\t'891600091',\t'891080005',\t'860045904',\t'890480110',\t'892115006',\t'891180008',\t'891280008',\t'890500675',\t'892200015',\t'899999107',\t'824001398',\t'811004055',\t'837000084',\t'809008362',\t'900604350',\t'830113831',\t'890303093',\t'860066942',\t'805000427',\t'830009783',\t'830003564',\t'800130907',\t'800251440',\t'805001157',\t'800088702',\t'900914254',\t'901097473',\t'900156264',\t'891180008',\t'900226715',\t'900226715',\t'806008394',\t'900604350',\t'804002105',\n",
    "],\n",
    "        }"
   ]
  },
  {
   "cell_type": "code",
   "execution_count": null,
   "metadata": {},
   "outputs": [],
   "source": [
    "# Se crea el dataframe con el diccionario de datos\n",
    "df_EPS = pd.DataFrame(dict_EPS, columns = [\"Codigo_EPS\", \"NIT_EPS\"])"
   ]
  },
  {
   "cell_type": "code",
   "execution_count": null,
   "metadata": {},
   "outputs": [],
   "source": [
    "# Se unen las dos bases de datos para obtener la información de NIT EPS haciendo el llamado por Códgio EPS\n",
    "GiroDirecto.Codigo_EPS = GiroDirecto.Codigo_EPS.astype(str)\n",
    "df_EPS.Codigo_EPS = df_EPS.Codigo_EPS.astype(str)\n",
    "GiroDirecto = pd.merge(GiroDirecto,df_EPS, how='left', on=['Codigo_EPS', 'Codigo_EPS'])"
   ]
  },
  {
   "cell_type": "code",
   "execution_count": null,
   "metadata": {},
   "outputs": [],
   "source": [
    "#Se transforman las variables a STR para mejorar su manipulación\n",
    "GiroDirecto.Nitproveedor = GiroDirecto.Nitproveedor.astype(str)\n",
    "GiroDirecto.Mes = GiroDirecto.Mes.astype(str)"
   ]
  },
  {
   "cell_type": "code",
   "execution_count": null,
   "metadata": {},
   "outputs": [],
   "source": [
    "# Para hacer la suma de Giro por NIT EPS, NIT proveedor y Mes de interés\n",
    "GiroDirecto_2021 = GiroDirecto.groupby(['NIT_EPS','Nitproveedor','Mes','Ano']).agg({'Giro': 'sum'}).reset_index()"
   ]
  },
  {
   "cell_type": "code",
   "execution_count": null,
   "metadata": {},
   "outputs": [],
   "source": [
    "# Para guardar la base de datos lista para ser tratada en formato Excel y CSV\n",
    "GiroDirecto_2021.to_excel(r'GiroDirecto_ENEMAR2021_V2.xlsx', index = False)\n",
    "GiroDirecto_2021.to_csv(r'GiroDirecto_ENEMAR2021_V2.csv', index = False, encoding='utf-8-sig')"
   ]
  },
  {
   "cell_type": "code",
   "execution_count": null,
   "metadata": {},
   "outputs": [],
   "source": [
    "# Para concatenar la base de datos de 2021 y 2020\n",
    "GiroDirecto_2020 = pd.read_excel('C:/Users/Miguel Angel/Documents/Supersalud/Pagos_EPS_Proveedores/GiroDirecto/GiroDirecto_2020_V2.xlsx', dtype={'NIT_EPS':object, 'Nitproveedor': object, 'Mes':object, 'Ano':object})"
   ]
  },
  {
   "cell_type": "code",
   "execution_count": null,
   "metadata": {},
   "outputs": [],
   "source": [
    "# Se concatenan la bases de datos para encontrar la base de datos final\n",
    "frames = [GiroDirecto_2021, GiroDirecto_2020]\n",
    "GiroDirecto_2020_2021 = pd.concat(frames, ignore_index=True)"
   ]
  },
  {
   "cell_type": "code",
   "execution_count": null,
   "metadata": {},
   "outputs": [],
   "source": [
    "# Para guardar la base de datos lista para ser tratada en formato Excel y CSV\n",
    "GiroDirecto_2020_2021.to_excel(r'GiroDirecto_2020_ENEMAR2021_V2.xlsx', index = False)\n",
    "GiroDirecto_2020_2021.to_csv(r'GiroDirecto_2020_ENEMAR2021_V2.csv', index = False, encoding='utf-8-sig')"
   ]
  },
  {
   "source": [
    "<h2>No UPC</h2>\n",
    "<p> En este apartado se trata la base de datos No UPC</p>\n",
    "<p>Es necesario aclarar que en el archivo de FEBRERO de 2021 se cinluye la información para ENERO  de 2021. También se debe mencionar que para obtener los datos de MARRZO de 2021 se tuvo que concatenar las diferentes hojas correspondientes a pagos a IPS previamente al cargue de información en el .ipynb ya que en este archivo hubo una modificación en el reporte de la información y venía desagregada en hojas por tipo de pagos a IPS.</p>\n",
    "<p>Nota: se debe recordar que la información a agregar son los pagos a IPS así que se deben ignorar las hojas referentes a EPS</p"
   ],
   "cell_type": "markdown",
   "metadata": {}
  },
  {
   "cell_type": "code",
   "execution_count": null,
   "metadata": {},
   "outputs": [],
   "source": [
    "# Para leer los datos descargados desde La Lupa ADRES aparatado Giro Directo - Regimen Subsidiado\n",
    "# ENERO = pd.read_excel('C:/Users/Miguel Angel/Documents/Supersalud/Pagos_EPS_Proveedores/Recursos_No_UPC/2021/ENERO.xlsx', sheet_name='PP0120 - IPS', header=7)\n",
    "FEBRERO = pd.read_excel('C:/Users/Miguel Angel/Documents/Supersalud/Pagos_EPS_Proveedores/Recursos_No_UPC/2021/FEBRERO.xlsx', sheet_name='PAQUETE SUB_S02_0620-0920 IPS', header=6)\n",
    "MARZO = pd.read_excel('C:/Users/Miguel Angel/Documents/Supersalud/Pagos_EPS_Proveedores/Recursos_No_UPC/2021/MARZO.xlsx', sheet_name='Hoja1')"
   ]
  },
  {
   "cell_type": "code",
   "execution_count": null,
   "metadata": {},
   "outputs": [],
   "source": [
    "print(FEBRERO.columns)"
   ]
  },
  {
   "cell_type": "code",
   "execution_count": null,
   "metadata": {},
   "outputs": [],
   "source": [
    "print(MARZO.columns)"
   ]
  },
  {
   "cell_type": "code",
   "execution_count": null,
   "metadata": {},
   "outputs": [],
   "source": [
    "# Para homogenizar los nombres de las columnas y facilitar la pega posteriormente\n",
    "# En este caso los nombres de las variables son iguales así que no hay que homogenizar \n",
    "# ENERO.rename(columns={'Valor Autorizado \\npor la EPS ($)': 'Valor Autorizado por EPS', 'Código_EPS': 'Código EPS', 'Valor Girado a IPS': 'Valor Girado IPS', 'Observación': 'observación'}, inplace=True)\n",
    "# FEBRERO.rename(columns={'Valor Autorizado \\npor la EPS ($)': 'Valor Autorizado por EPS', 'Código_EPS': 'Código EPS', 'Valor Girado a IPS': 'Valor Girado IPS', 'Observación': 'observación'}, inplace=True)"
   ]
  },
  {
   "cell_type": "code",
   "execution_count": null,
   "metadata": {},
   "outputs": [],
   "source": [
    "# Para agregar la columna de mes y corroborar posteriormente al concatenar las bases\n",
    "FEBRERO['Mes']='2'\n",
    "MARZO['Mes']='3'"
   ]
  },
  {
   "cell_type": "code",
   "execution_count": null,
   "metadata": {},
   "outputs": [],
   "source": [
    "# Para agregar la columna de año y corroborar posteriormente al concatenar las bases\n",
    "# ENERO['Ano']='2020'\n",
    "FEBRERO['Ano']='2021'\n",
    "MARZO['Ano']='2021'"
   ]
  },
  {
   "cell_type": "code",
   "execution_count": null,
   "metadata": {},
   "outputs": [],
   "source": [
    "# Se concatenan la bases de datos \n",
    "frames = [FEBRERO, MARZO]\n",
    "No_UPC = pd.concat(frames, ignore_index=True)"
   ]
  },
  {
   "cell_type": "code",
   "execution_count": null,
   "metadata": {},
   "outputs": [],
   "source": [
    "print(No_UPC.columns)"
   ]
  },
  {
   "cell_type": "code",
   "execution_count": null,
   "metadata": {},
   "outputs": [],
   "source": [
    "# Se eliminan las columnas que no son de interés para GiroDirecto_Contributivo\n",
    "No_UPC = No_UPC.drop(['Normativa', 'Paquete', 'Régimen', 'Tipo Recobro', 'Nombre EPS que autorizó el giro','Nombre IPS/Proveedor', 'Fecha Pago', 'Valor Total a Descontar', 'Oservación'], axis=1)"
   ]
  },
  {
   "cell_type": "code",
   "execution_count": null,
   "metadata": {},
   "outputs": [],
   "source": [
    "# Para renombrar las columnas de interés\n",
    "No_UPC.rename(columns={'NIT IPS/Proveedor': 'Nitproveedor', 'Valor Girado': 'No_UPC', 'NIT EPS': 'NIT_EPS'}, inplace=True)"
   ]
  },
  {
   "cell_type": "code",
   "execution_count": null,
   "metadata": {},
   "outputs": [],
   "source": [
    "# Para hacer la suma de No_UPC por \n",
    "No_UPC_2021 = No_UPC.groupby(['NIT_EPS','Nitproveedor','Mes', 'Ano']).agg({'No_UPC': 'sum'}).reset_index()"
   ]
  },
  {
   "cell_type": "code",
   "execution_count": null,
   "metadata": {},
   "outputs": [],
   "source": [
    "# Para guardar la base de datos lista para ser tratada en formato Excel y CSV\n",
    "No_UPC_2021.to_excel(r'No_UPC_ENEMAR2021.xlsx', index = False)\n",
    "No_UPC_2021.to_csv(r'No_UPC_ENEMAR2021.csv', index = False, encoding='utf-8-sig')"
   ]
  },
  {
   "cell_type": "code",
   "execution_count": null,
   "metadata": {},
   "outputs": [],
   "source": [
    "# Para concatenar la base de datos de 2021 y 2020\n",
    "No_UPC_2020 = pd.read_excel('C:/Users/Miguel Angel/Documents/Supersalud/Pagos_EPS_Proveedores/Recursos_No_UPC/NoUPC_2020_V2.xlsx', dtype={'NIT_EPS':object, 'Nitproveedor': object, 'Mes':object, 'Ano':object})"
   ]
  },
  {
   "cell_type": "code",
   "execution_count": null,
   "metadata": {},
   "outputs": [],
   "source": [
    "# Se concatenan la bases de datos para encontrar la base de datos final\n",
    "frames = [No_UPC_2021, No_UPC_2020]\n",
    "No_UPC_2020_2021 = pd.concat(frames, ignore_index=True)"
   ]
  },
  {
   "cell_type": "code",
   "execution_count": null,
   "metadata": {},
   "outputs": [],
   "source": [
    "# Para guardar la base de datos lista para ser tratada en formato Excel y CSV\n",
    "No_UPC_2020_2021.to_excel(r'No_UPC_2020_ENEMAR2021_V2.xlsx', index = False)\n",
    "No_UPC_2020_2021.to_csv(r'No_UPC_2020_ENEMAR2021_V2.csv', index = False, encoding='utf-8-sig')"
   ]
  },
  {
   "source": [
    "<h2>Web - Giro - No UPC - PagoWeb</h2>\n",
    "<p> En este apartado se crea la base de datos Web - Giro - No UPC - PagoWeb </p>"
   ],
   "cell_type": "markdown",
   "metadata": {}
  },
  {
   "cell_type": "code",
   "execution_count": null,
   "metadata": {},
   "outputs": [],
   "source": [
    "#Cargamos los paquetes que vamos a necesitar\n",
    "import pandas as pd\n",
    "import numpy as np\n",
    "import pyreadstat"
   ]
  },
  {
   "cell_type": "code",
   "execution_count": null,
   "metadata": {},
   "outputs": [],
   "source": [
    "# Para concatenar la base de datos de 2021 y 2020. Primero se hace para NO UPC y Giro Directo\n",
    "No_UPC_2020_2021 = pd.read_excel('C:/Users/Miguel Angel/Documents/Supersalud/Pagos_EPS_Proveedores/Recursos_No_UPC/No_UPC_2020_ENEMAR2021_V2.xlsx', dtype={'NIT_EPS':object, 'Nitproveedor': object, 'Mes':object, 'Ano':object})\n",
    "GiroDirecto_2020_2021 = pd.read_excel('C:/Users/Miguel Angel/Documents/Supersalud/Pagos_EPS_Proveedores/GiroDirecto/GiroDirecto_2020_ENEMAR2021_V2.xlsx', dtype={'NIT_EPS':object, 'Nitproveedor': object, 'Mes':object, 'Ano':object})"
   ]
  },
  {
   "cell_type": "code",
   "execution_count": null,
   "metadata": {},
   "outputs": [],
   "source": [
    "# Se unen las dos bases de datos para obtener la información de Giro Directo y No_UPC en una sola base de datos\n",
    "GD_UPC = pd.merge(GiroDirecto_2020_2021, No_UPC_2020_2021, how='outer', left_on=['NIT_EPS', 'Nitproveedor', 'Mes', 'Ano'], right_on=['NIT_EPS', 'Nitproveedor', 'Mes', 'Ano'])"
   ]
  },
  {
   "cell_type": "code",
   "execution_count": null,
   "metadata": {},
   "outputs": [],
   "source": [
    "# Para concatenar la base de datos de 2021 y 2020\n",
    "CompraCartera2020 = pd.read_stata('C:/Users/Miguel Angel/Documents/Supersalud/Pagos_EPS_Proveedores/compracarteramayo.dta')"
   ]
  },
  {
   "cell_type": "code",
   "execution_count": null,
   "metadata": {},
   "outputs": [],
   "source": [
    "#Se crea la variable año para la Compra de Cartera\n",
    "CompraCartera2020['Ano']='2020'"
   ]
  },
  {
   "cell_type": "code",
   "execution_count": null,
   "metadata": {},
   "outputs": [],
   "source": [
    "# Se modifican los nombres de las columnas para posterimente pegar las bases de datos\n",
    "CompraCartera2020.rename(columns={'nit': 'NIT_EPS', 'nitproveedor': 'Nitproveedor', 'mes': 'Mes', 'compra': 'Compra_Cartera'}, inplace=True)"
   ]
  },
  {
   "cell_type": "code",
   "execution_count": null,
   "metadata": {},
   "outputs": [],
   "source": [
    "#Se transforman las variables a STR para mejorar su manipulación\n",
    "CompraCartera2020[['NIT_EPS', 'Nitproveedor', 'Mes', 'Ano']] = CompraCartera2020[['NIT_EPS', 'Nitproveedor', 'Mes', 'Ano']].astype(str)"
   ]
  },
  {
   "cell_type": "code",
   "execution_count": null,
   "metadata": {},
   "outputs": [],
   "source": [
    "# Se unen las dos bases de datos para obtener la información de Giro Directo - No_UPC y Compra de Cartera en una sola base de datos\n",
    "GD_UPC_CC= pd.merge(GD_UPC, CompraCartera2020, how='outer', left_on=['NIT_EPS', 'Nitproveedor', 'Mes', 'Ano'], right_on=['NIT_EPS', 'Nitproveedor', 'Mes', 'Ano'])"
   ]
  },
  {
   "cell_type": "code",
   "execution_count": null,
   "metadata": {},
   "outputs": [],
   "source": [
    "# Para concatenar la base de datos de 2021 y 2020\n",
    "PagoWeb = pd.read_stata('C:/Users/Miguel Angel/Documents/Supersalud/Pagos_EPS_Proveedores/pagoweb.dta')"
   ]
  },
  {
   "cell_type": "code",
   "execution_count": null,
   "metadata": {},
   "outputs": [],
   "source": [
    "#Se crea la variable año para la Compra de Cartera\n",
    "PagoWeb['Ano']='2020'"
   ]
  },
  {
   "cell_type": "code",
   "execution_count": null,
   "metadata": {},
   "outputs": [],
   "source": [
    "# Se modifican los nombres de las columnas para posterimente pegar las bases de datos\n",
    "PagoWeb.rename(columns={'nit': 'NIT_EPS', 'nitproveedor': 'Nitproveedor', 'mes': 'Mes', 'pw': 'PW'}, inplace=True)"
   ]
  },
  {
   "cell_type": "code",
   "execution_count": null,
   "metadata": {},
   "outputs": [],
   "source": [
    "# Se unen las dos bases de datos para obtener la información de Giro Directo - No_UPC y Compra de Cartera en una sola base de datos\n",
    "GD_UPC_CC_PW= pd.merge(GD_UPC_CC, PagoWeb, how='outer', left_on=['NIT_EPS', 'Nitproveedor', 'Mes', 'Ano'], right_on=['NIT_EPS', 'Nitproveedor', 'Mes', 'Ano'])"
   ]
  },
  {
   "cell_type": "code",
   "execution_count": null,
   "metadata": {},
   "outputs": [],
   "source": [
    "# Para guardar la base de datos lista para ser tratada en formato Excel y CSV\n",
    "GD_UPC_CC_PW.to_excel(r'GD_UPC_CC_PW_2020_ENEMAR2021_V2.xlsx', index = False)\n",
    "GD_UPC_CC_PW.to_csv(r'GD_UPC_CC_PW_2020_ENEMAR2021_V2.csv', index = False, encoding='utf-8-sig')"
   ]
  },
  {
   "source": [
    "<h2>FT005</h2>\n",
    "<p> En este apartado se trata la base de datos FT005 </p>"
   ],
   "cell_type": "markdown",
   "metadata": {}
  },
  {
   "cell_type": "code",
   "execution_count": null,
   "metadata": {},
   "outputs": [],
   "source": [
    "#Cargamos los paquetes que vamos a necesitar\n",
    "import pandas as pd\n",
    "import numpy as np\n",
    "import pyreadstat"
   ]
  },
  {
   "cell_type": "code",
   "execution_count": null,
   "metadata": {},
   "outputs": [],
   "source": [
    "# Se carga el FT005 completo desde el archivo .dta\n",
    "FT005 = pd.read_stata('C:/Users/Miguel Angel/Documents/Supersalud/Pagos_EPS_Proveedores/Informe_Pagos/FT005 20202021.dta')"
   ]
  },
  {
   "cell_type": "code",
   "execution_count": null,
   "metadata": {},
   "outputs": [],
   "source": [
    "#Se transforman las variables a STR para mejorar su manipulación\n",
    "# FT005.Nit = FT005.Nit.astype(str)"
   ]
  },
  {
   "cell_type": "code",
   "execution_count": null,
   "metadata": {},
   "outputs": [],
   "source": [
    "#Se elije una sola EPS para hacer más fácil el análisis\n",
    "# FT005_V1 = FEBRERO.loc[FEBRERO['Nit'] == '805000427']"
   ]
  },
  {
   "cell_type": "code",
   "execution_count": null,
   "metadata": {},
   "outputs": [],
   "source": [
    "# Para guardar la base de datos ejemplo a tratar\n",
    "# FT005_V1.to_excel(r'FT005_V1.xlsx', index = False)"
   ]
  },
  {
   "cell_type": "code",
   "execution_count": null,
   "metadata": {},
   "outputs": [],
   "source": [
    "# Se elimina el FT005 full para liberar espacio en la memoria\n",
    "# del FT005"
   ]
  },
  {
   "cell_type": "code",
   "execution_count": null,
   "metadata": {},
   "outputs": [],
   "source": [
    "# Se carga la base de datos con una sola EPS para agilizar el código\n",
    "# FT005 = pd.read_excel('FT005_V1.xlsx', dtype={'Nit':object, 'Año': object, 'idProveedor':object, 'Periodo':object})"
   ]
  },
  {
   "cell_type": "code",
   "execution_count": null,
   "metadata": {},
   "outputs": [],
   "source": [
    "# Se reemplazan los nombres de las columnas para facilitar el tratamiento\n",
    "FT005.rename(columns={'Nit': 'NIT_EPS', 'Año': 'Ano', 'Periodo': 'Mes', 'lineaNegocio': 'Linea','tipoIdProveedor': 'Tipoproveedor', 'idProveedor': 'Nitproveedor', 'codigoConcepto': 'Concepto', 'descripcionCyG': 'CyG', 'valorCausado': 'VCausado', 'valorPagado': 'VPagado'}, inplace=True)"
   ]
  },
  {
   "cell_type": "code",
   "execution_count": null,
   "metadata": {},
   "outputs": [],
   "source": [
    "#Se transforman las variables a STR para mejorar su manipulación\n",
    "FT005[['NIT_EPS', 'Nitproveedor', 'Tipoproveedor', 'Mes', 'Ano']] = FT005[['NIT_EPS', 'Nitproveedor', 'Tipoproveedor', 'Mes', 'Ano']].astype(str)"
   ]
  },
  {
   "cell_type": "code",
   "execution_count": null,
   "metadata": {},
   "outputs": [],
   "source": [
    "# Se filtra la línea de negocio de interés. En este caso corresponde a la línea 1\n",
    "FT005 = FT005.loc[FT005['Linea'] == 1]"
   ]
  },
  {
   "cell_type": "code",
   "execution_count": null,
   "metadata": {},
   "outputs": [],
   "source": [
    "# Para hacer la suma de Valor pagado y Valor causado por NIT EPS, tipo de proveedor, NIT proveedor y Mes de interés\n",
    "FT005 = FT005.groupby(['NIT_EPS', 'Tipoproveedor', 'Nitproveedor', 'Mes', 'Ano']).agg({'VPagado': 'sum','VCausado': 'sum'}).reset_index()"
   ]
  },
  {
   "cell_type": "code",
   "execution_count": null,
   "metadata": {},
   "outputs": [],
   "source": [
    "# Se comprueba que no haya duplicados cuando se filtra por NIT EPS, tipo de proveedor, NIT proveedor y Mes. Para esto se cuenta el número de duplicados\n",
    "duplicadosFT005 = FT005[FT005.duplicated(['NIT_EPS', 'Nitproveedor', 'Mes', 'Ano'], keep='last')]\n",
    "print(\"El número de registros duplicados es:\", duplicadosFT005.NIT_EPS.count(), sep='\\n')"
   ]
  },
  {
   "cell_type": "code",
   "execution_count": null,
   "metadata": {},
   "outputs": [],
   "source": [
    "# Se genera una nueva columna extrayendo el primer caracter del ID nitproveedor\n",
    "FT005['d1'] = FT005['Nitproveedor'].str[:1]"
   ]
  },
  {
   "cell_type": "code",
   "execution_count": null,
   "metadata": {},
   "outputs": [],
   "source": [
    "# Se genera una nueva columna con la cuenta del numero de componentes que tiene el ID nitproveedor\n",
    "FT005['largo'] = FT005.Nitproveedor.str.len()"
   ]
  },
  {
   "cell_type": "code",
   "execution_count": null,
   "metadata": {},
   "outputs": [],
   "source": [
    "# Se limpia la clasificación por Tipo de Proveedor\n",
    "FT005['Tipoproveedor_corregido'] = FT005['Tipoproveedor'] # Se crea la columna con categoria NA como base\n",
    "# Condiciones\n",
    "FT005.loc[\n",
    "       (FT005['Tipoproveedor_corregido'] == 'NA') &\n",
    "       (FT005['largo'] == 10) & # Para signar el tipo de proveedor CC\n",
    "       (FT005['d1'] == '1'), \n",
    "       'Tipoproveedor_corregido'] = 'CC' \n",
    "FT005.loc[(FT005['Tipoproveedor_corregido'] == 'NA') &\n",
    "       (FT005['largo'] == 9) & # Para signar el tipo de proveedor NI\n",
    "       ((FT005['d1'] == '7') |\n",
    "       (FT005['d1'] == '8') |\n",
    "       (FT005['d1'] == '9')),  \n",
    "       'Tipoproveedor_corregido'] = 'NI' \n",
    "FT005.loc[(FT005['Tipoproveedor_corregido'] == 'NA') &\n",
    "       (FT005['Tipoproveedor_corregido'] != 'NI'), # Para completar el tipo de proveedor CC\n",
    "       'Tipoproveedor_corregido'] = 'CC' "
   ]
  },
  {
   "cell_type": "code",
   "execution_count": null,
   "metadata": {},
   "outputs": [],
   "source": [
    "print(FT005.Tipoproveedor.value_counts())\n",
    "print(FT005.Tipoproveedor_corregido.value_counts())"
   ]
  },
  {
   "cell_type": "code",
   "execution_count": null,
   "metadata": {},
   "outputs": [],
   "source": [
    "# # Se crea una lista de condiciones simultaneas para asignar el tipo de proveedor\n",
    "\n",
    "# condiciones = [\n",
    "#     (FT005_V2['largo'] == 10) & (FT005_V2['d1'] == '1'), # Para signar el tipo de proveedor CC\n",
    "#     (FT005_V2['largo'] == 9) & ((FT005_V2['d1'] == '7') | (FT005_V2['d1'] == '8') | (FT005_V2['d1'] == '9')), # Para signar el tipo de proveedor NI\n",
    "#     (FT005_V2['largo'] == 9)\n",
    "#     ]\n",
    "\n",
    "# # Se asignan los valores correspondientes a cada una de las condiciones de nuestra lista\n",
    "# valores = ['CC', 'NI', 'CC']\n",
    "\n",
    "# # Se crea una nueva columna para asignar los valores dadas las condiciones \n",
    "# FT005_V2['tipoproveedor_corregido'] = np.select(condiciones, valores)\n",
    "# FT005_V2.tipoproveedor_corregido = FT005_V2.tipoproveedor_corregido.astype(str)\n",
    "\n",
    "# # Se da un resumen de como se ve el en general la nueva variable corregida\n",
    "# print(FT005_V2.tipoproveedor.value_counts())\n",
    "# print(FT005_V2.tipoproveedor_corregido.value_counts())"
   ]
  },
  {
   "cell_type": "code",
   "execution_count": null,
   "metadata": {},
   "outputs": [],
   "source": [
    "# ESTA LINEA GENERA PROBLEMAS PORQUE CONVIERTE TODO EN CC Y UN NIT DEBE TENER SIEMPRE 9 DIGITOS MÁS 1 DIGITO DE VERIFICACION - PENSAR EN COMPLEMENTO PARA MEJORAR\n",
    "# FT005_V2.loc[(FT005_V2['tipoproveedor_corregido2'] != 'NI'), 'tipoproveedor_corregido2'] = 'CC' # Para completar el tipo de proveedor CC"
   ]
  },
  {
   "cell_type": "code",
   "execution_count": null,
   "metadata": {},
   "outputs": [],
   "source": [
    "# Para hacer la suma de Valor pagado y Valor causado por NIT EPS, tipo de proveedor corregido, NIT proveedor y Mes de interés\n",
    "FT005 = FT005.groupby(['NIT_EPS', 'Tipoproveedor_corregido', 'Nitproveedor', 'Mes', 'Ano']).agg({'VPagado': 'sum','VCausado': 'sum'}).reset_index()"
   ]
  },
  {
   "cell_type": "code",
   "execution_count": null,
   "metadata": {},
   "outputs": [],
   "source": [
    "# # Se carga la base de datos webgironoupc para pegarla con el FT005\n",
    "# webgironoupc = pd.read_excel('C:/Users/Miguel Angel/Documents/Supersalud/Pagos_EPS_Proveedores/GD_UPC_CC_PW_2020_ENEMAR2021_V2.xlsx', dtype={'NIT_EPS':object, 'Nitproveedor': object, 'Mes':object, 'Ano':object}) \n",
    "# # Se convierte la variable en mes y año\n",
    "# webgironoupc[['Ano', 'Mes']] = webgironoupc[['Ano', 'Mes']].astype(float).astype(int).astype(str)\n",
    "# # Se unen las dos bases de datos para obtener la información de webgironoupc (Giro Directo - No_UPC - Compra de Cartera) y FT005 en una sola base de datos\n",
    "# FT005_web= pd.merge(FT005_V3, webgironoupc, how='outer', left_on=['NIT_EPS', 'Nitproveedor', 'Mes', 'Ano'], right_on=['NIT_EPS', 'Nitproveedor', 'Mes', 'Ano'])"
   ]
  },
  {
   "cell_type": "code",
   "execution_count": null,
   "metadata": {},
   "outputs": [],
   "source": [
    "# Se eliminan la bases que no se necesitan para liberar espacio en la memoria\n",
    "del [duplicadosFT005]"
   ]
  },
  {
   "cell_type": "code",
   "execution_count": null,
   "metadata": {},
   "outputs": [],
   "source": [
    "# Se carga la base de datos prestadores.dta para su posterior pega\n",
    "prestadores = pd.read_stata('C:/Users/Miguel Angel/Documents/Supersalud/Pagos_EPS_Proveedores/prestadores.dta')"
   ]
  },
  {
   "cell_type": "code",
   "execution_count": null,
   "metadata": {},
   "outputs": [],
   "source": [
    "# Se reemplazan los nombres de las columnas para facilitar el tratamiento\n",
    "prestadores.rename(columns={'nitproveedor': 'Nitproveedor', 'departamento': 'Departamento'}, inplace=True)"
   ]
  },
  {
   "cell_type": "code",
   "execution_count": null,
   "metadata": {},
   "outputs": [],
   "source": [
    "# Se comprueba que no haya duplicados cuando se filtra por Nitproveedor. Para esto se cuenta el número de duplicados\n",
    "duplicados_prestadores = prestadores[prestadores.duplicated(['Nitproveedor'], keep='last')]\n",
    "print(\"El número de registros duplicados es:\", duplicados_prestadores.Nitproveedor.count(), sep='\\n')"
   ]
  },
  {
   "cell_type": "code",
   "execution_count": null,
   "metadata": {},
   "outputs": [],
   "source": [
    "# Se unen las dos bases de datos para obtener la información de FT005 con webgironoupc (Giro Directo - No_UPC - Compra de Cartera) y prestadores\n",
    "FT005= pd.merge(FT005, prestadores, how='left', left_on=['Nitproveedor'], right_on=['Nitproveedor'])"
   ]
  },
  {
   "cell_type": "code",
   "execution_count": null,
   "metadata": {},
   "outputs": [],
   "source": [
    "# Se carga la base de datos operadores.dta para su posterior pega\n",
    "operadores = pd.read_stata('C:/Users/Miguel Angel/Documents/Supersalud/Pagos_EPS_Proveedores/operadores.dta')"
   ]
  },
  {
   "cell_type": "code",
   "execution_count": null,
   "metadata": {},
   "outputs": [],
   "source": [
    "# Se reemplazan los nombres de las columnas para facilitar el tratamiento\n",
    "operadores.rename(columns={'nitproveedor': 'Nitproveedor', 'razonsocial': 'Razonsocial'}, inplace=True)"
   ]
  },
  {
   "cell_type": "code",
   "execution_count": null,
   "metadata": {},
   "outputs": [],
   "source": [
    "# Se comprueba que no haya duplicados cuando se filtra por Nitproveedor. Para esto se cuenta el número de duplicados\n",
    "duplicados_operadores = operadores[operadores.duplicated(['Nitproveedor'], keep='last')]\n",
    "print(\"El número de registros duplicados es:\", duplicados_operadores.Nitproveedor.count(), sep='\\n')"
   ]
  },
  {
   "cell_type": "code",
   "execution_count": null,
   "metadata": {},
   "outputs": [],
   "source": [
    "# Se unen las dos bases de datos para obtener la información de FT005 con webgironoupc (Giro Directo - No_UPC - Compra de Cartera) y prestadores\n",
    "FT005= pd.merge(FT005, operadores, how='left', left_on=['Nitproveedor'], right_on=['Nitproveedor'])"
   ]
  },
  {
   "cell_type": "code",
   "execution_count": null,
   "metadata": {},
   "outputs": [],
   "source": [
    "# Se reemplazan los nombres de las columnas para facilitar el tratamiento\n",
    "FT005.rename(columns={'Tipoproveedor_corregido': 'Tipoproveedor'}, inplace=True)"
   ]
  },
  {
   "cell_type": "code",
   "execution_count": null,
   "metadata": {},
   "outputs": [],
   "source": [
    "# Se eliminan la bases que no se necesitan para liberar espacio en la memoria\n",
    "del [operadores, duplicados_operadores, prestadores, duplicados_prestadores]"
   ]
  },
  {
   "cell_type": "code",
   "execution_count": null,
   "metadata": {},
   "outputs": [],
   "source": [
    "# Se crea la columna noID tomando como referencia la columna clpr_nombre\n",
    "FT005['noID'] = FT005['clpr_nombre'] "
   ]
  },
  {
   "cell_type": "code",
   "execution_count": null,
   "metadata": {},
   "outputs": [],
   "source": [
    "# Se establecen las condiciones para establecer correctamente el noID\n",
    "\n",
    "FT005.loc[(FT005['NIT_EPS'] == FT005['Nitproveedor']), # Se reemplaza por EPS todo aquel proveedor que sea una EPS\n",
    "       'noID'] = 'EPS'\n",
    "\n",
    "FT005.loc[(FT005['Nitproveedor'] == '\"901037916\"') | # Se reemplazan los NIT de la nación\n",
    "       (FT005['Nitproveedor'] == \"900047282\") |\n",
    "       (FT005['Nitproveedor'] == \"899999014\") |\n",
    "       (FT005['Nitproveedor'] == \"900474727\") |\n",
    "       (FT005['Nitproveedor'] == \"900462447\"),  \n",
    "       'noID'] = 'Nacion' \n",
    "\n",
    "FT005.loc[FT005['noID'].isnull(), 'noID'] = 'Otro' # Para rellenar los vacios con \"Otro\"\n",
    "\n",
    "FT005.loc[(FT005['clpr_nombre'] == 'IPS') & # Para corregir el IPS cuando Tipo es vacío, por IPS-OL-DM-GIM\n",
    "       (FT005['tipo'].notnull()), \n",
    "       'noID'] = 'IPS-OL-DM-GIM'\n",
    "\n",
    "FT005.loc[(FT005['tipo'].notnull()) & # Para dejar el Tipo cuando se tiene OSD u Otro\n",
    "       ((FT005['noID'] == 'OSD') |\n",
    "       (FT005['noID'] == 'Otro')), \n",
    "       'noID'] = FT005['tipo']\n",
    "\n",
    "FT005.loc[(FT005['noID'] == 'Otro') & # Para cambiar el noID por Persona Natural si en Tipo Proveedor se tiene CC y CE\n",
    "       ((FT005['Tipoproveedor'] == 'CC') |\n",
    "       (FT005['Tipoproveedor'] == 'CE')), \n",
    "       'noID'] = 'Persona Natural'\n",
    "\n",
    "FT005.loc[(FT005['Departamento'].isnull()) & # Para asignar \"Otro\" al departamento si está vacío y si es una IPS o IPS Pública\n",
    "       ((FT005['noID'] == 'IPS Pública') |\n",
    "       (FT005['noID'] == 'IPS')), \n",
    "       'Departamento'] = 'Otro'"
   ]
  },
  {
   "cell_type": "code",
   "execution_count": null,
   "metadata": {},
   "outputs": [],
   "source": [
    "# Se convierte la variable en mes y año\n",
    "FT005[['Ano', 'Mes']] = FT005[['Ano', 'Mes']].astype(float).astype(int)"
   ]
  },
  {
   "cell_type": "code",
   "execution_count": null,
   "metadata": {},
   "outputs": [],
   "source": [
    "# Se agrega la información por NIT_EPS, Nitproveedor, noID, Departamento, Ano, Mes para las variables VPagado, VCausado, PW, Giro, No_UPC, Compra_Cartera\n",
    "FT005 = FT005.groupby(['NIT_EPS', 'Nitproveedor', 'noID', 'Departamento', 'Ano', 'Mes'])[['VPagado', 'VCausado']].sum().reset_index()"
   ]
  },
  {
   "cell_type": "code",
   "execution_count": null,
   "metadata": {},
   "outputs": [],
   "source": [
    "# Se crea el rango de meses necesarios en cada mes\n",
    "fecha_ideal=range(1, 12 + 1)\n",
    "# Se rellena con ceros la información para los meses faltantes\n",
    "FT005 = FT005.set_index('Mes').groupby(['NIT_EPS', 'Nitproveedor', 'noID', 'Departamento', 'Ano']).apply(lambda x: x.reindex(index=fecha_ideal, fill_value=0)).drop(['NIT_EPS', 'Nitproveedor', 'noID', 'Departamento', 'Ano'], 1)"
   ]
  },
  {
   "cell_type": "code",
   "execution_count": null,
   "metadata": {},
   "outputs": [],
   "source": [
    "# Se calcula la diferencia mensual para conocer el valor mensual de cada cuenta ya que por defecto vienen agregadas\n",
    "FT005_dif = FT005.groupby(['NIT_EPS', 'Nitproveedor', 'noID', 'Departamento', 'Ano']).diff().fillna(0)"
   ]
  },
  {
   "cell_type": "code",
   "execution_count": null,
   "metadata": {},
   "outputs": [],
   "source": [
    "FT005_dif = FT005_dif.reset_index()\n",
    "FT005 = FT005.reset_index()"
   ]
  },
  {
   "cell_type": "code",
   "execution_count": null,
   "metadata": {},
   "outputs": [],
   "source": [
    "FT005_dif.loc[FT005_dif['Mes'] == 1] = FT005"
   ]
  },
  {
   "cell_type": "code",
   "execution_count": null,
   "metadata": {},
   "outputs": [],
   "source": [
    "# Se reemplazan los nombres de las columnas para facilitar el tratamiento\n",
    "FT005_dif.rename(columns={'VPagado': 'pagomes', 'VCausado': 'causmes'}, inplace=True)"
   ]
  },
  {
   "cell_type": "code",
   "execution_count": null,
   "metadata": {},
   "outputs": [],
   "source": [
    "# Se eliminan las columnas que no son de interés\n",
    "# FT005_web_pres_ope_dif = FT005_web_pres_ope_dif.drop(['PW', 'Giro', 'No_UPC', 'Compra_Cartera'], axis=1)"
   ]
  },
  {
   "cell_type": "code",
   "execution_count": null,
   "metadata": {},
   "outputs": [],
   "source": [
    "# # Se unen las dos bases de datos para obtener la información de webgironoupc (Giro Directo - No_UPC - Compra de Cartera) y FT005 en una sola base de datos. Desagregando el valor de VCausado y el VPagado para cada mes\n",
    "# FT005_V2 = pd.merge(FT005, FT005_dif, how='left', left_on=['NIT_EPS', 'Nitproveedor', 'noID', 'Departamento', 'Ano', 'Mes'], right_on=['NIT_EPS', 'Nitproveedor', 'noID', 'Departamento', 'Ano', 'Mes'])"
   ]
  },
  {
   "cell_type": "code",
   "execution_count": null,
   "metadata": {},
   "outputs": [],
   "source": [
    "# # Se encuentran las observaciones que cumplen las condiciones\n",
    "# df_filtered = FT005[\n",
    "#     (FT005['VPagado'] == 0) & (FT005['VCausado'] == 0)\n",
    "#     ].index\n",
    "# # Se eliminan las observaciones que cumplen las condiciones anteriore\n",
    "# FT005 = FT005.drop(df_filtered)"
   ]
  },
  {
   "cell_type": "code",
   "execution_count": null,
   "metadata": {},
   "outputs": [],
   "source": [
    "# Se carga la base de datos webgironoupc para pegarla con el FT005\n",
    "webgironoupc = pd.read_excel('C:/Users/Miguel Angel/Documents/Supersalud/Pagos_EPS_Proveedores/GD_UPC_CC_PW_2020_ENEMAR2021_V2.xlsx', dtype={'NIT_EPS':object, 'Nitproveedor': object, 'Mes':object, 'Ano':object}) "
   ]
  },
  {
   "cell_type": "code",
   "execution_count": null,
   "metadata": {},
   "outputs": [],
   "source": [
    "# Se separa la fecha para facilitar el análisis\n",
    "webgironoupc[['Nitproveedor_2','otro']] =  webgironoupc.Nitproveedor.str.split('.', n=1, expand=True)"
   ]
  },
  {
   "cell_type": "code",
   "execution_count": null,
   "metadata": {},
   "outputs": [],
   "source": [
    "# Se separa la fecha para facilitar el análisis\n",
    "webgironoupc[['Nitproveedor']] = webgironoupc[['Nitproveedor_2']]"
   ]
  },
  {
   "cell_type": "code",
   "execution_count": null,
   "metadata": {},
   "outputs": [],
   "source": [
    "# Se eliminan las columnas que no son de interés\n",
    "webgironoupc = webgironoupc.drop(['Nitproveedor_2','otro'], axis=1)"
   ]
  },
  {
   "cell_type": "code",
   "execution_count": null,
   "metadata": {},
   "outputs": [],
   "source": [
    "webgironoupc.head(2)"
   ]
  },
  {
   "cell_type": "code",
   "execution_count": null,
   "metadata": {},
   "outputs": [],
   "source": [
    "# Se convierte la variable en mes y año\n",
    "webgironoupc[['Ano', 'Mes']] = webgironoupc[['Ano', 'Mes']].astype(float).astype(int)"
   ]
  },
  {
   "cell_type": "code",
   "execution_count": null,
   "metadata": {},
   "outputs": [],
   "source": [
    "# Se unen las dos bases de datos para obtener la información de webgironoupc (Giro Directo - No_UPC - Compra de Cartera) y FT005 en una sola base de datos\n",
    "FT005 = pd.merge(FT005_dif, webgironoupc, how='outer', left_on=['NIT_EPS', 'Nitproveedor', 'Mes', 'Ano'], right_on=['NIT_EPS', 'Nitproveedor', 'Mes', 'Ano'])"
   ]
  },
  {
   "cell_type": "code",
   "execution_count": null,
   "metadata": {},
   "outputs": [],
   "source": [
    "# Para renombrar las columnas de interés\n",
    "FT005.rename(columns={'NIT_EPS': 'nit_eps', 'Nitproveedor': 'nitproveedor', 'Departamento': 'departamento', 'Ano': 'ano', 'Mes': 'mes', 'VPagado': 'vpagado', 'VCausado': 'vcausado', 'PW': 'pw', 'Giro': 'giro', 'No_UPC': 'no_upc', 'Compra_Cartera': 'compra_cartera'}, inplace=True)"
   ]
  },
  {
   "cell_type": "code",
   "execution_count": null,
   "metadata": {},
   "outputs": [],
   "source": [
    "# Para guardar la base de datos lista para ser tratada en formato Excel y CSV\n",
    "# FT005.to_excel(r'C:/Users/Miguel Angel/Documents/Supersalud/Pagos_EPS_Proveedores/CausaPrestador_2020_2021.xlsx', index = False)\n",
    "FT005.to_csv(r'C:/Users/Miguel Angel/Documents/Supersalud/Pagos_EPS_Proveedores/CausaPrestador_2020_2021.csv', index = False, encoding='utf-8-sig')"
   ]
  },
  {
   "cell_type": "code",
   "execution_count": null,
   "metadata": {},
   "outputs": [],
   "source": [
    "# Se eliminan la bases que no se necesitan para liberar espacio en la memoria\n",
    "del [FT005, FT005_dif, fecha_ideal, webgironoupc]"
   ]
  },
  {
   "source": [
    "<h2>FT003</h2>\n",
    "<p> En este apartado se trata la base de datos FT003 </p>"
   ],
   "cell_type": "markdown",
   "metadata": {}
  },
  {
   "cell_type": "code",
   "execution_count": null,
   "metadata": {},
   "outputs": [],
   "source": [
    "#Cargamos los paquetes que vamos a necesitar\n",
    "import pandas as pd\n",
    "import numpy as np\n",
    "import pyreadstat\n",
    "pd.pandas.set_option('display.max_columns', None)"
   ]
  },
  {
   "cell_type": "code",
   "execution_count": null,
   "metadata": {},
   "outputs": [],
   "source": [
    "# Se carga el FT003 para 2020 y 2021 completo desde el archivo .dta\n",
    "FT003_2021_2021 = pd.read_stata('C:/Users/Miguel Angel/Documents/Supersalud/Pagos_EPS_Proveedores/Informe_Pagos/FT003 20202021.dta')"
   ]
  },
  {
   "cell_type": "code",
   "execution_count": null,
   "metadata": {},
   "outputs": [],
   "source": [
    "# Se carga el FT003 para diciembre de 2019 desde el archivo .dta\n",
    "FT003_2019 = pd.read_stata('C:/Users/Miguel Angel/Documents/Supersalud/Pagos_EPS_Proveedores/Informe_Pagos/FT003 122019.dta')"
   ]
  },
  {
   "cell_type": "code",
   "execution_count": null,
   "metadata": {},
   "outputs": [],
   "source": [
    "# Se concatenan la bases de datos \n",
    "frames = [FT003_2021_2021, FT003_2019]\n",
    "FT003 = pd.concat(frames, ignore_index=True)"
   ]
  },
  {
   "cell_type": "code",
   "execution_count": null,
   "metadata": {},
   "outputs": [],
   "source": [
    "# Se eliminan la bases que no se necesitan para liberar espacio en la memoria\n",
    "del [FT003_2021_2021, FT003_2019, frames]"
   ]
  },
  {
   "cell_type": "code",
   "execution_count": null,
   "metadata": {},
   "outputs": [],
   "source": [
    "# Se reemplazan los nombres de las columnas para facilitar el tratamiento\n",
    "FT003.rename(columns={'Nit': 'nit_eps', 'Año': 'ano', 'Periodo': 'mes', 'lineaNegocio': 'linea','tipoIdDeudor': 'tipoiddeudor', 'idDeudor': 'nitproveedor', 'conceptoDeudores': 'concepto', 'tipoDeuda': 'tipodeuda', 'medicionPosterior': 'medicion', 'cxcPendientesRadicar': 'cxcsinradicar','cxcNoVencidas': 'cxcnovencidas', 'cxcMora30Dias': 'cxc30', 'cxcMora60Dias': 'cxc60', 'cxcMora90Dias': 'cxc90','cxcMora180Dias': 'cxc180', 'cxcMora360Dias': 'cxc360', 'cxcMoraMayor360Dias': 'cxcmayor360'}, inplace=True)"
   ]
  },
  {
   "cell_type": "code",
   "execution_count": null,
   "metadata": {},
   "outputs": [],
   "source": [
    "# Se transforman los datos para su correcta identificación\n",
    "FT003[['nit_eps', 'RazonSocial', 'ano', 'mes', 'linea', 'tipoiddeudor',\n",
    "       'nitproveedor', 'dvDeudor', 'nombreDeudor', 'codigoMunicipio',\n",
    "       'concepto', 'tipodeuda', 'medicion']] = FT003[['nit_eps', 'RazonSocial', 'ano', 'mes', 'linea', 'tipoiddeudor',\n",
    "       'nitproveedor', 'dvDeudor', 'nombreDeudor', 'codigoMunicipio',\n",
    "       'concepto', 'tipodeuda', 'medicion']].astype(str)\n",
    "\n",
    "FT003[['cxcsinradicar', 'cxcnovencidas',\n",
    "       'valorMercado', 'cxc30', 'cxc60', 'cxc90', 'cxc180', 'cxc360',\n",
    "       'cxcmayor360', 'deterioro30Dias', 'deterioro60Dias', 'deterioro90Dias',\n",
    "       'deterioro180Dias', 'deterioro360Dias', 'deterioroMayor360Dias',\n",
    "       'ajuste', 'saldo']] = FT003[['cxcsinradicar', 'cxcnovencidas',\n",
    "       'valorMercado', 'cxc30', 'cxc60', 'cxc90', 'cxc180', 'cxc360',\n",
    "       'cxcmayor360', 'deterioro30Dias', 'deterioro60Dias', 'deterioro90Dias',\n",
    "       'deterioro180Dias', 'deterioro360Dias', 'deterioroMayor360Dias',\n",
    "       'ajuste', 'saldo']].astype(float)"
   ]
  },
  {
   "cell_type": "code",
   "execution_count": null,
   "metadata": {},
   "outputs": [],
   "source": [
    "# Se filtra la línea de negocio de interés. En este caso corresponde a la línea 1\n",
    "FT003 = FT003.loc[FT003['linea'] == '1']"
   ]
  },
  {
   "cell_type": "code",
   "execution_count": null,
   "metadata": {},
   "outputs": [],
   "source": [
    "# Se crea la columna Cuentas por Cobrar (CXC) sumando las columnas cxcsinradicar, cxcnovencidas, cxc30, cxc60, cxc90, cxc180, cxc360 y cxcmayor360\n",
    "CXC = FT003['cxcsinradicar'] + FT003['cxcnovencidas'] + FT003['cxc30'] + FT003['cxc60'] + FT003['cxc90'] + FT003['cxc180'] + FT003['cxc360'] + FT003['cxcmayor360']\n",
    "FT003['CXC'] = CXC"
   ]
  },
  {
   "cell_type": "code",
   "execution_count": null,
   "metadata": {},
   "outputs": [],
   "source": [
    "FT003.info()"
   ]
  },
  {
   "cell_type": "code",
   "execution_count": null,
   "metadata": {},
   "outputs": [],
   "source": [
    "FT003.columns"
   ]
  },
  {
   "cell_type": "code",
   "execution_count": null,
   "metadata": {},
   "outputs": [],
   "source": [
    "FT003.head(2)"
   ]
  },
  {
   "cell_type": "code",
   "execution_count": null,
   "metadata": {},
   "outputs": [],
   "source": [
    "# Para hacer la suma de CXC por NIT EPS, tipo de proveedor, NIT proveedor, Mes y Año\n",
    "FT003 = FT003.groupby(['nit_eps', 'tipoiddeudor', 'nitproveedor', 'mes', 'ano']).agg({'CXC': 'sum'}).reset_index()"
   ]
  },
  {
   "cell_type": "code",
   "execution_count": null,
   "metadata": {},
   "outputs": [],
   "source": [
    "# Se comprueba que no haya duplicados cuando se filtra por NIT EPS, tipo de deudor, NIT proveedor, Mes y Año. Para esto se cuenta el número de duplicados\n",
    "duplicadosFT003 = FT003[FT003.duplicated(['nit_eps', 'tipoiddeudor', 'nitproveedor', 'mes', 'ano'], keep='last')]\n",
    "print(\"El número de registros duplicados es:\", duplicadosFT003.nit_eps.count(), sep='\\n')"
   ]
  },
  {
   "cell_type": "code",
   "execution_count": null,
   "metadata": {},
   "outputs": [],
   "source": [
    "# Se genera una nueva columna extrayendo el primer caracter del ID nitproveedor\n",
    "FT003['d1'] = FT003['nitproveedor'].str[:1]"
   ]
  },
  {
   "cell_type": "code",
   "execution_count": null,
   "metadata": {},
   "outputs": [],
   "source": [
    "# Se genera una nueva columna con la cuenta del numero de componentes que tiene el ID nitproveedor\n",
    "FT003['largo'] = FT003.nitproveedor.str.len()"
   ]
  },
  {
   "cell_type": "code",
   "execution_count": null,
   "metadata": {},
   "outputs": [],
   "source": [
    "# Se limpia la clasificación por Tipo de deudor\n",
    "FT003['tipoiddeudor_corregido'] = FT003['tipoiddeudor'] # Se crea la columna con categoria NA como base\n",
    "# Condiciones\n",
    "FT003.loc[\n",
    "       (FT003['tipoiddeudor_corregido'] == 'NA') &\n",
    "       (FT003['largo'] == 10) & # Para signar el tipo de deudor CC\n",
    "       (FT003['d1'] == '1'), \n",
    "       'tipoiddeudor_corregido'] = 'CC' \n",
    "FT003.loc[(FT003['tipoiddeudor_corregido'] == 'NA') &\n",
    "       (FT003['largo'] == 9) & # Para signar el tipo de deudor NI\n",
    "       ((FT003['d1'] == '7') |\n",
    "       (FT003['d1'] == '8') |\n",
    "       (FT003['d1'] == '9')),  \n",
    "       'tipoiddeudor_corregido'] = 'NI' \n",
    "FT003.loc[(FT003['tipoiddeudor_corregido'] == 'NA') &\n",
    "       (FT003['tipoiddeudor_corregido'] != 'NI'), # Para completar el tipo de deudor CC\n",
    "       'tipoiddeudor_corregido'] = 'CC' "
   ]
  },
  {
   "cell_type": "code",
   "execution_count": null,
   "metadata": {},
   "outputs": [],
   "source": [
    "# Para conocer las diferencias entre las correciones\n",
    "print(FT003.tipoiddeudor.value_counts())\n",
    "print(FT003.tipoiddeudor_corregido.value_counts())"
   ]
  },
  {
   "cell_type": "code",
   "execution_count": null,
   "metadata": {},
   "outputs": [],
   "source": [
    "# Para hacer la suma de CXC por NIT EPS, tipo de deudor corregido, NIT proveedor, Mes y Año\n",
    "FT003 = FT003.groupby(['nit_eps', 'tipoiddeudor', 'nitproveedor', 'mes', 'ano']).agg({'CXC': 'sum'}).reset_index()"
   ]
  },
  {
   "cell_type": "code",
   "execution_count": null,
   "metadata": {},
   "outputs": [],
   "source": [
    "# Se carga la base de datos prestadores.dta para su posterior pega\n",
    "prestadores = pd.read_stata('C:/Users/Miguel Angel/Documents/Supersalud/Pagos_EPS_Proveedores/prestadores.dta')"
   ]
  },
  {
   "cell_type": "code",
   "execution_count": null,
   "metadata": {},
   "outputs": [],
   "source": [
    "# Se comprueba que no haya duplicados cuando se filtra por Nitproveedor. Para esto se cuenta el número de duplicados\n",
    "duplicados_prestadores = prestadores[prestadores.duplicated(['nitproveedor'], keep='last')]\n",
    "print(\"El número de registros duplicados es:\", duplicados_prestadores.nitproveedor.count(), sep='\\n')"
   ]
  },
  {
   "cell_type": "code",
   "execution_count": null,
   "metadata": {},
   "outputs": [],
   "source": [
    "# Se unen las dos bases de datos para obtener la información de FT005 con webgironoupc (Giro Directo - No_UPC - Compra de Cartera) y prestadores\n",
    "FT003_pres= pd.merge(FT003, prestadores, how='left', left_on=['nitproveedor'], right_on=['nitproveedor'])"
   ]
  },
  {
   "cell_type": "code",
   "execution_count": null,
   "metadata": {},
   "outputs": [],
   "source": [
    "# Se carga la base de datos operadores.dta para su posterior pega\n",
    "operadores = pd.read_stata('C:/Users/Miguel Angel/Documents/Supersalud/Pagos_EPS_Proveedores/operadores.dta')"
   ]
  },
  {
   "cell_type": "code",
   "execution_count": null,
   "metadata": {},
   "outputs": [],
   "source": [
    "# Se comprueba que no haya duplicados cuando se filtra por Nitproveedor. Para esto se cuenta el número de duplicados\n",
    "duplicados_operadores = operadores[operadores.duplicated(['nitproveedor'], keep='last')]\n",
    "print(\"El número de registros duplicados es:\", duplicados_operadores.nitproveedor.count(), sep='\\n')"
   ]
  },
  {
   "cell_type": "code",
   "execution_count": null,
   "metadata": {},
   "outputs": [],
   "source": [
    "# Se unen las dos bases de datos para obtener la información de FT005 con webgironoupc (Giro Directo - No_UPC - Compra de Cartera) y prestadores\n",
    "FT003_pres_ope= pd.merge(FT003_pres, operadores, how='left', left_on=['nitproveedor'], right_on=['nitproveedor'])"
   ]
  },
  {
   "cell_type": "code",
   "execution_count": null,
   "metadata": {},
   "outputs": [],
   "source": [
    "# Se reemplazan los nombres de las columnas para facilitar el tratamiento\n",
    "FT003_pres_ope.rename(columns={'tipoiddeudor_corregido': 'tipoiddeudor'}, inplace=True)"
   ]
  },
  {
   "cell_type": "code",
   "execution_count": null,
   "metadata": {},
   "outputs": [],
   "source": [
    "# Se eliminan la bases que no se necesitan para liberar espacio en la memoria\n",
    "del [FT003, FT003_pres, operadores, duplicados_operadores, prestadores, duplicados_prestadores, duplicadosFT003, CXC]"
   ]
  },
  {
   "cell_type": "code",
   "execution_count": null,
   "metadata": {},
   "outputs": [],
   "source": [
    "# Se crea la columna noID tomando como referencia la columna clpr_nombre\n",
    "FT003_pres_ope['noID'] = FT003_pres_ope['clpr_nombre'] "
   ]
  },
  {
   "cell_type": "code",
   "execution_count": null,
   "metadata": {},
   "outputs": [],
   "source": [
    "# Se establecen las condiciones para establecer correctamente el noID\n",
    "\n",
    "FT003_pres_ope.loc[(FT003_pres_ope['nit_eps'] == FT003_pres_ope['nitproveedor']), # Se reemplaza por EPS todo aquel proveedor que sea una EPS\n",
    "       'noID'] = 'EPS'\n",
    "\n",
    "FT003_pres_ope.loc[(FT003_pres_ope['nitproveedor'] == '\"901037916\"') | # Se reemplazan los NIT de la nación\n",
    "       (FT003_pres_ope['nitproveedor'] == \"900047282\") |\n",
    "       (FT003_pres_ope['nitproveedor'] == \"899999014\") |\n",
    "       (FT003_pres_ope['nitproveedor'] == \"900474727\") |\n",
    "       (FT003_pres_ope['nitproveedor'] == \"900462447\"),  \n",
    "       'noID'] = 'Nacion' \n",
    "\n",
    "FT003_pres_ope.loc[FT003_pres_ope['noID'].isnull(), 'noID'] = 'Otro' # Para rellenar los vacios con \"Otro\"\n",
    "\n",
    "FT003_pres_ope.loc[(FT003_pres_ope['clpr_nombre'] == 'IPS') & # Para corregir el IPS cuando Tipo es vacío, por IPS-OL-DM-GIM\n",
    "       (FT003_pres_ope['tipo'].notnull()), \n",
    "       'noID'] = 'IPS-OL-DM-GIM'\n",
    "\n",
    "FT003_pres_ope.loc[(FT003_pres_ope['tipo'].notnull()) & # Para dejar el Tipo cuando se tiene OSD u Otro\n",
    "       ((FT003_pres_ope['noID'] == 'OSD') |\n",
    "       (FT003_pres_ope['noID'] == 'Otro')), \n",
    "       'noID'] = FT003_pres_ope['tipo']\n",
    "\n",
    "FT003_pres_ope.loc[(FT003_pres_ope['noID'] == 'Otro') & # Para cambiar el noID por Persona Natural si en Tipo Proveedor se tiene CC y CE\n",
    "       ((FT003_pres_ope['tipoiddeudor'] == 'CC') |\n",
    "       (FT003_pres_ope['tipoiddeudor'] == 'CE')), \n",
    "       'noID'] = 'Persona Natural'\n",
    "\n",
    "FT003_pres_ope.loc[(FT003_pres_ope['departamento'].isnull()) & # Para asignar \"Otro\" al departamento si está vacío y si es una IPS o IPS Pública\n",
    "       ((FT003_pres_ope['noID'] == 'IPS Pública') |\n",
    "       (FT003_pres_ope['noID'] == 'IPS')), \n",
    "       'departamento'] = 'Otro'"
   ]
  },
  {
   "cell_type": "code",
   "execution_count": null,
   "metadata": {},
   "outputs": [],
   "source": [
    "# Se convierte la variable en mes y año\n",
    "FT003_pres_ope[['ano', 'mes']] = FT003_pres_ope[['ano', 'mes']].astype(float).astype(int)"
   ]
  },
  {
   "cell_type": "code",
   "execution_count": null,
   "metadata": {},
   "outputs": [],
   "source": [
    "# Se agrega la información por NIT_EPS, Nitproveedor, noID, Departamento, Ano, Mes para las variables VPagado, VCausado, PW, Giro, No_UPC, Compra_Cartera\n",
    "FT003_pres_ope = FT003_pres_ope.groupby(['nit_eps', 'nitproveedor', 'noID', 'departamento', 'ano', 'mes'])[['CXC']].sum().reset_index()"
   ]
  },
  {
   "cell_type": "code",
   "execution_count": null,
   "metadata": {},
   "outputs": [],
   "source": [
    "# Se crea el rango de meses necesarios en cada mes\n",
    "fecha_ideal=range(1, 12 + 1)\n",
    "# Se rellena con ceros la información para los meses faltantes\n",
    "FT003_pres_ope = FT003_pres_ope.set_index('mes').groupby(['nit_eps', 'nitproveedor', 'noID', 'departamento', 'ano']).apply(lambda x: x.reindex(index=fecha_ideal, fill_value=0)).drop(['nit_eps', 'nitproveedor', 'noID', 'departamento', 'ano'], 1)"
   ]
  },
  {
   "cell_type": "code",
   "execution_count": null,
   "metadata": {},
   "outputs": [],
   "source": [
    "# Se desagrupa la información\n",
    "FT003_pres_ope = FT003_pres_ope.reset_index()"
   ]
  },
  {
   "cell_type": "code",
   "execution_count": null,
   "metadata": {},
   "outputs": [],
   "source": [
    "# Se encuentran las observaciones que cumplen las condiciones\n",
    "df_filtered = FT003_pres_ope[\n",
    "    (FT003_pres_ope['ano'] == 2019) & (FT003_pres_ope['mes'] == 1) |\n",
    "    (FT003_pres_ope['ano'] == 2019) & (FT003_pres_ope['mes'] == 2) |\n",
    "    (FT003_pres_ope['ano'] == 2019) & (FT003_pres_ope['mes'] == 3) |\n",
    "    (FT003_pres_ope['ano'] == 2019) & (FT003_pres_ope['mes'] == 4) |\n",
    "    (FT003_pres_ope['ano'] == 2019) & (FT003_pres_ope['mes'] == 5) |\n",
    "    (FT003_pres_ope['ano'] == 2019) & (FT003_pres_ope['mes'] == 6) |\n",
    "    (FT003_pres_ope['ano'] == 2019) & (FT003_pres_ope['mes'] == 7) |\n",
    "    (FT003_pres_ope['ano'] == 2019) & (FT003_pres_ope['mes'] == 8) |\n",
    "    (FT003_pres_ope['ano'] == 2019) & (FT003_pres_ope['mes'] == 9) |\n",
    "    (FT003_pres_ope['ano'] == 2019) & (FT003_pres_ope['mes'] == 10) |\n",
    "    (FT003_pres_ope['ano'] == 2019) & (FT003_pres_ope['mes'] == 11)\n",
    "    ].index"
   ]
  },
  {
   "cell_type": "code",
   "execution_count": null,
   "metadata": {},
   "outputs": [],
   "source": [
    "# Se eliminan las observaciones que cumplen las condiciones anteriore\n",
    "FT003_pres_ope = FT003_pres_ope.drop(df_filtered)"
   ]
  },
  {
   "cell_type": "code",
   "execution_count": null,
   "metadata": {},
   "outputs": [],
   "source": [
    "FT003_pres_ope2 = FT003_pres_ope.set_index(['nit_eps', 'nitproveedor', 'noID', 'departamento', 'ano','mes'])"
   ]
  },
  {
   "cell_type": "code",
   "execution_count": null,
   "metadata": {},
   "outputs": [],
   "source": [
    "# Se calcula la diferencia mensual para conocer el valor mensual de cada cuenta ya que por defecto vienen agregadas\n",
    "FT003_pres_ope_dif = FT003_pres_ope2.diff().fillna(0)"
   ]
  },
  {
   "cell_type": "code",
   "execution_count": null,
   "metadata": {},
   "outputs": [],
   "source": [
    "FT003_pres_ope_dif = FT003_pres_ope_dif.reset_index()\n",
    "FT003_pres_ope = FT003_pres_ope2.reset_index()"
   ]
  },
  {
   "cell_type": "code",
   "execution_count": null,
   "metadata": {},
   "outputs": [],
   "source": [
    "# Se reemplazan los nombres de las columnas para facilitar el tratamiento\n",
    "FT003_pres_ope_dif.rename(columns={'CXC': 'DCXCmes'}, inplace=True)"
   ]
  },
  {
   "cell_type": "code",
   "execution_count": null,
   "metadata": {},
   "outputs": [],
   "source": [
    "# Se unen las dos bases de datos para obtener la información de webgironoupc (Giro Directo - No_UPC - Compra de Cartera) y FT005 en una sola base de datos. Desagregando el valor de VCausado y el VPagado para cada mes\n",
    "FT003_pres_ope= pd.merge(FT003_pres_ope, FT003_pres_ope_dif, how='outer', left_on=['nit_eps', 'nitproveedor', 'noID', 'departamento', 'ano', 'mes'], right_on=['nit_eps', 'nitproveedor', 'noID', 'departamento', 'ano', 'mes'])"
   ]
  },
  {
   "cell_type": "code",
   "execution_count": null,
   "metadata": {},
   "outputs": [],
   "source": [
    "# Se encuentran las observaciones que cumplen las condiciones\n",
    "df_filtered = FT003_pres_ope[\n",
    "    (FT003_pres_ope['ano'] == 2019)\n",
    "    ].index"
   ]
  },
  {
   "cell_type": "code",
   "execution_count": null,
   "metadata": {},
   "outputs": [],
   "source": [
    "# Se eliminan las observaciones que cumplen las condiciones anteriore\n",
    "FT003_pres_ope = FT003_pres_ope.drop(df_filtered)"
   ]
  },
  {
   "cell_type": "code",
   "execution_count": null,
   "metadata": {},
   "outputs": [],
   "source": [
    "# Para guardar la base de datos lista para ser tratada en formato Excel y CSV\n",
    "\n",
    "# Para guardar la base de datos lista para ser tratada en formato Excel y CSV\n",
    "FT003_pres_ope.to_excel(r'C:/Users/Miguel Angel/Documents/Supersalud/Pagos_EPS_Proveedores/cxcprestador_2020_2021.xlsx', index = False)\n",
    "FT003_pres_ope.to_csv(r'C:/Users/Miguel Angel/Documents/Supersalud/Pagos_EPS_Proveedores/cxcprestador_2020_2021.csv', index = False, encoding='utf-8-sig')"
   ]
  },
  {
   "cell_type": "code",
   "execution_count": null,
   "metadata": {},
   "outputs": [],
   "source": [
    "# Se eliminan la bases que no se necesitan para liberar espacio en la memoria\n",
    "del [FT003_pres_ope, FT003_pres_ope_dif, FT003_pres_ope2, df_filtered, fecha_ideal]"
   ]
  },
  {
   "source": [
    "<h2>FT004 - Cuentas por Pagar </h2>\n",
    "<p> En este apartado se trata la base de datos FT004 </p>"
   ],
   "cell_type": "markdown",
   "metadata": {}
  },
  {
   "cell_type": "code",
   "execution_count": null,
   "metadata": {},
   "outputs": [],
   "source": [
    "#Cargamos los paquetes que vamos a necesitar\n",
    "import pandas as pd\n",
    "import numpy as np\n",
    "import pyreadstat\n",
    "pd.pandas.set_option('display.max_columns', None)"
   ]
  },
  {
   "cell_type": "code",
   "execution_count": null,
   "metadata": {},
   "outputs": [],
   "source": [
    "# Se carga el FT005 completo desde el archivo .dta\n",
    "FT004_2021_2021 = pd.read_stata('C:/Users/Miguel Angel/Documents/Supersalud/Pagos_EPS_Proveedores/Informe_Pagos/FT004 20202021.dta')"
   ]
  },
  {
   "cell_type": "code",
   "execution_count": null,
   "metadata": {},
   "outputs": [],
   "source": [
    "# Se carga el FT004 para diciembre de 2019 desde el archivo .dta\n",
    "FT004_2019 = pd.read_stata('C:/Users/Miguel Angel/Documents/Supersalud/Pagos_EPS_Proveedores/Informe_Pagos/FT004 122019.dta')"
   ]
  },
  {
   "cell_type": "code",
   "execution_count": null,
   "metadata": {},
   "outputs": [],
   "source": [
    "# Se concatenan la bases de datos \n",
    "frames = [FT004_2021_2021, FT004_2019]\n",
    "FT004 = pd.concat(frames, ignore_index=True)"
   ]
  },
  {
   "cell_type": "code",
   "execution_count": null,
   "metadata": {},
   "outputs": [],
   "source": [
    "# Se eliminan la bases que no se necesitan para liberar espacio en la memoria\n",
    "del [FT004_2021_2021, FT004_2019, frames]"
   ]
  },
  {
   "cell_type": "code",
   "execution_count": null,
   "metadata": {},
   "outputs": [],
   "source": [
    "# Se reemplazan los nombres de las columnas para facilitar el tratamiento\n",
    "FT004.rename(columns={'Nit': 'nit_eps', 'Año': 'ano', 'Periodo': 'mes', 'lineaNegocio': 'linea','tipoIdAcreedor': 'tipoidacreedor', 'idAcreedor': 'nitproveedor', 'dvAcreedor': 'DVacreedor', 'conceptoAcreencia': 'concepto', 'cxpNoVencidas': 'cxpnovencidas', 'cxpMora30dias': 'cxp30','cxpMora60dias': 'cxp60', 'cxpMora90dias': 'cxp90', 'cxpMora180dias': 'cxp180', 'cxpMora360dias': 'cxp360','cxpMoraMayor360dias': 'cxpmayor360'}, inplace=True)"
   ]
  },
  {
   "cell_type": "code",
   "execution_count": null,
   "metadata": {},
   "outputs": [],
   "source": [
    "# Se transforman los datos para su correcta identificación\n",
    "FT004[['nit_eps', 'RazonSocial', 'ano', 'mes', 'linea', 'tipoidacreedor',\n",
    "       'nitproveedor', 'DVacreedor', 'nombreAcreedor', 'actividadAcreedor',\n",
    "       'concepto', 'medicionPosterior']] = FT004[['nit_eps', 'RazonSocial', 'ano', 'mes', 'linea', 'tipoidacreedor',\n",
    "       'nitproveedor', 'DVacreedor', 'nombreAcreedor', 'actividadAcreedor',\n",
    "       'concepto', 'medicionPosterior']].astype(str)\n",
    "\n",
    "FT004[['cxpnovencidas', 'cxp30', 'cxp60',\n",
    "       'cxp90', 'cxp180', 'cxp360', 'cxpmayor360', 'ajuste', 'saldo']] = FT004[['cxpnovencidas', 'cxp30', 'cxp60',\n",
    "       'cxp90', 'cxp180', 'cxp360', 'cxpmayor360', 'ajuste', 'saldo']].astype(float)"
   ]
  },
  {
   "cell_type": "code",
   "execution_count": null,
   "metadata": {},
   "outputs": [],
   "source": [
    "# Se filtra la línea de negocio de interés. En este caso corresponde a la línea 1\n",
    "FT004 = FT004.loc[FT004['linea'] == '1']"
   ]
  },
  {
   "cell_type": "code",
   "execution_count": null,
   "metadata": {},
   "outputs": [],
   "source": [
    "# Se crea la columna Cuentas por Pagar (CXP) sumando las columnas cxpnovencidas, cxp30, cxp60, cxp90, cxp180, cxp360 y cxpmayor360\n",
    "CXP = FT004['cxpnovencidas'] + FT004['cxp30'] + FT004['cxp60'] + FT004['cxp90'] + FT004['cxp180'] + FT004['cxp360'] + FT004['cxpmayor360']\n",
    "FT004['CXP'] = CXP"
   ]
  },
  {
   "cell_type": "code",
   "execution_count": null,
   "metadata": {},
   "outputs": [],
   "source": [
    "# Para hacer la suma de CXC por NIT EPS, tipo de proveedor, NIT proveedor, Mes y Año\n",
    "FT004 = FT004.groupby(['nit_eps', 'tipoidacreedor', 'nitproveedor', 'mes', 'ano']).agg({'CXP': 'sum'}).reset_index()"
   ]
  },
  {
   "cell_type": "code",
   "execution_count": null,
   "metadata": {},
   "outputs": [],
   "source": [
    "# Se comprueba que no haya duplicados cuando se filtra por NIT EPS, tipo de deudor, NIT proveedor, Mes y Año. Para esto se cuenta el número de duplicados\n",
    "duplicadosFT004 = FT004[FT004.duplicated(['nit_eps', 'tipoidacreedor', 'nitproveedor', 'mes', 'ano'], keep='last')]\n",
    "print(\"El número de registros duplicados es:\", duplicadosFT004.nit_eps.count(), sep='\\n')"
   ]
  },
  {
   "cell_type": "code",
   "execution_count": null,
   "metadata": {},
   "outputs": [],
   "source": [
    "# Se carga la base de datos cuenta2.dta para su posterior pega\n",
    "cuentas2 = pd.read_stata('C:/Users/Miguel Angel/Documents/Supersalud/Pagos_EPS_Proveedores/cuentas2.dta')"
   ]
  },
  {
   "cell_type": "code",
   "execution_count": null,
   "metadata": {},
   "outputs": [],
   "source": [
    "# Se tranforma el formato de las columnas del dataframe cuentas2\n",
    "cuentas2[['v2', 'nitproveedor']] = cuentas2[['v2', 'nitproveedor']].astype(str)"
   ]
  },
  {
   "cell_type": "code",
   "execution_count": null,
   "metadata": {},
   "outputs": [],
   "source": [
    "# Se comprueba que no haya duplicados cuando se filtra por Nitproveedor. Para esto se cuenta el número de duplicados\n",
    "duplicados_cuentas2 = cuentas2[cuentas2.duplicated(['nitproveedor'], keep='last')]\n",
    "print(\"El número de registros duplicados es:\", duplicados_cuentas2.nitproveedor.count(), sep='\\n')"
   ]
  },
  {
   "cell_type": "code",
   "execution_count": null,
   "metadata": {},
   "outputs": [],
   "source": [
    "# Se unen las dos bases de datos para obtener la información de FT004 con cuenta2\n",
    "FT004= pd.merge(FT004, cuentas2, how='left', left_on=['nitproveedor'], right_on=['nitproveedor'])"
   ]
  },
  {
   "source": [
    "<p> Esto corresponde a la cuenta del pasivo cuanso se agregan las cuentas por pagar. Por tal motivo se elimna ya que no se pueden identificar los proveedores. </p>"
   ],
   "cell_type": "markdown",
   "metadata": {}
  },
  {
   "cell_type": "code",
   "execution_count": null,
   "metadata": {},
   "outputs": [],
   "source": [
    "# Se encuentran las observaciones que cumplen las condiciones\n",
    "df_filtered = FT004[(FT004['tipoidacreedor'] == 'OT') & (FT004['v2'] == 'cuenta')].index"
   ]
  },
  {
   "cell_type": "code",
   "execution_count": null,
   "metadata": {},
   "outputs": [],
   "source": [
    "# Se eliminan las observaciones que cumplen las condiciones anteriore\n",
    "FT004 = FT004.drop(df_filtered)"
   ]
  },
  {
   "cell_type": "code",
   "execution_count": null,
   "metadata": {},
   "outputs": [],
   "source": [
    "# Se genera una nueva columna extrayendo el primer caracter del ID nitproveedor\n",
    "FT004['d1'] = FT004['nitproveedor'].str[:1]"
   ]
  },
  {
   "cell_type": "code",
   "execution_count": null,
   "metadata": {},
   "outputs": [],
   "source": [
    "# Se genera una nueva columna con la cuenta del numero de componentes que tiene el ID nitproveedor\n",
    "FT004['largo'] = FT004.nitproveedor.str.len()"
   ]
  },
  {
   "cell_type": "code",
   "execution_count": null,
   "metadata": {},
   "outputs": [],
   "source": [
    "# Se limpia la clasificación por Tipo de acreedor\n",
    "FT004['tipoidacreedor_corregido'] = FT004['tipoidacreedor'] # Se crea la columna con categoria NA como base\n",
    "# Condiciones\n",
    "FT004.loc[\n",
    "       (FT004['tipoidacreedor_corregido'] == 'NA') &\n",
    "       (FT004['largo'] == 10) & # Para signar el tipo de acreedor CC\n",
    "       (FT004['d1'] == '1'), \n",
    "       'tipoidacreedor_corregido'] = 'CC' \n",
    "FT004.loc[(FT004['tipoidacreedor_corregido'] == 'NA') &\n",
    "       (FT004['largo'] == 9) & # Para signar el tipo de acreedor NI\n",
    "       ((FT004['d1'] == '7') |\n",
    "       (FT004['d1'] == '8') |\n",
    "       (FT004['d1'] == '9')),  \n",
    "       'tipoidacreedor_corregido'] = 'NI' \n",
    "FT004.loc[(FT004['tipoidacreedor_corregido'] == 'NA') &\n",
    "       (FT004['tipoidacreedor_corregido'] != 'NI'), # Para completar el tipo de acreedor CC\n",
    "       'tipoidacreedor_corregido'] = 'CC' "
   ]
  },
  {
   "cell_type": "code",
   "execution_count": null,
   "metadata": {},
   "outputs": [],
   "source": [
    "# Para conocer las diferencias entre las correciones\n",
    "print(FT004.tipoidacreedor.value_counts())\n",
    "print(FT004.tipoidacreedor_corregido.value_counts())"
   ]
  },
  {
   "cell_type": "code",
   "execution_count": null,
   "metadata": {},
   "outputs": [],
   "source": [
    "# Para hacer la suma de CXP por NIT EPS, tipo de acreedor corregido, NIT proveedor, Mes y Año\n",
    "FT004 = FT004.groupby(['nit_eps', 'tipoidacreedor_corregido', 'nitproveedor', 'mes', 'ano']).agg({'CXP': 'sum'}).reset_index()"
   ]
  },
  {
   "cell_type": "code",
   "execution_count": null,
   "metadata": {},
   "outputs": [],
   "source": [
    "# Se carga la base de datos prestadores.dta para su posterior pega\n",
    "prestadores = pd.read_stata('C:/Users/Miguel Angel/Documents/Supersalud/Pagos_EPS_Proveedores/prestadores.dta')"
   ]
  },
  {
   "cell_type": "code",
   "execution_count": null,
   "metadata": {},
   "outputs": [],
   "source": [
    "# Se comprueba que no haya duplicados cuando se filtra por Nitproveedor. Para esto se cuenta el número de duplicados\n",
    "duplicados_prestadores = prestadores[prestadores.duplicated(['nitproveedor'], keep='last')]\n",
    "print(\"El número de registros duplicados es:\", duplicados_prestadores.nitproveedor.count(), sep='\\n')"
   ]
  },
  {
   "cell_type": "code",
   "execution_count": null,
   "metadata": {},
   "outputs": [],
   "source": [
    "# Se unen las dos bases de datos para obtener la información de FT005 con webgironoupc (Giro Directo - No_UPC - Compra de Cartera) y prestadores\n",
    "FT004= pd.merge(FT004, prestadores, how='left', left_on=['nitproveedor'], right_on=['nitproveedor'])"
   ]
  },
  {
   "cell_type": "code",
   "execution_count": null,
   "metadata": {},
   "outputs": [],
   "source": [
    "# Se carga la base de datos operadores.dta para su posterior pega\n",
    "operadores = pd.read_stata('C:/Users/Miguel Angel/Documents/Supersalud/Pagos_EPS_Proveedores/operadores.dta')"
   ]
  },
  {
   "cell_type": "code",
   "execution_count": null,
   "metadata": {},
   "outputs": [],
   "source": [
    "# Se comprueba que no haya duplicados cuando se filtra por Nitproveedor. Para esto se cuenta el número de duplicados\n",
    "duplicados_operadores = operadores[operadores.duplicated(['nitproveedor'], keep='last')]\n",
    "print(\"El número de registros duplicados es:\", duplicados_operadores.nitproveedor.count(), sep='\\n')"
   ]
  },
  {
   "cell_type": "code",
   "execution_count": null,
   "metadata": {},
   "outputs": [],
   "source": [
    "# Se unen las dos bases de datos para obtener la información de FT005 con webgironoupc (Giro Directo - No_UPC - Compra de Cartera) y prestadores\n",
    "FT004= pd.merge(FT004, operadores, how='left', left_on=['nitproveedor'], right_on=['nitproveedor'])"
   ]
  },
  {
   "cell_type": "code",
   "execution_count": null,
   "metadata": {},
   "outputs": [],
   "source": [
    "# Se reemplazan los nombres de las columnas para facilitar el tratamiento\n",
    "FT004.rename(columns={'tipoidacreedor_corregido': 'tipoidacreedor'}, inplace=True)"
   ]
  },
  {
   "cell_type": "code",
   "execution_count": null,
   "metadata": {},
   "outputs": [],
   "source": [
    "# Se crea la columna noID tomando como referencia la columna clpr_nombre\n",
    "FT004['noID'] = FT004['clpr_nombre'] "
   ]
  },
  {
   "cell_type": "code",
   "execution_count": null,
   "metadata": {},
   "outputs": [],
   "source": [
    "# Se establecen las condiciones para establecer correctamente el noID\n",
    "\n",
    "FT004.loc[(FT004['nit_eps'] == FT004['nitproveedor']), # Se reemplaza por EPS todo aquel proveedor que sea una EPS\n",
    "       'noID'] = 'EPS'\n",
    "\n",
    "FT004.loc[(FT004['nitproveedor'] == '\"901037916\"') | # Se reemplazan los NIT de la nación\n",
    "       (FT004['nitproveedor'] == \"900047282\") |\n",
    "       (FT004['nitproveedor'] == \"899999014\") |\n",
    "       (FT004['nitproveedor'] == \"900474727\") |\n",
    "       (FT004['nitproveedor'] == \"900462447\"),  \n",
    "       'noID'] = 'Nacion' \n",
    "\n",
    "FT004.loc[FT004['noID'].isnull(), 'noID'] = 'Otro' # Para rellenar los vacios con \"Otro\"\n",
    "\n",
    "FT004.loc[(FT004['clpr_nombre'] == 'IPS') & # Para corregir el IPS cuando Tipo es vacío, por IPS-OL-DM-GIM\n",
    "       (FT004['tipo'].notnull()), \n",
    "       'noID'] = 'IPS-OL-DM-GIM'\n",
    "\n",
    "FT004.loc[(FT004['tipo'].notnull()) & # Para dejar el Tipo cuando se tiene OSD u Otro\n",
    "       ((FT004['noID'] == 'OSD') |\n",
    "       (FT004['noID'] == 'Otro')), \n",
    "       'noID'] = FT004['tipo']\n",
    "\n",
    "FT004.loc[(FT004['noID'] == 'Otro') & # Para cambiar el noID por Persona Natural si en Tipo Proveedor se tiene CC y CE\n",
    "       ((FT004['tipoidacreedor'] == 'CC') |\n",
    "       (FT004['tipoidacreedor'] == 'CE')), \n",
    "       'noID'] = 'Persona Natural'\n",
    "\n",
    "FT004.loc[(FT004['departamento'].isnull()) & # Para asignar \"Otro\" al departamento si está vacío y si es una IPS o IPS Pública\n",
    "       ((FT004['noID'] == 'IPS Pública') |\n",
    "       (FT004['noID'] == 'IPS')), \n",
    "       'departamento'] = 'Otro'"
   ]
  },
  {
   "cell_type": "code",
   "execution_count": null,
   "metadata": {},
   "outputs": [],
   "source": [
    "# Se convierte la variable en mes y año\n",
    "FT004[['ano', 'mes']] = FT004[['ano', 'mes']].astype(float).astype(int)"
   ]
  },
  {
   "cell_type": "code",
   "execution_count": null,
   "metadata": {},
   "outputs": [],
   "source": [
    "# Se agrega la información por NIT_EPS, Nitproveedor, noID, Departamento, Ano, Mes para las variables CXP\n",
    "FT004 = FT004.groupby(['nit_eps', 'nitproveedor', 'noID', 'departamento', 'ano', 'mes'])[['CXP']].sum().reset_index()"
   ]
  },
  {
   "cell_type": "code",
   "execution_count": null,
   "metadata": {},
   "outputs": [],
   "source": [
    "# Se crea el rango de meses necesarios en cada mes\n",
    "fecha_ideal=range(1, 12 + 1)\n",
    "# Se rellena con ceros la información para los meses faltantes\n",
    "FT004 = FT004.set_index('mes').groupby(['nit_eps', 'nitproveedor', 'noID', 'departamento', 'ano']).apply(lambda x: x.reindex(index=fecha_ideal, fill_value=0)).drop(['nit_eps', 'nitproveedor', 'noID', 'departamento', 'ano'], 1)"
   ]
  },
  {
   "cell_type": "code",
   "execution_count": null,
   "metadata": {},
   "outputs": [],
   "source": [
    "# Se desagrupa la información para su posterior filtro pues no nos interesa la información para 2019\n",
    "FT004 = FT004.reset_index()"
   ]
  },
  {
   "cell_type": "code",
   "execution_count": null,
   "metadata": {},
   "outputs": [],
   "source": [
    "# Se encuentran las observaciones que cumplen las condiciones\n",
    "df_filtered = FT004[\n",
    "    (FT004['ano'] == 2019) & (FT004['mes'] == 1) |\n",
    "    (FT004['ano'] == 2019) & (FT004['mes'] == 2) |\n",
    "    (FT004['ano'] == 2019) & (FT004['mes'] == 3) |\n",
    "    (FT004['ano'] == 2019) & (FT004['mes'] == 4) |\n",
    "    (FT004['ano'] == 2019) & (FT004['mes'] == 5) |\n",
    "    (FT004['ano'] == 2019) & (FT004['mes'] == 6) |\n",
    "    (FT004['ano'] == 2019) & (FT004['mes'] == 7) |\n",
    "    (FT004['ano'] == 2019) & (FT004['mes'] == 8) |\n",
    "    (FT004['ano'] == 2019) & (FT004['mes'] == 9) |\n",
    "    (FT004['ano'] == 2019) & (FT004['mes'] == 10) |\n",
    "    (FT004['ano'] == 2019) & (FT004['mes'] == 11)\n",
    "    ].index"
   ]
  },
  {
   "cell_type": "code",
   "execution_count": null,
   "metadata": {},
   "outputs": [],
   "source": [
    "# Se eliminan las observaciones que cumplen las condiciones anteriore\n",
    "FT004 = FT004.drop(df_filtered)"
   ]
  },
  {
   "cell_type": "code",
   "execution_count": null,
   "metadata": {},
   "outputs": [],
   "source": [
    "# Se agrupa la información para calcular su respectiva diferencia mensual por CXP\n",
    "FT004 = FT004.set_index(['nit_eps', 'nitproveedor', 'noID', 'departamento', 'ano','mes'])"
   ]
  },
  {
   "cell_type": "code",
   "execution_count": null,
   "metadata": {},
   "outputs": [],
   "source": [
    "# Se calcula la diferencia mensual para conocer el valor mensual de cada cuenta ya que por defecto vienen agregadas\n",
    "FT004_dif = FT004.diff().fillna(0)"
   ]
  },
  {
   "cell_type": "code",
   "execution_count": null,
   "metadata": {},
   "outputs": [],
   "source": [
    "# Se desagregan las bases de datos para su posterior unión\n",
    "FT004_dif = FT004_dif.reset_index()\n",
    "FT004 = FT004.reset_index()"
   ]
  },
  {
   "cell_type": "code",
   "execution_count": null,
   "metadata": {},
   "outputs": [],
   "source": [
    "# Se reemplazan los nombres de las columnas para facilitar el tratamiento\n",
    "FT004_dif.rename(columns={'CXP': 'DCXPmes'}, inplace=True)"
   ]
  },
  {
   "cell_type": "code",
   "execution_count": null,
   "metadata": {},
   "outputs": [],
   "source": [
    "# Se unen las dos bases de datos para obtener la información de webgironoupc (Giro Directo - No_UPC - Compra de Cartera) y FT005 en una sola base de datos. Desagregando el valor de VCausado y el VPagado para cada mes\n",
    "FT004_V2= pd.merge(FT004, FT004_dif, how='outer', left_on=['nit_eps', 'nitproveedor', 'noID', 'departamento', 'ano', 'mes'], right_on=['nit_eps', 'nitproveedor', 'noID', 'departamento', 'ano', 'mes'])"
   ]
  },
  {
   "cell_type": "code",
   "execution_count": null,
   "metadata": {},
   "outputs": [],
   "source": [
    "# Se encuentran las observaciones que cumplen las condiciones\n",
    "df_filtered = FT004_V2[\n",
    "    (FT004_V2['ano'] == 2019)\n",
    "    ].index"
   ]
  },
  {
   "cell_type": "code",
   "execution_count": null,
   "metadata": {},
   "outputs": [],
   "source": [
    "# Se eliminan las observaciones que cumplen las condiciones anteriore\n",
    "FT004_V2 = FT004_V2.drop(df_filtered)"
   ]
  },
  {
   "cell_type": "code",
   "execution_count": null,
   "metadata": {},
   "outputs": [],
   "source": [
    "# Para guardar la base de datos lista para ser tratada en formato Excel y CSV\n",
    "\n",
    "# FT004_V2.to_excel(r'C:/Users/Miguel Angel/Documents/Supersalud/Pagos_EPS_Proveedores/carteraprestador_2020_2021.xlsx', index = False)\n",
    "FT004_V2.to_csv(r'C:/Users/Miguel Angel/Documents/Supersalud/Pagos_EPS_Proveedores/carteraprestador_2020_2021.csv', index = False, encoding='utf-8-sig')"
   ]
  },
  {
   "cell_type": "code",
   "execution_count": null,
   "metadata": {},
   "outputs": [],
   "source": [
    "# Se eliminan la bases que no se necesitan para liberar espacio en la memoria\n",
    "del [FT004, FT004_V2, FT004_dif, cuentas2, df_filtered, duplicadosFT004, duplicados_cuentas2, duplicados_operadores, duplicados_prestadores, fecha_ideal, operadores, prestadores, CXP]"
   ]
  },
  {
   "source": [
    "<h2>FT006 - Inversiones Depositos a la vista </h2>\n",
    "<p> En este apartado se trata la base de datos FT006 </p>"
   ],
   "cell_type": "markdown",
   "metadata": {}
  },
  {
   "cell_type": "code",
   "execution_count": null,
   "metadata": {},
   "outputs": [],
   "source": [
    "#Cargamos los paquetes que vamos a necesitar\n",
    "import pandas as pd\n",
    "import numpy as np\n",
    "import pyreadstat\n",
    "pd.pandas.set_option('display.max_columns', None)"
   ]
  },
  {
   "cell_type": "code",
   "execution_count": null,
   "metadata": {},
   "outputs": [],
   "source": [
    "# Se carga el FT006 para 2020 y 2021 completo desde el archivo .dta\n",
    "FT006_2021_2021 = pd.read_stata('C:/Users/Miguel Angel/Documents/Supersalud/Pagos_EPS_Proveedores/Informe_Pagos/FT006 20202021.dta')"
   ]
  },
  {
   "cell_type": "code",
   "execution_count": null,
   "metadata": {},
   "outputs": [],
   "source": [
    "# Se carga el FT006 para para diciembre de 2019 desde el archivo .dta\n",
    "FT006_2019 = pd.read_stata('C:/Users/Miguel Angel/Documents/Supersalud/Pagos_EPS_Proveedores/Informe_Pagos/FT004 122019.dta')"
   ]
  },
  {
   "cell_type": "code",
   "execution_count": null,
   "metadata": {},
   "outputs": [],
   "source": [
    "# Se concatenan la bases de datos \n",
    "frames = [FT006_2021_2021, FT006_2019]\n",
    "FT006 = pd.concat(frames, ignore_index=True)"
   ]
  },
  {
   "cell_type": "code",
   "execution_count": null,
   "metadata": {},
   "outputs": [],
   "source": [
    "# Se eliminan la bases que no se necesitan para liberar espacio en la memoria\n",
    "del [FT006_2021_2021, FT006_2019, frames]"
   ]
  },
  {
   "cell_type": "code",
   "execution_count": null,
   "metadata": {},
   "outputs": [],
   "source": [
    "# Se reemplazan los nombres de las columnas para facilitar el tratamiento\n",
    "FT006.rename(columns={'Nit': 'nit_eps', 'Año': 'ano', 'Periodo': 'mes', 'lineaNegocio': 'linea','claseCuenta': 'clasecuenta', 'saldoExtracto': 'sextracto'}, inplace=True)"
   ]
  },
  {
   "cell_type": "code",
   "execution_count": null,
   "metadata": {},
   "outputs": [],
   "source": [
    "# Se transforman los datos para su correcta identificación\n",
    "FT006[['nit_eps', 'RazonSocial', 'ano', 'mes', 'linea']] = FT006[['nit_eps', 'RazonSocial', 'ano', 'mes', 'linea']].astype(str)"
   ]
  },
  {
   "cell_type": "code",
   "execution_count": null,
   "metadata": {},
   "outputs": [],
   "source": [
    "# Se filtra la línea de negocio de interés. En este caso corresponde a la línea 1\n",
    "FT006 = FT006.loc[FT006['linea'] == '1']"
   ]
  },
  {
   "cell_type": "code",
   "execution_count": null,
   "metadata": {},
   "outputs": [],
   "source": [
    "# Se reemplaza la clase de cuenta\n",
    "FT006.loc[(FT006['clasecuenta'] == 2), \n",
    "       'clasecuenta'] = 1 "
   ]
  },
  {
   "cell_type": "code",
   "execution_count": null,
   "metadata": {},
   "outputs": [],
   "source": [
    "# Se encuentran las observaciones que cumplen las condiciones. Se deben eliminar las observaciones con clase de cuenta 3\n",
    "df_filtered = FT006[\n",
    "    (FT006['clasecuenta'] == 3)\n",
    "    ].index"
   ]
  },
  {
   "cell_type": "code",
   "execution_count": null,
   "metadata": {},
   "outputs": [],
   "source": [
    "# Se eliminan las observaciones que cumplen las condiciones anteriore\n",
    "FT006 = FT006.drop(df_filtered)"
   ]
  },
  {
   "cell_type": "code",
   "execution_count": null,
   "metadata": {},
   "outputs": [],
   "source": [
    "# Para hacer la suma de sextracto por clase de cuenta, NIT EPS, NIT proveedor, Mes y Año\n",
    "FT006 = FT006.groupby(['nit_eps', 'mes', 'ano', 'clasecuenta']).agg({'sextracto': 'sum'}).reset_index()"
   ]
  },
  {
   "cell_type": "code",
   "execution_count": null,
   "metadata": {},
   "outputs": [],
   "source": [
    "# Para hacer la suma de sextracto por NIT EPS, NIT proveedor, Mes y Año\n",
    "FT006 = FT006.groupby(['nit_eps', 'mes', 'ano']).agg({'sextracto': 'sum'}).reset_index()"
   ]
  },
  {
   "cell_type": "code",
   "execution_count": null,
   "metadata": {},
   "outputs": [],
   "source": [
    "# Se crea el rango de meses necesarios en cada mes\n",
    "fecha_ideal=range(1, 12 + 1)\n",
    "# Se rellena con ceros la información para los meses faltantes\n",
    "FT006 = FT006.set_index('mes').groupby(['nit_eps', 'ano']).apply(lambda x: x.reindex(index=fecha_ideal, fill_value=0)).drop(['nit_eps', 'ano'], 1)"
   ]
  },
  {
   "cell_type": "code",
   "execution_count": null,
   "metadata": {},
   "outputs": [],
   "source": [
    "# Se desagrupa la información para su posterior filtro pues no nos interesa la información para 2019\n",
    "FT006 = FT006.reset_index()"
   ]
  },
  {
   "cell_type": "code",
   "execution_count": null,
   "metadata": {},
   "outputs": [],
   "source": [
    "# Se encuentran las observaciones que cumplen las condiciones\n",
    "df_filtered = FT006[\n",
    "    (FT006['ano'] == 2019) & (FT006['mes'] == 1) |\n",
    "    (FT006['ano'] == 2019) & (FT006['mes'] == 2) |\n",
    "    (FT006['ano'] == 2019) & (FT006['mes'] == 3) |\n",
    "    (FT006['ano'] == 2019) & (FT006['mes'] == 4) |\n",
    "    (FT006['ano'] == 2019) & (FT006['mes'] == 5) |\n",
    "    (FT006['ano'] == 2019) & (FT006['mes'] == 6) |\n",
    "    (FT006['ano'] == 2019) & (FT006['mes'] == 7) |\n",
    "    (FT006['ano'] == 2019) & (FT006['mes'] == 8) |\n",
    "    (FT006['ano'] == 2019) & (FT006['mes'] == 9) |\n",
    "    (FT006['ano'] == 2019) & (FT006['mes'] == 10) |\n",
    "    (FT006['ano'] == 2019) & (FT006['mes'] == 11)\n",
    "    ].index"
   ]
  },
  {
   "cell_type": "code",
   "execution_count": null,
   "metadata": {},
   "outputs": [],
   "source": [
    "# Se eliminan las observaciones que cumplen las condiciones anteriore\n",
    "FT006 = FT006.drop(df_filtered)"
   ]
  },
  {
   "cell_type": "code",
   "execution_count": null,
   "metadata": {},
   "outputs": [],
   "source": [
    "# Se agrupa la información para calcular su respectiva diferencia mensual por CXP\n",
    "FT006 = FT006.set_index(['nit_eps', 'ano','mes'])"
   ]
  },
  {
   "cell_type": "code",
   "execution_count": null,
   "metadata": {},
   "outputs": [],
   "source": [
    "# Se calcula la diferencia mensual para conocer el valor mensual de cada cuenta ya que por defecto vienen agregadas\n",
    "FT006_dif = FT006.diff().fillna(0)"
   ]
  },
  {
   "cell_type": "code",
   "execution_count": null,
   "metadata": {},
   "outputs": [],
   "source": [
    "# Se desagregan las bases de datos para su posterior unión\n",
    "FT006_dif = FT006_dif.reset_index()\n",
    "FT006 = FT006.reset_index()"
   ]
  },
  {
   "cell_type": "code",
   "execution_count": null,
   "metadata": {},
   "outputs": [],
   "source": [
    "# Se reemplazan los nombres de las columnas para facilitar el tratamiento\n",
    "FT006_dif.rename(columns={'sextracto': 'DSaldo'}, inplace=True)"
   ]
  },
  {
   "cell_type": "code",
   "execution_count": null,
   "metadata": {},
   "outputs": [],
   "source": [
    "# Para guardar la base de datos lista para ser tratada en formato Excel y CSV\n",
    "\n",
    "FT006_dif.to_excel(r'C:/Users/Miguel Angel/Documents/Supersalud/Pagos_EPS_Proveedores/DVFICEPS_2020_2021.xlsx', index = False)\n",
    "FT006_dif.to_csv(r'C:/Users/Miguel Angel/Documents/Supersalud/Pagos_EPS_Proveedores/DVFICEPS_2020_2021.csv', index = False, encoding='utf-8-sig')"
   ]
  },
  {
   "cell_type": "code",
   "execution_count": null,
   "metadata": {},
   "outputs": [],
   "source": [
    "# Se eliminan la bases que no se necesitan para liberar espacio en la memoria\n",
    "del [FT006, FT006_dif, df_filtered, fecha_ideal]"
   ]
  },
  {
   "source": [
    "<h2>FT007 - Inversiones Titulo </h2>\n",
    "<p> En este apartado se trata la base de datos FT007 </p>"
   ],
   "cell_type": "markdown",
   "metadata": {}
  },
  {
   "cell_type": "code",
   "execution_count": null,
   "metadata": {},
   "outputs": [],
   "source": [
    "#Cargamos los paquetes que vamos a necesitar\n",
    "import pandas as pd\n",
    "import numpy as np\n",
    "import pyreadstat\n",
    "pd.pandas.set_option('display.max_columns', None)"
   ]
  },
  {
   "cell_type": "code",
   "execution_count": null,
   "metadata": {},
   "outputs": [],
   "source": [
    "# Se carga el FT005 completo desde el archivo .dta\n",
    "FT007 = pd.read_stata('C:/Users/Miguel Angel/Documents/Supersalud/Pagos_EPS_Proveedores/Informe_Pagos/FT007 20202021.dta')"
   ]
  },
  {
   "cell_type": "code",
   "execution_count": null,
   "metadata": {},
   "outputs": [],
   "source": [
    "# Se reemplazan los nombres de las columnas para facilitar el tratamiento\n",
    "FT007.rename(columns={'Nit': 'nit_eps', 'Año': 'ano', 'Periodo': 'mes', 'lineaNegocio': 'linea','fechaCompra': 'fechacompra', 'valorCompra': 'valorcompra'}, inplace=True)"
   ]
  },
  {
   "cell_type": "code",
   "execution_count": null,
   "metadata": {},
   "outputs": [],
   "source": [
    "# Se transforman los datos para su correcta identificación\n",
    "FT007[['nit_eps', 'RazonSocial', 'ano', 'mes', 'linea']] = FT007[['nit_eps', 'RazonSocial', 'ano', 'mes', 'linea']].astype(str)"
   ]
  },
  {
   "cell_type": "code",
   "execution_count": null,
   "metadata": {},
   "outputs": [],
   "source": [
    "# Se filtra la línea de negocio de interés. En este caso corresponde a la línea 1\n",
    "FT007 = FT007.loc[FT007['linea'] == '1']"
   ]
  },
  {
   "cell_type": "code",
   "execution_count": null,
   "metadata": {},
   "outputs": [],
   "source": [
    "# Se separa la fecha para facilitar el análisis\n",
    "FT007[['anocompra','mescompra','diacompra']] =  FT007.fechacompra.str.split('-', n=2, expand=True)"
   ]
  },
  {
   "cell_type": "code",
   "execution_count": null,
   "metadata": {},
   "outputs": [],
   "source": [
    "# Se homogeniza la fecha para posterior tratamiento\n",
    "FT007[['anocompra', 'mescompra']] = FT007[['anocompra', 'mescompra']].astype(float).astype(int).astype(str)"
   ]
  },
  {
   "cell_type": "code",
   "execution_count": null,
   "metadata": {},
   "outputs": [],
   "source": [
    "# Se encuentran las observaciones que cumplen las condiciones\n",
    "FT007 = FT007[\n",
    "    (FT007['anocompra'] == FT007['ano']) &\n",
    "    (FT007['mescompra'] == FT007['mes'])\n",
    "    ]"
   ]
  },
  {
   "cell_type": "code",
   "execution_count": null,
   "metadata": {},
   "outputs": [],
   "source": [
    "# Para hacer la suma de CXP por NIT EPS, tipo de acreedor corregido, NIT proveedor, Mes y Año\n",
    "FT007 = FT007.groupby(['nit_eps', 'anocompra' ,'mescompra']).agg({'valorcompra': 'sum'}).reset_index()"
   ]
  },
  {
   "cell_type": "code",
   "execution_count": null,
   "metadata": {},
   "outputs": [],
   "source": [
    "# Se reemplazan los nombres de las columnas para facilitar el tratamiento\n",
    "FT007.rename(columns={'anocompra': 'ano', 'mescompra': 'mes', 'valorcompra': 'comprames'}, inplace=True)"
   ]
  },
  {
   "cell_type": "code",
   "execution_count": null,
   "metadata": {},
   "outputs": [],
   "source": [
    "# Para guardar la base de datos lista para ser tratada en formato Excel y CSV\n",
    "\n",
    "FT007.to_excel(r'C:/Users/Miguel Angel/Documents/Supersalud/Pagos_EPS_Proveedores/compratitulos_2020_2021.xlsx', index = False)\n",
    "FT007.to_csv(r'C:/Users/Miguel Angel/Documents/Supersalud/Pagos_EPS_Proveedores/compratitulos_2020_2021.csv', index = False, encoding='utf-8-sig')"
   ]
  },
  {
   "cell_type": "code",
   "execution_count": null,
   "metadata": {},
   "outputs": [],
   "source": [
    "# Se eliminan la bases que no se necesitan para liberar espacio en la memoria\n",
    "del [FT007, df_filtered]"
   ]
  },
  {
   "source": [
    "<h2>FT001 - Extracción ingresos y pasivos </h2>\n",
    "<p> En este apartado se trata la base de datos FT001 </p>"
   ],
   "cell_type": "markdown",
   "metadata": {}
  },
  {
   "cell_type": "code",
   "execution_count": 1,
   "metadata": {},
   "outputs": [],
   "source": [
    "#Cargamos los paquetes que vamos a necesitar\n",
    "import pandas as pd\n",
    "import numpy as np\n",
    "import pyreadstat\n",
    "pd.pandas.set_option('display.max_columns', None)"
   ]
  },
  {
   "cell_type": "code",
   "execution_count": 2,
   "metadata": {},
   "outputs": [
    {
     "output_type": "stream",
     "name": "stderr",
     "text": [
      "C:\\ProgramData\\Anaconda3\\lib\\site-packages\\pandas\\io\\stata.py:1433: UnicodeWarning: \nOne or more strings in the dta file could not be decoded using utf-8, and\nso the fallback encoding of latin-1 is being used.  This can happen when a file\nhas been incorrectly encoded by Stata or some other software. You should verify\nthe string values returned are correct.\n  warnings.warn(msg, UnicodeWarning)\n"
     ]
    }
   ],
   "source": [
    "# Se carga el FT005 completo desde el archivo .dta\n",
    "FT001_2021_2021 = pd.read_stata('C:/Users/Miguel Angel/Documents/Supersalud/Pagos_EPS_Proveedores/Informe_Pagos/FT001 20202021.dta')"
   ]
  },
  {
   "cell_type": "code",
   "execution_count": 3,
   "metadata": {},
   "outputs": [
    {
     "output_type": "stream",
     "name": "stderr",
     "text": [
      "C:\\ProgramData\\Anaconda3\\lib\\site-packages\\pandas\\io\\stata.py:1433: UnicodeWarning: \nOne or more strings in the dta file could not be decoded using utf-8, and\nso the fallback encoding of latin-1 is being used.  This can happen when a file\nhas been incorrectly encoded by Stata or some other software. You should verify\nthe string values returned are correct.\n  warnings.warn(msg, UnicodeWarning)\n"
     ]
    }
   ],
   "source": [
    "# Se carga el FT004 para diciembre de 2019 desde el archivo .dta\n",
    "FT001_2019 = pd.read_stata('C:/Users/Miguel Angel/Documents/Supersalud/Pagos_EPS_Proveedores/Informe_Pagos/FT001 122019.dta')"
   ]
  },
  {
   "cell_type": "code",
   "execution_count": 4,
   "metadata": {},
   "outputs": [],
   "source": [
    "# Se concatenan la bases de datos \n",
    "frames = [FT001_2021_2021, FT001_2019]\n",
    "FT001 = pd.concat(frames, ignore_index=True)"
   ]
  },
  {
   "cell_type": "code",
   "execution_count": 5,
   "metadata": {},
   "outputs": [],
   "source": [
    "# Se eliminan la bases que no se necesitan para liberar espacio en la memoria\n",
    "del [FT001_2021_2021, FT001_2019, frames]"
   ]
  },
  {
   "cell_type": "code",
   "execution_count": 6,
   "metadata": {},
   "outputs": [],
   "source": [
    "# Se reemplazan los nombres de las columnas para facilitar el tratamiento\n",
    "FT001.rename(columns={'Nit': 'nit_eps', 'Año': 'ano', 'Periodo': 'mes', 'codigoConcepto': 'codigo','claseConcepto': 'clase'}, inplace=True)"
   ]
  },
  {
   "cell_type": "code",
   "execution_count": 7,
   "metadata": {},
   "outputs": [
    {
     "output_type": "execute_result",
     "data": {
      "text/plain": [
       "Index(['nit_eps', 'RazonSocial', 'ano', 'mes', 'codigo', 'clase', 'valor'], dtype='object')"
      ]
     },
     "metadata": {},
     "execution_count": 7
    }
   ],
   "source": [
    "FT001.columns"
   ]
  },
  {
   "cell_type": "code",
   "execution_count": 8,
   "metadata": {},
   "outputs": [],
   "source": [
    "# Para hacer la suma de Valor por NIT EPS, Código del concepto, Mes y Año\n",
    "FT001 = FT001.groupby(['nit_eps', 'codigo', 'ano', 'mes']).agg({'valor': 'sum'}).reset_index()"
   ]
  },
  {
   "cell_type": "code",
   "execution_count": 9,
   "metadata": {},
   "outputs": [],
   "source": [
    "#Se transforman las variables a STR para mejorar su manipulación\n",
    "FT001[['codigo']] = FT001[['codigo']].astype(float).astype(int).astype(str)"
   ]
  },
  {
   "cell_type": "code",
   "execution_count": 10,
   "metadata": {},
   "outputs": [],
   "source": [
    "# # Se genera una nueva columna extrayendo el primer caracter del Código concepto\n",
    "# FT001['d1'] = FT001['codigo'].str[:1]\n",
    "# FT001['d2'] = FT001['codigo'].str[:2]\n",
    "# FT001['d4'] = FT001['codigo'].str[:4]\n",
    "# FT001['d6'] = FT001['codigo'].str[:6]\n",
    "# FT001['d8'] = FT001['codigo'].str[:8]\n",
    "# FT001['d10'] = FT001['codigo'].str[:10]"
   ]
  },
  {
   "cell_type": "code",
   "execution_count": 11,
   "metadata": {},
   "outputs": [],
   "source": [
    "# # Se seleccionan las observaciones que cumplen las condiciones\n",
    "# FT001 = FT001[\n",
    "#     (FT001['d6'] == '110101') |\n",
    "#     (FT001['d6'] == '110102') |\n",
    "#     (FT001['d6'] == '110103') |\n",
    "#     (FT001['d6'] == '110109') |\n",
    "#     (FT001['d6'] == '410201') |\n",
    "#     (FT001['d6'] == '410202') |\n",
    "#     (FT001['d6'] == '410203') |\n",
    "#     (FT001['d6'] == '410207') |\n",
    "#     (FT001['d6'] == '410208') |\n",
    "#     (FT001['d6'] == '410209') |\n",
    "#     (FT001['d6'] == '410227') |\n",
    "#     (FT001['d6'] == '410230') |\n",
    "#     (FT001['d4'] == '1105') | # OJO CON ESTA LÍNEA PUES ES DIFERENTE\n",
    "#     (FT001['d6'] == '431101') |\n",
    "#     (FT001['d6'] == '431102') |\n",
    "#     (FT001['d6'] == '431103') |\n",
    "#     (FT001['d6'] == '431104') |\n",
    "#     (FT001['d6'] == '431106') |\n",
    "#     (FT001['d6'] == '431107') |\n",
    "#     (FT001['d6'] == '431120') |\n",
    "#     (FT001['d6'] == '431122') \n",
    "#     ]"
   ]
  },
  {
   "cell_type": "code",
   "execution_count": 12,
   "metadata": {},
   "outputs": [],
   "source": [
    "# Se genera una nueva columna con la cuenta del numero de componentes que tiene el ID nitproveedor\n",
    "FT001['Lcod'] = FT001.codigo.str.len()"
   ]
  },
  {
   "cell_type": "code",
   "execution_count": 13,
   "metadata": {},
   "outputs": [],
   "source": [
    "# # Se seleccionan las observaciones que cumplen las condiciones\n",
    "# df_filtered = FT001[\n",
    "#     (FT001['Lcod'] == 8) \n",
    "#     ].index"
   ]
  },
  {
   "cell_type": "code",
   "execution_count": 14,
   "metadata": {},
   "outputs": [],
   "source": [
    "# # Se eliminan las observaciones que cumplen las condiciones anteriores\n",
    "# FT001 = FT001.drop(df_filtered)"
   ]
  },
  {
   "cell_type": "code",
   "execution_count": 15,
   "metadata": {},
   "outputs": [],
   "source": [
    "# # Se seleccionan las observaciones que cumplen las condiciones\n",
    "# df_filtered = FT001[\n",
    "#     (FT001['Lcod'] == 6) &\n",
    "#     (FT001['d4'] == '1105') \n",
    "#     ].index"
   ]
  },
  {
   "cell_type": "code",
   "execution_count": 16,
   "metadata": {},
   "outputs": [],
   "source": [
    "# # Se eliminan las observaciones que cumplen las condiciones anteriores\n",
    "# FT001 = FT001.drop(df_filtered)"
   ]
  },
  {
   "cell_type": "code",
   "execution_count": 17,
   "metadata": {},
   "outputs": [],
   "source": [
    "# Se limpia la clasificación por Tipo de deudor\n",
    "FT001['tipo']= 'NA' # Se crea la columna con categoria UPC como base\n",
    "\n",
    "# Se establecen las condiciones para establecer correctamente el UPC\n",
    "\n",
    "FT001.loc[(FT001['codigo'] == \"410201\") |\n",
    "       (FT001['codigo'] == \"410202\") |\n",
    "       (FT001['codigo'] == \"410203\") |\n",
    "       (FT001['codigo'] == \"410207\") |\n",
    "       (FT001['codigo'] == \"431101\") |\n",
    "       (FT001['codigo'] == \"431102\") |\n",
    "       (FT001['codigo'] == \"431106\") |\n",
    "       (FT001['codigo'] == \"431122\") |\n",
    "       (FT001['codigo'] == \"431120\"),  \n",
    "       'tipo'] = 'UPC' \n",
    "\n",
    "FT001.loc[(FT001['codigo'] == '431103') | # | Regimen contributivo\n",
    "       (FT001['codigo'] == \"431104\") | #Regimen contributivo\n",
    "       (FT001['codigo'] == \"431107\") | #Regimen ubsidiado publico\n",
    "       (FT001['codigo'] == \"41020801\") | #410208-41020801\n",
    "       (FT001['codigo'] == \"410209\"),  \n",
    "       'tipo'] = 'CMCOP' \n",
    "\n",
    "FT001.loc[(FT001['codigo'] == '410227'),  \n",
    "       'tipo'] = 'PMAX' \n",
    "\n",
    "FT001.loc[(FT001['codigo'] == '410230'),  \n",
    "       'tipo'] = 'EnfH'\n",
    "\n",
    "FT001.loc[(FT001['codigo'] == '1105') |\n",
    "       (FT001['codigo'] == \"110101\") |\n",
    "       (FT001['codigo'] == \"110102\") |\n",
    "       (FT001['codigo'] == \"110103\") |\n",
    "       (FT001['codigo'] == \"110109\"),  \n",
    "       'tipo'] = 'Efectivo' "
   ]
  },
  {
   "cell_type": "code",
   "execution_count": 18,
   "metadata": {},
   "outputs": [],
   "source": [
    "# Para hacer la suma de Valor por NIT EPS, tipo, Mes y Año\n",
    "FT001 = FT001.groupby(['nit_eps', 'tipo', 'mes', 'ano']).agg({'valor': 'sum'}).reset_index()"
   ]
  },
  {
   "cell_type": "code",
   "execution_count": null,
   "metadata": {},
   "outputs": [],
   "source": [
    "# HASTA AQUÍ FUNCIONA"
   ]
  },
  {
   "cell_type": "code",
   "execution_count": null,
   "metadata": {},
   "outputs": [],
   "source": [
    "FT001_V2 = pd.melt(FT001, id_vars=['nit_eps', 'mes', 'ano'], value_vars=[('tipo', 'valor')])"
   ]
  },
  {
   "cell_type": "code",
   "execution_count": null,
   "metadata": {},
   "outputs": [],
   "source": [
    "FT001_V2.head(2)"
   ]
  },
  {
   "cell_type": "code",
   "execution_count": null,
   "metadata": {},
   "outputs": [],
   "source": [
    "# DESDE AQUÍ FUNCIONA"
   ]
  },
  {
   "cell_type": "code",
   "execution_count": 19,
   "metadata": {},
   "outputs": [],
   "source": [
    "# Se crea el rango de meses necesarios en cada mes\n",
    "fecha_ideal=range(1, 12 + 1)\n",
    "# Se rellena con ceros la información para los meses faltantes\n",
    "FT001 = FT001.set_index('mes').groupby(['nit_eps', 'tipo', 'ano']).apply(lambda x: x.reindex(index=fecha_ideal, fill_value=0)).drop(['nit_eps', 'tipo', 'ano'], 1)"
   ]
  },
  {
   "cell_type": "code",
   "execution_count": 20,
   "metadata": {},
   "outputs": [],
   "source": [
    "# Se desagrupa la información\n",
    "FT001 = FT001.reset_index()"
   ]
  },
  {
   "cell_type": "code",
   "execution_count": 21,
   "metadata": {},
   "outputs": [],
   "source": [
    "#Se transforman las variables a INT para mejorar su manipulación\n",
    "FT001[['ano']] = FT001[['ano']].astype(float).astype(int)"
   ]
  },
  {
   "cell_type": "code",
   "execution_count": 22,
   "metadata": {},
   "outputs": [],
   "source": [
    "# Se encuentran las observaciones que cumplen las condiciones\n",
    "df_filtered = FT001[\n",
    "    (FT001['ano'] == 2019) & (FT001['mes'] == 1) |\n",
    "    (FT001['ano'] == 2019) & (FT001['mes'] == 2) |\n",
    "    (FT001['ano'] == 2019) & (FT001['mes'] == 3) |\n",
    "    (FT001['ano'] == 2019) & (FT001['mes'] == 4) |\n",
    "    (FT001['ano'] == 2019) & (FT001['mes'] == 5) |\n",
    "    (FT001['ano'] == 2019) & (FT001['mes'] == 6) |\n",
    "    (FT001['ano'] == 2019) & (FT001['mes'] == 7) |\n",
    "    (FT001['ano'] == 2019) & (FT001['mes'] == 8) |\n",
    "    (FT001['ano'] == 2019) & (FT001['mes'] == 9) |\n",
    "    (FT001['ano'] == 2019) & (FT001['mes'] == 10) |\n",
    "    (FT001['ano'] == 2019) & (FT001['mes'] == 11)\n",
    "    ].index"
   ]
  },
  {
   "cell_type": "code",
   "execution_count": 23,
   "metadata": {},
   "outputs": [],
   "source": [
    "# Se eliminan las observaciones que cumplen las condiciones anteriore\n",
    "FT001 = FT001.drop(df_filtered)"
   ]
  },
  {
   "cell_type": "code",
   "execution_count": 24,
   "metadata": {},
   "outputs": [],
   "source": [
    "FT001 = FT001.set_index(['nit_eps', 'tipo', 'mes', 'ano'])"
   ]
  },
  {
   "cell_type": "code",
   "execution_count": 25,
   "metadata": {},
   "outputs": [],
   "source": [
    "# Se calcula la diferencia mensual para conocer el valor mensual de cada cuenta ya que por defecto vienen agregadas\n",
    "FT001_dif = FT001.diff().fillna(0)"
   ]
  },
  {
   "cell_type": "code",
   "execution_count": 26,
   "metadata": {},
   "outputs": [],
   "source": [
    "# Se desagrupa la informacion\n",
    "FT001_dif = FT001_dif.reset_index()\n",
    "FT001 = FT001.reset_index()"
   ]
  },
  {
   "cell_type": "code",
   "execution_count": 27,
   "metadata": {},
   "outputs": [],
   "source": [
    "# Se reemplazan los valores para los meses de enero\n",
    "FT001_dif.loc[FT001_dif['mes'] == 1] = FT001"
   ]
  },
  {
   "cell_type": "code",
   "execution_count": 28,
   "metadata": {},
   "outputs": [],
   "source": [
    "# Se reemplazan los nombres de las columnas para facilitar el tratamiento\n",
    "FT001_dif.rename(columns={'valor': 'Dvalormes'}, inplace=True)"
   ]
  },
  {
   "cell_type": "code",
   "execution_count": 29,
   "metadata": {},
   "outputs": [],
   "source": [
    "# Se encuentran las observaciones que cumplen las condiciones\n",
    "df_filtered = FT001_dif[\n",
    "    (FT001_dif['ano'] == 2019)\n",
    "    ].index"
   ]
  },
  {
   "cell_type": "code",
   "execution_count": 30,
   "metadata": {},
   "outputs": [],
   "source": [
    "# Se eliminan las observaciones que cumplen las condiciones anteriore\n",
    "FT001_dif = FT001_dif.drop(df_filtered)"
   ]
  },
  {
   "cell_type": "code",
   "execution_count": 39,
   "metadata": {},
   "outputs": [],
   "source": [
    "# Para convertir el tipo como columna\n",
    "FT001_dif = FT001_dif.pivot(index=['nit_eps', 'mes', 'ano'], columns='tipo', values='Dvalormes').fillna(0)"
   ]
  },
  {
   "cell_type": "code",
   "execution_count": 37,
   "metadata": {},
   "outputs": [],
   "source": [
    "FT001_dif = FT001_dif.reset_index()"
   ]
  },
  {
   "cell_type": "code",
   "execution_count": null,
   "metadata": {},
   "outputs": [],
   "source": [
    "# Para guardar la base de datos lista para ser tratada en formato Excel y CSV\n",
    "FT001_dif.to_excel(r'C:/Users/Miguel Angel/Documents/Supersalud/Pagos_EPS_Proveedores/ingresosyefectivo_2020_2021.xlsx', index = False)\n",
    "FT001_dif.to_csv(r'C:/Users/Miguel Angel/Documents/Supersalud/Pagos_EPS_Proveedores/ingresosyefectivo_2020_2021.csv', index = False, encoding='utf-8-sig')"
   ]
  },
  {
   "cell_type": "code",
   "execution_count": null,
   "metadata": {},
   "outputs": [],
   "source": [
    "# Se eliminan la bases que no se necesitan para liberar espacio en la memoria\n",
    "del [FT001_dif, FT001, df_filtered, fecha_ideal]"
   ]
  },
  {
   "source": [
    "<h2>Unión de todas las bases </h2>\n",
    "<p> En este apartado se tratan todas las bases para generar la unión de todas las bases</p>"
   ],
   "cell_type": "markdown",
   "metadata": {}
  },
  {
   "cell_type": "code",
   "execution_count": 58,
   "metadata": {},
   "outputs": [],
   "source": [
    "#Cargamos los paquetes que vamos a necesitar\n",
    "import pandas as pd\n",
    "import numpy as np\n",
    "import pyreadstat\n",
    "import pyarrow.feather as feather\n",
    "pd.pandas.set_option('display.max_columns', None)"
   ]
  },
  {
   "cell_type": "code",
   "execution_count": 59,
   "metadata": {},
   "outputs": [],
   "source": [
    "# Se carga el archivo tratado del FT004 que fue grabado como Cartera Prestador\n",
    "FT004 = pd.read_csv('C:/Users/Miguel Angel/Documents/Supersalud/Pagos_EPS_Proveedores/carteraprestador_2020_2021.csv', encoding='utf-8-sig', dtype={'nit_eps':object, 'nitproveedor': object, 'noID': object, 'departamento': object, 'ano': object, 'mes': object})\n"
   ]
  },
  {
   "cell_type": "code",
   "execution_count": null,
   "metadata": {},
   "outputs": [],
   "source": [
    "# Se carga el archivo tratado del FT003 que fue grabado como cxcprestador\n",
    "FT003 = pd.read_csv('C:/Users/Miguel Angel/Documents/Supersalud/Pagos_EPS_Proveedores/cxcprestador_2020_2021.csv', encoding='utf-8-sig', dtype={'nit_eps':object, 'nitproveedor': object, 'noID': object, 'departamento': object, 'ano': object, 'mes': object})"
   ]
  },
  {
   "cell_type": "code",
   "execution_count": null,
   "metadata": {},
   "outputs": [],
   "source": [
    "# # Se eliminan las columnas que no son de interés\n",
    "# FT003 = FT003.drop(['index'], axis=1)\n",
    "# FT004 = FT004.drop(['index'], axis=1)"
   ]
  },
  {
   "cell_type": "code",
   "execution_count": null,
   "metadata": {},
   "outputs": [],
   "source": [
    "# Se unen las dos bases de datos para obtener la información de FT004 y FT003 en una sola base de datos\n",
    "FT004_FT003 = pd.merge(FT004, FT003, how='outer', left_on=['nit_eps', 'nitproveedor', 'noID', 'departamento', 'ano', 'mes'], right_on=['nit_eps', 'nitproveedor', 'noID', 'departamento', 'ano', 'mes'], indicator=True)"
   ]
  },
  {
   "cell_type": "code",
   "execution_count": null,
   "metadata": {},
   "outputs": [],
   "source": [
    "# Se reemplazan los nombres de las columnas para facilitar el tratamiento\n",
    "FT004_FT003.rename(columns={'_merge': 'FT004_FT003'}, inplace=True)"
   ]
  },
  {
   "cell_type": "code",
   "execution_count": null,
   "metadata": {},
   "outputs": [],
   "source": [
    "# Se carga el archivo tratado del FT005 que fue grabado como causaprestador\n",
    "FT005 = pd.read_csv('C:/Users/Miguel Angel/Documents/Supersalud/Pagos_EPS_Proveedores/CausaPrestador_2020_2021.csv', encoding='utf-8-sig', dtype={'nit_eps':object, 'nitproveedor': object, 'noID': object, 'departamento': object, 'ano': object, 'mes': object})"
   ]
  },
  {
   "cell_type": "code",
   "execution_count": null,
   "metadata": {},
   "outputs": [],
   "source": [
    "# Se reemplazan los nombres de las columnas para facilitar el tratamiento\n",
    "FT005.rename(columns={'ï»¿nit_eps': 'nit_eps'}, inplace=True)\n",
    "# Se convierte la variable en mes y año\n",
    "FT005[['nit_eps']] = FT005[['nit_eps']].astype(str)"
   ]
  },
  {
   "cell_type": "code",
   "execution_count": null,
   "metadata": {},
   "outputs": [],
   "source": [
    "# Se unen las dos bases de datos para obtener la información de FT004 y FT003 en una sola base de datos\n",
    "FT004_FT003_FT005 = pd.merge(FT004_FT003, FT005, how='outer', left_on=['nit_eps', 'nitproveedor', 'noID', 'departamento', 'ano', 'mes'], right_on=['nit_eps', 'nitproveedor', 'noID', 'departamento', 'ano', 'mes'], indicator=True)"
   ]
  },
  {
   "cell_type": "code",
   "execution_count": null,
   "metadata": {},
   "outputs": [],
   "source": [
    "# Se reemplazan los nombres de las columnas para facilitar el tratamiento\n",
    "FT004_FT003_FT005.rename(columns={'_merge': 'FT004_FT003_FT005'}, inplace=True)"
   ]
  },
  {
   "cell_type": "code",
   "execution_count": null,
   "metadata": {},
   "outputs": [],
   "source": [
    "# Se carga el archivo tratado del FT005 que fue grabado como causaprestador\n",
    "analisis = pd.read_stata('C:/Users/Miguel Angel/Documents/Supersalud/Pagos_EPS_Proveedores/analisis.dta')"
   ]
  },
  {
   "cell_type": "code",
   "execution_count": null,
   "metadata": {},
   "outputs": [],
   "source": [
    "# Se reemplazan los nombres de las columnas para facilitar el tratamiento\n",
    "analisis.rename(columns={'nit': 'nit_eps'}, inplace=True)\n",
    "# Se convierte la variable en str para facilitar su manipulación\n",
    "analisis[['nit_eps', 'tipo']] = analisis[['nit_eps', 'tipo']].astype(str)"
   ]
  },
  {
   "cell_type": "code",
   "execution_count": null,
   "metadata": {},
   "outputs": [],
   "source": [
    "# Se unen las dos bases de datos para obtener la información de FT004, FT003, FT005 y la base de datos Analisis en una sola base de datos\n",
    "FT004_FT003_FT005 = pd.merge(FT004_FT003_FT005, analisis, how='left', left_on=['nit_eps'], right_on=['nit_eps'])"
   ]
  },
  {
   "cell_type": "code",
   "execution_count": null,
   "metadata": {},
   "outputs": [],
   "source": [
    "# Se eliminan la bases que no se necesitan para liberar espacio en la memoria\n",
    "del [FT003, FT004, FT004_FT003, FT005, analisis]"
   ]
  },
  {
   "cell_type": "code",
   "execution_count": null,
   "metadata": {},
   "outputs": [],
   "source": [
    "# Se encuentran las observaciones que cumplen las condiciones\n",
    "df_filtered = FT004_FT003_FT005[\n",
    "    (FT004_FT003_FT005['tipo'] == None)\n",
    "    ].index"
   ]
  },
  {
   "cell_type": "code",
   "execution_count": null,
   "metadata": {},
   "outputs": [],
   "source": [
    "# Se eliminan las observaciones que cumplen las condiciones anteriore\n",
    "FT004_FT003_FT005 = FT004_FT003_FT005.drop(df_filtered)"
   ]
  },
  {
   "cell_type": "code",
   "execution_count": null,
   "metadata": {},
   "outputs": [],
   "source": [
    "# Se crea la columna PAGO tomando como referencia la columna PAGO\n",
    "FT004_FT003_FT005['PAGO'] = FT004_FT003_FT005['vpagado_mes'] "
   ]
  },
  {
   "cell_type": "code",
   "execution_count": null,
   "metadata": {},
   "outputs": [],
   "source": [
    "FT004_FT003_FT005.tipo.value_counts()"
   ]
  },
  {
   "cell_type": "code",
   "execution_count": null,
   "metadata": {},
   "outputs": [],
   "source": [
    "FT004_FT003_FT005.info()"
   ]
  },
  {
   "cell_type": "code",
   "execution_count": null,
   "metadata": {},
   "outputs": [],
   "source": [
    "# Se establecen las condiciones para establecer correctamente el PAGO\n",
    "\n",
    "FT004_FT003_FT005.loc[(FT004_FT003_FT005['tipo'] == 'web'),\n",
    "       'PAGO'] = FT004_FT003_FT005['pw']"
   ]
  },
  {
   "cell_type": "code",
   "execution_count": null,
   "metadata": {},
   "outputs": [],
   "source": [
    "FT004_FT003_FT005.loc[(FT004_FT003_FT005['tipo'] == 'webgiro'),\n",
    "       'PAGO'] = FT004_FT003_FT005['pw'] + FT004_FT003_FT005['giro']"
   ]
  },
  {
   "cell_type": "code",
   "execution_count": null,
   "metadata": {},
   "outputs": [],
   "source": [
    "FT004_FT003_FT005.loc[(FT004_FT003_FT005['tipo'] == 'giro'),\n",
    "       'PAGO'] = FT004_FT003_FT005['giro']"
   ]
  },
  {
   "cell_type": "code",
   "execution_count": null,
   "metadata": {},
   "outputs": [],
   "source": [
    "# Se crea la columna Saldo Cartera\n",
    "FT004_FT003_FT005['SaldoCartera'] = FT004_FT003_FT005['CXP'] - FT004_FT003_FT005['CXC']"
   ]
  },
  {
   "cell_type": "code",
   "execution_count": null,
   "metadata": {},
   "outputs": [],
   "source": [
    "# Se genera una columna auxiliar para cambiar el signo de DCXPmes\n",
    "FT004_FT003_FT005['A'] = FT004_FT003_FT005['DCXPmes'] * (-1)"
   ]
  },
  {
   "cell_type": "code",
   "execution_count": null,
   "metadata": {},
   "outputs": [],
   "source": [
    "# Se genera una columna auxiliar para cambiar el valor de DCXPmes\n",
    "FT004_FT003_FT005['CALC'] = 0"
   ]
  },
  {
   "cell_type": "code",
   "execution_count": null,
   "metadata": {},
   "outputs": [],
   "source": [
    "FT004_FT003_FT005.loc[(FT004_FT003_FT005['DCXCmes'] >= 0),  \n",
    "       'CALC'] = FT004_FT003_FT005['vcausado_mes'] + FT004_FT003_FT005['A'] + FT004_FT003_FT005['DCXCmes'] "
   ]
  },
  {
   "cell_type": "code",
   "execution_count": null,
   "metadata": {},
   "outputs": [],
   "source": [
    "# Se genera una columna auxiliar para cambiar el valor de vcausado_mes\n",
    "FT004_FT003_FT005['B'] = 0"
   ]
  },
  {
   "cell_type": "code",
   "execution_count": null,
   "metadata": {},
   "outputs": [],
   "source": [
    "FT004_FT003_FT005.loc[(FT004_FT003_FT005['DCXCmes'] < 0),  \n",
    "       'B'] = FT004_FT003_FT005['vcausado_mes'] + FT004_FT003_FT005['A']"
   ]
  },
  {
   "cell_type": "code",
   "execution_count": null,
   "metadata": {},
   "outputs": [],
   "source": [
    "# Se reemplaza la columna CALC si se cumplen las condiciones\n",
    "FT004_FT003_FT005.loc[(FT004_FT003_FT005['DCXCmes'] < 0),  \n",
    "       'CALC'] = FT004_FT003_FT005['B']"
   ]
  },
  {
   "cell_type": "code",
   "execution_count": null,
   "metadata": {},
   "outputs": [],
   "source": [
    "# Se eliminan las columnas que no son de interés\n",
    "FT004_FT003_FT005 = FT004_FT003_FT005.drop(['A', 'B', 'var4'], axis=1)"
   ]
  },
  {
   "cell_type": "code",
   "execution_count": null,
   "metadata": {},
   "outputs": [],
   "source": [
    "# Se carga la base de datos prestadores.dta para su posterior pega\n",
    "prestadores = pd.read_stata('C:/Users/Miguel Angel/Documents/Supersalud/Pagos_EPS_Proveedores/prestadores.dta')"
   ]
  },
  {
   "cell_type": "code",
   "execution_count": null,
   "metadata": {},
   "outputs": [],
   "source": [
    "# Se eliminan las columnas que no son de interés\n",
    "prestadores = prestadores.drop(['clpr_codigo', 'clpr_nombre', 'naju_nombre', 'departamento'], axis=1)"
   ]
  },
  {
   "cell_type": "code",
   "execution_count": null,
   "metadata": {},
   "outputs": [],
   "source": [
    "# Se unen las dos bases de datos para obtener la información de FT004_FT003_FT005 y prestadores\n",
    "FT004_FT003_FT005 = pd.merge(FT004_FT003_FT005, prestadores, how='left', left_on=['nitproveedor'], right_on=['nitproveedor'])"
   ]
  },
  {
   "cell_type": "code",
   "execution_count": null,
   "metadata": {},
   "outputs": [],
   "source": [
    "# Se carga la base de datos RUES.dta para su posterior pega\n",
    "RUES = pd.read_stata('C:/Users/Miguel Angel/Documents/Supersalud/Pagos_EPS_Proveedores/RUES.dta')"
   ]
  },
  {
   "cell_type": "code",
   "execution_count": null,
   "metadata": {},
   "outputs": [],
   "source": [
    "# Se unen las dos bases de datos para obtener la información de FT004_FT003_FT005 y prestadores\n",
    "FT004_FT003_FT005 = pd.merge(FT004_FT003_FT005, RUES, how='left', left_on=['nitproveedor'], right_on=['nitproveedor'])"
   ]
  },
  {
   "cell_type": "code",
   "execution_count": null,
   "metadata": {},
   "outputs": [],
   "source": [
    "# Para rellenar los Nombres vacios con Razón Social\n",
    "FT004_FT003_FT005.loc[FT004_FT003_FT005['nombre_prestador'].notnull(), 'razónsocialonombre'] = FT004_FT003_FT005['nombre_prestador'] "
   ]
  },
  {
   "cell_type": "code",
   "execution_count": null,
   "metadata": {},
   "outputs": [],
   "source": [
    "# Se eliminan las columnas que no son de interés\n",
    "FT004_FT003_FT005 = FT004_FT003_FT005.drop(['nombre_prestador'], axis=1)"
   ]
  },
  {
   "cell_type": "code",
   "execution_count": null,
   "metadata": {},
   "outputs": [],
   "source": [
    "# Se reemplaza el noID de EPS por otros\n",
    "FT004_FT003_FT005.loc[(FT004_FT003_FT005['noID'] == 'EPS'), \n",
    "       'noID'] = 'Otros'"
   ]
  },
  {
   "cell_type": "code",
   "execution_count": null,
   "metadata": {},
   "outputs": [],
   "source": [
    "# Se crean columns de control para signar categorias\n",
    "# Se crea la columna noID tomando como referencia la columna clpr_nombre\n",
    "FT004_FT003_FT005['difSNSWeb_control'] = FT004_FT003_FT005['PAGO'] - FT004_FT003_FT005['pw']\n",
    "FT004_FT003_FT005['difSNSadres_control'] = FT004_FT003_FT005['PAGO'] - FT004_FT003_FT005['giro'] - FT004_FT003_FT005['no_upc'] - FT004_FT003_FT005['compra_cartera']\n",
    "FT004_FT003_FT005['difSNScalc_control'] = FT004_FT003_FT005['PAGO'] - FT004_FT003_FT005['CALC']"
   ]
  },
  {
   "cell_type": "code",
   "execution_count": null,
   "metadata": {},
   "outputs": [],
   "source": [
    "# Se limpia la clasificación por diferencias entre Pago, pw, giro y Calc\n",
    "FT004_FT003_FT005['difSNSWeb'] = 'Igual'\n",
    "FT004_FT003_FT005['difSNSadres'] = 'Igual'\n",
    "FT004_FT003_FT005['difSNScalc'] = 'Igual'\n",
    "# Condiciones\n",
    "FT004_FT003_FT005.loc[(FT004_FT003_FT005['difSNSWeb_control'] > 0), \n",
    "       'difSNSWeb'] = 'Mayor' \n",
    "\n",
    "FT004_FT003_FT005.loc[(FT004_FT003_FT005['difSNSWeb_control'] < 0), \n",
    "       'difSNSWeb'] = 'Menor' \n",
    "\n",
    "\n",
    "FT004_FT003_FT005.loc[(FT004_FT003_FT005['difSNSadres_control'] > 0), \n",
    "       'difSNSWeb'] = 'Mayor' \n",
    "\n",
    "FT004_FT003_FT005.loc[(FT004_FT003_FT005['difSNSadres_control'] < 0), \n",
    "       'difSNSWeb'] = 'Menor' \n",
    "\n",
    "\n",
    "FT004_FT003_FT005.loc[(FT004_FT003_FT005['difSNScalc_control'] > 0), \n",
    "       'difSNSWeb'] = 'Mayor' \n",
    "\n",
    "FT004_FT003_FT005.loc[(FT004_FT003_FT005['difSNScalc_control'] < 0), \n",
    "       'difSNSWeb'] = 'Menor' "
   ]
  },
  {
   "cell_type": "code",
   "execution_count": null,
   "metadata": {},
   "outputs": [],
   "source": [
    "# Se carga el archivo tratado del FT006 que fue grabado como causaprestador\n",
    "FT006 = pd.read_csv('C:/Users/Miguel Angel/Documents/Supersalud/Pagos_EPS_Proveedores/DVFICEPS_2020_2021.csv', encoding='utf-8-sig', dtype={'nit_eps':object, 'ano': object, 'mes': object})"
   ]
  },
  {
   "cell_type": "code",
   "execution_count": null,
   "metadata": {},
   "outputs": [],
   "source": [
    "# Se reemplazan los nombres de las columnas para facilitar el tratamiento\n",
    "FT006.rename(columns={'ï»¿nit_eps': 'nit_eps'}, inplace=True)\n",
    "# Se convierte la variable en mes y año\n",
    "FT006[['nit_eps']] = FT006[['nit_eps']].astype(str)"
   ]
  },
  {
   "cell_type": "code",
   "execution_count": null,
   "metadata": {},
   "outputs": [],
   "source": [
    "# Se unen las dos bases de datos para obtener la información de FT004, FT003, FT005 y FT006 en una sola base de datos\n",
    "FT004_FT003_FT005_FT006 = pd.merge(FT004_FT003_FT005, FT006, how='outer', left_on=['nit_eps', 'ano', 'mes'], right_on=['nit_eps', 'ano', 'mes'])"
   ]
  },
  {
   "cell_type": "code",
   "execution_count": null,
   "metadata": {},
   "outputs": [],
   "source": [
    "# Se eliminan la bases que no se necesitan para liberar espacio en la memoria\n",
    "del [FT006, FT004_FT003_FT005, prestadores, RUES, df_filtered]"
   ]
  },
  {
   "cell_type": "code",
   "execution_count": null,
   "metadata": {},
   "outputs": [],
   "source": [
    "# Se carga el archivo tratado del FT007 que fue grabado como causaprestador\n",
    "FT007 = pd.read_csv('C:/Users/Miguel Angel/Documents/Supersalud/Pagos_EPS_Proveedores/compratitulos_2020_2021.csv', encoding='utf-8-sig', dtype={'nit_eps':object, 'ano': object, 'mes': object})"
   ]
  },
  {
   "cell_type": "code",
   "execution_count": null,
   "metadata": {},
   "outputs": [],
   "source": [
    "# Eliminamos los años que no nos interesa del FT007\n",
    "# Se encuentran las observaciones que cumplen las condiciones\n",
    "df_filtered = FT007[\n",
    "    (FT007['ano'] != '2020') &\n",
    "    (FT007['ano'] != '2021')\n",
    "    ].index"
   ]
  },
  {
   "cell_type": "code",
   "execution_count": null,
   "metadata": {},
   "outputs": [],
   "source": [
    "# Se eliminan las observaciones que cumplen las condiciones anteriore\n",
    "FT007 = FT007.drop(df_filtered)"
   ]
  },
  {
   "cell_type": "code",
   "execution_count": null,
   "metadata": {},
   "outputs": [],
   "source": [
    "# Se convierte la variable en mes y año\n",
    "FT007[['ano', 'mes']] = FT007[['ano', 'mes']].astype(float).astype(int).astype(str)"
   ]
  },
  {
   "cell_type": "code",
   "execution_count": null,
   "metadata": {},
   "outputs": [],
   "source": [
    "# Se unen las dos bases de datos para obtener la información de FT004, FT003, FT005, FT006 y FT007 en una sola base de datos\n",
    "FT004_FT003_FT005_FT006_FT007 = pd.merge(FT004_FT003_FT005_FT006, FT007, how='outer', left_on=['nit_eps', 'ano', 'mes'], right_on=['nit_eps', 'ano', 'mes'])"
   ]
  },
  {
   "cell_type": "code",
   "execution_count": null,
   "metadata": {},
   "outputs": [],
   "source": [
    "# Se eliminan la bases que no se necesitan para liberar espacio en la memoria\n",
    "del [FT004_FT003_FT005_FT006, FT007, df_filtered]"
   ]
  },
  {
   "cell_type": "code",
   "execution_count": null,
   "metadata": {},
   "outputs": [],
   "source": [
    "# Se carga el archivo tratado del FT007 que fue grabado como causaprestador\n",
    "FT001 = pd.read_csv('C:/Users/Miguel Angel/Documents/Supersalud/Pagos_EPS_Proveedores/ingresosyefectivo_2020_2021.csv', encoding='utf-8-sig', dtype={'nit_eps':object, 'ano': object, 'mes': object})"
   ]
  },
  {
   "cell_type": "code",
   "execution_count": null,
   "metadata": {},
   "outputs": [],
   "source": [
    "# Se reemplazan los nombres de las columnas para facilitar el tratamiento\n",
    "FT001.rename(columns={'tipo': 'tipo_FT001'}, inplace=True)"
   ]
  },
  {
   "cell_type": "code",
   "execution_count": null,
   "metadata": {},
   "outputs": [],
   "source": [
    "FT004_FT003_FT005_FT006_FT007.tipo.value_counts()"
   ]
  },
  {
   "cell_type": "code",
   "execution_count": null,
   "metadata": {},
   "outputs": [],
   "source": [
    "FT001.tipo.value_counts()"
   ]
  },
  {
   "cell_type": "code",
   "execution_count": null,
   "metadata": {},
   "outputs": [],
   "source": [
    "# Se unen las dos bases de datos para obtener la información de FT004, FT003, FT005, FT006 y FT007 en una sola base de datos\n",
    "FT00143567 = pd.merge(FT004_FT003_FT005_FT006_FT007, FT001, how='outer', left_on=['nit_eps', 'ano', 'mes'], right_on=['nit_eps', 'ano', 'mes'])"
   ]
  },
  {
   "cell_type": "code",
   "execution_count": null,
   "metadata": {},
   "outputs": [],
   "source": [
    "# Se eliminan la bases que no se necesitan para liberar espacio en la memoria\n",
    "del [FT004_FT003_FT005_FT006_FT007, FT001]"
   ]
  },
  {
   "cell_type": "code",
   "execution_count": null,
   "metadata": {},
   "outputs": [],
   "source": [
    "FT00143567.columns"
   ]
  },
  {
   "cell_type": "code",
   "execution_count": null,
   "metadata": {},
   "outputs": [],
   "source": [
    "# Se convierten a float las varaibles relevantes\n",
    "FT00143567[['PAGO', 'DCXPmes', 'DCXCmes', 'pw', 'giro', 'no_upc', 'compra_cartera', 'CXP', 'CXC', 'vcausado_mes', 'vpagado_mes', 'CALC', 'DSaldo', 'comprames', 'Dvalormes']] = FT00143567[['PAGO', 'DCXPmes', 'DCXCmes', 'pw', 'giro', 'no_upc', 'compra_cartera', 'CXP', 'CXC', 'vcausado_mes', 'vpagado_mes', 'CALC', 'DSaldo', 'comprames', 'Dvalormes']].astype(float)"
   ]
  },
  {
   "cell_type": "code",
   "execution_count": null,
   "metadata": {},
   "outputs": [],
   "source": [
    "# Se llenan con 0 los espacios vacíos de las variables de interés\n",
    "FT00143567[['PAGO', 'DCXPmes', 'DCXCmes', 'pw', 'giro', 'no_upc', 'compra_cartera', 'CXP', 'CXC', 'vcausado_mes', 'vpagado_mes', 'CALC', 'DSaldo', 'comprames', 'Dvalormes']] = FT00143567[['PAGO', 'DCXPmes', 'DCXCmes', 'pw', 'giro', 'no_upc', 'compra_cartera', 'CXP', 'CXC', 'vcausado_mes', 'vpagado_mes', 'CALC', 'DSaldo', 'comprames', 'Dvalormes']].fillna(value=0)"
   ]
  },
  {
   "cell_type": "code",
   "execution_count": null,
   "metadata": {},
   "outputs": [],
   "source": [
    "# Se crea la columna inversiones sumando DSaldomes y comprames\n",
    "FT00143567['inversiones'] = FT00143567['DSaldo'] + FT00143567['comprames']"
   ]
  },
  {
   "cell_type": "code",
   "execution_count": null,
   "metadata": {},
   "outputs": [],
   "source": [
    "# Aqupi se guarda la base de datos agregada por ingresos y pagos de las EPS (Corresponde a la línea 692 del código en stata que guarda la información en la hoja EPS)\n",
    "FT00143567_EPS = FT00143567.groupby(['nit_eps', 'mes', 'ano', 'eps', 'tipo', 'tipo_FT001']).agg({'PAGO':'sum', 'DCXPmes':'sum', 'DCXCmes':'sum', 'pw':'sum', 'giro':'sum', 'no_upc':'sum', 'compra_cartera':'sum', 'CXP':'sum', 'CXC':'sum', 'vcausado_mes':'sum', 'vpagado_mes':'sum', 'CALC':'sum', 'DSaldo':'sum', 'comprames':'sum', 'Dvalormes':'sum', 'inversiones':'sum' }).reset_index()"
   ]
  },
  {
   "cell_type": "code",
   "execution_count": null,
   "metadata": {},
   "outputs": [],
   "source": [
    "# Para guardar la base de datos lista para ser tratada en formato Excel y CSV\n",
    "FT00143567_EPS.to_excel(r'C:/Users/Miguel Angel/Documents/Supersalud/Pagos_EPS_Proveedores/EPS_analisis_2020_2021_V2.xlsx', index = False)\n",
    "# FT00143567_EPS.to_csv(r'C:/Users/Miguel Angel/Documents/Supersalud/Pagos_EPS_Proveedores/EPS_analisis_2020_2021.csv', index = False, encoding='utf-8-sig')\n",
    "# feather.write_feather(FT00143567_EPS, 'C:/Users/Miguel Angel/Documents/Supersalud/Pagos_EPS_Proveedores/EPS_analisis_2020_2021.feather') # Esta línea guarda la base de datos en binario para optimizar el tiempo de cargay el espacio"
   ]
  },
  {
   "cell_type": "code",
   "execution_count": null,
   "metadata": {},
   "outputs": [],
   "source": [
    "# Se filtra el dataframe con las observaciones que cumplen las condiciones\n",
    "FT00143567 = FT00143567[\n",
    "    (FT00143567['PAGO'] != 0)|\n",
    "    (FT00143567['DCXPmes'] != 0)|\n",
    "    (FT00143567['DCXCmes'] != 0)|\n",
    "    (FT00143567['pw'] != 0)|\n",
    "    (FT00143567['giro'] != 0)|\n",
    "    (FT00143567['no_upc'] != 0)|\n",
    "    (FT00143567['compra_cartera'] != 0)\n",
    "    ]"
   ]
  },
  {
   "cell_type": "code",
   "execution_count": null,
   "metadata": {},
   "outputs": [],
   "source": [
    "# Se crea la columna auxiliar para modificar el noID\n",
    "FT00143567['A'] = FT00143567['noID'] + '-' + FT00143567['DESC_SECCIÓN']"
   ]
  },
  {
   "cell_type": "code",
   "execution_count": null,
   "metadata": {},
   "outputs": [],
   "source": [
    "# Se reemplaza el noID si cumple las condiciones\n",
    "FT00143567.loc[(FT00143567['noID'] == 'Otro') &\n",
    "       (FT00143567['DESC_SECCIÓN'].notnull()), \n",
    "       'noID'] = FT00143567['A']"
   ]
  },
  {
   "cell_type": "code",
   "execution_count": null,
   "metadata": {},
   "outputs": [],
   "source": [
    "# Se reemplaza el noID si cumple las condiciones\n",
    "FT00143567.loc[(FT00143567['noID'] == FT00143567['A']) |\n",
    "       (FT00143567['noID'] == 'Otro'), \n",
    "       'nitproveedor'] = \"Otros proveedores\""
   ]
  },
  {
   "cell_type": "code",
   "execution_count": null,
   "metadata": {},
   "outputs": [],
   "source": [
    "# Se reemplaza el noID si cumple las condiciones\n",
    "FT00143567.loc[(FT00143567['noID'] == FT00143567['A']) |\n",
    "       (FT00143567['noID'] == 'Otro'), \n",
    "       'razónsocialonombre'] = FT00143567['noID']"
   ]
  },
  {
   "cell_type": "code",
   "execution_count": null,
   "metadata": {},
   "outputs": [],
   "source": [
    "# Se encuentran las observaciones que cumplen las condiciones para no tener en cuenta observaciones posteriores a las de los meses de interés\n",
    "df_filtered = FT00143567[\n",
    "    (FT00143567['ano'] == 2021) & (FT00143567['mes'] == 5) |\n",
    "    (FT00143567['ano'] == 2021) & (FT00143567['mes'] == 6) |\n",
    "    (FT00143567['ano'] == 2021) & (FT00143567['mes'] == 7) |\n",
    "    (FT00143567['ano'] == 2021) & (FT00143567['mes'] == 8) |\n",
    "    (FT00143567['ano'] == 2021) & (FT00143567['mes'] == 9) |\n",
    "    (FT00143567['ano'] == 2021) & (FT00143567['mes'] == 10) |\n",
    "    (FT00143567['ano'] == 2021) & (FT00143567['mes'] == 11) |\n",
    "    (FT00143567['ano'] == 2021) & (FT00143567['mes'] == 12)\n",
    "    ].index"
   ]
  },
  {
   "cell_type": "code",
   "execution_count": null,
   "metadata": {},
   "outputs": [],
   "source": [
    "# Se eliminan las observaciones que cumplen las condiciones anteriore\n",
    "FT00143567 = FT00143567.drop(df_filtered)"
   ]
  },
  {
   "cell_type": "code",
   "execution_count": null,
   "metadata": {},
   "outputs": [],
   "source": [
    "# Para hacer la suma de CXC por NIT EPS, tipo de proveedor, NIT proveedor, Mes y Año\n",
    "FT00143567_tercero = FT00143567.groupby(['nit_eps', 'nitproveedor', 'noID', 'departamento', 'eps', 'tipo_x', 'razónsocialonombre', 'mes', 'ano']).agg({'PAGO':'sum', 'DCXPmes':'sum', 'DCXCmes':'sum', 'pw':'sum', 'giro':'sum', 'no_upc':'sum', 'compra_cartera':'sum', 'CXP':'sum', 'CXC':'sum', 'vcausado_mes':'sum', 'vpagado_mes':'sum', 'CALC':'sum', 'DSaldo':'sum', 'comprames':'sum'}).reset_index()"
   ]
  },
  {
   "cell_type": "code",
   "execution_count": null,
   "metadata": {},
   "outputs": [],
   "source": [
    "# Para guardar la base de datos lista para ser tratada en formato Excel y CSV\n",
    "FT00143567_tercero.to_excel(r'C:/Users/Miguel Angel/Documents/Supersalud/Pagos_EPS_Proveedores/Tercero_analisis_2020_2021.xlsx', index = False)\n",
    "FT00143567_tercero.to_csv(r'C:/Users/Miguel Angel/Documents/Supersalud/Pagos_EPS_Proveedores/Tercero_analisis_2020_2021.csv', index = False, encoding='utf-8-sig')\n",
    "feather.write_feather(FT00143567_tercero, 'C:/Users/Miguel Angel/Documents/Supersalud/Pagos_EPS_Proveedores/Tercero_analisis_2020_2021.feather') # Esta línea guarda la base de datos en binario para optimizar el tiempo de cargay el espacio"
   ]
  },
  {
   "cell_type": "code",
   "execution_count": null,
   "metadata": {},
   "outputs": [],
   "source": [
    "\n"
   ]
  },
  {
   "cell_type": "code",
   "execution_count": null,
   "metadata": {},
   "outputs": [],
   "source": []
  }
 ]
}