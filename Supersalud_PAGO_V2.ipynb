{
 "metadata": {
  "language_info": {
   "codemirror_mode": {
    "name": "ipython",
    "version": 3
   },
   "file_extension": ".py",
   "mimetype": "text/x-python",
   "name": "python",
   "nbconvert_exporter": "python",
   "pygments_lexer": "ipython3",
   "version": "3.8.5"
  },
  "orig_nbformat": 2,
  "kernelspec": {
   "name": "python385jvsc74a57bd0b3ba2566441a7c06988d0923437866b63cedc61552a5af99d1f4fb67d367b25f",
   "display_name": "Python 3.8.5 64-bit ('base': conda)"
  }
 },
 "nbformat": 4,
 "nbformat_minor": 2,
 "cells": [
  {
   "cell_type": "code",
   "execution_count": 1,
   "metadata": {},
   "outputs": [],
   "source": [
    "#Cargamos los paquetes que vamos a necesitar\n",
    "import pandas as pd\n",
    "import numpy as np\n",
    "import pyreadstat"
   ]
  },
  {
   "source": [
    "<h1>Pagos</h1>"
   ],
   "cell_type": "markdown",
   "metadata": {}
  },
  {
   "source": [
    "<h2>Giros Directos - Regimen Subsidiado </h2>\n",
    "<p> En este apartado se trata la base de datos Giros Directos - Regimen Subsidiado </p>"
   ],
   "cell_type": "markdown",
   "metadata": {}
  },
  {
   "cell_type": "code",
   "execution_count": 2,
   "metadata": {},
   "outputs": [],
   "source": [
    "# Para leer los datos descargados desde La Lupa ADRES aparatado Giro Directo - Regimen Subsidiado\n",
    "ENERO = pd.read_excel('C:/Users/Miguel Angel/Documents/Supersalud/Pagos_EPS_Proveedores/GiroDirecto/2021/Subsidiado/ENERO.xlsx', sheet_name='GIRO DIRECTO', header=7)\n",
    "FEBRERO = pd.read_excel('C:/Users/Miguel Angel/Documents/Supersalud/Pagos_EPS_Proveedores/GiroDirecto/2021/Subsidiado/FEBRERO.xlsx', sheet_name='GIRO DIRECTO', header=7)\n",
    "# MARZO = pd.read_excel('C:/Users/Miguel Angel/Documents/Supersalud/Pagos_EPS_Proveedores/GiroDirecto/2020/Subsidiado/MARZO.xlsx', sheet_name='GIRO DIRECTO', header=7)\n",
    "# ABRIL = pd.read_excel('C:/Users/Miguel Angel/Documents/Supersalud/Pagos_EPS_Proveedores/GiroDirecto/2020/Subsidiado/ABRIL.xlsx', sheet_name='GIRO DIRECTO', header=7)\n",
    "# MAYO = pd.read_excel('C:/Users/Miguel Angel/Documents/Supersalud/Pagos_EPS_Proveedores/GiroDirecto/2020/Subsidiado/MAYO.xlsx', sheet_name='GIRO DIRECTO', header=7)\n",
    "# JUNIO = pd.read_excel('C:/Users/Miguel Angel/Documents/Supersalud/Pagos_EPS_Proveedores/GiroDirecto/2020/Subsidiado/JUNIO.xlsx', sheet_name='GIRO DIRECTO', header=7)\n",
    "# JULIO = pd.read_excel('C:/Users/Miguel Angel/Documents/Supersalud/Pagos_EPS_Proveedores/GiroDirecto/2020/Subsidiado/JULIO.xlsx', sheet_name='GIRO DIRECTO', header=7)\n",
    "# AGOSTO = pd.read_excel('C:/Users/Miguel Angel/Documents/Supersalud/Pagos_EPS_Proveedores/GiroDirecto/2020/Subsidiado/AGOSTO.xlsx', sheet_name='GIRO DIRECTO', header=7)\n",
    "# SEPTIEMBRE = pd.read_excel('C:/Users/Miguel Angel/Documents/Supersalud/Pagos_EPS_Proveedores/GiroDirecto/2020/Subsidiado/SEPTIEMBRE.xlsx', sheet_name='GIRO DIRECTO', header=7)\n",
    "# OCTUBRE = pd.read_excel('C:/Users/Miguel Angel/Documents/Supersalud/Pagos_EPS_Proveedores/GiroDirecto/2020/Subsidiado/OCTUBRE.xlsx', sheet_name='GIRO DIRECTO', header=7)\n",
    "# NOVIEMBRE = pd.read_excel('C:/Users/Miguel Angel/Documents/Supersalud/Pagos_EPS_Proveedores/GiroDirecto/2020/Subsidiado/NOVIEMBRE.xlsx', sheet_name='GIRO DIRECTO', header=7)\n",
    "# DICIEMBRE = pd.read_excel('C:/Users/Miguel Angel/Documents/Supersalud/Pagos_EPS_Proveedores/GiroDirecto/2020/Subsidiado/DICIEMBRE.xlsx', sheet_name='GIRO DIRECTO', header=7)"
   ]
  },
  {
   "cell_type": "code",
   "execution_count": 3,
   "metadata": {},
   "outputs": [
    {
     "output_type": "stream",
     "name": "stdout",
     "text": [
      "Index(['Código EPS', 'Nombre EPS', 'NIT', 'Razón Social',\n       'Valor Autorizado \\npor la EPS ($)', 'Valor Girado a IPS',\n       'Observación', 'Fecha proceso', 'Fecha Giro'],\n      dtype='object')\n"
     ]
    }
   ],
   "source": [
    "print(ENERO.columns)"
   ]
  },
  {
   "cell_type": "code",
   "execution_count": 4,
   "metadata": {},
   "outputs": [],
   "source": [
    "# Para homogenizar los nombres de las columnas y facilitar la pega posteriormente\n",
    "ENERO.rename(columns={'Valor Autorizado \\npor la EPS ($)': 'Valor Autorizado por EPS', 'Código_EPS': 'Código EPS', 'Valor Girado a IPS': 'Valor Girado IPS', 'Observación': 'observación'}, inplace=True)\n",
    "FEBRERO.rename(columns={'Valor Autorizado \\npor la EPS ($)': 'Valor Autorizado por EPS', 'Código_EPS': 'Código EPS', 'Valor Girado a IPS': 'Valor Girado IPS', 'Observación': 'observación'}, inplace=True)\n",
    "# MARZO.rename(columns={'Valor Autorizado \\npor la EPS ($)': 'Valor Autorizado por EPS', 'Código_EPS': 'Código EPS', 'Valor Girado a IPS': 'Valor Girado IPS', 'Observación': 'observación'}, inplace=True)\n",
    "# ABRIL.rename(columns={'Valor Autorizado \\npor la EPS ($)': 'Valor Autorizado por EPS', 'Código_EPS': 'Código EPS', 'Valor Girado a IPS': 'Valor Girado IPS', 'Observación': 'observación'}, inplace=True)\n",
    "# MAYO.rename(columns={'Valor Autorizado \\npor la EPS ($)': 'Valor Autorizado por EPS', 'Código_EPS': 'Código EPS', 'Valor Girado a IPS': 'Valor Girado IPS', 'Observación': 'observación'}, inplace=True)\n",
    "# JUNIO.rename(columns={'Valor Autorizado \\npor la EPS ($)': 'Valor Autorizado por EPS', 'Código_EPS': 'Código EPS', 'Valor Girado a IPS': 'Valor Girado IPS', 'Observación': 'observación'}, inplace=True)\n",
    "\n",
    "# JULIO.rename(columns={'Valor Autorizado \\npor la EPS ($)': 'Valor Autorizado por EPS', 'Código_EPS': 'Código EPS', 'Valor Girado a IPS': 'Valor Girado IPS', 'Observación': 'observación', 'Fecha proceso': 'Fecha proceso Giro Directo'}, inplace=True)\n",
    "# AGOSTO.rename(columns={'Valor Autorizado \\npor la EPS ($)': 'Valor Autorizado por EPS', 'Código_EPS': 'Código EPS', 'Valor Girado a IPS': 'Valor Girado IPS', 'Observación': 'observación', 'Fecha proceso': 'Fecha proceso Giro Directo'}, inplace=True)\n",
    "# SEPTIEMBRE.rename(columns={'Valor Autorizado \\npor la EPS ($)': 'Valor Autorizado por EPS', 'Código_EPS': 'Código EPS', 'Valor Girado a IPS': 'Valor Girado IPS', 'Observación': 'observación', 'Fecha proceso': 'Fecha proceso Giro Directo'}, inplace=True)\n",
    "# OCTUBRE.rename(columns={'Valor Autorizado \\npor la EPS ($)': 'Valor Autorizado por EPS', 'Código_EPS': 'Código EPS', 'Valor Girado a IPS': 'Valor Girado IPS', 'Observación': 'observación', 'Fecha proceso': 'Fecha proceso Giro Directo'}, inplace=True)\n",
    "# NOVIEMBRE.rename(columns={'Valor Autorizado \\npor la EPS ($)': 'Valor Autorizado por EPS', 'Código_EPS': 'Código EPS', 'Valor Girado a IPS': 'Valor Girado IPS', 'Observación': 'observación', 'Fecha proceso': 'Fecha proceso Giro Directo'}, inplace=True)\n",
    "# DICIEMBRE.rename(columns={'Valor Autorizado \\npor la EPS ($)': 'Valor Autorizado por EPS', 'Código_EPS': 'Código EPS', 'Valor Girado a IPS': 'Valor Girado IPS', 'Observación': 'observación', 'Fecha proceso': 'Fecha proceso Giro Directo', 'NIT': 'NIT IPS', 'Razón Social': 'Nombre IPS'}, inplace=True)"
   ]
  },
  {
   "cell_type": "code",
   "execution_count": 5,
   "metadata": {},
   "outputs": [],
   "source": [
    "# Para agregar la columna de mes y corroborar posteriormente al concatenar las bases\n",
    "ENERO['Mes']='1'\n",
    "FEBRERO['Mes']='2'\n",
    "# MARZO['Mes']='3'\n",
    "# ABRIL['Mes']='4'\n",
    "# MAYO['Mes']='5'\n",
    "# JUNIO['Mes']='6'\n",
    "# JULIO['Mes']='7'\n",
    "# AGOSTO['Mes']='8'\n",
    "# SEPTIEMBRE['Mes']='9'\n",
    "# OCTUBRE['Mes']='10'\n",
    "# NOVIEMBRE['Mes']='11'\n",
    "# DICIEMBRE['Mes']='12'"
   ]
  },
  {
   "cell_type": "code",
   "execution_count": 6,
   "metadata": {},
   "outputs": [],
   "source": [
    "# Para agregar la columna de año y corroborar posteriormente al concatenar las bases\n",
    "ENERO['Ano']='2021'\n",
    "FEBRERO['Ano']='2021'\n",
    "# MARZO['Ano']='2020'\n",
    "# ABRIL['Ano']='2020'\n",
    "# MAYO['Ano']='2020'\n",
    "# JUNIO['Ano']='2020'\n",
    "# JULIO['Ano']='2020'\n",
    "# AGOSTO['Ano']='2020'\n",
    "# SEPTIEMBRE['Ano']='2020'\n",
    "# OCTUBRE['Ano']='2020'\n",
    "# NOVIEMBRE['Ano']='2020'\n",
    "# DICIEMBRE['Ano']='2020'"
   ]
  },
  {
   "cell_type": "code",
   "execution_count": 7,
   "metadata": {},
   "outputs": [],
   "source": [
    "# Para agregar la columna de tipo de regimen y corroborar posteriormente al concatenar las bases\n",
    "ENERO['Regimen']='Subsidiado'\n",
    "FEBRERO['Regimen']='Subsidiado'\n",
    "# MARZO['Regimen']='Subsidiado'\n",
    "# ABRIL['Regimen']='Subsidiado'\n",
    "# MAYO['Regimen']='Subsidiado'\n",
    "# JUNIO['Regimen']='Subsidiado'\n",
    "# JULIO['Regimen']='Subsidiado'\n",
    "# AGOSTO['Regimen']='Subsidiado'\n",
    "# SEPTIEMBRE['Regimen']='Subsidiado'\n",
    "# OCTUBRE['Regimen']='Subsidiado'\n",
    "# NOVIEMBRE['Regimen']='Subsidiado'\n",
    "# DICIEMBRE['Regimen']='Subsidiado'"
   ]
  },
  {
   "cell_type": "code",
   "execution_count": 8,
   "metadata": {},
   "outputs": [],
   "source": [
    "# Se concatenan la bases de datos \n",
    "# frames = [ENERO, FEBRERO, MARZO, ABRIL, MAYO, JUNIO, JULIO, AGOSTO, SEPTIEMBRE, OCTUBRE, NOVIEMBRE, DICIEMBRE]\n",
    "frames = [ENERO, FEBRERO]\n",
    "GiroDirecto_Subsidiado = pd.concat(frames, ignore_index=True)"
   ]
  },
  {
   "source": [
    "<h2>Giros Directos - Regimen Contributivo </h2>\n",
    "<p> En este apartado se trata la base de datos Giros Directos - Regimen Contributivo </p>"
   ],
   "cell_type": "markdown",
   "metadata": {}
  },
  {
   "cell_type": "code",
   "execution_count": 9,
   "metadata": {},
   "outputs": [],
   "source": [
    "# Para leer los datos descargados desde La Lupa ADRES aparatado Giro Directo - Regimen Contributivo\n",
    "ENERO = pd.read_excel('C:/Users/Miguel Angel/Documents/Supersalud/Pagos_EPS_Proveedores/GiroDirecto/2021/Contributivo/ENERO.xlsx', sheet_name='GIRO DIRECTO', header=5)\n",
    "FEBRERO = pd.read_excel('C:/Users/Miguel Angel/Documents/Supersalud/Pagos_EPS_Proveedores/GiroDirecto/2021/Contributivo/FEBRERO.xlsx', sheet_name='GIRO DIRECTO', header=8)\n",
    "# MARZO = pd.read_excel('C:/Users/Miguel Angel/Documents/Supersalud/Pagos_EPS_Proveedores/GiroDirecto/2020/Contributivo/MARZO.xlsx', sheet_name='GIRO DIRECTO', header=9)\n",
    "# ABRIL = pd.read_excel('C:/Users/Miguel Angel/Documents/Supersalud/Pagos_EPS_Proveedores/GiroDirecto/2020/Contributivo/ABRIL.xlsx', sheet_name='GIRO DIRECTO', header=9)\n",
    "# MAYO = pd.read_excel('C:/Users/Miguel Angel/Documents/Supersalud/Pagos_EPS_Proveedores/GiroDirecto/2020/Contributivo/MAYO.xlsx', sheet_name='GIRO DIRECTO', header=9)\n",
    "# JUNIO = pd.read_excel('C:/Users/Miguel Angel/Documents/Supersalud/Pagos_EPS_Proveedores/GiroDirecto/2020/Contributivo/JUNIO.xlsx', sheet_name='GIRO DIRECTO', header=9)\n",
    "# JULIO = pd.read_excel('C:/Users/Miguel Angel/Documents/Supersalud/Pagos_EPS_Proveedores/GiroDirecto/2020/Contributivo/JULIO.xlsx', sheet_name='GIRO DIRECTO', header=8)\n",
    "# AGOSTO = pd.read_excel('C:/Users/Miguel Angel/Documents/Supersalud/Pagos_EPS_Proveedores/GiroDirecto/2020/Contributivo/AGOSTO.xlsx', sheet_name='GIRO DIRECTO', header=8)\n",
    "# SEPTIEMBRE = pd.read_excel('C:/Users/Miguel Angel/Documents/Supersalud/Pagos_EPS_Proveedores/GiroDirecto/2020/Contributivo/SEPTIEMBRE.xlsx', sheet_name='GIRO DIRECTO', header=8)\n",
    "# OCTUBRE = pd.read_excel('C:/Users/Miguel Angel/Documents/Supersalud/Pagos_EPS_Proveedores/GiroDirecto/2020/Contributivo/OCTUBRE.xlsx', sheet_name='GIRO DIRECTO', header=8)\n",
    "# NOVIEMBRE = pd.read_excel('C:/Users/Miguel Angel/Documents/Supersalud/Pagos_EPS_Proveedores/GiroDirecto/2020/Contributivo/NOVIEMBRE.xlsx', sheet_name='GIRO DIRECTO', header=8)\n",
    "# DICIEMBRE = pd.read_excel('C:/Users/Miguel Angel/Documents/Supersalud/Pagos_EPS_Proveedores/GiroDirecto/2020/Contributivo/DICIEMBRE.xlsx', sheet_name='GIRO DIRECTO', header=8)"
   ]
  },
  {
   "cell_type": "code",
   "execution_count": 10,
   "metadata": {},
   "outputs": [],
   "source": [
    "# Para homogenizar los nombres de las columnas y facilitar la pega posteriormente\n",
    "ENERO.rename(columns={'Código_EPS': 'Código EPS'}, inplace=True)\n",
    "FEBRERO.rename(columns={'Código_EPS': 'Código EPS'}, inplace=True)\n",
    "# MARZO.rename(columns={'Código_EPS': 'Código EPS'}, inplace=True)\n",
    "# ABRIL.rename(columns={'Código_EPS': 'Código EPS'}, inplace=True)\n",
    "# MAYO.rename(columns={'Código_EPS': 'Código EPS'}, inplace=True)"
   ]
  },
  {
   "cell_type": "code",
   "execution_count": 11,
   "metadata": {},
   "outputs": [],
   "source": [
    "# Para agregar la columna de mes y corroborar posteriormente al concatenar las bases\n",
    "ENERO['Mes']='1'\n",
    "FEBRERO['Mes']='2'\n",
    "# MARZO['Mes']='3'\n",
    "# ABRIL['Mes']='4'\n",
    "# MAYO['Mes']='5'\n",
    "# JUNIO['Mes']='6'\n",
    "# JULIO['Mes']='7'\n",
    "# AGOSTO['Mes']='8'\n",
    "# SEPTIEMBRE['Mes']='9'\n",
    "# OCTUBRE['Mes']='10'\n",
    "# NOVIEMBRE['Mes']='11'\n",
    "# DICIEMBRE['Mes']='12'"
   ]
  },
  {
   "cell_type": "code",
   "execution_count": 12,
   "metadata": {},
   "outputs": [],
   "source": [
    "# Para agregar la columna de año y corroborar posteriormente al concatenar las bases\n",
    "ENERO['Ano']='2021'\n",
    "FEBRERO['Ano']='2021'\n",
    "# MARZO['Ano']='2020'\n",
    "# ABRIL['Ano']='2020'\n",
    "# MAYO['Ano']='2020'\n",
    "# JUNIO['Ano']='2020'\n",
    "# JULIO['Ano']='2020'\n",
    "# AGOSTO['Ano']='2020'\n",
    "# SEPTIEMBRE['Ano']='2020'\n",
    "# OCTUBRE['Ano']='2020'\n",
    "# NOVIEMBRE['Ano']='2020'\n",
    "# DICIEMBRE['Ano']='2020'"
   ]
  },
  {
   "cell_type": "code",
   "execution_count": 13,
   "metadata": {},
   "outputs": [],
   "source": [
    "# Para agregar la columna de tipo de regimen y corroborar posteriormente al concatenar las bases\n",
    "ENERO['Regimen']='Contributivo'\n",
    "FEBRERO['Regimen']='Contributivo'\n",
    "# MARZO['Regimen']='Contributivo'\n",
    "# ABRIL['Regimen']='Contributivo'\n",
    "# MAYO['Regimen']='Contributivo'\n",
    "# JUNIO['Regimen']='Contributivo'\n",
    "# JULIO['Regimen']='Contributivo'\n",
    "# AGOSTO['Regimen']='Contributivo'\n",
    "# SEPTIEMBRE['Regimen']='Contributivo'\n",
    "# OCTUBRE['Regimen']='Contributivo'\n",
    "# NOVIEMBRE['Regimen']='Contributivo'\n",
    "# DICIEMBRE['Regimen']='Contributivo'"
   ]
  },
  {
   "cell_type": "code",
   "execution_count": 14,
   "metadata": {},
   "outputs": [],
   "source": [
    "# Se concatenan la bases de datos \n",
    "# frames = [ENERO, FEBRERO, MARZO, ABRIL, MAYO, JUNIO, JULIO, AGOSTO, SEPTIEMBRE, OCTUBRE, NOVIEMBRE, DICIEMBRE]\n",
    "frames = [ENERO, FEBRERO]\n",
    "GiroDirecto_Contributivo = pd.concat(frames, ignore_index=True)"
   ]
  },
  {
   "cell_type": "code",
   "execution_count": 15,
   "metadata": {},
   "outputs": [],
   "source": [
    "# Se eliminan las columnas que no son de interés para GiroDirecto_Contributivo\n",
    "GiroDirecto_Contributivo = GiroDirecto_Contributivo.drop(['Unnamed: 0', 'PROCESO'], axis=1)"
   ]
  },
  {
   "cell_type": "code",
   "execution_count": 16,
   "metadata": {},
   "outputs": [
    {
     "output_type": "stream",
     "name": "stdout",
     "text": [
      "Index(['Código EPS', 'Nombre EPS', 'NIT IPS', 'Nombre IPS',\n       'Valor Autorizado por EPS', 'Valor Girado IPS', 'observación',\n       'Fecha proceso Giro Directo', 'Fecha Giro', 'Mes', 'Ano', 'Regimen'],\n      dtype='object')\n"
     ]
    }
   ],
   "source": [
    "print(GiroDirecto_Contributivo.columns)"
   ]
  },
  {
   "cell_type": "code",
   "execution_count": 17,
   "metadata": {},
   "outputs": [
    {
     "output_type": "stream",
     "name": "stdout",
     "text": [
      "Index(['Código EPS', 'Nombre EPS', 'NIT', 'Razón Social',\n       'Valor Autorizado por EPS', 'Valor Girado IPS', 'observación',\n       'Fecha proceso', 'Fecha Giro', 'Mes', 'Ano', 'Regimen'],\n      dtype='object')\n"
     ]
    }
   ],
   "source": [
    "print(GiroDirecto_Subsidiado.columns)"
   ]
  },
  {
   "cell_type": "code",
   "execution_count": 18,
   "metadata": {},
   "outputs": [],
   "source": [
    "# Para renombrar las columnas de interés GiroDirecto_Subsidiado\n",
    "GiroDirecto_Subsidiado.rename(columns={'NIT': 'NIT IPS', 'Razón Social': 'Nombre IPS', 'Fecha proceso': 'Fecha proceso Giro Directo'}, inplace=True)"
   ]
  },
  {
   "cell_type": "code",
   "execution_count": 19,
   "metadata": {},
   "outputs": [],
   "source": [
    "# Se concatenan la bases de datos para encontrar la base de datos final\n",
    "frames = [GiroDirecto_Contributivo, GiroDirecto_Subsidiado]\n",
    "GiroDirecto = pd.concat(frames, ignore_index=True)"
   ]
  },
  {
   "cell_type": "code",
   "execution_count": 20,
   "metadata": {},
   "outputs": [],
   "source": [
    "# Para renombrar las columnas de interés\n",
    "GiroDirecto.rename(columns={'Código EPS': 'Codigo_EPS', 'Nombre EPS': 'Nombre_EPS', 'NIT IPS': 'Nitproveedor', 'Nombre IPS': 'Nombre_IPS', 'Valor Autorizado por la EPS ($)': 'Autorizado', 'Valor Girado IPS': 'Giro', 'Fecha Giro': 'Fecha_Giro'}, inplace=True)"
   ]
  },
  {
   "cell_type": "code",
   "execution_count": 21,
   "metadata": {},
   "outputs": [],
   "source": [
    "# Se elimina la fila Total de cada base de datos, la cual corresponde al total para cada tipo de Giro en cada mes \n",
    "# GiroDirecto = GiroDirecto.loc[GiroDirecto[\"Codigo_EPS\"] != \"TOTAL\"] --- OJO: utilizar cuando se quiere eliminar solo una observación\n",
    "GiroDirecto = GiroDirecto.dropna(subset=['Nombre_EPS'])"
   ]
  },
  {
   "cell_type": "code",
   "execution_count": 22,
   "metadata": {},
   "outputs": [],
   "source": [
    "# Se eliminan las columnas que no son de interés\n",
    "GiroDirecto = GiroDirecto.drop(['observación', 'Fecha proceso Giro Directo', 'Fecha_Giro'], axis=1)"
   ]
  },
  {
   "cell_type": "code",
   "execution_count": 23,
   "metadata": {},
   "outputs": [],
   "source": [
    "# Código EPS a NIT\n",
    "# Esta información está actualizada desde la fuente https://supersalud.sharepoint.com/OMSAR/Lists/Cdigos%20Entidades%20OMSAR/AllItems.aspx\n",
    "\n",
    "dict_EPS = {\n",
    "    'Codigo_EPS': ['EPS001',\t'EPS012',\t'EPS008',\t'EPS016',\t'EPS023',\t'EPS017',\t'EPS002',\t'EPS005',\t'EPS018',\t'EPS010',\t'EPS046',\t'EPS044',\t'EPS037',\t'EPS033',\t'ESS024',\t'ESS062',\t'ESS091',\t'ESS118',\t'EPSS45',\t'EPSS41',\t'EPSS33',\t'ESS076',\t'EPSI04',\t'EPSI03',\t'ESS207',\t'CCF055',\t'EPSS34',\t'EPS025',\t'CCF102',\t'CCF015',\t'CCF053',\t'CCF007',\t'CCF023',\t'EPS024',\t'CCF027',\t'CCF050',\t'CCF033',\t'ESS133',\t'EPS022',\t'EPSI01',\t'ESS002',\t'EPSI05',\t'EPSI06',\t'ESSC24',\t'ESSC62',\t'ESSC91',\t'ESSC18',\t'EPS045',\t'EPS041',\t'ESSC76',\t'EPSIC4',\t'EPSIC3',\t'ESSC07',\t'CCFC55',\t'EPSC34',\t'EPSC25',\t'CCFC20',\t'CCFC15',\t'CCFC53',\t'CCFC07',\t'CCFC23',\t'CCFC24',\t'CCFC27',\t'CCFC50',\t'CCFC33',\t'EPSC22',\t'EPSIC1',\t'ESSC02',\t'EPSIC5',\t'EPSIC6',\t'EPS040',\t'EPSS01',\t'EPSS12',\t'EPSS08',\t'EPSS16',\t'EPSS23',\t'EPSS17',\t'EPSS02',\t'EPSS05',\t'EPSS18',\t'EPSS10',\t'EPSS46',\t'EPSS44',\t'EPSS37',\t'CCF024',\t'EPS042',\t'EPSS42',\t'EPSS48',\t'EPSS40',\t'ESSC33',\n",
    "],\n",
    "\n",
    "        'NIT_EPS': ['830113831',\t'890303093',\t'860066942',\t'805000427',\t'830009783',\t'830003564',\t'800130907',\t'800251440',\t'805001157',\t'800088702',\t'900914254',\t'901097473',\t'900156264',\t'830074184',\t'900226715',\t'900935126',\t'901093846',\t'901021565',\t'901097473',\t'900156264',\t'830074184',\t'818000140',\t'839000495',\t'817001773',\t'806008394',\t'890102044',\t'900298372',\t'891856000',\t'891600091',\t'891080005',\t'860045904',\t'890480110',\t'892115006',\t'891180008',\t'891280008',\t'890500675',\t'892200015',\t'804002105',\t'899999107',\t'824001398',\t'811004055',\t'837000084',\t'809008362',\t'900226715',\t'900935126',\t'901093846',\t'901021565',\t'901097473',\t'900156264',\t'818000140',\t'839000495',\t'817001773',\t'806008394',\t'890102044',\t'900298372',\t'891856000',\t'891600091',\t'891080005',\t'860045904',\t'890480110',\t'892115006',\t'891180008',\t'891280008',\t'890500675',\t'892200015',\t'899999107',\t'824001398',\t'811004055',\t'837000084',\t'809008362',\t'900604350',\t'830113831',\t'890303093',\t'860066942',\t'805000427',\t'830009783',\t'830003564',\t'800130907',\t'800251440',\t'805001157',\t'800088702',\t'900914254',\t'901097473',\t'900156264',\t'891180008',\t'900226715',\t'900226715',\t'806008394',\t'900604350',\t'804002105',\n",
    "],\n",
    "        }"
   ]
  },
  {
   "cell_type": "code",
   "execution_count": 24,
   "metadata": {},
   "outputs": [],
   "source": [
    "# Se crea el dataframe con el diccionario de datos\n",
    "df_EPS = pd.DataFrame(dict_EPS, columns = [\"Codigo_EPS\", \"NIT_EPS\"])"
   ]
  },
  {
   "cell_type": "code",
   "execution_count": 25,
   "metadata": {},
   "outputs": [],
   "source": [
    "# Se unen las dos bases de datos para obtener la información de NIT EPS haciendo el llamado por Códgio EPS\n",
    "GiroDirecto.Codigo_EPS = GiroDirecto.Codigo_EPS.astype(str)\n",
    "df_EPS.Codigo_EPS = df_EPS.Codigo_EPS.astype(str)\n",
    "GiroDirecto = pd.merge(GiroDirecto,df_EPS, how='left', on=['Codigo_EPS', 'Codigo_EPS'])"
   ]
  },
  {
   "cell_type": "code",
   "execution_count": 26,
   "metadata": {},
   "outputs": [],
   "source": [
    "#Se transforman las variables a STR para mejorar su manipulación\n",
    "GiroDirecto.Nitproveedor = GiroDirecto.Nitproveedor.astype(str)\n",
    "GiroDirecto.Mes = GiroDirecto.Mes.astype(str)"
   ]
  },
  {
   "cell_type": "code",
   "execution_count": 27,
   "metadata": {},
   "outputs": [],
   "source": [
    "# Para hacer la suma de Giro por NIT EPS, NIT proveedor y Mes de interés\n",
    "GiroDirecto_2021 = GiroDirecto.groupby(['NIT_EPS','Nitproveedor','Mes','Ano']).agg({'Giro': 'sum'}).reset_index()"
   ]
  },
  {
   "cell_type": "code",
   "execution_count": 28,
   "metadata": {},
   "outputs": [],
   "source": [
    "# Para guardar la base de datos lista para ser tratada en formato Excel y CSV\n",
    "GiroDirecto_2021.to_excel(r'GiroDirecto_ENEMAR2021_V2.xlsx', index = False)\n",
    "GiroDirecto_2021.to_csv(r'GiroDirecto_ENEMAR2021_V2.csv', index = False, encoding='utf-8-sig')"
   ]
  },
  {
   "cell_type": "code",
   "execution_count": 35,
   "metadata": {},
   "outputs": [],
   "source": [
    "# Para concatenar la base de datos de 2021 y 2020\n",
    "GiroDirecto_2020 = pd.read_excel('C:/Users/Miguel Angel/Documents/Supersalud/Pagos_EPS_Proveedores/GiroDirecto/GiroDirecto_2020_V2.xlsx', dtype={'NIT_EPS':object, 'Nitproveedor': object, 'Mes':object, 'Ano':object})"
   ]
  },
  {
   "cell_type": "code",
   "execution_count": 40,
   "metadata": {},
   "outputs": [],
   "source": [
    "# Se concatenan la bases de datos para encontrar la base de datos final\n",
    "frames = [GiroDirecto_2021, GiroDirecto_2020]\n",
    "GiroDirecto_2020_2021 = pd.concat(frames, ignore_index=True)"
   ]
  },
  {
   "cell_type": "code",
   "execution_count": 41,
   "metadata": {},
   "outputs": [],
   "source": [
    "# Para guardar la base de datos lista para ser tratada en formato Excel y CSV\n",
    "GiroDirecto_2020_2021.to_excel(r'GiroDirecto_2020_ENEMAR2021_V2.xlsx', index = False)\n",
    "GiroDirecto_2020_2021.to_csv(r'GiroDirecto_2020_ENEMAR2021_V2.csv', index = False, encoding='utf-8-sig')"
   ]
  },
  {
   "source": [
    "<h2>No UPC</h2>\n",
    "<p> En este apartado se trata la base de datos No UPC</p>\n",
    "<p>Es necesario aclarar que en el archivo de FEBRERO de 2021 se cinluye la información para ENERO  de 2021. También se debe mencionar que para obtener los datos de MARRZO de 2021 se tuvo que concatenar las diferentes hojas correspondientes a pagos a IPS previamente al cargue de información en el .ipynb ya que en este archivo hubo una modificación en el reporte de la información y venía desagregada en hojas por tipo de pagos a IPS.</p>\n",
    "<p>Nota: se debe recordar que la información a agregar son los pagos a IPS así que se deben ignorar las hojas referentes a EPS</p"
   ],
   "cell_type": "markdown",
   "metadata": {}
  },
  {
   "cell_type": "code",
   "execution_count": 70,
   "metadata": {},
   "outputs": [],
   "source": [
    "# Para leer los datos descargados desde La Lupa ADRES aparatado Giro Directo - Regimen Subsidiado\n",
    "# ENERO = pd.read_excel('C:/Users/Miguel Angel/Documents/Supersalud/Pagos_EPS_Proveedores/Recursos_No_UPC/2021/ENERO.xlsx', sheet_name='PP0120 - IPS', header=7)\n",
    "FEBRERO = pd.read_excel('C:/Users/Miguel Angel/Documents/Supersalud/Pagos_EPS_Proveedores/Recursos_No_UPC/2021/FEBRERO.xlsx', sheet_name='PAQUETE SUB_S02_0620-0920 IPS', header=6)\n",
    "MARZO = pd.read_excel('C:/Users/Miguel Angel/Documents/Supersalud/Pagos_EPS_Proveedores/Recursos_No_UPC/2021/MARZO.xlsx', sheet_name='Hoja1')"
   ]
  },
  {
   "cell_type": "code",
   "execution_count": 71,
   "metadata": {},
   "outputs": [
    {
     "output_type": "stream",
     "name": "stdout",
     "text": [
      "Index(['Normativa', 'Paquete', 'Régimen', 'Tipo Recobro', 'NIT EPS',\n       'Nombre EPS que autorizó el giro', 'NIT IPS/Proveedor',\n       'Nombre IPS/Proveedor', 'Fecha Pago', 'Valor Girado',\n       'Valor Total a Descontar', 'Oservación'],\n      dtype='object')\n"
     ]
    }
   ],
   "source": [
    "print(FEBRERO.columns)"
   ]
  },
  {
   "cell_type": "code",
   "execution_count": 72,
   "metadata": {},
   "outputs": [
    {
     "output_type": "stream",
     "name": "stdout",
     "text": [
      "Index(['Normativa', 'Paquete', 'Régimen', 'Tipo Recobro', 'NIT EPS',\n       'Nombre EPS que autorizó el giro', 'NIT IPS/Proveedor',\n       'Nombre IPS/Proveedor', 'Fecha Pago', 'Valor Girado',\n       'Valor Total a Descontar', 'Oservación'],\n      dtype='object')\n"
     ]
    }
   ],
   "source": [
    "print(MARZO.columns)"
   ]
  },
  {
   "cell_type": "code",
   "execution_count": 73,
   "metadata": {},
   "outputs": [],
   "source": [
    "# Para homogenizar los nombres de las columnas y facilitar la pega posteriormente\n",
    "# En este caso los nombres de las variables son iguales así que no hay que homogenizar \n",
    "# ENERO.rename(columns={'Valor Autorizado \\npor la EPS ($)': 'Valor Autorizado por EPS', 'Código_EPS': 'Código EPS', 'Valor Girado a IPS': 'Valor Girado IPS', 'Observación': 'observación'}, inplace=True)\n",
    "# FEBRERO.rename(columns={'Valor Autorizado \\npor la EPS ($)': 'Valor Autorizado por EPS', 'Código_EPS': 'Código EPS', 'Valor Girado a IPS': 'Valor Girado IPS', 'Observación': 'observación'}, inplace=True)"
   ]
  },
  {
   "cell_type": "code",
   "execution_count": 74,
   "metadata": {},
   "outputs": [],
   "source": [
    "# Para agregar la columna de mes y corroborar posteriormente al concatenar las bases\n",
    "FEBRERO['Mes']='2'\n",
    "MARZO['Mes']='3'"
   ]
  },
  {
   "cell_type": "code",
   "execution_count": 75,
   "metadata": {},
   "outputs": [],
   "source": [
    "# Para agregar la columna de año y corroborar posteriormente al concatenar las bases\n",
    "# ENERO['Ano']='2020'\n",
    "FEBRERO['Ano']='2021'\n",
    "MARZO['Ano']='2021'"
   ]
  },
  {
   "cell_type": "code",
   "execution_count": 76,
   "metadata": {},
   "outputs": [],
   "source": [
    "# Se concatenan la bases de datos \n",
    "frames = [FEBRERO, MARZO]\n",
    "No_UPC = pd.concat(frames, ignore_index=True)"
   ]
  },
  {
   "cell_type": "code",
   "execution_count": 77,
   "metadata": {},
   "outputs": [
    {
     "output_type": "stream",
     "name": "stdout",
     "text": [
      "Index(['Normativa', 'Paquete', 'Régimen', 'Tipo Recobro', 'NIT EPS',\n       'Nombre EPS que autorizó el giro', 'NIT IPS/Proveedor',\n       'Nombre IPS/Proveedor', 'Fecha Pago', 'Valor Girado',\n       'Valor Total a Descontar', 'Oservación', 'Mes', 'Ano'],\n      dtype='object')\n"
     ]
    }
   ],
   "source": [
    "print(No_UPC.columns)"
   ]
  },
  {
   "cell_type": "code",
   "execution_count": 78,
   "metadata": {},
   "outputs": [],
   "source": [
    "# Se eliminan las columnas que no son de interés para GiroDirecto_Contributivo\n",
    "No_UPC = No_UPC.drop(['Normativa', 'Paquete', 'Régimen', 'Tipo Recobro', 'Nombre EPS que autorizó el giro','Nombre IPS/Proveedor', 'Fecha Pago', 'Valor Total a Descontar', 'Oservación'], axis=1)"
   ]
  },
  {
   "cell_type": "code",
   "execution_count": 79,
   "metadata": {},
   "outputs": [],
   "source": [
    "# Para renombrar las columnas de interés\n",
    "No_UPC.rename(columns={'NIT IPS/Proveedor': 'Nitproveedor', 'Valor Girado': 'No_UPC', 'NIT EPS': 'NIT_EPS'}, inplace=True)"
   ]
  },
  {
   "cell_type": "code",
   "execution_count": 91,
   "metadata": {},
   "outputs": [],
   "source": [
    "# Para hacer la suma de No_UPC por \n",
    "No_UPC_2021 = No_UPC.groupby(['NIT_EPS','Nitproveedor','Mes', 'Ano']).agg({'No_UPC': 'sum'}).reset_index()"
   ]
  },
  {
   "cell_type": "code",
   "execution_count": 92,
   "metadata": {},
   "outputs": [],
   "source": [
    "# Para guardar la base de datos lista para ser tratada en formato Excel y CSV\n",
    "No_UPC_2021.to_excel(r'No_UPC_ENEMAR2021.xlsx', index = False)\n",
    "No_UPC_2021.to_csv(r'No_UPC_ENEMAR2021.csv', index = False, encoding='utf-8-sig')"
   ]
  },
  {
   "cell_type": "code",
   "execution_count": 93,
   "metadata": {},
   "outputs": [],
   "source": [
    "# Para concatenar la base de datos de 2021 y 2020\n",
    "No_UPC_2020 = pd.read_excel('C:/Users/Miguel Angel/Documents/Supersalud/Pagos_EPS_Proveedores/Recursos_No_UPC/NoUPC_2020_V2.xlsx', dtype={'NIT_EPS':object, 'Nitproveedor': object, 'Mes':object, 'Ano':object})"
   ]
  },
  {
   "cell_type": "code",
   "execution_count": 96,
   "metadata": {},
   "outputs": [],
   "source": [
    "# Se concatenan la bases de datos para encontrar la base de datos final\n",
    "frames = [No_UPC_2021, No_UPC_2020]\n",
    "No_UPC_2020_2021 = pd.concat(frames, ignore_index=True)"
   ]
  },
  {
   "cell_type": "code",
   "execution_count": 98,
   "metadata": {},
   "outputs": [],
   "source": [
    "# Para guardar la base de datos lista para ser tratada en formato Excel y CSV\n",
    "No_UPC_2020_2021.to_excel(r'No_UPC_2020_ENEMAR2021_V2.xlsx', index = False)\n",
    "No_UPC_2020_2021.to_csv(r'No_UPC_2020_ENEMAR2021_V2.csv', index = False, encoding='utf-8-sig')"
   ]
  },
  {
   "source": [
    "<h2>Web - Giro - No UPC - PagoWeb</h2>\n",
    "<p> En este apartado se crea la base de datos Web - Giro - No UPC - PagoWeb </p>"
   ],
   "cell_type": "markdown",
   "metadata": {}
  },
  {
   "cell_type": "code",
   "execution_count": 1,
   "metadata": {},
   "outputs": [],
   "source": [
    "#Cargamos los paquetes que vamos a necesitar\n",
    "import pandas as pd\n",
    "import numpy as np\n",
    "import pyreadstat"
   ]
  },
  {
   "cell_type": "code",
   "execution_count": 2,
   "metadata": {},
   "outputs": [],
   "source": [
    "# Para concatenar la base de datos de 2021 y 2020. Primero se hace para NO UPC y Giro Directo\n",
    "No_UPC_2020_2021 = pd.read_excel('C:/Users/Miguel Angel/Documents/Supersalud/Pagos_EPS_Proveedores/Recursos_No_UPC/No_UPC_2020_ENEMAR2021_V2.xlsx', dtype={'NIT_EPS':object, 'Nitproveedor': object, 'Mes':object, 'Ano':object})\n",
    "GiroDirecto_2020_2021 = pd.read_excel('C:/Users/Miguel Angel/Documents/Supersalud/Pagos_EPS_Proveedores/GiroDirecto/GiroDirecto_2020_ENEMAR2021_V2.xlsx', dtype={'NIT_EPS':object, 'Nitproveedor': object, 'Mes':object, 'Ano':object})"
   ]
  },
  {
   "cell_type": "code",
   "execution_count": 3,
   "metadata": {},
   "outputs": [],
   "source": [
    "# Se unen las dos bases de datos para obtener la información de Giro Directo y No_UPC en una sola base de datos\n",
    "GD_UPC = pd.merge(GiroDirecto_2020_2021, No_UPC_2020_2021, how='outer', left_on=['NIT_EPS', 'Nitproveedor', 'Mes', 'Ano'], right_on=['NIT_EPS', 'Nitproveedor', 'Mes', 'Ano'])"
   ]
  },
  {
   "cell_type": "code",
   "execution_count": 4,
   "metadata": {},
   "outputs": [],
   "source": [
    "# Para concatenar la base de datos de 2021 y 2020\n",
    "CompraCartera2020 = pd.read_stata('C:/Users/Miguel Angel/Documents/Supersalud/Pagos_EPS_Proveedores/compracarteramayo.dta')"
   ]
  },
  {
   "cell_type": "code",
   "execution_count": 5,
   "metadata": {},
   "outputs": [],
   "source": [
    "#Se crea la variable año para la Compra de Cartera\n",
    "CompraCartera2020['Ano']='2020'"
   ]
  },
  {
   "cell_type": "code",
   "execution_count": 6,
   "metadata": {},
   "outputs": [],
   "source": [
    "# Se modifican los nombres de las columnas para posterimente pegar las bases de datos\n",
    "CompraCartera2020.rename(columns={'nit': 'NIT_EPS', 'nitproveedor': 'Nitproveedor', 'mes': 'Mes', 'compra': 'Compra_Cartera'}, inplace=True)"
   ]
  },
  {
   "cell_type": "code",
   "execution_count": 7,
   "metadata": {},
   "outputs": [],
   "source": [
    "#Se transforman las variables a STR para mejorar su manipulación\n",
    "CompraCartera2020[['NIT_EPS', 'Nitproveedor', 'Mes', 'Ano']] = CompraCartera2020[['NIT_EPS', 'Nitproveedor', 'Mes', 'Ano']].astype(str)"
   ]
  },
  {
   "cell_type": "code",
   "execution_count": 14,
   "metadata": {},
   "outputs": [],
   "source": [
    "# Se unen las dos bases de datos para obtener la información de Giro Directo - No_UPC y Compra de Cartera en una sola base de datos\n",
    "GD_UPC_CC= pd.merge(GD_UPC, CompraCartera2020, how='outer', left_on=['NIT_EPS', 'Nitproveedor', 'Mes', 'Ano'], right_on=['NIT_EPS', 'Nitproveedor', 'Mes', 'Ano'])"
   ]
  },
  {
   "cell_type": "code",
   "execution_count": 15,
   "metadata": {},
   "outputs": [],
   "source": [
    "# Para concatenar la base de datos de 2021 y 2020\n",
    "PagoWeb = pd.read_stata('C:/Users/Miguel Angel/Documents/Supersalud/Pagos_EPS_Proveedores/pagoweb.dta')"
   ]
  },
  {
   "cell_type": "code",
   "execution_count": 16,
   "metadata": {},
   "outputs": [],
   "source": [
    "#Se crea la variable año para la Compra de Cartera\n",
    "PagoWeb['Ano']='2020'"
   ]
  },
  {
   "cell_type": "code",
   "execution_count": 17,
   "metadata": {},
   "outputs": [],
   "source": [
    "# Se modifican los nombres de las columnas para posterimente pegar las bases de datos\n",
    "PagoWeb.rename(columns={'nit': 'NIT_EPS', 'nitproveedor': 'Nitproveedor', 'mes': 'Mes', 'pw': 'PW'}, inplace=True)"
   ]
  },
  {
   "cell_type": "code",
   "execution_count": 18,
   "metadata": {},
   "outputs": [],
   "source": [
    "# Se unen las dos bases de datos para obtener la información de Giro Directo - No_UPC y Compra de Cartera en una sola base de datos\n",
    "GD_UPC_CC_PW= pd.merge(GD_UPC_CC, PagoWeb, how='outer', left_on=['NIT_EPS', 'Nitproveedor', 'Mes', 'Ano'], right_on=['NIT_EPS', 'Nitproveedor', 'Mes', 'Ano'])"
   ]
  },
  {
   "cell_type": "code",
   "execution_count": 19,
   "metadata": {},
   "outputs": [],
   "source": [
    "# Para guardar la base de datos lista para ser tratada en formato Excel y CSV\n",
    "GD_UPC_CC_PW.to_excel(r'GD_UPC_CC_PW_2020_ENEMAR2021_V2.xlsx', index = False)\n",
    "GD_UPC_CC_PW.to_csv(r'GD_UPC_CC_PW_2020_ENEMAR2021_V2.csv', index = False, encoding='utf-8-sig')"
   ]
  },
  {
   "source": [
    "<h2>FT005</h2>\n",
    "<p> En este apartado se trata la base de datos FT005 </p>"
   ],
   "cell_type": "markdown",
   "metadata": {}
  },
  {
   "cell_type": "code",
   "execution_count": 1,
   "metadata": {},
   "outputs": [],
   "source": [
    "#Cargamos los paquetes que vamos a necesitar\n",
    "import pandas as pd\n",
    "import numpy as np\n",
    "import pyreadstat"
   ]
  },
  {
   "cell_type": "code",
   "execution_count": 2,
   "metadata": {},
   "outputs": [],
   "source": [
    "# Se carga el FT005 completo desde el archivo .dta\n",
    "# FT005 = pd.read_stata('C:/Users/Miguel Angel/Documents/Supersalud/Pagos_EPS_Proveedores/Informe_Pagos/FT005 20202021_cortado.dta')"
   ]
  },
  {
   "cell_type": "code",
   "execution_count": 3,
   "metadata": {},
   "outputs": [],
   "source": [
    "#Se transforman las variables a STR para mejorar su manipulación\n",
    "# FT005.Nit = FT005.Nit.astype(str)"
   ]
  },
  {
   "cell_type": "code",
   "execution_count": 4,
   "metadata": {},
   "outputs": [],
   "source": [
    "#Se elije una sola EPS para hacer más fácil el análisis\n",
    "# FT005_V1 = FEBRERO.loc[FEBRERO['Nit'] == '805000427']"
   ]
  },
  {
   "cell_type": "code",
   "execution_count": 5,
   "metadata": {},
   "outputs": [],
   "source": [
    "# Para guardar la base de datos ejemplo a tratar\n",
    "# FT005_V1.to_excel(r'FT005_V1.xlsx', index = False)"
   ]
  },
  {
   "cell_type": "code",
   "execution_count": 6,
   "metadata": {},
   "outputs": [],
   "source": [
    "# Se elimina el FT005 full para liberar espacio en la memoria\n",
    "# del FT005"
   ]
  },
  {
   "cell_type": "code",
   "execution_count": 7,
   "metadata": {},
   "outputs": [],
   "source": [
    "# Se carga la base de datos con una sola EPS para agilizar el código\n",
    "FT005_V1 = pd.read_excel('FT005_V1.xlsx', dtype={'Nit':object, 'Año': object, 'idProveedor':object, 'Periodo':object})"
   ]
  },
  {
   "cell_type": "code",
   "execution_count": 8,
   "metadata": {},
   "outputs": [],
   "source": [
    "# Se reemplazan los nombres de las columnas para facilitar el tratamiento\n",
    "FT005_V1.rename(columns={'Nit': 'NIT_EPS', 'Año': 'Ano', 'Periodo': 'Mes', 'lineaNegocio': 'Linea','tipoIdProveedor': 'Tipoproveedor', 'idProveedor': 'Nitproveedor', 'codigoConcepto': 'Concepto', 'descripcionCyG': 'CyG', 'valorCausado': 'VCausado', 'valorPagado': 'VPagado'}, inplace=True)"
   ]
  },
  {
   "cell_type": "code",
   "execution_count": 9,
   "metadata": {},
   "outputs": [],
   "source": [
    "#Se transforman las variables a STR para mejorar su manipulación\n",
    "FT005_V1[['NIT_EPS', 'Nitproveedor', 'Tipoproveedor', 'Mes', 'Ano']] = FT005_V1[['NIT_EPS', 'Nitproveedor', 'Tipoproveedor', 'Mes', 'Ano']].astype(str)"
   ]
  },
  {
   "cell_type": "code",
   "execution_count": 10,
   "metadata": {},
   "outputs": [],
   "source": [
    "# Se filtra la línea de negocio de interés. En este caso corresponde a la línea 1 ----- Preguntar a qué corresponde la línea 1\n",
    "FT005_V1 = FT005_V1.loc[FT005_V1['Linea'] == 1]"
   ]
  },
  {
   "cell_type": "code",
   "execution_count": 11,
   "metadata": {},
   "outputs": [],
   "source": [
    "# Para hacer la suma de Valor pagado y Valor causado por NIT EPS, tipo de proveedor, NIT proveedor y Mes de interés\n",
    "FT005_V2 = FT005_V1.groupby(['NIT_EPS', 'Tipoproveedor', 'Nitproveedor', 'Mes', 'Ano']).agg({'VPagado': 'sum','VCausado': 'sum'}).reset_index()"
   ]
  },
  {
   "cell_type": "code",
   "execution_count": 12,
   "metadata": {},
   "outputs": [
    {
     "output_type": "stream",
     "name": "stdout",
     "text": [
      "El número de registros duplicados es:\n0\n"
     ]
    }
   ],
   "source": [
    "# Se comprueba que no haya duplicados cuando se filtra por NIT EPS, tipo de proveedor, NIT proveedor y Mes. Para esto se cuenta el número de duplicados\n",
    "duplicadosFT005_V2 = FT005_V2[FT005_V2.duplicated(['NIT_EPS', 'Nitproveedor', 'Mes', 'Ano'], keep='last')]\n",
    "print(\"El número de registros duplicados es:\", duplicadosFT005_V2.NIT_EPS.count(), sep='\\n')"
   ]
  },
  {
   "cell_type": "code",
   "execution_count": 13,
   "metadata": {},
   "outputs": [],
   "source": [
    "# Se genera una nueva columna extrayendo el primer caracter del ID nitproveedor\n",
    "FT005_V2['d1'] = FT005_V2['Nitproveedor'].str[:1]"
   ]
  },
  {
   "cell_type": "code",
   "execution_count": 14,
   "metadata": {},
   "outputs": [],
   "source": [
    "# Se genera una nueva columna con la cuenta del numero de componentes que tiene el ID nitproveedor\n",
    "FT005_V2['largo'] = FT005_V2.Nitproveedor.str.len()"
   ]
  },
  {
   "cell_type": "code",
   "execution_count": 15,
   "metadata": {},
   "outputs": [],
   "source": [
    "# Se limpia la clasificación por Tipo de Proveedor\n",
    "FT005_V2['Tipoproveedor_corregido'] = 'NA' # Se crea la columna con categoria NA como base\n",
    "# Condiciones\n",
    "FT005_V2.loc[(FT005_V2['largo'] == 10) & # Para signar el tipo de proveedor CC\n",
    "       (FT005_V2['d1'] == '1'), \n",
    "       'Tipoproveedor_corregido'] = 'CC' \n",
    "FT005_V2.loc[(FT005_V2['largo'] == 9) & # Para signar el tipo de proveedor NI\n",
    "       ((FT005_V2['d1'] == '7') |\n",
    "       (FT005_V2['d1'] == '8') |\n",
    "       (FT005_V2['d1'] == '9')),  \n",
    "       'Tipoproveedor_corregido'] = 'NI' \n",
    "FT005_V2.loc[(FT005_V2['Tipoproveedor_corregido'] != 'NI'), # Para completar el tipo de proveedor CC\n",
    "       'Tipoproveedor_corregido'] = 'CC' "
   ]
  },
  {
   "cell_type": "code",
   "execution_count": 16,
   "metadata": {},
   "outputs": [
    {
     "output_type": "stream",
     "name": "stdout",
     "text": [
      "NI    102699\nCC     94707\nName: Tipoproveedor, dtype: int64\nNI    102739\nCC     94667\nName: Tipoproveedor_corregido, dtype: int64\n"
     ]
    }
   ],
   "source": [
    "print(FT005_V2.Tipoproveedor.value_counts())\n",
    "print(FT005_V2.Tipoproveedor_corregido.value_counts())"
   ]
  },
  {
   "cell_type": "code",
   "execution_count": 17,
   "metadata": {},
   "outputs": [],
   "source": [
    "# # Se crea una lista de condiciones simultaneas para asignar el tipo de proveedor\n",
    "\n",
    "# condiciones = [\n",
    "#     (FT005_V2['largo'] == 10) & (FT005_V2['d1'] == '1'), # Para signar el tipo de proveedor CC\n",
    "#     (FT005_V2['largo'] == 9) & ((FT005_V2['d1'] == '7') | (FT005_V2['d1'] == '8') | (FT005_V2['d1'] == '9')), # Para signar el tipo de proveedor NI\n",
    "#     (FT005_V2['largo'] == 9)\n",
    "#     ]\n",
    "\n",
    "# # Se asignan los valores correspondientes a cada una de las condiciones de nuestra lista\n",
    "# valores = ['CC', 'NI', 'CC']\n",
    "\n",
    "# # Se crea una nueva columna para asignar los valores dadas las condiciones \n",
    "# FT005_V2['tipoproveedor_corregido'] = np.select(condiciones, valores)\n",
    "# FT005_V2.tipoproveedor_corregido = FT005_V2.tipoproveedor_corregido.astype(str)\n",
    "\n",
    "# # Se da un resumen de como se ve el en general la nueva variable corregida\n",
    "# print(FT005_V2.tipoproveedor.value_counts())\n",
    "# print(FT005_V2.tipoproveedor_corregido.value_counts())"
   ]
  },
  {
   "cell_type": "code",
   "execution_count": 18,
   "metadata": {},
   "outputs": [],
   "source": [
    "# ESTA LINEA GENERA PROBLEMAS PORQUE CONVIERTE TODO EN CC Y UN NIT DEBE TENER SIEMPRE 9 DIGITOS MÁS 1 DIGITO DE VERIFICACION - PENSAR EN COMPLEMENTO PARA MEJORAR\n",
    "# FT005_V2.loc[(FT005_V2['tipoproveedor_corregido2'] != 'NI'), 'tipoproveedor_corregido2'] = 'CC' # Para completar el tipo de proveedor CC"
   ]
  },
  {
   "cell_type": "code",
   "execution_count": 19,
   "metadata": {},
   "outputs": [],
   "source": [
    "# Para hacer la suma de Valor pagado y Valor causado por NIT EPS, tipo de proveedor corregido, NIT proveedor y Mes de interés\n",
    "FT005_V3 = FT005_V2.groupby(['NIT_EPS', 'Tipoproveedor_corregido', 'Nitproveedor', 'Mes', 'Ano']).agg({'VPagado': 'sum','VCausado': 'sum'}).reset_index()"
   ]
  },
  {
   "cell_type": "code",
   "execution_count": 20,
   "metadata": {},
   "outputs": [],
   "source": [
    "# Se carga la base de datos webgironoupc para pegarla con el FT005\n",
    "webgironoupc = pd.read_excel('C:/Users/Miguel Angel/Documents/Supersalud/Pagos_EPS_Proveedores/GD_UPC_CC_PW_2020_ENEMAR2021_V2.xlsx', dtype={'NIT_EPS':object, 'Nitproveedor': object, 'Mes':object, 'Ano':object}) "
   ]
  },
  {
   "cell_type": "code",
   "execution_count": 21,
   "metadata": {},
   "outputs": [],
   "source": [
    "# Se elimina la variable que no nos interesa para la posterior pega de base de datos\n",
    "# webgironoupc=webgironoupc.drop(columns=['indicator_column'])"
   ]
  },
  {
   "cell_type": "code",
   "execution_count": 22,
   "metadata": {},
   "outputs": [],
   "source": [
    "# Se unen las dos bases de datos para obtener la información de webgironoupc (Giro Directo - No_UPC - Compra de Cartera) y FT005 en una sola base de datos\n",
    "FT005_web= pd.merge(FT005_V3, webgironoupc, how='outer', left_on=['NIT_EPS', 'Nitproveedor', 'Mes', 'Ano'], right_on=['NIT_EPS', 'Nitproveedor', 'Mes', 'Ano'])"
   ]
  },
  {
   "cell_type": "code",
   "execution_count": 23,
   "metadata": {},
   "outputs": [],
   "source": [
    "# Se eliminan la bases que no se necesitan para liberar espacio en la memoria\n",
    "del [FT005_V1, FT005_V2, duplicadosFT005_V2, FT005_V3, webgironoupc]"
   ]
  },
  {
   "cell_type": "code",
   "execution_count": 24,
   "metadata": {},
   "outputs": [],
   "source": [
    "# Se carga la base de datos prestadores.dta para su posterior pega\n",
    "prestadores = pd.read_stata('C:/Users/Miguel Angel/Documents/Supersalud/Pagos_EPS_Proveedores/prestadores.dta')"
   ]
  },
  {
   "cell_type": "code",
   "execution_count": 25,
   "metadata": {},
   "outputs": [],
   "source": [
    "# Se reemplazan los nombres de las columnas para facilitar el tratamiento\n",
    "prestadores.rename(columns={'nitproveedor': 'Nitproveedor', 'departamento': 'Departamento'}, inplace=True)"
   ]
  },
  {
   "cell_type": "code",
   "execution_count": 26,
   "metadata": {},
   "outputs": [
    {
     "output_type": "stream",
     "name": "stdout",
     "text": [
      "El número de registros duplicados es:\n0\n"
     ]
    }
   ],
   "source": [
    "# Se comprueba que no haya duplicados cuando se filtra por Nitproveedor. Para esto se cuenta el número de duplicados\n",
    "duplicados_prestadores = prestadores[prestadores.duplicated(['Nitproveedor'], keep='last')]\n",
    "print(\"El número de registros duplicados es:\", duplicados_prestadores.Nitproveedor.count(), sep='\\n')"
   ]
  },
  {
   "cell_type": "code",
   "execution_count": 27,
   "metadata": {},
   "outputs": [],
   "source": [
    "# Se unen las dos bases de datos para obtener la información de FT005 con webgironoupc (Giro Directo - No_UPC - Compra de Cartera) y prestadores\n",
    "FT005_web_pres= pd.merge(FT005_web, prestadores, how='left', left_on=['Nitproveedor'], right_on=['Nitproveedor'])"
   ]
  },
  {
   "cell_type": "code",
   "execution_count": 28,
   "metadata": {},
   "outputs": [],
   "source": [
    "# Se carga la base de datos operadores.dta para su posterior pega\n",
    "operadores = pd.read_stata('C:/Users/Miguel Angel/Documents/Supersalud/Pagos_EPS_Proveedores/operadores.dta')"
   ]
  },
  {
   "cell_type": "code",
   "execution_count": 29,
   "metadata": {},
   "outputs": [],
   "source": [
    "# Se reemplazan los nombres de las columnas para facilitar el tratamiento\n",
    "operadores.rename(columns={'nitproveedor': 'Nitproveedor', 'razonsocial': 'Razonsocial'}, inplace=True)"
   ]
  },
  {
   "cell_type": "code",
   "execution_count": 30,
   "metadata": {},
   "outputs": [
    {
     "output_type": "stream",
     "name": "stdout",
     "text": [
      "El número de registros duplicados es:\n0\n"
     ]
    }
   ],
   "source": [
    "# Se comprueba que no haya duplicados cuando se filtra por Nitproveedor. Para esto se cuenta el número de duplicados\n",
    "duplicados_operadores = operadores[operadores.duplicated(['Nitproveedor'], keep='last')]\n",
    "print(\"El número de registros duplicados es:\", duplicados_operadores.Nitproveedor.count(), sep='\\n')"
   ]
  },
  {
   "cell_type": "code",
   "execution_count": 31,
   "metadata": {},
   "outputs": [],
   "source": [
    "# Se unen las dos bases de datos para obtener la información de FT005 con webgironoupc (Giro Directo - No_UPC - Compra de Cartera) y prestadores\n",
    "FT005_web_pres_ope= pd.merge(FT005_web_pres, operadores, how='left', left_on=['Nitproveedor'], right_on=['Nitproveedor'])"
   ]
  },
  {
   "cell_type": "code",
   "execution_count": 32,
   "metadata": {},
   "outputs": [],
   "source": [
    "# Se reemplazan los nombres de las columnas para facilitar el tratamiento\n",
    "FT005_web_pres_ope.rename(columns={'Tipoproveedor_corregido': 'Tipoproveedor'}, inplace=True)"
   ]
  },
  {
   "cell_type": "code",
   "execution_count": 33,
   "metadata": {},
   "outputs": [],
   "source": [
    "# Se eliminan la bases que no se necesitan para liberar espacio en la memoria\n",
    "del [FT005_web_pres, operadores, duplicados_operadores, prestadores, duplicados_prestadores, FT005_web]"
   ]
  },
  {
   "cell_type": "code",
   "execution_count": 34,
   "metadata": {},
   "outputs": [],
   "source": [
    "# Se crea la columna noID tomando como referencia la columna clpr_nombre\n",
    "FT005_web_pres_ope['noID'] = FT005_web_pres_ope['clpr_nombre'] "
   ]
  },
  {
   "cell_type": "code",
   "execution_count": 35,
   "metadata": {},
   "outputs": [],
   "source": [
    "# Se establecen las condiciones para establecer correctamente el noID\n",
    "\n",
    "FT005_web_pres_ope.loc[(FT005_web_pres_ope['NIT_EPS'] == FT005_web_pres_ope['Nitproveedor']), # Se reemplaza por EPS todo aquel proveedor que sea una EPS\n",
    "       'noID'] = 'EPS'\n",
    "\n",
    "FT005_web_pres_ope.loc[(FT005_web_pres_ope['Nitproveedor'] == '\"901037916\"') | # Se reemplazan los NIT de la nación\n",
    "       (FT005_web_pres_ope['Nitproveedor'] == \"900047282\") |\n",
    "       (FT005_web_pres_ope['Nitproveedor'] == \"899999014\") |\n",
    "       (FT005_web_pres_ope['Nitproveedor'] == \"900474727\") |\n",
    "       (FT005_web_pres_ope['Nitproveedor'] == \"900462447\"),  \n",
    "       'noID'] = 'Nacion' \n",
    "\n",
    "FT005_web_pres_ope.loc[FT005_web_pres_ope['noID'].isnull(), 'noID'] = 'Otro' # Para rellenar los vacios con \"Otro\"\n",
    "\n",
    "FT005_web_pres_ope.loc[(FT005_web_pres_ope['clpr_nombre'] == 'IPS') & # Para corregir el IPS cuando Tipo es vacío, por IPS-OL-DM-GIM\n",
    "       (FT005_web_pres_ope['tipo'].notnull()), \n",
    "       'noID'] = 'IPS-OL-DM-GIM'\n",
    "\n",
    "FT005_web_pres_ope.loc[(FT005_web_pres_ope['tipo'].notnull()) & # Para dejar el Tipo cuando se tiene OSD u Otro\n",
    "       ((FT005_web_pres_ope['noID'] == 'OSD') |\n",
    "       (FT005_web_pres_ope['noID'] == 'Otro')), \n",
    "       'noID'] = FT005_web_pres_ope['tipo']\n",
    "\n",
    "FT005_web_pres_ope.loc[(FT005_web_pres_ope['noID'] == 'Otro') & # Para cambiar el noID por Persona Natural si en Tipo Proveedor se tiene CC y CE\n",
    "       ((FT005_web_pres_ope['Tipoproveedor'] == 'CC') |\n",
    "       (FT005_web_pres_ope['Tipoproveedor'] == 'CE')), \n",
    "       'noID'] = 'Persona Natural'\n",
    "\n",
    "FT005_web_pres_ope.loc[(FT005_web_pres_ope['Departamento'].isnull()) & # Para asignar \"Otro\" al departamento si está vacío y si es una IPS o IPS Pública\n",
    "       ((FT005_web_pres_ope['noID'] == 'IPS Pública') |\n",
    "       (FT005_web_pres_ope['noID'] == 'IPS')), \n",
    "       'Departamento'] = 'Otro'"
   ]
  },
  {
   "cell_type": "code",
   "execution_count": 36,
   "metadata": {},
   "outputs": [],
   "source": [
    "# Se convierte la variable en mes y año\n",
    "FT005_web_pres_ope[['Ano', 'Mes']] = FT005_web_pres_ope[['Ano', 'Mes']].astype(float).astype(int)\n",
    "FT005_web_pres_ope = FT005_web_pres_ope.reset_index() "
   ]
  },
  {
   "cell_type": "code",
   "execution_count": 37,
   "metadata": {},
   "outputs": [],
   "source": [
    "# Se agrega la información por NIT_EPS, Nitproveedor, noID, Departamento, Ano, Mes para las variables VPagado, VCausado, PW, Giro, No_UPC, Compra_Cartera\n",
    "FT005_web_pres_ope = FT005_web_pres_ope.groupby(['NIT_EPS', 'Nitproveedor', 'noID', 'Departamento', 'Ano', 'Mes'])[['VPagado', 'VCausado', 'PW', 'Giro', 'No_UPC', 'Compra_Cartera']].sum().reset_index()"
   ]
  },
  {
   "cell_type": "code",
   "execution_count": 38,
   "metadata": {},
   "outputs": [],
   "source": [
    "# Se crea el rango de meses necesarios en cada mes\n",
    "fecha_ideal=range(1, 12 + 1)\n",
    "# Se rellena con ceros la información para los meses faltantes\n",
    "FT005_web_pres_ope = FT005_web_pres_ope.set_index('Mes').groupby(['NIT_EPS', 'Nitproveedor', 'noID', 'Departamento', 'Ano']).apply(lambda x: x.reindex(index=fecha_ideal, fill_value=0)).drop(['NIT_EPS', 'Nitproveedor', 'noID', 'Departamento', 'Ano'], 1)"
   ]
  },
  {
   "cell_type": "code",
   "execution_count": 39,
   "metadata": {},
   "outputs": [],
   "source": [
    "# Se calcula la diferencia mensual para conocer el valor mensual de cada cuenta ya que por defecto vienen agregadas\n",
    "FT005_web_pres_ope_dif = FT005_web_pres_ope.groupby(['NIT_EPS', 'Nitproveedor', 'noID', 'Departamento', 'Ano']).diff().fillna(0)\n"
   ]
  },
  {
   "cell_type": "code",
   "execution_count": 41,
   "metadata": {},
   "outputs": [],
   "source": [
    "FT005_web_pres_ope_dif = FT005_web_pres_ope_dif.reset_index()\n",
    "FT005_web_pres_ope = FT005_web_pres_ope.reset_index()"
   ]
  },
  {
   "cell_type": "code",
   "execution_count": 42,
   "metadata": {},
   "outputs": [],
   "source": [
    "FT005_web_pres_ope_dif.loc[FT005_web_pres_ope_dif['Mes'] == 1] = FT005_web_pres_ope"
   ]
  },
  {
   "cell_type": "code",
   "execution_count": 43,
   "metadata": {},
   "outputs": [],
   "source": [
    "# Se reemplazan los nombres de las columnas para facilitar el tratamiento\n",
    "FT005_web_pres_ope_dif.rename(columns={'VPagado': 'VPagado_mes', 'VCausado': 'VCausado_mes'}, inplace=True)"
   ]
  },
  {
   "cell_type": "code",
   "execution_count": 44,
   "metadata": {},
   "outputs": [],
   "source": [
    "# Se eliminan las columnas que no son de interés\n",
    "FT005_web_pres_ope_dif = FT005_web_pres_ope_dif.drop(['PW', 'Giro', 'No_UPC', 'Compra_Cartera'], axis=1)"
   ]
  },
  {
   "cell_type": "code",
   "execution_count": 45,
   "metadata": {},
   "outputs": [],
   "source": [
    "# Se unen las dos bases de datos para obtener la información de webgironoupc (Giro Directo - No_UPC - Compra de Cartera) y FT005 en una sola base de datos. Desagregando el valor de VCausado y el VPagado para cada mes\n",
    "FT005_web_pres_ope= pd.merge(FT005_web_pres_ope, FT005_web_pres_ope_dif, how='outer', left_on=['NIT_EPS', 'Nitproveedor', 'noID', 'Departamento', 'Ano', 'Mes'], right_on=['NIT_EPS', 'Nitproveedor', 'noID', 'Departamento', 'Ano', 'Mes'])"
   ]
  },
  {
   "cell_type": "code",
   "execution_count": 47,
   "metadata": {},
   "outputs": [
    {
     "output_type": "execute_result",
     "data": {
      "text/plain": [
       "     NIT_EPS Nitproveedor                       noID Departamento   Ano  Mes  \\\n",
       "0  800088702     10006332  Profesional Independiente    Risaralda  2020    1   \n",
       "1  800088702     10006332  Profesional Independiente    Risaralda  2020    2   \n",
       "\n",
       "   VPagado  VCausado   PW  Giro  No_UPC  Compra_Cartera  VPagado_mes  \\\n",
       "0      0.0       0.0  0.0   0.0     0.0             0.0          0.0   \n",
       "1      0.0       0.0  0.0   0.0     0.0             0.0          0.0   \n",
       "\n",
       "   VCausado_mes  \n",
       "0           0.0  \n",
       "1           0.0  "
      ],
      "text/html": "<div>\n<style scoped>\n    .dataframe tbody tr th:only-of-type {\n        vertical-align: middle;\n    }\n\n    .dataframe tbody tr th {\n        vertical-align: top;\n    }\n\n    .dataframe thead th {\n        text-align: right;\n    }\n</style>\n<table border=\"1\" class=\"dataframe\">\n  <thead>\n    <tr style=\"text-align: right;\">\n      <th></th>\n      <th>NIT_EPS</th>\n      <th>Nitproveedor</th>\n      <th>noID</th>\n      <th>Departamento</th>\n      <th>Ano</th>\n      <th>Mes</th>\n      <th>VPagado</th>\n      <th>VCausado</th>\n      <th>PW</th>\n      <th>Giro</th>\n      <th>No_UPC</th>\n      <th>Compra_Cartera</th>\n      <th>VPagado_mes</th>\n      <th>VCausado_mes</th>\n    </tr>\n  </thead>\n  <tbody>\n    <tr>\n      <th>0</th>\n      <td>800088702</td>\n      <td>10006332</td>\n      <td>Profesional Independiente</td>\n      <td>Risaralda</td>\n      <td>2020</td>\n      <td>1</td>\n      <td>0.0</td>\n      <td>0.0</td>\n      <td>0.0</td>\n      <td>0.0</td>\n      <td>0.0</td>\n      <td>0.0</td>\n      <td>0.0</td>\n      <td>0.0</td>\n    </tr>\n    <tr>\n      <th>1</th>\n      <td>800088702</td>\n      <td>10006332</td>\n      <td>Profesional Independiente</td>\n      <td>Risaralda</td>\n      <td>2020</td>\n      <td>2</td>\n      <td>0.0</td>\n      <td>0.0</td>\n      <td>0.0</td>\n      <td>0.0</td>\n      <td>0.0</td>\n      <td>0.0</td>\n      <td>0.0</td>\n      <td>0.0</td>\n    </tr>\n  </tbody>\n</table>\n</div>"
     },
     "metadata": {},
     "execution_count": 47
    }
   ],
   "source": [
    "FT005_web_pres_ope.head(2)"
   ]
  },
  {
   "cell_type": "code",
   "execution_count": 46,
   "metadata": {},
   "outputs": [],
   "source": [
    "# Para guardar la base de datos lista para ser tratada en formato Excel y CSV\n",
    "# FT005_web_pres_ope.to_excel(r'CausaPrestador_2020_2021.xlsx', index = False)"
   ]
  },
  {
   "source": [
    "<h2>FT003</h2>\n",
    "<p> En este apartado se trata la base de datos FT003 </p>"
   ],
   "cell_type": "markdown",
   "metadata": {}
  },
  {
   "cell_type": "code",
   "execution_count": null,
   "metadata": {},
   "outputs": [],
   "source": [
    "# Se carga el FT005 completo desde el archivo .dta\n",
    "# FT003 = pd.read_stata('C:/Users/Miguel Angel/Documents/Supersalud/Pagos_EPS_Proveedores/Informe_Pagos/FT003 20202021.dta')"
   ]
  },
  {
   "cell_type": "code",
   "execution_count": null,
   "metadata": {},
   "outputs": [],
   "source": []
  }
 ]
}