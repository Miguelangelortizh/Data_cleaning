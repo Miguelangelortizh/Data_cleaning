{
 "metadata": {
  "language_info": {
   "codemirror_mode": {
    "name": "ipython",
    "version": 3
   },
   "file_extension": ".py",
   "mimetype": "text/x-python",
   "name": "python",
   "nbconvert_exporter": "python",
   "pygments_lexer": "ipython3",
   "version": "3.8.5"
  },
  "orig_nbformat": 2,
  "kernelspec": {
   "name": "python385jvsc74a57bd0b3ba2566441a7c06988d0923437866b63cedc61552a5af99d1f4fb67d367b25f",
   "display_name": "Python 3.8.5 64-bit ('base': conda)"
  }
 },
 "nbformat": 4,
 "nbformat_minor": 2,
 "cells": [
  {
   "cell_type": "code",
   "execution_count": 1,
   "metadata": {},
   "outputs": [],
   "source": [
    "#Cargamos los paquetes que vamos a necesitar\n",
    "import pandas as pd\n",
    "import numpy as np\n",
    "import pyreadstat"
   ]
  },
  {
   "cell_type": "code",
   "execution_count": 4,
   "metadata": {},
   "outputs": [],
   "source": [
    "# Se carga el archivo tratado del FT007 que fue grabado como causaprestador\n",
    "val_1 = pd.read_csv('C:/Users/Miguel Angel/OneDrive - Supersalud/Calidad de la Información/Cristhian/Resultados/FT008/val_1.csv', dtype={'nit':object, 'año': object, 'periodo': object, 'idEmisora':object, 'dvEmisora': object} )"
   ]
  },
  {
   "cell_type": "code",
   "execution_count": 3,
   "metadata": {},
   "outputs": [
    {
     "output_type": "stream",
     "name": "stdout",
     "text": [
      "<class 'pandas.core.frame.DataFrame'>\nRangeIndex: 661 entries, 0 to 660\nData columns (total 59 columns):\n #   Column                Non-Null Count  Dtype  \n---  ------                --------------  -----  \n 0   nit                   661 non-null    int64  \n 1   RazonSocial           661 non-null    object \n 2   año                   661 non-null    int64  \n 3   periodo               661 non-null    int64  \n 4   lineaNegocio          661 non-null    int64  \n 5   pais                  660 non-null    object \n 6   idEmisora             661 non-null    int64  \n 7   dvEmisora             661 non-null    int64  \n 8   nombreEmisora         653 non-null    object \n 9   tipoInversion         661 non-null    int64  \n 10  otraInversion         74 non-null     object \n 11  fechaEmision          397 non-null    object \n 12  fechaVencimiento      227 non-null    object \n 13  fechaCompra           661 non-null    object \n 14  valorCompra           661 non-null    int64  \n 15  tasaCompra            602 non-null    object \n 16  ValorNominal          661 non-null    int64  \n 17  tipoMoneda            661 non-null    object \n 18  tasaFacial            637 non-null    object \n 19  modalidad             661 non-null    int64  \n 20  periodicidad          661 non-null    object \n 21  tasaMercado           661 non-null    float64\n 22  valorMercado          661 non-null    int64  \n 23  duracion              661 non-null    float64\n 24  participacion         661 non-null    float64\n 25  rendimientos          661 non-null    int64  \n 26  gravamen              661 non-null    int64  \n 27  estado                661 non-null    int64  \n 28  fechaMedida           11 non-null     object \n 29  valorMedida           661 non-null    int64  \n 30  vinculado             661 non-null    int64  \n 31  FechaFinalCorte       661 non-null    object \n 32  fechareporte          661 non-null    object \n 33  Val_lineaNegocio      661 non-null    object \n 34  Val_pais              661 non-null    object \n 35  Val_idEmisora         661 non-null    object \n 36  ValNombre_emisora     661 non-null    object \n 37  Val_tipoInversión     661 non-null    object \n 38  Val_otraInversión     661 non-null    object \n 39  Val_fechaEmisión      661 non-null    object \n 40  Val_fechaVencimiento  661 non-null    object \n 41  Val_fechaCompra       661 non-null    object \n 42  Val_ValorCompra       661 non-null    object \n 43  Val_TasaCompra        661 non-null    object \n 44  Val_valorNominal      661 non-null    object \n 45  Val_tipoMoneda        661 non-null    object \n 46  Val_tasafacial        661 non-null    object \n 47  Val_modalidad         661 non-null    object \n 48  Val_Periodicidad      661 non-null    object \n 49  Val_tasaMercado       661 non-null    object \n 50  Val_valorMercado      661 non-null    object \n 51  Val_duración          661 non-null    object \n 52  Val_participacion     661 non-null    object \n 53  Val_rendimientos      661 non-null    object \n 54  Val_gravamen          661 non-null    object \n 55  Val_estado            661 non-null    object \n 56  val_fechaMedida       661 non-null    object \n 57  Val_valorMedida       661 non-null    object \n 58  Vali_vinculado        661 non-null    object \ndtypes: float64(3), int64(16), object(40)\nmemory usage: 304.8+ KB\n"
     ]
    }
   ],
   "source": [
    "val_1.info()"
   ]
  },
  {
   "cell_type": "code",
   "execution_count": 7,
   "metadata": {},
   "outputs": [
    {
     "output_type": "execute_result",
     "data": {
      "text/plain": [
       "Index(['nit', 'RazonSocial', 'año', 'periodo', 'lineaNegocio', 'pais',\n",
       "       'idEmisora', 'dvEmisora', 'nombreEmisora', 'tipoInversion',\n",
       "       'otraInversion', 'fechaEmision', 'fechaVencimiento', 'fechaCompra',\n",
       "       'valorCompra', 'tasaCompra', 'ValorNominal', 'tipoMoneda', 'tasaFacial',\n",
       "       'modalidad', 'periodicidad', 'tasaMercado', 'valorMercado', 'duracion',\n",
       "       'participacion', 'rendimientos', 'gravamen', 'estado', 'fechaMedida',\n",
       "       'valorMedida', 'vinculado', 'FechaFinalCorte', 'fechareporte',\n",
       "       'Val_lineaNegocio', 'Val_pais', 'Val_idEmisora', 'ValNombre_emisora',\n",
       "       'Val_tipoInversión', 'Val_otraInversión', 'Val_fechaEmisión',\n",
       "       'Val_fechaVencimiento', 'Val_fechaCompra', 'Val_ValorCompra',\n",
       "       'Val_TasaCompra', 'Val_valorNominal', 'Val_tipoMoneda',\n",
       "       'Val_tasafacial', 'Val_modalidad', 'Val_Periodicidad',\n",
       "       'Val_tasaMercado', 'Val_valorMercado', 'Val_duración',\n",
       "       'Val_participacion', 'Val_rendimientos', 'Val_gravamen', 'Val_estado',\n",
       "       'val_fechaMedida', 'Val_valorMedida', 'Vali_vinculado'],\n",
       "      dtype='object')"
      ]
     },
     "metadata": {},
     "execution_count": 7
    }
   ],
   "source": [
    "val_1.columns"
   ]
  },
  {
   "cell_type": "code",
   "execution_count": 39,
   "metadata": {},
   "outputs": [],
   "source": [
    "# Se cuentan todas todas las coincidencias\n",
    "Conteo = val_1[['Val_pais', 'Val_idEmisora', 'ValNombre_emisora', 'Val_tipoInversión', 'Val_otraInversión', 'Val_fechaEmisión', 'Val_fechaCompra', 'Val_TasaCompra', 'Val_tasafacial', 'Val_tasaMercado', 'Val_duración', 'Val_participacion']].apply(pd.value_counts)"
   ]
  },
  {
   "cell_type": "code",
   "execution_count": 35,
   "metadata": {},
   "outputs": [
    {
     "output_type": "execute_result",
     "data": {
      "text/plain": [
       "Val_tipoInversión       \n",
       "Verificar tipo inversión    636\n",
       "Tipo inversión correcto      25\n",
       "dtype: int64"
      ]
     },
     "metadata": {},
     "execution_count": 35
    }
   ],
   "source": [
    "val_1[['Val_tipoInversión']].value_counts()"
   ]
  },
  {
   "cell_type": "code",
   "execution_count": 6,
   "metadata": {
    "tags": []
   },
   "outputs": [],
   "source": [
    "df1 = val_1.apply(lambda row: row.astype(str).str.contains('Verificar').any(), axis=1)"
   ]
  },
  {
   "cell_type": "code",
   "execution_count": 10,
   "metadata": {},
   "outputs": [],
   "source": [
    "# Para contar en cuantas columnas hay un verificar\n",
    "lista = ['Verificar país','Verificar id Emisora', 'Verificar nombre emisora', 'Verificar tipo inversión', 'Verificar otra inversión', 'Verificar Fecha emisión', 'Verificar Fecha Vencimiento', 'Verificar Fecha Compra', 'Verificar tasa compra', 'Verificar tasa facial', 'Verificar Tasa Mercado', 'Verificar duración', 'Verificar participación']\n",
    "val_1['Verificar_count'] = val_1.isin(lista).sum(axis='columns')"
   ]
  },
  {
   "source": [
    "<p> Tratamiento de los ST </P>"
   ],
   "cell_type": "markdown",
   "metadata": {}
  },
  {
   "cell_type": "code",
   "execution_count": 2,
   "metadata": {},
   "outputs": [
    {
     "output_type": "stream",
     "name": "stderr",
     "text": [
      "C:\\ProgramData\\Anaconda3\\lib\\site-packages\\IPython\\core\\interactiveshell.py:3146: DtypeWarning: Columns (6) have mixed types.Specify dtype option on import or set low_memory=False.\n  has_raised = await self.run_ast_nodes(code_ast.body, cell_name,\n"
     ]
    }
   ],
   "source": [
    "# Se carga el archivo tratado del FT007 que fue grabado como causaprestador\n",
    "ST005 = pd.read_csv('C:/Users/Miguel Angel/OneDrive - Supersalud/Calidad de la Información/Cristhian/Resultados/ST005/val_1.csv')"
   ]
  },
  {
   "cell_type": "code",
   "execution_count": 2,
   "metadata": {},
   "outputs": [
    {
     "output_type": "stream",
     "name": "stderr",
     "text": [
      "C:\\ProgramData\\Anaconda3\\lib\\site-packages\\IPython\\core\\interactiveshell.py:3146: DtypeWarning: Columns (7) have mixed types.Specify dtype option on import or set low_memory=False.\n  has_raised = await self.run_ast_nodes(code_ast.body, cell_name,\n"
     ]
    }
   ],
   "source": [
    "# Se carga el archivo tratado del FT007 que fue grabado como causaprestador\n",
    "ST006 = pd.read_csv('C:/Users/Miguel Angel/OneDrive - Supersalud/Calidad de la Información/Cristhian/Resultados/ST006/val_1.csv')"
   ]
  },
  {
   "cell_type": "code",
   "execution_count": 4,
   "metadata": {},
   "outputs": [
    {
     "output_type": "execute_result",
     "data": {
      "text/plain": [
       "Index(['nit', 'RazonSocial', 'Año', 'Periodo', 'idpoliza', 'fechaVencimiento',\n",
       "       'idVictima', 'codigoPrestador', 'idPrestador', 'fechaSiniestro',\n",
       "       'idPagador', 'idFactura', 'fechaFactura', 'fechaRadicacion',\n",
       "       'valorProcedimientos', 'valorInsumos', 'valorMedicamentos',\n",
       "       'valorOtros', 'valorFactura', 'Total_Rubros', 'FechaFinalCorte1',\n",
       "       'Val_idPoliza', 'Val_FechaVencimiento', 'Val_idVictima',\n",
       "       'Val_CodPrestador', 'Val_idPrestador', 'Val_FechaSiniestro',\n",
       "       'Val_IdPagador', 'Val_IdFactura', 'Val_FechaFactura',\n",
       "       'Val_FechaRadicacion', 'Val_Radicacion_corte', 'Val_Procedimientos',\n",
       "       'Val_Insumos', 'Val_Medicamentos', 'Val_OtrosGatos', 'Val_ValorFactura',\n",
       "       'Verificacion_sumatoria'],\n",
       "      dtype='object')"
      ]
     },
     "metadata": {},
     "execution_count": 4
    }
   ],
   "source": [
    "ST006.columns"
   ]
  },
  {
   "cell_type": "code",
   "execution_count": 5,
   "metadata": {},
   "outputs": [],
   "source": [
    "# Se cuentan todas todas las coincidencias\n",
    "Conteo = ST006[['Val_idPoliza', 'Val_FechaVencimiento', 'Val_idVictima',\n",
    "       'Val_CodPrestador', 'Val_idPrestador', 'Val_FechaSiniestro',\n",
    "       'Val_IdPagador', 'Val_IdFactura', 'Val_FechaFactura',\n",
    "       'Val_FechaRadicacion', 'Val_Radicacion_corte', 'Val_Procedimientos',\n",
    "       'Val_Insumos', 'Val_Medicamentos', 'Val_OtrosGatos', 'Val_ValorFactura',\n",
    "       'Verificacion_sumatoria']].apply(pd.value_counts)"
   ]
  },
  {
   "cell_type": "code",
   "execution_count": 33,
   "metadata": {},
   "outputs": [],
   "source": [
    "# Para seleccionar las filas que cumplan con un string en columnas especificas\n",
    "#  import functools\n",
    "# import operator\n",
    "\n",
    "# colnames = ['Val_pais', 'Val_idEmisora', 'ValNombre_emisora', 'Val_tipoInversión', 'Val_otraInversión', 'Val_fechaEmisión', 'Val_fechaCompra', 'Val_TasaCompra', 'Val_tasafacial', 'Val_tasaMercado', 'Val_duración', 'Val_participacion']\n",
    "# mask = functools.reduce(operator.or_, (val_1[col].str.contains('Verificar', case=False) for col in colnames))\n",
    "# filtered = val_1[mask]   "
   ]
  },
  {
   "source": [],
   "cell_type": "code",
   "metadata": {},
   "execution_count": null,
   "outputs": []
  },
  {
   "cell_type": "code",
   "execution_count": 6,
   "metadata": {},
   "outputs": [],
   "source": [
    "Conteo=Conteo.reset_index()"
   ]
  },
  {
   "cell_type": "code",
   "execution_count": 7,
   "metadata": {},
   "outputs": [],
   "source": [
    "# Guardar la base de datos lista para ser tratada en formato Excel y CSV\n",
    "# FT005.to_excel(r'C:/Users/Miguel Angel/Documents/Supersalud/Pagos_EPS_Proveedores/CausaPrestador_2020_2021.xlsx', index = False)\n",
    "Conteo.to_csv(r'C:/Users/Miguel Angel/OneDrive - Supersalud/Calidad de la Información/Cristhian/Resultados/ST006/conteo_val_1.csv', index = False, encoding='utf-8-sig')"
   ]
  },
  {
   "cell_type": "code",
   "execution_count": null,
   "metadata": {},
   "outputs": [],
   "source": []
  }
 ]
}