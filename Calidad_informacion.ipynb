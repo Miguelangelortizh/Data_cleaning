{
 "metadata": {
  "language_info": {
   "codemirror_mode": {
    "name": "ipython",
    "version": 3
   },
   "file_extension": ".py",
   "mimetype": "text/x-python",
   "name": "python",
   "nbconvert_exporter": "python",
   "pygments_lexer": "ipython3",
   "version": "3.8.5"
  },
  "orig_nbformat": 2,
  "kernelspec": {
   "name": "python385jvsc74a57bd0b3ba2566441a7c06988d0923437866b63cedc61552a5af99d1f4fb67d367b25f",
   "display_name": "Python 3.8.5 64-bit ('base': conda)"
  }
 },
 "nbformat": 4,
 "nbformat_minor": 2,
 "cells": [
  {
   "cell_type": "code",
   "execution_count": 2,
   "metadata": {},
   "outputs": [],
   "source": [
    "#Cargamos los paquetes que vamos a necesitar\n",
    "import pandas as pd\n",
    "import numpy as np\n",
    "import pyreadstat"
   ]
  },
  {
   "cell_type": "code",
   "execution_count": 4,
   "metadata": {},
   "outputs": [],
   "source": [
    "# Se carga el archivo tratado del FT007 que fue grabado como causaprestador\n",
    "val_1 = pd.read_csv('C:/Users/Miguel Angel/OneDrive - Supersalud/Calidad de la Información/Cristhian/Resultados/FT008/val_1.csv', dtype={'nit':object, 'año': object, 'periodo': object, 'idEmisora':object, 'dvEmisora': object} )"
   ]
  },
  {
   "cell_type": "code",
   "execution_count": 3,
   "metadata": {},
   "outputs": [
    {
     "output_type": "stream",
     "name": "stdout",
     "text": [
      "<class 'pandas.core.frame.DataFrame'>\nRangeIndex: 661 entries, 0 to 660\nData columns (total 59 columns):\n #   Column                Non-Null Count  Dtype  \n---  ------                --------------  -----  \n 0   nit                   661 non-null    int64  \n 1   RazonSocial           661 non-null    object \n 2   año                   661 non-null    int64  \n 3   periodo               661 non-null    int64  \n 4   lineaNegocio          661 non-null    int64  \n 5   pais                  660 non-null    object \n 6   idEmisora             661 non-null    int64  \n 7   dvEmisora             661 non-null    int64  \n 8   nombreEmisora         653 non-null    object \n 9   tipoInversion         661 non-null    int64  \n 10  otraInversion         74 non-null     object \n 11  fechaEmision          397 non-null    object \n 12  fechaVencimiento      227 non-null    object \n 13  fechaCompra           661 non-null    object \n 14  valorCompra           661 non-null    int64  \n 15  tasaCompra            602 non-null    object \n 16  ValorNominal          661 non-null    int64  \n 17  tipoMoneda            661 non-null    object \n 18  tasaFacial            637 non-null    object \n 19  modalidad             661 non-null    int64  \n 20  periodicidad          661 non-null    object \n 21  tasaMercado           661 non-null    float64\n 22  valorMercado          661 non-null    int64  \n 23  duracion              661 non-null    float64\n 24  participacion         661 non-null    float64\n 25  rendimientos          661 non-null    int64  \n 26  gravamen              661 non-null    int64  \n 27  estado                661 non-null    int64  \n 28  fechaMedida           11 non-null     object \n 29  valorMedida           661 non-null    int64  \n 30  vinculado             661 non-null    int64  \n 31  FechaFinalCorte       661 non-null    object \n 32  fechareporte          661 non-null    object \n 33  Val_lineaNegocio      661 non-null    object \n 34  Val_pais              661 non-null    object \n 35  Val_idEmisora         661 non-null    object \n 36  ValNombre_emisora     661 non-null    object \n 37  Val_tipoInversión     661 non-null    object \n 38  Val_otraInversión     661 non-null    object \n 39  Val_fechaEmisión      661 non-null    object \n 40  Val_fechaVencimiento  661 non-null    object \n 41  Val_fechaCompra       661 non-null    object \n 42  Val_ValorCompra       661 non-null    object \n 43  Val_TasaCompra        661 non-null    object \n 44  Val_valorNominal      661 non-null    object \n 45  Val_tipoMoneda        661 non-null    object \n 46  Val_tasafacial        661 non-null    object \n 47  Val_modalidad         661 non-null    object \n 48  Val_Periodicidad      661 non-null    object \n 49  Val_tasaMercado       661 non-null    object \n 50  Val_valorMercado      661 non-null    object \n 51  Val_duración          661 non-null    object \n 52  Val_participacion     661 non-null    object \n 53  Val_rendimientos      661 non-null    object \n 54  Val_gravamen          661 non-null    object \n 55  Val_estado            661 non-null    object \n 56  val_fechaMedida       661 non-null    object \n 57  Val_valorMedida       661 non-null    object \n 58  Vali_vinculado        661 non-null    object \ndtypes: float64(3), int64(16), object(40)\nmemory usage: 304.8+ KB\n"
     ]
    }
   ],
   "source": [
    "val_1.info()"
   ]
  },
  {
   "cell_type": "code",
   "execution_count": 7,
   "metadata": {},
   "outputs": [
    {
     "output_type": "execute_result",
     "data": {
      "text/plain": [
       "Index(['nit', 'RazonSocial', 'año', 'periodo', 'lineaNegocio', 'pais',\n",
       "       'idEmisora', 'dvEmisora', 'nombreEmisora', 'tipoInversion',\n",
       "       'otraInversion', 'fechaEmision', 'fechaVencimiento', 'fechaCompra',\n",
       "       'valorCompra', 'tasaCompra', 'ValorNominal', 'tipoMoneda', 'tasaFacial',\n",
       "       'modalidad', 'periodicidad', 'tasaMercado', 'valorMercado', 'duracion',\n",
       "       'participacion', 'rendimientos', 'gravamen', 'estado', 'fechaMedida',\n",
       "       'valorMedida', 'vinculado', 'FechaFinalCorte', 'fechareporte',\n",
       "       'Val_lineaNegocio', 'Val_pais', 'Val_idEmisora', 'ValNombre_emisora',\n",
       "       'Val_tipoInversión', 'Val_otraInversión', 'Val_fechaEmisión',\n",
       "       'Val_fechaVencimiento', 'Val_fechaCompra', 'Val_ValorCompra',\n",
       "       'Val_TasaCompra', 'Val_valorNominal', 'Val_tipoMoneda',\n",
       "       'Val_tasafacial', 'Val_modalidad', 'Val_Periodicidad',\n",
       "       'Val_tasaMercado', 'Val_valorMercado', 'Val_duración',\n",
       "       'Val_participacion', 'Val_rendimientos', 'Val_gravamen', 'Val_estado',\n",
       "       'val_fechaMedida', 'Val_valorMedida', 'Vali_vinculado'],\n",
       "      dtype='object')"
      ]
     },
     "metadata": {},
     "execution_count": 7
    }
   ],
   "source": [
    "val_1.columns"
   ]
  },
  {
   "cell_type": "code",
   "execution_count": 39,
   "metadata": {},
   "outputs": [],
   "source": [
    "# Se cuentan todas todas las coincidencias\n",
    "Conteo = val_1[['Val_pais', 'Val_idEmisora', 'ValNombre_emisora', 'Val_tipoInversión', 'Val_otraInversión', 'Val_fechaEmisión', 'Val_fechaCompra', 'Val_TasaCompra', 'Val_tasafacial', 'Val_tasaMercado', 'Val_duración', 'Val_participacion']].apply(pd.value_counts)"
   ]
  },
  {
   "cell_type": "code",
   "execution_count": 35,
   "metadata": {},
   "outputs": [
    {
     "output_type": "execute_result",
     "data": {
      "text/plain": [
       "Val_tipoInversión       \n",
       "Verificar tipo inversión    636\n",
       "Tipo inversión correcto      25\n",
       "dtype: int64"
      ]
     },
     "metadata": {},
     "execution_count": 35
    }
   ],
   "source": [
    "val_1[['Val_tipoInversión']].value_counts()"
   ]
  },
  {
   "cell_type": "code",
   "execution_count": 6,
   "metadata": {
    "tags": []
   },
   "outputs": [],
   "source": [
    "df1 = val_1.apply(lambda row: row.astype(str).str.contains('Verificar').any(), axis=1)"
   ]
  },
  {
   "cell_type": "code",
   "execution_count": 10,
   "metadata": {},
   "outputs": [],
   "source": [
    "# Para contar en cuantas columnas hay un verificar\n",
    "lista = ['Verificar país','Verificar id Emisora', 'Verificar nombre emisora', 'Verificar tipo inversión', 'Verificar otra inversión', 'Verificar Fecha emisión', 'Verificar Fecha Vencimiento', 'Verificar Fecha Compra', 'Verificar tasa compra', 'Verificar tasa facial', 'Verificar Tasa Mercado', 'Verificar duración', 'Verificar participación']\n",
    "val_1['Verificar_count'] = val_1.isin(lista).sum(axis='columns')"
   ]
  },
  {
   "source": [
    "<p> Tratamiento del FT004 </P>"
   ],
   "cell_type": "markdown",
   "metadata": {}
  },
  {
   "cell_type": "code",
   "execution_count": null,
   "metadata": {},
   "outputs": [],
   "source": [
    "# Se carga el archivo tratado del FT007 que fue grabado como causaprestador\n",
    "FT004_1 = pd.read_excel('C:/Users/Miguel Angel/OneDrive - Supersalud/Calidad de la Información/Cristhian/Resultados/FT008/FT004.xlsx', dtype={'nit':object, 'año': object, 'periodo': object, 'idEmisora':object, 'dvEmisora': object} )"
   ]
  },
  {
   "cell_type": "code",
   "execution_count": 3,
   "metadata": {
    "tags": []
   },
   "outputs": [
    {
     "output_type": "stream",
     "name": "stderr",
     "text": [
      "C:\\ProgramData\\Anaconda3\\lib\\site-packages\\IPython\\core\\interactiveshell.py:3146: DtypeWarning: Columns (6,9) have mixed types.Specify dtype option on import or set low_memory=False.\n  has_raised = await self.run_ast_nodes(code_ast.body, cell_name,\n"
     ]
    }
   ],
   "source": [
    "# Se carga el archivo tratado del FT007 que fue grabado como causaprestador\n",
    "FT004_2 = pd.read_csv('C:/Users/Miguel Angel/OneDrive - Supersalud/Calidad de la Información/Caro/FT004_Calidad_Ind.csv', header=None, sep='|')\n",
    "# AQUÍ FALTA ESPECIFICAR LOS NOMBRES DE LAS COLUMNAS PARA PODER HACER LAS VALIDACIONES"
   ]
  },
  {
   "cell_type": "code",
   "execution_count": 4,
   "metadata": {},
   "outputs": [
    {
     "output_type": "execute_result",
     "data": {
      "text/plain": [
       "          0                            1     2   3   4   5           6   7   \\\n",
       "0  900421895  Fundación Clinica del Norte  2020  12   3  CC    32340374   4   \n",
       "1  900421895  Fundación Clinica del Norte  2020  12   3  CC    21831720   7   \n",
       "2  900421895  Fundación Clinica del Norte  2020  12   3  CC    32404176   9   \n",
       "3  900421895  Fundación Clinica del Norte  2020  12   3  CC  1045021936   3   \n",
       "4  900421895  Fundación Clinica del Norte  2020  12   3  CC  1036605441   4   \n",
       "\n",
       "                                   8    9   ...  \\\n",
       "0    PIEDRAHITA DE GOMEZ MARIA TERESA  NaN  ...   \n",
       "1   SALDARRIAGA PIMIENTA MARIA ISABEL  NaN  ...   \n",
       "2  GARCIA DE CARMONA MERY DEL SOCORRO  NaN  ...   \n",
       "3         GOMEZ JIMENEZ BRAYAN ANDRES  NaN  ...   \n",
       "4          HENAO MARTINEZ JULIO CESAR  NaN  ...   \n",
       "\n",
       "                                    23                             24  \\\n",
       "0  Tipo ID Proveedor/Acreedor correcta  Verificar Digito verificación   \n",
       "1  Tipo ID Proveedor/Acreedor correcta  Verificar Digito verificación   \n",
       "2  Tipo ID Proveedor/Acreedor correcta  Verificar Digito verificación   \n",
       "3  Tipo ID Proveedor/Acreedor correcta  Verificar Digito verificación   \n",
       "4  Tipo ID Proveedor/Acreedor correcta  Verificar Digito verificación   \n",
       "\n",
       "                          25                           26  \\\n",
       "0  Código actividad correcto  Concepto acreencia correcto   \n",
       "1  Código actividad correcto  Concepto acreencia correcto   \n",
       "2  Código actividad correcto  Concepto acreencia correcto   \n",
       "3  Código actividad correcto  Concepto acreencia correcto   \n",
       "4  Código actividad correcto  Concepto acreencia correcto   \n",
       "\n",
       "                             27                                28  \\\n",
       "0  Medición posterior correcta   Saldos correctos cxp no vencidas   \n",
       "1  Medición posterior correcta   Saldos correctos cxp no vencidas   \n",
       "2  Medición posterior correcta   Saldos correctos cxp no vencidas   \n",
       "3  Medición posterior correcta   Saldos correctos cxp no vencidas   \n",
       "4  Medición posterior correcta   Saldos correctos cxp no vencidas   \n",
       "\n",
       "                 29                        30               31              32  \n",
       "0  Saldos correctos  Valores cxp difererentes  ajuste correcto  Saldo correcto  \n",
       "1  Saldos correctos  Valores cxp difererentes  ajuste correcto  Saldo correcto  \n",
       "2  Saldos correctos  Valores cxp difererentes  ajuste correcto  Saldo correcto  \n",
       "3  Saldos correctos  Valores cxp difererentes  ajuste correcto  Saldo correcto  \n",
       "4  Saldos correctos  Valores cxp difererentes  ajuste correcto  Saldo correcto  \n",
       "\n",
       "[5 rows x 33 columns]"
      ],
      "text/html": "<div>\n<style scoped>\n    .dataframe tbody tr th:only-of-type {\n        vertical-align: middle;\n    }\n\n    .dataframe tbody tr th {\n        vertical-align: top;\n    }\n\n    .dataframe thead th {\n        text-align: right;\n    }\n</style>\n<table border=\"1\" class=\"dataframe\">\n  <thead>\n    <tr style=\"text-align: right;\">\n      <th></th>\n      <th>0</th>\n      <th>1</th>\n      <th>2</th>\n      <th>3</th>\n      <th>4</th>\n      <th>5</th>\n      <th>6</th>\n      <th>7</th>\n      <th>8</th>\n      <th>9</th>\n      <th>...</th>\n      <th>23</th>\n      <th>24</th>\n      <th>25</th>\n      <th>26</th>\n      <th>27</th>\n      <th>28</th>\n      <th>29</th>\n      <th>30</th>\n      <th>31</th>\n      <th>32</th>\n    </tr>\n  </thead>\n  <tbody>\n    <tr>\n      <th>0</th>\n      <td>900421895</td>\n      <td>Fundación Clinica del Norte</td>\n      <td>2020</td>\n      <td>12</td>\n      <td>3</td>\n      <td>CC</td>\n      <td>32340374</td>\n      <td>4</td>\n      <td>PIEDRAHITA DE GOMEZ MARIA TERESA</td>\n      <td>NaN</td>\n      <td>...</td>\n      <td>Tipo ID Proveedor/Acreedor correcta</td>\n      <td>Verificar Digito verificación</td>\n      <td>Código actividad correcto</td>\n      <td>Concepto acreencia correcto</td>\n      <td>Medición posterior correcta</td>\n      <td>Saldos correctos cxp no vencidas</td>\n      <td>Saldos correctos</td>\n      <td>Valores cxp difererentes</td>\n      <td>ajuste correcto</td>\n      <td>Saldo correcto</td>\n    </tr>\n    <tr>\n      <th>1</th>\n      <td>900421895</td>\n      <td>Fundación Clinica del Norte</td>\n      <td>2020</td>\n      <td>12</td>\n      <td>3</td>\n      <td>CC</td>\n      <td>21831720</td>\n      <td>7</td>\n      <td>SALDARRIAGA PIMIENTA MARIA ISABEL</td>\n      <td>NaN</td>\n      <td>...</td>\n      <td>Tipo ID Proveedor/Acreedor correcta</td>\n      <td>Verificar Digito verificación</td>\n      <td>Código actividad correcto</td>\n      <td>Concepto acreencia correcto</td>\n      <td>Medición posterior correcta</td>\n      <td>Saldos correctos cxp no vencidas</td>\n      <td>Saldos correctos</td>\n      <td>Valores cxp difererentes</td>\n      <td>ajuste correcto</td>\n      <td>Saldo correcto</td>\n    </tr>\n    <tr>\n      <th>2</th>\n      <td>900421895</td>\n      <td>Fundación Clinica del Norte</td>\n      <td>2020</td>\n      <td>12</td>\n      <td>3</td>\n      <td>CC</td>\n      <td>32404176</td>\n      <td>9</td>\n      <td>GARCIA DE CARMONA MERY DEL SOCORRO</td>\n      <td>NaN</td>\n      <td>...</td>\n      <td>Tipo ID Proveedor/Acreedor correcta</td>\n      <td>Verificar Digito verificación</td>\n      <td>Código actividad correcto</td>\n      <td>Concepto acreencia correcto</td>\n      <td>Medición posterior correcta</td>\n      <td>Saldos correctos cxp no vencidas</td>\n      <td>Saldos correctos</td>\n      <td>Valores cxp difererentes</td>\n      <td>ajuste correcto</td>\n      <td>Saldo correcto</td>\n    </tr>\n    <tr>\n      <th>3</th>\n      <td>900421895</td>\n      <td>Fundación Clinica del Norte</td>\n      <td>2020</td>\n      <td>12</td>\n      <td>3</td>\n      <td>CC</td>\n      <td>1045021936</td>\n      <td>3</td>\n      <td>GOMEZ JIMENEZ BRAYAN ANDRES</td>\n      <td>NaN</td>\n      <td>...</td>\n      <td>Tipo ID Proveedor/Acreedor correcta</td>\n      <td>Verificar Digito verificación</td>\n      <td>Código actividad correcto</td>\n      <td>Concepto acreencia correcto</td>\n      <td>Medición posterior correcta</td>\n      <td>Saldos correctos cxp no vencidas</td>\n      <td>Saldos correctos</td>\n      <td>Valores cxp difererentes</td>\n      <td>ajuste correcto</td>\n      <td>Saldo correcto</td>\n    </tr>\n    <tr>\n      <th>4</th>\n      <td>900421895</td>\n      <td>Fundación Clinica del Norte</td>\n      <td>2020</td>\n      <td>12</td>\n      <td>3</td>\n      <td>CC</td>\n      <td>1036605441</td>\n      <td>4</td>\n      <td>HENAO MARTINEZ JULIO CESAR</td>\n      <td>NaN</td>\n      <td>...</td>\n      <td>Tipo ID Proveedor/Acreedor correcta</td>\n      <td>Verificar Digito verificación</td>\n      <td>Código actividad correcto</td>\n      <td>Concepto acreencia correcto</td>\n      <td>Medición posterior correcta</td>\n      <td>Saldos correctos cxp no vencidas</td>\n      <td>Saldos correctos</td>\n      <td>Valores cxp difererentes</td>\n      <td>ajuste correcto</td>\n      <td>Saldo correcto</td>\n    </tr>\n  </tbody>\n</table>\n<p>5 rows × 33 columns</p>\n</div>"
     },
     "metadata": {},
     "execution_count": 4
    }
   ],
   "source": [
    "FT004_2.head(5)"
   ]
  },
  {
   "source": [
    "<p> Tratamiento de los ST </P>"
   ],
   "cell_type": "markdown",
   "metadata": {}
  },
  {
   "cell_type": "code",
   "execution_count": 2,
   "metadata": {},
   "outputs": [
    {
     "output_type": "stream",
     "name": "stderr",
     "text": [
      "C:\\ProgramData\\Anaconda3\\lib\\site-packages\\IPython\\core\\interactiveshell.py:3146: DtypeWarning: Columns (6) have mixed types.Specify dtype option on import or set low_memory=False.\n  has_raised = await self.run_ast_nodes(code_ast.body, cell_name,\n"
     ]
    }
   ],
   "source": [
    "# Se carga el archivo tratado del FT007 que fue grabado como causaprestador\n",
    "ST005 = pd.read_csv('C:/Users/Miguel Angel/OneDrive - Supersalud/Calidad de la Información/Cristhian/Resultados/ST005/val_1.csv')"
   ]
  },
  {
   "cell_type": "code",
   "execution_count": 2,
   "metadata": {},
   "outputs": [
    {
     "output_type": "stream",
     "name": "stderr",
     "text": [
      "C:\\ProgramData\\Anaconda3\\lib\\site-packages\\IPython\\core\\interactiveshell.py:3146: DtypeWarning: Columns (7) have mixed types.Specify dtype option on import or set low_memory=False.\n  has_raised = await self.run_ast_nodes(code_ast.body, cell_name,\n"
     ]
    }
   ],
   "source": [
    "# Se carga el archivo tratado del FT007 que fue grabado como causaprestador\n",
    "ST006 = pd.read_csv('C:/Users/Miguel Angel/OneDrive - Supersalud/Calidad de la Información/Cristhian/Resultados/ST006/val_1.csv')"
   ]
  },
  {
   "cell_type": "code",
   "execution_count": 5,
   "metadata": {},
   "outputs": [
    {
     "output_type": "execute_result",
     "data": {
      "text/plain": [
       "Index(['900421895|Fundación Clinica del Norte|2020|12|3|CC|32340374|4|PIEDRAHITA DE GOMEZ MARIA TERESA|NA|6|1|60000|0|0|0|0|0|0|0|60000|AT FT001 – 02|Linea de negocio correcta|Tipo ID Proveedor/Acreedor correcta|Verificar Digito verificación|Código actividad correcto|Concepto acreencia correcto|\"Medición posterior correcta \"|Saldos correctos cxp no vencidas|Saldos correctos|Valores cxp difererentes|ajuste correcto|Saldo correcto'], dtype='object')"
      ]
     },
     "metadata": {},
     "execution_count": 5
    }
   ],
   "source": [
    "FT004.columns"
   ]
  },
  {
   "cell_type": "code",
   "execution_count": 5,
   "metadata": {},
   "outputs": [],
   "source": [
    "# Se cuentan todas todas las coincidencias\n",
    "Conteo = ST006[['Val_idPoliza', 'Val_FechaVencimiento', 'Val_idVictima',\n",
    "       'Val_CodPrestador', 'Val_idPrestador', 'Val_FechaSiniestro',\n",
    "       'Val_IdPagador', 'Val_IdFactura', 'Val_FechaFactura',\n",
    "       'Val_FechaRadicacion', 'Val_Radicacion_corte', 'Val_Procedimientos',\n",
    "       'Val_Insumos', 'Val_Medicamentos', 'Val_OtrosGatos', 'Val_ValorFactura',\n",
    "       'Verificacion_sumatoria']].apply(pd.value_counts)"
   ]
  },
  {
   "cell_type": "code",
   "execution_count": 33,
   "metadata": {},
   "outputs": [],
   "source": [
    "# Para seleccionar las filas que cumplan con un string en columnas especificas\n",
    "#  import functools\n",
    "# import operator\n",
    "\n",
    "# colnames = ['Val_pais', 'Val_idEmisora', 'ValNombre_emisora', 'Val_tipoInversión', 'Val_otraInversión', 'Val_fechaEmisión', 'Val_fechaCompra', 'Val_TasaCompra', 'Val_tasafacial', 'Val_tasaMercado', 'Val_duración', 'Val_participacion']\n",
    "# mask = functools.reduce(operator.or_, (val_1[col].str.contains('Verificar', case=False) for col in colnames))\n",
    "# filtered = val_1[mask]   "
   ]
  },
  {
   "source": [],
   "cell_type": "code",
   "metadata": {},
   "execution_count": null,
   "outputs": []
  },
  {
   "cell_type": "code",
   "execution_count": 6,
   "metadata": {},
   "outputs": [],
   "source": [
    "Conteo=Conteo.reset_index()"
   ]
  },
  {
   "cell_type": "code",
   "execution_count": 7,
   "metadata": {},
   "outputs": [],
   "source": [
    "# Guardar la base de datos lista para ser tratada en formato Excel y CSV\n",
    "# FT005.to_excel(r'C:/Users/Miguel Angel/Documents/Supersalud/Pagos_EPS_Proveedores/CausaPrestador_2020_2021.xlsx', index = False)\n",
    "Conteo.to_csv(r'C:/Users/Miguel Angel/OneDrive - Supersalud/Calidad de la Información/Cristhian/Resultados/ST006/conteo_val_1.csv', index = False, encoding='utf-8-sig')"
   ]
  },
  {
   "cell_type": "code",
   "execution_count": null,
   "metadata": {},
   "outputs": [],
   "source": []
  }
 ]
}