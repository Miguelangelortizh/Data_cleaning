{
 "metadata": {
  "language_info": {
   "codemirror_mode": {
    "name": "ipython",
    "version": 3
   },
   "file_extension": ".py",
   "mimetype": "text/x-python",
   "name": "python",
   "nbconvert_exporter": "python",
   "pygments_lexer": "ipython3",
   "version": "3.8.5"
  },
  "orig_nbformat": 2,
  "kernelspec": {
   "name": "python385jvsc74a57bd0b3ba2566441a7c06988d0923437866b63cedc61552a5af99d1f4fb67d367b25f",
   "display_name": "Python 3.8.5 64-bit ('base': conda)"
  }
 },
 "nbformat": 4,
 "nbformat_minor": 2,
 "cells": [
  {
   "cell_type": "code",
   "execution_count": 1,
   "metadata": {},
   "outputs": [],
   "source": [
    "#Cargamos los paquetes que vamos a necesitar\n",
    "import pandas as pd\n",
    "import numpy as np\n",
    "import pyreadstat"
   ]
  },
  {
   "cell_type": "code",
   "execution_count": 4,
   "metadata": {},
   "outputs": [],
   "source": [
    "# Se carga el archivo tratado del FT007 que fue grabado como causaprestador\n",
    "val_1 = pd.read_csv('C:/Users/Miguel Angel/OneDrive - Supersalud/Calidad de la Información/Cristhian/Resultados/FT008/val_1.csv', dtype={'nit':object, 'año': object, 'periodo': object, 'idEmisora':object, 'dvEmisora': object} )"
   ]
  },
  {
   "cell_type": "code",
   "execution_count": 3,
   "metadata": {},
   "outputs": [
    {
     "output_type": "stream",
     "name": "stdout",
     "text": [
      "<class 'pandas.core.frame.DataFrame'>\nRangeIndex: 661 entries, 0 to 660\nData columns (total 59 columns):\n #   Column                Non-Null Count  Dtype  \n---  ------                --------------  -----  \n 0   nit                   661 non-null    int64  \n 1   RazonSocial           661 non-null    object \n 2   año                   661 non-null    int64  \n 3   periodo               661 non-null    int64  \n 4   lineaNegocio          661 non-null    int64  \n 5   pais                  660 non-null    object \n 6   idEmisora             661 non-null    int64  \n 7   dvEmisora             661 non-null    int64  \n 8   nombreEmisora         653 non-null    object \n 9   tipoInversion         661 non-null    int64  \n 10  otraInversion         74 non-null     object \n 11  fechaEmision          397 non-null    object \n 12  fechaVencimiento      227 non-null    object \n 13  fechaCompra           661 non-null    object \n 14  valorCompra           661 non-null    int64  \n 15  tasaCompra            602 non-null    object \n 16  ValorNominal          661 non-null    int64  \n 17  tipoMoneda            661 non-null    object \n 18  tasaFacial            637 non-null    object \n 19  modalidad             661 non-null    int64  \n 20  periodicidad          661 non-null    object \n 21  tasaMercado           661 non-null    float64\n 22  valorMercado          661 non-null    int64  \n 23  duracion              661 non-null    float64\n 24  participacion         661 non-null    float64\n 25  rendimientos          661 non-null    int64  \n 26  gravamen              661 non-null    int64  \n 27  estado                661 non-null    int64  \n 28  fechaMedida           11 non-null     object \n 29  valorMedida           661 non-null    int64  \n 30  vinculado             661 non-null    int64  \n 31  FechaFinalCorte       661 non-null    object \n 32  fechareporte          661 non-null    object \n 33  Val_lineaNegocio      661 non-null    object \n 34  Val_pais              661 non-null    object \n 35  Val_idEmisora         661 non-null    object \n 36  ValNombre_emisora     661 non-null    object \n 37  Val_tipoInversión     661 non-null    object \n 38  Val_otraInversión     661 non-null    object \n 39  Val_fechaEmisión      661 non-null    object \n 40  Val_fechaVencimiento  661 non-null    object \n 41  Val_fechaCompra       661 non-null    object \n 42  Val_ValorCompra       661 non-null    object \n 43  Val_TasaCompra        661 non-null    object \n 44  Val_valorNominal      661 non-null    object \n 45  Val_tipoMoneda        661 non-null    object \n 46  Val_tasafacial        661 non-null    object \n 47  Val_modalidad         661 non-null    object \n 48  Val_Periodicidad      661 non-null    object \n 49  Val_tasaMercado       661 non-null    object \n 50  Val_valorMercado      661 non-null    object \n 51  Val_duración          661 non-null    object \n 52  Val_participacion     661 non-null    object \n 53  Val_rendimientos      661 non-null    object \n 54  Val_gravamen          661 non-null    object \n 55  Val_estado            661 non-null    object \n 56  val_fechaMedida       661 non-null    object \n 57  Val_valorMedida       661 non-null    object \n 58  Vali_vinculado        661 non-null    object \ndtypes: float64(3), int64(16), object(40)\nmemory usage: 304.8+ KB\n"
     ]
    }
   ],
   "source": [
    "val_1.info()"
   ]
  },
  {
   "cell_type": "code",
   "execution_count": 7,
   "metadata": {},
   "outputs": [
    {
     "output_type": "execute_result",
     "data": {
      "text/plain": [
       "Index(['nit', 'RazonSocial', 'año', 'periodo', 'lineaNegocio', 'pais',\n",
       "       'idEmisora', 'dvEmisora', 'nombreEmisora', 'tipoInversion',\n",
       "       'otraInversion', 'fechaEmision', 'fechaVencimiento', 'fechaCompra',\n",
       "       'valorCompra', 'tasaCompra', 'ValorNominal', 'tipoMoneda', 'tasaFacial',\n",
       "       'modalidad', 'periodicidad', 'tasaMercado', 'valorMercado', 'duracion',\n",
       "       'participacion', 'rendimientos', 'gravamen', 'estado', 'fechaMedida',\n",
       "       'valorMedida', 'vinculado', 'FechaFinalCorte', 'fechareporte',\n",
       "       'Val_lineaNegocio', 'Val_pais', 'Val_idEmisora', 'ValNombre_emisora',\n",
       "       'Val_tipoInversión', 'Val_otraInversión', 'Val_fechaEmisión',\n",
       "       'Val_fechaVencimiento', 'Val_fechaCompra', 'Val_ValorCompra',\n",
       "       'Val_TasaCompra', 'Val_valorNominal', 'Val_tipoMoneda',\n",
       "       'Val_tasafacial', 'Val_modalidad', 'Val_Periodicidad',\n",
       "       'Val_tasaMercado', 'Val_valorMercado', 'Val_duración',\n",
       "       'Val_participacion', 'Val_rendimientos', 'Val_gravamen', 'Val_estado',\n",
       "       'val_fechaMedida', 'Val_valorMedida', 'Vali_vinculado'],\n",
       "      dtype='object')"
      ]
     },
     "metadata": {},
     "execution_count": 7
    }
   ],
   "source": [
    "val_1.columns"
   ]
  },
  {
   "cell_type": "code",
   "execution_count": 39,
   "metadata": {},
   "outputs": [],
   "source": [
    "# Se cuentan todas todas las coincidencias\n",
    "Conteo = val_1[['Val_pais', 'Val_idEmisora', 'ValNombre_emisora', 'Val_tipoInversión', 'Val_otraInversión', 'Val_fechaEmisión', 'Val_fechaCompra', 'Val_TasaCompra', 'Val_tasafacial', 'Val_tasaMercado', 'Val_duración', 'Val_participacion']].apply(pd.value_counts)"
   ]
  },
  {
   "cell_type": "code",
   "execution_count": 35,
   "metadata": {},
   "outputs": [
    {
     "output_type": "execute_result",
     "data": {
      "text/plain": [
       "Val_tipoInversión       \n",
       "Verificar tipo inversión    636\n",
       "Tipo inversión correcto      25\n",
       "dtype: int64"
      ]
     },
     "metadata": {},
     "execution_count": 35
    }
   ],
   "source": [
    "val_1[['Val_tipoInversión']].value_counts()"
   ]
  },
  {
   "cell_type": "code",
   "execution_count": 6,
   "metadata": {
    "tags": []
   },
   "outputs": [],
   "source": [
    "df1 = val_1.apply(lambda row: row.astype(str).str.contains('Verificar').any(), axis=1)"
   ]
  },
  {
   "cell_type": "code",
   "execution_count": 10,
   "metadata": {},
   "outputs": [],
   "source": [
    "# Para contar en cuantas columnas hay un verificar\n",
    "lista = ['Verificar país','Verificar id Emisora', 'Verificar nombre emisora', 'Verificar tipo inversión', 'Verificar otra inversión', 'Verificar Fecha emisión', 'Verificar Fecha Vencimiento', 'Verificar Fecha Compra', 'Verificar tasa compra', 'Verificar tasa facial', 'Verificar Tasa Mercado', 'Verificar duración', 'Verificar participación']\n",
    "val_1['Verificar_count'] = val_1.isin(lista).sum(axis='columns')"
   ]
  },
  {
   "source": [
    "<p> Tratamiento de los ST </P>"
   ],
   "cell_type": "markdown",
   "metadata": {}
  },
  {
   "cell_type": "code",
   "execution_count": 4,
   "metadata": {
    "tags": [
     "outputPrepend"
    ]
   },
   "outputs": [
    {
     "output_type": "stream",
     "name": "stderr",
     "text": [
      "e 496936: expected 1 fields, saw 2\\nSkipping line 496937: expected 1 fields, saw 2\\nSkipping line 496940: expected 1 fields, saw 2\\nSkipping line 497489: expected 1 fields, saw 2\\nSkipping line 497711: expected 1 fields, saw 3\\nSkipping line 497792: expected 1 fields, saw 3\\nSkipping line 497857: expected 1 fields, saw 2\\nSkipping line 498661: expected 1 fields, saw 2\\nSkipping line 498662: expected 1 fields, saw 2\\nSkipping line 498860: expected 1 fields, saw 2\\nSkipping line 499169: expected 1 fields, saw 2\\nSkipping line 499602: expected 1 fields, saw 2\\nSkipping line 499744: expected 1 fields, saw 2\\nSkipping line 499748: expected 1 fields, saw 2\\nSkipping line 500078: expected 1 fields, saw 2\\nSkipping line 500079: expected 1 fields, saw 2\\nSkipping line 500080: expected 1 fields, saw 2\\nSkipping line 500086: expected 1 fields, saw 2\\nSkipping line 500087: expected 1 fields, saw 2\\nSkipping line 500523: expected 1 fields, saw 2\\nSkipping line 501939: expected 1 fields, saw 2\\nSkipping line 501940: expected 1 fields, saw 2\\nSkipping line 501941: expected 1 fields, saw 2\\nSkipping line 502062: expected 1 fields, saw 2\\nSkipping line 502236: expected 1 fields, saw 2\\nSkipping line 502326: expected 1 fields, saw 2\\nSkipping line 502338: expected 1 fields, saw 2\\nSkipping line 502398: expected 1 fields, saw 2\\nSkipping line 502641: expected 1 fields, saw 2\\nSkipping line 503013: expected 1 fields, saw 3\\nSkipping line 503057: expected 1 fields, saw 2\\nSkipping line 503076: expected 1 fields, saw 4\\nSkipping line 503108: expected 1 fields, saw 2\\nSkipping line 503936: expected 1 fields, saw 2\\nSkipping line 503937: expected 1 fields, saw 2\\nSkipping line 503947: expected 1 fields, saw 2\\nSkipping line 504303: expected 1 fields, saw 2\\nSkipping line 504417: expected 1 fields, saw 3\\nSkipping line 504695: expected 1 fields, saw 2\\nSkipping line 504696: expected 1 fields, saw 2\\nSkipping line 504699: expected 1 fields, saw 2\\nSkipping line 504700: expected 1 fields, saw 2\\nSkipping line 504705: expected 1 fields, saw 2\\nSkipping line 504706: expected 1 fields, saw 2\\nSkipping line 506372: expected 1 fields, saw 2\\nSkipping line 506373: expected 1 fields, saw 2\\nSkipping line 506902: expected 1 fields, saw 2\\nSkipping line 507132: expected 1 fields, saw 2\\nSkipping line 507591: expected 1 fields, saw 2\\nSkipping line 507727: expected 1 fields, saw 2\\nSkipping line 507731: expected 1 fields, saw 2\\nSkipping line 507732: expected 1 fields, saw 2\\nSkipping line 507733: expected 1 fields, saw 2\\nSkipping line 507736: expected 1 fields, saw 2\\nSkipping line 507739: expected 1 fields, saw 2\\nSkipping line 507945: expected 1 fields, saw 2\\nSkipping line 508050: expected 1 fields, saw 4\\nSkipping line 508637: expected 1 fields, saw 3\\nSkipping line 508799: expected 1 fields, saw 2\\nSkipping line 508800: expected 1 fields, saw 2\\nSkipping line 509546: expected 1 fields, saw 3\\nSkipping line 509552: expected 1 fields, saw 2\\nSkipping line 510148: expected 1 fields, saw 3\\nSkipping line 510415: expected 1 fields, saw 2\\nSkipping line 510534: expected 1 fields, saw 4\\nSkipping line 510602: expected 1 fields, saw 2\\nSkipping line 510604: expected 1 fields, saw 2\\nSkipping line 511015: expected 1 fields, saw 2\\nSkipping line 511016: expected 1 fields, saw 2\\nSkipping line 511047: expected 1 fields, saw 2\\nSkipping line 511048: expected 1 fields, saw 2\\nSkipping line 511050: expected 1 fields, saw 2\\nSkipping line 511667: expected 1 fields, saw 3\\nSkipping line 511668: expected 1 fields, saw 3\\nSkipping line 512040: expected 1 fields, saw 2\\nSkipping line 512125: expected 1 fields, saw 2\\nSkipping line 512159: expected 1 fields, saw 2\\nSkipping line 512161: expected 1 fields, saw 2\\nSkipping line 512946: expected 1 fields, saw 3\\nSkipping line 512951: expected 1 fields, saw 2\\nSkipping line 513486: expected 1 fields, saw 2\\nSkipping line 513487: expected 1 fields, saw 2\\nSkipping line 513488: expected 1 fields, saw 2\\nSkipping line 513590: expected 1 fields, saw 3\\nSkipping line 513591: expected 1 fields, saw 3\\nSkipping line 513713: expected 1 fields, saw 2\\nSkipping line 513729: expected 1 fields, saw 2\\nSkipping line 513730: expected 1 fields, saw 2\\nSkipping line 513732: expected 1 fields, saw 2\\nSkipping line 513734: expected 1 fields, saw 2\\nSkipping line 514319: expected 1 fields, saw 2\\nSkipping line 514350: expected 1 fields, saw 3\\nSkipping line 514777: expected 1 fields, saw 2\\nSkipping line 514783: expected 1 fields, saw 2\\nSkipping line 514926: expected 1 fields, saw 3\\nSkipping line 515054: expected 1 fields, saw 2\\nSkipping line 515055: expected 1 fields, saw 2\\nSkipping line 515178: expected 1 fields, saw 2\\nSkipping line 515264: expected 1 fields, saw 2\\nSkipping line 515265: expected 1 fields, saw 2\\nSkipping line 515269: expected 1 fields, saw 2\\nSkipping line 515304: expected 1 fields, saw 2\\nSkipping line 515337: expected 1 fields, saw 2\\nSkipping line 515422: expected 1 fields, saw 2\\nSkipping line 515426: expected 1 fields, saw 2\\nSkipping line 515439: expected 1 fields, saw 2\\nSkipping line 515479: expected 1 fields, saw 2\\nSkipping line 515537: expected 1 fields, saw 2\\nSkipping line 515558: expected 1 fields, saw 2\\nSkipping line 515590: expected 1 fields, saw 2\\nSkipping line 515858: expected 1 fields, saw 2\\nSkipping line 515924: expected 1 fields, saw 2\\nSkipping line 516031: expected 1 fields, saw 2\\nSkipping line 516053: expected 1 fields, saw 2\\nSkipping line 516061: expected 1 fields, saw 2\\nSkipping line 516065: expected 1 fields, saw 2\\nSkipping line 516098: expected 1 fields, saw 2\\nSkipping line 516106: expected 1 fields, saw 2\\nSkipping line 516168: expected 1 fields, saw 2\\nSkipping line 516169: expected 1 fields, saw 2\\nSkipping line 516269: expected 1 fields, saw 2\\nSkipping line 516306: expected 1 fields, saw 2\\nSkipping line 516309: expected 1 fields, saw 2\\nSkipping line 516321: expected 1 fields, saw 2\\nSkipping line 516336: expected 1 fields, saw 2\\nSkipping line 516412: expected 1 fields, saw 2\\nSkipping line 516415: expected 1 fields, saw 2\\nSkipping line 516443: expected 1 fields, saw 2\\nSkipping line 516459: expected 1 fields, saw 2\\nSkipping line 516468: expected 1 fields, saw 2\\nSkipping line 516469: expected 1 fields, saw 2\\nSkipping line 516479: expected 1 fields, saw 2\\nSkipping line 516754: expected 1 fields, saw 2\\nSkipping line 516757: expected 1 fields, saw 2\\nSkipping line 516787: expected 1 fields, saw 2\\nSkipping line 516815: expected 1 fields, saw 2\\nSkipping line 516838: expected 1 fields, saw 2\\nSkipping line 516873: expected 1 fields, saw 2\\nSkipping line 516939: expected 1 fields, saw 4\\nSkipping line 517026: expected 1 fields, saw 2\\nSkipping line 517047: expected 1 fields, saw 2\\nSkipping line 517051: expected 1 fields, saw 2\\nSkipping line 517100: expected 1 fields, saw 2\\nSkipping line 517232: expected 1 fields, saw 2\\nSkipping line 517316: expected 1 fields, saw 2\\nSkipping line 517318: expected 1 fields, saw 2\\nSkipping line 517321: expected 1 fields, saw 2\\nSkipping line 517342: expected 1 fields, saw 2\\nSkipping line 517393: expected 1 fields, saw 2\\nSkipping line 517481: expected 1 fields, saw 2\\nSkipping line 517482: expected 1 fields, saw 2\\nSkipping line 517483: expected 1 fields, saw 2\\nSkipping line 517484: expected 1 fields, saw 2\\nSkipping line 517485: expected 1 fields, saw 2\\nSkipping line 517620: expected 1 fields, saw 2\\nSkipping line 517629: expected 1 fields, saw 2\\nSkipping line 517665: expected 1 fields, saw 2\\nSkipping line 517678: expected 1 fields, saw 2\\nSkipping line 517693: expected 1 fields, saw 2\\nSkipping line 517809: expected 1 fields, saw 2\\nSkipping line 517850: expected 1 fields, saw 2\\nSkipping line 517885: expected 1 fields, saw 2\\nSkipping line 517970: expected 1 fields, saw 2\\nSkipping line 517971: expected 1 fields, saw 2\\nSkipping line 518003: expected 1 fields, saw 2\\nSkipping line 518005: expected 1 fields, saw 2\\nSkipping line 518008: expected 1 fields, saw 2\\nSkipping line 518023: expected 1 fields, saw 2\\nSkipping line 518034: expected 1 fields, saw 2\\nSkipping line 518069: expected 1 fields, saw 2\\nSkipping line 518084: expected 1 fields, saw 2\\nSkipping line 518118: expected 1 fields, saw 2\\nSkipping line 518128: expected 1 fields, saw 2\\nSkipping line 518163: expected 1 fields, saw 2\\nSkipping line 518199: expected 1 fields, saw 2\\nSkipping line 518207: expected 1 fields, saw 2\\nSkipping line 518245: expected 1 fields, saw 2\\nSkipping line 518295: expected 1 fields, saw 2\\nSkipping line 518567: expected 1 fields, saw 3\\nSkipping line 518569: expected 1 fields, saw 4\\nSkipping line 518775: expected 1 fields, saw 2\\nSkipping line 518891: expected 1 fields, saw 2\\nSkipping line 518892: expected 1 fields, saw 2\\nSkipping line 518899: expected 1 fields, saw 2\\nSkipping line 518903: expected 1 fields, saw 2\\nSkipping line 518915: expected 1 fields, saw 2\\nSkipping line 518918: expected 1 fields, saw 2\\nSkipping line 519119: expected 1 fields, saw 2\\nSkipping line 519120: expected 1 fields, saw 2\\nSkipping line 519121: expected 1 fields, saw 2\\nSkipping line 519365: expected 1 fields, saw 2\\nSkipping line 519404: expected 1 fields, saw 2\\nSkipping line 519607: expected 1 fields, saw 2\\nSkipping line 519636: expected 1 fields, saw 2\\nSkipping line 519675: expected 1 fields, saw 2\\nSkipping line 519748: expected 1 fields, saw 2\\nSkipping line 519833: expected 1 fields, saw 2\\nSkipping line 520053: expected 1 fields, saw 2\\nSkipping line 520065: expected 1 fields, saw 2\\nSkipping line 520193: expected 1 fields, saw 2\\nSkipping line 520196: expected 1 fields, saw 2\\nSkipping line 520201: expected 1 fields, saw 2\\nSkipping line 520210: expected 1 fields, saw 2\\nSkipping line 520561: expected 1 fields, saw 2\\nSkipping line 520638: expected 1 fields, saw 2\\nSkipping line 520864: expected 1 fields, saw 2\\nSkipping line 520881: expected 1 fields, saw 2\\nSkipping line 520896: expected 1 fields, saw 2\\nSkipping line 520902: expected 1 fields, saw 5\\nSkipping line 520925: expected 1 fields, saw 2\\nSkipping line 521001: expected 1 fields, saw 2\\nSkipping line 521049: expected 1 fields, saw 2\\nSkipping line 521050: expected 1 fields, saw 2\\nSkipping line 521051: expected 1 fields, saw 2\\nSkipping line 521211: expected 1 fields, saw 2\\nSkipping line 521227: expected 1 fields, saw 2\\nSkipping line 521230: expected 1 fields, saw 2\\nSkipping line 521425: expected 1 fields, saw 2\\nSkipping line 521537: expected 1 fields, saw 2\\nSkipping line 521571: expected 1 fields, saw 2\\nSkipping line 521574: expected 1 fields, saw 2\\nSkipping line 521628: expected 1 fields, saw 2\\nSkipping line 521887: expected 1 fields, saw 2\\nSkipping line 521891: expected 1 fields, saw 2\\nSkipping line 521892: expected 1 fields, saw 2\\nSkipping line 521967: expected 1 fields, saw 2\\nSkipping line 521972: expected 1 fields, saw 2\\nSkipping line 521999: expected 1 fields, saw 2\\nSkipping line 522020: expected 1 fields, saw 2\\nSkipping line 522111: expected 1 fields, saw 3\\nSkipping line 522112: expected 1 fields, saw 3\\nSkipping line 522145: expected 1 fields, saw 2\\nSkipping line 522146: expected 1 fields, saw 2\\nSkipping line 522147: expected 1 fields, saw 2\\nSkipping line 522148: expected 1 fields, saw 2\\nSkipping line 522533: expected 1 fields, saw 2\\nSkipping line 522541: expected 1 fields, saw 2\\nSkipping line 522546: expected 1 fields, saw 2\\nSkipping line 522835: expected 1 fields, saw 2\\nSkipping line 522857: expected 1 fields, saw 2\\nSkipping line 523120: expected 1 fields, saw 2\\nSkipping line 523152: expected 1 fields, saw 2\\nSkipping line 523224: expected 1 fields, saw 2\\nSkipping line 523355: expected 1 fields, saw 2\\nSkipping line 523362: expected 1 fields, saw 2\\nSkipping line 523526: expected 1 fields, saw 2\\nSkipping line 523533: expected 1 fields, saw 2\\nSkipping line 523556: expected 1 fields, saw 2\\nSkipping line 523644: expected 1 fields, saw 2\\nSkipping line 523645: expected 1 fields, saw 2\\nSkipping line 523650: expected 1 fields, saw 2\\nSkipping line 523651: expected 1 fields, saw 2\\nSkipping line 523652: expected 1 fields, saw 2\\nSkipping line 523829: expected 1 fields, saw 2\\nSkipping line 523842: expected 1 fields, saw 2\\nSkipping line 523996: expected 1 fields, saw 2\\nSkipping line 524026: expected 1 fields, saw 2\\nSkipping line 524040: expected 1 fields, saw 2\\nSkipping line 524117: expected 1 fields, saw 2\\nSkipping line 524174: expected 1 fields, saw 2\\nSkipping line 524278: expected 1 fields, saw 3\\nSkipping line 524310: expected 1 fields, saw 2\\nSkipping line 524311: expected 1 fields, saw 2\\nSkipping line 524312: expected 1 fields, saw 2\\nSkipping line 524313: expected 1 fields, saw 2\\nSkipping line 524433: expected 1 fields, saw 2\\nSkipping line 524724: expected 1 fields, saw 2\\nSkipping line 524729: expected 1 fields, saw 2\\nSkipping line 524914: expected 1 fields, saw 2\\nSkipping line 524919: expected 1 fields, saw 2\\nSkipping line 524938: expected 1 fields, saw 2\\nSkipping line 524958: expected 1 fields, saw 2\\nSkipping line 524985: expected 1 fields, saw 2\\nSkipping line 525211: expected 1 fields, saw 2\\nSkipping line 525228: expected 1 fields, saw 2\\nSkipping line 525229: expected 1 fields, saw 2\\nSkipping line 525261: expected 1 fields, saw 2\\nSkipping line 525271: expected 1 fields, saw 2\\nSkipping line 525280: expected 1 fields, saw 2\\nSkipping line 525303: expected 1 fields, saw 2\\nSkipping line 525358: expected 1 fields, saw 2\\nSkipping line 525652: expected 1 fields, saw 2\\nSkipping line 525741: expected 1 fields, saw 2\\nSkipping line 525784: expected 1 fields, saw 2\\nSkipping line 525833: expected 1 fields, saw 2\\nSkipping line 525847: expected 1 fields, saw 2\\nSkipping line 526037: expected 1 fields, saw 3\\nSkipping line 526080: expected 1 fields, saw 2\\nSkipping line 526139: expected 1 fields, saw 2\\nSkipping line 526146: expected 1 fields, saw 2\\nSkipping line 526336: expected 1 fields, saw 2\\nSkipping line 526481: expected 1 fields, saw 2\\nSkipping line 526638: expected 1 fields, saw 2\\nSkipping line 526641: expected 1 fields, saw 2\\nSkipping line 526681: expected 1 fields, saw 2\\nSkipping line 526691: expected 1 fields, saw 2\\nSkipping line 526820: expected 1 fields, saw 2\\nSkipping line 526854: expected 1 fields, saw 2\\nSkipping line 526874: expected 1 fields, saw 2\\nSkipping line 526885: expected 1 fields, saw 2\\nSkipping line 526910: expected 1 fields, saw 2\\nSkipping line 526987: expected 1 fields, saw 2\\n'\n",
      "b'Skipping line 527466: expected 2 fields, saw 3\\nSkipping line 527726: expected 2 fields, saw 3\\nSkipping line 528508: expected 2 fields, saw 4\\nSkipping line 581940: expected 2 fields, saw 3\\nSkipping line 600333: expected 2 fields, saw 3\\nSkipping line 622017: expected 2 fields, saw 3\\nSkipping line 650980: expected 2 fields, saw 3\\nSkipping line 656998: expected 2 fields, saw 3\\nSkipping line 717476: expected 2 fields, saw 3\\nSkipping line 728385: expected 2 fields, saw 3\\nSkipping line 729448: expected 2 fields, saw 3\\nSkipping line 750265: expected 2 fields, saw 5\\nSkipping line 761373: expected 2 fields, saw 3\\nSkipping line 768037: expected 2 fields, saw 4\\nSkipping line 768510: expected 2 fields, saw 3\\nSkipping line 794134: expected 2 fields, saw 3\\nSkipping line 806033: expected 2 fields, saw 5\\nSkipping line 807426: expected 2 fields, saw 3\\nSkipping line 812712: expected 2 fields, saw 3\\nSkipping line 829941: expected 2 fields, saw 4\\nSkipping line 861326: expected 2 fields, saw 4\\nSkipping line 869870: expected 2 fields, saw 3\\nSkipping line 883538: expected 2 fields, saw 5\\nSkipping line 885955: expected 2 fields, saw 4\\nSkipping line 896600: expected 2 fields, saw 3\\nSkipping line 899399: expected 2 fields, saw 3\\nSkipping line 901470: expected 2 fields, saw 3\\nSkipping line 904563: expected 2 fields, saw 3\\nSkipping line 913808: expected 2 fields, saw 3\\nSkipping line 945311: expected 2 fields, saw 3\\nSkipping line 947840: expected 2 fields, saw 5\\nSkipping line 956070: expected 2 fields, saw 5\\nSkipping line 960749: expected 2 fields, saw 3\\nSkipping line 967242: expected 2 fields, saw 3\\nSkipping line 976019: expected 2 fields, saw 3\\nSkipping line 1010536: expected 2 fields, saw 3\\nSkipping line 1035048: expected 2 fields, saw 3\\n'\n",
      "b'Skipping line 1062915: expected 2 fields, saw 3\\nSkipping line 1073432: expected 2 fields, saw 3\\nSkipping line 1092965: expected 2 fields, saw 3\\nSkipping line 1097127: expected 2 fields, saw 3\\nSkipping line 1116953: expected 2 fields, saw 3\\nSkipping line 1129886: expected 2 fields, saw 5\\nSkipping line 1130279: expected 2 fields, saw 3\\nSkipping line 1133568: expected 2 fields, saw 3\\nSkipping line 1133873: expected 2 fields, saw 3\\nSkipping line 1144155: expected 2 fields, saw 3\\nSkipping line 1156648: expected 2 fields, saw 4\\nSkipping line 1156653: expected 2 fields, saw 3\\nSkipping line 1156659: expected 2 fields, saw 4\\nSkipping line 1167568: expected 2 fields, saw 3\\nSkipping line 1175313: expected 2 fields, saw 3\\nSkipping line 1188480: expected 2 fields, saw 3\\nSkipping line 1188484: expected 2 fields, saw 3\\nSkipping line 1198071: expected 2 fields, saw 3\\nSkipping line 1203307: expected 2 fields, saw 3\\nSkipping line 1209789: expected 2 fields, saw 3\\nSkipping line 1213778: expected 2 fields, saw 4\\nSkipping line 1225006: expected 2 fields, saw 3\\nSkipping line 1226793: expected 2 fields, saw 4\\nSkipping line 1232231: expected 2 fields, saw 3\\nSkipping line 1232235: expected 2 fields, saw 4\\nSkipping line 1238615: expected 2 fields, saw 3\\nSkipping line 1240313: expected 2 fields, saw 3\\nSkipping line 1243931: expected 2 fields, saw 3\\nSkipping line 1249241: expected 2 fields, saw 4\\nSkipping line 1252459: expected 2 fields, saw 3\\nSkipping line 1253440: expected 2 fields, saw 3\\nSkipping line 1253858: expected 2 fields, saw 4\\nSkipping line 1263718: expected 2 fields, saw 3\\nSkipping line 1269918: expected 2 fields, saw 5\\nSkipping line 1274000: expected 2 fields, saw 3\\nSkipping line 1281927: expected 2 fields, saw 3\\nSkipping line 1292153: expected 2 fields, saw 3\\nSkipping line 1293944: expected 2 fields, saw 3\\nSkipping line 1311022: expected 2 fields, saw 3\\nSkipping line 1312065: expected 2 fields, saw 3\\nSkipping line 1317019: expected 2 fields, saw 3\\nSkipping line 1321362: expected 2 fields, saw 3\\nSkipping line 1355160: expected 2 fields, saw 5\\nSkipping line 1357823: expected 2 fields, saw 3\\nSkipping line 1361969: expected 2 fields, saw 4\\nSkipping line 1375192: expected 2 fields, saw 3\\nSkipping line 1381286: expected 2 fields, saw 5\\nSkipping line 1399990: expected 2 fields, saw 3\\nSkipping line 1422517: expected 2 fields, saw 3\\nSkipping line 1456384: expected 2 fields, saw 3\\nSkipping line 1457453: expected 2 fields, saw 4\\nSkipping line 1473859: expected 2 fields, saw 3\\nSkipping line 1496935: expected 2 fields, saw 3\\nSkipping line 1505600: expected 2 fields, saw 3\\nSkipping line 1506154: expected 2 fields, saw 3\\nSkipping line 1515050: expected 2 fields, saw 4\\nSkipping line 1536154: expected 2 fields, saw 4\\nSkipping line 1537254: expected 2 fields, saw 3\\nSkipping line 1556269: expected 2 fields, saw 5\\n'\n",
      "b'Skipping line 1576089: expected 2 fields, saw 4\\nSkipping line 1582159: expected 2 fields, saw 3\\nSkipping line 1584232: expected 2 fields, saw 3\\nSkipping line 1598105: expected 2 fields, saw 3\\nSkipping line 1602066: expected 2 fields, saw 3\\nSkipping line 1623349: expected 2 fields, saw 3\\nSkipping line 1636231: expected 2 fields, saw 3\\nSkipping line 1647180: expected 2 fields, saw 3\\nSkipping line 1659975: expected 2 fields, saw 4\\nSkipping line 1664721: expected 2 fields, saw 3\\nSkipping line 1673445: expected 2 fields, saw 3\\nSkipping line 1695924: expected 2 fields, saw 3\\nSkipping line 1719133: expected 2 fields, saw 3\\nSkipping line 1726539: expected 2 fields, saw 3\\nSkipping line 1745718: expected 2 fields, saw 3\\nSkipping line 1763605: expected 2 fields, saw 3\\nSkipping line 1804547: expected 2 fields, saw 4\\n'\n"
     ]
    }
   ],
   "source": [
    "# Se carga el archivo tratado del FT007 que fue grabado como causaprestador\n",
    "FT004 = pd.read_csv('C:/Users/Miguel Angel/OneDrive - Supersalud/Calidad de la Información/Caro/FT004_Calidad_Ind.csv', error_bad_lines=False)"
   ]
  },
  {
   "cell_type": "code",
   "execution_count": 2,
   "metadata": {},
   "outputs": [
    {
     "output_type": "stream",
     "name": "stderr",
     "text": [
      "C:\\ProgramData\\Anaconda3\\lib\\site-packages\\IPython\\core\\interactiveshell.py:3146: DtypeWarning: Columns (6) have mixed types.Specify dtype option on import or set low_memory=False.\n  has_raised = await self.run_ast_nodes(code_ast.body, cell_name,\n"
     ]
    }
   ],
   "source": [
    "# Se carga el archivo tratado del FT007 que fue grabado como causaprestador\n",
    "ST005 = pd.read_csv('C:/Users/Miguel Angel/OneDrive - Supersalud/Calidad de la Información/Cristhian/Resultados/ST005/val_1.csv')"
   ]
  },
  {
   "cell_type": "code",
   "execution_count": 2,
   "metadata": {},
   "outputs": [
    {
     "output_type": "stream",
     "name": "stderr",
     "text": [
      "C:\\ProgramData\\Anaconda3\\lib\\site-packages\\IPython\\core\\interactiveshell.py:3146: DtypeWarning: Columns (7) have mixed types.Specify dtype option on import or set low_memory=False.\n  has_raised = await self.run_ast_nodes(code_ast.body, cell_name,\n"
     ]
    }
   ],
   "source": [
    "# Se carga el archivo tratado del FT007 que fue grabado como causaprestador\n",
    "ST006 = pd.read_csv('C:/Users/Miguel Angel/OneDrive - Supersalud/Calidad de la Información/Cristhian/Resultados/ST006/val_1.csv')"
   ]
  },
  {
   "cell_type": "code",
   "execution_count": 5,
   "metadata": {},
   "outputs": [
    {
     "output_type": "execute_result",
     "data": {
      "text/plain": [
       "Index(['900421895|Fundación Clinica del Norte|2020|12|3|CC|32340374|4|PIEDRAHITA DE GOMEZ MARIA TERESA|NA|6|1|60000|0|0|0|0|0|0|0|60000|AT FT001 – 02|Linea de negocio correcta|Tipo ID Proveedor/Acreedor correcta|Verificar Digito verificación|Código actividad correcto|Concepto acreencia correcto|\"Medición posterior correcta \"|Saldos correctos cxp no vencidas|Saldos correctos|Valores cxp difererentes|ajuste correcto|Saldo correcto'], dtype='object')"
      ]
     },
     "metadata": {},
     "execution_count": 5
    }
   ],
   "source": [
    "FT004.columns"
   ]
  },
  {
   "cell_type": "code",
   "execution_count": 5,
   "metadata": {},
   "outputs": [],
   "source": [
    "# Se cuentan todas todas las coincidencias\n",
    "Conteo = ST006[['Val_idPoliza', 'Val_FechaVencimiento', 'Val_idVictima',\n",
    "       'Val_CodPrestador', 'Val_idPrestador', 'Val_FechaSiniestro',\n",
    "       'Val_IdPagador', 'Val_IdFactura', 'Val_FechaFactura',\n",
    "       'Val_FechaRadicacion', 'Val_Radicacion_corte', 'Val_Procedimientos',\n",
    "       'Val_Insumos', 'Val_Medicamentos', 'Val_OtrosGatos', 'Val_ValorFactura',\n",
    "       'Verificacion_sumatoria']].apply(pd.value_counts)"
   ]
  },
  {
   "cell_type": "code",
   "execution_count": 33,
   "metadata": {},
   "outputs": [],
   "source": [
    "# Para seleccionar las filas que cumplan con un string en columnas especificas\n",
    "#  import functools\n",
    "# import operator\n",
    "\n",
    "# colnames = ['Val_pais', 'Val_idEmisora', 'ValNombre_emisora', 'Val_tipoInversión', 'Val_otraInversión', 'Val_fechaEmisión', 'Val_fechaCompra', 'Val_TasaCompra', 'Val_tasafacial', 'Val_tasaMercado', 'Val_duración', 'Val_participacion']\n",
    "# mask = functools.reduce(operator.or_, (val_1[col].str.contains('Verificar', case=False) for col in colnames))\n",
    "# filtered = val_1[mask]   "
   ]
  },
  {
   "source": [],
   "cell_type": "code",
   "metadata": {},
   "execution_count": null,
   "outputs": []
  },
  {
   "cell_type": "code",
   "execution_count": 6,
   "metadata": {},
   "outputs": [],
   "source": [
    "Conteo=Conteo.reset_index()"
   ]
  },
  {
   "cell_type": "code",
   "execution_count": 7,
   "metadata": {},
   "outputs": [],
   "source": [
    "# Guardar la base de datos lista para ser tratada en formato Excel y CSV\n",
    "# FT005.to_excel(r'C:/Users/Miguel Angel/Documents/Supersalud/Pagos_EPS_Proveedores/CausaPrestador_2020_2021.xlsx', index = False)\n",
    "Conteo.to_csv(r'C:/Users/Miguel Angel/OneDrive - Supersalud/Calidad de la Información/Cristhian/Resultados/ST006/conteo_val_1.csv', index = False, encoding='utf-8-sig')"
   ]
  },
  {
   "cell_type": "code",
   "execution_count": null,
   "metadata": {},
   "outputs": [],
   "source": []
  }
 ]
}