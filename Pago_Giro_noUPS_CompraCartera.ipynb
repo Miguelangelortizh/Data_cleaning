{
 "cells": [
  {
   "cell_type": "markdown",
   "metadata": {},
   "source": [
    "<h1>Pagos</h1>"
   ]
  },
  {
   "cell_type": "markdown",
   "metadata": {},
   "source": [
    "<h2>Giros Directos - Regimen Subsidiado </h2>\n",
    "<p> En este apartado se trata la base de datos Giros Directos - Regimen Subsidiado </p>\n",
    "<p> Nota: la fuente de información es la página web de La Lupa al Giro de la ADRES. Link nuevo: https://www.adres.gov.co/lupa-al-giro/recobros - link antiguo: https://www.adres.gov.co/Giros </p>"
   ]
  },
  {
   "cell_type": "code",
   "execution_count": 1,
   "metadata": {},
   "outputs": [],
   "source": [
    "#Cargamos los paquetes que vamos a necesitar\n",
    "import pandas as pd\n",
    "import numpy as np\n",
    "import pyreadstat\n",
    "pd.pandas.set_option('display.max_columns', None)"
   ]
  },
  {
   "cell_type": "markdown",
   "metadata": {},
   "source": [
    "<p> Se deben descargar las bases de datos provientes de La Lupa al Giro de la ADRES y se deben guardar con el nombre en mayuscula del mes correspondiente. Para el apartado de Giro directo al Regimen subsidiado se debe descargar la información que corresponde a Liquidación UPC - Giro a EPS - Mes y año de interés.</p>"
   ]
  },
  {
   "cell_type": "code",
   "execution_count": 2,
   "metadata": {},
   "outputs": [],
   "source": [
    "# Para leer los datos descargados desde La Lupa ADRES aparatado Giro Directo - Regimen Subsidiado\n",
    "ENERO = pd.read_excel('C:/Users/Miguel Angel/Documents/Supersalud/Pagos_EPS_Proveedores/GiroDirecto/2021/Subsidiado/ENERO.xlsx', sheet_name='GIRO DIRECTO', header=7)\n",
    "FEBRERO = pd.read_excel('C:/Users/Miguel Angel/Documents/Supersalud/Pagos_EPS_Proveedores/GiroDirecto/2021/Subsidiado/FEBRERO.xlsx', sheet_name='GIRO DIRECTO', header=7)\n",
    "MARZO = pd.read_excel('C:/Users/Miguel Angel/Documents/Supersalud/Pagos_EPS_Proveedores/GiroDirecto/2021/Subsidiado/MARZO.xlsx', sheet_name='GIRO DIRECTO', header=7)\n",
    "ABRIL = pd.read_excel('C:/Users/Miguel Angel/Documents/Supersalud/Pagos_EPS_Proveedores/GiroDirecto/2021/Subsidiado/ABRIL.xlsx', sheet_name='GIRO DIRECTO', header=7)\n",
    "MAYO = pd.read_excel('C:/Users/Miguel Angel/Documents/Supersalud/Pagos_EPS_Proveedores/GiroDirecto/2021/Subsidiado/MAYO.xlsx', sheet_name='GIRO DIRECTO', header=7)\n",
    "JUNIO = pd.read_excel('C:/Users/Miguel Angel/Documents/Supersalud/Pagos_EPS_Proveedores/GiroDirecto/2021/Subsidiado/JUNIO.xlsx', sheet_name='GIRO DIRECTO', header=7)\n",
    "JULIO = pd.read_excel('C:/Users/Miguel Angel/Documents/Supersalud/Pagos_EPS_Proveedores/GiroDirecto/2021/Subsidiado/JULIO.xlsx', sheet_name='GIRO DIRECTO', header=7)\n",
    "AGOSTO = pd.read_excel('C:/Users/Miguel Angel/Documents/Supersalud/Pagos_EPS_Proveedores/GiroDirecto/2021/Subsidiado/AGOSTO.xlsx', sheet_name='GIRO DIRECTO', header=7)\n",
    "SEPTIEMBRE = pd.read_excel('C:/Users/Miguel Angel/Documents/Supersalud/Pagos_EPS_Proveedores/GiroDirecto/2021/Subsidiado/SEPTIEMBRE.xlsx', sheet_name='GIRO DIRECTO', header=7)\n",
    "OCTUBRE = pd.read_excel('C:/Users/Miguel Angel/Documents/Supersalud/Pagos_EPS_Proveedores/GiroDirecto/2021/Subsidiado/OCTUBRE.xlsx', sheet_name='GIRO DIRECTO', header=7)\n",
    "# NOVIEMBRE = pd.read_excel('C:/Users/Miguel Angel/Documents/Supersalud/Pagos_EPS_Proveedores/GiroDirecto/2021/Subsidiado/NOVIEMBRE.xlsx', sheet_name='GIRO DIRECTO', header=7)\n",
    "# DICIEMBRE = pd.read_excel('C:/Users/Miguel Angel/Documents/Supersalud/Pagos_EPS_Proveedores/GiroDirecto/2021/Subsidiado/DICIEMBRE.xlsx', sheet_name='GIRO DIRECTO', header=7)"
   ]
  },
  {
   "cell_type": "code",
   "execution_count": 5,
   "metadata": {},
   "outputs": [
    {
     "name": "stdout",
     "output_type": "stream",
     "text": [
      "Index(['Código EPS', 'Nombre EPS', 'NIT', 'Razón Social',\n",
      "       'Valor Autorizado por EPS', 'Valor Girado IPS', 'observación',\n",
      "       'Fecha proceso', 'Fecha Giro'],\n",
      "      dtype='object')\n",
      "Index(['Código EPS', 'Nombre EPS', 'NIT', 'Razón Social',\n",
      "       'Valor Autorizado por EPS', 'Valor Girado IPS', 'observación',\n",
      "       'Fecha proceso', 'Fecha Giro'],\n",
      "      dtype='object')\n",
      "Index(['Código EPS', 'Nombre EPS', 'NIT', 'Razón Social',\n",
      "       'Valor Autorizado por EPS', 'Valor Girado IPS', 'observación',\n",
      "       'Fecha proceso', 'Fecha Giro'],\n",
      "      dtype='object')\n",
      "Index(['Código EPS', 'Nombre EPS', 'NIT', 'Razón Social',\n",
      "       'Valor Autorizado por EPS', 'Valor Girado IPS', 'observación',\n",
      "       'Fecha proceso', 'Fecha Giro'],\n",
      "      dtype='object')\n",
      "Index(['Código EPS', 'Nombre EPS', 'NIT', 'Razón Social',\n",
      "       'Valor Autorizado por EPS', 'Valor Girado IPS', 'observación',\n",
      "       'Fecha proceso', 'Fecha Giro'],\n",
      "      dtype='object')\n",
      "Index(['Código EPS', 'Nombre EPS', 'NIT', 'Razón Social',\n",
      "       'Valor Autorizado por EPS', 'Valor Girado IPS', 'observación',\n",
      "       'Fecha proceso', 'Fecha Giro'],\n",
      "      dtype='object')\n"
     ]
    }
   ],
   "source": [
    "# Se revisa que el nombre de las columnas sean iguales para posteriomente unir la información para el año en cuestión\n",
    "# En caso de encontrar una columna con nombre diferente, se debe incluir la modificación en la siguiente línea de código para así homogenizar las bases de datos\n",
    "# print(ENERO.columns)\n",
    "# print(FEBRERO.columns)\n",
    "# print(MARZO.columns)\n",
    "# print(ABRIL.columns)\n",
    "print(MAYO.columns)\n",
    "print(JUNIO.columns)\n",
    "print(JULIO.columns)\n",
    "print(AGOSTO.columns)\n",
    "print(SEPTIEMBRE.columns)\n",
    "print(OCTUBRE.columns)"
   ]
  },
  {
   "cell_type": "code",
   "execution_count": 4,
   "metadata": {},
   "outputs": [],
   "source": [
    "# Para homogenizar los nombres de las columnas y facilitar la pega posteriormente\n",
    "ENERO.rename(columns={'Valor Autorizado \\npor la EPS ($)': 'Valor Autorizado por EPS', 'Código_EPS': 'Código EPS', 'Valor Girado a IPS': 'Valor Girado IPS', 'Observación': 'observación'}, inplace=True)\n",
    "FEBRERO.rename(columns={'Valor Autorizado \\npor la EPS ($)': 'Valor Autorizado por EPS', 'Código_EPS': 'Código EPS', 'Valor Girado a IPS': 'Valor Girado IPS', 'Observación': 'observación'}, inplace=True)\n",
    "MARZO.rename(columns={'Valor Autorizado \\npor la EPS ($)': 'Valor Autorizado por EPS', 'Código_EPS': 'Código EPS', 'Valor Girado a IPS': 'Valor Girado IPS', 'Observación': 'observación'}, inplace=True)\n",
    "ABRIL.rename(columns={'Valor Autorizado \\npor la EPS ($)': 'Valor Autorizado por EPS', 'Código_EPS': 'Código EPS', 'Valor Girado a IPS': 'Valor Girado IPS', 'Observación': 'observación'}, inplace=True)\n",
    "MAYO.rename(columns={'Fecha proceso Giro Directo':'Fecha proceso', 'Valor Autorizado \\npor la EPS ($)': 'Valor Autorizado por EPS', 'Código_EPS': 'Código EPS', 'Valor Girado a IPS': 'Valor Girado IPS', 'Observación': 'observación', 'NIT IPS': 'NIT', 'Nombre IPS': 'Razón Social'}, inplace=True)\n",
    "JUNIO.rename(columns={'Valor Autorizado \\npor la EPS ($)': 'Valor Autorizado por EPS', 'Código_EPS': 'Código EPS', 'Valor Girado a IPS': 'Valor Girado IPS', 'Observación': 'observación'}, inplace=True)\n",
    "JULIO.rename(columns={'Valor Autorizado \\npor la EPS ($)': 'Valor Autorizado por EPS', 'Código_EPS': 'Código EPS', 'Valor Girado a IPS': 'Valor Girado IPS', 'Observación': 'observación'}, inplace=True)\n",
    "AGOSTO.rename(columns={'Valor Autorizado \\npor la EPS ($)': 'Valor Autorizado por EPS', 'Código_EPS': 'Código EPS', 'Valor Girado a IPS': 'Valor Girado IPS', 'Observación': 'observación'}, inplace=True)\n",
    "SEPTIEMBRE.rename(columns={'Valor Autorizado \\npor la EPS ($)': 'Valor Autorizado por EPS', 'Código_EPS': 'Código EPS', 'Valor Girado a IPS': 'Valor Girado IPS', 'Observación': 'observación'}, inplace=True)\n",
    "OCTUBRE.rename(columns={'Valor Autorizado \\npor la EPS ($)': 'Valor Autorizado por EPS', 'Código_EPS': 'Código EPS', 'Valor Girado a IPS': 'Valor Girado IPS','Valor Girado a IPS ($)': 'Valor Girado IPS', 'Observación': 'observación'}, inplace=True)\n",
    "# NOVIEMBRE.rename(columns={'Valor Autorizado \\npor la EPS ($)': 'Valor Autorizado por EPS', 'Código_EPS': 'Código EPS', 'Valor Girado a IPS': 'Valor Girado IPS', 'Valor Girado a IPS ($)': 'Valor Girado IPS', 'Observación': 'observación'}, inplace=True)\n",
    "# DICIEMBRE.rename(columns={'Valor Autorizado \\npor la EPS ($)': 'Valor Autorizado por EPS', 'Código_EPS': 'Código EPS', 'Valor Girado a IPS': 'Valor Girado IPS', 'Observación': 'observación', 'NIT': 'NIT IPS', 'Razón Social': 'Nombre IPS'}, inplace=True)"
   ]
  },
  {
   "cell_type": "code",
   "execution_count": 6,
   "metadata": {},
   "outputs": [],
   "source": [
    "# Para agregar la columna de mes y corroborar posteriormente al concatenar las bases\n",
    "ENERO['Mes']='1'\n",
    "FEBRERO['Mes']='2'\n",
    "MARZO['Mes']='3'\n",
    "ABRIL['Mes']='4'\n",
    "MAYO['Mes']='5'\n",
    "JUNIO['Mes']='6'\n",
    "JULIO['Mes']='7'\n",
    "AGOSTO['Mes']='8'\n",
    "SEPTIEMBRE['Mes']='9'\n",
    "OCTUBRE['Mes']='10'\n",
    "# NOVIEMBRE['Mes']='11'\n",
    "# DICIEMBRE['Mes']='12'"
   ]
  },
  {
   "cell_type": "code",
   "execution_count": 7,
   "metadata": {},
   "outputs": [],
   "source": [
    "# Para agregar la columna de año y corroborar posteriormente al concatenar las bases\n",
    "ENERO['Ano']='2021'\n",
    "FEBRERO['Ano']='2021'\n",
    "MARZO['Ano']='2021'\n",
    "ABRIL['Ano']='2021'\n",
    "MAYO['Ano']='2021'\n",
    "JUNIO['Ano']='2021'\n",
    "JULIO['Ano']='2021'\n",
    "AGOSTO['Ano']='2021'\n",
    "SEPTIEMBRE['Ano']='2021'\n",
    "OCTUBRE['Ano']='2021'\n",
    "# NOVIEMBRE['Ano']='2021'\n",
    "# DICIEMBRE['Ano']='2021'"
   ]
  },
  {
   "cell_type": "code",
   "execution_count": 8,
   "metadata": {},
   "outputs": [],
   "source": [
    "# Para agregar la columna regimen\n",
    "ENERO['Regimen']='Subsidiado'\n",
    "FEBRERO['Regimen']='Subsidiado'\n",
    "MARZO['Regimen']='Subsidiado'\n",
    "ABRIL['Regimen']='Subsidiado'\n",
    "MAYO['Regimen']='Subsidiado'\n",
    "JUNIO['Regimen']='Subsidiado'\n",
    "JULIO['Regimen']='Subsidiado'\n",
    "AGOSTO['Regimen']='Subsidiado'\n",
    "SEPTIEMBRE['Regimen']='Subsidiado'\n",
    "OCTUBRE['Regimen']='Subsidiado'\n",
    "# NOVIEMBRE['Regimen']='Subsidiado'\n",
    "# DICIEMBRE['Regimen']='Subsidiado'"
   ]
  },
  {
   "cell_type": "code",
   "execution_count": 9,
   "metadata": {},
   "outputs": [],
   "source": [
    "# Se concatenan la bases de datos \n",
    "# frames = [ENERO, FEBRERO, MARZO, ABRIL, MAYO, JUNIO, JULIO, AGOSTO, SEPTIEMBRE, OCTUBRE, NOVIEMBRE, DICIEMBRE]\n",
    "frames = [ENERO, FEBRERO, MARZO, ABRIL, MAYO, JUNIO, JULIO, AGOSTO, SEPTIEMBRE, OCTUBRE]\n",
    "GiroDirecto_Subsidiado = pd.concat(frames, ignore_index=True)"
   ]
  },
  {
   "cell_type": "code",
   "execution_count": 10,
   "metadata": {},
   "outputs": [],
   "source": [
    "# Se elimnan los dataframes anteriormente tratados y que no son necesarias para liberar memoria\n",
    "del [ENERO, FEBRERO, MARZO, ABRIL, MAYO, JUNIO, JULIO, AGOSTO, SEPTIEMBRE, OCTUBRE, frames]"
   ]
  },
  {
   "cell_type": "markdown",
   "metadata": {},
   "source": [
    "<h2>Giros Directos - Regimen Contributivo </h2>\n",
    "<p> En este apartado se trata la base de datos Giros Directos - Regimen Contributivo. Link de descarga: https://www.adres.gov.co/lupa-al-giro/regimen-contriutivo </p>"
   ]
  },
  {
   "cell_type": "code",
   "execution_count": 11,
   "metadata": {},
   "outputs": [],
   "source": [
    "# Para leer los datos descargados desde La Lupa ADRES aparatado Giro Directo - Regimen Contributivo (importante fijarse la fila en la cual comienzan los datos para así modificar el header de cada línea y se lean correctamente los datos)\n",
    "ENERO = pd.read_excel('C:/Users/Miguel Angel/Documents/Supersalud/Pagos_EPS_Proveedores/GiroDirecto/2021/Contributivo/ENERO.xlsx', sheet_name='GIRO DIRECTO', header=5)\n",
    "FEBRERO = pd.read_excel('C:/Users/Miguel Angel/Documents/Supersalud/Pagos_EPS_Proveedores/GiroDirecto/2021/Contributivo/FEBRERO.xlsx', sheet_name='GIRO DIRECTO', header=8)\n",
    "MARZO = pd.read_excel('C:/Users/Miguel Angel/Documents/Supersalud/Pagos_EPS_Proveedores/GiroDirecto/2021/Contributivo/MARZO.xlsx', sheet_name='GIRO DIRECTO', header=8)\n",
    "ABRIL = pd.read_excel('C:/Users/Miguel Angel/Documents/Supersalud/Pagos_EPS_Proveedores/GiroDirecto/2021/Contributivo/ABRIL.xlsx', sheet_name='GIRO DIRECTO', header=8)\n",
    "MAYO = pd.read_excel('C:/Users/Miguel Angel/Documents/Supersalud/Pagos_EPS_Proveedores/GiroDirecto/2021/Contributivo/MAYO.xlsx', sheet_name='GIRO DIRECTO', header=8)\n",
    "JUNIO = pd.read_excel('C:/Users/Miguel Angel/Documents/Supersalud/Pagos_EPS_Proveedores/GiroDirecto/2021/Contributivo/JUNIO.xlsx', sheet_name='GIRO DIRECTO', header=8)\n",
    "JULIO = pd.read_excel('C:/Users/Miguel Angel/Documents/Supersalud/Pagos_EPS_Proveedores/GiroDirecto/2021/Contributivo/JULIO.xlsx', sheet_name='GIRO DIRECTO', header=8)\n",
    "AGOSTO = pd.read_excel('C:/Users/Miguel Angel/Documents/Supersalud/Pagos_EPS_Proveedores/GiroDirecto/2021/Contributivo/AGOSTO.xlsx', sheet_name='GIRO DIRECTO', header=8)\n",
    "SEPTIEMBRE = pd.read_excel('C:/Users/Miguel Angel/Documents/Supersalud/Pagos_EPS_Proveedores/GiroDirecto/2021/Contributivo/SEPTIEMBRE.xlsx', sheet_name='GIRO DIRECTO', header=8)\n",
    "OCTUBRE = pd.read_excel('C:/Users/Miguel Angel/Documents/Supersalud/Pagos_EPS_Proveedores/GiroDirecto/2021/Contributivo/OCTUBRE.xlsx', sheet_name='GIRO DIRECTO', header=8)\n",
    "# NOVIEMBRE = pd.read_excel('C:/Users/Miguel Angel/Documents/Supersalud/Pagos_EPS_Proveedores/GiroDirecto/2021/Contributivo/NOVIEMBRE.xlsx', sheet_name='GIRO DIRECTO', header=8)\n",
    "# DICIEMBRE = pd.read_excel('C:/Users/Miguel Angel/Documents/Supersalud/Pagos_EPS_Proveedores/GiroDirecto/2021/Contributivo/DICIEMBRE.xlsx', sheet_name='GIRO DIRECTO', header=8)"
   ]
  },
  {
   "cell_type": "code",
   "execution_count": 12,
   "metadata": {},
   "outputs": [
    {
     "name": "stdout",
     "output_type": "stream",
     "text": [
      "Index(['Unnamed: 0', 'Código EPS', 'Nombre EPS', 'NIT IPS', 'Nombre IPS',\n",
      "       'Valor Autorizado por EPS', 'Valor Girado IPS', 'observación',\n",
      "       'Fecha proceso Giro Directo', 'Fecha Giro', 'PROCESO'],\n",
      "      dtype='object')\n",
      "Index(['Unnamed: 0', 'Código EPS', 'Nombre EPS', 'NIT IPS', 'Nombre IPS',\n",
      "       'Valor Autorizado por EPS', 'Valor Girado IPS', 'observación',\n",
      "       'Fecha proceso Giro Directo', 'Fecha Giro', 'PROCESO'],\n",
      "      dtype='object')\n",
      "Index(['Unnamed: 0', 'Código EPS', 'Nombre EPS', 'NIT IPS', 'Nombre IPS',\n",
      "       'Valor Autorizado por EPS', 'Valor Girado IPS', 'observación',\n",
      "       'Fecha proceso Giro Directo', 'Fecha Giro', 'PROCESO'],\n",
      "      dtype='object')\n",
      "Index(['Unnamed: 0', 'Código EPS', 'Nombre EPS', 'NIT IPS', 'Nombre IPS',\n",
      "       'Valor Autorizado por EPS', 'Valor Girado IPS', 'observación',\n",
      "       'Fecha proceso Giro Directo', 'Fecha Giro', 'PROCESO'],\n",
      "      dtype='object')\n",
      "Index(['Unnamed: 0', 'Código EPS', 'Nombre EPS', 'NIT IPS', 'Nombre IPS',\n",
      "       'Valor Autorizado por EPS', 'Valor Girado IPS', 'observación',\n",
      "       'Fecha proceso Giro Directo', 'Fecha Giro', 'PROCESO'],\n",
      "      dtype='object')\n",
      "Index(['Unnamed: 0', 'Código EPS', 'Nombre EPS', 'NIT IPS', 'Nombre IPS',\n",
      "       'Valor Autorizado por EPS', 'Valor Girado IPS', 'observación',\n",
      "       'Fecha proceso Giro Directo', 'Fecha Giro', 'PROCESO'],\n",
      "      dtype='object')\n"
     ]
    }
   ],
   "source": [
    "# Se revisa que el nombre de las columnas sean iguales para posteriomente unir la información para el año en cuestión\n",
    "# En caso de encontrar una columna con nombre diferente, se debe incluir la modificación en la siguiente línea de código para así homogenizar las bases de datos\n",
    "# print(ENERO.columns)\n",
    "# print(FEBRERO.columns)\n",
    "# print(MARZO.columns)\n",
    "# print(ABRIL.columns)\n",
    "print(MAYO.columns)\n",
    "print(JUNIO.columns)\n",
    "print(JULIO.columns)\n",
    "print(AGOSTO.columns)\n",
    "print(SEPTIEMBRE.columns)\n",
    "print(OCTUBRE.columns)"
   ]
  },
  {
   "cell_type": "code",
   "execution_count": 13,
   "metadata": {},
   "outputs": [],
   "source": [
    "# Para homogenizar los nombres de las columnas y facilitar la pega posteriormente\n",
    "ENERO.rename(columns={'Código_EPS': 'Código EPS'}, inplace=True)\n",
    "FEBRERO.rename(columns={'Código_EPS': 'Código EPS'}, inplace=True)\n",
    "MARZO.rename(columns={'Código_EPS': 'Código EPS'}, inplace=True)\n",
    "ABRIL.rename(columns={'Código_EPS': 'Código EPS'}, inplace=True)\n",
    "MAYO.rename(columns={'Código_EPS': 'Código EPS'}, inplace=True)\n",
    "JUNIO.rename(columns={'Código_EPS': 'Código EPS'}, inplace=True)\n",
    "JULIO.rename(columns={'Código_EPS': 'Código EPS'}, inplace=True)\n",
    "AGOSTO.rename(columns={'Código_EPS': 'Código EPS'}, inplace=True)\n",
    "SEPTIEMBRE.rename(columns={'Código_EPS': 'Código EPS'}, inplace=True)\n",
    "OCTUBRE.rename(columns={'Código_EPS': 'Código EPS'}, inplace=True)\n",
    "# NOVIEMBRE.rename(columns={'Código_EPS': 'Código EPS'}, inplace=True)\n",
    "# DICIEMBRE.rename(columns={'Código_EPS': 'Código EPS'}, inplace=True)"
   ]
  },
  {
   "cell_type": "code",
   "execution_count": 14,
   "metadata": {},
   "outputs": [],
   "source": [
    "# Para agregar la columna de mes y corroborar posteriormente al concatenar las bases\n",
    "ENERO['Mes']='1'\n",
    "FEBRERO['Mes']='2'\n",
    "MARZO['Mes']='3'\n",
    "ABRIL['Mes']='4'\n",
    "MAYO['Mes']='5'\n",
    "JUNIO['Mes']='6'\n",
    "JULIO['Mes']='7'\n",
    "AGOSTO['Mes']='8'\n",
    "SEPTIEMBRE['Mes']='9'\n",
    "OCTUBRE['Mes']='10'\n",
    "# NOVIEMBRE['Mes']='11'\n",
    "# DICIEMBRE['Mes']='12'"
   ]
  },
  {
   "cell_type": "code",
   "execution_count": 15,
   "metadata": {},
   "outputs": [],
   "source": [
    "# Para agregar la columna de año y corroborar posteriormente al concatenar las bases\n",
    "ENERO['Ano']='2021'\n",
    "FEBRERO['Ano']='2021'\n",
    "MARZO['Ano']='2021'\n",
    "ABRIL['Ano']='2021'\n",
    "MAYO['Ano']='2021'\n",
    "JUNIO['Ano']='2021'\n",
    "JULIO['Ano']='2021'\n",
    "AGOSTO['Ano']='2021'\n",
    "SEPTIEMBRE['Ano']='2021'\n",
    "OCTUBRE['Ano']='2021'\n",
    "# NOVIEMBRE['Ano']='2021'\n",
    "# DICIEMBRE['Ano']='2021'"
   ]
  },
  {
   "cell_type": "code",
   "execution_count": 16,
   "metadata": {},
   "outputs": [],
   "source": [
    "# Para agregar la columna de tipo de regimen y corroborar posteriormente al concatenar las bases\n",
    "ENERO['Regimen']='Contributivo'\n",
    "FEBRERO['Regimen']='Contributivo'\n",
    "MARZO['Regimen']='Contributivo'\n",
    "ABRIL['Regimen']='Contributivo'\n",
    "MAYO['Regimen']='Contributivo'\n",
    "JUNIO['Regimen']='Contributivo'\n",
    "JULIO['Regimen']='Contributivo'\n",
    "AGOSTO['Regimen']='Contributivo'\n",
    "SEPTIEMBRE['Regimen']='Contributivo'\n",
    "OCTUBRE['Regimen']='Contributivo'\n",
    "# NOVIEMBRE['Regimen']='Contributivo'\n",
    "# DICIEMBRE['Regimen']='Contributivo'"
   ]
  },
  {
   "cell_type": "code",
   "execution_count": 17,
   "metadata": {},
   "outputs": [],
   "source": [
    "# Se concatenan la bases de datos \n",
    "# frames = [ENERO, FEBRERO, MARZO, ABRIL, MAYO, JUNIO, JULIO, AGOSTO, SEPTIEMBRE, OCTUBRE, NOVIEMBRE, DICIEMBRE]\n",
    "frames = [ENERO, FEBRERO, MARZO, ABRIL, MAYO, JUNIO, JULIO, AGOSTO, SEPTIEMBRE, OCTUBRE]\n",
    "GiroDirecto_Contributivo = pd.concat(frames, ignore_index=True)"
   ]
  },
  {
   "cell_type": "code",
   "execution_count": 30,
   "metadata": {},
   "outputs": [],
   "source": [
    "# Se elimnan los dataframes anteriormente tratados y que no son necesarias para liberar memoria\n",
    "del [ENERO, FEBRERO, MARZO, ABRIL, MAYO, JUNIO, JULIO, AGOSTO, SEPTIEMBRE, OCTUBRE, frames]"
   ]
  },
  {
   "cell_type": "code",
   "execution_count": 18,
   "metadata": {},
   "outputs": [],
   "source": [
    "# Se eliminan las columnas que no son de interés para GiroDirecto_Contributivo\n",
    "GiroDirecto_Contributivo = GiroDirecto_Contributivo.drop(['Unnamed: 0', 'PROCESO'], axis=1)"
   ]
  },
  {
   "cell_type": "code",
   "execution_count": 22,
   "metadata": {},
   "outputs": [
    {
     "name": "stdout",
     "output_type": "stream",
     "text": [
      "Los nombres de las columnas de GiroDirecto_Contributivo son:\n",
      "Index(['Código EPS', 'Nombre EPS', 'NIT IPS', 'Nombre IPS',\n",
      "       'Valor Autorizado por EPS', 'Valor Girado IPS', 'observación',\n",
      "       'Fecha proceso Giro Directo', 'Fecha Giro', 'Mes', 'Ano', 'Regimen'],\n",
      "      dtype='object')\n",
      "Los nombres de las columnas de GiroDirecto_Subsidiado son:\n",
      "Index(['Código EPS', 'Nombre EPS', 'NIT IPS', 'Nombre IPS',\n",
      "       'Valor Autorizado por EPS', 'Valor Girado IPS', 'observación',\n",
      "       'Fecha proceso Giro Directo', 'Fecha Giro', 'Mes', 'Ano', 'Regimen'],\n",
      "      dtype='object')\n"
     ]
    }
   ],
   "source": [
    "# Se revisa que el nombre de las columnas sean iguales para posteriomente unir la información para el año en cuestión\n",
    "# En caso de encontrar una columna con nombre diferente, se debe incluir la modificación en la siguiente línea de código para así homogenizar las bases de datos\n",
    "print(\"Los nombres de las columnas de GiroDirecto_Contributivo son:\", GiroDirecto_Contributivo.columns, sep='\\n')\n",
    "print(\"Los nombres de las columnas de GiroDirecto_Subsidiado son:\", GiroDirecto_Subsidiado.columns, sep='\\n')"
   ]
  },
  {
   "cell_type": "code",
   "execution_count": 20,
   "metadata": {},
   "outputs": [],
   "source": [
    "# Para renombrar las columnas de interés GiroDirecto_Subsidiado\n",
    "GiroDirecto_Subsidiado.rename(columns={'NIT': 'NIT IPS', 'Razón Social': 'Nombre IPS', 'Fecha proceso': 'Fecha proceso Giro Directo'}, inplace=True)"
   ]
  },
  {
   "cell_type": "code",
   "execution_count": 21,
   "metadata": {},
   "outputs": [],
   "source": [
    "# Se concatenan la bases de datos para encontrar la base de datos final\n",
    "frames = [GiroDirecto_Contributivo, GiroDirecto_Subsidiado]\n",
    "GiroDirecto = pd.concat(frames, ignore_index=True)"
   ]
  },
  {
   "cell_type": "code",
   "execution_count": 31,
   "metadata": {},
   "outputs": [],
   "source": [
    "# Se elimnan los dataframes anteriormente tratados y que no son necesarias para liberar memoria\n",
    "del [GiroDirecto_Contributivo, GiroDirecto_Subsidiado, frames]"
   ]
  },
  {
   "cell_type": "code",
   "execution_count": 23,
   "metadata": {},
   "outputs": [],
   "source": [
    "# Para renombrar las columnas de interés\n",
    "GiroDirecto.rename(columns={'Código EPS': 'Codigo_EPS', 'Nombre EPS': 'Nombre_EPS', 'NIT IPS': 'Nitproveedor', 'Nombre IPS': 'Nombre_IPS', 'Valor Autorizado por la EPS ($)': 'Autorizado', 'Valor Girado IPS': 'Giro', 'Fecha Giro': 'Fecha_Giro'}, inplace=True)"
   ]
  },
  {
   "cell_type": "code",
   "execution_count": 24,
   "metadata": {},
   "outputs": [],
   "source": [
    "# Se elimina la fila Total de cada base de datos, la cual corresponde al total para cada tipo de Giro en cada mes \n",
    "# GiroDirecto = GiroDirecto.loc[GiroDirecto[\"Codigo_EPS\"] != \"TOTAL\"] --- OJO: utilizar cuando se quiere eliminar solo una observación\n",
    "GiroDirecto = GiroDirecto.dropna(subset=['Nombre_EPS'])"
   ]
  },
  {
   "cell_type": "code",
   "execution_count": 25,
   "metadata": {},
   "outputs": [],
   "source": [
    "# Se eliminan las columnas que no son de interés\n",
    "GiroDirecto = GiroDirecto.drop(['observación', 'Fecha proceso Giro Directo', 'Fecha_Giro'], axis=1)"
   ]
  },
  {
   "cell_type": "code",
   "execution_count": 26,
   "metadata": {},
   "outputs": [],
   "source": [
    "# Código EPS a NIT\n",
    "# Esta información está actualizada desde la fuente https://supersalud.sharepoint.com/OMSAR/Lists/Cdigos%20Entidades%20OMSAR/AllItems.aspx\n",
    "\n",
    "dict_EPS = {\n",
    "    'Codigo_EPS': ['EPS001', 'EPS012', 'EPS008', 'EPS016', 'EPS023', 'EPS017', 'EPS002', 'EPS005', 'EPS018', 'EPS010', 'EPS046', 'EPS044', 'EPS037', 'EPS033', 'ESS024', 'ESS062', 'ESS091', 'ESS118', 'EPSS45', 'EPSS41', 'EPSS33', 'ESS076', 'EPSI04', 'EPSI03', 'ESS207', 'CCF055', 'EPSS34', 'EPS025', 'CCF102', 'CCF015', 'CCF053', 'CCF007', 'CCF023', 'EPS024', 'CCF027', 'CCF050', 'CCF033', 'ESS133', 'EPS022', 'EPSI01', 'ESS002', 'EPSI05', 'EPSI06', 'ESSC24', 'ESSC62', 'ESSC91', 'ESSC18', 'EPS045', 'EPS041', 'ESSC76', 'EPSIC4', 'EPSIC3', 'ESSC07', 'CCFC55', 'EPSC34', 'EPSC25', 'CCFC20', 'CCFC15', 'CCFC53', 'CCFC07', 'CCFC23', 'CCFC24', 'CCFC27', 'CCFC50', 'CCFC33', 'EPSC22', 'EPSIC1', 'ESSC02', 'EPSIC5', 'EPSIC6', 'EPS040', 'EPSS01', 'EPSS12', 'EPSS08', 'EPSS16', 'EPSS23', 'EPSS17', 'EPSS02', 'EPSS05', 'EPSS18', 'EPSS10', 'EPSS46', 'EPSS44', 'EPSS37', 'CCF024', 'EPS042', 'EPSS42', 'EPSS48', 'EPSS40', 'ESSC33',\n",
    "],\n",
    "\n",
    "        'NIT_EPS': ['830113831', '890303093', '860066942', '805000427', '830009783', '830003564', '800130907', '800251440', '805001157', '800088702', '900914254', '901097473', '900156264', '830074184', '900226715', '900935126', '901093846', '901021565', '901097473', '900156264', '830074184', '818000140', '839000495', '817001773', '806008394', '890102044', '900298372', '891856000', '891600091', '891080005', '860045904', '890480110', '892115006', '891180008', '891280008', '890500675', '892200015', '804002105', '899999107', '824001398', '811004055', '837000084', '809008362', '900226715', '900935126', '901093846', '901021565', '901097473', '900156264', '818000140', '839000495', '817001773', '806008394', '890102044', '900298372', '891856000', '891600091', '891080005', '860045904', '890480110', '892115006', '891180008', '891280008', '890500675', '892200015', '899999107', '824001398', '811004055', '837000084', '809008362', '900604350', '830113831', '890303093', '860066942', '805000427', '830009783', '830003564', '800130907', '800251440', '805001157', '800088702', '900914254', '901097473', '900156264', '891180008', '900226715', '900226715', '806008394', '900604350', '804002105',\n",
    "],\n",
    "        }"
   ]
  },
  {
   "cell_type": "code",
   "execution_count": 27,
   "metadata": {},
   "outputs": [],
   "source": [
    "# Se crea el dataframe con el diccionario de datos\n",
    "df_EPS = pd.DataFrame(dict_EPS, columns = [\"Codigo_EPS\", \"NIT_EPS\"])"
   ]
  },
  {
   "cell_type": "code",
   "execution_count": 28,
   "metadata": {},
   "outputs": [],
   "source": [
    "# Se unen las dos bases de datos para obtener la información de NIT EPS haciendo el llamado por Códgio EPS\n",
    "GiroDirecto.Codigo_EPS = GiroDirecto.Codigo_EPS.astype(str)\n",
    "df_EPS.Codigo_EPS = df_EPS.Codigo_EPS.astype(str)\n",
    "# Para eliminar todos los espacios \n",
    "GiroDirecto.Codigo_EPS = GiroDirecto.Codigo_EPS.str.replace(\" \", \"\")\n",
    "GiroDirecto = pd.merge(GiroDirecto, df_EPS, how='left', on=['Codigo_EPS', 'Codigo_EPS'])"
   ]
  },
  {
   "cell_type": "code",
   "execution_count": 29,
   "metadata": {},
   "outputs": [],
   "source": [
    "#Se transforman las variables a STR para mejorar su manipulación\n",
    "GiroDirecto.Nitproveedor = GiroDirecto.Nitproveedor.astype(str)\n",
    "GiroDirecto.Mes = GiroDirecto.Mes.astype(str)"
   ]
  },
  {
   "cell_type": "code",
   "execution_count": 32,
   "metadata": {},
   "outputs": [],
   "source": [
    "# Para hacer la suma de Giro por NIT EPS, NIT proveedor y Mes de interés\n",
    "GiroDirecto_2021 = GiroDirecto.groupby(['NIT_EPS','Nitproveedor','Mes','Ano']).agg({'Giro': 'sum'}).reset_index()"
   ]
  },
  {
   "cell_type": "code",
   "execution_count": 33,
   "metadata": {},
   "outputs": [],
   "source": [
    "# Para guardar la base de datos lista para ser tratada en formato Excel y CSV\n",
    "GiroDirecto_2021.to_excel(r'C:/Users/Miguel Angel/Documents/Supersalud/Pagos_EPS_Proveedores/GiroDirecto/GiroDirecto_ENEOCT2021_V1.xlsx', index = False)\n",
    "GiroDirecto_2021.to_csv(r'C:/Users/Miguel Angel/Documents/Supersalud/Pagos_EPS_Proveedores/GiroDirecto/GiroDirecto_ENEOCT2021_V1.csv', index = False, encoding='utf-8-sig')"
   ]
  },
  {
   "cell_type": "code",
   "execution_count": 34,
   "metadata": {},
   "outputs": [],
   "source": [
    "# Se elimnan los dataframes auxiliares para liberar espacio\n",
    "del [df_EPS, dict_EPS, GiroDirecto, GiroDirecto_2021]"
   ]
  },
  {
   "cell_type": "markdown",
   "metadata": {},
   "source": [
    "<p> Aquí se pegan las dos bases de Giro Directo para 2020 y 2021</p>"
   ]
  },
  {
   "cell_type": "code",
   "execution_count": 35,
   "metadata": {},
   "outputs": [],
   "source": [
    "# Para concatenar la base de datos de 2021 y 2020\n",
    "GiroDirecto_2021 = pd.read_excel('C:/Users/Miguel Angel/Documents/Supersalud/Pagos_EPS_Proveedores/GiroDirecto/GiroDirecto_ENEOCT2021_V1.xlsx', dtype={'NIT_EPS':object, 'Nitproveedor': object, 'Mes':object, 'Ano':object})"
   ]
  },
  {
   "cell_type": "code",
   "execution_count": 36,
   "metadata": {},
   "outputs": [],
   "source": [
    "# Para concatenar la base de datos de 2021 y 2020\n",
    "GiroDirecto_2020 = pd.read_excel('C:/Users/Miguel Angel/Documents/Supersalud/Pagos_EPS_Proveedores/GiroDirecto/GiroDirecto_2020_V2.xlsx', dtype={'NIT_EPS':object, 'Nitproveedor': object, 'Mes':object, 'Ano':object})"
   ]
  },
  {
   "cell_type": "code",
   "execution_count": 37,
   "metadata": {},
   "outputs": [
    {
     "name": "stdout",
     "output_type": "stream",
     "text": [
      "Los nombres de las columnas de GiroDirecto 2020 son:\n",
      "Index(['NIT_EPS', 'Nitproveedor', 'Mes', 'Ano', 'Giro'], dtype='object')\n",
      "Los nombres de las columnas de GiroDirecto 2021 son:\n",
      "Index(['NIT_EPS', 'Nitproveedor', 'Mes', 'Giro', 'Ano'], dtype='object')\n"
     ]
    }
   ],
   "source": [
    "print(\"Los nombres de las columnas de GiroDirecto 2020 son:\", GiroDirecto_2021.columns, sep='\\n')\n",
    "print(\"Los nombres de las columnas de GiroDirecto 2021 son:\", GiroDirecto_2020.columns, sep='\\n')"
   ]
  },
  {
   "cell_type": "code",
   "execution_count": 38,
   "metadata": {},
   "outputs": [],
   "source": [
    "# Se concatenan la bases de datos para encontrar la base de datos final\n",
    "frames = [GiroDirecto_2021, GiroDirecto_2020]\n",
    "GiroDirecto_2020_2021 = pd.concat(frames, ignore_index=True)"
   ]
  },
  {
   "cell_type": "code",
   "execution_count": 39,
   "metadata": {},
   "outputs": [],
   "source": [
    "# Para guardar la base de datos lista para ser tratada en formato Excel y CSV\n",
    "GiroDirecto_2020_2021.to_excel(r'C:/Users/Miguel Angel/Documents/Supersalud/Pagos_EPS_Proveedores/GiroDirecto/GiroDirecto_2020_ENEOCT2021_V1.xlsx', index = False)\n",
    "GiroDirecto_2020_2021.to_csv(r'C:/Users/Miguel Angel/Documents/Supersalud/Pagos_EPS_Proveedores/GiroDirecto/GiroDirecto_2020_ENEOCT2021_V1.csv', index = False, encoding='utf-8-sig')"
   ]
  },
  {
   "cell_type": "code",
   "execution_count": 40,
   "metadata": {},
   "outputs": [],
   "source": [
    "# Se elimnan los dataframes auxiliares para liberar espacio\n",
    "del [GiroDirecto_2020_2021, GiroDirecto_2020, GiroDirecto_2021, frames]"
   ]
  },
  {
   "cell_type": "markdown",
   "metadata": {},
   "source": [
    "<h2>No UPC</h2>\n",
    "<p> En este apartado se trata la base de datos No UPC</p>\n",
    "<p>Es necesario aclarar que en el archivo de FEBRERO de 2021 se incluye la información para ENERO  de 2021. También se debe mencionar que para obtener los datos de MARRZO de 2021 se tuvo que concatenar las diferentes hojas correspondientes a pagos a IPS previamente al cargue de información en el .ipynb ya que en este archivo hubo una modificación en el reporte de la información y venía desagregada en hojas por tipo de pagos a IPS.</p>\n",
    "<p>Nota: se debe recordar que la información a agregar son los pagos a IPS así que se deben ignorar las hojas referentes a EPS.</p"
   ]
  },
  {
   "cell_type": "code",
   "execution_count": 68,
   "metadata": {},
   "outputs": [],
   "source": [
    "#Cargamos los paquetes que vamos a necesitar\n",
    "import pandas as pd\n",
    "import numpy as np\n",
    "import pyreadstat"
   ]
  },
  {
   "cell_type": "code",
   "execution_count": 41,
   "metadata": {},
   "outputs": [],
   "source": [
    "# Para leer los datos descargados desde La Lupa ADRES aparatado Recursos no UPC - Regimen Subsidiado\n",
    "# ENERO = pd.read_excel('C:/Users/Miguel Angel/Documents/Supersalud/Pagos_EPS_Proveedores/Recursos_No_UPC/2021/ENERO.xlsx', sheet_name='PP0120 - IPS', header=7)\n",
    "FEBRERO = pd.read_excel('C:/Users/Miguel Angel/Documents/Supersalud/Pagos_EPS_Proveedores/Recursos_No_UPC/2021/FEBRERO.xlsx', sheet_name='PAQUETE SUB_S02_0620-0920 IPS', header=6)\n",
    "MARZO = pd.read_excel('C:/Users/Miguel Angel/Documents/Supersalud/Pagos_EPS_Proveedores/Recursos_No_UPC/2021/MARZO.xlsx', sheet_name='Hoja1')\n",
    "ABRIL = pd.read_excel('C:/Users/Miguel Angel/Documents/Supersalud/Pagos_EPS_Proveedores/Recursos_No_UPC/2021/ABRIL.xlsx', sheet_name='Hoja1')\n",
    "MAYO = pd.read_excel('C:/Users/Miguel Angel/Documents/Supersalud/Pagos_EPS_Proveedores/Recursos_No_UPC/2021/MAYO.xlsx', sheet_name='Hoja1')\n",
    "JUNIO = pd.read_excel('C:/Users/Miguel Angel/Documents/Supersalud/Pagos_EPS_Proveedores/Recursos_No_UPC/2021/JUNIO.xlsx', sheet_name='Hoja1')\n",
    "JULIO = pd.read_excel('C:/Users/Miguel Angel/Documents/Supersalud/Pagos_EPS_Proveedores/Recursos_No_UPC/2021/JULIO.xlsx', sheet_name='Hoja1')\n",
    "AGOSTO = pd.read_excel('C:/Users/Miguel Angel/Documents/Supersalud/Pagos_EPS_Proveedores/Recursos_No_UPC/2021/AGOSTO.xlsx', sheet_name='Hoja1')\n",
    "SEPTIEMBRE = pd.read_excel('C:/Users/Miguel Angel/Documents/Supersalud/Pagos_EPS_Proveedores/Recursos_No_UPC/2021/SEPTIEMBRE.xlsx', sheet_name='IPS', header=6)\n",
    "OCTUBRE = pd.read_excel('C:/Users/Miguel Angel/Documents/Supersalud/Pagos_EPS_Proveedores/Recursos_No_UPC/2021/OCTUBRE.xlsx', sheet_name='GIRO_ IPS', header=6)\n",
    "# NOVIEMBRE = pd.read_excel('C:/Users/Miguel Angel/Documents/Supersalud/Pagos_EPS_Proveedores/Recursos_No_UPC/2021/AGOSTO.xlsx', sheet_name='Hoja1')\n",
    "# DICIEMBRE = pd.read_excel('C:/Users/Miguel Angel/Documents/Supersalud/Pagos_EPS_Proveedores/Recursos_No_UPC/2021/AGOSTO.xlsx', sheet_name='Hoja1')"
   ]
  },
  {
   "cell_type": "code",
   "execution_count": 44,
   "metadata": {},
   "outputs": [
    {
     "name": "stdout",
     "output_type": "stream",
     "text": [
      "Index(['Normativa', 'Paquete', 'Régimen', 'Tipo Recobro', 'NIT EPS',\n",
      "       'Nombre EPS que autorizó el giro', 'NIT IPS/Proveedor',\n",
      "       'Nombre IPS/Proveedor', 'Fecha Pago', 'Valor Girado',\n",
      "       'Valor Total a Descontar', 'Oservación'],\n",
      "      dtype='object')\n",
      "Index(['Normativa', 'Paquete', 'Régimen', 'Tipo Recobro', 'NIT EPS',\n",
      "       'Nombre EPS que autorizó el giro', 'NIT IPS/Proveedor',\n",
      "       'Nombre IPS/Proveedor', 'Fecha Pago', 'Valor Girado',\n",
      "       'Valor Total a Descontar', 'Oservación'],\n",
      "      dtype='object')\n",
      "Index(['Normativa', 'Paquete', 'Régimen', 'Tipo Recobro', 'NIT EPS',\n",
      "       'Nombre EPS que autorizó el giro', 'NIT IPS/Proveedor',\n",
      "       'Nombre IPS/Proveedor', 'Fecha Pago', 'Valor Girado',\n",
      "       'Valor Total a Descontar', 'Oservación'],\n",
      "      dtype='object')\n",
      "Index(['Normativa', 'Paquete', 'Régimen', 'Tipo Recobro', 'NIT EPS',\n",
      "       'Nombre EPS que autorizó el giro', 'NIT IPS/Proveedor',\n",
      "       'Nombre IPS/Proveedor', 'Fecha Pago', 'Valor Girado',\n",
      "       'Valor Total a Descontar', 'Oservación'],\n",
      "      dtype='object')\n",
      "Index(['Normativa', 'Paquete', 'Régimen', 'Tipo Recobro', 'NIT EPS',\n",
      "       'Nombre EPS que autorizó el giro', 'NIT IPS/Proveedor',\n",
      "       'Nombre IPS/Proveedor', 'Fecha Pago', 'Valor Girado',\n",
      "       'Valor Total a Descontar', 'Oservación'],\n",
      "      dtype='object')\n",
      "Index(['Normativa', 'Paquete', 'TIENE SELLO', 'Régimen', 'Tipo Recobro',\n",
      "       'NIT EPS', 'Nombre EPS que autorizó el giro', 'NIT IPS/Proveedor',\n",
      "       'Nombre IPS/Proveedor', 'Fecha Pago', 'Valor Girado',\n",
      "       'Valor Total a Descontar', 'Oservación'],\n",
      "      dtype='object')\n"
     ]
    }
   ],
   "source": [
    "# Se revisa que el nombre de las columnas sean iguales para posteriomente unir la información para el año en cuestión\n",
    "# En caso de encontrar una columna con nombre diferente, se debe incluir la modificación en la siguiente línea de código para así homogenizar las bases de datos\n",
    "# print(ENERO.columns)\n",
    "# print(FEBRERO.columns)\n",
    "# print(MARZO.columns)\n",
    "# print(ABRIL.columns)\n",
    "print(MAYO.columns)\n",
    "print(JUNIO.columns)\n",
    "print(JULIO.columns)\n",
    "print(AGOSTO.columns)\n",
    "print(SEPTIEMBRE.columns)\n",
    "print(OCTUBRE.columns)"
   ]
  },
  {
   "cell_type": "code",
   "execution_count": 43,
   "metadata": {},
   "outputs": [],
   "source": [
    "# Para homogenizar los nombres de las columnas y facilitar la pega posteriormente Tipo\\n Recobro\n",
    "# En este caso los nombres de las variables son iguales así que no hay que homogenizar \n",
    "# ENERO.rename(columns={'Valor Autorizado \\npor la EPS ($)': 'Valor Autorizado por EPS', 'Código_EPS': 'Código EPS', 'Valor Girado a IPS': 'Valor Girado IPS', 'Observación': 'observación'}, inplace=True)\n",
    "# FEBRERO.rename(columns={'Valor Autorizado \\npor la EPS ($)': 'Valor Autorizado por EPS', 'Código_EPS': 'Código EPS', 'Valor Girado a IPS': 'Valor Girado IPS', 'Observación': 'observación'}, inplace=True)\n",
    "\n",
    "OCTUBRE.rename(columns={'TIENE \\nSELLO': 'TIENE SELLO', 'Tipo\\n Recobro': 'Tipo Recobro'}, inplace=True)"
   ]
  },
  {
   "cell_type": "code",
   "execution_count": 45,
   "metadata": {},
   "outputs": [],
   "source": [
    "# Para agregar la columna de mes y corroborar posteriormente al concatenar las bases\n",
    "# ENERO['Mes']='1'\n",
    "FEBRERO['Mes']='2'\n",
    "MARZO['Mes']='3'\n",
    "ABRIL['Mes']='4'\n",
    "MAYO['Mes']='5'\n",
    "JUNIO['Mes']='6'\n",
    "JULIO['Mes']='7'\n",
    "AGOSTO['Mes']='8'\n",
    "SEPTIEMBRE['Mes']='9'\n",
    "OCTUBRE['Mes']='10'\n",
    "# NOVIEMBRE['Mes']='11'\n",
    "# DICIEMBRE['Mes']='12'"
   ]
  },
  {
   "cell_type": "code",
   "execution_count": 46,
   "metadata": {},
   "outputs": [],
   "source": [
    "# Para agregar la columna de año y corroborar posteriormente al concatenar las bases\n",
    "# ENERO['Ano']='2021'\n",
    "FEBRERO['Ano']='2021'\n",
    "MARZO['Ano']='2021'\n",
    "ABRIL['Ano']='2021'\n",
    "MAYO['Ano']='2021'\n",
    "JUNIO['Ano']='2021'\n",
    "JULIO['Ano']='2021'\n",
    "AGOSTO['Ano']='2021'\n",
    "SEPTIEMBRE['Ano']='2021'\n",
    "OCTUBRE['Ano']='2021'\n",
    "# NOVIEMBRE['Ano']='2021'\n",
    "# DICIEMBRE['Ano']='2021'"
   ]
  },
  {
   "cell_type": "code",
   "execution_count": 47,
   "metadata": {},
   "outputs": [],
   "source": [
    "# Se concatenan la bases de datos \n",
    "# frames = [ENERO, FEBRERO, MARZO, ABRIL, MAYO, JUNIO, JULIO, AGOSTO, SEPTIEMBRE, OCTUBRE, NOVIEMBRE, DICIEMBRE]\n",
    "frames = [FEBRERO, MARZO, ABRIL, MAYO, JUNIO, JULIO, AGOSTO, SEPTIEMBRE, OCTUBRE]\n",
    "No_UPC = pd.concat(frames, ignore_index=True)"
   ]
  },
  {
   "cell_type": "code",
   "execution_count": 48,
   "metadata": {},
   "outputs": [
    {
     "data": {
      "text/plain": [
       "Index(['Normativa', 'Paquete', 'Régimen', 'Tipo Recobro', 'NIT EPS',\n",
       "       'Nombre EPS que autorizó el giro', 'NIT IPS/Proveedor',\n",
       "       'Nombre IPS/Proveedor', 'Fecha Pago', 'Valor Girado',\n",
       "       'Valor Total a Descontar', 'Oservación', 'Mes', 'Ano', 'TIENE SELLO'],\n",
       "      dtype='object')"
      ]
     },
     "execution_count": 48,
     "metadata": {},
     "output_type": "execute_result"
    }
   ],
   "source": [
    "# Se corrobora que todas las columnas tengan el mismo nombre y se hizo correactamente la pega de las bases de datos\n",
    "No_UPC.columns"
   ]
  },
  {
   "cell_type": "code",
   "execution_count": 49,
   "metadata": {},
   "outputs": [],
   "source": [
    "# Se eliminan las columnas que no son de interés\n",
    "No_UPC = No_UPC.drop(['Normativa', 'Paquete', 'Régimen', 'Tipo Recobro', 'Nombre EPS que autorizó el giro','Nombre IPS/Proveedor', 'Fecha Pago', 'Valor Total a Descontar', 'Oservación', 'TIENE SELLO'], axis=1)"
   ]
  },
  {
   "cell_type": "code",
   "execution_count": 50,
   "metadata": {},
   "outputs": [],
   "source": [
    "# Para renombrar las columnas de interés\n",
    "No_UPC.rename(columns={'NIT IPS/Proveedor': 'Nitproveedor', 'Valor Girado': 'No_UPC', 'NIT EPS': 'NIT_EPS'}, inplace=True)"
   ]
  },
  {
   "cell_type": "code",
   "execution_count": 51,
   "metadata": {},
   "outputs": [],
   "source": [
    "# Para hacer la suma de No_UPC por NIT EPS, NIT proveedor, mes y año\n",
    "No_UPC = No_UPC.groupby(['NIT_EPS','Nitproveedor','Mes', 'Ano']).agg({'No_UPC': 'sum'}).reset_index()"
   ]
  },
  {
   "cell_type": "code",
   "execution_count": 52,
   "metadata": {},
   "outputs": [
    {
     "data": {
      "text/plain": [
       "Index(['NIT_EPS', 'Nitproveedor', 'Mes', 'Ano', 'No_UPC'], dtype='object')"
      ]
     },
     "execution_count": 52,
     "metadata": {},
     "output_type": "execute_result"
    }
   ],
   "source": [
    "# Se corrobora que todas las columnas tengan el mismo nombre y se hizo correactamente la pega de las bases de datos\n",
    "No_UPC.columns"
   ]
  },
  {
   "cell_type": "code",
   "execution_count": 53,
   "metadata": {},
   "outputs": [],
   "source": [
    "# Para guardar la base de datos lista para ser tratada en formato Excel y CSV\n",
    "No_UPC.to_excel(r'C:/Users/Miguel Angel/Documents/Supersalud/Pagos_EPS_Proveedores/Recursos_No_UPC/No_UPC_ENEOCT2021.xlsx', index = False)\n",
    "No_UPC.to_csv(r'C:/Users/Miguel Angel/Documents/Supersalud/Pagos_EPS_Proveedores/Recursos_No_UPC/No_UPC_ENEOCT2021.csv', index = False, encoding='utf-8-sig')"
   ]
  },
  {
   "cell_type": "code",
   "execution_count": 54,
   "metadata": {},
   "outputs": [],
   "source": [
    "# Se elimnan los dataframes auxiliares para liberar espacio\n",
    "del [FEBRERO, MARZO, ABRIL, MAYO, JUNIO, JULIO, AGOSTO, SEPTIEMBRE, OCTUBRE, No_UPC, frames]"
   ]
  },
  {
   "cell_type": "markdown",
   "metadata": {},
   "source": [
    "<p> Aquí se pegan las dos bases de NO UPC para 2020 y 2021</p>"
   ]
  },
  {
   "cell_type": "code",
   "execution_count": 55,
   "metadata": {},
   "outputs": [],
   "source": [
    "# Para concatenar la base de datos de 2021 y 2020\n",
    "No_UPC_2021 = pd.read_excel('C:/Users/Miguel Angel/Documents/Supersalud/Pagos_EPS_Proveedores/Recursos_No_UPC/No_UPC_ENEOCT2021.xlsx', dtype={'NIT_EPS':object, 'Nitproveedor': object, 'Mes':object, 'Ano':object})"
   ]
  },
  {
   "cell_type": "code",
   "execution_count": 56,
   "metadata": {},
   "outputs": [],
   "source": [
    "# Para concatenar la base de datos de 2021 y 2020\n",
    "No_UPC_2020 = pd.read_excel('C:/Users/Miguel Angel/Documents/Supersalud/Pagos_EPS_Proveedores/Recursos_No_UPC/NoUPC_2020_V2.xlsx', dtype={'NIT_EPS':object, 'Nitproveedor': object, 'Mes':object, 'Ano':object})"
   ]
  },
  {
   "cell_type": "code",
   "execution_count": 57,
   "metadata": {},
   "outputs": [],
   "source": [
    "# Se concatenan la bases de datos para encontrar la base de datos final\n",
    "frames = [No_UPC_2021, No_UPC_2020]\n",
    "No_UPC_2020_2021 = pd.concat(frames, ignore_index=True)"
   ]
  },
  {
   "cell_type": "code",
   "execution_count": 58,
   "metadata": {},
   "outputs": [],
   "source": [
    "# Para guardar la base de datos lista para ser tratada en formato Excel y CSV\n",
    "No_UPC_2020_2021.to_excel(r'C:/Users/Miguel Angel/Documents/Supersalud/Pagos_EPS_Proveedores/Recursos_No_UPC/No_UPC_2020_ENEOCT2021_V1.xlsx', index = False)\n",
    "No_UPC_2020_2021.to_csv(r'C:/Users/Miguel Angel/Documents/Supersalud/Pagos_EPS_Proveedores/Recursos_No_UPC/No_UPC_2020_ENEOCT2021_V1.csv', index = False, encoding='utf-8-sig')"
   ]
  },
  {
   "cell_type": "code",
   "execution_count": 59,
   "metadata": {},
   "outputs": [],
   "source": [
    "# Se elimnan los dataframes auxiliares para liberar espacio\n",
    "del [No_UPC_2020, No_UPC_2021, No_UPC_2020_2021, frames]"
   ]
  },
  {
   "cell_type": "markdown",
   "metadata": {},
   "source": [
    "<h2>Web - Giro - No UPC - PagoWeb</h2>\n",
    "<p> En este apartado se crea la base de datos Web - Giro - No UPC - PagoWeb. </p>\n",
    "<p>Nota: se deben actualizar los nombres de las bases de datos a ser utilizadas. </p>"
   ]
  },
  {
   "cell_type": "code",
   "execution_count": 60,
   "metadata": {},
   "outputs": [],
   "source": [
    "#Cargamos los paquetes que vamos a necesitar\n",
    "import pandas as pd\n",
    "import numpy as np\n",
    "import pyreadstat"
   ]
  },
  {
   "cell_type": "code",
   "execution_count": 63,
   "metadata": {},
   "outputs": [],
   "source": [
    "# Para concatenar la base de datos de 2021 y 2020. Primero se hace para NO UPC y Giro Directo \n",
    "No_UPC_2020_2021 = pd.read_excel('C:/Users/Miguel Angel/Documents/Supersalud/Pagos_EPS_Proveedores/Recursos_No_UPC/No_UPC_2020_ENEOCT2021_V1.xlsx', dtype={'NIT_EPS':object, 'Nitproveedor': object, 'Mes':object, 'Ano':object})\n",
    "GiroDirecto_2020_2021 = pd.read_excel('C:/Users/Miguel Angel/Documents/Supersalud/Pagos_EPS_Proveedores/GiroDirecto/GiroDirecto_2020_ENEOCT2021_V1.xlsx', dtype={'NIT_EPS':object, 'Nitproveedor': object, 'Mes':object, 'Ano':object})\n",
    "                                        "
   ]
  },
  {
   "cell_type": "code",
   "execution_count": 64,
   "metadata": {},
   "outputs": [],
   "source": [
    "# Se crea para eliminar los .0 de los Nitproveedor\n",
    "GiroDirecto_2020_2021[['Nitproveedor']] = GiroDirecto_2020_2021[['Nitproveedor']].astype(float).astype(int).astype(str)"
   ]
  },
  {
   "cell_type": "code",
   "execution_count": 65,
   "metadata": {},
   "outputs": [],
   "source": [
    "# Se crea para eliminar los .0 de los Nitproveedor\n",
    "No_UPC_2020_2021[['NIT_EPS']] = No_UPC_2020_2021[['NIT_EPS']].astype(float).astype(int).astype(str)\n",
    "No_UPC_2020_2021[['Nitproveedor']] = No_UPC_2020_2021[['Nitproveedor']].astype(float).astype(int).astype(str)"
   ]
  },
  {
   "cell_type": "code",
   "execution_count": 66,
   "metadata": {},
   "outputs": [],
   "source": [
    "# Se elimnan los espacio en las columnas NIT EPS y NIT proveedor\n",
    "No_UPC_2020_2021['NIT_EPS'] = No_UPC_2020_2021['NIT_EPS'].str.strip()\n",
    "No_UPC_2020_2021['Nitproveedor'] = No_UPC_2020_2021['Nitproveedor'].str.strip()"
   ]
  },
  {
   "cell_type": "code",
   "execution_count": 93,
   "metadata": {},
   "outputs": [],
   "source": [
    "# # Se separa la fecha para facilitar el análisis\n",
    "# GiroDirecto_2020_2021[['Nitproveedor_2','otro']] =  GiroDirecto_2020_2021.Nitproveedor.str.split('.', n=1, expand=True)\n",
    "# # Se separa la fecha para facilitar el análisis\n",
    "# GiroDirecto_2020_2021[['Nitproveedor']] = GiroDirecto_2020_2021[['Nitproveedor_2']]\n",
    "# # Se eliminan las columnas que no son de interés\n",
    "# GiroDirecto_2020_2021 = GiroDirecto_2020_2021.drop(['Nitproveedor_2','otro'], axis=1)"
   ]
  },
  {
   "cell_type": "code",
   "execution_count": 67,
   "metadata": {},
   "outputs": [],
   "source": [
    "# Se unen las dos bases de datos para obtener la información de Giro Directo y No_UPC en una sola base de datos\n",
    "GD_UPC = pd.merge(GiroDirecto_2020_2021, No_UPC_2020_2021, how='outer', left_on=['NIT_EPS', 'Nitproveedor', 'Mes', 'Ano'], right_on=['NIT_EPS', 'Nitproveedor', 'Mes', 'Ano'])"
   ]
  },
  {
   "cell_type": "code",
   "execution_count": 68,
   "metadata": {},
   "outputs": [],
   "source": [
    "# Para concatenar la base de datos de 2021 y 2020\n",
    "CompraCartera2020 = pd.read_stata('C:/Users/Miguel Angel/Documents/Supersalud/Pagos_EPS_Proveedores/compracarteramayo.dta')"
   ]
  },
  {
   "cell_type": "code",
   "execution_count": 69,
   "metadata": {},
   "outputs": [],
   "source": [
    "#Se crea la variable año para la Compra de Cartera\n",
    "CompraCartera2020['Ano']='2020'"
   ]
  },
  {
   "cell_type": "code",
   "execution_count": 70,
   "metadata": {},
   "outputs": [],
   "source": [
    "# Se modifican los nombres de las columnas para posterimente pegar las bases de datos\n",
    "CompraCartera2020.rename(columns={'nit': 'NIT_EPS', 'nitproveedor': 'Nitproveedor', 'mes': 'Mes', 'compra': 'Compra_Cartera'}, inplace=True)"
   ]
  },
  {
   "cell_type": "code",
   "execution_count": 71,
   "metadata": {},
   "outputs": [],
   "source": [
    "# Se transforman las variables para su correcta manipulación\n",
    "CompraCartera2020[['Nitproveedor', 'Mes']] = CompraCartera2020[['Nitproveedor', 'Mes']].astype(str).astype(float).astype(int)"
   ]
  },
  {
   "cell_type": "code",
   "execution_count": 72,
   "metadata": {},
   "outputs": [],
   "source": [
    "#Se transforman las variables a STR para mejorar su manipulación\n",
    "CompraCartera2020[['NIT_EPS', 'Nitproveedor', 'Mes', 'Ano']] = CompraCartera2020[['NIT_EPS', 'Nitproveedor', 'Mes', 'Ano']].astype(str)\n",
    "GD_UPC[['NIT_EPS', 'Nitproveedor', 'Mes', 'Ano']] = GD_UPC[['NIT_EPS', 'Nitproveedor', 'Mes', 'Ano']].astype(str)"
   ]
  },
  {
   "cell_type": "code",
   "execution_count": 73,
   "metadata": {},
   "outputs": [],
   "source": [
    "# Se unen las dos bases de datos para obtener la información de Giro Directo - No_UPC y Compra de Cartera en una sola base de datos\n",
    "GD_UPC_CC = pd.merge(GD_UPC, CompraCartera2020, how='outer', left_on=['NIT_EPS', 'Nitproveedor', 'Mes', 'Ano'], right_on=['NIT_EPS', 'Nitproveedor', 'Mes', 'Ano'])"
   ]
  },
  {
   "cell_type": "code",
   "execution_count": 74,
   "metadata": {},
   "outputs": [],
   "source": [
    "# Se libera espacio de la memoria\n",
    "del [CompraCartera2020, GD_UPC, GiroDirecto_2020_2021, No_UPC_2020_2021]"
   ]
  },
  {
   "cell_type": "markdown",
   "metadata": {},
   "source": [
    "<p>Nuevo apartado para pega de PAGO WEB </p>"
   ]
  },
  {
   "cell_type": "code",
   "execution_count": 75,
   "metadata": {},
   "outputs": [],
   "source": [
    "# Se carga el la base previamente tratada de PAGO WEB desde el archivo .csv\n",
    "PagoWeb = pd.read_csv('C:/Users/Miguel Angel/Documents/Supersalud/Pagos_EPS_Proveedores/PAGOWEB_2020_ENEOCT_2021_AGRUPADO.csv', dtype={'NIT EPS':object, 'NIT PROVEEDOR': object, 'MES': object, 'ANO': object}, encoding='utf-8-sig')"
   ]
  },
  {
   "cell_type": "code",
   "execution_count": 76,
   "metadata": {},
   "outputs": [],
   "source": [
    "# Se modifican los nombres de las columnas para posterimente pegar las bases de datos\n",
    "PagoWeb.rename(columns={'NIT EPS': 'NIT_EPS', 'NIT PROVEEDOR': 'Nitproveedor', 'MES': 'Mes', 'ANO': 'Ano', 'VALOR PAGO': 'PW'}, inplace=True)"
   ]
  },
  {
   "cell_type": "code",
   "execution_count": 77,
   "metadata": {},
   "outputs": [],
   "source": [
    "# Se transforman las variables a STR para mejorar su manipulación\n",
    "PagoWeb[['NIT_EPS']] = PagoWeb[['NIT_EPS']].astype(str)"
   ]
  },
  {
   "cell_type": "markdown",
   "metadata": {},
   "source": [
    "<p>Aquí termina el nuevo apartado para la pega de PAGO WEB </p>"
   ]
  },
  {
   "cell_type": "code",
   "execution_count": 70,
   "metadata": {},
   "outputs": [],
   "source": [
    "# Para concatenar la base de datos de 2021 y 2020\n",
    "# PagoWeb = pd.read_stata('C:/Users/Miguel Angel/Documents/Supersalud/Pagos_EPS_Proveedores/pagoweb.dta')"
   ]
  },
  {
   "cell_type": "code",
   "execution_count": 71,
   "metadata": {},
   "outputs": [],
   "source": [
    "#Se crea la variable año para la Compra de Cartera\n",
    "# PagoWeb['Ano']='2020'"
   ]
  },
  {
   "cell_type": "code",
   "execution_count": 77,
   "metadata": {},
   "outputs": [],
   "source": [
    "# Se modifican los nombres de las columnas para posterimente pegar las bases de datos\n",
    "# PagoWeb.rename(columns={'nit': 'NIT_EPS', 'nitproveedor': 'Nitproveedor', 'mes': 'Mes', 'pw': 'PW'}, inplace=True)"
   ]
  },
  {
   "cell_type": "code",
   "execution_count": 73,
   "metadata": {},
   "outputs": [],
   "source": [
    "# Se transforman las variables a STR para mejorar su manipulación\n",
    "# PagoWeb[['NIT_EPS']] = PagoWeb[['NIT_EPS']].astype(str)"
   ]
  },
  {
   "cell_type": "code",
   "execution_count": 74,
   "metadata": {},
   "outputs": [],
   "source": [
    "# # Se separa el NIT EPS para facilitar el análisis. Su buscar eliminar los puntos en el NIT EPS\n",
    "# PagoWeb[['NIT_EPS_2','otro']] =  PagoWeb.NIT_EPS.str.split('.', n=1, expand=True)\n",
    "# PagoWeb[['NIT_EPS']] = PagoWeb[['NIT_EPS_2']]\n",
    "# # Se eliminan las columnas que no son de interés\n",
    "# PagoWeb = PagoWeb.drop(['NIT_EPS_2','otro'], axis=1)"
   ]
  },
  {
   "cell_type": "code",
   "execution_count": 75,
   "metadata": {},
   "outputs": [],
   "source": [
    "# Se transforman las variables a STR para mejorar su manipulación\n",
    "# PagoWeb[['NIT_EPS', 'Nitproveedor', 'Mes', 'Ano']] = PagoWeb[['NIT_EPS', 'Nitproveedor', 'Mes', 'Ano']].astype(str)\n",
    "# GD_UPC_CC[['NIT_EPS', 'Nitproveedor', 'Mes', 'Ano']] = GD_UPC_CC[['NIT_EPS', 'Nitproveedor', 'Mes', 'Ano']].astype(str)"
   ]
  },
  {
   "cell_type": "code",
   "execution_count": 76,
   "metadata": {},
   "outputs": [],
   "source": [
    "# # Para eliminar todos los espacios \n",
    "# PagoWeb['NIT_EPS'] = PagoWeb['NIT_EPS'].str.replace(\" \", \"\")\n",
    "# PagoWeb['Nitproveedor'] = PagoWeb['Nitproveedor'].str.replace(\" \", \"\")\n",
    "\n",
    "# GD_UPC_CC['NIT_EPS'] = GD_UPC_CC['NIT_EPS'].str.replace(\" \", \"\")\n",
    "# GD_UPC_CC['Nitproveedor'] = GD_UPC_CC['Nitproveedor'].str.replace(\" \", \"\")"
   ]
  },
  {
   "cell_type": "code",
   "execution_count": 78,
   "metadata": {},
   "outputs": [],
   "source": [
    "# Se agrupa la información de GD_UPC_CC antes de hacer el merge\n",
    "GD_UPC_CC = GD_UPC_CC.groupby(['NIT_EPS', 'Nitproveedor', 'Mes', 'Ano']).agg({'Giro':'sum', 'No_UPC':'sum', 'Compra_Cartera':'sum'}).reset_index()"
   ]
  },
  {
   "cell_type": "code",
   "execution_count": 79,
   "metadata": {},
   "outputs": [],
   "source": [
    "# Se unen las dos bases de datos para obtener la información de Giro Directo - No_UPC y Compra de Cartera en una sola base de datos\n",
    "GD_UPC_CC_PW = pd.merge(GD_UPC_CC, PagoWeb, how='outer', left_on=['NIT_EPS', 'Nitproveedor', 'Mes', 'Ano'], right_on=['NIT_EPS', 'Nitproveedor', 'Mes', 'Ano'])"
   ]
  },
  {
   "cell_type": "code",
   "execution_count": 80,
   "metadata": {},
   "outputs": [],
   "source": [
    "# Se transforman las variables a STR para mejorar su manipulación\n",
    "GD_UPC_CC_PW = GD_UPC_CC_PW.groupby(['NIT_EPS', 'Nitproveedor', 'Mes', 'Ano']).agg({'Giro':'sum', 'No_UPC':'sum', 'Compra_Cartera':'sum', 'PW':'sum'}).reset_index()"
   ]
  },
  {
   "cell_type": "code",
   "execution_count": 81,
   "metadata": {},
   "outputs": [],
   "source": [
    "# Se comprueba que las agregaciones de las variables sean las correctas por EPS\n",
    "EPS = GD_UPC_CC_PW.groupby(['NIT_EPS', 'Mes', 'Ano']).agg({'Giro':'sum', 'No_UPC':'sum', 'Compra_Cartera':'sum', 'PW':'sum'}).reset_index()"
   ]
  },
  {
   "cell_type": "code",
   "execution_count": 82,
   "metadata": {},
   "outputs": [],
   "source": [
    "# Se transforman las variables a STR para mejorar su manipulación\n",
    "GD_UPC_CC[['NIT_EPS', 'Nitproveedor', 'Mes', 'Ano']] = GD_UPC_CC[['NIT_EPS', 'Nitproveedor', 'Mes', 'Ano']].astype(str)"
   ]
  },
  {
   "cell_type": "code",
   "execution_count": 83,
   "metadata": {},
   "outputs": [],
   "source": [
    "# Para guardar la base de datos lista para ser tratada en formato Excel y CSV\n",
    "GD_UPC_CC_PW.to_excel(r'C:/Users/Miguel Angel/Documents/Supersalud/Pagos_EPS_Proveedores/GD_UPC_CC_PW_2020_ENEOCT2021_V1.xlsx', index = False)\n",
    "GD_UPC_CC_PW.to_csv(r'C:/Users/Miguel Angel/Documents/Supersalud/Pagos_EPS_Proveedores/GD_UPC_CC_PW_2020_ENEOCT2021_V1.csv', index = False, encoding='utf-8-sig')"
   ]
  },
  {
   "cell_type": "code",
   "execution_count": 84,
   "metadata": {},
   "outputs": [],
   "source": [
    "# Se eliminan las bases de datos utilizadas para liberar memoria\n",
    "del [GD_UPC_CC, GD_UPC_CC_PW, PagoWeb, EPS]"
   ]
  }
 ],
 "metadata": {
  "interpreter": {
   "hash": "b3ba2566441a7c06988d0923437866b63cedc61552a5af99d1f4fb67d367b25f"
  },
  "kernelspec": {
   "display_name": "Python 3.8.5 64-bit ('base': conda)",
   "name": "python3"
  },
  "language_info": {
   "codemirror_mode": {
    "name": "ipython",
    "version": 3
   },
   "file_extension": ".py",
   "mimetype": "text/x-python",
   "name": "python",
   "nbconvert_exporter": "python",
   "pygments_lexer": "ipython3",
   "version": "3.8.5"
  }
 },
 "nbformat": 4,
 "nbformat_minor": 4
}
