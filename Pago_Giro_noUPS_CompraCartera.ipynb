{
 "cells": [
  {
   "cell_type": "code",
   "execution_count": null,
   "metadata": {},
   "outputs": [],
   "source": [
    "#Cargamos los paquetes que vamos a necesitar\n",
    "import pandas as pd\n",
    "import numpy as np\n",
    "import pyreadstat"
   ]
  },
  {
   "cell_type": "markdown",
   "metadata": {},
   "source": [
    "<h1>Pagos</h1>"
   ]
  },
  {
   "cell_type": "markdown",
   "metadata": {},
   "source": [
    "<h2>Giros Directos - Regimen Subsidiado </h2>\r\n",
    "<p> En este apartado se trata la base de datos Giros Directos - Regimen Subsidiado </p>"
   ]
  },
  {
   "cell_type": "code",
   "execution_count": null,
   "metadata": {},
   "outputs": [],
   "source": [
    "# Para leer los datos descargados desde La Lupa ADRES aparatado Giro Directo - Regimen Subsidiado\n",
    "ENERO = pd.read_excel('C:/Users/Miguel Angel/Documents/Supersalud/Pagos_EPS_Proveedores/GiroDirecto/2021/Subsidiado/ENERO.xlsx', sheet_name='GIRO DIRECTO', header=7)\n",
    "FEBRERO = pd.read_excel('C:/Users/Miguel Angel/Documents/Supersalud/Pagos_EPS_Proveedores/GiroDirecto/2021/Subsidiado/FEBRERO.xlsx', sheet_name='GIRO DIRECTO', header=7)\n",
    "MARZO = pd.read_excel('C:/Users/Miguel Angel/Documents/Supersalud/Pagos_EPS_Proveedores/GiroDirecto/2021/Subsidiado/MARZO.xlsx', sheet_name='GIRO DIRECTO', header=7)\n",
    "ABRIL = pd.read_excel('C:/Users/Miguel Angel/Documents/Supersalud/Pagos_EPS_Proveedores/GiroDirecto/2021/Subsidiado/ABRIL.xlsx', sheet_name='GIRO DIRECTO', header=7)\n",
    "# MAYO = pd.read_excel('C:/Users/Miguel Angel/Documents/Supersalud/Pagos_EPS_Proveedores/GiroDirecto/2020/Subsidiado/MAYO.xlsx', sheet_name='GIRO DIRECTO', header=7)\n",
    "# JUNIO = pd.read_excel('C:/Users/Miguel Angel/Documents/Supersalud/Pagos_EPS_Proveedores/GiroDirecto/2020/Subsidiado/JUNIO.xlsx', sheet_name='GIRO DIRECTO', header=7)\n",
    "# JULIO = pd.read_excel('C:/Users/Miguel Angel/Documents/Supersalud/Pagos_EPS_Proveedores/GiroDirecto/2020/Subsidiado/JULIO.xlsx', sheet_name='GIRO DIRECTO', header=7)\n",
    "# AGOSTO = pd.read_excel('C:/Users/Miguel Angel/Documents/Supersalud/Pagos_EPS_Proveedores/GiroDirecto/2020/Subsidiado/AGOSTO.xlsx', sheet_name='GIRO DIRECTO', header=7)\n",
    "# SEPTIEMBRE = pd.read_excel('C:/Users/Miguel Angel/Documents/Supersalud/Pagos_EPS_Proveedores/GiroDirecto/2020/Subsidiado/SEPTIEMBRE.xlsx', sheet_name='GIRO DIRECTO', header=7)\n",
    "# OCTUBRE = pd.read_excel('C:/Users/Miguel Angel/Documents/Supersalud/Pagos_EPS_Proveedores/GiroDirecto/2020/Subsidiado/OCTUBRE.xlsx', sheet_name='GIRO DIRECTO', header=7)\n",
    "# NOVIEMBRE = pd.read_excel('C:/Users/Miguel Angel/Documents/Supersalud/Pagos_EPS_Proveedores/GiroDirecto/2020/Subsidiado/NOVIEMBRE.xlsx', sheet_name='GIRO DIRECTO', header=7)\n",
    "# DICIEMBRE = pd.read_excel('C:/Users/Miguel Angel/Documents/Supersalud/Pagos_EPS_Proveedores/GiroDirecto/2020/Subsidiado/DICIEMBRE.xlsx', sheet_name='GIRO DIRECTO', header=7)"
   ]
  },
  {
   "cell_type": "code",
   "execution_count": null,
   "metadata": {},
   "outputs": [],
   "source": [
    "print(MARZO.columns)"
   ]
  },
  {
   "cell_type": "code",
   "execution_count": null,
   "metadata": {},
   "outputs": [],
   "source": [
    "# Para homogenizar los nombres de las columnas y facilitar la pega posteriormente\n",
    "ENERO.rename(columns={'Valor Autorizado \\npor la EPS ($)': 'Valor Autorizado por EPS', 'Código_EPS': 'Código EPS', 'Valor Girado a IPS': 'Valor Girado IPS', 'Observación': 'observación'}, inplace=True)\n",
    "FEBRERO.rename(columns={'Valor Autorizado \\npor la EPS ($)': 'Valor Autorizado por EPS', 'Código_EPS': 'Código EPS', 'Valor Girado a IPS': 'Valor Girado IPS', 'Observación': 'observación'}, inplace=True)\n",
    "MARZO.rename(columns={'Valor Autorizado \\npor la EPS ($)': 'Valor Autorizado por EPS', 'Código_EPS': 'Código EPS', 'Valor Girado a IPS': 'Valor Girado IPS', 'Observación': 'observación'}, inplace=True)\n",
    "ABRIL.rename(columns={'Valor Autorizado \\npor la EPS ($)': 'Valor Autorizado por EPS', 'Código_EPS': 'Código EPS', 'Valor Girado a IPS': 'Valor Girado IPS', 'Observación': 'observación'}, inplace=True)\n",
    "# MAYO.rename(columns={'Valor Autorizado \\npor la EPS ($)': 'Valor Autorizado por EPS', 'Código_EPS': 'Código EPS', 'Valor Girado a IPS': 'Valor Girado IPS', 'Observación': 'observación'}, inplace=True)\n",
    "# JUNIO.rename(columns={'Valor Autorizado \\npor la EPS ($)': 'Valor Autorizado por EPS', 'Código_EPS': 'Código EPS', 'Valor Girado a IPS': 'Valor Girado IPS', 'Observación': 'observación'}, inplace=True)\n",
    "\n",
    "# JULIO.rename(columns={'Valor Autorizado \\npor la EPS ($)': 'Valor Autorizado por EPS', 'Código_EPS': 'Código EPS', 'Valor Girado a IPS': 'Valor Girado IPS', 'Observación': 'observación', 'Fecha proceso': 'Fecha proceso Giro Directo'}, inplace=True)\n",
    "# AGOSTO.rename(columns={'Valor Autorizado \\npor la EPS ($)': 'Valor Autorizado por EPS', 'Código_EPS': 'Código EPS', 'Valor Girado a IPS': 'Valor Girado IPS', 'Observación': 'observación', 'Fecha proceso': 'Fecha proceso Giro Directo'}, inplace=True)\n",
    "# SEPTIEMBRE.rename(columns={'Valor Autorizado \\npor la EPS ($)': 'Valor Autorizado por EPS', 'Código_EPS': 'Código EPS', 'Valor Girado a IPS': 'Valor Girado IPS', 'Observación': 'observación', 'Fecha proceso': 'Fecha proceso Giro Directo'}, inplace=True)\n",
    "# OCTUBRE.rename(columns={'Valor Autorizado \\npor la EPS ($)': 'Valor Autorizado por EPS', 'Código_EPS': 'Código EPS', 'Valor Girado a IPS': 'Valor Girado IPS', 'Observación': 'observación', 'Fecha proceso': 'Fecha proceso Giro Directo'}, inplace=True)\n",
    "# NOVIEMBRE.rename(columns={'Valor Autorizado \\npor la EPS ($)': 'Valor Autorizado por EPS', 'Código_EPS': 'Código EPS', 'Valor Girado a IPS': 'Valor Girado IPS', 'Observación': 'observación', 'Fecha proceso': 'Fecha proceso Giro Directo'}, inplace=True)\n",
    "# DICIEMBRE.rename(columns={'Valor Autorizado \\npor la EPS ($)': 'Valor Autorizado por EPS', 'Código_EPS': 'Código EPS', 'Valor Girado a IPS': 'Valor Girado IPS', 'Observación': 'observación', 'Fecha proceso': 'Fecha proceso Giro Directo', 'NIT': 'NIT IPS', 'Razón Social': 'Nombre IPS'}, inplace=True)"
   ]
  },
  {
   "cell_type": "code",
   "execution_count": null,
   "metadata": {},
   "outputs": [],
   "source": [
    "# Para agregar la columna de mes y corroborar posteriormente al concatenar las bases\n",
    "ENERO['Mes']='1'\n",
    "FEBRERO['Mes']='2'\n",
    "MARZO['Mes']='3'\n",
    "ABRIL['Mes']='4'\n",
    "# MAYO['Mes']='5'\n",
    "# JUNIO['Mes']='6'\n",
    "# JULIO['Mes']='7'\n",
    "# AGOSTO['Mes']='8'\n",
    "# SEPTIEMBRE['Mes']='9'\n",
    "# OCTUBRE['Mes']='10'\n",
    "# NOVIEMBRE['Mes']='11'\n",
    "# DICIEMBRE['Mes']='12'"
   ]
  },
  {
   "cell_type": "code",
   "execution_count": null,
   "metadata": {},
   "outputs": [],
   "source": [
    "# Para agregar la columna de año y corroborar posteriormente al concatenar las bases\n",
    "ENERO['Ano']='2021'\n",
    "FEBRERO['Ano']='2021'\n",
    "MARZO['Ano']='2021'\n",
    "ABRIL['Ano']='2021'\n",
    "# MAYO['Ano']='2021'\n",
    "# JUNIO['Ano']='2021'\n",
    "# JULIO['Ano']='2021'\n",
    "# AGOSTO['Ano']='2021'\n",
    "# SEPTIEMBRE['Ano']='2021'\n",
    "# OCTUBRE['Ano']='2021'\n",
    "# NOVIEMBRE['Ano']='2021'\n",
    "# DICIEMBRE['Ano']='2021'"
   ]
  },
  {
   "cell_type": "code",
   "execution_count": null,
   "metadata": {},
   "outputs": [],
   "source": [
    "# Para agregar la columna de tipo de regimen y corroborar posteriormente al concatenar las bases\n",
    "ENERO['Regimen']='Subsidiado'\n",
    "FEBRERO['Regimen']='Subsidiado'\n",
    "MARZO['Regimen']='Subsidiado'\n",
    "ABRIL['Regimen']='Subsidiado'\n",
    "# MAYO['Regimen']='Subsidiado'\n",
    "# JUNIO['Regimen']='Subsidiado'\n",
    "# JULIO['Regimen']='Subsidiado'\n",
    "# AGOSTO['Regimen']='Subsidiado'\n",
    "# SEPTIEMBRE['Regimen']='Subsidiado'\n",
    "# OCTUBRE['Regimen']='Subsidiado'\n",
    "# NOVIEMBRE['Regimen']='Subsidiado'\n",
    "# DICIEMBRE['Regimen']='Subsidiado'"
   ]
  },
  {
   "cell_type": "code",
   "execution_count": null,
   "metadata": {},
   "outputs": [],
   "source": [
    "# Se concatenan la bases de datos \n",
    "# frames = [ENERO, FEBRERO, MARZO, ABRIL, MAYO, JUNIO, JULIO, AGOSTO, SEPTIEMBRE, OCTUBRE, NOVIEMBRE, DICIEMBRE]\n",
    "frames = [ENERO, FEBRERO, MARZO, ABRIL]\n",
    "GiroDirecto_Subsidiado = pd.concat(frames, ignore_index=True)"
   ]
  },
  {
   "cell_type": "code",
   "execution_count": null,
   "metadata": {},
   "outputs": [],
   "source": [
    "<h2>Giros Directos - Regimen Contributivo </h2>\n",
    "<p> En este apartado se trata la base de datos Giros Directos - Regimen Contributivo </p>"
   ]
  },
  {
   "cell_type": "code",
   "execution_count": null,
   "metadata": {},
   "outputs": [],
   "source": [
    "# Para leer los datos descargados desde La Lupa ADRES aparatado Giro Directo - Regimen Contributivo\n",
    "ENERO = pd.read_excel('C:/Users/Miguel Angel/Documents/Supersalud/Pagos_EPS_Proveedores/GiroDirecto/2021/Contributivo/ENERO.xlsx', sheet_name='GIRO DIRECTO', header=5)\n",
    "FEBRERO = pd.read_excel('C:/Users/Miguel Angel/Documents/Supersalud/Pagos_EPS_Proveedores/GiroDirecto/2021/Contributivo/FEBRERO.xlsx', sheet_name='GIRO DIRECTO', header=8)\n",
    "MARZO = pd.read_excel('C:/Users/Miguel Angel/Documents/Supersalud/Pagos_EPS_Proveedores/GiroDirecto/2021/Contributivo/MARZO.xlsx', sheet_name='GIRO DIRECTO', header=8)\n",
    "ABRIL = pd.read_excel('C:/Users/Miguel Angel/Documents/Supersalud/Pagos_EPS_Proveedores/GiroDirecto/2021/Contributivo/ABRIL.xlsx', sheet_name='GIRO DIRECTO', header=8)\n",
    "# MAYO = pd.read_excel('C:/Users/Miguel Angel/Documents/Supersalud/Pagos_EPS_Proveedores/GiroDirecto/2020/Contributivo/MAYO.xlsx', sheet_name='GIRO DIRECTO', header=9)\n",
    "# JUNIO = pd.read_excel('C:/Users/Miguel Angel/Documents/Supersalud/Pagos_EPS_Proveedores/GiroDirecto/2020/Contributivo/JUNIO.xlsx', sheet_name='GIRO DIRECTO', header=9)\n",
    "# JULIO = pd.read_excel('C:/Users/Miguel Angel/Documents/Supersalud/Pagos_EPS_Proveedores/GiroDirecto/2020/Contributivo/JULIO.xlsx', sheet_name='GIRO DIRECTO', header=8)\n",
    "# AGOSTO = pd.read_excel('C:/Users/Miguel Angel/Documents/Supersalud/Pagos_EPS_Proveedores/GiroDirecto/2020/Contributivo/AGOSTO.xlsx', sheet_name='GIRO DIRECTO', header=8)\n",
    "# SEPTIEMBRE = pd.read_excel('C:/Users/Miguel Angel/Documents/Supersalud/Pagos_EPS_Proveedores/GiroDirecto/2020/Contributivo/SEPTIEMBRE.xlsx', sheet_name='GIRO DIRECTO', header=8)\n",
    "# OCTUBRE = pd.read_excel('C:/Users/Miguel Angel/Documents/Supersalud/Pagos_EPS_Proveedores/GiroDirecto/2020/Contributivo/OCTUBRE.xlsx', sheet_name='GIRO DIRECTO', header=8)\n",
    "# NOVIEMBRE = pd.read_excel('C:/Users/Miguel Angel/Documents/Supersalud/Pagos_EPS_Proveedores/GiroDirecto/2020/Contributivo/NOVIEMBRE.xlsx', sheet_name='GIRO DIRECTO', header=8)\n",
    "# DICIEMBRE = pd.read_excel('C:/Users/Miguel Angel/Documents/Supersalud/Pagos_EPS_Proveedores/GiroDirecto/2020/Contributivo/DICIEMBRE.xlsx', sheet_name='GIRO DIRECTO', header=8)"
   ]
  },
  {
   "cell_type": "code",
   "execution_count": null,
   "metadata": {},
   "outputs": [],
   "source": [
    "# Para homogenizar los nombres de las columnas y facilitar la pega posteriormente\n",
    "ENERO.rename(columns={'Código_EPS': 'Código EPS'}, inplace=True)\n",
    "FEBRERO.rename(columns={'Código_EPS': 'Código EPS'}, inplace=True)\n",
    "MARZO.rename(columns={'Código_EPS': 'Código EPS'}, inplace=True)\n",
    "ABRIL.rename(columns={'Código_EPS': 'Código EPS'}, inplace=True)\n",
    "# MAYO.rename(columns={'Código_EPS': 'Código EPS'}, inplace=True)"
   ]
  },
  {
   "cell_type": "code",
   "execution_count": null,
   "metadata": {},
   "outputs": [],
   "source": [
    "# Para agregar la columna de mes y corroborar posteriormente al concatenar las bases\n",
    "ENERO['Mes']='1'\n",
    "FEBRERO['Mes']='2'\n",
    "MARZO['Mes']='3'\n",
    "ABRIL['Mes']='4'\n",
    "# MAYO['Mes']='5'\n",
    "# JUNIO['Mes']='6'\n",
    "# JULIO['Mes']='7'\n",
    "# AGOSTO['Mes']='8'\n",
    "# SEPTIEMBRE['Mes']='9'\n",
    "# OCTUBRE['Mes']='10'\n",
    "# NOVIEMBRE['Mes']='11'\n",
    "# DICIEMBRE['Mes']='12'"
   ]
  },
  {
   "cell_type": "code",
   "execution_count": null,
   "metadata": {},
   "outputs": [],
   "source": [
    "# Para agregar la columna de año y corroborar posteriormente al concatenar las bases\n",
    "ENERO['Ano']='2021'\n",
    "FEBRERO['Ano']='2021'\n",
    "MARZO['Ano']='2021'\n",
    "ABRIL['Ano']='2021'\n",
    "# MAYO['Ano']='2020'\n",
    "# JUNIO['Ano']='2020'\n",
    "# JULIO['Ano']='2020'\n",
    "# AGOSTO['Ano']='2020'\n",
    "# SEPTIEMBRE['Ano']='2020'\n",
    "# OCTUBRE['Ano']='2020'\n",
    "# NOVIEMBRE['Ano']='2020'\n",
    "# DICIEMBRE['Ano']='2020'"
   ]
  },
  {
   "cell_type": "code",
   "execution_count": null,
   "metadata": {},
   "outputs": [],
   "source": [
    "# Para agregar la columna de tipo de regimen y corroborar posteriormente al concatenar las bases\n",
    "ENERO['Regimen']='Contributivo'\n",
    "FEBRERO['Regimen']='Contributivo'\n",
    "MARZO['Regimen']='Contributivo'\n",
    "ABRIL['Regimen']='Contributivo'\n",
    "# MAYO['Regimen']='Contributivo'\n",
    "# JUNIO['Regimen']='Contributivo'\n",
    "# JULIO['Regimen']='Contributivo'\n",
    "# AGOSTO['Regimen']='Contributivo'\n",
    "# SEPTIEMBRE['Regimen']='Contributivo'\n",
    "# OCTUBRE['Regimen']='Contributivo'\n",
    "# NOVIEMBRE['Regimen']='Contributivo'\n",
    "# DICIEMBRE['Regimen']='Contributivo'"
   ]
  },
  {
   "cell_type": "code",
   "execution_count": null,
   "metadata": {},
   "outputs": [],
   "source": [
    "ENERO.columns"
   ]
  },
  {
   "cell_type": "code",
   "execution_count": null,
   "metadata": {},
   "outputs": [],
   "source": [
    "ABRIL.columns"
   ]
  },
  {
   "cell_type": "code",
   "execution_count": null,
   "metadata": {},
   "outputs": [],
   "source": [
    "# Se concatenan la bases de datos \n",
    "# frames = [ENERO, FEBRERO, MARZO, ABRIL, MAYO, JUNIO, JULIO, AGOSTO, SEPTIEMBRE, OCTUBRE, NOVIEMBRE, DICIEMBRE]\n",
    "frames = [ENERO, FEBRERO, MARZO, ABRIL]\n",
    "GiroDirecto_Contributivo = pd.concat(frames, ignore_index=True)"
   ]
  },
  {
   "cell_type": "code",
   "execution_count": null,
   "metadata": {},
   "outputs": [],
   "source": [
    "# Se eliminan las columnas que no son de interés para GiroDirecto_Contributivo\n",
    "GiroDirecto_Contributivo = GiroDirecto_Contributivo.drop(['Unnamed: 0', 'PROCESO'], axis=1)"
   ]
  },
  {
   "cell_type": "code",
   "execution_count": null,
   "metadata": {},
   "outputs": [],
   "source": [
    "print(GiroDirecto_Contributivo.columns)"
   ]
  },
  {
   "cell_type": "code",
   "execution_count": null,
   "metadata": {},
   "outputs": [],
   "source": [
    "print(GiroDirecto_Subsidiado.columns)"
   ]
  },
  {
   "cell_type": "code",
   "execution_count": null,
   "metadata": {},
   "outputs": [],
   "source": [
    "# Para renombrar las columnas de interés GiroDirecto_Subsidiado\n",
    "GiroDirecto_Subsidiado.rename(columns={'NIT': 'NIT IPS', 'Razón Social': 'Nombre IPS', 'Fecha proceso': 'Fecha proceso Giro Directo'}, inplace=True)"
   ]
  },
  {
   "cell_type": "code",
   "execution_count": null,
   "metadata": {},
   "outputs": [],
   "source": [
    "# Se concatenan la bases de datos para encontrar la base de datos final\n",
    "frames = [GiroDirecto_Contributivo, GiroDirecto_Subsidiado]\n",
    "GiroDirecto = pd.concat(frames, ignore_index=True)"
   ]
  },
  {
   "cell_type": "code",
   "execution_count": null,
   "metadata": {},
   "outputs": [],
   "source": [
    "# Para renombrar las columnas de interés\n",
    "GiroDirecto.rename(columns={'Código EPS': 'Codigo_EPS', 'Nombre EPS': 'Nombre_EPS', 'NIT IPS': 'Nitproveedor', 'Nombre IPS': 'Nombre_IPS', 'Valor Autorizado por la EPS ($)': 'Autorizado', 'Valor Girado IPS': 'Giro', 'Fecha Giro': 'Fecha_Giro'}, inplace=True)"
   ]
  },
  {
   "cell_type": "code",
   "execution_count": null,
   "metadata": {},
   "outputs": [],
   "source": [
    "# Se elimina la fila Total de cada base de datos, la cual corresponde al total para cada tipo de Giro en cada mes \n",
    "# GiroDirecto = GiroDirecto.loc[GiroDirecto[\"Codigo_EPS\"] != \"TOTAL\"] --- OJO: utilizar cuando se quiere eliminar solo una observación\n",
    "GiroDirecto = GiroDirecto.dropna(subset=['Nombre_EPS'])"
   ]
  },
  {
   "cell_type": "code",
   "execution_count": null,
   "metadata": {},
   "outputs": [],
   "source": [
    "# Se eliminan las columnas que no son de interés\n",
    "GiroDirecto = GiroDirecto.drop(['observación', 'Fecha proceso Giro Directo', 'Fecha_Giro'], axis=1)"
   ]
  },
  {
   "cell_type": "code",
   "execution_count": null,
   "metadata": {},
   "outputs": [],
   "source": [
    "# Código EPS a NIT\n",
    "# Esta información está actualizada desde la fuente https://supersalud.sharepoint.com/OMSAR/Lists/Cdigos%20Entidades%20OMSAR/AllItems.aspx\n",
    "\n",
    "dict_EPS = {\n",
    "    'Codigo_EPS': ['EPS001',\t'EPS012',\t'EPS008',\t'EPS016',\t'EPS023',\t'EPS017',\t'EPS002',\t'EPS005',\t'EPS018',\t'EPS010',\t'EPS046',\t'EPS044',\t'EPS037',\t'EPS033',\t'ESS024',\t'ESS062',\t'ESS091',\t'ESS118',\t'EPSS45',\t'EPSS41',\t'EPSS33',\t'ESS076',\t'EPSI04',\t'EPSI03',\t'ESS207',\t'CCF055',\t'EPSS34',\t'EPS025',\t'CCF102',\t'CCF015',\t'CCF053',\t'CCF007',\t'CCF023',\t'EPS024',\t'CCF027',\t'CCF050',\t'CCF033',\t'ESS133',\t'EPS022',\t'EPSI01',\t'ESS002',\t'EPSI05',\t'EPSI06',\t'ESSC24',\t'ESSC62',\t'ESSC91',\t'ESSC18',\t'EPS045',\t'EPS041',\t'ESSC76',\t'EPSIC4',\t'EPSIC3',\t'ESSC07',\t'CCFC55',\t'EPSC34',\t'EPSC25',\t'CCFC20',\t'CCFC15',\t'CCFC53',\t'CCFC07',\t'CCFC23',\t'CCFC24',\t'CCFC27',\t'CCFC50',\t'CCFC33',\t'EPSC22',\t'EPSIC1',\t'ESSC02',\t'EPSIC5',\t'EPSIC6',\t'EPS040',\t'EPSS01',\t'EPSS12',\t'EPSS08',\t'EPSS16',\t'EPSS23',\t'EPSS17',\t'EPSS02',\t'EPSS05',\t'EPSS18',\t'EPSS10',\t'EPSS46',\t'EPSS44',\t'EPSS37',\t'CCF024',\t'EPS042',\t'EPSS42',\t'EPSS48',\t'EPSS40',\t'ESSC33',\n",
    "],\n",
    "\n",
    "        'NIT_EPS': ['830113831',\t'890303093',\t'860066942',\t'805000427',\t'830009783',\t'830003564',\t'800130907',\t'800251440',\t'805001157',\t'800088702',\t'900914254',\t'901097473',\t'900156264',\t'830074184',\t'900226715',\t'900935126',\t'901093846',\t'901021565',\t'901097473',\t'900156264',\t'830074184',\t'818000140',\t'839000495',\t'817001773',\t'806008394',\t'890102044',\t'900298372',\t'891856000',\t'891600091',\t'891080005',\t'860045904',\t'890480110',\t'892115006',\t'891180008',\t'891280008',\t'890500675',\t'892200015',\t'804002105',\t'899999107',\t'824001398',\t'811004055',\t'837000084',\t'809008362',\t'900226715',\t'900935126',\t'901093846',\t'901021565',\t'901097473',\t'900156264',\t'818000140',\t'839000495',\t'817001773',\t'806008394',\t'890102044',\t'900298372',\t'891856000',\t'891600091',\t'891080005',\t'860045904',\t'890480110',\t'892115006',\t'891180008',\t'891280008',\t'890500675',\t'892200015',\t'899999107',\t'824001398',\t'811004055',\t'837000084',\t'809008362',\t'900604350',\t'830113831',\t'890303093',\t'860066942',\t'805000427',\t'830009783',\t'830003564',\t'800130907',\t'800251440',\t'805001157',\t'800088702',\t'900914254',\t'901097473',\t'900156264',\t'891180008',\t'900226715',\t'900226715',\t'806008394',\t'900604350',\t'804002105',\n",
    "],\n",
    "        }"
   ]
  },
  {
   "cell_type": "code",
   "execution_count": null,
   "metadata": {},
   "outputs": [],
   "source": [
    "# Se crea el dataframe con el diccionario de datos\n",
    "df_EPS = pd.DataFrame(dict_EPS, columns = [\"Codigo_EPS\", \"NIT_EPS\"])"
   ]
  },
  {
   "cell_type": "code",
   "execution_count": null,
   "metadata": {},
   "outputs": [],
   "source": [
    "# Se unen las dos bases de datos para obtener la información de NIT EPS haciendo el llamado por Códgio EPS\n",
    "GiroDirecto.Codigo_EPS = GiroDirecto.Codigo_EPS.astype(str)\n",
    "df_EPS.Codigo_EPS = df_EPS.Codigo_EPS.astype(str)\n",
    "GiroDirecto = pd.merge(GiroDirecto,df_EPS, how='left', on=['Codigo_EPS', 'Codigo_EPS'])"
   ]
  },
  {
   "cell_type": "code",
   "execution_count": null,
   "metadata": {},
   "outputs": [],
   "source": [
    "#Se transforman las variables a STR para mejorar su manipulación\n",
    "GiroDirecto.Nitproveedor = GiroDirecto.Nitproveedor.astype(str)\n",
    "GiroDirecto.Mes = GiroDirecto.Mes.astype(str)"
   ]
  },
  {
   "cell_type": "code",
   "execution_count": null,
   "metadata": {},
   "outputs": [],
   "source": [
    "# Para hacer la suma de Giro por NIT EPS, NIT proveedor y Mes de interés\n",
    "GiroDirecto_2021 = GiroDirecto.groupby(['NIT_EPS','Nitproveedor','Mes','Ano']).agg({'Giro': 'sum'}).reset_index()"
   ]
  },
  {
   "cell_type": "code",
   "execution_count": null,
   "metadata": {},
   "outputs": [],
   "source": [
    "# Para guardar la base de datos lista para ser tratada en formato Excel y CSV\n",
    "GiroDirecto_2021.to_excel(r'GiroDirecto_ENEABR2021_V2.xlsx', index = False)\n",
    "GiroDirecto_2021.to_csv(r'GiroDirecto_ENEABR2021_V2.csv', index = False, encoding='utf-8-sig')"
   ]
  },
  {
   "cell_type": "markdown",
   "metadata": {},
   "source": [
    "<p> Aquí se pegan las dos bases de Giro Directo para 2020 y 2021</p>"
   ]
  },
  {
   "cell_type": "code",
   "execution_count": null,
   "metadata": {},
   "outputs": [],
   "source": [
    "# Para concatenar la base de datos de 2021 y 2020\n",
    "GiroDirecto_2021 = pd.read_excel('C:/Users/Miguel Angel/Documents/Supersalud/Pagos_EPS_Proveedores/GiroDirecto/GiroDirecto_ENEABR2021_V2.xlsx', dtype={'NIT_EPS':object, 'Nitproveedor': object, 'Mes':object, 'Ano':object})"
   ]
  },
  {
   "cell_type": "code",
   "execution_count": null,
   "metadata": {},
   "outputs": [],
   "source": [
    "# Para concatenar la base de datos de 2021 y 2020\n",
    "GiroDirecto_2020 = pd.read_excel('C:/Users/Miguel Angel/Documents/Supersalud/Pagos_EPS_Proveedores/GiroDirecto/GiroDirecto_2020_V2.xlsx', dtype={'NIT_EPS':object, 'Nitproveedor': object, 'Mes':object, 'Ano':object})"
   ]
  },
  {
   "cell_type": "code",
   "execution_count": null,
   "metadata": {},
   "outputs": [],
   "source": [
    "# Se concatenan la bases de datos para encontrar la base de datos final\n",
    "frames = [GiroDirecto_2021, GiroDirecto_2020]\n",
    "GiroDirecto_2020_2021 = pd.concat(frames, ignore_index=True)"
   ]
  },
  {
   "cell_type": "code",
   "execution_count": null,
   "metadata": {},
   "outputs": [],
   "source": [
    "# Para guardar la base de datos lista para ser tratada en formato Excel y CSV\n",
    "GiroDirecto_2020_2021.to_excel(r'C:/Users/Miguel Angel/Documents/Supersalud/Pagos_EPS_Proveedores/GiroDirecto/GiroDirecto_2020_ENEABR2021_V2.xlsx', index = False)\n",
    "GiroDirecto_2020_2021.to_csv(r'C:/Users/Miguel Angel/Documents/Supersalud/Pagos_EPS_Proveedores/GiroDirecto/GiroDirecto_2020_ENEABR2021_V2.csv', index = False, encoding='utf-8-sig')"
   ]
  },
  {
   "cell_type": "markdown",
   "metadata": {},
   "source": [
    "<h2>No UPC</h2>\r\n",
    "<p> En este apartado se trata la base de datos No UPC</p>\r\n",
    "<p>Es necesario aclarar que en el archivo de FEBRERO de 2021 se incluye la información para ENERO  de 2021. También se debe mencionar que para obtener los datos de MARRZO de 2021 se tuvo que concatenar las diferentes hojas correspondientes a pagos a IPS previamente al cargue de información en el .ipynb ya que en este archivo hubo una modificación en el reporte de la información y venía desagregada en hojas por tipo de pagos a IPS.</p>\r\n",
    "<p>Nota: se debe recordar que la información a agregar son los pagos a IPS así que se deben ignorar las hojas referentes a EPS</p"
   ]
  },
  {
   "cell_type": "code",
   "execution_count": null,
   "metadata": {},
   "outputs": [],
   "source": [
    "#Cargamos los paquetes que vamos a necesitar\n",
    "import pandas as pd\n",
    "import numpy as np\n",
    "import pyreadstat"
   ]
  },
  {
   "cell_type": "code",
   "execution_count": null,
   "metadata": {},
   "outputs": [],
   "source": [
    "# Para leer los datos descargados desde La Lupa ADRES aparatado Recuersos no UPC - Regimen Subsidiado\n",
    "# ENERO = pd.read_excel('C:/Users/Miguel Angel/Documents/Supersalud/Pagos_EPS_Proveedores/Recursos_No_UPC/2021/ENERO.xlsx', sheet_name='PP0120 - IPS', header=7)\n",
    "FEBRERO = pd.read_excel('C:/Users/Miguel Angel/Documents/Supersalud/Pagos_EPS_Proveedores/Recursos_No_UPC/2021/FEBRERO.xlsx', sheet_name='PAQUETE SUB_S02_0620-0920 IPS', header=6)\n",
    "MARZO = pd.read_excel('C:/Users/Miguel Angel/Documents/Supersalud/Pagos_EPS_Proveedores/Recursos_No_UPC/2021/MARZO.xlsx', sheet_name='Hoja1')\n",
    "ABRIL = pd.read_excel('C:/Users/Miguel Angel/Documents/Supersalud/Pagos_EPS_Proveedores/Recursos_No_UPC/2021/ABRIL.xlsx', sheet_name='Hoja1')\n",
    "MAYO = pd.read_excel('C:/Users/Miguel Angel/Documents/Supersalud/Pagos_EPS_Proveedores/Recursos_No_UPC/2021/MAYO.xlsx', sheet_name='Hoja1')"
   ]
  },
  {
   "cell_type": "code",
   "execution_count": null,
   "metadata": {},
   "outputs": [],
   "source": [
    "print(FEBRERO.columns)"
   ]
  },
  {
   "cell_type": "code",
   "execution_count": null,
   "metadata": {},
   "outputs": [],
   "source": [
    "print(MARZO.columns)"
   ]
  },
  {
   "cell_type": "code",
   "execution_count": null,
   "metadata": {},
   "outputs": [],
   "source": [
    "# Para homogenizar los nombres de las columnas y facilitar la pega posteriormente\n",
    "# En este caso los nombres de las variables son iguales así que no hay que homogenizar \n",
    "# ENERO.rename(columns={'Valor Autorizado \\npor la EPS ($)': 'Valor Autorizado por EPS', 'Código_EPS': 'Código EPS', 'Valor Girado a IPS': 'Valor Girado IPS', 'Observación': 'observación'}, inplace=True)\n",
    "# FEBRERO.rename(columns={'Valor Autorizado \\npor la EPS ($)': 'Valor Autorizado por EPS', 'Código_EPS': 'Código EPS', 'Valor Girado a IPS': 'Valor Girado IPS', 'Observación': 'observación'}, inplace=True)"
   ]
  },
  {
   "cell_type": "code",
   "execution_count": null,
   "metadata": {},
   "outputs": [],
   "source": [
    "# Para agregar la columna de mes y corroborar posteriormente al concatenar las bases\n",
    "FEBRERO['Mes']='2'\n",
    "MARZO['Mes']='3'\n",
    "ABRIL['Mes']='4'\n",
    "MAYO['Mes']='5'"
   ]
  },
  {
   "cell_type": "code",
   "execution_count": null,
   "metadata": {},
   "outputs": [],
   "source": [
    "# Para agregar la columna de año y corroborar posteriormente al concatenar las bases\n",
    "# ENERO['Ano']='2020'\n",
    "FEBRERO['Ano']='2021'\n",
    "MARZO['Ano']='2021'\n",
    "ABRIL['Ano']='2021'\n",
    "MAYO['Ano']='2021'"
   ]
  },
  {
   "cell_type": "code",
   "execution_count": null,
   "metadata": {},
   "outputs": [],
   "source": [
    "# Se concatenan la bases de datos \n",
    "frames = [FEBRERO, MARZO, ABRIL, MAYO]\n",
    "No_UPC = pd.concat(frames, ignore_index=True)"
   ]
  },
  {
   "cell_type": "code",
   "execution_count": null,
   "metadata": {},
   "outputs": [],
   "source": [
    "print(No_UPC.columns)"
   ]
  },
  {
   "cell_type": "code",
   "execution_count": null,
   "metadata": {},
   "outputs": [],
   "source": [
    "# Se eliminan las columnas que no son de interés para GiroDirecto_Contributivo\n",
    "No_UPC = No_UPC.drop(['Normativa', 'Paquete', 'Régimen', 'Tipo Recobro', 'Nombre EPS que autorizó el giro','Nombre IPS/Proveedor', 'Fecha Pago', 'Valor Total a Descontar', 'Oservación'], axis=1)"
   ]
  },
  {
   "cell_type": "code",
   "execution_count": null,
   "metadata": {},
   "outputs": [],
   "source": [
    "# Para renombrar las columnas de interés\n",
    "No_UPC.rename(columns={'NIT IPS/Proveedor': 'Nitproveedor', 'Valor Girado': 'No_UPC', 'NIT EPS': 'NIT_EPS'}, inplace=True)"
   ]
  },
  {
   "cell_type": "code",
   "execution_count": null,
   "metadata": {},
   "outputs": [],
   "source": [
    "# Para hacer la suma de No_UPC por \n",
    "No_UPC_2021 = No_UPC.groupby(['NIT_EPS','Nitproveedor','Mes', 'Ano']).agg({'No_UPC': 'sum'}).reset_index()"
   ]
  },
  {
   "cell_type": "code",
   "execution_count": null,
   "metadata": {},
   "outputs": [],
   "source": [
    "# Para guardar la base de datos lista para ser tratada en formato Excel y CSV\n",
    "No_UPC_2021.to_excel(r'No_UPC_ENEMAY2021.xlsx', index = False)\n",
    "No_UPC_2021.to_csv(r'No_UPC_ENEMAY2021.csv', index = False, encoding='utf-8-sig')"
   ]
  },
  {
   "cell_type": "markdown",
   "metadata": {},
   "source": [
    "<p> Aquí se pegan las dos bases de NO UPC para 2020 y 2021</p>"
   ]
  },
  {
   "cell_type": "code",
   "execution_count": null,
   "metadata": {},
   "outputs": [],
   "source": [
    "# Para concatenar la base de datos de 2021 y 2020\n",
    "No_UPC_2021 = pd.read_excel('C:/Users/Miguel Angel/Documents/Supersalud/Pagos_EPS_Proveedores/Recursos_No_UPC/No_UPC_ENEMAY2021.xlsx', dtype={'NIT_EPS':object, 'Nitproveedor': object, 'Mes':object, 'Ano':object})"
   ]
  },
  {
   "cell_type": "code",
   "execution_count": null,
   "metadata": {},
   "outputs": [],
   "source": [
    "# Para concatenar la base de datos de 2021 y 2020\n",
    "No_UPC_2020 = pd.read_excel('C:/Users/Miguel Angel/Documents/Supersalud/Pagos_EPS_Proveedores/Recursos_No_UPC/NoUPC_2020_V2.xlsx', dtype={'NIT_EPS':object, 'Nitproveedor': object, 'Mes':object, 'Ano':object})"
   ]
  },
  {
   "cell_type": "code",
   "execution_count": null,
   "metadata": {},
   "outputs": [],
   "source": [
    "# Se concatenan la bases de datos para encontrar la base de datos final\n",
    "frames = [No_UPC_2021, No_UPC_2020]\n",
    "No_UPC_2020_2021 = pd.concat(frames, ignore_index=True)"
   ]
  },
  {
   "cell_type": "code",
   "execution_count": null,
   "metadata": {},
   "outputs": [],
   "source": [
    "# Para guardar la base de datos lista para ser tratada en formato Excel y CSV\n",
    "No_UPC_2020_2021.to_excel(r'C:/Users/Miguel Angel/Documents/Supersalud/Pagos_EPS_Proveedores/Recursos_No_UPC/No_UPC_2020_ENEMAY2021_V2.xlsx', index = False)\n",
    "No_UPC_2020_2021.to_csv(r'C:/Users/Miguel Angel/Documents/Supersalud/Pagos_EPS_Proveedores/Recursos_No_UPC/No_UPC_2020_ENEMAY2021_V2.csv', index = False, encoding='utf-8-sig')"
   ]
  },
  {
   "cell_type": "markdown",
   "metadata": {},
   "source": [
    "<h2>Web - Giro - No UPC - PagoWeb</h2>\r\n",
    "<p> En este apartado se crea la base de datos Web - Giro - No UPC - PagoWeb </p>"
   ]
  },
  {
   "cell_type": "code",
   "execution_count": null,
   "metadata": {},
   "outputs": [],
   "source": [
    "#Cargamos los paquetes que vamos a necesitar\n",
    "import pandas as pd\n",
    "import numpy as np\n",
    "import pyreadstat"
   ]
  },
  {
   "cell_type": "code",
   "execution_count": null,
   "metadata": {},
   "outputs": [],
   "source": [
    "# Para concatenar la base de datos de 2021 y 2020. Primero se hace para NO UPC y Giro Directo\n",
    "No_UPC_2020_2021 = pd.read_excel('C:/Users/Miguel Angel/Documents/Supersalud/Pagos_EPS_Proveedores/Recursos_No_UPC/No_UPC_2020_ENEMAY2021_V2.xlsx', dtype={'NIT_EPS':object, 'Nitproveedor': object, 'Mes':object, 'Ano':object})\n",
    "GiroDirecto_2020_2021 = pd.read_excel('C:/Users/Miguel Angel/Documents/Supersalud/Pagos_EPS_Proveedores/GiroDirecto/GiroDirecto_2020_ENEABR2021_V2.xlsx', dtype={'NIT_EPS':object, 'Nitproveedor': object, 'Mes':object, 'Ano':object})"
   ]
  },
  {
   "cell_type": "code",
   "execution_count": null,
   "metadata": {},
   "outputs": [],
   "source": [
    "# Se crea para eliminar los .0 de los Nitproveedor\n",
    "GiroDirecto_2020_2021[['Nitproveedor']] = GiroDirecto_2020_2021[['Nitproveedor']].astype(float).astype(int).astype(str)"
   ]
  },
  {
   "cell_type": "code",
   "execution_count": null,
   "metadata": {},
   "outputs": [],
   "source": [
    "# Se crea para eliminar los .0 de los Nitproveedor\n",
    "No_UPC_2020_2021[['NIT_EPS']] = No_UPC_2020_2021[['NIT_EPS']].astype(float).astype(int).astype(str)\n",
    "No_UPC_2020_2021[['Nitproveedor']] = No_UPC_2020_2021[['Nitproveedor']].astype(float).astype(int).astype(str)"
   ]
  },
  {
   "cell_type": "code",
   "execution_count": null,
   "metadata": {},
   "outputs": [],
   "source": [
    "No_UPC_2020_2021['NIT_EPS'] = No_UPC_2020_2021['NIT_EPS'].str.replace(\" \", \"\")\n",
    "No_UPC_2020_2021['Nitproveedor'] = No_UPC_2020_2021['Nitproveedor'].str.replace(\" \", \"\")"
   ]
  },
  {
   "cell_type": "code",
   "execution_count": null,
   "metadata": {},
   "outputs": [],
   "source": [
    "# # Se separa la fecha para facilitar el análisis\n",
    "# GiroDirecto_2020_2021[['Nitproveedor_2','otro']] =  GiroDirecto_2020_2021.Nitproveedor.str.split('.', n=1, expand=True)\n",
    "# # Se separa la fecha para facilitar el análisis\n",
    "# GiroDirecto_2020_2021[['Nitproveedor']] = GiroDirecto_2020_2021[['Nitproveedor_2']]\n",
    "# # Se eliminan las columnas que no son de interés\n",
    "# GiroDirecto_2020_2021 = GiroDirecto_2020_2021.drop(['Nitproveedor_2','otro'], axis=1)"
   ]
  },
  {
   "cell_type": "code",
   "execution_count": null,
   "metadata": {},
   "outputs": [],
   "source": [
    "# Se unen las dos bases de datos para obtener la información de Giro Directo y No_UPC en una sola base de datos\n",
    "GD_UPC = pd.merge(GiroDirecto_2020_2021, No_UPC_2020_2021, how='outer', left_on=['NIT_EPS', 'Nitproveedor', 'Mes', 'Ano'], right_on=['NIT_EPS', 'Nitproveedor', 'Mes', 'Ano'])"
   ]
  },
  {
   "cell_type": "code",
   "execution_count": null,
   "metadata": {},
   "outputs": [],
   "source": [
    "# Para concatenar la base de datos de 2021 y 2020\n",
    "CompraCartera2020 = pd.read_stata('C:/Users/Miguel Angel/Documents/Supersalud/Pagos_EPS_Proveedores/compracarteramayo.dta')"
   ]
  },
  {
   "cell_type": "code",
   "execution_count": null,
   "metadata": {},
   "outputs": [],
   "source": [
    "#Se crea la variable año para la Compra de Cartera\n",
    "CompraCartera2020['Ano']='2020'"
   ]
  },
  {
   "cell_type": "code",
   "execution_count": null,
   "metadata": {},
   "outputs": [],
   "source": [
    "# Se modifican los nombres de las columnas para posterimente pegar las bases de datos\n",
    "CompraCartera2020.rename(columns={'nit': 'NIT_EPS', 'nitproveedor': 'Nitproveedor', 'mes': 'Mes', 'compra': 'Compra_Cartera'}, inplace=True)"
   ]
  },
  {
   "cell_type": "code",
   "execution_count": null,
   "metadata": {},
   "outputs": [],
   "source": [
    "CompraCartera2020[['Nitproveedor', 'Mes']] = CompraCartera2020[['Nitproveedor', 'Mes']].astype(str).astype(float).astype(int)"
   ]
  },
  {
   "cell_type": "code",
   "execution_count": null,
   "metadata": {},
   "outputs": [],
   "source": [
    "#Se transforman las variables a STR para mejorar su manipulación\n",
    "CompraCartera2020[['NIT_EPS', 'Nitproveedor', 'Mes', 'Ano']] = CompraCartera2020[['NIT_EPS', 'Nitproveedor', 'Mes', 'Ano']].astype(str)\n",
    "GD_UPC[['NIT_EPS', 'Nitproveedor', 'Mes', 'Ano']] = GD_UPC[['NIT_EPS', 'Nitproveedor', 'Mes', 'Ano']].astype(str)"
   ]
  },
  {
   "cell_type": "code",
   "execution_count": null,
   "metadata": {},
   "outputs": [],
   "source": [
    "# Se unen las dos bases de datos para obtener la información de Giro Directo - No_UPC y Compra de Cartera en una sola base de datos\n",
    "GD_UPC_CC = pd.merge(GD_UPC, CompraCartera2020, how='outer', left_on=['NIT_EPS', 'Nitproveedor', 'Mes', 'Ano'], right_on=['NIT_EPS', 'Nitproveedor', 'Mes', 'Ano'])"
   ]
  },
  {
   "cell_type": "code",
   "execution_count": null,
   "metadata": {},
   "outputs": [],
   "source": [
    "# Para concatenar la base de datos de 2021 y 2020\n",
    "PagoWeb = pd.read_stata('C:/Users/Miguel Angel/Documents/Supersalud/Pagos_EPS_Proveedores/pagoweb.dta')"
   ]
  },
  {
   "cell_type": "code",
   "execution_count": null,
   "metadata": {},
   "outputs": [],
   "source": [
    "#Se crea la variable año para la Compra de Cartera\n",
    "PagoWeb['Ano']='2020'"
   ]
  },
  {
   "cell_type": "code",
   "execution_count": null,
   "metadata": {},
   "outputs": [],
   "source": [
    "# # Se modifican los nombres de las columnas para posterimente pegar las bases de datos\n",
    "PagoWeb.rename(columns={'nit': 'NIT_EPS', 'nitproveedor': 'Nitproveedor', 'mes': 'Mes', 'pw': 'PW'}, inplace=True)"
   ]
  },
  {
   "cell_type": "code",
   "execution_count": null,
   "metadata": {},
   "outputs": [],
   "source": [
    "PagoWeb[['NIT_EPS']] = PagoWeb[['NIT_EPS']].astype(str)"
   ]
  },
  {
   "cell_type": "code",
   "execution_count": null,
   "metadata": {},
   "outputs": [],
   "source": [
    "# Se separa la fecha para facilitar el análisis\n",
    "PagoWeb[['NIT_EPS_2','otro']] =  PagoWeb.NIT_EPS.str.split('.', n=1, expand=True)\n",
    "# Se separa la fecha para facilitar el análisis\n",
    "PagoWeb[['NIT_EPS']] = PagoWeb[['NIT_EPS_2']]\n",
    "# Se eliminan las columnas que no son de interés\n",
    "PagoWeb = PagoWeb.drop(['NIT_EPS_2','otro'], axis=1)"
   ]
  },
  {
   "cell_type": "code",
   "execution_count": null,
   "metadata": {},
   "outputs": [],
   "source": [
    "#Se transforman las variables a STR para mejorar su manipulación\n",
    "PagoWeb[['NIT_EPS', 'Nitproveedor', 'Mes', 'Ano']] = PagoWeb[['NIT_EPS', 'Nitproveedor', 'Mes', 'Ano']].astype(str)\n",
    "GD_UPC_CC[['NIT_EPS', 'Nitproveedor', 'Mes', 'Ano']] = GD_UPC_CC[['NIT_EPS', 'Nitproveedor', 'Mes', 'Ano']].astype(str)"
   ]
  },
  {
   "cell_type": "code",
   "execution_count": null,
   "metadata": {},
   "outputs": [],
   "source": [
    "# Para eliminar todos los espacios \n",
    "PagoWeb['NIT_EPS'] = PagoWeb['NIT_EPS'].str.replace(\" \", \"\")\n",
    "PagoWeb['Nitproveedor'] = PagoWeb['Nitproveedor'].str.replace(\" \", \"\")\n",
    "\n",
    "GD_UPC_CC['NIT_EPS'] = GD_UPC_CC['NIT_EPS'].str.replace(\" \", \"\")\n",
    "GD_UPC_CC['Nitproveedor'] = GD_UPC_CC['Nitproveedor'].str.replace(\" \", \"\")"
   ]
  },
  {
   "cell_type": "code",
   "execution_count": null,
   "metadata": {},
   "outputs": [],
   "source": [
    "# Se agrupa la información de GD_UPC_CC antes de hacer el merge\n",
    "GD_UPC_CC = GD_UPC_CC.groupby(['NIT_EPS', 'Nitproveedor', 'Mes', 'Ano']).agg({'Giro':'sum', 'No_UPC':'sum', 'Compra_Cartera':'sum'}).reset_index()"
   ]
  },
  {
   "cell_type": "code",
   "execution_count": null,
   "metadata": {},
   "outputs": [],
   "source": [
    "# Se unen las dos bases de datos para obtener la información de Giro Directo - No_UPC y Compra de Cartera en una sola base de datos\n",
    "GD_UPC_CC_PW = pd.merge(GD_UPC_CC, PagoWeb, how='outer', left_on=['NIT_EPS', 'Nitproveedor', 'Mes', 'Ano'], right_on=['NIT_EPS', 'Nitproveedor', 'Mes', 'Ano'])"
   ]
  },
  {
   "cell_type": "code",
   "execution_count": null,
   "metadata": {},
   "outputs": [],
   "source": [
    "GD_UPC_CC_PW = GD_UPC_CC_PW.groupby(['NIT_EPS', 'Nitproveedor', 'Mes', 'Ano']).agg({'Giro':'sum', 'No_UPC':'sum', 'Compra_Cartera':'sum', 'PW':'sum'}).reset_index()"
   ]
  },
  {
   "cell_type": "code",
   "execution_count": null,
   "metadata": {},
   "outputs": [],
   "source": [
    "EPS = GD_UPC_CC_PW.groupby(['NIT_EPS', 'Mes', 'Ano']).agg({'Giro':'sum', 'No_UPC':'sum', 'Compra_Cartera':'sum', 'PW':'sum'}).reset_index()"
   ]
  },
  {
   "cell_type": "code",
   "execution_count": null,
   "metadata": {},
   "outputs": [],
   "source": [
    "GD_UPC_CC[['NIT_EPS', 'Nitproveedor', 'Mes', 'Ano']] = GD_UPC_CC[['NIT_EPS', 'Nitproveedor', 'Mes', 'Ano']].astype(str)"
   ]
  },
  {
   "cell_type": "code",
   "execution_count": null,
   "metadata": {},
   "outputs": [],
   "source": [
    "# Para guardar la base de datos lista para ser tratada en formato Excel y CSV\n",
    "GD_UPC_CC_PW.to_excel(r'C:/Users/Miguel Angel/Documents/Supersalud/Pagos_EPS_Proveedores/GD_UPC_CC_PW_2020_ENEABR2021_V2.xlsx', index = False)\n",
    "GD_UPC_CC_PW.to_csv(r'C:/Users/Miguel Angel/Documents/Supersalud/Pagos_EPS_Proveedores/GD_UPC_CC_PW_2020_ENEABR2021_V2.csv', index = False, encoding='utf-8-sig')"
   ]
  },
  {
   "cell_type": "code",
   "execution_count": null,
   "metadata": {},
   "outputs": [],
   "source": [
    "del [CompraCartera2020, GD_UPC, GD_UPC_CC, GD_UPC_CC_PW, GiroDirecto_2020_2021, PagoWeb, No_UPC_2020_2021, EPS]"
   ]
  },
  {
   "cell_type": "code",
   "execution_count": null,
   "metadata": {},
   "outputs": [],
   "source": [
    "del [P]"
   ]
  }
 ],
 "metadata": {
  "interpreter": {
   "hash": "b3ba2566441a7c06988d0923437866b63cedc61552a5af99d1f4fb67d367b25f"
  },
  "kernelspec": {
   "display_name": "Python 3.8.5 64-bit ('base': conda)",
   "name": "python3"
  },
  "language_info": {
   "name": "python",
   "version": ""
  }
 },
 "nbformat": 4,
 "nbformat_minor": 4
}