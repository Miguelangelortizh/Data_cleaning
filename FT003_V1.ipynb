{
 "cells": [
  {
   "cell_type": "markdown",
   "metadata": {},
   "source": [
    "<h2>FT003</h2>\r\n",
    "<p> En este apartado se trata la base de datos FT003 </p>"
   ]
  },
  {
   "cell_type": "code",
   "execution_count": 1,
   "metadata": {},
   "outputs": [],
   "source": [
    "#Cargamos los paquetes que vamos a necesitar\n",
    "import pandas as pd\n",
    "import numpy as np\n",
    "import pyreadstat\n",
    "pd.pandas.set_option('display.max_columns', None)"
   ]
  },
  {
   "cell_type": "code",
   "execution_count": null,
   "metadata": {},
   "outputs": [],
   "source": [
    "# Se carga el FT003 para 2020 y 2021 completo desde el archivo .dta\r\n",
    "FT003_2021_2021 = pd.read_stata('C:/Users/Miguel Angel/Documents/Supersalud/Pagos_EPS_Proveedores/Informe_Pagos/FT003 20202021.dta')\r\n",
    "# Se carga el FT003 para diciembre de 2019 desde el archivo .dta\r\n",
    "FT003_2019 = pd.read_stata('C:/Users/Miguel Angel/Documents/Supersalud/Pagos_EPS_Proveedores/Informe_Pagos/FT003 122019.dta')\r\n",
    "# Se concatenan la bases de datos \r\n",
    "frames = [FT003_2021_2021, FT003_2019]\r\n",
    "FT003 = pd.concat(frames, ignore_index=True)\r\n",
    "# Se eliminan la bases que no se necesitan para liberar espacio en la memoria\r\n",
    "del [FT003_2021_2021, FT003_2019, frames]"
   ]
  },
  {
   "cell_type": "code",
   "execution_count": 2,
   "metadata": {},
   "outputs": [
    {
     "name": "stderr",
     "output_type": "stream",
     "text": [
      "C:\\ProgramData\\Anaconda3\\lib\\site-packages\\IPython\\core\\interactiveshell.py:3146: DtypeWarning: Columns (7) have mixed types.Specify dtype option on import or set low_memory=False.\n",
      "  has_raised = await self.run_ast_nodes(code_ast.body, cell_name,\n"
     ]
    }
   ],
   "source": [
    "# Se carga el FT005 completo desde el archivo .dta\r\n",
    "FT003 = pd.read_csv('C:/Users/Miguel Angel/OneDrive - Supersalud/Supersalud/Bases_FT/BD_actualizadas/FT003_1219_0521.csv', dtype={'Nit':object, 'Año': object, 'Periodo': object, 'Fecha': object})"
   ]
  },
  {
   "cell_type": "code",
   "execution_count": 3,
   "metadata": {},
   "outputs": [],
   "source": [
    "# Se reemplazan los nombres de las columnas para facilitar el tratamiento\n",
    "FT003.rename(columns={'Nit': 'nit_eps', 'Año': 'ano', 'Periodo': 'mes', 'lineaNegocio': 'linea','tipoIdDeudor': 'tipoiddeudor', 'idDeudor': 'nitproveedor', 'conceptoDeudores': 'concepto', 'tipoDeuda': 'tipodeuda', 'medicionPosterior': 'medicion', 'cxcPendientesRadicar': 'cxcsinradicar','cxcNoVencidas': 'cxcnovencidas', 'cxcMora30Dias': 'cxc30', 'cxcMora60Dias': 'cxc60', 'cxcMora90Dias': 'cxc90','cxcMora180Dias': 'cxc180', 'cxcMora360Dias': 'cxc360', 'cxcMoraMayor360Dias': 'cxcmayor360'}, inplace=True)"
   ]
  },
  {
   "cell_type": "code",
   "execution_count": 4,
   "metadata": {},
   "outputs": [],
   "source": [
    "# Se transforman los datos para su correcta identificación\n",
    "FT003[['nit_eps', 'RazonSocial', 'ano', 'mes', 'linea', 'tipoiddeudor',\n",
    "       'nitproveedor', 'dvDeudor', 'nombreDeudor', 'codigoMunicipio',\n",
    "       'concepto', 'tipodeuda', 'medicion']] = FT003[['nit_eps', 'RazonSocial', 'ano', 'mes', 'linea', 'tipoiddeudor',\n",
    "       'nitproveedor', 'dvDeudor', 'nombreDeudor', 'codigoMunicipio',\n",
    "       'concepto', 'tipodeuda', 'medicion']].astype(str)\n",
    "\n",
    "FT003[['cxcsinradicar', 'cxcnovencidas',\n",
    "       'valorMercado', 'cxc30', 'cxc60', 'cxc90', 'cxc180', 'cxc360',\n",
    "       'cxcmayor360', 'deterioro30Dias', 'deterioro60Dias', 'deterioro90Dias',\n",
    "       'deterioro180Dias', 'deterioro360Dias', 'deterioroMayor360Dias',\n",
    "       'ajuste', 'saldo']] = FT003[['cxcsinradicar', 'cxcnovencidas',\n",
    "       'valorMercado', 'cxc30', 'cxc60', 'cxc90', 'cxc180', 'cxc360',\n",
    "       'cxcmayor360', 'deterioro30Dias', 'deterioro60Dias', 'deterioro90Dias',\n",
    "       'deterioro180Dias', 'deterioro360Dias', 'deterioroMayor360Dias',\n",
    "       'ajuste', 'saldo']].astype(float)"
   ]
  },
  {
   "cell_type": "code",
   "execution_count": 5,
   "metadata": {},
   "outputs": [],
   "source": [
    "# Se filtra la línea de negocio de interés. En este caso corresponde a la línea 1\n",
    "FT003 = FT003.loc[FT003['linea'] == '1']"
   ]
  },
  {
   "cell_type": "code",
   "execution_count": 6,
   "metadata": {},
   "outputs": [],
   "source": [
    "# Se crea la columna Cuentas por Cobrar (CXC) sumando las columnas cxcsinradicar, cxcnovencidas, cxc30, cxc60, cxc90, cxc180, cxc360 y cxcmayor360\n",
    "CXC = FT003['cxcsinradicar'] + FT003['cxcnovencidas'] + FT003['cxc30'] + FT003['cxc60'] + FT003['cxc90'] + FT003['cxc180'] + FT003['cxc360'] + FT003['cxcmayor360']\n",
    "FT003['CXC'] = CXC"
   ]
  },
  {
   "cell_type": "code",
   "execution_count": 7,
   "metadata": {},
   "outputs": [],
   "source": [
    "# Para hacer la suma de CXC por NIT EPS, tipo de proveedor, NIT proveedor, Mes y Año\r\n",
    "FT003 = FT003.groupby(['nit_eps', 'nitproveedor', 'mes', 'ano']).agg({'CXC': 'sum'}).reset_index()"
   ]
  },
  {
   "cell_type": "code",
   "execution_count": 8,
   "metadata": {},
   "outputs": [
    {
     "name": "stdout",
     "output_type": "stream",
     "text": [
      "El número de registros duplicados es:\n",
      "0\n"
     ]
    }
   ],
   "source": [
    "# Se comprueba que no haya duplicados cuando se filtra por NIT EPS, tipo de deudor, NIT proveedor, Mes y Año. Para esto se cuenta el número de duplicados\r\n",
    "duplicadosFT003 = FT003[FT003.duplicated(['nit_eps', 'nitproveedor', 'mes', 'ano'], keep='last')]\r\n",
    "print(\"El número de registros duplicados es:\", duplicadosFT003.nit_eps.count(), sep='\\n')"
   ]
  },
  {
   "cell_type": "code",
   "execution_count": 9,
   "metadata": {},
   "outputs": [],
   "source": [
    "# Se genera una nueva columna extrayendo el primer caracter del ID nitproveedor\n",
    "FT003['d1'] = FT003['nitproveedor'].str[:1]"
   ]
  },
  {
   "cell_type": "code",
   "execution_count": 10,
   "metadata": {},
   "outputs": [],
   "source": [
    "# Se genera una nueva columna con la cuenta del numero de componentes que tiene el ID nitproveedor\n",
    "FT003['largo'] = FT003.nitproveedor.str.len()"
   ]
  },
  {
   "cell_type": "code",
   "execution_count": 11,
   "metadata": {},
   "outputs": [],
   "source": [
    "# Se cuenta el número de duplicados para hacer la respectiva corrección del tipo id deudor\n",
    "df_tipoiddeudor = FT003.groupby(['nit_eps', 'nitproveedor', 'mes', 'ano']).size().reset_index().rename(columns={0:'d'})\n",
    "# df_tipoiddeudor.sort_values(by='d', ascending=False)"
   ]
  },
  {
   "cell_type": "code",
   "execution_count": 12,
   "metadata": {},
   "outputs": [],
   "source": [
    "# Se crea la unión de del FT003 con la cuenta de repetidos según NIT EPS, NIT proveedor, mes y año\n",
    "FT003 = FT003.merge(df_tipoiddeudor, left_on=['nit_eps', 'nitproveedor', 'mes', 'ano'], right_on=['nit_eps', 'nitproveedor', 'mes', 'ano'], how='left')"
   ]
  },
  {
   "cell_type": "code",
   "execution_count": 13,
   "metadata": {},
   "outputs": [],
   "source": [
    "# Para hacer la suma de CXC por NIT EPS, tipo de deudor corregido, NIT proveedor, Mes y Año\r\n",
    "FT003 = FT003.groupby(['nit_eps', 'nitproveedor', 'mes', 'ano']).agg({'CXC': 'sum'}).reset_index()"
   ]
  },
  {
   "cell_type": "code",
   "execution_count": 14,
   "metadata": {},
   "outputs": [],
   "source": [
    "# Se convierten las columnas de mes y año en int para mejorar su manipulación\r\n",
    "FT003[['ano', 'mes']] = FT003[['ano', 'mes']].astype(int)"
   ]
  },
  {
   "cell_type": "code",
   "execution_count": 15,
   "metadata": {},
   "outputs": [],
   "source": [
    "# Se libera memoria\r\n",
    "del [CXC, df_tipoiddeudor, duplicadosFT003]"
   ]
  },
  {
   "cell_type": "code",
   "execution_count": 16,
   "metadata": {},
   "outputs": [],
   "source": [
    "# Se crea el rango de meses necesarios en cada mes\r\n",
    "fecha_ideal=range(1, 12 + 1)\r\n",
    "# Se rellena con ceros la información para los meses faltantes\r\n",
    "FT003 = FT003.set_index('mes').groupby(['nit_eps', 'nitproveedor', 'ano']).apply(lambda x: x.reindex(index=fecha_ideal, fill_value=0)).drop(['nit_eps', 'nitproveedor', 'ano'], 1).reset_index()"
   ]
  },
  {
   "cell_type": "code",
   "execution_count": 17,
   "metadata": {},
   "outputs": [],
   "source": [
    "\n",
    "# Se encuentran las observaciones que cumplen las condiciones\n",
    "df_filtered = FT003[\n",
    "    (FT003['ano'] == 2019) & (FT003['mes'] == 1) |\n",
    "    (FT003['ano'] == 2019) & (FT003['mes'] == 2) |\n",
    "    (FT003['ano'] == 2019) & (FT003['mes'] == 3) |\n",
    "    (FT003['ano'] == 2019) & (FT003['mes'] == 4) |\n",
    "    (FT003['ano'] == 2019) & (FT003['mes'] == 5) |\n",
    "    (FT003['ano'] == 2019) & (FT003['mes'] == 6) |\n",
    "    (FT003['ano'] == 2019) & (FT003['mes'] == 7) |\n",
    "    (FT003['ano'] == 2019) & (FT003['mes'] == 8) |\n",
    "    (FT003['ano'] == 2019) & (FT003['mes'] == 9) |\n",
    "    (FT003['ano'] == 2019) & (FT003['mes'] == 10) |\n",
    "    (FT003['ano'] == 2019) & (FT003['mes'] == 11)\n",
    "    ].index\n",
    "\n",
    "# Se eliminan las observaciones que cumplen las condiciones anteriore\n",
    "FT003 = FT003.drop(df_filtered)"
   ]
  },
  {
   "cell_type": "code",
   "execution_count": 18,
   "metadata": {},
   "outputs": [],
   "source": [
    "# Se completan los años y los meses para las observaciones que no presentaron ninguna observación en un año de interés. Por ejemplo, a aquellos sujetos que reportaron cifras en 2019, pero no en 2020, se les completa el año 2020 para poder calcular la diferencia entre diciembre de 2019 y enero de 2020\n",
    "# Se convierte la variable en mes y año\n",
    "FT003[['ano', 'mes']] = FT003[['ano', 'mes']].astype(float)\n",
    "FT003['periodo'] = pd.to_datetime(FT003.ano*10000 + FT003.mes*100 + 1, format='%Y%m%d')\n",
    "fecha_ideal = pd.date_range('12-01-2019','05-01-2021',freq='M')"
   ]
  },
  {
   "cell_type": "code",
   "execution_count": 19,
   "metadata": {},
   "outputs": [],
   "source": [
    "# Se agrupa la información según NIT EPS, NIT proveedor y periodo sumando el valor de CXC que corresponda a cada agrupación descrita\r\n",
    "FT003_dif = FT003.groupby(['nit_eps', 'nitproveedor', pd.Grouper(key='periodo', freq='M')])[['CXC']].sum().reset_index()"
   ]
  },
  {
   "cell_type": "code",
   "execution_count": 20,
   "metadata": {},
   "outputs": [],
   "source": [
    "# Se prepara el dataframe para calcular la diferencia periodo a periodo (t+1 - t) respetando la agregación anterior\r\n",
    "FT003_dif = FT003_dif.set_index('periodo').groupby(['nit_eps', 'nitproveedor']).apply(lambda x: x.reindex(index=fecha_ideal, fill_value=0)).drop(['nit_eps', 'nitproveedor'], 1).reset_index()"
   ]
  },
  {
   "cell_type": "code",
   "execution_count": 21,
   "metadata": {},
   "outputs": [
    {
     "name": "stdout",
     "output_type": "stream",
     "text": [
      "<class 'pandas.core.frame.DataFrame'>\n",
      "RangeIndex: 1899036 entries, 0 to 1899035\n",
      "Data columns (total 4 columns):\n",
      " #   Column        Dtype         \n",
      "---  ------        -----         \n",
      " 0   nit_eps       object        \n",
      " 1   nitproveedor  object        \n",
      " 2   level_2       datetime64[ns]\n",
      " 3   CXC           float64       \n",
      "dtypes: datetime64[ns](1), float64(1), object(2)\n",
      "memory usage: 58.0+ MB\n"
     ]
    }
   ],
   "source": [
    "FT003_dif.info()"
   ]
  },
  {
   "cell_type": "code",
   "execution_count": 22,
   "metadata": {},
   "outputs": [],
   "source": [
    "# Se reemplazan los nombres de las columnas para facilitar el tratamiento\r\n",
    "FT003_dif.rename(columns={'level_2': 'periodo'}, inplace=True)"
   ]
  },
  {
   "cell_type": "code",
   "execution_count": 23,
   "metadata": {},
   "outputs": [],
   "source": [
    "# Se establece el index (identificación) como NIT EPS, NIT proveedor y el periodo para cada observación\r\n",
    "FT003_dif = FT003_dif.set_index(['nit_eps', 'nitproveedor', 'periodo'])"
   ]
  },
  {
   "cell_type": "code",
   "execution_count": 24,
   "metadata": {},
   "outputs": [],
   "source": [
    "# Se calcula la diferencia mensual para conocer el valor mensual de cada cuenta ya que por defecto vienen agregadas (t+1 - t) y se llenan los espacios vacíos con ceros\r\n",
    "FT003_dif = FT003_dif.diff().fillna(0).reset_index()"
   ]
  },
  {
   "cell_type": "code",
   "execution_count": 25,
   "metadata": {},
   "outputs": [],
   "source": [
    "# Se reemplazan los nombres de las columnas para facilitar el tratamiento\n",
    "FT003_dif.rename(columns={'CXC': 'DCXCmes'}, inplace=True)\n",
    "\n",
    "#  Se extrae el mes y el año para porterior left join con el agregado\n",
    "FT003_dif['ano'] = FT003_dif['periodo'].dt.year\n",
    "FT003_dif['mes'] = FT003_dif['periodo'].dt.month\n",
    "\n",
    "#Se transforman las variables a STR para mejorar su manipulación\n",
    "FT003[['ano', 'mes']] = FT003[['ano', 'mes']].astype(int)\n",
    "\n",
    "# Se eliminan las columnas que no son de interés\n",
    "FT003 = FT003.drop(['periodo'], axis=1)\n",
    "FT003_dif = FT003_dif.drop(['periodo'], axis=1)"
   ]
  },
  {
   "cell_type": "code",
   "execution_count": 26,
   "metadata": {},
   "outputs": [],
   "source": [
    "# Se unen las dos bases de datos para obtener la información de diferenciada mensualmente y agregada de las CXC en una sola base de datos. Se sobreescribe el FT003\r\n",
    "FT003 = pd.merge(FT003_dif, FT003, how='left', left_on=['nit_eps', 'nitproveedor', 'mes', 'ano'], right_on=['nit_eps', 'nitproveedor', 'mes', 'ano'])"
   ]
  },
  {
   "cell_type": "code",
   "execution_count": 27,
   "metadata": {},
   "outputs": [],
   "source": [
    "# Se encuentran las observaciones que cumplen las condiciones\n",
    "df_filtered = FT003[\n",
    "    (FT003['ano'] == 2019)\n",
    "    ].index\n",
    "\n",
    "# Se eliminan las observaciones que cumplen las condiciones anteriore\n",
    "FT003 = FT003.drop(df_filtered)"
   ]
  },
  {
   "cell_type": "code",
   "execution_count": 29,
   "metadata": {},
   "outputs": [],
   "source": [
    "# Se convierte la variable en mes y año\r\n",
    "FT003[['ano', 'mes']] = FT003[['ano', 'mes']].astype(float).astype(int)"
   ]
  },
  {
   "cell_type": "code",
   "execution_count": 31,
   "metadata": {},
   "outputs": [],
   "source": [
    "# Se agrega la información por NIT_EPS, Nitproveedor, noID, Departamento, Ano, Mes para las variables VPagado, VCausado, PW, Giro, No_UPC, Compra_Cartera\r\n",
    "FT003 = FT003.groupby(['nit_eps', 'nitproveedor', 'mes', 'ano']).agg({'CXC':'sum', 'DCXCmes':'sum'}).reset_index()"
   ]
  },
  {
   "cell_type": "code",
   "execution_count": 32,
   "metadata": {},
   "outputs": [],
   "source": [
    "# Para guardar la base de datos lista para ser tratada en formato Excel y CSV\r\n",
    "# FT003_pres_ope.to_excel(r'C:/Users/Miguel Angel/Documents/Supersalud/Pagos_EPS_Proveedores/cxcprestador_2020_2021.xlsx', index = False)\r\n",
    "FT003.to_csv(r'C:/Users/Miguel Angel/Documents/Supersalud/Pagos_EPS_Proveedores/cxcprestador_2020_ene_may_2021.csv', index = False, encoding='utf-8-sig')"
   ]
  },
  {
   "cell_type": "code",
   "execution_count": 36,
   "metadata": {},
   "outputs": [],
   "source": [
    "# Se eliminan la bases que no se necesitan para liberar espacio en la memoria\r\n",
    "del [FT003, FT003_dif, df_filtered, fecha_ideal]"
   ]
  }
 ],
 "metadata": {
  "interpreter": {
   "hash": "b3ba2566441a7c06988d0923437866b63cedc61552a5af99d1f4fb67d367b25f"
  },
  "kernelspec": {
   "display_name": "Python 3.8.5 64-bit ('base': conda)",
   "name": "python3"
  },
  "language_info": {
   "codemirror_mode": {
    "name": "ipython",
    "version": 3
   },
   "file_extension": ".py",
   "mimetype": "text/x-python",
   "name": "python",
   "nbconvert_exporter": "python",
   "pygments_lexer": "ipython3",
   "version": "3.8.5"
  }
 },
 "nbformat": 4,
 "nbformat_minor": 4
}