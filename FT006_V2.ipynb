{
 "cells": [
  {
   "cell_type": "markdown",
   "source": [
    "<h2>FT006 - Inversiones Depositos a la vista </h2>\r\n",
    "<p> En este apartado se trata la base de datos FT006 </p>"
   ],
   "metadata": {}
  },
  {
   "cell_type": "code",
   "execution_count": 1,
   "source": [
    "#Cargamos los paquetes que vamos a necesitar\r\n",
    "import pandas as pd\r\n",
    "import numpy as np\r\n",
    "import pyreadstat\r\n",
    "pd.pandas.set_option('display.max_columns', None)"
   ],
   "outputs": [],
   "metadata": {}
  },
  {
   "cell_type": "code",
   "execution_count": 2,
   "source": [
    "# Estas lineas se utilizan cuando la base de datos está separada por años y se requiere unirla\r\n",
    "\r\n",
    "# # Se carga el FT006 para 2020 y 2021 completo desde el archivo .dta\r\n",
    "# FT006_2020_2021 = pd.read_stata('C:/Users/Miguel Angel/Documents/Supersalud/Pagos_EPS_Proveedores/Informe_Pagos/FT006 20202021.dta')\r\n",
    "# # Se carga el FT006 para para diciembre de 2019 desde el archivo .dta\r\n",
    "# FT006_2019 = pd.read_stata('C:/Users/Miguel Angel/Documents/Supersalud/Pagos_EPS_Proveedores/Informe_Pagos/FT006 122019.dta')\r\n",
    "# # Se concatenan la bases de datos \r\n",
    "# frames = [FT006_2020_2021, FT006_2019]\r\n",
    "# FT006 = pd.concat(frames, ignore_index=True)\r\n",
    "# # Se eliminan la bases que no se necesitan para liberar espacio en la memoria\r\n",
    "# del [FT006_2020_2021, FT006_2019, frames]"
   ],
   "outputs": [],
   "metadata": {}
  },
  {
   "cell_type": "code",
   "execution_count": 3,
   "source": [
    "# Se carga el FT006 completo desde el archivo .csv\r\n",
    "FT006 = pd.read_csv('C:/Users/Miguel Angel/OneDrive - Supersalud/Supersalud/Bases_FT/BD_actualizadas/2_Mas_reciente_25082021/FT006.csv', dtype={'Nit':object, 'Año': object, 'Periodo': object, 'Fecha': object}, encoding='latin-1')"
   ],
   "outputs": [],
   "metadata": {}
  },
  {
   "cell_type": "code",
   "execution_count": 4,
   "source": [
    "# Se genera una nueva columna extrayendo el mes y el año de la variable fecha\r\n",
    "FT006['ano'] = FT006['Fecha'].str[:4]\r\n",
    "FT006['mes'] = FT006['Fecha'].str[4:6]"
   ],
   "outputs": [],
   "metadata": {}
  },
  {
   "cell_type": "code",
   "execution_count": 6,
   "source": [
    "# Se reemplazan los nombres de las columnas para facilitar el tratamiento\r\n",
    "FT006.rename(columns={'Nit': 'nit_eps', 'lineaNegocio': 'linea','claseCuenta': 'clasecuenta', 'saldoExtracto': 'sextracto'}, inplace=True)"
   ],
   "outputs": [],
   "metadata": {}
  },
  {
   "cell_type": "code",
   "execution_count": 7,
   "source": [
    "# Se transforman los datos para su correcta identificación\r\n",
    "FT006[['nit_eps', 'RazonSocial', 'ano', 'mes', 'linea']] = FT006[['nit_eps', 'RazonSocial', 'ano', 'mes', 'linea']].astype(str)"
   ],
   "outputs": [],
   "metadata": {}
  },
  {
   "cell_type": "code",
   "execution_count": 8,
   "source": [
    "# Se filtra la línea de negocio de interés. En este caso corresponde a la línea 1\r\n",
    "FT006 = FT006.loc[FT006['linea'] == '1']"
   ],
   "outputs": [],
   "metadata": {}
  },
  {
   "cell_type": "code",
   "execution_count": 9,
   "source": [
    "# Se reemplaza la clase de cuenta\r\n",
    "FT006.loc[(FT006['clasecuenta'] == 2), \r\n",
    "       'clasecuenta'] = 1 "
   ],
   "outputs": [],
   "metadata": {}
  },
  {
   "cell_type": "code",
   "execution_count": 10,
   "source": [
    "# Se encuentran las observaciones que cumplen las condiciones. Se deben eliminar las observaciones con clase de cuenta 3\r\n",
    "df_filtered = FT006[\r\n",
    "    (FT006['clasecuenta'] == 3)\r\n",
    "    ].index"
   ],
   "outputs": [],
   "metadata": {}
  },
  {
   "cell_type": "code",
   "execution_count": 11,
   "source": [
    "# Se eliminan las observaciones que cumplen las condiciones anteriore\r\n",
    "FT006 = FT006.drop(df_filtered)"
   ],
   "outputs": [],
   "metadata": {}
  },
  {
   "cell_type": "code",
   "execution_count": 12,
   "source": [
    "# Se convierte la variable en mes y año\r\n",
    "FT006[['ano', 'mes']] = FT006[['ano', 'mes']].astype(float).astype(int)"
   ],
   "outputs": [],
   "metadata": {}
  },
  {
   "cell_type": "code",
   "execution_count": 13,
   "source": [
    "# Para hacer la suma de sextracto por clase de cuenta, NIT EPS, NIT proveedor, Mes y Año\r\n",
    "FT006 = FT006.groupby(['nit_eps', 'mes', 'ano', 'clasecuenta']).agg({'sextracto': 'sum'}).reset_index()"
   ],
   "outputs": [],
   "metadata": {}
  },
  {
   "cell_type": "code",
   "execution_count": 14,
   "source": [
    "# Para hacer la suma de sextracto por NIT EPS, NIT proveedor, Mes y Año\r\n",
    "FT006 = FT006.groupby(['nit_eps', 'ano', 'mes'])[['sextracto']].sum().reset_index()"
   ],
   "outputs": [],
   "metadata": {}
  },
  {
   "cell_type": "markdown",
   "source": [
    "<p> Desde aquí se guarda la base de datos con fechas máximas por proveedor </p>"
   ],
   "metadata": {}
  },
  {
   "cell_type": "code",
   "execution_count": 18,
   "source": [
    "# Se tranforma el formato de las columnas del dataframe \r\n",
    "FT006_FECHA[['ano', 'mes']] = FT006_FECHA[['ano', 'mes']].astype(float).astype(int)"
   ],
   "outputs": [
    {
     "output_type": "stream",
     "name": "stderr",
     "text": [
      "C:\\ProgramData\\Anaconda3\\lib\\site-packages\\pandas\\core\\frame.py:3065: SettingWithCopyWarning: \n",
      "A value is trying to be set on a copy of a slice from a DataFrame.\n",
      "Try using .loc[row_indexer,col_indexer] = value instead\n",
      "\n",
      "See the caveats in the documentation: https://pandas.pydata.org/pandas-docs/stable/user_guide/indexing.html#returning-a-view-versus-a-copy\n",
      "  self[k1] = value[k2]\n"
     ]
    }
   ],
   "metadata": {}
  },
  {
   "cell_type": "code",
   "execution_count": 19,
   "source": [
    "# Se filtra el dataframe con las observaciones que cumplen las condiciones\r\n",
    "FT006_FECHA = FT006[\r\n",
    "    (FT006['ano'] == 2021)\r\n",
    "    ]"
   ],
   "outputs": [],
   "metadata": {}
  },
  {
   "cell_type": "code",
   "execution_count": 20,
   "source": [
    "# Se procede a eliminar los duplicados dejando el último movimiento registrado. Esto se debe ya que se busca trabajar con el último dato disponible\r\n",
    "FT006_FECHA = FT006_FECHA.sort_values(['ano', 'mes']).drop_duplicates('nit_eps', keep='last')"
   ],
   "outputs": [],
   "metadata": {}
  },
  {
   "cell_type": "code",
   "execution_count": 21,
   "source": [
    "# Para guardar la base de datos lista para ser tratada en formato CSV\r\n",
    "FT006_FECHA.to_excel(r'C:/Users/Miguel Angel/OneDrive - Supersalud/Supersalud/Jul 6 Pagos WEB/Pagos WEB/EPS/2021/UNION_BASES/FT006_FECHA.xlsx', index = False)"
   ],
   "outputs": [],
   "metadata": {}
  },
  {
   "cell_type": "markdown",
   "source": [
    "<p> Hasta aquí se guarda la base de datos con fechas máximas por proveedor </p>"
   ],
   "metadata": {}
  },
  {
   "cell_type": "code",
   "execution_count": 22,
   "source": [
    "# Se crea el rango de meses necesarios en cada mes\r\n",
    "fecha_ideal=range(1, 12 + 1)\r\n",
    "# Se rellena con ceros la información para los meses faltantes\r\n",
    "FT006 = FT006.set_index('mes').groupby(['nit_eps', 'ano']).apply(lambda x: x.reindex(index=fecha_ideal, fill_value=0)).drop(['nit_eps', 'ano'], 1)"
   ],
   "outputs": [],
   "metadata": {}
  },
  {
   "cell_type": "code",
   "execution_count": 23,
   "source": [
    "# Se desagrupa la información para su posterior filtro pues no nos interesa la información para 2019\r\n",
    "FT006 = FT006.reset_index()"
   ],
   "outputs": [],
   "metadata": {}
  },
  {
   "cell_type": "code",
   "execution_count": 24,
   "source": [
    "# Se encuentran las observaciones que cumplen las condiciones\r\n",
    "df_filtered = FT006[\r\n",
    "    (FT006['ano'] == 2019) & (FT006['mes'] == 1) |\r\n",
    "    (FT006['ano'] == 2019) & (FT006['mes'] == 2) |\r\n",
    "    (FT006['ano'] == 2019) & (FT006['mes'] == 3) |\r\n",
    "    (FT006['ano'] == 2019) & (FT006['mes'] == 4) |\r\n",
    "    (FT006['ano'] == 2019) & (FT006['mes'] == 5) |\r\n",
    "    (FT006['ano'] == 2019) & (FT006['mes'] == 6) |\r\n",
    "    (FT006['ano'] == 2019) & (FT006['mes'] == 7) |\r\n",
    "    (FT006['ano'] == 2019) & (FT006['mes'] == 8) |\r\n",
    "    (FT006['ano'] == 2019) & (FT006['mes'] == 9) |\r\n",
    "    (FT006['ano'] == 2019) & (FT006['mes'] == 10) |\r\n",
    "    (FT006['ano'] == 2019) & (FT006['mes'] == 11)\r\n",
    "    ].index"
   ],
   "outputs": [],
   "metadata": {}
  },
  {
   "cell_type": "code",
   "execution_count": 25,
   "source": [
    "# Se eliminan las observaciones que cumplen las condiciones anteriore\r\n",
    "FT006 = FT006.drop(df_filtered)"
   ],
   "outputs": [],
   "metadata": {}
  },
  {
   "cell_type": "code",
   "execution_count": 26,
   "source": [
    "# Se agrupa la información para calcular su respectiva diferencia mensual por CXP\r\n",
    "FT006 = FT006.set_index(['nit_eps', 'ano','mes'])"
   ],
   "outputs": [],
   "metadata": {}
  },
  {
   "cell_type": "code",
   "execution_count": 27,
   "source": [
    "# Se calcula la diferencia mensual para conocer el valor mensual de cada cuenta ya que por defecto vienen agregadas\r\n",
    "FT006_dif = FT006.diff().fillna(0)"
   ],
   "outputs": [],
   "metadata": {}
  },
  {
   "cell_type": "code",
   "execution_count": 28,
   "source": [
    "# Se desagregan las bases de datos para su posterior unión\r\n",
    "FT006_dif = FT006_dif.reset_index()\r\n",
    "FT006 = FT006.reset_index()"
   ],
   "outputs": [],
   "metadata": {}
  },
  {
   "cell_type": "code",
   "execution_count": 29,
   "source": [
    "# Se reemplazan los nombres de las columnas para facilitar el tratamiento\r\n",
    "FT006_dif.rename(columns={'sextracto': 'DSaldo'}, inplace=True)"
   ],
   "outputs": [],
   "metadata": {}
  },
  {
   "cell_type": "code",
   "execution_count": 30,
   "source": [
    "# Se encuentran las observaciones que cumplen las condiciones\r\n",
    "df_filtered = FT006_dif[\r\n",
    "    (FT006['ano'] == 2019)\r\n",
    "    ].index"
   ],
   "outputs": [],
   "metadata": {}
  },
  {
   "cell_type": "code",
   "execution_count": 31,
   "source": [
    "# Se eliminan las observaciones que cumplen las condiciones anteriore\r\n",
    "FT006_dif = FT006_dif.drop(df_filtered)"
   ],
   "outputs": [],
   "metadata": {}
  },
  {
   "cell_type": "markdown",
   "source": [
    "<p> Desde aquí se filtra la base por la fecha máxima de reporte de la información </p>"
   ],
   "metadata": {}
  },
  {
   "cell_type": "code",
   "execution_count": 32,
   "source": [
    "# Se seleccionan las columnas requeridas antes del cruce para filtrar la información (se excluye el valor de CXC)\r\n",
    "FT006_FECHA = FT006_FECHA[['nit_eps', 'mes', 'ano']]"
   ],
   "outputs": [],
   "metadata": {}
  },
  {
   "cell_type": "code",
   "execution_count": 33,
   "source": [
    "FT006_dif.info()"
   ],
   "outputs": [
    {
     "output_type": "stream",
     "name": "stdout",
     "text": [
      "<class 'pandas.core.frame.DataFrame'>\n",
      "Int64Index: 1116 entries, 1 to 1161\n",
      "Data columns (total 4 columns):\n",
      " #   Column   Non-Null Count  Dtype  \n",
      "---  ------   --------------  -----  \n",
      " 0   nit_eps  1116 non-null   object \n",
      " 1   ano      1116 non-null   int64  \n",
      " 2   mes      1116 non-null   int64  \n",
      " 3   DSaldo   1116 non-null   float64\n",
      "dtypes: float64(1), int64(2), object(1)\n",
      "memory usage: 43.6+ KB\n"
     ]
    }
   ],
   "metadata": {}
  },
  {
   "cell_type": "code",
   "execution_count": 34,
   "source": [
    "# Se modifican los nombres de las columnas para posterimente pegar las bases de datos\r\n",
    "FT006_FECHA.rename(columns={'mes': 'ULTIMO_MES_FT006', 'ano': 'ULTIMO_ANO_FT006'}, inplace=True)"
   ],
   "outputs": [],
   "metadata": {}
  },
  {
   "cell_type": "code",
   "execution_count": 35,
   "source": [
    "# Se unen las dos bases de datos para obtener la información de FT004_FT003_FT005 y prestadores\r\n",
    "FT006 = pd.merge(FT006_dif, FT006_FECHA, how='left', left_on=['nit_eps'], right_on=['nit_eps'])"
   ],
   "outputs": [],
   "metadata": {}
  },
  {
   "cell_type": "code",
   "execution_count": 36,
   "source": [
    "# Se crea una variable de control para filtrar por fecha del reporte\r\n",
    "FT006['periodo'] = pd.to_datetime(FT006.ano*10000 + FT006.mes*100 + 1, format='%Y%m%d')\r\n",
    "FT006['periodo_filtro'] = pd.to_datetime(FT006.ULTIMO_ANO_FT006*10000 + FT006.ULTIMO_MES_FT006*100 + 1, format='%Y%m%d')"
   ],
   "outputs": [],
   "metadata": {}
  },
  {
   "cell_type": "code",
   "execution_count": 38,
   "source": [
    "# Se filtra el dataframe con las observaciones que cumplen las condiciones. La idea es eliminar aquellas observaciones que están por fuera de las fechas máximas de reporte de cada EPS, es decir, si una EPS reportó su información \r\n",
    "df = FT006[\r\n",
    "    (FT006['periodo'] <= FT006['periodo_filtro'])\r\n",
    "    ]"
   ],
   "outputs": [],
   "metadata": {}
  },
  {
   "cell_type": "code",
   "execution_count": 39,
   "source": [
    "# Para guardar la base de datos lista para ser tratada en formato Excel y CSV\r\n",
    "# FT006_dif.to_excel(r'C:/Users/Miguel Angel/Documents/Supersalud/Pagos_EPS_Proveedores/DVFICEPS_2020_2021.xlsx', index = False)\r\n",
    "FT006_dif.to_csv(r'C:/Users/Miguel Angel/Documents/Supersalud/Pagos_EPS_Proveedores/DVFICEPS_2020_ene_jul_2021.csv', index = False, encoding='utf-8-sig')"
   ],
   "outputs": [],
   "metadata": {}
  },
  {
   "cell_type": "code",
   "execution_count": 40,
   "source": [
    "# Se eliminan la bases que no se necesitan para liberar espacio en la memoria\r\n",
    "del [FT006, FT006_dif, FT006_FECHA, df, df_filtered, fecha_ideal]"
   ],
   "outputs": [],
   "metadata": {}
  }
 ],
 "metadata": {
  "interpreter": {
   "hash": "b3ba2566441a7c06988d0923437866b63cedc61552a5af99d1f4fb67d367b25f"
  },
  "kernelspec": {
   "name": "python3",
   "display_name": "Python 3.8.5 64-bit ('base': conda)"
  },
  "language_info": {
   "codemirror_mode": {
    "name": "ipython",
    "version": 3
   },
   "file_extension": ".py",
   "mimetype": "text/x-python",
   "name": "python",
   "nbconvert_exporter": "python",
   "pygments_lexer": "ipython3",
   "version": "3.8.5"
  }
 },
 "nbformat": 4,
 "nbformat_minor": 4
}