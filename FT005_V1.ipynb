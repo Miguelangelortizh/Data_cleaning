{
 "cells": [
  {
   "cell_type": "markdown",
   "metadata": {},
   "source": [
    "<h2>FT005</h2>\r\n",
    "<p> En este apartado se trata la base de datos FT005 </p>"
   ]
  },
  {
   "cell_type": "code",
   "execution_count": 1,
   "metadata": {},
   "outputs": [],
   "source": [
    "#Cargamos los paquetes que vamos a necesitar\n",
    "import pandas as pd\n",
    "import numpy as np\n",
    "import pyreadstat\n",
    "import pyarrow.feather as feather"
   ]
  },
  {
   "cell_type": "code",
   "execution_count": 2,
   "metadata": {},
   "outputs": [
    {
     "name": "stderr",
     "output_type": "stream",
     "text": [
      "C:\\ProgramData\\Anaconda3\\lib\\site-packages\\IPython\\core\\interactiveshell.py:3146: DtypeWarning: Columns (7) have mixed types.Specify dtype option on import or set low_memory=False.\n",
      "  has_raised = await self.run_ast_nodes(code_ast.body, cell_name,\n"
     ]
    }
   ],
   "source": [
    "# Se carga el FT001 completo desde el archivo .csv\r\n",
    "FT005 = pd.read_csv('C:/Users/Miguel Angel/OneDrive - Supersalud/Supersalud/Bases_FT/BD_actualizadas/FT005_1219_0521.csv', dtype={'Nit':object, 'Año': object, 'Periodo': object, 'Fecha': object})"
   ]
  },
  {
   "cell_type": "code",
   "execution_count": 3,
   "metadata": {},
   "outputs": [
    {
     "name": "stdout",
     "output_type": "stream",
     "text": [
      "<class 'pandas.core.frame.DataFrame'>\n",
      "RangeIndex: 12884322 entries, 0 to 12884321\n",
      "Data columns (total 14 columns):\n",
      " #   Column           Dtype \n",
      "---  ------           ----- \n",
      " 0   Nit              object\n",
      " 1   RazonSocial      object\n",
      " 2   Año              object\n",
      " 3   Periodo          object\n",
      " 4   Fecha            object\n",
      " 5   lineaNegocio     int64 \n",
      " 6   tipoIdProveedor  object\n",
      " 7   idProveedor      object\n",
      " 8   dvProveedor      int64 \n",
      " 9   nombreProveedor  object\n",
      " 10  codigoConcepto   int64 \n",
      " 11  descripcionCyG   int64 \n",
      " 12  valorCausado     int64 \n",
      " 13  valorPagado      int64 \n",
      "dtypes: int64(6), object(8)\n",
      "memory usage: 1.3+ GB\n"
     ]
    }
   ],
   "source": [
    "FT005.info()"
   ]
  },
  {
   "cell_type": "code",
   "execution_count": 4,
   "metadata": {},
   "outputs": [],
   "source": [
    "# Se reemplazan los nombres de las columnas para facilitar el tratamiento\r\n",
    "FT005.rename(columns={'Nit': 'NIT_EPS', 'Año': 'Ano', 'Periodo': 'Mes', 'lineaNegocio': 'Linea','tipoIdProveedor': 'Tipoproveedor', 'idProveedor': 'Nitproveedor', 'codigoConcepto': 'Concepto', 'descripcionCyG': 'CyG', 'valorCausado': 'VCausado', 'valorPagado': 'VPagado'}, inplace=True)"
   ]
  },
  {
   "cell_type": "code",
   "execution_count": 5,
   "metadata": {},
   "outputs": [],
   "source": [
    "#Se transforman las variables a STR para mejorar su manipulación\n",
    "FT005[['NIT_EPS', 'Nitproveedor', 'Tipoproveedor', 'Mes', 'Ano']] = FT005[['NIT_EPS', 'Nitproveedor', 'Tipoproveedor', 'Mes', 'Ano']].astype(str)"
   ]
  },
  {
   "cell_type": "code",
   "execution_count": 6,
   "metadata": {},
   "outputs": [],
   "source": [
    "# Se filtra la línea de negocio de interés. En este caso corresponde a la línea 1\n",
    "FT005 = FT005.loc[FT005['Linea'] == 1]"
   ]
  },
  {
   "cell_type": "code",
   "execution_count": 7,
   "metadata": {},
   "outputs": [],
   "source": [
    "# Para hacer la suma de Valor pagado y Valor causado por NIT EPS, tipo de proveedor, NIT proveedor y Mes de interés\r\n",
    "FT005 = FT005.groupby(['NIT_EPS', 'Nitproveedor', 'Mes', 'Ano']).agg({'VPagado': 'sum','VCausado': 'sum'}).reset_index()"
   ]
  },
  {
   "cell_type": "code",
   "execution_count": 8,
   "metadata": {},
   "outputs": [
    {
     "name": "stdout",
     "output_type": "stream",
     "text": [
      "El número de registros duplicados es:\n",
      "0\n"
     ]
    }
   ],
   "source": [
    "# Se comprueba que no haya duplicados cuando se filtra por NIT EPS, tipo de proveedor, NIT proveedor y Mes. Para esto se cuenta el número de duplicados\n",
    "duplicadosFT005 = FT005[FT005.duplicated(['NIT_EPS', 'Nitproveedor', 'Mes', 'Ano'], keep='last')]\n",
    "print(\"El número de registros duplicados es:\", duplicadosFT005.NIT_EPS.count(), sep='\\n')"
   ]
  },
  {
   "cell_type": "code",
   "execution_count": 9,
   "metadata": {},
   "outputs": [],
   "source": [
    "# Se convierte la variable en mes y año\r\n",
    "FT005[['Ano', 'Mes']] = FT005[['Ano', 'Mes']].astype(float).astype(int)\r\n",
    "# Se agrega la información por NIT_EPS, Nitproveedor, noID, Departamento, Ano, Mes para las variables VPagado, VCausado, PW, Giro, No_UPC, Compra_Cartera\r\n",
    "FT005 = FT005.groupby(['NIT_EPS', 'Nitproveedor', 'Mes', 'Ano'])[['VPagado', 'VCausado']].sum().reset_index()"
   ]
  },
  {
   "cell_type": "code",
   "execution_count": 10,
   "metadata": {},
   "outputs": [],
   "source": [
    "# Se crea el rango de meses necesarios en cada mes\r\n",
    "fecha_ideal=range(1, 12 + 1)\r\n",
    "# Se rellena con ceros la información para los meses faltantes\r\n",
    "FT005 = FT005.set_index('Mes').groupby(['NIT_EPS', 'Nitproveedor', 'Ano']).apply(lambda x: x.reindex(index=fecha_ideal, fill_value=0)).drop(['NIT_EPS', 'Nitproveedor', 'Ano'], 1)"
   ]
  },
  {
   "cell_type": "code",
   "execution_count": 11,
   "metadata": {},
   "outputs": [],
   "source": [
    "# Se desagrupa la información\r\n",
    "FT005 = FT005.reset_index()"
   ]
  },
  {
   "cell_type": "code",
   "execution_count": 12,
   "metadata": {},
   "outputs": [],
   "source": [
    "# Se encuentran las observaciones que cumplen las condiciones\r\n",
    "df_filtered = FT005[\r\n",
    "    (FT005['Ano'] == 2019) & (FT005['Mes'] == 1) |\r\n",
    "    (FT005['Ano'] == 2019) & (FT005['Mes'] == 2) |\r\n",
    "    (FT005['Ano'] == 2019) & (FT005['Mes'] == 3) |\r\n",
    "    (FT005['Ano'] == 2019) & (FT005['Mes'] == 4) |\r\n",
    "    (FT005['Ano'] == 2019) & (FT005['Mes'] == 5) |\r\n",
    "    (FT005['Ano'] == 2019) & (FT005['Mes'] == 6) |\r\n",
    "    (FT005['Ano'] == 2019) & (FT005['Mes'] == 7) |\r\n",
    "    (FT005['Ano'] == 2019) & (FT005['Mes'] == 8) |\r\n",
    "    (FT005['Ano'] == 2019) & (FT005['Mes'] == 9) |\r\n",
    "    (FT005['Ano'] == 2019) & (FT005['Mes'] == 10) |\r\n",
    "    (FT005['Ano'] == 2019) & (FT005['Mes'] == 11)\r\n",
    "    ].index"
   ]
  },
  {
   "cell_type": "code",
   "execution_count": 13,
   "metadata": {},
   "outputs": [],
   "source": [
    "# Se eliminan las observaciones que cumplen las condiciones anteriores (se eliminan los meses de 2019 que no son de interés)\r\n",
    "FT005 = FT005.drop(df_filtered)"
   ]
  },
  {
   "cell_type": "markdown",
   "metadata": {},
   "source": [
    "<p> Esta línea se debe actualizar según los meses requeridos. Se elimnan los meses que no son de interés debido al volumen de los datos que se generan </p>"
   ]
  },
  {
   "cell_type": "code",
   "execution_count": 14,
   "metadata": {},
   "outputs": [],
   "source": [
    "# Se encuentran las observaciones que cumplen las condiciones (se elimnan los meses de 2021 que son de interés)\r\n",
    "df_filtered = FT005[\r\n",
    "    (FT005['Ano'] == 2021) & (FT005['Mes'] == 6) |\r\n",
    "    (FT005['Ano'] == 2021) & (FT005['Mes'] == 7) |\r\n",
    "    (FT005['Ano'] == 2021) & (FT005['Mes'] == 8) |\r\n",
    "    (FT005['Ano'] == 2021) & (FT005['Mes'] == 9) |\r\n",
    "    (FT005['Ano'] == 2021) & (FT005['Mes'] == 10) |\r\n",
    "    (FT005['Ano'] == 2021) & (FT005['Mes'] == 11)\r\n",
    "    ].index\r\n",
    "\r\n",
    "# Se eliminan las observaciones que cumplen las condiciones anteriores (se eliminan los meses de 2019 que no son de interés)\r\n",
    "FT005 = FT005.drop(df_filtered)"
   ]
  },
  {
   "cell_type": "code",
   "execution_count": 15,
   "metadata": {},
   "outputs": [],
   "source": [
    "# Se completan los años y los meses para las observaciones que no presentaron ninguna observación en un año de interés. Por ejemplo, a aquellos sujetos que reportaron cifras en 2019, pero no en 2020, se les completa el año 2020 para poder calcular la diferencia entre diciembre de 2019 y enero de 2020\r\n",
    "# Se convierte la variable en mes y año\r\n",
    "FT005[['Ano', 'Mes']] = FT005[['Ano', 'Mes']].astype(float)\r\n",
    "FT005['periodo'] = pd.to_datetime(FT005.Ano*10000 + FT005.Mes*100 + 1, format='%Y%m%d')\r\n",
    "fecha_ideal = pd.date_range('12-01-2019','05-01-2021',freq='M')"
   ]
  },
  {
   "cell_type": "code",
   "execution_count": 16,
   "metadata": {},
   "outputs": [],
   "source": [
    "# Se agrupa la información según NIT EPS, NIT proveedor y periodo sumando el valor de VPagado y VCausado que corresponda a cada agrupación descrita\r\n",
    "FT005 = FT005.groupby(['NIT_EPS', 'Nitproveedor', pd.Grouper(key='periodo', freq='M')])[['VPagado', 'VCausado']].sum().reset_index()"
   ]
  },
  {
   "cell_type": "code",
   "execution_count": 17,
   "metadata": {},
   "outputs": [],
   "source": [
    "# Se prepara el dataframe para calcular la diferencia periodo a periodo (t+1 - t) respetando la agregación anterior\r\n",
    "FT005 = FT005.set_index('periodo').groupby(['NIT_EPS', 'Nitproveedor']).apply(lambda x: x.reindex(index=fecha_ideal, fill_value=0)).drop(['NIT_EPS', 'Nitproveedor'], 1).reset_index()"
   ]
  },
  {
   "cell_type": "code",
   "execution_count": 18,
   "metadata": {},
   "outputs": [],
   "source": [
    "# Se reemplazan los nombres de las columnas para facilitar el tratamiento\r\n",
    "FT005.rename(columns={'level_2': 'periodo'}, inplace=True)"
   ]
  },
  {
   "cell_type": "code",
   "execution_count": 19,
   "metadata": {},
   "outputs": [],
   "source": [
    "# Se establece el index (identificación) como NIT EPS, NIT proveedor y el periodo para cada observación\r\n",
    "FT005_dif = FT005.set_index(['NIT_EPS', 'Nitproveedor', 'periodo'])"
   ]
  },
  {
   "cell_type": "code",
   "execution_count": 20,
   "metadata": {},
   "outputs": [],
   "source": [
    "# Se calcula la diferencia mensual para conocer el valor mensual de cada cuenta ya que por defecto vienen agregadas (t+1 - t) y se llenan los espacios vacíos con ceros\r\n",
    "FT005_dif = FT005_dif.diff().fillna(0).reset_index()"
   ]
  },
  {
   "cell_type": "code",
   "execution_count": 21,
   "metadata": {},
   "outputs": [],
   "source": [
    "#  Se extrae el mes y el año para porterior left join con el agregado\r\n",
    "FT005_dif['Ano'] = FT005_dif['periodo'].dt.year\r\n",
    "FT005_dif['Mes'] = FT005_dif['periodo'].dt.month\r\n",
    "\r\n",
    "FT005['Ano'] = FT005['periodo'].dt.year\r\n",
    "FT005['Mes'] = FT005['periodo'].dt.month\r\n",
    "\r\n",
    "# Se eliminan las columnas que no son de interés\r\n",
    "FT005 = FT005.drop(['periodo'], axis=1)\r\n",
    "FT005_dif = FT005_dif.drop(['periodo'], axis=1)"
   ]
  },
  {
   "cell_type": "code",
   "execution_count": 23,
   "metadata": {},
   "outputs": [],
   "source": [
    "# Se reemplazan los valores de VPagado y VCausado para el mes 1 pues la idea es que estos valores no son la diferencia del mes 12 del año inmeditamente anterior. Es decir, el valor inicial de cada año es el de enero.\r\n",
    "FT005_dif.loc[FT005_dif['Mes'] == 1] = FT005"
   ]
  },
  {
   "cell_type": "code",
   "execution_count": 24,
   "metadata": {},
   "outputs": [],
   "source": [
    "# Se reemplazan los nombres de las columnas para facilitar el tratamiento\n",
    "FT005_dif.rename(columns={'VPagado': 'pagomes', 'VCausado': 'causmes'}, inplace=True)"
   ]
  },
  {
   "cell_type": "code",
   "execution_count": 25,
   "metadata": {},
   "outputs": [],
   "source": [
    "FT005_EPS = FT005_dif.groupby(['NIT_EPS', 'Mes', 'Ano']).agg({'causmes':'sum', 'pagomes':'sum'}).reset_index()\n",
    "#HASTA AQUI VAMOS BIEN"
   ]
  },
  {
   "cell_type": "code",
   "execution_count": 26,
   "metadata": {},
   "outputs": [],
   "source": [
    "# Se guarda un back up del FT005 antes de aplicar las diferencias\r\n",
    "# Para guardar la base de datos lista para ser tratada en formato Excel y CSV\r\n",
    "FT005_dif.to_csv(r'C:/Users/Miguel Angel/Documents/Supersalud/Pagos_EPS_Proveedores/FT005_dif_backup_3.csv', index = False, encoding='utf-8-sig')\r\n",
    "FT005.to_csv(r'C:/Users/Miguel Angel/Documents/Supersalud/Pagos_EPS_Proveedores/FT005_backup_3.csv', index = False, encoding='utf-8-sig')\r\n",
    "# feather\r\n",
    "feather.write_feather(FT005_dif, 'C:/Users/Miguel Angel/Documents/Supersalud/Pagos_EPS_Proveedores/FT005_dif_backup_feather_3')\r\n",
    "feather.write_feather(FT005, 'C:/Users/Miguel Angel/Documents/Supersalud/Pagos_EPS_Proveedores/FT005_backup_feather_3') # Esta línea guarda la base de datos en binario para optimizar el tiempo de cargay el espacio"
   ]
  },
  {
   "cell_type": "code",
   "execution_count": 27,
   "metadata": {},
   "outputs": [],
   "source": [
    "# Se sustituye el dataframe del FT005 para ahorrar espacio en la memoria\r\n",
    "FT005 = FT005_dif"
   ]
  },
  {
   "cell_type": "code",
   "execution_count": 32,
   "metadata": {},
   "outputs": [],
   "source": [
    "# Se eliminan los dataframes auxiliares para optimizar el procesamiento de la información\r\n",
    "del [FT005_dif, fecha_ideal, FT005_EPS, duplicadosFT005, df_filtered]"
   ]
  },
  {
   "cell_type": "code",
   "execution_count": null,
   "metadata": {},
   "outputs": [],
   "source": [
    "# Aquí se recupera el back up\r\n",
    "# FT005 = pd.read_feather('C:/Users/Miguel Angel/Documents/Supersalud/Pagos_EPS_Proveedores/FT005_dif_backup_feather_3')"
   ]
  },
  {
   "cell_type": "code",
   "execution_count": 31,
   "metadata": {},
   "outputs": [],
   "source": [
    "# Se agrupa la información de interés\r\n",
    "FT005 = FT005.groupby(['NIT_EPS', 'Nitproveedor', 'Ano', 'Mes']).agg({'pagomes':'sum', 'causmes':'sum'}).reset_index()"
   ]
  },
  {
   "cell_type": "code",
   "execution_count": 34,
   "metadata": {},
   "outputs": [],
   "source": [
    "# Se carga la base de datos webgironoupc para pegarla con el FT005\n",
    "webgironoupc = pd.read_excel('C:/Users/Miguel Angel/Documents/Supersalud/Pagos_EPS_Proveedores/GD_UPC_CC_PW_2020_ENEABR2021_V2.xlsx', dtype={'NIT_EPS':object, 'Nitproveedor': object, 'Mes':object, 'Ano':object}) "
   ]
  },
  {
   "cell_type": "code",
   "execution_count": 35,
   "metadata": {},
   "outputs": [],
   "source": [
    "# Se convierte la variable mes y año como STR\r\n",
    "webgironoupc[['Ano', 'Mes']] = webgironoupc[['Ano', 'Mes']].astype(float).astype(int).astype(str)\r\n",
    "FT005[['Ano', 'Mes']] = FT005[['Ano', 'Mes']].astype(float).astype(int).astype(str)"
   ]
  },
  {
   "cell_type": "code",
   "execution_count": 36,
   "metadata": {},
   "outputs": [],
   "source": [
    "# Se convierte la variable Nitproveedor como STR\r\n",
    "webgironoupc[['Nitproveedor']] = webgironoupc[['Nitproveedor']].astype(str)\r\n",
    "FT005[['Nitproveedor']] = FT005[['Nitproveedor']].astype(str)"
   ]
  },
  {
   "cell_type": "code",
   "execution_count": 37,
   "metadata": {},
   "outputs": [],
   "source": [
    "# Se agrupa la información por NIT EPS, NIT proveedor, mes y año para la base de webgironoupc\r\n",
    "webgironoupc = webgironoupc.groupby(['NIT_EPS', 'Nitproveedor', 'Ano', 'Mes']).agg({'Giro':'sum', 'No_UPC':'sum', 'Compra_Cartera':'sum', 'PW':'sum'}).reset_index()"
   ]
  },
  {
   "cell_type": "code",
   "execution_count": 38,
   "metadata": {},
   "outputs": [],
   "source": [
    "# Se convierte la variable año, mes y Nitproveedor como STR\r\n",
    "webgironoupc[['Ano', 'Mes']] = webgironoupc[['Ano', 'Mes']].astype(float).astype(int).astype(str)\r\n",
    "webgironoupc[['Nitproveedor']] = webgironoupc[['Nitproveedor']].astype(str)"
   ]
  },
  {
   "cell_type": "code",
   "execution_count": 39,
   "metadata": {},
   "outputs": [],
   "source": [
    "# Se unen las dos bases de datos para obtener la información de webgironoupc (Giro Directo - No_UPC - Compra de Cartera) y FT005 en una sola base de datos\r\n",
    "FT005 = pd.merge(FT005, webgironoupc, how='outer', left_on=['NIT_EPS', 'Nitproveedor', 'Mes', 'Ano'], right_on=['NIT_EPS', 'Nitproveedor', 'Mes', 'Ano'])"
   ]
  },
  {
   "cell_type": "code",
   "execution_count": 42,
   "metadata": {},
   "outputs": [],
   "source": [
    "# Se eliminan los dataframes auxiliares para optimizar el procesamiento de la información\r\n",
    "del [webgironoupc, FT005_EPS]"
   ]
  },
  {
   "cell_type": "code",
   "execution_count": 44,
   "metadata": {},
   "outputs": [],
   "source": [
    "# Se renombran las columnas de interés\r\n",
    "FT005.rename(columns={'NIT_EPS': 'nit_eps', 'Nitproveedor': 'nitproveedor', 'Ano': 'ano', 'Mes': 'mes', 'PW': 'pw', 'Giro': 'giro', 'No_UPC': 'no_upc', 'Compra_Cartera': 'compra_cartera'}, inplace=True)"
   ]
  },
  {
   "cell_type": "code",
   "execution_count": 47,
   "metadata": {},
   "outputs": [],
   "source": [
    "# Se agrupa la información según NIT EPS, NIT proveedor, ano y mes\r\n",
    "FT005 = FT005.groupby(['nit_eps', 'nitproveedor', 'ano', 'mes',]).agg({'pagomes':'sum', 'causmes':'sum', 'giro':'sum', 'no_upc':'sum', 'compra_cartera':'sum', 'pw':'sum'}).reset_index()"
   ]
  },
  {
   "cell_type": "code",
   "execution_count": 49,
   "metadata": {},
   "outputs": [],
   "source": [
    "# Se convierte la variable NIT EPS, año y mes como STR\r\n",
    "FT005[['nit_eps', 'mes', 'ano']] = FT005[['nit_eps', 'mes', 'ano']].astype(str)"
   ]
  },
  {
   "cell_type": "code",
   "execution_count": 50,
   "metadata": {},
   "outputs": [],
   "source": [
    "# Guardar la base de datos lista para ser tratada en formato Excel y CSV\r\n",
    "# FT005.to_excel(r'C:/Users/Miguel Angel/Documents/Supersalud/Pagos_EPS_Proveedores/CausaPrestador_2020_2021.xlsx', index = False)\r\n",
    "FT005.to_csv(r'C:/Users/Miguel Angel/Documents/Supersalud/Pagos_EPS_Proveedores/CausaPrestador_2020_eneabr_2021_V1.csv', index = False, encoding='utf-8-sig')"
   ]
  },
  {
   "cell_type": "code",
   "execution_count": 53,
   "metadata": {},
   "outputs": [],
   "source": [
    "FT005_EPS = FT005.groupby(['nit_eps', 'mes', 'ano']).agg({'pagomes':'sum', 'causmes':'sum', 'giro':'sum', 'no_upc':'sum', 'compra_cartera':'sum', 'pw':'sum'}).reset_index()\r\n",
    "# #HASTA AQUI VAMOS BIEN"
   ]
  },
  {
   "cell_type": "code",
   "execution_count": null,
   "metadata": {},
   "outputs": [],
   "source": [
    "# Se eliminan la bases que no se necesitan para liberar espacio en la memoria\r\n",
    "del [FT005, FT005_EPS]"
   ]
  }
 ],
 "metadata": {
  "interpreter": {
   "hash": "b3ba2566441a7c06988d0923437866b63cedc61552a5af99d1f4fb67d367b25f"
  },
  "kernelspec": {
   "display_name": "Python 3.8.5 64-bit ('base': conda)",
   "name": "python3"
  },
  "language_info": {
   "codemirror_mode": {
    "name": "ipython",
    "version": 3
   },
   "file_extension": ".py",
   "mimetype": "text/x-python",
   "name": "python",
   "nbconvert_exporter": "python",
   "pygments_lexer": "ipython3",
   "version": "3.8.5"
  }
 },
 "nbformat": 4,
 "nbformat_minor": 4
}