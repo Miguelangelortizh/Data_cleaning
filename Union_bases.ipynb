{
 "cells": [
  {
   "cell_type": "markdown",
   "metadata": {},
   "source": [
    "<h2>Unión de todas las bases </h2>\n",
    "<p> En este apartado se tratan todas las bases para generar la unión de todas las bases</p>"
   ]
  },
  {
   "cell_type": "code",
   "execution_count": null,
   "metadata": {},
   "outputs": [],
   "source": [
    "#Cargamos los paquetes que vamos a necesitar\n",
    "import pandas as pd\n",
    "import numpy as np\n",
    "import pyreadstat\n",
    "import pyarrow.feather as feather\n",
    "pd.pandas.set_option('display.max_columns', None)"
   ]
  },
  {
   "cell_type": "code",
   "execution_count": null,
   "metadata": {},
   "outputs": [],
   "source": [
    "# Se carga el archivo tratado del FT004 que fue grabado como Cartera Prestador\n",
    "FT004 = pd.read_csv('C:/Users/Miguel Angel/Documents/Supersalud/Pagos_EPS_Proveedores/carteraprestador_2020_2021_V2.csv', encoding='utf-8-sig', dtype={'nit_eps':object, 'nitproveedor': object, 'noID': object, 'departamento': object, 'ano': object, 'mes': object})\n"
   ]
  },
  {
   "cell_type": "code",
   "execution_count": null,
   "metadata": {},
   "outputs": [],
   "source": [
    "# Se filtra el dataframe con las observaciones que cumplen las condiciones\n",
    "FT004_V2 = FT004[\n",
    "    (FT004['nitproveedor'] == '837000084')\n",
    "    ]"
   ]
  },
  {
   "cell_type": "code",
   "execution_count": null,
   "metadata": {},
   "outputs": [],
   "source": [
    "#noID_FT004 = FT004.groupby(['nitproveedor', 'noID']).agg({'CXP':'sum'}).reset_index()"
   ]
  },
  {
   "cell_type": "code",
   "execution_count": null,
   "metadata": {},
   "outputs": [],
   "source": [
    "# noID_FT004.to_excel(r'C:/Users/Miguel Angel/Documents/Supersalud/Pagos_EPS_Proveedores/noID_FT004.xlsx', index = False)"
   ]
  },
  {
   "cell_type": "code",
   "execution_count": null,
   "metadata": {},
   "outputs": [],
   "source": [
    "#del [noID_FT004]"
   ]
  },
  {
   "cell_type": "code",
   "execution_count": null,
   "metadata": {},
   "outputs": [],
   "source": [
    "# Para eliminar todos los espacios \n",
    "FT004['nit_eps'] = FT004['nit_eps'].str.replace(\" \", \"\")\n",
    "FT004['nitproveedor'] = FT004['nitproveedor'].str.replace(\" \", \"\")"
   ]
  },
  {
   "cell_type": "code",
   "execution_count": null,
   "metadata": {},
   "outputs": [],
   "source": [
    "FT004 = FT004.groupby(['nit_eps', 'nitproveedor', 'ano', 'mes',]).agg({'CXP':'sum', 'DCXPmes':'sum'}).reset_index()"
   ]
  },
  {
   "cell_type": "code",
   "execution_count": null,
   "metadata": {},
   "outputs": [],
   "source": [
    "# Se carga el archivo tratado del FT003 que fue grabado como cxcprestador\n",
    "FT003 = pd.read_csv('C:/Users/Miguel Angel/Documents/Supersalud/Pagos_EPS_Proveedores/cxcprestador_2020_2021.csv', encoding='utf-8-sig', dtype={'nit_eps':object, 'nitproveedor': object, 'noID': object, 'departamento': object, 'ano': object, 'mes': object})"
   ]
  },
  {
   "cell_type": "code",
   "execution_count": null,
   "metadata": {},
   "outputs": [],
   "source": [
    "# Se filtra el dataframe con las observaciones que cumplen las condiciones\n",
    "FT004_V2 = FT003[\n",
    "    (FT003['nitproveedor'] == '837000084')\n",
    "    ]"
   ]
  },
  {
   "cell_type": "code",
   "execution_count": null,
   "metadata": {},
   "outputs": [],
   "source": [
    "#noID_FT003 = FT003.groupby(['nitproveedor', 'noID']).agg({'CXC':'sum'}).reset_index()"
   ]
  },
  {
   "cell_type": "code",
   "execution_count": null,
   "metadata": {},
   "outputs": [],
   "source": [
    "# noID_FT003.to_excel(r'C:/Users/Miguel Angel/Documents/Supersalud/Pagos_EPS_Proveedores/noID_FT003.xlsx', index = False)"
   ]
  },
  {
   "cell_type": "code",
   "execution_count": null,
   "metadata": {},
   "outputs": [],
   "source": [
    "#del [noID_FT003]"
   ]
  },
  {
   "cell_type": "code",
   "execution_count": null,
   "metadata": {},
   "outputs": [],
   "source": [
    "# Para eliminar todos los espacios \n",
    "FT003['nit_eps'] = FT003['nit_eps'].str.replace(\" \", \"\")\n",
    "FT003['nitproveedor'] = FT003['nitproveedor'].str.replace(\" \", \"\")"
   ]
  },
  {
   "cell_type": "code",
   "execution_count": null,
   "metadata": {},
   "outputs": [],
   "source": [
    "FT003 = FT003.groupby(['nit_eps', 'nitproveedor', 'ano', 'mes',]).agg({'CXC':'sum', 'DCXCmes':'sum'}).reset_index()"
   ]
  },
  {
   "cell_type": "code",
   "execution_count": null,
   "metadata": {},
   "outputs": [],
   "source": [
    "# # Se eliminan las columnas que no son de interés\n",
    "# FT003 = FT003.drop(['index'], axis=1)\n",
    "# FT004 = FT004.drop(['index'], axis=1)"
   ]
  },
  {
   "cell_type": "code",
   "execution_count": null,
   "metadata": {},
   "outputs": [],
   "source": [
    "# Se unen las dos bases de datos para obtener la información de FT004 y FT003 en una sola base de datos\n",
    "FT004_FT003 = pd.merge(FT004, FT003, how='outer', left_on=['nit_eps', 'nitproveedor', 'ano', 'mes'], right_on=['nit_eps', 'nitproveedor', 'ano', 'mes'], indicator=True)"
   ]
  },
  {
   "cell_type": "code",
   "execution_count": null,
   "metadata": {},
   "outputs": [],
   "source": [
    "# FT004_FT003[['ano', 'mes']] = FT004_FT003[['ano', 'mes']].astype(float).astype(int).astype(str)"
   ]
  },
  {
   "cell_type": "code",
   "execution_count": null,
   "metadata": {},
   "outputs": [],
   "source": [
    "# Se reemplazan los nombres de las columnas para facilitar el tratamiento\n",
    "FT004_FT003.rename(columns={'_merge': 'FT004_FT003'}, inplace=True)"
   ]
  },
  {
   "cell_type": "code",
   "execution_count": null,
   "metadata": {},
   "outputs": [],
   "source": [
    "# Se carga el archivo tratado del FT005 que fue grabado como causaprestador\n",
    "FT005 = pd.read_csv('C:/Users/Miguel Angel/Documents/Supersalud/Pagos_EPS_Proveedores/CausaPrestador_2020_2021_V2.csv', encoding='utf-8-sig', dtype={'nit_eps':object, 'nitproveedor': object, 'noID': object, 'departamento': object, 'ano': object, 'mes': object})"
   ]
  },
  {
   "cell_type": "code",
   "execution_count": null,
   "metadata": {},
   "outputs": [],
   "source": [
    "# Se filtra el dataframe con las observaciones que cumplen las condiciones\n",
    "FT004_V2 = FT005[\n",
    "    (FT005['nitproveedor'] == '837000084')\n",
    "    ]"
   ]
  },
  {
   "cell_type": "code",
   "execution_count": null,
   "metadata": {},
   "outputs": [],
   "source": [
    "# Se reemplazan los nombres de las columnas para facilitar el tratamiento\n",
    "# FT005.rename(columns={'ï»¿nit_eps': 'nit_eps'}, inplace=True)\n",
    "# Se convierte la variable en mes y año\n",
    "# FT005[['nit_eps']] = FT005[['nit_eps']].astype(str)"
   ]
  },
  {
   "cell_type": "code",
   "execution_count": null,
   "metadata": {},
   "outputs": [],
   "source": [
    "# Se unen las dos bases de datos para obtener la información de FT004 y FT003 en una sola base de datos\n",
    "FT004_FT003_FT005 = pd.merge(FT004_FT003, FT005, how='outer', left_on=['nit_eps', 'nitproveedor', 'ano', 'mes'], right_on=['nit_eps', 'nitproveedor', 'ano', 'mes'], indicator=True)"
   ]
  },
  {
   "cell_type": "code",
   "execution_count": null,
   "metadata": {},
   "outputs": [],
   "source": [
    "# Se eliminan los NIT EPS nulos\n",
    "FT004_FT003_FT005.dropna(subset=['nit_eps'], inplace=True)"
   ]
  },
  {
   "cell_type": "code",
   "execution_count": null,
   "metadata": {},
   "outputs": [],
   "source": [
    "del [FT003, FT004, FT004_FT003, FT005, FT004_V2]"
   ]
  },
  {
   "cell_type": "code",
   "execution_count": null,
   "metadata": {},
   "outputs": [],
   "source": [
    "FT004_FT003_FT005.columns"
   ]
  },
  {
   "cell_type": "code",
   "execution_count": null,
   "metadata": {},
   "outputs": [],
   "source": [
    "# Aquí se pegan las columnas de noID que corresponden al share point de EAPB\n",
    "# Para concatenar la base de datos de noID y departamento 2020\n",
    "EPS = pd.read_excel('C:/Users/Miguel Angel/Documents/Supersalud/Pagos_EPS_Proveedores/Reg_EAPB.xlsx', dtype=str)"
   ]
  },
  {
   "cell_type": "code",
   "execution_count": null,
   "metadata": {},
   "outputs": [],
   "source": [
    "EPS.info()"
   ]
  },
  {
   "cell_type": "code",
   "execution_count": null,
   "metadata": {},
   "outputs": [],
   "source": [
    "#Recuerda cargar de nuevo el noID modificado"
   ]
  },
  {
   "cell_type": "code",
   "execution_count": null,
   "metadata": {},
   "outputs": [],
   "source": [
    "# Se unen las dos bases de datos para obtener la información de FT004, FT003, FT005 y la base de datos noID en una sola base de datos\n",
    "FT004_FT003_FT005 = pd.merge(FT004_FT003_FT005, EPS, how='left', left_on=['nitproveedor'], right_on=['Nit'])"
   ]
  },
  {
   "cell_type": "code",
   "execution_count": null,
   "metadata": {},
   "outputs": [],
   "source": [
    "FT004_FT003_FT005.Reg_EAPB.value_counts()"
   ]
  },
  {
   "cell_type": "code",
   "execution_count": null,
   "metadata": {},
   "outputs": [],
   "source": [
    "# Se reemplazan los nombres de las columnas para facilitar el tratamiento\n",
    "# noID.rename(columns={'Nitproveedor': 'nitproveedor'}, inplace=True)\n",
    "# noID.columns\n",
    "\n",
    "# Se unen las dos bases de datos para obtener la información de FT004, FT003, FT005 y la base de datos noID en una sola base de datos\n",
    "# FT004_FT003_FT005 = pd.merge(FT004_FT003_FT005, noID, how='left', left_on=['nitproveedor'], right_on=['nitproveedor'])"
   ]
  },
  {
   "cell_type": "code",
   "execution_count": null,
   "metadata": {},
   "outputs": [],
   "source": [
    "# Se eliminan la bases que no se necesitan para liberar espacio en la memoria\n",
    "# del [FT003, FT004, FT004_FT003, FT005, noID]"
   ]
  },
  {
   "cell_type": "code",
   "execution_count": null,
   "metadata": {},
   "outputs": [],
   "source": [
    "del [EPS]"
   ]
  },
  {
   "cell_type": "code",
   "execution_count": null,
   "metadata": {},
   "outputs": [],
   "source": [
    "# AQUI INICIAN LAS PRUEBAS"
   ]
  },
  {
   "cell_type": "code",
   "execution_count": null,
   "metadata": {},
   "outputs": [],
   "source": [
    "# Se carga la base de datos prestadores.dta para su posterior pega\n",
    "prestadores = pd.read_excel('C:/Users/Miguel Angel/Documents/Supersalud/Pagos_EPS_Proveedores/prestadores.xls', dtype=str)"
   ]
  },
  {
   "cell_type": "code",
   "execution_count": null,
   "metadata": {},
   "outputs": [],
   "source": [
    "# Se eliminan las columnas que no son de interés\n",
    "prestadores = prestadores.drop(['clpr_codigo', 'naju_nombre'], axis=1)"
   ]
  },
  {
   "cell_type": "code",
   "execution_count": null,
   "metadata": {},
   "outputs": [],
   "source": [
    "# Se unen las dos bases de datos para obtener la información de FT004_FT003_FT005 y prestadores\n",
    "FT004_FT003_FT005 = pd.merge(FT004_FT003_FT005, prestadores, how='left', left_on=['nitproveedor'], right_on=['nitproveedor'])"
   ]
  },
  {
   "cell_type": "code",
   "execution_count": null,
   "metadata": {},
   "outputs": [],
   "source": [
    "del [prestadores]"
   ]
  },
  {
   "cell_type": "code",
   "execution_count": null,
   "metadata": {
    "scrolled": true
   },
   "outputs": [],
   "source": [
    "FT004_FT003_FT005.columns"
   ]
  },
  {
   "cell_type": "code",
   "execution_count": null,
   "metadata": {},
   "outputs": [],
   "source": [
    "noID = FT004_FT003_FT005['clpr_nombre'].astype(str).fillna('NA') + \"-\" + FT004_FT003_FT005['Reg_EAPB'].astype(str).fillna('NA')"
   ]
  },
  {
   "cell_type": "code",
   "execution_count": null,
   "metadata": {},
   "outputs": [],
   "source": [
    "#FT004_FT003_FT005['noID2'] = FT004_FT003_FT005[['clpr_nombre', 'Reg_EAPB']].agg('-'.join, axis=1)"
   ]
  },
  {
   "cell_type": "code",
   "execution_count": null,
   "metadata": {},
   "outputs": [],
   "source": [
    "# Se crea la columna noID respecto a concatenar las columnas Reg_EAPB y clpr_nombre\n",
    "FT004_FT003_FT005['noID']=noID"
   ]
  },
  {
   "cell_type": "code",
   "execution_count": null,
   "metadata": {},
   "outputs": [],
   "source": [
    "# Se crea la columna noID respecto a clpr_nombre\n",
    "# RECORDAR QUE ESTE SE HACE SOLO PARA LA AGREGACIÓN CON DANIEL\n",
    "FT004_FT003_FT005['noID']=FT004_FT003_FT005['clpr_nombre'].astype(str)"
   ]
  },
  {
   "cell_type": "code",
   "execution_count": null,
   "metadata": {
    "scrolled": true
   },
   "outputs": [],
   "source": [
    "FT004_FT003_FT005.noID.value_counts()"
   ]
  },
  {
   "cell_type": "code",
   "execution_count": null,
   "metadata": {},
   "outputs": [],
   "source": [
    "del [noID]"
   ]
  },
  {
   "cell_type": "code",
   "execution_count": null,
   "metadata": {},
   "outputs": [],
   "source": [
    "#FT004_FT003_FT005.loc[FT004_FT003_FT005['noID'].isnull(), 'noID'] = FT004_FT003_FT005['clpr_nombre']  # Para rellenar los vacios con \"clpr_nombre\""
   ]
  },
  {
   "cell_type": "code",
   "execution_count": null,
   "metadata": {},
   "outputs": [],
   "source": [
    "# Se carga la base de datos operadores.dta para su posterior pega\n",
    "operadores = pd.read_stata('C:/Users/Miguel Angel/Documents/Supersalud/Pagos_EPS_Proveedores/operadores.dta')"
   ]
  },
  {
   "cell_type": "code",
   "execution_count": null,
   "metadata": {},
   "outputs": [],
   "source": [
    "# Se unen las dos bases de datos para obtener la información de FT005 con webgironoupc (Giro Directo - No_UPC - Compra de Cartera) y prestadores\n",
    "FT004_FT003_FT005= pd.merge(FT004_FT003_FT005, operadores, how='left', left_on=['nitproveedor'], right_on=['nitproveedor'])"
   ]
  },
  {
   "cell_type": "code",
   "execution_count": null,
   "metadata": {},
   "outputs": [],
   "source": [
    "# Se reemplazan los nombres de las columnas para facilitar el tratamiento\n",
    "# Se eliminan las columnas que no son de interés\n",
    "#FT004_FT003_FT005 = FT004_FT003_FT005.drop(['razonsocial_y', 'tipo_y'], axis=1)\n",
    "#FT004_FT003_FT005.rename(columns={'razonsocial_x': 'razonsocial', 'tipo_x': 'tipo'}, inplace=True)"
   ]
  },
  {
   "cell_type": "code",
   "execution_count": null,
   "metadata": {
    "scrolled": true
   },
   "outputs": [],
   "source": [
    "FT004_FT003_FT005.columns"
   ]
  },
  {
   "cell_type": "code",
   "execution_count": null,
   "metadata": {},
   "outputs": [],
   "source": [
    "# Aquí se quitan los nan-\n",
    "FT004_FT003_FT005['noID'] = FT004_FT003_FT005['noID'].str.replace('nan-','')"
   ]
  },
  {
   "cell_type": "code",
   "execution_count": null,
   "metadata": {},
   "outputs": [],
   "source": [
    "# Aquí se quitan los -nan\n",
    "FT004_FT003_FT005['noID'] = FT004_FT003_FT005['noID'].str.replace('-nan','')"
   ]
  },
  {
   "cell_type": "code",
   "execution_count": null,
   "metadata": {},
   "outputs": [],
   "source": [
    "# Para corregir el IPS cuando Tipo es vacío, por IPS-OL-DM-GIM\n",
    "FT004_FT003_FT005.loc[(FT004_FT003_FT005['noID'] == 'IPS') & \n",
    "       (FT004_FT003_FT005['tipo'].notnull()), \n",
    "       'noID'] = 'IPS-OL-DM-GIM'"
   ]
  },
  {
   "cell_type": "code",
   "execution_count": null,
   "metadata": {},
   "outputs": [],
   "source": [
    "# Se genera una nueva columna extrayendo el primer caracter del ID nitproveedor\n",
    "FT004_FT003_FT005['d1'] = FT004_FT003_FT005['nitproveedor'].str[:1]\n",
    "\n",
    "# Se genera una nueva columna con la cuenta del numero de componentes que tiene el ID nitproveedor\n",
    "FT004_FT003_FT005['largo'] = FT004_FT003_FT005.nitproveedor.str.len()"
   ]
  },
  {
   "cell_type": "code",
   "execution_count": null,
   "metadata": {},
   "outputs": [],
   "source": [
    "# Se limpia la clasificación por Tipo de acreedor\n",
    "FT004_FT003_FT005['tipoid'] = 'NA' # Se crea la columna con categoria NA como base\n",
    "# Condiciones\n",
    "FT004_FT003_FT005.loc[\n",
    "       (FT004_FT003_FT005['tipoid'] == 'NA') &\n",
    "       (FT004_FT003_FT005['largo'] == 10) & # Para signar el tipo de acreedor CC\n",
    "       (FT004_FT003_FT005['d1'] == '1'), \n",
    "       'tipoid'] = 'CC' \n",
    "FT004_FT003_FT005.loc[(FT004_FT003_FT005['tipoid'] == 'NA') &\n",
    "       (FT004_FT003_FT005['largo'] == 9) & # Para signar el tipo de acreedor NI\n",
    "       ((FT004_FT003_FT005['d1'] == '7') |\n",
    "       (FT004_FT003_FT005['d1'] == '8') |\n",
    "       (FT004_FT003_FT005['d1'] == '9')),  \n",
    "       'tipoid'] = 'NI' \n",
    "FT004_FT003_FT005.loc[(FT004_FT003_FT005['tipoid'] == 'NA') &\n",
    "       (FT004_FT003_FT005['tipoid'] != 'NI'), # Para completar el tipo de acreedor CC\n",
    "       'tipoid'] = 'CC' "
   ]
  },
  {
   "cell_type": "code",
   "execution_count": null,
   "metadata": {},
   "outputs": [],
   "source": [
    "# Se filtra el dataframe con las observaciones que cumplen las condiciones\n",
    "FT004_V2 = FT004_FT003_FT005[\n",
    "    (FT004_FT003_FT005['nitproveedor'] == '901037916')\n",
    "    ]"
   ]
  },
  {
   "cell_type": "code",
   "execution_count": null,
   "metadata": {},
   "outputs": [],
   "source": [
    "FT004_V2.head(5)"
   ]
  },
  {
   "cell_type": "code",
   "execution_count": null,
   "metadata": {},
   "outputs": [],
   "source": [
    "# Se reemplazan los NIT de la nación\n",
    "FT004_FT003_FT005.loc[(FT004_FT003_FT005['nitproveedor'] == \"901037916\") | \n",
    "       (FT004_FT003_FT005['nitproveedor'] == \"900047282\") |\n",
    "       (FT004_FT003_FT005['nitproveedor'] == \"899999014\") |\n",
    "       (FT004_FT003_FT005['nitproveedor'] == \"900474727\") |\n",
    "       (FT004_FT003_FT005['nitproveedor'] == \"900462447\"),  \n",
    "       'noID'] = 'Nacion'"
   ]
  },
  {
   "cell_type": "code",
   "execution_count": null,
   "metadata": {},
   "outputs": [],
   "source": [
    "# Se filtra el dataframe con las observaciones que cumplen las condiciones\n",
    "FT004_V2 = FT004_FT003_FT005[\n",
    "    (FT004_FT003_FT005['nitproveedor'] == '901037916')\n",
    "    ]"
   ]
  },
  {
   "cell_type": "code",
   "execution_count": null,
   "metadata": {
    "scrolled": true
   },
   "outputs": [],
   "source": [
    "FT004_V2.head(5)"
   ]
  },
  {
   "cell_type": "code",
   "execution_count": null,
   "metadata": {},
   "outputs": [],
   "source": [
    "# feather\n",
    "feather.write_feather(FT004_FT003_FT005, 'C:/Users/Miguel Angel/Documents/Supersalud/Pagos_EPS_Proveedores/FT004_FT003_FT005_backup_feather') # Esta línea guarda la base de datos en binario "
   ]
  },
  {
   "cell_type": "code",
   "execution_count": null,
   "metadata": {},
   "outputs": [],
   "source": []
  },
  {
   "cell_type": "code",
   "execution_count": null,
   "metadata": {
    "scrolled": true
   },
   "outputs": [],
   "source": [
    "FT004_FT003_FT005.noID.value_counts()"
   ]
  },
  {
   "cell_type": "code",
   "execution_count": null,
   "metadata": {},
   "outputs": [],
   "source": [
    "# Se reemplazan los NIT de la nación\n",
    "FT004_FT003_FT005.loc[(FT004_FT003_FT005['noID'] == \"nan\") & \n",
    "       (FT004_FT003_FT005['tipo'].notnull()), \n",
    "       'noID'] = FT004_FT003_FT005['tipo']"
   ]
  },
  {
   "cell_type": "code",
   "execution_count": null,
   "metadata": {
    "scrolled": false
   },
   "outputs": [],
   "source": [
    "FT004_FT003_FT005.noID.value_counts()"
   ]
  },
  {
   "cell_type": "code",
   "execution_count": null,
   "metadata": {},
   "outputs": [],
   "source": [
    "# Para cambiar el noID por Persona Natural si en Tipo Proveedor se tiene CC y CE\n",
    "FT004_FT003_FT005.loc[(FT004_FT003_FT005['noID'] == 'nan') & \n",
    "       ((FT004_FT003_FT005['tipoid'] == 'CC') |\n",
    "       (FT004_FT003_FT005['tipoid'] == 'CE')), \n",
    "       'noID'] = 'Persona Natural'"
   ]
  },
  {
   "cell_type": "code",
   "execution_count": null,
   "metadata": {
    "scrolled": false
   },
   "outputs": [],
   "source": [
    "FT004_FT003_FT005.noID.value_counts()"
   ]
  },
  {
   "cell_type": "code",
   "execution_count": null,
   "metadata": {
    "scrolled": true
   },
   "outputs": [],
   "source": [
    "FT004_FT003_FT005.columns"
   ]
  },
  {
   "cell_type": "code",
   "execution_count": null,
   "metadata": {},
   "outputs": [],
   "source": [
    "# feather\n",
    "feather.write_feather(FT004_FT003_FT005, 'C:/Users/Miguel Angel/Documents/Supersalud/Pagos_EPS_Proveedores/FT004_FT003_FT005_backup_feather_4') # Esta línea guarda la base de datos en binario \n",
    "FT004_FT003_FT005.to_csv(r'C:/Users/Miguel Angel/Documents/Supersalud/Pagos_EPS_Proveedores/FT004_FT003_FT005_backup_4.csv', index = False, encoding='utf-8-sig')"
   ]
  },
  {
   "cell_type": "code",
   "execution_count": null,
   "metadata": {},
   "outputs": [],
   "source": [
    "# Aquí se recupera el back up\n",
    "#FT004_FT003_FT005 = pd.read_feather('C:/Users/Miguel Angel/Documents/Supersalud/Pagos_EPS_Proveedores/FT004_FT003_FT005_backup_feather_2')"
   ]
  },
  {
   "cell_type": "code",
   "execution_count": null,
   "metadata": {},
   "outputs": [],
   "source": [
    "# Se carga la base de datos RUES.dta para su posterior pega\n",
    "# RUES = pd.read_stata('C:/Users/Miguel Angel/Documents/Supersalud/Pagos_EPS_Proveedores/RUES_V2.dta')"
   ]
  },
  {
   "cell_type": "code",
   "execution_count": null,
   "metadata": {},
   "outputs": [],
   "source": [
    "#OTRO A LOS NOID NULOS\n",
    "FT004_FT003_FT005.loc[FT004_FT003_FT005['noID'] == 'nan', 'noID'] = 'Otro'"
   ]
  },
  {
   "cell_type": "code",
   "execution_count": null,
   "metadata": {
    "scrolled": true
   },
   "outputs": [],
   "source": [
    "FT004_FT003_FT005.noID.value_counts()"
   ]
  },
  {
   "cell_type": "code",
   "execution_count": null,
   "metadata": {},
   "outputs": [],
   "source": [
    "FT004_FT003_FT005.columns"
   ]
  },
  {
   "cell_type": "code",
   "execution_count": null,
   "metadata": {},
   "outputs": [],
   "source": [
    "# OJO CON ESTA LÍNEA, SE DEBE AGREGAR QUE PERONSA NATURAL DEL NOID ESTÉ BIEN ESCRITA\n",
    "\n",
    "# Se reemplaza el noID de EPS por otros\n",
    "FT004_FT003_FT005.loc[(FT004_FT003_FT005['nitproveedor'] == FT004_FT003_FT005['nit_eps']), \n",
    "       'noID'] = 'Otro'\n",
    "\n",
    "FT004_FT003_FT005.loc[(FT004_FT003_FT005['noID'] == 'Persona Natural'), \n",
    "       'nitproveedor'] = '123456789'"
   ]
  },
  {
   "cell_type": "code",
   "execution_count": null,
   "metadata": {},
   "outputs": [],
   "source": [
    "# Se filtra el dataframe con las observaciones que cumplen las condiciones\n",
    "FT004_V2 = FT004_FT003_FT005[\n",
    "    (FT004_FT003_FT005['nombre_prestador'].isnull())\n",
    "    ]"
   ]
  },
  {
   "cell_type": "code",
   "execution_count": null,
   "metadata": {},
   "outputs": [],
   "source": [
    "del [FT004_V2]"
   ]
  },
  {
   "cell_type": "markdown",
   "metadata": {},
   "source": [
    "<p>--------------------------</p>"
   ]
  },
  {
   "cell_type": "code",
   "execution_count": null,
   "metadata": {},
   "outputs": [],
   "source": [
    "# Para hacer la suma de CXC por NIT EPS, tipo de proveedor, NIT proveedor, Mes y Año\n",
    "FT004_FT003_FT005_tercero = FT004_FT003_FT005.groupby(['nit_eps', 'nitproveedor', 'noID', 'mes', 'ano']).agg({'CXP':'sum', 'DCXPmes':'sum', 'CXC':'sum', 'DCXCmes':'sum', 'pw':'sum', 'giro':'sum', 'no_upc':'sum', 'compra_cartera':'sum', 'causmes':'sum', 'pagomes':'sum'}).reset_index()\n",
    "# AQUÍ TODO ESTÁ BIEN"
   ]
  },
  {
   "cell_type": "code",
   "execution_count": null,
   "metadata": {},
   "outputs": [],
   "source": [
    "FT004_FT003_FT005_EPS = FT004_FT003_FT005.groupby(['nit_eps', 'mes', 'ano']).agg({'CXP':'sum', 'DCXPmes':'sum', 'CXC':'sum', 'DCXCmes':'sum', 'pw':'sum', 'giro':'sum', 'no_upc':'sum', 'compra_cartera':'sum', 'causmes':'sum', 'pagomes':'sum'}).reset_index()\n",
    "# HASTA AQUÍ VAMOS BIEN"
   ]
  },
  {
   "cell_type": "code",
   "execution_count": null,
   "metadata": {},
   "outputs": [],
   "source": [
    "FT004_FT003_FT005.columns"
   ]
  },
  {
   "cell_type": "code",
   "execution_count": null,
   "metadata": {},
   "outputs": [],
   "source": [
    "# Se reemplazan los nombres de las columnas para facilitar el tratamiento\n",
    "FT004_FT003_FT005.rename(columns={'_merge': 'FT004_FT003_FT005'}, inplace=True)"
   ]
  },
  {
   "cell_type": "code",
   "execution_count": null,
   "metadata": {},
   "outputs": [],
   "source": [
    "# Se carga el archivo tratado del FT005 que fue grabado como causaprestador\n",
    "analisis = pd.read_stata('C:/Users/Miguel Angel/Documents/Supersalud/Pagos_EPS_Proveedores/analisis.dta')"
   ]
  },
  {
   "cell_type": "code",
   "execution_count": null,
   "metadata": {},
   "outputs": [],
   "source": [
    "# Se reemplazan los nombres de las columnas para facilitar el tratamiento\n",
    "analisis.rename(columns={'nit': 'nit_eps'}, inplace=True)\n",
    "# Se convierte la variable en str para facilitar su manipulación\n",
    "analisis[['nit_eps', 'tipo']] = analisis[['nit_eps', 'tipo']].astype(str)"
   ]
  },
  {
   "cell_type": "code",
   "execution_count": null,
   "metadata": {},
   "outputs": [],
   "source": [
    "# Se unen las dos bases de datos para obtener la información de FT004, FT003, FT005 y la base de datos Analisis en una sola base de datos\n",
    "FT004_FT003_FT005 = pd.merge(FT004_FT003_FT005, analisis, how='left', left_on=['nit_eps'], right_on=['nit_eps'])"
   ]
  },
  {
   "cell_type": "code",
   "execution_count": null,
   "metadata": {
    "scrolled": true
   },
   "outputs": [],
   "source": [
    "# Se eliminan la bases que no se necesitan para liberar espacio en la memoria\n",
    "del [analisis,FT004_FT003_FT005_EPS, FT004_FT003_FT005_tercero]"
   ]
  },
  {
   "cell_type": "code",
   "execution_count": null,
   "metadata": {},
   "outputs": [],
   "source": [
    "FT004_FT003_FT005.columns"
   ]
  },
  {
   "cell_type": "code",
   "execution_count": null,
   "metadata": {},
   "outputs": [],
   "source": [
    "# Se encuentran las observaciones que cumplen las condiciones\n",
    "df_filtered = FT004_FT003_FT005[\n",
    "    (FT004_FT003_FT005['tipo_y'].isnull())\n",
    "    ].index"
   ]
  },
  {
   "cell_type": "code",
   "execution_count": null,
   "metadata": {},
   "outputs": [],
   "source": [
    "# Se eliminan las observaciones que cumplen las condiciones anteriore\n",
    "FT004_FT003_FT005 = FT004_FT003_FT005.drop(df_filtered)"
   ]
  },
  {
   "cell_type": "code",
   "execution_count": null,
   "metadata": {
    "scrolled": true
   },
   "outputs": [],
   "source": [
    "FT004_FT003_FT005.info()"
   ]
  },
  {
   "cell_type": "code",
   "execution_count": null,
   "metadata": {},
   "outputs": [],
   "source": [
    "FT004_FT003_FT005[['DCXPmes', 'DCXCmes', 'pw', 'giro', 'no_upc', 'compra_cartera', 'CXP', 'CXC', 'causmes', 'pagomes']] = FT004_FT003_FT005[['DCXPmes', 'DCXCmes', 'pw', 'giro', 'no_upc', 'compra_cartera', 'CXP', 'CXC', 'causmes', 'pagomes']].astype(float)"
   ]
  },
  {
   "cell_type": "code",
   "execution_count": null,
   "metadata": {},
   "outputs": [],
   "source": [
    "# Se llenan con 0 los espacios vacíos de las variables de interés\n",
    "FT004_FT003_FT005[['DCXPmes', 'DCXCmes', 'pw', 'giro', 'no_upc', 'compra_cartera', 'CXP', 'CXC', 'causmes', 'pagomes']] = FT004_FT003_FT005[['DCXPmes', 'DCXCmes', 'pw', 'giro', 'no_upc', 'compra_cartera', 'CXP', 'CXC', 'causmes', 'pagomes']].fillna(value=0)"
   ]
  },
  {
   "cell_type": "code",
   "execution_count": null,
   "metadata": {},
   "outputs": [],
   "source": [
    "# Se crea la columna PAGO tomando como referencia la columna PAGO\n",
    "FT004_FT003_FT005['PAGO'] = FT004_FT003_FT005['pagomes'] "
   ]
  },
  {
   "cell_type": "code",
   "execution_count": null,
   "metadata": {},
   "outputs": [],
   "source": [
    "# Se establecen las condiciones para establecer correctamente el PAGO\n",
    "FT004_FT003_FT005.loc[(FT004_FT003_FT005['tipo_y'] == 'web'),\n",
    "       'PAGO'] = FT004_FT003_FT005['pw']\n",
    "       \n",
    "FT004_FT003_FT005.loc[(FT004_FT003_FT005['tipo_y'] == 'giro'),\n",
    "       'PAGO'] = FT004_FT003_FT005['giro']"
   ]
  },
  {
   "cell_type": "code",
   "execution_count": null,
   "metadata": {},
   "outputs": [],
   "source": [
    "webgiro = FT004_FT003_FT005['pw'] + FT004_FT003_FT005['giro']"
   ]
  },
  {
   "cell_type": "code",
   "execution_count": null,
   "metadata": {},
   "outputs": [],
   "source": [
    "FT004_FT003_FT005['webgiro'] = webgiro"
   ]
  },
  {
   "cell_type": "code",
   "execution_count": null,
   "metadata": {},
   "outputs": [],
   "source": [
    "FT004_FT003_FT005.loc[(FT004_FT003_FT005['tipo_y'] == 'webgiro'),\n",
    "       'PAGO'] = FT004_FT003_FT005['webgiro']"
   ]
  },
  {
   "cell_type": "code",
   "execution_count": null,
   "metadata": {},
   "outputs": [],
   "source": [
    "SaldoCartera = FT004_FT003_FT005['CXP'] - FT004_FT003_FT005['CXC']"
   ]
  },
  {
   "cell_type": "code",
   "execution_count": null,
   "metadata": {},
   "outputs": [],
   "source": [
    "# Se crea la columna Saldo Cartera\n",
    "FT004_FT003_FT005['SaldoCartera'] = SaldoCartera"
   ]
  },
  {
   "cell_type": "code",
   "execution_count": null,
   "metadata": {},
   "outputs": [],
   "source": [
    "A = FT004_FT003_FT005['DCXPmes'] * (-1)"
   ]
  },
  {
   "cell_type": "code",
   "execution_count": null,
   "metadata": {},
   "outputs": [],
   "source": [
    "# Se genera una columna auxiliar para cambiar el signo de DCXPmes\n",
    "FT004_FT003_FT005['A'] = A"
   ]
  },
  {
   "cell_type": "code",
   "execution_count": null,
   "metadata": {},
   "outputs": [],
   "source": [
    "# Se genera una columna auxiliar para cambiar el valor de DCXPmes\n",
    "FT004_FT003_FT005['CALC'] = 0"
   ]
  },
  {
   "cell_type": "code",
   "execution_count": null,
   "metadata": {},
   "outputs": [],
   "source": [
    "CALC = FT004_FT003_FT005['causmes'] + FT004_FT003_FT005['A'] + FT004_FT003_FT005['DCXCmes'] "
   ]
  },
  {
   "cell_type": "code",
   "execution_count": null,
   "metadata": {},
   "outputs": [],
   "source": [
    "FT004_FT003_FT005['CALC_AUX'] = CALC"
   ]
  },
  {
   "cell_type": "code",
   "execution_count": null,
   "metadata": {},
   "outputs": [],
   "source": [
    "FT004_FT003_FT005.loc[(FT004_FT003_FT005['DCXCmes'] >= 0),  \n",
    "       'CALC'] = FT004_FT003_FT005['CALC_AUX']"
   ]
  },
  {
   "cell_type": "code",
   "execution_count": null,
   "metadata": {},
   "outputs": [],
   "source": [
    "# Se genera una columna auxiliar para cambiar el valor de causmes\n",
    "FT004_FT003_FT005['B'] = 0"
   ]
  },
  {
   "cell_type": "code",
   "execution_count": null,
   "metadata": {},
   "outputs": [],
   "source": [
    "B = FT004_FT003_FT005['causmes'] + FT004_FT003_FT005['A']"
   ]
  },
  {
   "cell_type": "code",
   "execution_count": null,
   "metadata": {},
   "outputs": [],
   "source": [
    "FT004_FT003_FT005['B_AUX'] = B"
   ]
  },
  {
   "cell_type": "code",
   "execution_count": null,
   "metadata": {},
   "outputs": [],
   "source": [
    "FT004_FT003_FT005.loc[(FT004_FT003_FT005['DCXCmes'] < 0),  \n",
    "       'B'] = FT004_FT003_FT005['B_AUX'] "
   ]
  },
  {
   "cell_type": "code",
   "execution_count": null,
   "metadata": {},
   "outputs": [],
   "source": [
    "# Se reemplaza la columna CALC si se cumplen las condiciones\n",
    "FT004_FT003_FT005.loc[(FT004_FT003_FT005['DCXCmes'] < 0),  \n",
    "       'CALC'] = FT004_FT003_FT005['B']"
   ]
  },
  {
   "cell_type": "code",
   "execution_count": null,
   "metadata": {},
   "outputs": [],
   "source": [
    "# Se eliminan las columnas que no son de interés\n",
    "FT004_FT003_FT005 = FT004_FT003_FT005.drop(['A', 'B', 'var4'], axis=1)"
   ]
  },
  {
   "cell_type": "code",
   "execution_count": null,
   "metadata": {},
   "outputs": [],
   "source": [
    "# Se eliminan la bases que no se necesitan para liberar espacio en la memoria\n",
    "del [A, B, CALC, SaldoCartera, df_filtered, webgiro]"
   ]
  },
  {
   "cell_type": "code",
   "execution_count": null,
   "metadata": {},
   "outputs": [],
   "source": [
    "# FT004_FT003_FT005 = FT004_FT003_FT005_V2"
   ]
  },
  {
   "cell_type": "code",
   "execution_count": null,
   "metadata": {},
   "outputs": [],
   "source": [
    "# Se carga la base de datos prestadores.dta para su posterior pega\n",
    "#prestadores = pd.read_stata('C:/Users/Miguel Angel/Documents/Supersalud/Pagos_EPS_Proveedores/prestadores.dta')"
   ]
  },
  {
   "cell_type": "code",
   "execution_count": null,
   "metadata": {},
   "outputs": [],
   "source": [
    "# Se eliminan las columnas que no son de interés\n",
    "#prestadores = prestadores.drop(['clpr_codigo', 'clpr_nombre', 'naju_nombre', 'departamento'], axis=1)"
   ]
  },
  {
   "cell_type": "code",
   "execution_count": null,
   "metadata": {},
   "outputs": [],
   "source": [
    "#prestadores.columns"
   ]
  },
  {
   "cell_type": "code",
   "execution_count": null,
   "metadata": {},
   "outputs": [],
   "source": [
    "# Se unen las dos bases de datos para obtener la información de FT004_FT003_FT005 y prestadores\n",
    "#FT004_FT003_FT005 = pd.merge(FT004_FT003_FT005, prestadores, how='left', left_on=['nitproveedor'], right_on=['nitproveedor'])"
   ]
  },
  {
   "cell_type": "code",
   "execution_count": null,
   "metadata": {},
   "outputs": [],
   "source": [
    "# Se carga la base de datos RUES.dta para su posterior pega\n",
    "RUES = pd.read_stata('C:/Users/Miguel Angel/Documents/Supersalud/Pagos_EPS_Proveedores/RUES_V2.dta')"
   ]
  },
  {
   "cell_type": "code",
   "execution_count": null,
   "metadata": {},
   "outputs": [],
   "source": [
    "# Se unen las dos bases de datos para obtener la información de FT004_FT003_FT005 y prestadores\n",
    "FT004_FT003_FT005 = pd.merge(FT004_FT003_FT005, RUES, how='left', left_on=['nitproveedor'], right_on=['nitproveedor'])"
   ]
  },
  {
   "cell_type": "code",
   "execution_count": null,
   "metadata": {},
   "outputs": [],
   "source": [
    "del [RUES]"
   ]
  },
  {
   "cell_type": "code",
   "execution_count": null,
   "metadata": {},
   "outputs": [],
   "source": [
    "FT004_FT003_FT005.info()"
   ]
  },
  {
   "cell_type": "code",
   "execution_count": null,
   "metadata": {},
   "outputs": [],
   "source": [
    "# Para rellenar los Nombres vacios con Razón Social\n",
    "FT004_FT003_FT005.loc[FT004_FT003_FT005['nombre_prestador'].notnull(), 'razónsocialonombre'] = FT004_FT003_FT005['nombre_prestador'] "
   ]
  },
  {
   "cell_type": "code",
   "execution_count": null,
   "metadata": {
    "scrolled": true
   },
   "outputs": [],
   "source": [
    "# Se eliminan las columnas que no son de interés\n",
    "FT004_FT003_FT005 = FT004_FT003_FT005.drop(['nombre_prestador'], axis=1)"
   ]
  },
  {
   "cell_type": "code",
   "execution_count": null,
   "metadata": {},
   "outputs": [],
   "source": [
    "FT004_FT003_FT005.loc[(FT004_FT003_FT005['departamento'].isnull()), \n",
    "       'departamento'] = 'Otro'"
   ]
  },
  {
   "cell_type": "code",
   "execution_count": null,
   "metadata": {},
   "outputs": [],
   "source": [
    "# Para rellenar los Nombres vacios con NA\n",
    "#FT004_FT003_FT005.loc[FT004_FT003_FT005['razónsocialonombre'].isnull(), 'razónsocialonombre'] = 'NA'"
   ]
  },
  {
   "cell_type": "code",
   "execution_count": null,
   "metadata": {},
   "outputs": [],
   "source": [
    "# Se crean los valores previos para asignar categorias\n",
    "difSNSWeb_control = (FT004_FT003_FT005['PAGO'] - FT004_FT003_FT005['pw'])"
   ]
  },
  {
   "cell_type": "code",
   "execution_count": null,
   "metadata": {},
   "outputs": [],
   "source": [
    "difSNSadres_control = (FT004_FT003_FT005['PAGO'] - FT004_FT003_FT005['giro'] - FT004_FT003_FT005['no_upc'] - FT004_FT003_FT005['compra_cartera'])"
   ]
  },
  {
   "cell_type": "code",
   "execution_count": null,
   "metadata": {},
   "outputs": [],
   "source": [
    "difSNScalc_control = (FT004_FT003_FT005['PAGO'] - FT004_FT003_FT005['CALC'])"
   ]
  },
  {
   "cell_type": "code",
   "execution_count": null,
   "metadata": {},
   "outputs": [],
   "source": [
    "# Se crean columns de control para signar categorias\n",
    "# Se crea la columna noID tomando como referencia la columna clpr_nombre\n",
    "FT004_FT003_FT005['difSNSWeb_control'] = difSNSWeb_control\n",
    "FT004_FT003_FT005['difSNSadres_control'] = difSNSadres_control\n",
    "FT004_FT003_FT005['difSNScalc_control'] = difSNScalc_control"
   ]
  },
  {
   "cell_type": "code",
   "execution_count": null,
   "metadata": {},
   "outputs": [],
   "source": [
    "# Se limpia la clasificación por diferencias entre Pago, pw, giro y Calc\n",
    "FT004_FT003_FT005['difSNSWeb'] = 'Igual'\n",
    "FT004_FT003_FT005['difSNSadres'] = 'Igual'\n",
    "FT004_FT003_FT005['difSNScalc'] = 'Igual'\n",
    "# Condiciones\n",
    "FT004_FT003_FT005.loc[(FT004_FT003_FT005['difSNSWeb_control'] > 0), \n",
    "       'difSNSWeb'] = 'Mayor' \n",
    "\n",
    "FT004_FT003_FT005.loc[(FT004_FT003_FT005['difSNSWeb_control'] < 0), \n",
    "       'difSNSWeb'] = 'Menor' \n",
    "\n",
    "\n",
    "FT004_FT003_FT005.loc[(FT004_FT003_FT005['difSNSadres_control'] > 0), \n",
    "       'difSNSWeb'] = 'Mayor' \n",
    "\n",
    "FT004_FT003_FT005.loc[(FT004_FT003_FT005['difSNSadres_control'] < 0), \n",
    "       'difSNSWeb'] = 'Menor' \n",
    "\n",
    "\n",
    "FT004_FT003_FT005.loc[(FT004_FT003_FT005['difSNScalc_control'] > 0), \n",
    "       'difSNSWeb'] = 'Mayor' \n",
    "\n",
    "FT004_FT003_FT005.loc[(FT004_FT003_FT005['difSNScalc_control'] < 0), \n",
    "       'difSNSWeb'] = 'Menor' "
   ]
  },
  {
   "cell_type": "markdown",
   "metadata": {},
   "source": [
    "<p> Desde aquí se hace el tratamiento para la agregación por EPS </p>"
   ]
  },
  {
   "cell_type": "code",
   "execution_count": null,
   "metadata": {},
   "outputs": [],
   "source": [
    "#Debe ir un group by\n",
    "# Aqupi se guarda la base de datos agregada por las variables de interés\n",
    "FT004_FT003_FT005_EPS = FT004_FT003_FT005.groupby(['nit_eps', 'ano', 'mes', 'eps', 'tipo_y']).agg({'CXP':'sum', 'DCXPmes':'sum', 'CXC':'sum', 'DCXCmes':'sum', 'pw':'sum', 'giro':'sum', 'no_upc':'sum', 'compra_cartera':'sum', 'causmes':'sum', 'pagomes':'sum', 'PAGO':'sum', 'CALC':'sum','pagomes':'sum'}).reset_index()"
   ]
  },
  {
   "cell_type": "code",
   "execution_count": null,
   "metadata": {},
   "outputs": [],
   "source": [
    "# Se carga el archivo tratado del FT006 que fue grabado como causaprestador\n",
    "FT006 = pd.read_csv('C:/Users/Miguel Angel/Documents/Supersalud/Pagos_EPS_Proveedores/DVFICEPS_2020_2021.csv', encoding='utf-8-sig', dtype={'nit_eps':object, 'ano': object, 'mes': object})"
   ]
  },
  {
   "cell_type": "code",
   "execution_count": null,
   "metadata": {},
   "outputs": [],
   "source": [
    "# Se reemplazan los nombres de las columnas para facilitar el tratamiento\n",
    "# FT006.rename(columns={'ï»¿nit_eps': 'nit_eps'}, inplace=True)\n",
    "# Se convierte la variable en mes y año\n",
    "FT006[['nit_eps']] = FT006[['nit_eps']].astype(str)"
   ]
  },
  {
   "cell_type": "code",
   "execution_count": null,
   "metadata": {},
   "outputs": [],
   "source": [
    "# Se unen las dos bases de datos para obtener la información de FT004, FT003, FT005 y FT006 en una sola base de datos\n",
    "FT004_FT003_FT005_FT006 = pd.merge(FT004_FT003_FT005_EPS, FT006, how='outer', left_on=['nit_eps', 'ano', 'mes'], right_on=['nit_eps', 'ano', 'mes'])"
   ]
  },
  {
   "cell_type": "code",
   "execution_count": null,
   "metadata": {},
   "outputs": [],
   "source": [
    "# Se eliminan la bases que no se necesitan para liberar espacio en la memoria\n",
    "del [FT006, difSNSadres_control, difSNScalc_control, difSNSWeb_control]"
   ]
  },
  {
   "cell_type": "code",
   "execution_count": null,
   "metadata": {},
   "outputs": [],
   "source": [
    "# Se carga el archivo tratado del FT007 que fue grabado como causaprestador\n",
    "FT007 = pd.read_csv('C:/Users/Miguel Angel/Documents/Supersalud/Pagos_EPS_Proveedores/compratitulos_2020_2021.csv', encoding='utf-8-sig', dtype={'nit_eps':object, 'ano': object, 'mes': object})"
   ]
  },
  {
   "cell_type": "code",
   "execution_count": null,
   "metadata": {},
   "outputs": [],
   "source": [
    "# Eliminamos los años que no nos interesa del FT007\n",
    "# Se encuentran las observaciones que cumplen las condiciones\n",
    "df_filtered = FT007[\n",
    "    (FT007['ano'] != '2020') &\n",
    "    (FT007['ano'] != '2021')\n",
    "    ].index"
   ]
  },
  {
   "cell_type": "code",
   "execution_count": null,
   "metadata": {},
   "outputs": [],
   "source": [
    "# Se eliminan las observaciones que cumplen las condiciones anteriore\n",
    "FT007 = FT007.drop(df_filtered)"
   ]
  },
  {
   "cell_type": "code",
   "execution_count": null,
   "metadata": {},
   "outputs": [],
   "source": [
    "# Se convierte la variable en mes y año\n",
    "FT007[['ano', 'mes']] = FT007[['ano', 'mes']].astype(float).astype(int).astype(str)"
   ]
  },
  {
   "cell_type": "code",
   "execution_count": null,
   "metadata": {},
   "outputs": [],
   "source": [
    "# Se unen las dos bases de datos para obtener la información de FT004, FT003, FT005, FT006 y FT007 en una sola base de datos\n",
    "FT004_FT003_FT005_FT006_FT007 = pd.merge(FT004_FT003_FT005_FT006, FT007, how='outer', left_on=['nit_eps', 'ano', 'mes'], right_on=['nit_eps', 'ano', 'mes'])"
   ]
  },
  {
   "cell_type": "code",
   "execution_count": null,
   "metadata": {},
   "outputs": [],
   "source": [
    "# Se eliminan la bases que no se necesitan para liberar espacio en la memoria\n",
    "del [FT004_FT003_FT005_FT006, FT007, df_filtered]"
   ]
  },
  {
   "cell_type": "code",
   "execution_count": null,
   "metadata": {},
   "outputs": [],
   "source": [
    "# Se carga el archivo tratado del FT007 que fue grabado como causaprestador\n",
    "FT001 = pd.read_csv('C:/Users/Miguel Angel/Documents/Supersalud/Pagos_EPS_Proveedores/ingresosyefectivo_2020_2021.csv', encoding='utf-8-sig', dtype={'nit_eps':object, 'ano': object, 'mes': object})"
   ]
  },
  {
   "cell_type": "code",
   "execution_count": null,
   "metadata": {},
   "outputs": [],
   "source": [
    "# Se unen las dos bases de datos para obtener la información de FT004, FT003, FT005, FT006 y FT007 en una sola base de datos\n",
    "FT00143567 = pd.merge(FT004_FT003_FT005_FT006_FT007, FT001, how='outer', left_on=['nit_eps', 'ano', 'mes'], right_on=['nit_eps', 'ano', 'mes'])"
   ]
  },
  {
   "cell_type": "code",
   "execution_count": null,
   "metadata": {},
   "outputs": [],
   "source": [
    "# Se eliminan la bases que no se necesitan para liberar espacio en la memoria\n",
    "del [FT004_FT003_FT005_FT006_FT007, FT001]"
   ]
  },
  {
   "cell_type": "code",
   "execution_count": null,
   "metadata": {},
   "outputs": [],
   "source": [
    "# Se convierten a float las varaibles relevantes\n",
    "FT00143567[['PAGO', 'DCXPmes', 'DCXCmes', 'pw', 'giro', 'no_upc', 'compra_cartera', 'CXP', 'CXC', 'causmes', 'pagomes', 'CALC', 'DSaldo', 'comprames', 'DCMCOPmes', 'DEfectivo', 'EnfH', 'NA', 'DPMAXmes', 'DUPCmes', 'valorEfectivo']] = FT00143567[['PAGO', 'DCXPmes', 'DCXCmes', 'pw', 'giro', 'no_upc', 'compra_cartera', 'CXP', 'CXC', 'causmes', 'pagomes', 'CALC', 'DSaldo', 'comprames', 'DCMCOPmes', 'DEfectivo', 'EnfH', 'NA', 'DPMAXmes', 'DUPCmes', 'valorEfectivo']].astype(float)"
   ]
  },
  {
   "cell_type": "code",
   "execution_count": null,
   "metadata": {},
   "outputs": [],
   "source": [
    "# Se llenan con 0 los espacios vacíos de las variables de interés\n",
    "FT00143567[['PAGO', 'DCXPmes', 'DCXCmes', 'pw', 'giro', 'no_upc', 'compra_cartera', 'CXP', 'CXC', 'causmes', 'pagomes', 'CALC', 'DSaldo', 'comprames', 'DCMCOPmes', 'DEfectivo', 'EnfH', 'NA', 'DPMAXmes', 'DUPCmes', 'valorEfectivo']] = FT00143567[['PAGO', 'DCXPmes', 'DCXCmes', 'pw', 'giro', 'no_upc', 'compra_cartera', 'CXP', 'CXC', 'causmes', 'pagomes', 'CALC', 'DSaldo', 'comprames', 'DCMCOPmes', 'DEfectivo', 'EnfH', 'NA', 'DPMAXmes', 'DUPCmes', 'valorEfectivo']].fillna(value=0)"
   ]
  },
  {
   "cell_type": "code",
   "execution_count": null,
   "metadata": {},
   "outputs": [],
   "source": [
    "inversiones = FT00143567['DSaldo'] + FT00143567['comprames']"
   ]
  },
  {
   "cell_type": "code",
   "execution_count": null,
   "metadata": {},
   "outputs": [],
   "source": [
    "# Se crea la columna inversiones sumando DSaldomes y comprames\n",
    "FT00143567['inversiones'] = inversiones"
   ]
  },
  {
   "cell_type": "code",
   "execution_count": null,
   "metadata": {},
   "outputs": [],
   "source": [
    "# Se eliminan la bases que no se necesitan para liberar espacio en la memoria\n",
    "del [inversiones]"
   ]
  },
  {
   "cell_type": "code",
   "execution_count": null,
   "metadata": {},
   "outputs": [],
   "source": [
    "# Aqupi se guarda la base de datos agregada por ingresos y pagos de las EPS (Corresponde a la línea 692 del código en stata que guarda la información en la hoja EPS)\n",
    "FT00143567_EPS = FT00143567.groupby(['nit_eps', 'mes', 'ano', 'eps', 'tipo_y']).agg({'CXP':'sum', 'DCXPmes':'sum', 'CXC':'sum', 'DCXCmes':'sum', 'pw':'sum', 'giro':'sum', 'no_upc':'sum', 'compra_cartera':'sum', 'causmes':'sum', 'pagomes':'sum', 'PAGO':'sum', 'CALC':'sum', 'DSaldo':'sum', 'comprames':'sum', 'inversiones':'sum', 'DCMCOPmes':'sum','DEfectivo':'sum','EnfH':'sum','NA':'sum','DPMAXmes':'sum','DUPCmes':'sum', 'valorEfectivo':'sum'}).reset_index()"
   ]
  },
  {
   "cell_type": "code",
   "execution_count": null,
   "metadata": {},
   "outputs": [],
   "source": [
    "# Para guardar la base de datos lista para ser tratada en formato Excel y CSV\n",
    "FT00143567_EPS.to_excel(r'C:/Users/Miguel Angel/Documents/Supersalud/Pagos_EPS_Proveedores/EPS_analisis_2020_2021_V10.xlsx', index = False)\n",
    "# FT00143567_EPS.to_csv(r'C:/Users/Miguel Angel/Documents/Supersalud/Pagos_EPS_Proveedores/EPS_analisis_2020_2021.csv', index = False, encoding='utf-8-sig')\n",
    "# feather.write_feather(FT00143567_EPS, 'C:/Users/Miguel Angel/Documents/Supersalud/Pagos_EPS_Proveedores/EPS_analisis_2020_2021.feather') # Esta línea guarda la base de datos en binario para optimizar el tiempo de cargay el espacio"
   ]
  },
  {
   "cell_type": "code",
   "execution_count": null,
   "metadata": {},
   "outputs": [],
   "source": [
    "# Para guardar la base de datos lista para ser tratada en formato Excel y CSV\n",
    "FT00143567_EPS.to_stata(r'C:/Users/Miguel Angel/Documents/Supersalud/Pagos_EPS_Proveedores/EPS_analisis_2020_2021_V10.dta')"
   ]
  },
  {
   "cell_type": "code",
   "execution_count": null,
   "metadata": {},
   "outputs": [],
   "source": [
    "#<p> Aquí se trata la base de datos Terceros </p>"
   ]
  },
  {
   "cell_type": "code",
   "execution_count": null,
   "metadata": {},
   "outputs": [],
   "source": [
    "# Se convierten a float las varaibles relevantes\n",
    "FT004_FT003_FT005[['PAGO', 'DCXPmes', 'DCXCmes', 'pw', 'giro', 'no_upc', 'compra_cartera', 'CXP', 'CXC', 'causmes', 'pagomes', 'CALC']] = FT004_FT003_FT005[['PAGO', 'DCXPmes', 'DCXCmes', 'pw', 'giro', 'no_upc', 'compra_cartera', 'CXP', 'CXC', 'causmes', 'pagomes', 'CALC']].astype(float)"
   ]
  },
  {
   "cell_type": "code",
   "execution_count": null,
   "metadata": {},
   "outputs": [],
   "source": [
    "# Se llenan con 0 los espacios vacíos de las variables de interés\n",
    "FT004_FT003_FT005[['PAGO', 'DCXPmes', 'DCXCmes', 'pw', 'giro', 'no_upc', 'compra_cartera', 'CXP', 'CXC', 'causmes', 'pagomes', 'CALC']] = FT004_FT003_FT005[['PAGO', 'DCXPmes', 'DCXCmes', 'pw', 'giro', 'no_upc', 'compra_cartera', 'CXP', 'CXC', 'causmes', 'pagomes', 'CALC']].fillna(value=0)"
   ]
  },
  {
   "cell_type": "code",
   "execution_count": null,
   "metadata": {},
   "outputs": [],
   "source": [
    "FT004_FT003_FT005.columns"
   ]
  },
  {
   "cell_type": "code",
   "execution_count": null,
   "metadata": {},
   "outputs": [],
   "source": [
    "# Se filtra el dataframe con las observaciones que cumplen las condiciones\n",
    "FT004_FT003_FT005 = FT004_FT003_FT005[\n",
    "    (FT004_FT003_FT005['PAGO'] != 0)|\n",
    "    (FT004_FT003_FT005['DCXPmes'] != 0)|\n",
    "    (FT004_FT003_FT005['DCXCmes'] != 0)|\n",
    "    (FT004_FT003_FT005['pw'] != 0)|\n",
    "    (FT004_FT003_FT005['giro'] != 0)|\n",
    "    (FT004_FT003_FT005['no_upc'] != 0)|\n",
    "    (FT004_FT003_FT005['compra_cartera'] != 0)\n",
    "    ]"
   ]
  },
  {
   "cell_type": "code",
   "execution_count": null,
   "metadata": {},
   "outputs": [],
   "source": [
    "A = FT004_FT003_FT005['noID'] + '-' + FT004_FT003_FT005['DESC_SECCIÓN']"
   ]
  },
  {
   "cell_type": "code",
   "execution_count": null,
   "metadata": {
    "scrolled": false
   },
   "outputs": [],
   "source": [
    "# Se crea la columna auxiliar para modificar el noID\n",
    "FT004_FT003_FT005['A'] = A"
   ]
  },
  {
   "cell_type": "code",
   "execution_count": null,
   "metadata": {},
   "outputs": [],
   "source": [
    "# Se reemplaza el noID si cumple las condiciones\n",
    "FT004_FT003_FT005.loc[(FT004_FT003_FT005['noID'] == 'Otro') &\n",
    "       (FT004_FT003_FT005['DESC_SECCIÓN'].notnull()), \n",
    "       'noID'] = FT004_FT003_FT005['A']"
   ]
  },
  {
   "cell_type": "code",
   "execution_count": null,
   "metadata": {},
   "outputs": [],
   "source": [
    "# Se reemplaza el noID si cumple las condiciones\n",
    "FT004_FT003_FT005.loc[(FT004_FT003_FT005['noID'] == FT004_FT003_FT005['A']) |\n",
    "       (FT004_FT003_FT005['noID'] == 'Otro'), \n",
    "       'nitproveedor'] = \"Otros proveedores\""
   ]
  },
  {
   "cell_type": "code",
   "execution_count": null,
   "metadata": {},
   "outputs": [],
   "source": [
    "FT004_FT003_FT005.columns"
   ]
  },
  {
   "cell_type": "code",
   "execution_count": null,
   "metadata": {},
   "outputs": [],
   "source": [
    "# Se reemplaza el noID si cumple las condiciones\n",
    "FT004_FT003_FT005.loc[(FT004_FT003_FT005['noID'] == FT004_FT003_FT005['A']) |\n",
    "       (FT004_FT003_FT005['noID'] == 'Otro'), \n",
    "       'razónsocialonombre'] = FT004_FT003_FT005['noID']"
   ]
  },
  {
   "cell_type": "code",
   "execution_count": null,
   "metadata": {
    "scrolled": true
   },
   "outputs": [],
   "source": [
    "# Se transforman los datos para su correcta identificación\n",
    "FT004_FT003_FT005[['ano', 'mes']] = FT004_FT003_FT005[['ano', 'mes']].astype(int)"
   ]
  },
  {
   "cell_type": "code",
   "execution_count": null,
   "metadata": {},
   "outputs": [],
   "source": [
    "# Se encuentran las observaciones que cumplen las condiciones para no tener en cuenta observaciones posteriores a las de los meses de interés\n",
    "df_filtered = FT004_FT003_FT005[\n",
    "    (FT004_FT003_FT005['ano'] == 2021) & (FT004_FT003_FT005['mes'] == 5) |\n",
    "    (FT004_FT003_FT005['ano'] == 2021) & (FT004_FT003_FT005['mes'] == 6) |\n",
    "    (FT004_FT003_FT005['ano'] == 2021) & (FT004_FT003_FT005['mes'] == 7) |\n",
    "    (FT004_FT003_FT005['ano'] == 2021) & (FT004_FT003_FT005['mes'] == 8) |\n",
    "    (FT004_FT003_FT005['ano'] == 2021) & (FT004_FT003_FT005['mes'] == 9) |\n",
    "    (FT004_FT003_FT005['ano'] == 2021) & (FT004_FT003_FT005['mes'] == 10) |\n",
    "    (FT004_FT003_FT005['ano'] == 2021) & (FT004_FT003_FT005['mes'] == 11) |\n",
    "    (FT004_FT003_FT005['ano'] == 2021) & (FT004_FT003_FT005['mes'] == 12)\n",
    "    ].index"
   ]
  },
  {
   "cell_type": "code",
   "execution_count": null,
   "metadata": {},
   "outputs": [],
   "source": [
    "# Se eliminan las observaciones que cumplen las condiciones anteriore\n",
    "FT004_FT003_FT005 = FT004_FT003_FT005.drop(df_filtered)"
   ]
  },
  {
   "cell_type": "code",
   "execution_count": null,
   "metadata": {},
   "outputs": [],
   "source": [
    "FT004_FT003_FT005[['nit_eps', 'nitproveedor', 'noID', 'departamento', 'eps', 'tipo_y', 'razónsocialonombre']] = FT004_FT003_FT005[['nit_eps', 'nitproveedor', 'noID', 'departamento', 'eps', 'tipo_y', 'razónsocialonombre']].astype(str)"
   ]
  },
  {
   "cell_type": "code",
   "execution_count": null,
   "metadata": {},
   "outputs": [],
   "source": [
    "# Para hacer la suma de CXC por NIT EPS, tipo de proveedor, NIT proveedor, Mes y Año\n",
    "FT004_FT003_FT005_tercero = FT004_FT003_FT005.groupby(['nit_eps', 'nitproveedor', 'noID', 'departamento', 'eps', 'tipo_y', 'razónsocialonombre', 'mes', 'ano']).agg({'CXP':'sum', 'DCXPmes':'sum', 'CXC':'sum', 'DCXCmes':'sum', 'pw':'sum', 'giro':'sum', 'no_upc':'sum', 'compra_cartera':'sum', 'causmes':'sum', 'pagomes':'sum', 'PAGO':'sum', 'CALC':'sum'}).reset_index()"
   ]
  },
  {
   "cell_type": "code",
   "execution_count": null,
   "metadata": {},
   "outputs": [],
   "source": [
    "FT004_FT003_FT005_tercero[['nit_eps', 'nitproveedor', 'noID', 'departamento', 'eps', 'tipo_y', 'razónsocialonombre']] = FT004_FT003_FT005_tercero[['nit_eps', 'nitproveedor', 'noID', 'departamento', 'eps', 'tipo_y', 'razónsocialonombre']].astype(str)"
   ]
  },
  {
   "cell_type": "code",
   "execution_count": null,
   "metadata": {
    "scrolled": true
   },
   "outputs": [],
   "source": [
    "FT004_FT003_FT005.ano.value_counts()"
   ]
  },
  {
   "cell_type": "code",
   "execution_count": null,
   "metadata": {},
   "outputs": [],
   "source": [
    "# Se crean los valores previos para asignar categorias\n",
    "difSNSWeb_control = (FT004_FT003_FT005_tercero['PAGO'] - FT004_FT003_FT005_tercero['pw'])\n",
    "difSNSadres_control = (FT004_FT003_FT005_tercero['PAGO'] - FT004_FT003_FT005_tercero['giro'] - FT004_FT003_FT005_tercero['no_upc'] - FT004_FT003_FT005_tercero['compra_cartera'])\n",
    "difSNScalc_control = (FT004_FT003_FT005_tercero['PAGO'] - FT004_FT003_FT005_tercero['CALC'])"
   ]
  },
  {
   "cell_type": "code",
   "execution_count": null,
   "metadata": {},
   "outputs": [],
   "source": [
    "# Se crean columns de control para signar categorias\n",
    "# Se crea la columna noID tomando como referencia la columna clpr_nombre\n",
    "FT004_FT003_FT005_tercero['difSNSWeb_control'] = difSNSWeb_control\n",
    "FT004_FT003_FT005_tercero['difSNSadres_control'] = difSNSadres_control\n",
    "FT004_FT003_FT005_tercero['difSNScalc_control'] = difSNScalc_control"
   ]
  },
  {
   "cell_type": "code",
   "execution_count": null,
   "metadata": {},
   "outputs": [],
   "source": [
    "# Se limpia la clasificación por diferencias entre Pago, pw, giro y Calc\n",
    "FT004_FT003_FT005_tercero['difSNSWeb'] = 'Igual'\n",
    "FT004_FT003_FT005_tercero['difSNSadres'] = 'Igual'\n",
    "FT004_FT003_FT005_tercero['difSNScalc'] = 'Igual'\n",
    "# Condiciones\n",
    "FT004_FT003_FT005_tercero.loc[(FT004_FT003_FT005_tercero['difSNSWeb_control'] > 0), \n",
    "       'difSNSWeb'] = 'Mayor' \n",
    "\n",
    "FT004_FT003_FT005_tercero.loc[(FT004_FT003_FT005_tercero['difSNSWeb_control'] < 0), \n",
    "       'difSNSWeb'] = 'Menor' \n",
    "\n",
    "\n",
    "FT004_FT003_FT005_tercero.loc[(FT004_FT003_FT005_tercero['difSNSadres_control'] > 0), \n",
    "       'difSNSWeb'] = 'Mayor' \n",
    "\n",
    "FT004_FT003_FT005_tercero.loc[(FT004_FT003_FT005_tercero['difSNSadres_control'] < 0), \n",
    "       'difSNSWeb'] = 'Menor' \n",
    "\n",
    "\n",
    "FT004_FT003_FT005_tercero.loc[(FT004_FT003_FT005_tercero['difSNScalc_control'] > 0), \n",
    "       'difSNSWeb'] = 'Mayor' \n",
    "\n",
    "FT004_FT003_FT005_tercero.loc[(FT004_FT003_FT005_tercero['difSNScalc_control'] < 0), \n",
    "       'difSNSWeb'] = 'Menor' "
   ]
  },
  {
   "cell_type": "code",
   "execution_count": null,
   "metadata": {
    "scrolled": true
   },
   "outputs": [],
   "source": [
    "# Para guardar la base de datos lista para ser tratada en formato Excel y CSV\n",
    "FT004_FT003_FT005_tercero.to_excel(r'C:/Users/Miguel Angel/Documents/Supersalud/Pagos_EPS_Proveedores/Tercero_analisis_2020_2021_V10.xlsx', index = False)\n",
    "# FT004_FT003_FT005_tercero.to_csv(r'C:/Users/Miguel Angel/Documents/Supersalud/Pagos_EPS_Proveedores/Tercero_analisis_2020_2021.csv', index = False, encoding='utf-8-sig')\n",
    "# feather.write_feather(FT004_FT003_FT005_tercero, 'C:/Users/Miguel Angel/Documents/Supersalud/Pagos_EPS_Proveedores/Tercero_analisis_2020_2021.feather') # Esta línea guarda la base de datos en binario para optimizar el tiempo de cargay el espacio"
   ]
  },
  {
   "cell_type": "code",
   "execution_count": null,
   "metadata": {},
   "outputs": [],
   "source": [
    "# Para guardar la base de datos lista para ser tratada en formato Excel y CSV\n",
    "FT004_FT003_FT005_tercero.to_stata(r'C:/Users/Miguel Angel/Documents/Supersalud/Pagos_EPS_Proveedores/Tercero_analisis_2020_2021_V10.dta')"
   ]
  },
  {
   "cell_type": "code",
   "execution_count": null,
   "metadata": {},
   "outputs": [],
   "source": [
    "# Se eliminan la bases que no se necesitan para liberar espacio en la memoria\n",
    "del [A, FT00143567, FT00143567_EPS, FT004_FT003_FT005 , FT004_FT003_FT005_EPS, FT004_FT003_FT005_tercero, df_filtered, difSNSWeb_control, difSNSadres_control ,difSNScalc_control]"
   ]
  },
  {
   "cell_type": "code",
   "execution_count": null,
   "metadata": {},
   "outputs": [],
   "source": []
  }
 ],
 "metadata": {
  "kernelspec": {
   "display_name": "Python 3",
   "language": "python",
   "name": "python3"
  },
  "language_info": {
   "codemirror_mode": {
    "name": "ipython",
    "version": 3
   },
   "file_extension": ".py",
   "mimetype": "text/x-python",
   "name": "python",
   "nbconvert_exporter": "python",
   "pygments_lexer": "ipython3",
   "version": "3.8.5"
  }
 },
 "nbformat": 4,
 "nbformat_minor": 4
}