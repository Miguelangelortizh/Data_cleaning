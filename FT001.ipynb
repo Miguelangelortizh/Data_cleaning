{
 "cells": [
  {
   "cell_type": "markdown",
   "metadata": {},
   "source": [
    "<h2>FT001 - Extracción ingresos y pasivos </h2>\r\n",
    "<p> En este apartado se trata la base de datos FT001 </p>"
   ]
  },
  {
   "cell_type": "code",
   "execution_count": 6,
   "metadata": {},
   "outputs": [],
   "source": [
    "#Cargamos los paquetes que vamos a necesitar\n",
    "import pandas as pd\n",
    "import numpy as np\n",
    "import pyreadstat\n",
    "pd.pandas.set_option('display.max_columns', None)"
   ]
  },
  {
   "cell_type": "code",
   "execution_count": 7,
   "metadata": {},
   "outputs": [
    {
     "name": "stderr",
     "output_type": "stream",
     "text": [
      "C:\\ProgramData\\Anaconda3\\lib\\site-packages\\pandas\\io\\stata.py:1433: UnicodeWarning: \n",
      "One or more strings in the dta file could not be decoded using utf-8, and\n",
      "so the fallback encoding of latin-1 is being used.  This can happen when a file\n",
      "has been incorrectly encoded by Stata or some other software. You should verify\n",
      "the string values returned are correct.\n",
      "  warnings.warn(msg, UnicodeWarning)\n"
     ]
    }
   ],
   "source": [
    "# Se carga el FT005 completo desde el archivo .dta\n",
    "FT001_2020_2021 = pd.read_stata('C:/Users/Miguel Angel/Documents/Supersalud/Pagos_EPS_Proveedores/Informe_Pagos/FT001 20202021.dta')"
   ]
  },
  {
   "cell_type": "code",
   "execution_count": 9,
   "metadata": {},
   "outputs": [
    {
     "name": "stdout",
     "output_type": "stream",
     "text": [
      "<class 'pandas.core.frame.DataFrame'>\n",
      "Int64Index: 294150 entries, 0 to 294149\n",
      "Data columns (total 7 columns):\n",
      " #   Column          Non-Null Count   Dtype  \n",
      "---  ------          --------------   -----  \n",
      " 0   Nit             294150 non-null  object \n",
      " 1   RazonSocial     294150 non-null  object \n",
      " 2   Año             294150 non-null  object \n",
      " 3   Periodo         294150 non-null  int32  \n",
      " 4   codigoConcepto  294150 non-null  float64\n",
      " 5   claseConcepto   294150 non-null  int8   \n",
      " 6   valor           294150 non-null  float64\n",
      "dtypes: float64(2), int32(1), int8(1), object(3)\n",
      "memory usage: 14.9+ MB\n"
     ]
    }
   ],
   "source": [
    "FT001_2020_2021.info()"
   ]
  },
  {
   "cell_type": "code",
   "execution_count": 8,
   "metadata": {},
   "outputs": [
    {
     "name": "stderr",
     "output_type": "stream",
     "text": [
      "C:\\ProgramData\\Anaconda3\\lib\\site-packages\\pandas\\io\\stata.py:1433: UnicodeWarning: \n",
      "One or more strings in the dta file could not be decoded using utf-8, and\n",
      "so the fallback encoding of latin-1 is being used.  This can happen when a file\n",
      "has been incorrectly encoded by Stata or some other software. You should verify\n",
      "the string values returned are correct.\n",
      "  warnings.warn(msg, UnicodeWarning)\n"
     ]
    }
   ],
   "source": [
    "# Se carga el FT004 para diciembre de 2019 desde el archivo .dta\n",
    "FT001_2019 = pd.read_stata('C:/Users/Miguel Angel/Documents/Supersalud/Pagos_EPS_Proveedores/Informe_Pagos/FT001 122019.dta')"
   ]
  },
  {
   "cell_type": "code",
   "execution_count": null,
   "metadata": {},
   "outputs": [],
   "source": [
    "# Se concatenan la bases de datos \n",
    "frames = [FT001_2020_2021, FT001_2019]\n",
    "FT001 = pd.concat(frames, ignore_index=True)"
   ]
  },
  {
   "cell_type": "code",
   "execution_count": null,
   "metadata": {},
   "outputs": [],
   "source": [
    "# Se eliminan la bases que no se necesitan para liberar espacio en la memoria\n",
    "del [FT001_2020_2021, FT001_2019, frames]"
   ]
  },
  {
   "cell_type": "code",
   "execution_count": null,
   "metadata": {},
   "outputs": [],
   "source": [
    "# Se reemplazan los nombres de las columnas para facilitar el tratamiento\n",
    "FT001.rename(columns={'Nit': 'nit_eps', 'Año': 'ano', 'Periodo': 'mes', 'codigoConcepto': 'codigo','claseConcepto': 'clase'}, inplace=True)"
   ]
  },
  {
   "cell_type": "code",
   "execution_count": null,
   "metadata": {},
   "outputs": [],
   "source": [
    "# Para hacer la suma de Valor por NIT EPS, Código del concepto, Mes y Año\n",
    "FT001 = FT001.groupby(['nit_eps', 'codigo', 'ano', 'mes']).agg({'valor': 'sum'}).reset_index()"
   ]
  },
  {
   "cell_type": "code",
   "execution_count": null,
   "metadata": {},
   "outputs": [],
   "source": [
    "#Se transforman las variables a STR para mejorar su manipulación\n",
    "FT001[['codigo']] = FT001[['codigo']].astype(float).astype(int).astype(str)"
   ]
  },
  {
   "cell_type": "code",
   "execution_count": null,
   "metadata": {},
   "outputs": [],
   "source": [
    "# # Se genera una nueva columna extrayendo el primer caracter del Código concepto\n",
    "# FT001['d1'] = FT001['codigo'].str[:1]\n",
    "# FT001['d2'] = FT001['codigo'].str[:2]\n",
    "# FT001['d4'] = FT001['codigo'].str[:4]\n",
    "# FT001['d6'] = FT001['codigo'].str[:6]\n",
    "# FT001['d8'] = FT001['codigo'].str[:8]\n",
    "# FT001['d10'] = FT001['codigo'].str[:10]"
   ]
  },
  {
   "cell_type": "code",
   "execution_count": null,
   "metadata": {},
   "outputs": [],
   "source": [
    "# # Se seleccionan las observaciones que cumplen las condiciones\n",
    "# FT001 = FT001[\n",
    "#     (FT001['d6'] == '110101') |\n",
    "#     (FT001['d6'] == '110102') |\n",
    "#     (FT001['d6'] == '110103') |\n",
    "#     (FT001['d6'] == '110109') |\n",
    "#     (FT001['d6'] == '410201') |\n",
    "#     (FT001['d6'] == '410202') |\n",
    "#     (FT001['d6'] == '410203') |\n",
    "#     (FT001['d6'] == '410207') |\n",
    "#     (FT001['d6'] == '410208') |\n",
    "#     (FT001['d6'] == '410209') |\n",
    "#     (FT001['d6'] == '410227') |\n",
    "#     (FT001['d6'] == '410230') |\n",
    "#     (FT001['d4'] == '1105') | # OJO CON ESTA LÍNEA PUES ES DIFERENTE\n",
    "#     (FT001['d6'] == '431101') |\n",
    "#     (FT001['d6'] == '431102') |\n",
    "#     (FT001['d6'] == '431103') |\n",
    "#     (FT001['d6'] == '431104') |\n",
    "#     (FT001['d6'] == '431106') |\n",
    "#     (FT001['d6'] == '431107') |\n",
    "#     (FT001['d6'] == '431120') |\n",
    "#     (FT001['d6'] == '431122') \n",
    "#     ]"
   ]
  },
  {
   "cell_type": "code",
   "execution_count": null,
   "metadata": {},
   "outputs": [],
   "source": [
    "# Se genera una nueva columna con la cuenta del numero de componentes que tiene el ID nitproveedor\n",
    "FT001['Lcod'] = FT001.codigo.str.len()"
   ]
  },
  {
   "cell_type": "code",
   "execution_count": null,
   "metadata": {},
   "outputs": [],
   "source": [
    "# # Se seleccionan las observaciones que cumplen las condiciones\n",
    "# df_filtered = FT001[\n",
    "#     (FT001['Lcod'] == 8) \n",
    "#     ].index"
   ]
  },
  {
   "cell_type": "code",
   "execution_count": null,
   "metadata": {},
   "outputs": [],
   "source": [
    "# # Se eliminan las observaciones que cumplen las condiciones anteriores\n",
    "# FT001 = FT001.drop(df_filtered)"
   ]
  },
  {
   "cell_type": "code",
   "execution_count": null,
   "metadata": {},
   "outputs": [],
   "source": [
    "# # Se seleccionan las observaciones que cumplen las condiciones\n",
    "# df_filtered = FT001[\n",
    "#     (FT001['Lcod'] == 6) &\n",
    "#     (FT001['d4'] == '1105') \n",
    "#     ].index"
   ]
  },
  {
   "cell_type": "code",
   "execution_count": null,
   "metadata": {},
   "outputs": [],
   "source": [
    "# # Se eliminan las observaciones que cumplen las condiciones anteriores\n",
    "# FT001 = FT001.drop(df_filtered)"
   ]
  },
  {
   "cell_type": "code",
   "execution_count": null,
   "metadata": {},
   "outputs": [],
   "source": [
    "# Se limpia la clasificación por Tipo de deudor\n",
    "FT001['tipo']= 'NA' # Se crea la columna con categoria UPC como base\n",
    "\n",
    "# Se establecen las condiciones para establecer correctamente el UPC\n",
    "\n",
    "FT001.loc[(FT001['codigo'] == \"410201\") |\n",
    "       (FT001['codigo'] == \"410202\") |\n",
    "       (FT001['codigo'] == \"410203\") |\n",
    "       (FT001['codigo'] == \"410207\") |\n",
    "       (FT001['codigo'] == \"431101\") |\n",
    "       (FT001['codigo'] == \"431102\") |\n",
    "       (FT001['codigo'] == \"431106\") |\n",
    "       (FT001['codigo'] == \"431122\") |\n",
    "       (FT001['codigo'] == \"431120\"),  \n",
    "       'tipo'] = 'UPC' \n",
    "\n",
    "FT001.loc[(FT001['codigo'] == '431103') | # | Regimen contributivo\n",
    "       (FT001['codigo'] == \"431104\") | #Regimen contributivo\n",
    "       (FT001['codigo'] == \"431107\") | #Regimen ubsidiado publico\n",
    "       (FT001['codigo'] == \"41020801\") | #410208-41020801\n",
    "       (FT001['codigo'] == \"410209\"),  \n",
    "       'tipo'] = 'CMCOP' \n",
    "\n",
    "FT001.loc[(FT001['codigo'] == '410227'),  \n",
    "       'tipo'] = 'PMAX' \n",
    "\n",
    "FT001.loc[(FT001['codigo'] == '410230'),  \n",
    "       'tipo'] = 'EnfH'\n",
    "\n",
    "FT001.loc[(FT001['codigo'] == '1105') |\n",
    "       (FT001['codigo'] == \"110101\") |\n",
    "       (FT001['codigo'] == \"110102\") |\n",
    "       (FT001['codigo'] == \"110103\") |\n",
    "       (FT001['codigo'] == \"110109\"),  \n",
    "       'tipo'] = 'Efectivo' "
   ]
  },
  {
   "cell_type": "code",
   "execution_count": null,
   "metadata": {},
   "outputs": [],
   "source": [
    "# Para hacer la suma de Valor por NIT EPS, tipo, Mes y Año\n",
    "FT001 = FT001.groupby(['nit_eps', 'tipo', 'mes', 'ano']).agg({'valor': 'sum'}).reset_index()"
   ]
  },
  {
   "cell_type": "code",
   "execution_count": null,
   "metadata": {},
   "outputs": [],
   "source": [
    "# Se crea el rango de meses necesarios en cada mes\n",
    "fecha_ideal=range(1, 12 + 1)\n",
    "# Se rellena con ceros la información para los meses faltantes\n",
    "FT001 = FT001.set_index('mes').groupby(['nit_eps', 'tipo', 'ano']).apply(lambda x: x.reindex(index=fecha_ideal, fill_value=0)).drop(['nit_eps', 'tipo', 'ano'], 1)"
   ]
  },
  {
   "cell_type": "code",
   "execution_count": null,
   "metadata": {},
   "outputs": [],
   "source": [
    "# Se desagrupa la información\n",
    "FT001 = FT001.reset_index()"
   ]
  },
  {
   "cell_type": "code",
   "execution_count": null,
   "metadata": {},
   "outputs": [],
   "source": [
    "#Se transforman las variables a INT para mejorar su manipulación\n",
    "FT001[['ano']] = FT001[['ano']].astype(float).astype(int)"
   ]
  },
  {
   "cell_type": "code",
   "execution_count": null,
   "metadata": {},
   "outputs": [],
   "source": [
    "# Se encuentran las observaciones que cumplen las condiciones\n",
    "df_filtered = FT001[\n",
    "    (FT001['ano'] == 2019) & (FT001['mes'] == 1) |\n",
    "    (FT001['ano'] == 2019) & (FT001['mes'] == 2) |\n",
    "    (FT001['ano'] == 2019) & (FT001['mes'] == 3) |\n",
    "    (FT001['ano'] == 2019) & (FT001['mes'] == 4) |\n",
    "    (FT001['ano'] == 2019) & (FT001['mes'] == 5) |\n",
    "    (FT001['ano'] == 2019) & (FT001['mes'] == 6) |\n",
    "    (FT001['ano'] == 2019) & (FT001['mes'] == 7) |\n",
    "    (FT001['ano'] == 2019) & (FT001['mes'] == 8) |\n",
    "    (FT001['ano'] == 2019) & (FT001['mes'] == 9) |\n",
    "    (FT001['ano'] == 2019) & (FT001['mes'] == 10) |\n",
    "    (FT001['ano'] == 2019) & (FT001['mes'] == 11)\n",
    "    ].index"
   ]
  },
  {
   "cell_type": "code",
   "execution_count": null,
   "metadata": {},
   "outputs": [],
   "source": [
    "# Se eliminan las observaciones que cumplen las condiciones anteriore\n",
    "FT001 = FT001.drop(df_filtered)"
   ]
  },
  {
   "cell_type": "code",
   "execution_count": null,
   "metadata": {},
   "outputs": [],
   "source": [
    "FT001 = FT001.set_index(['nit_eps', 'tipo', 'mes', 'ano'])"
   ]
  },
  {
   "cell_type": "code",
   "execution_count": null,
   "metadata": {},
   "outputs": [],
   "source": [
    "# Se calcula la diferencia mensual para conocer el valor mensual de cada cuenta ya que por defecto vienen agregadas\n",
    "FT001_dif = FT001.diff().fillna(0)"
   ]
  },
  {
   "cell_type": "code",
   "execution_count": null,
   "metadata": {},
   "outputs": [],
   "source": [
    "# Se desagrupa la informacion\n",
    "FT001_dif = FT001_dif.reset_index()\n",
    "FT001 = FT001.reset_index()"
   ]
  },
  {
   "cell_type": "code",
   "execution_count": null,
   "metadata": {},
   "outputs": [],
   "source": [
    "# Se reemplazan los valores para los meses de enero\n",
    "FT001_dif.loc[FT001_dif['mes'] == 1] = FT001"
   ]
  },
  {
   "cell_type": "code",
   "execution_count": null,
   "metadata": {},
   "outputs": [],
   "source": [
    "# Se reemplazan los nombres de las columnas para facilitar el tratamiento\n",
    "FT001_dif.rename(columns={'valor': 'Dvalormes'}, inplace=True)"
   ]
  },
  {
   "cell_type": "code",
   "execution_count": null,
   "metadata": {},
   "outputs": [],
   "source": [
    "# Se encuentran las observaciones que cumplen las condiciones\n",
    "df_filtered = FT001_dif[\n",
    "    (FT001_dif['ano'] == 2019)\n",
    "    ].index"
   ]
  },
  {
   "cell_type": "code",
   "execution_count": null,
   "metadata": {},
   "outputs": [],
   "source": [
    "# Se eliminan las observaciones que cumplen las condiciones anteriore\n",
    "FT001_dif = FT001_dif.drop(df_filtered)"
   ]
  },
  {
   "cell_type": "code",
   "execution_count": null,
   "metadata": {},
   "outputs": [],
   "source": [
    "# Para convertir el tipo como columna\n",
    "FT001_dif = FT001_dif.pivot(index=['nit_eps', 'mes', 'ano'], columns='tipo', values='Dvalormes').fillna(0).reset_index()"
   ]
  },
  {
   "cell_type": "code",
   "execution_count": null,
   "metadata": {},
   "outputs": [],
   "source": [
    "# Para convertir el tipo como colum\n",
    "FT001 = FT001.pivot(index=['nit_eps', 'mes', 'ano'], columns='tipo', values='valor').fillna(0).reset_index()"
   ]
  },
  {
   "cell_type": "code",
   "execution_count": null,
   "metadata": {},
   "outputs": [],
   "source": [
    "# Se eliminan las columnas que no son de interés\n",
    "FT001 = FT001.drop(['CMCOP', 'EnfH', 'NA', 'PMAX', 'UPC'], axis=1)"
   ]
  },
  {
   "cell_type": "code",
   "execution_count": null,
   "metadata": {},
   "outputs": [],
   "source": [
    "# Se reemplazan los nombres de las columnas para facilitar el tratamiento\n",
    "FT001.rename(columns={'Efectivo': 'valorEfectivo'}, inplace=True)"
   ]
  },
  {
   "cell_type": "code",
   "execution_count": null,
   "metadata": {},
   "outputs": [],
   "source": [
    "# Se unen las dos bases de datos para obtener la información en conjunto de la diferencia y el valor de Efectivo\n",
    "FT001_dif = pd.merge(FT001_dif, FT001, how='left', left_on=['nit_eps', 'ano', 'mes'], right_on=['nit_eps', 'ano', 'mes'])"
   ]
  },
  {
   "cell_type": "code",
   "execution_count": null,
   "metadata": {},
   "outputs": [],
   "source": [
    "# Se reemplazan los nombres de las columnas para facilitar el tratamiento\n",
    "FT001_dif.rename(columns={'Efectivo': 'DEfectivo', 'CMCOP': 'DCMCOPmes', 'PMAX': 'DPMAXmes', 'UPC': 'DUPCmes'}, inplace=True)"
   ]
  },
  {
   "cell_type": "code",
   "execution_count": null,
   "metadata": {},
   "outputs": [],
   "source": [
    "# Para guardar la base de datos lista para ser tratada en formato Excel y CSV\n",
    "FT001_dif.to_excel(r'C:/Users/Miguel Angel/Documents/Supersalud/Pagos_EPS_Proveedores/ingresosyefectivo_2020_2021.xlsx', index = False)\n",
    "FT001_dif.to_csv(r'C:/Users/Miguel Angel/Documents/Supersalud/Pagos_EPS_Proveedores/ingresosyefectivo_2020_2021.csv', index = False, encoding='utf-8-sig')"
   ]
  },
  {
   "cell_type": "code",
   "execution_count": null,
   "metadata": {},
   "outputs": [],
   "source": [
    "# Se eliminan la bases que no se necesitan para liberar espacio en la memoria\n",
    "del [FT001_dif, FT001, df_filtered, fecha_ideal]"
   ]
  }
 ],
 "metadata": {
  "interpreter": {
   "hash": "b3ba2566441a7c06988d0923437866b63cedc61552a5af99d1f4fb67d367b25f"
  },
  "kernelspec": {
   "display_name": "Python 3.8.5 64-bit ('base': conda)",
   "name": "python3"
  },
  "language_info": {
   "codemirror_mode": {
    "name": "ipython",
    "version": 3
   },
   "file_extension": ".py",
   "mimetype": "text/x-python",
   "name": "python",
   "nbconvert_exporter": "python",
   "pygments_lexer": "ipython3",
   "version": "3.8.5"
  }
 },
 "nbformat": 4,
 "nbformat_minor": 4
}